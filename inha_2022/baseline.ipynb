{
 "cells": [
  {
   "cell_type": "code",
   "execution_count": 2,
   "id": "aae1bd5f",
   "metadata": {},
   "outputs": [
    {
     "name": "stdout",
     "output_type": "stream",
     "text": [
      "Using Pytorch version :  1.10.2  Device :  cuda\n"
     ]
    }
   ],
   "source": [
    "import torch\n",
    "import matplotlib.pyplot as plt\n",
    "import numpy as np\n",
    "import torch\n",
    "import torch.nn as nn # 인공 신경망 모델들 모아놓은 모듈\n",
    "import torch.nn.functional as F #그중 자주 쓰이는것들을 F로\n",
    "from torch.utils.data import Dataset, DataLoader\n",
    "import pandas as pd\n",
    "import os\n",
    "from glob import glob\n",
    "import sys\n",
    "\n",
    "\n",
    "if torch.cuda.is_available():\n",
    "    DEVICE = torch.device('cuda')\n",
    "else:\n",
    "    DEVICE = torch.device('cpu')\n",
    "#DEVICE = torch.device('cpu')\n",
    "print('Using Pytorch version : ',torch.__version__,' Device : ',DEVICE)"
   ]
  },
  {
   "cell_type": "markdown",
   "id": "79af139e",
   "metadata": {},
   "source": [
    "# 데이터 전처리\n",
    "\n",
    "```\n",
    "\n",
    "TurbID - 발전기 ID\n",
    "\n",
    "Day - 날짜\n",
    "\n",
    "Tmstamp - 시간\n",
    "\n",
    "Wspd - 풍속\n",
    "\n",
    "Wdir - 터빈이 바라보는 각도와 실제 바람 방향 각도 차이\n",
    "\n",
    "Etmp - 외부 온도\n",
    "\n",
    "Itmp - 터빈 내부 온도\n",
    "\n",
    "Ndir - 터빈이 바라보는 방향 각도\n",
    "\n",
    "Pab - 터빈 당 3개의 날이 있으며 각각의 각도가 다름\n",
    "\n",
    "Prtv - 무효전력 : 에너지원을 필요로 하지 않는 전력\n",
    "\n",
    "Patv - 유효전력 : 실제로 터빈을 돌리는 일을 하는 전력\n",
    "\n",
    "````\n",
    "\n",
    "\n",
    "베이스 라인 제공 전처리 방법"
   ]
  },
  {
   "cell_type": "code",
   "execution_count": 3,
   "id": "5c000a23",
   "metadata": {},
   "outputs": [],
   "source": [
    "train_data = pd.read_csv(\"data/train_data.csv\")\n",
    "sample_submission = pd.read_csv(\"data/sample_submission.csv\")"
   ]
  },
  {
   "cell_type": "code",
   "execution_count": 4,
   "id": "0839be7b",
   "metadata": {},
   "outputs": [
    {
     "data": {
      "text/plain": [
       "TurbID         0\n",
       "Day            0\n",
       "Tmstamp        0\n",
       "Wspd       45587\n",
       "Wdir       45587\n",
       "Etmp       45587\n",
       "Itmp       45587\n",
       "Ndir       45587\n",
       "Pab1       45587\n",
       "Pab2       45587\n",
       "Pab3       45587\n",
       "Prtv       45587\n",
       "Patv       45587\n",
       "dtype: int64"
      ]
     },
     "execution_count": 4,
     "metadata": {},
     "output_type": "execute_result"
    }
   ],
   "source": [
    "# train_data의 결측값 확인\n",
    "train_data.isnull().sum()"
   ]
  },
  {
   "cell_type": "code",
   "execution_count": null,
   "id": "6a3dbb3a",
   "metadata": {},
   "outputs": [],
   "source": [
    "# method : 결측값을 변경할 방식입니다. bfill로 할경우 결측값을 바로 아래 값과 동일하게 변경합니다.\n",
    "# 결측값 처리\n",
    "train_data = train_data.fillna(method = 'bfill')\n",
    "\n",
    "print(train_data.isnull().sum())"
   ]
  },
  {
   "cell_type": "markdown",
   "id": "e1111f49",
   "metadata": {},
   "source": [
    "# 데이터셋"
   ]
  },
  {
   "cell_type": "code",
   "execution_count": null,
   "id": "91f71a1b",
   "metadata": {},
   "outputs": [],
   "source": [
    "# 한 Turb당 194 line\n",
    "# label은 2일.로 나눠야함.\n",
    "\n",
    "def make_train_data(data):\n",
    "    train_x, train_y = [], []\n",
    "    for i in tqdm(sorted(pd.unique(data[\"TurbID\"]))):\n",
    "        tmp_data = data[data[\"TurbID\"] == i]\n",
    "        for j in range(1, 167): # 1~195 (1~194까지?)\n",
    "            \n",
    "            # train data ==> 5일 단위\n",
    "            # label data ==> 2일 단위\n",
    "            day_list = [x for x in range(j, j+ 5)]\n",
    "            label_day_list = [y for y in range(j+5, j + 7)]\n",
    "            \n",
    "            train_tmp = tmp_data[tmp_data[\"Day\"].isin(day_list)]\n",
    "            label_tmp = tmp_data[tmp_data[\"Day\"].isin(label_day_list)][\"Patv\"]\n",
    "            \n",
    "            # feature 선택 및 제거\n",
    "            train_tmp = train_tmp.drop([\"TurbID\", \"Day\"], axis = 1)\n",
    "            \n",
    "            train_x.append(np.array(train_tmp))\n",
    "            train_y.append(np.array(label_tmp))\n",
    "            \n",
    "    return train_x, train_y\n",
    "\n",
    "def make_valid_data(data):\n",
    "    valid_x, valid_y = [], []\n",
    "    for i in tqdm(sorted(pd.unique(data[\"TurbID\"]))):\n",
    "        tmp_data = data[data[\"TurbID\"] == i]\n",
    "        for j in range(167, 195): # 1~195 (1~194까지?)\n",
    "            \n",
    "            # train data ==> 5일 단위\n",
    "            # label data ==> 2일 단위\n",
    "            day_list = [x for x in range(j, j+ 5)]\n",
    "            label_day_list = [y for y in range(j+5, j + 7)]\n",
    "            \n",
    "            valid_tmp = tmp_data[tmp_data[\"Day\"].isin(day_list)]\n",
    "            label_tmp = tmp_data[tmp_data[\"Day\"].isin(label_day_list)][\"Patv\"]\n",
    "            \n",
    "            # feature 선택 및 제거\n",
    "            valid_tmp = valid_tmp.drop([\"TurbID\", \"Day\"], axis = 1)\n",
    "            \n",
    "            valid_x.append(np.array(valid_tmp))\n",
    "            valid_y.append(np.array(label_tmp))\n",
    "            \n",
    "    return valid_x, valid_y\n",
    "\n",
    "\n"
   ]
  },
  {
   "cell_type": "code",
   "execution_count": null,
   "id": "9e9de5fb",
   "metadata": {},
   "outputs": [],
   "source": [
    "tms_list = list(pd.unique(train_data[\"Tmstamp\"]))\n",
    "\n",
    "train_data[\"Tmstamp\"] = train_data[\"Tmstamp\"].apply(lambda x : tms_list.index(x) + 1)\n",
    "\n",
    "train_x, train_y = make_train_data(train_data)\n",
    "valid_x, valid_y = make_valid_data(train_data)\n"
   ]
  },
  {
   "cell_type": "code",
   "execution_count": null,
   "id": "a20dc4f5",
   "metadata": {},
   "outputs": [],
   "source": []
  },
  {
   "cell_type": "code",
   "execution_count": null,
   "id": "a9061b7e",
   "metadata": {},
   "outputs": [],
   "source": []
  },
  {
   "cell_type": "code",
   "execution_count": null,
   "id": "010424c9",
   "metadata": {},
   "outputs": [],
   "source": []
  }
 ],
 "metadata": {
  "kernelspec": {
   "display_name": "Python 3 (ipykernel)",
   "language": "python",
   "name": "python3"
  },
  "language_info": {
   "codemirror_mode": {
    "name": "ipython",
    "version": 3
   },
   "file_extension": ".py",
   "mimetype": "text/x-python",
   "name": "python",
   "nbconvert_exporter": "python",
   "pygments_lexer": "ipython3",
   "version": "3.8.12"
  },
  "toc": {
   "base_numbering": 1,
   "nav_menu": {},
   "number_sections": true,
   "sideBar": true,
   "skip_h1_title": false,
   "title_cell": "Table of Contents",
   "title_sidebar": "Contents",
   "toc_cell": false,
   "toc_position": {},
   "toc_section_display": true,
   "toc_window_display": false
  }
 },
 "nbformat": 4,
 "nbformat_minor": 5
}
