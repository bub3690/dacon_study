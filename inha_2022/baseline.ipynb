{
 "cells": [
  {
   "cell_type": "code",
   "execution_count": 1,
   "id": "aae1bd5f",
   "metadata": {},
   "outputs": [
    {
     "name": "stdout",
     "output_type": "stream",
     "text": [
      "Using Pytorch version :  1.10.2  Device :  cuda\n"
     ]
    }
   ],
   "source": [
    "import torch\n",
    "import matplotlib.pyplot as plt\n",
    "import numpy as np\n",
    "import torch\n",
    "import torch.nn as nn # 인공 신경망 모델들 모아놓은 모듈\n",
    "import torch.nn.functional as F #그중 자주 쓰이는것들을 F로\n",
    "from torch.utils.data import Dataset, DataLoader\n",
    "import pandas as pd\n",
    "import os\n",
    "from glob import glob\n",
    "import sys\n",
    "from sklearn.model_selection import train_test_split # train , test 분리에 사용.\n",
    "\n",
    "if torch.cuda.is_available():\n",
    "    DEVICE = torch.device('cuda')\n",
    "else:\n",
    "    DEVICE = torch.device('cpu')\n",
    "#DEVICE = torch.device('cpu')\n",
    "print('Using Pytorch version : ',torch.__version__,' Device : ',DEVICE)"
   ]
  },
  {
   "cell_type": "code",
   "execution_count": 2,
   "id": "07f7f7a1",
   "metadata": {},
   "outputs": [],
   "source": [
    "from tqdm import tqdm\n",
    "from datetime import datetime"
   ]
  },
  {
   "cell_type": "markdown",
   "id": "79af139e",
   "metadata": {},
   "source": [
    "# 데이터 전처리\n",
    "\n",
    "```\n",
    "\n",
    "TurbID - 발전기 ID\n",
    "\n",
    "Day - 날짜\n",
    "\n",
    "Tmstamp - 시간\n",
    "\n",
    "Wspd - 풍속\n",
    "\n",
    "Wdir - 터빈이 바라보는 각도와 실제 바람 방향 각도 차이\n",
    "\n",
    "Etmp - 외부 온도\n",
    "\n",
    "Itmp - 터빈 내부 온도\n",
    "\n",
    "Ndir - 터빈이 바라보는 방향 각도\n",
    "\n",
    "Pab - 터빈 당 3개의 날이 있으며 각각의 각도가 다름\n",
    "\n",
    "Prtv - 무효전력 : 에너지원을 필요로 하지 않는 전력\n",
    "\n",
    "Patv - 유효전력 : 실제로 터빈을 돌리는 일을 하는 전력\n",
    "\n",
    "````\n",
    "\n",
    "\n",
    "베이스 라인 제공 전처리 방법"
   ]
  },
  {
   "cell_type": "code",
   "execution_count": 3,
   "id": "5c000a23",
   "metadata": {},
   "outputs": [],
   "source": [
    "train_data = pd.read_csv(\"data/train_data.csv\")\n",
    "sample_submission = pd.read_csv(\"data/sample_submission.csv\")"
   ]
  },
  {
   "cell_type": "code",
   "execution_count": 4,
   "id": "0839be7b",
   "metadata": {},
   "outputs": [
    {
     "data": {
      "text/plain": [
       "TurbID         0\n",
       "Day            0\n",
       "Tmstamp        0\n",
       "Wspd       45587\n",
       "Wdir       45587\n",
       "Etmp       45587\n",
       "Itmp       45587\n",
       "Ndir       45587\n",
       "Pab1       45587\n",
       "Pab2       45587\n",
       "Pab3       45587\n",
       "Prtv       45587\n",
       "Patv       45587\n",
       "dtype: int64"
      ]
     },
     "execution_count": 4,
     "metadata": {},
     "output_type": "execute_result"
    }
   ],
   "source": [
    "# train_data의 결측값 확인\n",
    "train_data.isnull().sum()"
   ]
  },
  {
   "cell_type": "code",
   "execution_count": 5,
   "id": "6a3dbb3a",
   "metadata": {},
   "outputs": [
    {
     "name": "stdout",
     "output_type": "stream",
     "text": [
      "TurbID     0\n",
      "Day        0\n",
      "Tmstamp    0\n",
      "Wspd       0\n",
      "Wdir       0\n",
      "Etmp       0\n",
      "Itmp       0\n",
      "Ndir       0\n",
      "Pab1       0\n",
      "Pab2       0\n",
      "Pab3       0\n",
      "Prtv       0\n",
      "Patv       0\n",
      "dtype: int64\n"
     ]
    }
   ],
   "source": [
    "# method : 결측값을 변경할 방식입니다. bfill로 할경우 결측값을 바로 아래 값과 동일하게 변경합니다.\n",
    "# 결측값 처리\n",
    "train_data = train_data.fillna(method = 'ffill').fillna(method = 'bfill')\n",
    "\n",
    "print(train_data.isnull().sum())"
   ]
  },
  {
   "cell_type": "code",
   "execution_count": 6,
   "id": "a59356c0",
   "metadata": {},
   "outputs": [
    {
     "data": {
      "text/html": [
       "<div>\n",
       "<style scoped>\n",
       "    .dataframe tbody tr th:only-of-type {\n",
       "        vertical-align: middle;\n",
       "    }\n",
       "\n",
       "    .dataframe tbody tr th {\n",
       "        vertical-align: top;\n",
       "    }\n",
       "\n",
       "    .dataframe thead th {\n",
       "        text-align: right;\n",
       "    }\n",
       "</style>\n",
       "<table border=\"1\" class=\"dataframe\">\n",
       "  <thead>\n",
       "    <tr style=\"text-align: right;\">\n",
       "      <th></th>\n",
       "      <th>TurbID</th>\n",
       "      <th>Day</th>\n",
       "      <th>Tmstamp</th>\n",
       "      <th>Wspd</th>\n",
       "      <th>Wdir</th>\n",
       "      <th>Etmp</th>\n",
       "      <th>Itmp</th>\n",
       "      <th>Ndir</th>\n",
       "      <th>Pab1</th>\n",
       "      <th>Pab2</th>\n",
       "      <th>Pab3</th>\n",
       "      <th>Prtv</th>\n",
       "      <th>Patv</th>\n",
       "    </tr>\n",
       "  </thead>\n",
       "  <tbody>\n",
       "    <tr>\n",
       "      <th>0</th>\n",
       "      <td>1</td>\n",
       "      <td>1</td>\n",
       "      <td>00:00</td>\n",
       "      <td>6.17</td>\n",
       "      <td>-3.99</td>\n",
       "      <td>30.73</td>\n",
       "      <td>41.80</td>\n",
       "      <td>25.92</td>\n",
       "      <td>1.00</td>\n",
       "      <td>1.00</td>\n",
       "      <td>1.00</td>\n",
       "      <td>-0.25</td>\n",
       "      <td>494.66</td>\n",
       "    </tr>\n",
       "    <tr>\n",
       "      <th>1</th>\n",
       "      <td>1</td>\n",
       "      <td>1</td>\n",
       "      <td>00:10</td>\n",
       "      <td>6.17</td>\n",
       "      <td>-3.99</td>\n",
       "      <td>30.73</td>\n",
       "      <td>41.80</td>\n",
       "      <td>25.92</td>\n",
       "      <td>1.00</td>\n",
       "      <td>1.00</td>\n",
       "      <td>1.00</td>\n",
       "      <td>-0.25</td>\n",
       "      <td>494.66</td>\n",
       "    </tr>\n",
       "    <tr>\n",
       "      <th>2</th>\n",
       "      <td>1</td>\n",
       "      <td>1</td>\n",
       "      <td>00:20</td>\n",
       "      <td>6.27</td>\n",
       "      <td>-2.18</td>\n",
       "      <td>30.60</td>\n",
       "      <td>41.63</td>\n",
       "      <td>20.91</td>\n",
       "      <td>1.00</td>\n",
       "      <td>1.00</td>\n",
       "      <td>1.00</td>\n",
       "      <td>-0.24</td>\n",
       "      <td>509.76</td>\n",
       "    </tr>\n",
       "    <tr>\n",
       "      <th>3</th>\n",
       "      <td>1</td>\n",
       "      <td>1</td>\n",
       "      <td>00:30</td>\n",
       "      <td>6.42</td>\n",
       "      <td>-0.73</td>\n",
       "      <td>30.52</td>\n",
       "      <td>41.52</td>\n",
       "      <td>20.91</td>\n",
       "      <td>1.00</td>\n",
       "      <td>1.00</td>\n",
       "      <td>1.00</td>\n",
       "      <td>-0.26</td>\n",
       "      <td>542.53</td>\n",
       "    </tr>\n",
       "    <tr>\n",
       "      <th>4</th>\n",
       "      <td>1</td>\n",
       "      <td>1</td>\n",
       "      <td>00:40</td>\n",
       "      <td>6.25</td>\n",
       "      <td>0.89</td>\n",
       "      <td>30.49</td>\n",
       "      <td>41.38</td>\n",
       "      <td>20.91</td>\n",
       "      <td>1.00</td>\n",
       "      <td>1.00</td>\n",
       "      <td>1.00</td>\n",
       "      <td>-0.23</td>\n",
       "      <td>509.36</td>\n",
       "    </tr>\n",
       "    <tr>\n",
       "      <th>...</th>\n",
       "      <td>...</td>\n",
       "      <td>...</td>\n",
       "      <td>...</td>\n",
       "      <td>...</td>\n",
       "      <td>...</td>\n",
       "      <td>...</td>\n",
       "      <td>...</td>\n",
       "      <td>...</td>\n",
       "      <td>...</td>\n",
       "      <td>...</td>\n",
       "      <td>...</td>\n",
       "      <td>...</td>\n",
       "      <td>...</td>\n",
       "    </tr>\n",
       "    <tr>\n",
       "      <th>139</th>\n",
       "      <td>1</td>\n",
       "      <td>1</td>\n",
       "      <td>23:10</td>\n",
       "      <td>9.95</td>\n",
       "      <td>0.49</td>\n",
       "      <td>28.71</td>\n",
       "      <td>42.53</td>\n",
       "      <td>-9.44</td>\n",
       "      <td>1.02</td>\n",
       "      <td>1.02</td>\n",
       "      <td>1.02</td>\n",
       "      <td>-0.29</td>\n",
       "      <td>1330.24</td>\n",
       "    </tr>\n",
       "    <tr>\n",
       "      <th>140</th>\n",
       "      <td>1</td>\n",
       "      <td>1</td>\n",
       "      <td>23:20</td>\n",
       "      <td>12.20</td>\n",
       "      <td>0.70</td>\n",
       "      <td>28.59</td>\n",
       "      <td>42.56</td>\n",
       "      <td>-8.17</td>\n",
       "      <td>1.08</td>\n",
       "      <td>1.08</td>\n",
       "      <td>1.08</td>\n",
       "      <td>-0.23</td>\n",
       "      <td>1550.74</td>\n",
       "    </tr>\n",
       "    <tr>\n",
       "      <th>141</th>\n",
       "      <td>1</td>\n",
       "      <td>1</td>\n",
       "      <td>23:30</td>\n",
       "      <td>12.66</td>\n",
       "      <td>1.09</td>\n",
       "      <td>28.54</td>\n",
       "      <td>42.23</td>\n",
       "      <td>-8.17</td>\n",
       "      <td>1.08</td>\n",
       "      <td>1.08</td>\n",
       "      <td>1.08</td>\n",
       "      <td>-0.21</td>\n",
       "      <td>1549.66</td>\n",
       "    </tr>\n",
       "    <tr>\n",
       "      <th>142</th>\n",
       "      <td>1</td>\n",
       "      <td>1</td>\n",
       "      <td>23:40</td>\n",
       "      <td>12.58</td>\n",
       "      <td>1.70</td>\n",
       "      <td>28.48</td>\n",
       "      <td>42.09</td>\n",
       "      <td>-8.17</td>\n",
       "      <td>1.08</td>\n",
       "      <td>1.08</td>\n",
       "      <td>1.08</td>\n",
       "      <td>-0.20</td>\n",
       "      <td>1549.64</td>\n",
       "    </tr>\n",
       "    <tr>\n",
       "      <th>143</th>\n",
       "      <td>1</td>\n",
       "      <td>1</td>\n",
       "      <td>23:50</td>\n",
       "      <td>9.95</td>\n",
       "      <td>-0.42</td>\n",
       "      <td>28.31</td>\n",
       "      <td>42.09</td>\n",
       "      <td>-8.17</td>\n",
       "      <td>1.01</td>\n",
       "      <td>1.01</td>\n",
       "      <td>1.01</td>\n",
       "      <td>-0.20</td>\n",
       "      <td>1361.95</td>\n",
       "    </tr>\n",
       "  </tbody>\n",
       "</table>\n",
       "<p>144 rows × 13 columns</p>\n",
       "</div>"
      ],
      "text/plain": [
       "     TurbID  Day Tmstamp   Wspd  Wdir   Etmp   Itmp   Ndir  Pab1  Pab2  Pab3  \\\n",
       "0         1    1   00:00   6.17 -3.99  30.73  41.80  25.92  1.00  1.00  1.00   \n",
       "1         1    1   00:10   6.17 -3.99  30.73  41.80  25.92  1.00  1.00  1.00   \n",
       "2         1    1   00:20   6.27 -2.18  30.60  41.63  20.91  1.00  1.00  1.00   \n",
       "3         1    1   00:30   6.42 -0.73  30.52  41.52  20.91  1.00  1.00  1.00   \n",
       "4         1    1   00:40   6.25  0.89  30.49  41.38  20.91  1.00  1.00  1.00   \n",
       "..      ...  ...     ...    ...   ...    ...    ...    ...   ...   ...   ...   \n",
       "139       1    1   23:10   9.95  0.49  28.71  42.53  -9.44  1.02  1.02  1.02   \n",
       "140       1    1   23:20  12.20  0.70  28.59  42.56  -8.17  1.08  1.08  1.08   \n",
       "141       1    1   23:30  12.66  1.09  28.54  42.23  -8.17  1.08  1.08  1.08   \n",
       "142       1    1   23:40  12.58  1.70  28.48  42.09  -8.17  1.08  1.08  1.08   \n",
       "143       1    1   23:50   9.95 -0.42  28.31  42.09  -8.17  1.01  1.01  1.01   \n",
       "\n",
       "     Prtv     Patv  \n",
       "0   -0.25   494.66  \n",
       "1   -0.25   494.66  \n",
       "2   -0.24   509.76  \n",
       "3   -0.26   542.53  \n",
       "4   -0.23   509.36  \n",
       "..    ...      ...  \n",
       "139 -0.29  1330.24  \n",
       "140 -0.23  1550.74  \n",
       "141 -0.21  1549.66  \n",
       "142 -0.20  1549.64  \n",
       "143 -0.20  1361.95  \n",
       "\n",
       "[144 rows x 13 columns]"
      ]
     },
     "execution_count": 6,
     "metadata": {},
     "output_type": "execute_result"
    }
   ],
   "source": [
    "train_data[(train_data[\"TurbID\"]==1)&(train_data[\"Day\"]==1)]"
   ]
  },
  {
   "cell_type": "markdown",
   "id": "e1111f49",
   "metadata": {},
   "source": [
    "# 데이터셋"
   ]
  },
  {
   "cell_type": "code",
   "execution_count": 7,
   "id": "91f71a1b",
   "metadata": {},
   "outputs": [],
   "source": [
    "# 한 Turb당 194 line\n",
    "# label은 2일.로 나눠야함.\n",
    "\n",
    "def make_train_data(data):\n",
    "    train_x, train_y = [], []\n",
    "    for i in tqdm(sorted(pd.unique(data[\"TurbID\"]))):\n",
    "        tmp_data = data[data[\"TurbID\"] == i]\n",
    "        for j in range(1, 195): # 1~195 (1~194까지?)\n",
    "            \n",
    "            # train data ==> 5일 단위\n",
    "            # label data ==> 2일 단위\n",
    "            day_list = [x for x in range(j, j+ 5)]\n",
    "            label_day_list = [y for y in range(j+5, j + 7)]\n",
    "            \n",
    "            train_tmp = tmp_data[tmp_data[\"Day\"].isin(day_list)]\n",
    "            label_tmp = tmp_data[tmp_data[\"Day\"].isin(label_day_list)][\"Wspd\"]\n",
    "            \n",
    "            # feature 선택 및 제거\n",
    "            train_tmp = train_tmp.drop([\"TurbID\", \"Day\",\"Patv\",\"Etmp\",\"Ndir\"], axis = 1)\n",
    "            \n",
    "            train_x.append(np.array(train_tmp))\n",
    "            train_y.append(np.array(label_tmp))\n",
    "            \n",
    "    return train_x, train_y\n",
    "\n"
   ]
  },
  {
   "cell_type": "code",
   "execution_count": 8,
   "id": "c4088750",
   "metadata": {},
   "outputs": [],
   "source": [
    "train_origin = train_data.copy()"
   ]
  },
  {
   "cell_type": "code",
   "execution_count": 9,
   "id": "41b2b392",
   "metadata": {},
   "outputs": [],
   "source": [
    "from sklearn.preprocessing import MinMaxScaler, StandardScaler\n",
    "nor = MinMaxScaler()# \n",
    "\n",
    "train_data[[\"Wspd\",\"Wdir\",\"Itmp\",\"Pab1\",\"Pab2\",\"Pab3\",\"Prtv\"]] = nor.fit_transform(train_data[[\"Wspd\",\"Wdir\",\"Itmp\",\"Pab1\",\"Pab2\",\"Pab3\",\"Prtv\"]])\n",
    "\n",
    "#[\"TurbID\", \"Day\",\"Patv\",\"Etmp\",\"Ndir\"]"
   ]
  },
  {
   "cell_type": "code",
   "execution_count": 10,
   "id": "04148d77",
   "metadata": {},
   "outputs": [
    {
     "data": {
      "text/plain": [
       "array([0.03803728, 0.00018877, 0.00167398, 0.00909256, 0.00909256,\n",
       "       0.00909256, 0.00090075])"
      ]
     },
     "execution_count": 10,
     "metadata": {},
     "output_type": "execute_result"
    }
   ],
   "source": [
    "nor.scale_"
   ]
  },
  {
   "cell_type": "code",
   "execution_count": 11,
   "id": "2b3714fa",
   "metadata": {},
   "outputs": [],
   "source": [
    "#실험\n",
    "nor.min_=nor.min_[0]\n",
    "nor.scale_=nor.scale_[0]"
   ]
  },
  {
   "cell_type": "code",
   "execution_count": 12,
   "id": "5d9c7cb6",
   "metadata": {},
   "outputs": [
    {
     "data": {
      "text/plain": [
       "array([[6.17],\n",
       "       [6.17],\n",
       "       [6.27],\n",
       "       ...,\n",
       "       [4.23],\n",
       "       [4.36],\n",
       "       [4.79]])"
      ]
     },
     "execution_count": 12,
     "metadata": {},
     "output_type": "execute_result"
    }
   ],
   "source": [
    "nor.inverse_transform(train_data[[\"Wspd\"]])"
   ]
  },
  {
   "cell_type": "code",
   "execution_count": 60,
   "id": "05a9efec",
   "metadata": {},
   "outputs": [
    {
     "name": "stderr",
     "output_type": "stream",
     "text": [
      "100%|████████████████████████████████████████████████████████████████████████████████| 134/134 [00:23<00:00,  5.82it/s]\n"
     ]
    }
   ],
   "source": [
    "tms_list = list(pd.unique(train_data[\"Tmstamp\"]))\n",
    "#train_data[\"Tmstamp\"] = train_data[\"Tmstamp\"].apply(lambda x : tms_list.index(x) )\n",
    "#train_data[\"Tmstamp\"] = train_data[\"Tmstamp\"]//6\n",
    "hour_list = [datetime.strptime(t,\"%H:%M\").hour for t in tms_list]\n",
    "train_data[\"Tmstamp\"] = train_data[\"Tmstamp\"].apply(lambda x : hour_list[tms_list.index(x)] )\n",
    "\n",
    "\n",
    "X_data, Y_data = make_train_data(train_data)"
   ]
  },
  {
   "cell_type": "code",
   "execution_count": 13,
   "id": "f44be6ee",
   "metadata": {},
   "outputs": [],
   "source": [
    "from datetime import datetime\n",
    "def fourier_features(index, freq, order):\n",
    "    time = np.arange(len(index), dtype=np.float32)\n",
    "    k = 2 * np.pi * (1 / freq) * time\n",
    "    features = {}\n",
    "    for i in range(1, order + 1):\n",
    "        features.update({\n",
    "            f\"sin_{freq}_{i}\": np.sin(i * k),\n",
    "            f\"cos_{freq}_{i}\": np.cos(i * k),\n",
    "        })\n",
    "    return pd.DataFrame(features, index=index)\n",
    "#출처: https://today-1.tistory.com/55 [Better Than,:티스토리]"
   ]
  },
  {
   "cell_type": "code",
   "execution_count": 14,
   "id": "9e9de5fb",
   "metadata": {},
   "outputs": [
    {
     "name": "stderr",
     "output_type": "stream",
     "text": [
      "100%|████████████████████████████████████████████████████████████████████████████████| 134/134 [00:21<00:00,  6.25it/s]\n"
     ]
    }
   ],
   "source": [
    "# time stamp label encoding\n",
    "tms_list = list(pd.unique(train_data[\"Tmstamp\"]))\n",
    "hour_list = [datetime.strptime(t,\"%H:%M\").hour for t in tms_list]\n",
    "\n",
    "train_data[\"Tmstamp\"] = train_data[\"Tmstamp\"].apply(lambda x : hour_list[tms_list.index(x)] )\n",
    "\n",
    "\n",
    "# Fourier Features\n",
    "train_data['sin_24_1'] = np.sin(2 * np.pi * train_data['Tmstamp']/23.0)\n",
    "train_data['cos_24_1'] = np.cos(2 * np.pi * train_data['Tmstamp']/23.0)\n",
    "fourier_features(train_data['Tmstamp'], 24, 1)\n",
    "\n",
    "train_data.drop(['Tmstamp'],axis=1,inplace=True)\n",
    "\n",
    "X_data, Y_data = make_train_data(train_data)\n",
    "#valid_x, valid_y = make_valid_data(train_data)\n"
   ]
  },
  {
   "cell_type": "code",
   "execution_count": 15,
   "id": "b51b71dc",
   "metadata": {
    "scrolled": true
   },
   "outputs": [
    {
     "data": {
      "text/plain": [
       "array([[[ 2.34689996e-01,  5.71311263e-01,  5.27252335e-01, ...,\n",
       "          5.62728567e-01,  0.00000000e+00,  1.00000000e+00],\n",
       "        [ 2.34689996e-01,  5.71311263e-01,  5.27252335e-01, ...,\n",
       "          5.62728567e-01,  0.00000000e+00,  1.00000000e+00],\n",
       "        [ 2.38493724e-01,  5.71652940e-01,  5.26967759e-01, ...,\n",
       "          5.62737574e-01,  0.00000000e+00,  1.00000000e+00],\n",
       "        ...,\n",
       "        [ 2.25941423e-01,  5.71970076e-01,  5.14597074e-01, ...,\n",
       "          5.62719559e-01, -2.44929360e-16,  1.00000000e+00],\n",
       "        [ 2.08063903e-01,  5.71847374e-01,  5.14044662e-01, ...,\n",
       "          5.62728567e-01, -2.44929360e-16,  1.00000000e+00],\n",
       "        [ 1.95511601e-01,  5.71971964e-01,  5.13006796e-01, ...,\n",
       "          5.62719559e-01, -2.44929360e-16,  1.00000000e+00]],\n",
       "\n",
       "       [[ 4.04716622e-01,  5.71764315e-01,  5.27871706e-01, ...,\n",
       "          5.62710551e-01,  0.00000000e+00,  1.00000000e+00],\n",
       "        [ 2.66260936e-01,  5.72223030e-01,  5.27670829e-01, ...,\n",
       "          5.62809634e-01,  0.00000000e+00,  1.00000000e+00],\n",
       "        [ 2.23278813e-01,  5.71571768e-01,  5.27135157e-01, ...,\n",
       "          5.62710551e-01,  0.00000000e+00,  1.00000000e+00],\n",
       "        ...,\n",
       "        [ 1.80677064e-01,  5.71703908e-01,  5.11835013e-01, ...,\n",
       "          5.62764597e-01, -2.44929360e-16,  1.00000000e+00],\n",
       "        [ 1.75351845e-01,  5.71611410e-01,  5.11265861e-01, ...,\n",
       "          5.62737574e-01, -2.44929360e-16,  1.00000000e+00],\n",
       "        [ 2.38113351e-01,  5.71700133e-01,  5.11081724e-01, ...,\n",
       "          5.62710551e-01, -2.44929360e-16,  1.00000000e+00]],\n",
       "\n",
       "       [[ 4.35526816e-01,  5.71656715e-01,  5.24707891e-01, ...,\n",
       "          5.62791619e-01,  0.00000000e+00,  1.00000000e+00],\n",
       "        [ 4.15747432e-01,  5.71505698e-01,  5.24791590e-01, ...,\n",
       "          5.62737574e-01,  0.00000000e+00,  1.00000000e+00],\n",
       "        [ 4.06618486e-01,  5.71194225e-01,  5.24908768e-01, ...,\n",
       "          5.62719559e-01,  0.00000000e+00,  1.00000000e+00],\n",
       "        ...,\n",
       "        [ 7.18904526e-02,  5.73682233e-01,  5.09909940e-01, ...,\n",
       "          5.62746582e-01, -2.44929360e-16,  1.00000000e+00],\n",
       "        [ 7.83567897e-02,  5.73655805e-01,  5.08152265e-01, ...,\n",
       "          5.62746582e-01, -2.44929360e-16,  1.00000000e+00],\n",
       "        [ 1.06504374e-01,  5.72885618e-01,  5.10010379e-01, ...,\n",
       "          5.62728567e-01, -2.44929360e-16,  1.00000000e+00]],\n",
       "\n",
       "       ...,\n",
       "\n",
       "       [[ 1.38075314e-01,  5.73119694e-01,  4.79845325e-01, ...,\n",
       "          5.35327605e-01,  0.00000000e+00,  1.00000000e+00],\n",
       "        [ 1.32369722e-01,  5.71890792e-01,  4.79711406e-01, ...,\n",
       "          5.53748041e-01,  0.00000000e+00,  1.00000000e+00],\n",
       "        [ 1.38836059e-01,  5.72649653e-01,  4.79443570e-01, ...,\n",
       "          5.43542489e-01,  0.00000000e+00,  1.00000000e+00],\n",
       "        ...,\n",
       "        [ 2.32407760e-01,  5.71971964e-01,  4.80715792e-01, ...,\n",
       "          4.17887189e-01, -2.44929360e-16,  1.00000000e+00],\n",
       "        [ 2.40015215e-01,  5.72677969e-01,  4.80749272e-01, ...,\n",
       "          4.05483795e-01, -2.44929360e-16,  1.00000000e+00],\n",
       "        [ 2.27843286e-01,  5.71288611e-01,  4.80682313e-01, ...,\n",
       "          4.38082113e-01, -2.44929360e-16,  1.00000000e+00]],\n",
       "\n",
       "       [[ 5.93381514e-02,  5.93799612e-01,  4.84214403e-01, ...,\n",
       "          5.62683529e-01,  0.00000000e+00,  1.00000000e+00],\n",
       "        [ 5.09699506e-02,  5.95706204e-01,  4.84097225e-01, ...,\n",
       "          5.62683529e-01,  0.00000000e+00,  1.00000000e+00],\n",
       "        [ 5.51540510e-02,  5.95377741e-01,  4.84080485e-01, ...,\n",
       "          5.62683529e-01,  0.00000000e+00,  1.00000000e+00],\n",
       "        ...,\n",
       "        [ 5.93381514e-02,  5.77854083e-01,  4.83544812e-01, ...,\n",
       "          5.62683529e-01, -2.44929360e-16,  1.00000000e+00],\n",
       "        [ 5.93381514e-02,  5.77854083e-01,  4.83544812e-01, ...,\n",
       "          5.62683529e-01, -2.44929360e-16,  1.00000000e+00],\n",
       "        [ 5.17306961e-02,  5.76462837e-01,  4.83260236e-01, ...,\n",
       "          5.62683529e-01, -2.44929360e-16,  1.00000000e+00]],\n",
       "\n",
       "       [[ 9.43324458e-02,  5.72634552e-01,  4.85854900e-01, ...,\n",
       "          5.46217730e-01,  0.00000000e+00,  1.00000000e+00],\n",
       "        [ 9.09090909e-02,  5.70348529e-01,  4.86541230e-01, ...,\n",
       "          5.42713794e-01,  0.00000000e+00,  1.00000000e+00],\n",
       "        [ 8.93875998e-02,  5.71603859e-01,  4.87043423e-01, ...,\n",
       "          5.45632240e-01,  0.00000000e+00,  1.00000000e+00],\n",
       "        ...,\n",
       "        [ 5.97565614e-01,  5.72455219e-01,  4.86407312e-01, ...,\n",
       "          7.32782071e-01, -2.44929360e-16,  1.00000000e+00],\n",
       "        [ 6.17725371e-01,  5.72711948e-01,  4.86407312e-01, ...,\n",
       "          7.19504945e-01, -2.44929360e-16,  1.00000000e+00],\n",
       "        [ 6.17725371e-01,  5.72668530e-01,  4.86189695e-01, ...,\n",
       "          7.24936497e-01, -2.44929360e-16,  1.00000000e+00]]])"
      ]
     },
     "execution_count": 15,
     "metadata": {},
     "output_type": "execute_result"
    }
   ],
   "source": [
    "np.array(X_data)"
   ]
  },
  {
   "cell_type": "code",
   "execution_count": 14,
   "id": "ee54e40b",
   "metadata": {},
   "outputs": [
    {
     "data": {
      "text/plain": [
       "<matplotlib.collections.PathCollection at 0x20067dc5af0>"
      ]
     },
     "execution_count": 14,
     "metadata": {},
     "output_type": "execute_result"
    },
    {
     "data": {
      "image/png": "[encoded data removed]",
      "text/plain": [
       "<Figure size 432x288 with 1 Axes>"
      ]
     },
     "metadata": {
      "needs_background": "light"
     },
     "output_type": "display_data"
    }
   ],
   "source": [
    "plt.scatter(train_data['sin_24_1'],train_data['cos_24_1'])"
   ]
  },
  {
   "cell_type": "code",
   "execution_count": 29,
   "id": "e06c15f1",
   "metadata": {},
   "outputs": [
    {
     "data": {
      "text/plain": [
       "25996"
      ]
     },
     "execution_count": 29,
     "metadata": {},
     "output_type": "execute_result"
    }
   ],
   "source": [
    "len(X_data)"
   ]
  },
  {
   "cell_type": "code",
   "execution_count": 16,
   "id": "5c93a6bd",
   "metadata": {},
   "outputs": [
    {
     "data": {
      "text/plain": [
       "720"
      ]
     },
     "execution_count": 16,
     "metadata": {},
     "output_type": "execute_result"
    }
   ],
   "source": [
    "X_data[0].shape[0]"
   ]
  },
  {
   "cell_type": "code",
   "execution_count": 16,
   "id": "a20dc4f5",
   "metadata": {},
   "outputs": [],
   "source": [
    "X_data  = np.array(X_data).reshape(-1, X_data[0].shape[0], X_data[0].shape[1])\n",
    "#train_x = np.array(X_data)\n",
    "Y_data = np.array(Y_data)"
   ]
  },
  {
   "cell_type": "code",
   "execution_count": 17,
   "id": "720dbc07",
   "metadata": {},
   "outputs": [
    {
     "name": "stderr",
     "output_type": "stream",
     "text": [
      "C:\\Users\\USER\\anaconda3\\envs\\local_torch\\lib\\site-packages\\sktime\\utils\\validation\\_dependencies.py:113: UserWarning: No module named 'prophet'. 'prophet' is a soft dependency and not included in the sktime installation. Please run: `pip install prophet` to install the prophet package. To install all soft dependencies, run: `pip install sktime[all_extras]`\n",
      "  warnings.warn(msg)\n"
     ]
    }
   ],
   "source": [
    "#train_x  = np.array(train_x).reshape(-1, train_x[0].shape[0], train_x[0].shape[1])\n",
    "#valid_x = np.array(valid_x)\n",
    "#valid_y = np.array(valid_y)\n",
    "\n",
    "from sktime.forecasting.all import temporal_train_test_split"
   ]
  },
  {
   "cell_type": "code",
   "execution_count": 18,
   "id": "90f3786a",
   "metadata": {},
   "outputs": [],
   "source": [
    "train_y, valid_y, train_x, valid_x = temporal_train_test_split(X=X_data,y=Y_data, test_size=0.1)"
   ]
  },
  {
   "cell_type": "code",
   "execution_count": 19,
   "id": "e3f27133",
   "metadata": {},
   "outputs": [
    {
     "data": {
      "text/plain": [
       "(23396, 288)"
      ]
     },
     "execution_count": 19,
     "metadata": {},
     "output_type": "execute_result"
    }
   ],
   "source": [
    "train_y.shape"
   ]
  },
  {
   "cell_type": "code",
   "execution_count": 20,
   "id": "2b08d82c",
   "metadata": {},
   "outputs": [
    {
     "data": {
      "text/plain": [
       "(23396, 288)"
      ]
     },
     "execution_count": 20,
     "metadata": {},
     "output_type": "execute_result"
    }
   ],
   "source": [
    "np.array(train_y).shape"
   ]
  },
  {
   "cell_type": "code",
   "execution_count": 21,
   "id": "a9061b7e",
   "metadata": {},
   "outputs": [
    {
     "name": "stdout",
     "output_type": "stream",
     "text": [
      "(23396, 720, 9) (23396, 288)\n"
     ]
    }
   ],
   "source": [
    "train_x  = np.array(train_x).reshape(-1, train_x[0].shape[0], train_x[0].shape[1])\n",
    "train_y= np.array(train_y)\n",
    "print(train_x.shape, train_y.shape)"
   ]
  },
  {
   "cell_type": "code",
   "execution_count": 22,
   "id": "010424c9",
   "metadata": {},
   "outputs": [
    {
     "name": "stdout",
     "output_type": "stream",
     "text": [
      "(2600, 720, 9) (2600, 288)\n"
     ]
    }
   ],
   "source": [
    "valid_x  = np.array(valid_x).reshape(-1, valid_x[0].shape[0], valid_x[0].shape[1])\n",
    "valid_y = np.array(valid_y)\n",
    "print(valid_x.shape, valid_y.shape)"
   ]
  },
  {
   "attachments": {
    "image.png": {
     "image/png": "[encoded data removed]"
    }
   },
   "cell_type": "markdown",
   "id": "968591bc",
   "metadata": {},
   "source": [
    "input dimension은 (Batch, Time_step, Feature dimension) 순이다. (batch_first=True)\n",
    "\n",
    "output이 288인 이유는 2일이라서\n",
    "\n",
    "![image.png](attachment:image.png)"
   ]
  },
  {
   "cell_type": "markdown",
   "id": "20be20ba",
   "metadata": {},
   "source": [
    "# 데이터 로더"
   ]
  },
  {
   "cell_type": "code",
   "execution_count": 23,
   "id": "d8e36986",
   "metadata": {},
   "outputs": [],
   "source": [
    "EPOCHS = 30\n",
    "BATCH_SIZE = 128\n",
    "lr = 1e-3"
   ]
  },
  {
   "cell_type": "code",
   "execution_count": 24,
   "id": "270ce953",
   "metadata": {},
   "outputs": [],
   "source": [
    "from torch.utils.data import Dataset, DataLoader\n",
    "\n",
    "class TimeDataset(Dataset):\n",
    "    def __init__(self, X, Y):\n",
    "        self.X = X\n",
    "        self.Y = Y\n",
    "        \n",
    "    def __len__(self):\n",
    "        return len(self.X)\n",
    "        \n",
    "    def __getitem__(self, index):\n",
    "        if self.Y is not None:\n",
    "            return torch.Tensor(self.X[index]), torch.Tensor(self.Y[index])\n",
    "        \n",
    "        return torch.Tensor(self.X[index]) # 테스트셋 용\n",
    "    \n"
   ]
  },
  {
   "cell_type": "code",
   "execution_count": 25,
   "id": "5cb7414a",
   "metadata": {},
   "outputs": [],
   "source": [
    "train_dataset = TimeDataset(train_x, train_y)\n",
    "valid_dataset = TimeDataset(valid_x, valid_y)\n",
    "\n",
    "\n",
    "train_loader = DataLoader(train_dataset, \n",
    "                          batch_size = BATCH_SIZE,\n",
    "                          shuffle=True)\n",
    "\n",
    "valid_loader = DataLoader(valid_dataset, \n",
    "                          batch_size = BATCH_SIZE,\n",
    "                          shuffle=True)\n",
    "\n"
   ]
  },
  {
   "cell_type": "markdown",
   "id": "b1391110",
   "metadata": {},
   "source": [
    "# 데이터 확인"
   ]
  },
  {
   "cell_type": "code",
   "execution_count": 26,
   "id": "c8efd1fb",
   "metadata": {
    "scrolled": true
   },
   "outputs": [
    {
     "name": "stdout",
     "output_type": "stream",
     "text": [
      "X_train :  torch.Size([128, 720, 9]) type: torch.FloatTensor\n",
      "Y_train :  torch.Size([128, 288]) type: torch.FloatTensor\n",
      "torch.Size([288])\n"
     ]
    }
   ],
   "source": [
    "# 4. 데이터 확인하기\n",
    "for (X_train,Y_train) in train_loader:\n",
    "    print(\"X_train : \",X_train.size(),'type:',X_train.type())\n",
    "    print(\"Y_train : \",Y_train.size(),'type:',Y_train.type())\n",
    "    break\n",
    "    \n",
    "print(Y_train[0].shape)\n"
   ]
  },
  {
   "cell_type": "code",
   "execution_count": 27,
   "id": "3f4a147c",
   "metadata": {
    "scrolled": true
   },
   "outputs": [
    {
     "name": "stdout",
     "output_type": "stream",
     "text": [
      "X_valid :  torch.Size([128, 720, 9]) type: torch.FloatTensor\n",
      "Y_valid :  torch.Size([128, 288]) type: torch.FloatTensor\n",
      "torch.Size([288])\n"
     ]
    }
   ],
   "source": [
    "#valiation set 확인\n",
    "for (X_valid,Y_valid) in valid_loader:\n",
    "    print(\"X_valid : \",X_valid.size(),'type:',X_valid.type())\n",
    "    print(\"Y_valid : \",Y_valid.size(),'type:',Y_valid.type())\n",
    "    break\n",
    "\n",
    "print(Y_valid[0].shape)"
   ]
  },
  {
   "cell_type": "markdown",
   "id": "9630a2ff",
   "metadata": {},
   "source": [
    "# 모델\n"
   ]
  },
  {
   "cell_type": "markdown",
   "id": "fd8220ba",
   "metadata": {},
   "source": [
    "### input 설명\n",
    "\n",
    "- input_size: input의 feature dimension을 넣어주어야 한다. time step이 아니라 feature dimension!\n",
    "- hidden_size: 내부에서 어떤 feature dimension으로 바꿔주고 싶은지를 넣어주면 된다.\n",
    "- num_layers: lstm layer를 얼마나 쌓을지\n",
    "- bias: bias term을 둘 것인가 (Default: True)\n",
    "- batch_first: batch가 0번 dimension으로 오게 하려면 이거 설정! 난 이거 설정 가정하고 설명했다. (Default: False)\n",
    "- dropout: 가지치기 얼마나 할지, generalization 잘안되면 이걸 조정하면 된다.\n",
    "bidirectional: 양방향으로 할지 말지 (bidirectional 하면 [forward, backword] 로 feature dimension 2배 됨)\n",
    "\n",
    "\n",
    "\n",
    "참고.\n",
    "\n",
    "https://sanghyu.tistory.com/52"
   ]
  },
  {
   "cell_type": "markdown",
   "id": "7da3e174",
   "metadata": {},
   "source": [
    "### output 설명\n",
    "\n",
    "- outputs는 (output, (hidden or hidden stat,cell stat)) 의 tuple 형태로 나오므로 주의해서 써야한다. (LSTM만 cell state있음)\n",
    "- output: output dimension은 (batch, time_step, hidden dimension) 순이다. 양방향일 경우 hidden_size*2\n",
    "- hidden state: 모든 layer의 hidden state를 담고있다.\n",
    "- cell state: 모든 layer의 cell state를 담고있다."
   ]
  },
  {
   "cell_type": "code",
   "execution_count": 26,
   "id": "7bbb59d4",
   "metadata": {},
   "outputs": [
    {
     "data": {
      "text/plain": [
       "torch.Size([128, 720, 256])"
      ]
     },
     "execution_count": 26,
     "metadata": {},
     "output_type": "execute_result"
    }
   ],
   "source": [
    "lstm = nn.LSTM(input_size=12, hidden_size=256, batch_first=True, bidirectional=False)\n",
    "\n",
    "lstm(X_valid)[0].size()"
   ]
  },
  {
   "cell_type": "code",
   "execution_count": 27,
   "id": "ea7d5e3e",
   "metadata": {
    "scrolled": true
   },
   "outputs": [
    {
     "data": {
      "text/plain": [
       "torch.Size([720, 256])"
      ]
     },
     "execution_count": 27,
     "metadata": {},
     "output_type": "execute_result"
    }
   ],
   "source": [
    "lstm(X_valid)[0][-1].size()"
   ]
  },
  {
   "cell_type": "code",
   "execution_count": 28,
   "id": "f38c21ed",
   "metadata": {
    "scrolled": true
   },
   "outputs": [
    {
     "data": {
      "text/plain": [
       "tensor([[[-1.1673e-01,  1.4841e-04,  5.6774e-02,  ...,  1.0000e+00,\n",
       "           5.9224e-01,  5.0878e-14],\n",
       "         [-4.8787e-04,  9.9971e-01,  1.9079e-04,  ...,  1.7265e-02,\n",
       "           9.9996e-01,  1.9422e-02],\n",
       "         [ 5.0369e-03, -2.1034e-01,  1.4122e-01,  ...,  1.0000e+00,\n",
       "           9.1735e-01,  2.2290e-30],\n",
       "         ...,\n",
       "         [-2.4418e-04,  9.9999e-01,  2.8196e-01,  ...,  4.4332e-02,\n",
       "           9.9596e-01,  3.0322e-02],\n",
       "         [-8.8184e-01, -6.1001e-07,  6.1041e-05,  ...,  1.0000e+00,\n",
       "           1.0000e+00,  3.8480e-29],\n",
       "         [ 6.1095e-04,  9.9695e-01,  2.8479e-06,  ...,  1.7060e-02,\n",
       "           9.5216e-01,  7.4001e-03]]], grad_fn=<StackBackward0>)"
      ]
     },
     "execution_count": 28,
     "metadata": {},
     "output_type": "execute_result"
    }
   ],
   "source": [
    "lstm(X_valid)[1][0]"
   ]
  },
  {
   "cell_type": "code",
   "execution_count": 29,
   "id": "076c46b3",
   "metadata": {},
   "outputs": [
    {
     "data": {
      "text/plain": [
       "torch.Size([128, 256])"
      ]
     },
     "execution_count": 29,
     "metadata": {},
     "output_type": "execute_result"
    }
   ],
   "source": [
    "lstm(X_valid)[0][:,-2,:].size()"
   ]
  },
  {
   "cell_type": "code",
   "execution_count": 33,
   "id": "5e20c8c2",
   "metadata": {},
   "outputs": [],
   "source": [
    "lstm_hidden_size=512\n",
    "\n",
    "class BaseModel(nn.Module):\n",
    "    def __init__(self):\n",
    "        super(BaseModel, self).__init__()\n",
    "        self.lstm = nn.GRU(input_size=9, hidden_size=lstm_hidden_size, batch_first=True, bidirectional=True)\n",
    "        self.classifier = nn.Sequential(\n",
    "            nn.Linear(lstm_hidden_size*2,512),# 사이즈는 hidden size에 따라 결정.\n",
    "            nn.ReLU(),\n",
    "            nn.Linear(512,288), #결과 288개 예측.\n",
    "            nn.ReLU(),  \n",
    "        )\n",
    "        \n",
    "    def forward(self, x):\n",
    "        output, _ = self.lstm(x)\n",
    "        output = self.classifier(output[:,-2,:]) # -1은 hidden state의 마지막 time step값을 가져온 것.\n",
    "        return output"
   ]
  },
  {
   "cell_type": "code",
   "execution_count": 34,
   "id": "8304e647",
   "metadata": {},
   "outputs": [],
   "source": [
    "#8. 학습\n",
    "def train(model,train_loader,optimizer, log_interval):\n",
    "    model.train()\n",
    "    train_loss = 0\n",
    "    train_mae_loss = 0\n",
    "    for batch_idx,(X, Y) in enumerate(train_loader):\n",
    "        X = X.to(DEVICE)\n",
    "        Y = Y.to(DEVICE)\n",
    "\n",
    "        optimizer.zero_grad()#데이터들 장비에 할당\n",
    "        output = model(X) # model로 output을 계산\n",
    "        loss = criterion(output, Y)        \n",
    "        train_loss += loss.item()\n",
    "        \n",
    "        with torch.no_grad():\n",
    "            mae = metric(output, Y)\n",
    "            train_mae_loss+=mae.item()\n",
    "        loss.backward()\n",
    "        optimizer.step()\n",
    "    \n",
    "    #train_loss/=len(train_loader.dataset)\n",
    "    #train_mae_loss/=len(train_loader.dataset)\n",
    "    \n",
    "    return train_loss,train_mae_loss\n",
    "\n"
   ]
  },
  {
   "cell_type": "code",
   "execution_count": 35,
   "id": "cad0878a",
   "metadata": {},
   "outputs": [],
   "source": [
    "#8. 학습\n",
    "def evaluate(model,valid_loader):\n",
    "    model.eval()\n",
    "    valid_loss = 0\n",
    "    valid_mae = 0\n",
    "    #no_grad : 그래디언트 값 계산 막기.\n",
    "    with torch.no_grad():\n",
    "        for X, Y in valid_loader:\n",
    "            X = X.to(DEVICE)\n",
    "            Y = Y.to(DEVICE)\n",
    "            output = model(X) # model로 output을 계산\n",
    "            \n",
    "            loss = criterion(output, Y)\n",
    "            valid_loss += loss.item()\n",
    "            mae = metric(output, Y)\n",
    "            valid_mae+=mae.item()\n",
    "    #valid_loss/=len(valid_loader.dataset)\n",
    "    #valid_mae/=len(valid_loader.dataset)\n",
    "    return valid_loss, valid_mae\n"
   ]
  },
  {
   "cell_type": "code",
   "execution_count": 36,
   "id": "ce9f1630",
   "metadata": {
    "scrolled": false
   },
   "outputs": [
    {
     "name": "stdout",
     "output_type": "stream",
     "text": [
      "./checkpoint/checkpoint_baseline.pt\n",
      "\n",
      "[EPOCH:1]\t Train Loss:4.5175\t Train MAE:22.1197  | \tValid Loss:0.4409 \tValid MAE: 2.3888\n",
      "\n",
      "-- SAVE Checkpoint --\n",
      "Valid loss : 9999999999.0000 -> 0.4409 \n",
      "\n",
      "\n",
      "[EPOCH:2]\t Train Loss:3.6752\t Train MAE:19.8877  | \tValid Loss:0.3402 \tValid MAE: 2.0684\n",
      "\n",
      "-- SAVE Checkpoint --\n",
      "Valid loss : 0.4409 -> 0.3402 \n",
      "\n",
      "\n",
      "[EPOCH:3]\t Train Loss:3.0404\t Train MAE:18.1864  | \tValid Loss:0.2926 \tValid MAE: 1.8993\n",
      "\n",
      "-- SAVE Checkpoint --\n",
      "Valid loss : 0.3402 -> 0.2926 \n",
      "\n",
      "\n",
      "[EPOCH:4]\t Train Loss:2.4567\t Train MAE:16.3219  | \tValid Loss:0.2361 \tValid MAE: 1.7103\n",
      "\n",
      "-- SAVE Checkpoint --\n",
      "Valid loss : 0.2926 -> 0.2361 \n",
      "\n",
      "\n",
      "[EPOCH:5]\t Train Loss:1.8876\t Train MAE:14.2091  | \tValid Loss:0.1751 \tValid MAE: 1.4638\n",
      "\n",
      "-- SAVE Checkpoint --\n",
      "Valid loss : 0.2361 -> 0.1751 \n",
      "\n",
      "\n",
      "[EPOCH:6]\t Train Loss:1.2783\t Train MAE:11.5787  | \tValid Loss:0.1213 \tValid MAE: 1.2054\n",
      "\n",
      "-- SAVE Checkpoint --\n",
      "Valid loss : 0.1751 -> 0.1213 \n",
      "\n",
      "\n",
      "[EPOCH:7]\t Train Loss:0.8458\t Train MAE:9.3467  | \tValid Loss:0.0914 \tValid MAE: 1.0457\n",
      "\n",
      "-- SAVE Checkpoint --\n",
      "Valid loss : 0.1213 -> 0.0914 \n",
      "\n",
      "\n",
      "[EPOCH:8]\t Train Loss:0.6261\t Train MAE:7.9860  | \tValid Loss:0.0736 \tValid MAE: 0.9314\n",
      "\n",
      "-- SAVE Checkpoint --\n",
      "Valid loss : 0.0914 -> 0.0736 \n",
      "\n",
      "\n",
      "[EPOCH:9]\t Train Loss:0.4934\t Train MAE:7.0529  | \tValid Loss:0.0631 \tValid MAE: 0.8584\n",
      "\n",
      "-- SAVE Checkpoint --\n",
      "Valid loss : 0.0736 -> 0.0631 \n",
      "\n",
      "\n",
      "[EPOCH:10]\t Train Loss:0.4172\t Train MAE:6.4454  | \tValid Loss:0.0517 \tValid MAE: 0.7740\n",
      "\n",
      "-- SAVE Checkpoint --\n",
      "Valid loss : 0.0631 -> 0.0517 \n",
      "\n",
      "\n",
      "[EPOCH:11]\t Train Loss:0.3645\t Train MAE:5.9991  | \tValid Loss:0.0473 \tValid MAE: 0.7398\n",
      "\n",
      "-- SAVE Checkpoint --\n",
      "Valid loss : 0.0517 -> 0.0473 \n",
      "\n",
      "\n",
      "[EPOCH:12]\t Train Loss:0.3299\t Train MAE:5.6892  | \tValid Loss:0.0475 \tValid MAE: 0.7410\n",
      "\n",
      "\n",
      "[EPOCH:13]\t Train Loss:0.3045\t Train MAE:5.4500  | \tValid Loss:0.0407 \tValid MAE: 0.6770\n",
      "\n",
      "-- SAVE Checkpoint --\n",
      "Valid loss : 0.0473 -> 0.0407 \n",
      "\n",
      "\n",
      "[EPOCH:14]\t Train Loss:0.2811\t Train MAE:5.2206  | \tValid Loss:0.0405 \tValid MAE: 0.6679\n",
      "\n",
      "-- SAVE Checkpoint --\n",
      "Valid loss : 0.0407 -> 0.0405 \n",
      "\n",
      "\n",
      "[EPOCH:15]\t Train Loss:0.2686\t Train MAE:5.0966  | \tValid Loss:0.0395 \tValid MAE: 0.6663\n",
      "\n",
      "-- SAVE Checkpoint --\n",
      "Valid loss : 0.0405 -> 0.0395 \n",
      "\n",
      "\n",
      "[EPOCH:16]\t Train Loss:0.2572\t Train MAE:4.9857  | \tValid Loss:0.0360 \tValid MAE: 0.6302\n",
      "\n",
      "-- SAVE Checkpoint --\n",
      "Valid loss : 0.0395 -> 0.0360 \n",
      "\n",
      "\n",
      "[EPOCH:17]\t Train Loss:0.2449\t Train MAE:4.8535  | \tValid Loss:0.0358 \tValid MAE: 0.6318\n",
      "\n",
      "-- SAVE Checkpoint --\n",
      "Valid loss : 0.0360 -> 0.0358 \n",
      "\n",
      "\n",
      "[EPOCH:18]\t Train Loss:0.2360\t Train MAE:4.7645  | \tValid Loss:0.0344 \tValid MAE: 0.6152\n",
      "\n",
      "-- SAVE Checkpoint --\n",
      "Valid loss : 0.0358 -> 0.0344 \n",
      "\n",
      "\n",
      "[EPOCH:19]\t Train Loss:0.2308\t Train MAE:4.7166  | \tValid Loss:0.0329 \tValid MAE: 0.5968\n",
      "\n",
      "-- SAVE Checkpoint --\n",
      "Valid loss : 0.0344 -> 0.0329 \n",
      "\n",
      "\n",
      "[EPOCH:20]\t Train Loss:0.2245\t Train MAE:4.6411  | \tValid Loss:0.0333 \tValid MAE: 0.6039\n",
      "\n",
      "\n",
      "[EPOCH:21]\t Train Loss:0.2136\t Train MAE:4.5216  | \tValid Loss:0.0316 \tValid MAE: 0.5875\n",
      "\n",
      "-- SAVE Checkpoint --\n",
      "Valid loss : 0.0329 -> 0.0316 \n",
      "\n",
      "\n",
      "[EPOCH:22]\t Train Loss:0.2086\t Train MAE:4.4722  | \tValid Loss:0.0313 \tValid MAE: 0.5805\n",
      "\n",
      "-- SAVE Checkpoint --\n",
      "Valid loss : 0.0316 -> 0.0313 \n",
      "\n",
      "\n",
      "[EPOCH:23]\t Train Loss:0.2056\t Train MAE:4.4325  | \tValid Loss:0.0312 \tValid MAE: 0.5813\n",
      "\n",
      "-- SAVE Checkpoint --\n",
      "Valid loss : 0.0313 -> 0.0312 \n",
      "\n",
      "\n",
      "[EPOCH:24]\t Train Loss:0.2050\t Train MAE:4.4328  | \tValid Loss:0.0300 \tValid MAE: 0.5677\n",
      "\n",
      "-- SAVE Checkpoint --\n",
      "Valid loss : 0.0312 -> 0.0300 \n",
      "\n",
      "\n",
      "[EPOCH:25]\t Train Loss:0.1998\t Train MAE:4.3720  | \tValid Loss:0.0310 \tValid MAE: 0.5770\n",
      "\n",
      "\n",
      "[EPOCH:26]\t Train Loss:0.1949\t Train MAE:4.3148  | \tValid Loss:0.0329 \tValid MAE: 0.5935\n",
      "\n",
      "\n",
      "[EPOCH:27]\t Train Loss:0.1985\t Train MAE:4.3600  | \tValid Loss:0.0295 \tValid MAE: 0.5620\n",
      "\n",
      "-- SAVE Checkpoint --\n",
      "Valid loss : 0.0300 -> 0.0295 \n",
      "\n",
      "\n",
      "[EPOCH:28]\t Train Loss:0.1959\t Train MAE:4.3293  | \tValid Loss:0.0294 \tValid MAE: 0.5614\n",
      "\n",
      "-- SAVE Checkpoint --\n",
      "Valid loss : 0.0295 -> 0.0294 \n",
      "\n",
      "\n",
      "[EPOCH:29]\t Train Loss:0.1859\t Train MAE:4.2049  | \tValid Loss:0.0287 \tValid MAE: 0.5508\n",
      "\n",
      "-- SAVE Checkpoint --\n",
      "Valid loss : 0.0294 -> 0.0287 \n",
      "\n",
      "\n",
      "[EPOCH:30]\t Train Loss:0.1853\t Train MAE:4.1951  | \tValid Loss:0.0292 \tValid MAE: 0.5582\n",
      "\n"
     ]
    }
   ],
   "source": [
    "#학습 진행 코드\n",
    "\n",
    "\n",
    "check_path = './checkpoint/checkpoint_baseline.pt'\n",
    "print(check_path)\n",
    "model = BaseModel().to(DEVICE)\n",
    "criterion = nn.MSELoss().to(DEVICE)\n",
    "metric = nn.L1Loss().to(DEVICE)\n",
    "\n",
    "optimizer = torch.optim.Adam(model.parameters(),lr=lr)\n",
    "\n",
    "best_valid_mae = 999999\n",
    "best_valid_loss = 9999999999\n",
    "\n",
    "\n",
    "\n",
    "for Epoch in range(1,EPOCHS+1):\n",
    "    train_loss,train_mae = train(model,train_loader,optimizer,log_interval=31)\n",
    "    valid_loss,valid_mae = evaluate(model, valid_loader)\n",
    "    \n",
    "    \n",
    "    print(\"\\n[EPOCH:{}]\\t Train Loss:{:.4f}\\t Train MAE:{:.4f}  | \\tValid Loss:{:.4f} \\tValid MAE: {:.4f}\\n\".\n",
    "                  format(Epoch, train_loss, train_mae,\n",
    "                         valid_loss, valid_mae ))\n",
    "    if best_valid_loss > valid_loss:\n",
    "        print(\"-- SAVE Checkpoint --\")\n",
    "        print(\"Valid loss : {:.4f} -> {:.4f} \\n\".format(best_valid_loss,valid_loss ))\n",
    "        torch.save(model.state_dict(), check_path, _use_new_zipfile_serialization=False)\n",
    "        best_valid_mae = valid_mae\n",
    "        best_valid_loss =valid_loss\n",
    "        \n",
    "    \n",
    "    "
   ]
  },
  {
   "cell_type": "code",
   "execution_count": 34,
   "id": "c45304e1",
   "metadata": {},
   "outputs": [
    {
     "ename": "NameError",
     "evalue": "name 'ddddd' is not defined",
     "output_type": "error",
     "traceback": [
      "\u001b[1;31m---------------------------------------------------------------------------\u001b[0m",
      "\u001b[1;31mNameError\u001b[0m                                 Traceback (most recent call last)",
      "\u001b[1;32m~\\AppData\\Local\\Temp/ipykernel_4336/2487491902.py\u001b[0m in \u001b[0;36m<module>\u001b[1;34m\u001b[0m\n\u001b[1;32m----> 1\u001b[1;33m \u001b[0mddddd\u001b[0m\u001b[1;33m\u001b[0m\u001b[1;33m\u001b[0m\u001b[0m\n\u001b[0m",
      "\u001b[1;31mNameError\u001b[0m: name 'ddddd' is not defined"
     ]
    }
   ],
   "source": [
    "ddddd"
   ]
  },
  {
   "cell_type": "markdown",
   "id": "b01e39bf",
   "metadata": {},
   "source": [
    "# validation 확인"
   ]
  },
  {
   "cell_type": "code",
   "execution_count": 77,
   "id": "2f8da1a8",
   "metadata": {},
   "outputs": [
    {
     "name": "stdout",
     "output_type": "stream",
     "text": [
      "Valid loss : 0.0256 / Valid MAE : 0.5197 \n",
      "\n"
     ]
    }
   ],
   "source": [
    "print(\"Valid loss : {:.4f} / Valid MAE : {:.4f} \\n\".format(best_valid_loss,best_valid_mae))"
   ]
  },
  {
   "cell_type": "code",
   "execution_count": 53,
   "id": "94abeb7b",
   "metadata": {},
   "outputs": [
    {
     "name": "stdout",
     "output_type": "stream",
     "text": [
      "Valid loss : 0.0287 / Valid MAE : 0.5508 \n",
      "\n"
     ]
    }
   ],
   "source": [
    "print(\"Valid loss : {:.4f} / Valid MAE : {:.4f} \\n\".format(best_valid_loss,best_valid_mae))"
   ]
  },
  {
   "cell_type": "markdown",
   "id": "a0a2834d",
   "metadata": {},
   "source": [
    "# TEST"
   ]
  },
  {
   "cell_type": "code",
   "execution_count": 54,
   "id": "42905079",
   "metadata": {},
   "outputs": [],
   "source": [
    "\n",
    "# 이전 5일치 가져오기.\n",
    "test_data_list = [x for x in range(190, 195)]\n",
    "\n",
    "test_data = train_data[train_data[\"Day\"].isin(test_data_list)]\n",
    "test_data = test_data[test_data['TurbID']==1]\n",
    "\n",
    "test_data = test_data.drop([\"TurbID\", \"Day\",\"Patv\",\"Etmp\",\"Ndir\"], axis = 1)\n",
    "\n",
    "test_data = np.array(test_data).reshape(-1, train_x[0].shape[0], train_x[0].shape[1])\n",
    "#train set 처럼 batch,720,11로 고치기\n"
   ]
  },
  {
   "cell_type": "code",
   "execution_count": 55,
   "id": "d4fb8be6",
   "metadata": {},
   "outputs": [
    {
     "data": {
      "text/plain": [
       "(1, 720, 9)"
      ]
     },
     "execution_count": 55,
     "metadata": {},
     "output_type": "execute_result"
    }
   ],
   "source": [
    "test_data.shape"
   ]
  },
  {
   "cell_type": "code",
   "execution_count": 56,
   "id": "d0ed76bb",
   "metadata": {},
   "outputs": [],
   "source": [
    "test_dataset = TimeDataset(test_data, None)\n",
    "\n",
    "test_loader = DataLoader(test_dataset, \n",
    "                          batch_size = BATCH_SIZE,\n",
    "                          shuffle=False)\n",
    "\n",
    "\n"
   ]
  },
  {
   "cell_type": "code",
   "execution_count": 57,
   "id": "63255878",
   "metadata": {},
   "outputs": [],
   "source": [
    "def predict(model, test_loader):\n",
    "    model.eval()\n",
    "    preds = []\n",
    "    with torch.no_grad():\n",
    "        for X in tqdm(iter(test_loader)):\n",
    "            X = X.to(DEVICE)\n",
    "            \n",
    "            pred = model(X)\n",
    "            preds += pred.cpu().tolist()\n",
    "    \n",
    "    return np.array(preds)"
   ]
  },
  {
   "cell_type": "code",
   "execution_count": 58,
   "id": "466a8e3c",
   "metadata": {},
   "outputs": [
    {
     "data": {
      "text/plain": [
       "BaseModel(\n",
       "  (lstm): GRU(9, 512, batch_first=True, bidirectional=True)\n",
       "  (classifier): Sequential(\n",
       "    (0): Linear(in_features=1024, out_features=512, bias=True)\n",
       "    (1): ReLU()\n",
       "    (2): Linear(in_features=512, out_features=288, bias=True)\n",
       "    (3): ReLU()\n",
       "  )\n",
       ")"
      ]
     },
     "execution_count": 58,
     "metadata": {},
     "output_type": "execute_result"
    }
   ],
   "source": [
    "model = BaseModel().to(DEVICE)\n",
    "best_checkpoint = torch.load('./checkpoint/checkpoint_baseline.pt')\n",
    "model.load_state_dict(best_checkpoint)\n",
    "model.eval()"
   ]
  },
  {
   "cell_type": "code",
   "execution_count": 59,
   "id": "d216b092",
   "metadata": {},
   "outputs": [
    {
     "name": "stderr",
     "output_type": "stream",
     "text": [
      "100%|████████████████████████████████████████████████████████████████████████████████████| 1/1 [00:00<00:00, 53.80it/s]\n"
     ]
    }
   ],
   "source": [
    "preds = predict(model, test_loader)"
   ]
  },
  {
   "cell_type": "code",
   "execution_count": 60,
   "id": "c3d53d79",
   "metadata": {},
   "outputs": [
    {
     "data": {
      "text/plain": [
       "0.038037276531000384"
      ]
     },
     "execution_count": 60,
     "metadata": {},
     "output_type": "execute_result"
    }
   ],
   "source": [
    "nor.scale_"
   ]
  },
  {
   "cell_type": "code",
   "execution_count": 61,
   "id": "e1f9f19d",
   "metadata": {
    "scrolled": true
   },
   "outputs": [],
   "source": [
    "preds = nor.inverse_transform(preds)\n",
    "preds = preds.reshape(-1)"
   ]
  },
  {
   "cell_type": "code",
   "execution_count": 62,
   "id": "ed3c8ecb",
   "metadata": {},
   "outputs": [],
   "source": [
    "sample_submission = pd.read_csv(\"data/sample_submission.csv\")"
   ]
  },
  {
   "cell_type": "code",
   "execution_count": 63,
   "id": "8faee9fe",
   "metadata": {},
   "outputs": [],
   "source": [
    "for i in range(1,135):\n",
    "    sample_submission.loc[sample_submission[\"TurbID\"]==i,\"Wspd\"] = preds"
   ]
  },
  {
   "cell_type": "code",
   "execution_count": 64,
   "id": "35919698",
   "metadata": {},
   "outputs": [],
   "source": [
    "\n",
    "sample_submission.to_csv(\"./submit.csv\", index = False)"
   ]
  },
  {
   "cell_type": "code",
   "execution_count": 65,
   "id": "38fd8f4b",
   "metadata": {},
   "outputs": [
    {
     "data": {
      "text/html": [
       "<div>\n",
       "<style scoped>\n",
       "    .dataframe tbody tr th:only-of-type {\n",
       "        vertical-align: middle;\n",
       "    }\n",
       "\n",
       "    .dataframe tbody tr th {\n",
       "        vertical-align: top;\n",
       "    }\n",
       "\n",
       "    .dataframe thead th {\n",
       "        text-align: right;\n",
       "    }\n",
       "</style>\n",
       "<table border=\"1\" class=\"dataframe\">\n",
       "  <thead>\n",
       "    <tr style=\"text-align: right;\">\n",
       "      <th></th>\n",
       "      <th>index</th>\n",
       "      <th>TurbID</th>\n",
       "      <th>Day</th>\n",
       "      <th>Tmstamp</th>\n",
       "      <th>Wspd</th>\n",
       "      <th>Wdir</th>\n",
       "      <th>Etmp</th>\n",
       "      <th>Itmp</th>\n",
       "      <th>Ndir</th>\n",
       "      <th>Pab1</th>\n",
       "      <th>Pab2</th>\n",
       "      <th>Pab3</th>\n",
       "      <th>Prtv</th>\n",
       "      <th>Patv</th>\n",
       "    </tr>\n",
       "  </thead>\n",
       "  <tbody>\n",
       "    <tr>\n",
       "      <th>0</th>\n",
       "      <td>0</td>\n",
       "      <td>1</td>\n",
       "      <td>201</td>\n",
       "      <td>00:00</td>\n",
       "      <td>1.352414</td>\n",
       "      <td>0</td>\n",
       "      <td>0</td>\n",
       "      <td>0</td>\n",
       "      <td>0</td>\n",
       "      <td>0</td>\n",
       "      <td>0</td>\n",
       "      <td>0</td>\n",
       "      <td>0</td>\n",
       "      <td>9999</td>\n",
       "    </tr>\n",
       "    <tr>\n",
       "      <th>1</th>\n",
       "      <td>1</td>\n",
       "      <td>1</td>\n",
       "      <td>201</td>\n",
       "      <td>00:10</td>\n",
       "      <td>1.575145</td>\n",
       "      <td>0</td>\n",
       "      <td>0</td>\n",
       "      <td>0</td>\n",
       "      <td>0</td>\n",
       "      <td>0</td>\n",
       "      <td>0</td>\n",
       "      <td>0</td>\n",
       "      <td>0</td>\n",
       "      <td>9999</td>\n",
       "    </tr>\n",
       "    <tr>\n",
       "      <th>2</th>\n",
       "      <td>2</td>\n",
       "      <td>1</td>\n",
       "      <td>201</td>\n",
       "      <td>00:20</td>\n",
       "      <td>1.330595</td>\n",
       "      <td>0</td>\n",
       "      <td>0</td>\n",
       "      <td>0</td>\n",
       "      <td>0</td>\n",
       "      <td>0</td>\n",
       "      <td>0</td>\n",
       "      <td>0</td>\n",
       "      <td>0</td>\n",
       "      <td>9999</td>\n",
       "    </tr>\n",
       "    <tr>\n",
       "      <th>3</th>\n",
       "      <td>3</td>\n",
       "      <td>1</td>\n",
       "      <td>201</td>\n",
       "      <td>00:30</td>\n",
       "      <td>1.523162</td>\n",
       "      <td>0</td>\n",
       "      <td>0</td>\n",
       "      <td>0</td>\n",
       "      <td>0</td>\n",
       "      <td>0</td>\n",
       "      <td>0</td>\n",
       "      <td>0</td>\n",
       "      <td>0</td>\n",
       "      <td>9999</td>\n",
       "    </tr>\n",
       "    <tr>\n",
       "      <th>4</th>\n",
       "      <td>4</td>\n",
       "      <td>1</td>\n",
       "      <td>201</td>\n",
       "      <td>00:40</td>\n",
       "      <td>1.328469</td>\n",
       "      <td>0</td>\n",
       "      <td>0</td>\n",
       "      <td>0</td>\n",
       "      <td>0</td>\n",
       "      <td>0</td>\n",
       "      <td>0</td>\n",
       "      <td>0</td>\n",
       "      <td>0</td>\n",
       "      <td>9999</td>\n",
       "    </tr>\n",
       "    <tr>\n",
       "      <th>...</th>\n",
       "      <td>...</td>\n",
       "      <td>...</td>\n",
       "      <td>...</td>\n",
       "      <td>...</td>\n",
       "      <td>...</td>\n",
       "      <td>...</td>\n",
       "      <td>...</td>\n",
       "      <td>...</td>\n",
       "      <td>...</td>\n",
       "      <td>...</td>\n",
       "      <td>...</td>\n",
       "      <td>...</td>\n",
       "      <td>...</td>\n",
       "      <td>...</td>\n",
       "    </tr>\n",
       "    <tr>\n",
       "      <th>38587</th>\n",
       "      <td>38587</td>\n",
       "      <td>134</td>\n",
       "      <td>202</td>\n",
       "      <td>23:10</td>\n",
       "      <td>7.664304</td>\n",
       "      <td>0</td>\n",
       "      <td>0</td>\n",
       "      <td>0</td>\n",
       "      <td>0</td>\n",
       "      <td>0</td>\n",
       "      <td>0</td>\n",
       "      <td>0</td>\n",
       "      <td>0</td>\n",
       "      <td>9999</td>\n",
       "    </tr>\n",
       "    <tr>\n",
       "      <th>38588</th>\n",
       "      <td>38588</td>\n",
       "      <td>134</td>\n",
       "      <td>202</td>\n",
       "      <td>23:20</td>\n",
       "      <td>7.312123</td>\n",
       "      <td>0</td>\n",
       "      <td>0</td>\n",
       "      <td>0</td>\n",
       "      <td>0</td>\n",
       "      <td>0</td>\n",
       "      <td>0</td>\n",
       "      <td>0</td>\n",
       "      <td>0</td>\n",
       "      <td>9999</td>\n",
       "    </tr>\n",
       "    <tr>\n",
       "      <th>38589</th>\n",
       "      <td>38589</td>\n",
       "      <td>134</td>\n",
       "      <td>202</td>\n",
       "      <td>23:30</td>\n",
       "      <td>7.273903</td>\n",
       "      <td>0</td>\n",
       "      <td>0</td>\n",
       "      <td>0</td>\n",
       "      <td>0</td>\n",
       "      <td>0</td>\n",
       "      <td>0</td>\n",
       "      <td>0</td>\n",
       "      <td>0</td>\n",
       "      <td>9999</td>\n",
       "    </tr>\n",
       "    <tr>\n",
       "      <th>38590</th>\n",
       "      <td>38590</td>\n",
       "      <td>134</td>\n",
       "      <td>202</td>\n",
       "      <td>23:40</td>\n",
       "      <td>6.355690</td>\n",
       "      <td>0</td>\n",
       "      <td>0</td>\n",
       "      <td>0</td>\n",
       "      <td>0</td>\n",
       "      <td>0</td>\n",
       "      <td>0</td>\n",
       "      <td>0</td>\n",
       "      <td>0</td>\n",
       "      <td>9999</td>\n",
       "    </tr>\n",
       "    <tr>\n",
       "      <th>38591</th>\n",
       "      <td>38591</td>\n",
       "      <td>134</td>\n",
       "      <td>202</td>\n",
       "      <td>23:50</td>\n",
       "      <td>6.805940</td>\n",
       "      <td>0</td>\n",
       "      <td>0</td>\n",
       "      <td>0</td>\n",
       "      <td>0</td>\n",
       "      <td>0</td>\n",
       "      <td>0</td>\n",
       "      <td>0</td>\n",
       "      <td>0</td>\n",
       "      <td>9999</td>\n",
       "    </tr>\n",
       "  </tbody>\n",
       "</table>\n",
       "<p>38592 rows × 14 columns</p>\n",
       "</div>"
      ],
      "text/plain": [
       "       index  TurbID  Day Tmstamp      Wspd  Wdir  Etmp  Itmp  Ndir  Pab1  \\\n",
       "0          0       1  201   00:00  1.352414     0     0     0     0     0   \n",
       "1          1       1  201   00:10  1.575145     0     0     0     0     0   \n",
       "2          2       1  201   00:20  1.330595     0     0     0     0     0   \n",
       "3          3       1  201   00:30  1.523162     0     0     0     0     0   \n",
       "4          4       1  201   00:40  1.328469     0     0     0     0     0   \n",
       "...      ...     ...  ...     ...       ...   ...   ...   ...   ...   ...   \n",
       "38587  38587     134  202   23:10  7.664304     0     0     0     0     0   \n",
       "38588  38588     134  202   23:20  7.312123     0     0     0     0     0   \n",
       "38589  38589     134  202   23:30  7.273903     0     0     0     0     0   \n",
       "38590  38590     134  202   23:40  6.355690     0     0     0     0     0   \n",
       "38591  38591     134  202   23:50  6.805940     0     0     0     0     0   \n",
       "\n",
       "       Pab2  Pab3  Prtv  Patv  \n",
       "0         0     0     0  9999  \n",
       "1         0     0     0  9999  \n",
       "2         0     0     0  9999  \n",
       "3         0     0     0  9999  \n",
       "4         0     0     0  9999  \n",
       "...     ...   ...   ...   ...  \n",
       "38587     0     0     0  9999  \n",
       "38588     0     0     0  9999  \n",
       "38589     0     0     0  9999  \n",
       "38590     0     0     0  9999  \n",
       "38591     0     0     0  9999  \n",
       "\n",
       "[38592 rows x 14 columns]"
      ]
     },
     "execution_count": 65,
     "metadata": {},
     "output_type": "execute_result"
    }
   ],
   "source": [
    "sample_submission"
   ]
  },
  {
   "cell_type": "code",
   "execution_count": 66,
   "id": "59bca8b3",
   "metadata": {},
   "outputs": [
    {
     "data": {
      "text/plain": [
       "(0.0, 20.0)"
      ]
     },
     "execution_count": 66,
     "metadata": {},
     "output_type": "execute_result"
    },
    {
     "data": {
      "image/png": "[encoded data removed]",
      "text/plain": [
       "<Figure size 1440x360 with 1 Axes>"
      ]
     },
     "metadata": {
      "needs_background": "light"
     },
     "output_type": "display_data"
    }
   ],
   "source": [
    "plt.figure(figsize=(20, 5))\n",
    "plt.plot(sample_submission.loc[sample_submission[\"TurbID\"]==1,\"Wspd\"])\n",
    "plt.vlines(144,0,20)\n",
    "plt.ylim([0,20])"
   ]
  },
  {
   "cell_type": "code",
   "execution_count": 67,
   "id": "10c3a508",
   "metadata": {},
   "outputs": [
    {
     "data": {
      "text/plain": [
       "(0.0, 1.0)"
      ]
     },
     "execution_count": 67,
     "metadata": {},
     "output_type": "execute_result"
    },
    {
     "data": {
      "image/png": "[encoded data removed]",
      "text/plain": [
       "<Figure size 1440x360 with 1 Axes>"
      ]
     },
     "metadata": {
      "needs_background": "light"
     },
     "output_type": "display_data"
    }
   ],
   "source": [
    "plt.figure(figsize=(20, 5))\n",
    "plt.plot(np.arange(0,288),train_data.loc[ ((train_data[\"Day\"]==195)|(train_data[\"Day\"]==196)) &(train_data[\"TurbID\"]==1) ,\"Wspd\"])\n",
    "plt.vlines(144,0,1)\n",
    "plt.ylim([0,1])"
   ]
  },
  {
   "cell_type": "code",
   "execution_count": null,
   "id": "59c08bfe",
   "metadata": {},
   "outputs": [],
   "source": []
  }
 ],
 "metadata": {
  "kernelspec": {
   "display_name": "Python 3 (ipykernel)",
   "language": "python",
   "name": "python3"
  },
  "language_info": {
   "codemirror_mode": {
    "name": "ipython",
    "version": 3
   },
   "file_extension": ".py",
   "mimetype": "text/x-python",
   "name": "python",
   "nbconvert_exporter": "python",
   "pygments_lexer": "ipython3",
   "version": "3.8.12"
  },
  "toc": {
   "base_numbering": 1,
   "nav_menu": {},
   "number_sections": true,
   "sideBar": true,
   "skip_h1_title": false,
   "title_cell": "Table of Contents",
   "title_sidebar": "Contents",
   "toc_cell": false,
   "toc_position": {
    "height": "calc(100% - 180px)",
    "left": "10px",
    "top": "150px",
    "width": "409.6px"
   },
   "toc_section_display": true,
   "toc_window_display": false
  }
 },
 "nbformat": 4,
 "nbformat_minor": 5
}
