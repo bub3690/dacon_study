{
 "cells": [
  {
   "cell_type": "code",
   "execution_count": 1,
   "id": "aae1bd5f",
   "metadata": {},
   "outputs": [
    {
     "name": "stdout",
     "output_type": "stream",
     "text": [
      "Using Pytorch version :  1.10.2  Device :  cuda\n"
     ]
    }
   ],
   "source": [
    "import torch\n",
    "import matplotlib.pyplot as plt\n",
    "import numpy as np\n",
    "import torch\n",
    "import torch.nn as nn # 인공 신경망 모델들 모아놓은 모듈\n",
    "import torch.nn.functional as F #그중 자주 쓰이는것들을 F로\n",
    "from torch.utils.data import Dataset, DataLoader\n",
    "import pandas as pd\n",
    "import os\n",
    "from glob import glob\n",
    "import sys\n",
    "from sklearn.model_selection import train_test_split # train , test 분리에 사용.\n",
    "\n",
    "if torch.cuda.is_available():\n",
    "    DEVICE = torch.device('cuda')\n",
    "else:\n",
    "    DEVICE = torch.device('cpu')\n",
    "#DEVICE = torch.device('cpu')\n",
    "print('Using Pytorch version : ',torch.__version__,' Device : ',DEVICE)"
   ]
  },
  {
   "cell_type": "code",
   "execution_count": 2,
   "id": "07f7f7a1",
   "metadata": {},
   "outputs": [],
   "source": [
    "from tqdm import tqdm"
   ]
  },
  {
   "cell_type": "markdown",
   "id": "79af139e",
   "metadata": {},
   "source": [
    "# 데이터 전처리\n",
    "\n",
    "```\n",
    "\n",
    "TurbID - 발전기 ID\n",
    "\n",
    "Day - 날짜\n",
    "\n",
    "Tmstamp - 시간\n",
    "\n",
    "Wspd - 풍속\n",
    "\n",
    "Wdir - 터빈이 바라보는 각도와 실제 바람 방향 각도 차이\n",
    "\n",
    "Etmp - 외부 온도\n",
    "\n",
    "Itmp - 터빈 내부 온도\n",
    "\n",
    "Ndir - 터빈이 바라보는 방향 각도\n",
    "\n",
    "Pab - 터빈 당 3개의 날이 있으며 각각의 각도가 다름\n",
    "\n",
    "Prtv - 무효전력 : 에너지원을 필요로 하지 않는 전력\n",
    "\n",
    "Patv - 유효전력 : 실제로 터빈을 돌리는 일을 하는 전력\n",
    "\n",
    "````\n",
    "\n",
    "\n",
    "베이스 라인 제공 전처리 방법"
   ]
  },
  {
   "cell_type": "code",
   "execution_count": 44,
   "id": "5c000a23",
   "metadata": {},
   "outputs": [],
   "source": [
    "train_data = pd.read_csv(\"data/train_data.csv\")\n",
    "sample_submission = pd.read_csv(\"data/sample_submission.csv\")"
   ]
  },
  {
   "cell_type": "code",
   "execution_count": 45,
   "id": "0839be7b",
   "metadata": {},
   "outputs": [
    {
     "data": {
      "text/plain": [
       "TurbID         0\n",
       "Day            0\n",
       "Tmstamp        0\n",
       "Wspd       45587\n",
       "Wdir       45587\n",
       "Etmp       45587\n",
       "Itmp       45587\n",
       "Ndir       45587\n",
       "Pab1       45587\n",
       "Pab2       45587\n",
       "Pab3       45587\n",
       "Prtv       45587\n",
       "Patv       45587\n",
       "dtype: int64"
      ]
     },
     "execution_count": 45,
     "metadata": {},
     "output_type": "execute_result"
    }
   ],
   "source": [
    "# train_data의 결측값 확인\n",
    "train_data.isnull().sum()"
   ]
  },
  {
   "cell_type": "code",
   "execution_count": 46,
   "id": "6a3dbb3a",
   "metadata": {},
   "outputs": [
    {
     "name": "stdout",
     "output_type": "stream",
     "text": [
      "TurbID     0\n",
      "Day        0\n",
      "Tmstamp    0\n",
      "Wspd       0\n",
      "Wdir       0\n",
      "Etmp       0\n",
      "Itmp       0\n",
      "Ndir       0\n",
      "Pab1       0\n",
      "Pab2       0\n",
      "Pab3       0\n",
      "Prtv       0\n",
      "Patv       0\n",
      "dtype: int64\n"
     ]
    }
   ],
   "source": [
    "# method : 결측값을 변경할 방식입니다. bfill로 할경우 결측값을 바로 아래 값과 동일하게 변경합니다.\n",
    "# 결측값 처리\n",
    "train_data = train_data.fillna(method = 'ffill').fillna(method = 'bfill')\n",
    "\n",
    "print(train_data.isnull().sum())"
   ]
  },
  {
   "cell_type": "code",
   "execution_count": 47,
   "id": "a59356c0",
   "metadata": {},
   "outputs": [
    {
     "data": {
      "text/html": [
       "<div>\n",
       "<style scoped>\n",
       "    .dataframe tbody tr th:only-of-type {\n",
       "        vertical-align: middle;\n",
       "    }\n",
       "\n",
       "    .dataframe tbody tr th {\n",
       "        vertical-align: top;\n",
       "    }\n",
       "\n",
       "    .dataframe thead th {\n",
       "        text-align: right;\n",
       "    }\n",
       "</style>\n",
       "<table border=\"1\" class=\"dataframe\">\n",
       "  <thead>\n",
       "    <tr style=\"text-align: right;\">\n",
       "      <th></th>\n",
       "      <th>TurbID</th>\n",
       "      <th>Day</th>\n",
       "      <th>Tmstamp</th>\n",
       "      <th>Wspd</th>\n",
       "      <th>Wdir</th>\n",
       "      <th>Etmp</th>\n",
       "      <th>Itmp</th>\n",
       "      <th>Ndir</th>\n",
       "      <th>Pab1</th>\n",
       "      <th>Pab2</th>\n",
       "      <th>Pab3</th>\n",
       "      <th>Prtv</th>\n",
       "      <th>Patv</th>\n",
       "    </tr>\n",
       "  </thead>\n",
       "  <tbody>\n",
       "    <tr>\n",
       "      <th>0</th>\n",
       "      <td>1</td>\n",
       "      <td>1</td>\n",
       "      <td>00:00</td>\n",
       "      <td>6.17</td>\n",
       "      <td>-3.99</td>\n",
       "      <td>30.73</td>\n",
       "      <td>41.80</td>\n",
       "      <td>25.92</td>\n",
       "      <td>1.00</td>\n",
       "      <td>1.00</td>\n",
       "      <td>1.00</td>\n",
       "      <td>-0.25</td>\n",
       "      <td>494.66</td>\n",
       "    </tr>\n",
       "    <tr>\n",
       "      <th>1</th>\n",
       "      <td>1</td>\n",
       "      <td>1</td>\n",
       "      <td>00:10</td>\n",
       "      <td>6.17</td>\n",
       "      <td>-3.99</td>\n",
       "      <td>30.73</td>\n",
       "      <td>41.80</td>\n",
       "      <td>25.92</td>\n",
       "      <td>1.00</td>\n",
       "      <td>1.00</td>\n",
       "      <td>1.00</td>\n",
       "      <td>-0.25</td>\n",
       "      <td>494.66</td>\n",
       "    </tr>\n",
       "    <tr>\n",
       "      <th>2</th>\n",
       "      <td>1</td>\n",
       "      <td>1</td>\n",
       "      <td>00:20</td>\n",
       "      <td>6.27</td>\n",
       "      <td>-2.18</td>\n",
       "      <td>30.60</td>\n",
       "      <td>41.63</td>\n",
       "      <td>20.91</td>\n",
       "      <td>1.00</td>\n",
       "      <td>1.00</td>\n",
       "      <td>1.00</td>\n",
       "      <td>-0.24</td>\n",
       "      <td>509.76</td>\n",
       "    </tr>\n",
       "    <tr>\n",
       "      <th>3</th>\n",
       "      <td>1</td>\n",
       "      <td>1</td>\n",
       "      <td>00:30</td>\n",
       "      <td>6.42</td>\n",
       "      <td>-0.73</td>\n",
       "      <td>30.52</td>\n",
       "      <td>41.52</td>\n",
       "      <td>20.91</td>\n",
       "      <td>1.00</td>\n",
       "      <td>1.00</td>\n",
       "      <td>1.00</td>\n",
       "      <td>-0.26</td>\n",
       "      <td>542.53</td>\n",
       "    </tr>\n",
       "    <tr>\n",
       "      <th>4</th>\n",
       "      <td>1</td>\n",
       "      <td>1</td>\n",
       "      <td>00:40</td>\n",
       "      <td>6.25</td>\n",
       "      <td>0.89</td>\n",
       "      <td>30.49</td>\n",
       "      <td>41.38</td>\n",
       "      <td>20.91</td>\n",
       "      <td>1.00</td>\n",
       "      <td>1.00</td>\n",
       "      <td>1.00</td>\n",
       "      <td>-0.23</td>\n",
       "      <td>509.36</td>\n",
       "    </tr>\n",
       "    <tr>\n",
       "      <th>...</th>\n",
       "      <td>...</td>\n",
       "      <td>...</td>\n",
       "      <td>...</td>\n",
       "      <td>...</td>\n",
       "      <td>...</td>\n",
       "      <td>...</td>\n",
       "      <td>...</td>\n",
       "      <td>...</td>\n",
       "      <td>...</td>\n",
       "      <td>...</td>\n",
       "      <td>...</td>\n",
       "      <td>...</td>\n",
       "      <td>...</td>\n",
       "    </tr>\n",
       "    <tr>\n",
       "      <th>139</th>\n",
       "      <td>1</td>\n",
       "      <td>1</td>\n",
       "      <td>23:10</td>\n",
       "      <td>9.95</td>\n",
       "      <td>0.49</td>\n",
       "      <td>28.71</td>\n",
       "      <td>42.53</td>\n",
       "      <td>-9.44</td>\n",
       "      <td>1.02</td>\n",
       "      <td>1.02</td>\n",
       "      <td>1.02</td>\n",
       "      <td>-0.29</td>\n",
       "      <td>1330.24</td>\n",
       "    </tr>\n",
       "    <tr>\n",
       "      <th>140</th>\n",
       "      <td>1</td>\n",
       "      <td>1</td>\n",
       "      <td>23:20</td>\n",
       "      <td>12.20</td>\n",
       "      <td>0.70</td>\n",
       "      <td>28.59</td>\n",
       "      <td>42.56</td>\n",
       "      <td>-8.17</td>\n",
       "      <td>1.08</td>\n",
       "      <td>1.08</td>\n",
       "      <td>1.08</td>\n",
       "      <td>-0.23</td>\n",
       "      <td>1550.74</td>\n",
       "    </tr>\n",
       "    <tr>\n",
       "      <th>141</th>\n",
       "      <td>1</td>\n",
       "      <td>1</td>\n",
       "      <td>23:30</td>\n",
       "      <td>12.66</td>\n",
       "      <td>1.09</td>\n",
       "      <td>28.54</td>\n",
       "      <td>42.23</td>\n",
       "      <td>-8.17</td>\n",
       "      <td>1.08</td>\n",
       "      <td>1.08</td>\n",
       "      <td>1.08</td>\n",
       "      <td>-0.21</td>\n",
       "      <td>1549.66</td>\n",
       "    </tr>\n",
       "    <tr>\n",
       "      <th>142</th>\n",
       "      <td>1</td>\n",
       "      <td>1</td>\n",
       "      <td>23:40</td>\n",
       "      <td>12.58</td>\n",
       "      <td>1.70</td>\n",
       "      <td>28.48</td>\n",
       "      <td>42.09</td>\n",
       "      <td>-8.17</td>\n",
       "      <td>1.08</td>\n",
       "      <td>1.08</td>\n",
       "      <td>1.08</td>\n",
       "      <td>-0.20</td>\n",
       "      <td>1549.64</td>\n",
       "    </tr>\n",
       "    <tr>\n",
       "      <th>143</th>\n",
       "      <td>1</td>\n",
       "      <td>1</td>\n",
       "      <td>23:50</td>\n",
       "      <td>9.95</td>\n",
       "      <td>-0.42</td>\n",
       "      <td>28.31</td>\n",
       "      <td>42.09</td>\n",
       "      <td>-8.17</td>\n",
       "      <td>1.01</td>\n",
       "      <td>1.01</td>\n",
       "      <td>1.01</td>\n",
       "      <td>-0.20</td>\n",
       "      <td>1361.95</td>\n",
       "    </tr>\n",
       "  </tbody>\n",
       "</table>\n",
       "<p>144 rows × 13 columns</p>\n",
       "</div>"
      ],
      "text/plain": [
       "     TurbID  Day Tmstamp   Wspd  Wdir   Etmp   Itmp   Ndir  Pab1  Pab2  Pab3  \\\n",
       "0         1    1   00:00   6.17 -3.99  30.73  41.80  25.92  1.00  1.00  1.00   \n",
       "1         1    1   00:10   6.17 -3.99  30.73  41.80  25.92  1.00  1.00  1.00   \n",
       "2         1    1   00:20   6.27 -2.18  30.60  41.63  20.91  1.00  1.00  1.00   \n",
       "3         1    1   00:30   6.42 -0.73  30.52  41.52  20.91  1.00  1.00  1.00   \n",
       "4         1    1   00:40   6.25  0.89  30.49  41.38  20.91  1.00  1.00  1.00   \n",
       "..      ...  ...     ...    ...   ...    ...    ...    ...   ...   ...   ...   \n",
       "139       1    1   23:10   9.95  0.49  28.71  42.53  -9.44  1.02  1.02  1.02   \n",
       "140       1    1   23:20  12.20  0.70  28.59  42.56  -8.17  1.08  1.08  1.08   \n",
       "141       1    1   23:30  12.66  1.09  28.54  42.23  -8.17  1.08  1.08  1.08   \n",
       "142       1    1   23:40  12.58  1.70  28.48  42.09  -8.17  1.08  1.08  1.08   \n",
       "143       1    1   23:50   9.95 -0.42  28.31  42.09  -8.17  1.01  1.01  1.01   \n",
       "\n",
       "     Prtv     Patv  \n",
       "0   -0.25   494.66  \n",
       "1   -0.25   494.66  \n",
       "2   -0.24   509.76  \n",
       "3   -0.26   542.53  \n",
       "4   -0.23   509.36  \n",
       "..    ...      ...  \n",
       "139 -0.29  1330.24  \n",
       "140 -0.23  1550.74  \n",
       "141 -0.21  1549.66  \n",
       "142 -0.20  1549.64  \n",
       "143 -0.20  1361.95  \n",
       "\n",
       "[144 rows x 13 columns]"
      ]
     },
     "execution_count": 47,
     "metadata": {},
     "output_type": "execute_result"
    }
   ],
   "source": [
    "train_data[(train_data[\"TurbID\"]==1)&(train_data[\"Day\"]==1)]"
   ]
  },
  {
   "cell_type": "markdown",
   "id": "e1111f49",
   "metadata": {},
   "source": [
    "# 데이터셋"
   ]
  },
  {
   "cell_type": "code",
   "execution_count": 48,
   "id": "91f71a1b",
   "metadata": {},
   "outputs": [],
   "source": [
    "# 한 Turb당 194 line\n",
    "# label은 2일.로 나눠야함.\n",
    "\n",
    "def make_train_data(data):\n",
    "    train_x, train_y = [], []\n",
    "    for i in tqdm(sorted(pd.unique(data[\"TurbID\"]))):\n",
    "        tmp_data = data[data[\"TurbID\"] == i]\n",
    "        for j in range(1, 195): # 1~195 (1~194까지?)\n",
    "            \n",
    "            # train data ==> 5일 단위\n",
    "            # label data ==> 2일 단위\n",
    "            day_list = [x for x in range(j, j+ 5)]\n",
    "            label_day_list = [y for y in range(j+5, j + 7)]\n",
    "            \n",
    "            train_tmp = tmp_data[tmp_data[\"Day\"].isin(day_list)]\n",
    "            label_tmp = tmp_data[tmp_data[\"Day\"].isin(label_day_list)][\"Patv\"]\n",
    "            \n",
    "            # feature 선택 및 제거\n",
    "            train_tmp = train_tmp.drop([\"TurbID\", \"Day\"], axis = 1)\n",
    "            \n",
    "            train_x.append(np.array(train_tmp))\n",
    "            train_y.append(np.array(label_tmp))\n",
    "            \n",
    "    return train_x, train_y\n",
    "\n"
   ]
  },
  {
   "cell_type": "code",
   "execution_count": 49,
   "id": "9e9de5fb",
   "metadata": {},
   "outputs": [
    {
     "name": "stderr",
     "output_type": "stream",
     "text": [
      "100%|████████████████████████████████████████████████████████████████████████████████| 134/134 [00:23<00:00,  5.73it/s]\n"
     ]
    }
   ],
   "source": [
    "# time stamp label encoding\n",
    "tms_list = list(pd.unique(train_data[\"Tmstamp\"]))\n",
    "\n",
    "train_data[\"Tmstamp\"] = train_data[\"Tmstamp\"].apply(lambda x : tms_list.index(x))\n",
    "\n",
    "X_data, Y_data = make_train_data(train_data)\n",
    "#valid_x, valid_y = make_valid_data(train_data)\n"
   ]
  },
  {
   "cell_type": "code",
   "execution_count": 50,
   "id": "e06c15f1",
   "metadata": {},
   "outputs": [
    {
     "data": {
      "text/plain": [
       "25996"
      ]
     },
     "execution_count": 50,
     "metadata": {},
     "output_type": "execute_result"
    }
   ],
   "source": [
    "len(X_data)"
   ]
  },
  {
   "cell_type": "code",
   "execution_count": 51,
   "id": "5c93a6bd",
   "metadata": {},
   "outputs": [
    {
     "data": {
      "text/plain": [
       "720"
      ]
     },
     "execution_count": 51,
     "metadata": {},
     "output_type": "execute_result"
    }
   ],
   "source": [
    "X_data[0].shape[0]"
   ]
  },
  {
   "cell_type": "code",
   "execution_count": 52,
   "id": "a20dc4f5",
   "metadata": {},
   "outputs": [],
   "source": [
    "X_data  = np.array(X_data).reshape(-1, X_data[0].shape[0], X_data[0].shape[1])\n",
    "#train_x = np.array(X_data)\n",
    "Y_data = np.array(Y_data)"
   ]
  },
  {
   "cell_type": "code",
   "execution_count": 53,
   "id": "720dbc07",
   "metadata": {},
   "outputs": [],
   "source": [
    "#train_x  = np.array(train_x).reshape(-1, train_x[0].shape[0], train_x[0].shape[1])\n",
    "#valid_x = np.array(valid_x)\n",
    "#valid_y = np.array(valid_y)"
   ]
  },
  {
   "cell_type": "code",
   "execution_count": 54,
   "id": "90f3786a",
   "metadata": {},
   "outputs": [],
   "source": [
    "train_x, valid_x, train_y, valid_y = train_test_split(X_data,Y_data, test_size=0.1, shuffle=True,random_state=42)"
   ]
  },
  {
   "cell_type": "code",
   "execution_count": 55,
   "id": "2b08d82c",
   "metadata": {},
   "outputs": [
    {
     "data": {
      "text/plain": [
       "(23396, 288)"
      ]
     },
     "execution_count": 55,
     "metadata": {},
     "output_type": "execute_result"
    }
   ],
   "source": [
    "np.array(train_y).shape"
   ]
  },
  {
   "cell_type": "code",
   "execution_count": 56,
   "id": "a9061b7e",
   "metadata": {},
   "outputs": [
    {
     "name": "stdout",
     "output_type": "stream",
     "text": [
      "(23396, 720, 11) (23396, 288)\n"
     ]
    }
   ],
   "source": [
    "train_x  = np.array(train_x).reshape(-1, train_x[0].shape[0], train_x[0].shape[1])\n",
    "train_y= np.array(train_y)\n",
    "print(train_x.shape, train_y.shape)"
   ]
  },
  {
   "cell_type": "code",
   "execution_count": 57,
   "id": "010424c9",
   "metadata": {},
   "outputs": [
    {
     "name": "stdout",
     "output_type": "stream",
     "text": [
      "(2600, 720, 11) (2600, 288)\n"
     ]
    }
   ],
   "source": [
    "valid_x  = np.array(valid_x).reshape(-1, valid_x[0].shape[0], valid_x[0].shape[1])\n",
    "valid_y = np.array(valid_y)\n",
    "print(valid_x.shape, valid_y.shape)"
   ]
  },
  {
   "attachments": {
    "image.png": {
     "image/png": "[encoded data removed]"
    }
   },
   "cell_type": "markdown",
   "id": "968591bc",
   "metadata": {},
   "source": [
    "input dimension은 (Batch, Time_step, Feature dimension) 순이다. (batch_first=True)\n",
    "\n",
    "output이 288인 이유는 2일이라서\n",
    "\n",
    "![image.png](attachment:image.png)"
   ]
  },
  {
   "cell_type": "markdown",
   "id": "20be20ba",
   "metadata": {},
   "source": [
    "# 데이터 로더"
   ]
  },
  {
   "cell_type": "code",
   "execution_count": 58,
   "id": "d8e36986",
   "metadata": {},
   "outputs": [],
   "source": [
    "EPOCHS = 50\n",
    "BATCH_SIZE = 32\n",
    "lr = 1e-3"
   ]
  },
  {
   "cell_type": "code",
   "execution_count": 59,
   "id": "270ce953",
   "metadata": {},
   "outputs": [],
   "source": [
    "from torch.utils.data import Dataset, DataLoader\n",
    "\n",
    "class TimeDataset(Dataset):\n",
    "    def __init__(self, X, Y):\n",
    "        self.X = X\n",
    "        self.Y = Y\n",
    "        \n",
    "    def __len__(self):\n",
    "        return len(self.X)\n",
    "        \n",
    "    def __getitem__(self, index):\n",
    "        if self.Y is not None:\n",
    "            return torch.Tensor(self.X[index]), torch.Tensor(self.Y[index])\n",
    "        \n",
    "        return torch.Tensor(self.X[index]) # 테스트셋 용\n",
    "    \n"
   ]
  },
  {
   "cell_type": "code",
   "execution_count": 60,
   "id": "5cb7414a",
   "metadata": {},
   "outputs": [],
   "source": [
    "train_dataset = TimeDataset(train_x, train_y)\n",
    "valid_dataset = TimeDataset(valid_x, valid_y)\n",
    "\n",
    "\n",
    "train_loader = DataLoader(train_dataset, \n",
    "                          batch_size = BATCH_SIZE,\n",
    "                          shuffle=True)\n",
    "\n",
    "valid_loader = DataLoader(valid_dataset, \n",
    "                          batch_size = BATCH_SIZE,\n",
    "                          shuffle=True)\n",
    "\n"
   ]
  },
  {
   "cell_type": "markdown",
   "id": "b1391110",
   "metadata": {},
   "source": [
    "# 데이터 확인"
   ]
  },
  {
   "cell_type": "code",
   "execution_count": 61,
   "id": "c8efd1fb",
   "metadata": {
    "scrolled": true
   },
   "outputs": [
    {
     "name": "stdout",
     "output_type": "stream",
     "text": [
      "X_train :  torch.Size([32, 720, 11]) type: torch.FloatTensor\n",
      "Y_train :  torch.Size([32, 288]) type: torch.FloatTensor\n",
      "torch.Size([288])\n"
     ]
    }
   ],
   "source": [
    "# 4. 데이터 확인하기\n",
    "for (X_train,Y_train) in train_loader:\n",
    "    print(\"X_train : \",X_train.size(),'type:',X_train.type())\n",
    "    print(\"Y_train : \",Y_train.size(),'type:',Y_train.type())\n",
    "    break\n",
    "    \n",
    "print(Y_train[0].shape)\n"
   ]
  },
  {
   "cell_type": "code",
   "execution_count": 62,
   "id": "3f4a147c",
   "metadata": {
    "scrolled": true
   },
   "outputs": [
    {
     "name": "stdout",
     "output_type": "stream",
     "text": [
      "X_valid :  torch.Size([32, 720, 11]) type: torch.FloatTensor\n",
      "Y_valid :  torch.Size([32, 288]) type: torch.FloatTensor\n",
      "torch.Size([288])\n"
     ]
    }
   ],
   "source": [
    "#valiation set 확인\n",
    "for (X_valid,Y_valid) in valid_loader:\n",
    "    print(\"X_valid : \",X_valid.size(),'type:',X_valid.type())\n",
    "    print(\"Y_valid : \",Y_valid.size(),'type:',Y_valid.type())\n",
    "    break\n",
    "\n",
    "print(Y_valid[0].shape)"
   ]
  },
  {
   "cell_type": "markdown",
   "id": "9630a2ff",
   "metadata": {},
   "source": [
    "# 모델\n"
   ]
  },
  {
   "cell_type": "markdown",
   "id": "fd8220ba",
   "metadata": {},
   "source": [
    "### input 설명\n",
    "\n",
    "- input_size: input의 feature dimension을 넣어주어야 한다. time step이 아니라 feature dimension!\n",
    "- hidden_size: 내부에서 어떤 feature dimension으로 바꿔주고 싶은지를 넣어주면 된다.\n",
    "- num_layers: lstm layer를 얼마나 쌓을지\n",
    "- bias: bias term을 둘 것인가 (Default: True)\n",
    "- batch_first: batch가 0번 dimension으로 오게 하려면 이거 설정! 난 이거 설정 가정하고 설명했다. (Default: False)\n",
    "- dropout: 가지치기 얼마나 할지, generalization 잘안되면 이걸 조정하면 된다.\n",
    "bidirectional: 양방향으로 할지 말지 (bidirectional 하면 [forward, backword] 로 feature dimension 2배 됨)\n",
    "\n",
    "\n",
    "\n",
    "참고.\n",
    "\n",
    "https://sanghyu.tistory.com/52"
   ]
  },
  {
   "cell_type": "markdown",
   "id": "7da3e174",
   "metadata": {},
   "source": [
    "### output 설명\n",
    "\n",
    "- outputs는 (output, (hidden or hidden stat,cell stat)) 의 tuple 형태로 나오므로 주의해서 써야한다. (LSTM만 cell state있음)\n",
    "- output: output dimension은 (batch, time_step, hidden dimension) 순이다. 양방향일 경우 hidden_size*2\n",
    "- hidden state: 모든 layer의 hidden state를 담고있다.\n",
    "- cell state: 모든 layer의 cell state를 담고있다."
   ]
  },
  {
   "cell_type": "code",
   "execution_count": 63,
   "id": "7bbb59d4",
   "metadata": {},
   "outputs": [
    {
     "data": {
      "text/plain": [
       "torch.Size([32, 720, 256])"
      ]
     },
     "execution_count": 63,
     "metadata": {},
     "output_type": "execute_result"
    }
   ],
   "source": [
    "lstm = nn.LSTM(input_size=11, hidden_size=256, batch_first=True, bidirectional=False)\n",
    "\n",
    "lstm(X_valid)[0].size()"
   ]
  },
  {
   "cell_type": "code",
   "execution_count": 64,
   "id": "ea7d5e3e",
   "metadata": {
    "scrolled": true
   },
   "outputs": [
    {
     "data": {
      "text/plain": [
       "torch.Size([720, 256])"
      ]
     },
     "execution_count": 64,
     "metadata": {},
     "output_type": "execute_result"
    }
   ],
   "source": [
    "lstm(X_valid)[0][-1].size()"
   ]
  },
  {
   "cell_type": "code",
   "execution_count": 65,
   "id": "f38c21ed",
   "metadata": {
    "scrolled": true
   },
   "outputs": [
    {
     "data": {
      "text/plain": [
       "tensor([[[-5.5081e-20, -3.2102e-14, -6.5055e-01,  ..., -1.0000e+00,\n",
       "           2.6200e-06,  4.6964e-15],\n",
       "         [-9.5518e-21, -7.7177e-15, -6.1621e-01,  ..., -1.0000e+00,\n",
       "           3.4741e-06,  1.1118e-14],\n",
       "         [-6.0195e-01, -8.9623e-01, -8.4344e-01,  ...,  7.0184e-04,\n",
       "           2.1909e-08,  4.8925e-10],\n",
       "         ...,\n",
       "         [-4.4879e-06, -1.7765e-03, -5.8736e-01,  ...,  9.9712e-01,\n",
       "           2.1375e-06, -4.0958e-10],\n",
       "         [ 3.5699e-21,  2.9759e-08, -7.2227e-07,  ..., -8.0707e-02,\n",
       "          -6.9313e-01,  8.5502e-01],\n",
       "         [-2.6345e-07, -3.6386e-04, -2.8755e-01,  ..., -9.9987e-01,\n",
       "           3.0887e-05, -3.7024e-10]]], grad_fn=<StackBackward0>)"
      ]
     },
     "execution_count": 65,
     "metadata": {},
     "output_type": "execute_result"
    }
   ],
   "source": [
    "lstm(X_valid)[1][0]"
   ]
  },
  {
   "cell_type": "code",
   "execution_count": 66,
   "id": "076c46b3",
   "metadata": {},
   "outputs": [
    {
     "data": {
      "text/plain": [
       "torch.Size([32, 256])"
      ]
     },
     "execution_count": 66,
     "metadata": {},
     "output_type": "execute_result"
    }
   ],
   "source": [
    "lstm(X_valid)[0][:,-2,:].size()"
   ]
  },
  {
   "cell_type": "code",
   "execution_count": 67,
   "id": "5e20c8c2",
   "metadata": {},
   "outputs": [],
   "source": [
    "class BaseModel(nn.Module):\n",
    "    def __init__(self):\n",
    "        super(BaseModel, self).__init__()\n",
    "        self.lstm = nn.g(input_size=11, hidden_size=256, batch_first=True, bidirectional=True)\n",
    "        self.classifier = nn.Sequential(\n",
    "            nn.Linear(512,512),# 사이즈는 hidden size에 따라 결정.\n",
    "            nn.ReLU(),\n",
    "            nn.Linear(512,288), #결과 288개 예측.\n",
    "            nn.ReLU(),  \n",
    "        )\n",
    "        \n",
    "    def forward(self, x):\n",
    "        output, _ = self.lstm(x)\n",
    "        output = self.classifier(output[:,-2,:]) # -1은 hidden state의 마지막 time step값을 가져온 것.\n",
    "        return output"
   ]
  },
  {
   "cell_type": "code",
   "execution_count": 68,
   "id": "8304e647",
   "metadata": {},
   "outputs": [],
   "source": [
    "#8. 학습\n",
    "def train(model,train_loader,optimizer, log_interval):\n",
    "    model.train()\n",
    "    train_loss = 0\n",
    "    train_mae_loss = 0\n",
    "    for batch_idx,(X, Y) in enumerate(train_loader):\n",
    "        X = X.to(DEVICE)\n",
    "        Y = Y.to(DEVICE)\n",
    "\n",
    "        optimizer.zero_grad()#데이터들 장비에 할당\n",
    "        output = model(X) # model로 output을 계산\n",
    "        loss = criterion(output, Y)        \n",
    "        train_loss += loss.item()\n",
    "        \n",
    "        with torch.no_grad():\n",
    "            mae = metric(output, Y)\n",
    "            train_mae_loss+=mae.item()\n",
    "        loss.backward()\n",
    "        optimizer.step()\n",
    "    \n",
    "    train_loss/=len(train_loader.dataset)\n",
    "    train_mae_loss/=len(train_loader.dataset)\n",
    "    \n",
    "    return train_loss,train_mae_loss\n",
    "\n"
   ]
  },
  {
   "cell_type": "code",
   "execution_count": 69,
   "id": "cad0878a",
   "metadata": {},
   "outputs": [],
   "source": [
    "#8. 학습\n",
    "def evaluate(model,valid_loader):\n",
    "    model.eval()\n",
    "    valid_loss = 0\n",
    "    valid_mae = 0\n",
    "    #no_grad : 그래디언트 값 계산 막기.\n",
    "    with torch.no_grad():\n",
    "        for X, Y in valid_loader:\n",
    "            X = X.to(DEVICE)\n",
    "            Y = Y.to(DEVICE)\n",
    "            output = model(X) # model로 output을 계산\n",
    "            \n",
    "            loss = criterion(output, Y)\n",
    "            valid_loss += loss.item()\n",
    "            mae = metric(output, Y)\n",
    "            valid_mae+=mae.item()\n",
    "    valid_loss/=len(valid_loader.dataset)\n",
    "    valid_mae/=len(valid_loader.dataset)\n",
    "    return valid_loss, valid_mae\n"
   ]
  },
  {
   "cell_type": "code",
   "execution_count": 70,
   "id": "ce9f1630",
   "metadata": {
    "scrolled": false
   },
   "outputs": [
    {
     "name": "stdout",
     "output_type": "stream",
     "text": [
      "./checkpoint/checkpoint_baseline.pt\n",
      "\n",
      "[EPOCH:1]\t Train Loss:5527.8765\t Train MAE:10.2101  | \tValid Loss:5267.5927 \tValid MAE: 10.0678\n",
      "\n",
      "-- SAVE Checkpoint --\n",
      "Valid loss : 9999999999.0000 -> 5267.5927 \n",
      "\n",
      "\n",
      "[EPOCH:2]\t Train Loss:5087.2227\t Train MAE:9.8442  | \tValid Loss:5123.1433 \tValid MAE: 10.0941\n",
      "\n",
      "-- SAVE Checkpoint --\n",
      "Valid loss : 5267.5927 -> 5123.1433 \n",
      "\n",
      "\n",
      "[EPOCH:3]\t Train Loss:4972.5093\t Train MAE:9.7012  | \tValid Loss:4982.6538 \tValid MAE: 9.7871\n",
      "\n",
      "-- SAVE Checkpoint --\n",
      "Valid loss : 5123.1433 -> 4982.6538 \n",
      "\n",
      "\n",
      "[EPOCH:4]\t Train Loss:4850.8034\t Train MAE:9.5462  | \tValid Loss:4804.9285 \tValid MAE: 9.6363\n",
      "\n",
      "-- SAVE Checkpoint --\n",
      "Valid loss : 4982.6538 -> 4804.9285 \n",
      "\n",
      "\n",
      "[EPOCH:5]\t Train Loss:4706.9080\t Train MAE:9.3611  | \tValid Loss:4663.2481 \tValid MAE: 9.4665\n",
      "\n",
      "-- SAVE Checkpoint --\n",
      "Valid loss : 4804.9285 -> 4663.2481 \n",
      "\n",
      "\n",
      "[EPOCH:6]\t Train Loss:4527.9872\t Train MAE:9.1514  | \tValid Loss:4507.5702 \tValid MAE: 9.2222\n",
      "\n",
      "-- SAVE Checkpoint --\n",
      "Valid loss : 4663.2481 -> 4507.5702 \n",
      "\n",
      "\n",
      "[EPOCH:7]\t Train Loss:4376.7971\t Train MAE:8.9621  | \tValid Loss:4331.1724 \tValid MAE: 8.8056\n",
      "\n",
      "-- SAVE Checkpoint --\n",
      "Valid loss : 4507.5702 -> 4331.1724 \n",
      "\n",
      "\n",
      "[EPOCH:8]\t Train Loss:4213.5466\t Train MAE:8.7725  | \tValid Loss:4172.0918 \tValid MAE: 8.8616\n",
      "\n",
      "-- SAVE Checkpoint --\n",
      "Valid loss : 4331.1724 -> 4172.0918 \n",
      "\n",
      "\n",
      "[EPOCH:9]\t Train Loss:4109.7435\t Train MAE:8.6303  | \tValid Loss:4097.8517 \tValid MAE: 8.7471\n",
      "\n",
      "-- SAVE Checkpoint --\n",
      "Valid loss : 4172.0918 -> 4097.8517 \n",
      "\n",
      "\n",
      "[EPOCH:10]\t Train Loss:3993.9451\t Train MAE:8.4778  | \tValid Loss:3977.8059 \tValid MAE: 8.5550\n",
      "\n",
      "-- SAVE Checkpoint --\n",
      "Valid loss : 4097.8517 -> 3977.8059 \n",
      "\n",
      "\n",
      "[EPOCH:11]\t Train Loss:3928.9680\t Train MAE:8.3869  | \tValid Loss:4028.6653 \tValid MAE: 8.5722\n",
      "\n",
      "\n",
      "[EPOCH:12]\t Train Loss:3824.0821\t Train MAE:8.2456  | \tValid Loss:3825.5626 \tValid MAE: 8.2047\n",
      "\n",
      "-- SAVE Checkpoint --\n",
      "Valid loss : 3977.8059 -> 3825.5626 \n",
      "\n",
      "\n",
      "[EPOCH:13]\t Train Loss:3738.2552\t Train MAE:8.1287  | \tValid Loss:3732.5250 \tValid MAE: 8.2843\n",
      "\n",
      "-- SAVE Checkpoint --\n",
      "Valid loss : 3825.5626 -> 3732.5250 \n",
      "\n",
      "\n",
      "[EPOCH:14]\t Train Loss:3621.0275\t Train MAE:7.9716  | \tValid Loss:3614.6120 \tValid MAE: 7.8939\n",
      "\n",
      "-- SAVE Checkpoint --\n",
      "Valid loss : 3732.5250 -> 3614.6120 \n",
      "\n",
      "\n",
      "[EPOCH:15]\t Train Loss:3522.7444\t Train MAE:7.8532  | \tValid Loss:3513.7953 \tValid MAE: 7.8129\n",
      "\n",
      "-- SAVE Checkpoint --\n",
      "Valid loss : 3614.6120 -> 3513.7953 \n",
      "\n",
      "\n",
      "[EPOCH:16]\t Train Loss:3423.5075\t Train MAE:7.7172  | \tValid Loss:3410.9743 \tValid MAE: 7.7728\n",
      "\n",
      "-- SAVE Checkpoint --\n",
      "Valid loss : 3513.7953 -> 3410.9743 \n",
      "\n",
      "\n",
      "[EPOCH:17]\t Train Loss:3335.4208\t Train MAE:7.5906  | \tValid Loss:3372.6848 \tValid MAE: 7.8232\n",
      "\n",
      "-- SAVE Checkpoint --\n",
      "Valid loss : 3410.9743 -> 3372.6848 \n",
      "\n",
      "\n",
      "[EPOCH:18]\t Train Loss:3288.6129\t Train MAE:7.5248  | \tValid Loss:3369.5816 \tValid MAE: 7.5154\n",
      "\n",
      "-- SAVE Checkpoint --\n",
      "Valid loss : 3372.6848 -> 3369.5816 \n",
      "\n",
      "\n",
      "[EPOCH:19]\t Train Loss:3183.2821\t Train MAE:7.3759  | \tValid Loss:3211.2852 \tValid MAE: 7.5053\n",
      "\n",
      "-- SAVE Checkpoint --\n",
      "Valid loss : 3369.5816 -> 3211.2852 \n",
      "\n",
      "\n",
      "[EPOCH:20]\t Train Loss:3118.0341\t Train MAE:7.2841  | \tValid Loss:3175.4326 \tValid MAE: 7.4588\n",
      "\n",
      "-- SAVE Checkpoint --\n",
      "Valid loss : 3211.2852 -> 3175.4326 \n",
      "\n",
      "\n",
      "[EPOCH:21]\t Train Loss:3037.1006\t Train MAE:7.1624  | \tValid Loss:3079.9772 \tValid MAE: 7.3281\n",
      "\n",
      "-- SAVE Checkpoint --\n",
      "Valid loss : 3175.4326 -> 3079.9772 \n",
      "\n",
      "\n",
      "[EPOCH:22]\t Train Loss:2969.2999\t Train MAE:7.0633  | \tValid Loss:2987.9320 \tValid MAE: 7.0992\n",
      "\n",
      "-- SAVE Checkpoint --\n",
      "Valid loss : 3079.9772 -> 2987.9320 \n",
      "\n",
      "\n",
      "[EPOCH:23]\t Train Loss:2884.8306\t Train MAE:6.9389  | \tValid Loss:2855.4930 \tValid MAE: 6.9594\n",
      "\n",
      "-- SAVE Checkpoint --\n",
      "Valid loss : 2987.9320 -> 2855.4930 \n",
      "\n",
      "\n",
      "[EPOCH:24]\t Train Loss:2805.0062\t Train MAE:6.8127  | \tValid Loss:2849.7519 \tValid MAE: 6.8740\n",
      "\n",
      "-- SAVE Checkpoint --\n",
      "Valid loss : 2855.4930 -> 2849.7519 \n",
      "\n",
      "\n",
      "[EPOCH:25]\t Train Loss:2758.1395\t Train MAE:6.7455  | \tValid Loss:2862.6877 \tValid MAE: 6.9921\n",
      "\n",
      "\n",
      "[EPOCH:26]\t Train Loss:2670.5995\t Train MAE:6.6184  | \tValid Loss:2722.6932 \tValid MAE: 6.6620\n",
      "\n",
      "-- SAVE Checkpoint --\n",
      "Valid loss : 2849.7519 -> 2722.6932 \n",
      "\n",
      "\n",
      "[EPOCH:27]\t Train Loss:2592.8459\t Train MAE:6.4971  | \tValid Loss:2648.3636 \tValid MAE: 6.6347\n",
      "\n",
      "-- SAVE Checkpoint --\n",
      "Valid loss : 2722.6932 -> 2648.3636 \n",
      "\n",
      "\n",
      "[EPOCH:28]\t Train Loss:2530.0157\t Train MAE:6.3971  | \tValid Loss:2617.2332 \tValid MAE: 6.5213\n",
      "\n",
      "-- SAVE Checkpoint --\n",
      "Valid loss : 2648.3636 -> 2617.2332 \n",
      "\n",
      "\n",
      "[EPOCH:29]\t Train Loss:2506.0184\t Train MAE:6.3497  | \tValid Loss:2571.5838 \tValid MAE: 6.5684\n",
      "\n",
      "-- SAVE Checkpoint --\n",
      "Valid loss : 2617.2332 -> 2571.5838 \n",
      "\n",
      "\n",
      "[EPOCH:30]\t Train Loss:2463.2862\t Train MAE:6.2850  | \tValid Loss:2551.7077 \tValid MAE: 6.3835\n",
      "\n",
      "-- SAVE Checkpoint --\n",
      "Valid loss : 2571.5838 -> 2551.7077 \n",
      "\n",
      "\n",
      "[EPOCH:31]\t Train Loss:2384.2295\t Train MAE:6.1598  | \tValid Loss:2446.3345 \tValid MAE: 6.3346\n",
      "\n",
      "-- SAVE Checkpoint --\n",
      "Valid loss : 2551.7077 -> 2446.3345 \n",
      "\n",
      "\n",
      "[EPOCH:32]\t Train Loss:2323.4182\t Train MAE:6.0592  | \tValid Loss:2368.8130 \tValid MAE: 6.1817\n",
      "\n",
      "-- SAVE Checkpoint --\n",
      "Valid loss : 2446.3345 -> 2368.8130 \n",
      "\n",
      "\n",
      "[EPOCH:33]\t Train Loss:2285.6800\t Train MAE:6.0022  | \tValid Loss:2340.7548 \tValid MAE: 6.1422\n",
      "\n",
      "-- SAVE Checkpoint --\n",
      "Valid loss : 2368.8130 -> 2340.7548 \n",
      "\n",
      "\n",
      "[EPOCH:34]\t Train Loss:2224.7087\t Train MAE:5.8967  | \tValid Loss:2308.6029 \tValid MAE: 6.0367\n",
      "\n",
      "-- SAVE Checkpoint --\n",
      "Valid loss : 2340.7548 -> 2308.6029 \n",
      "\n",
      "\n",
      "[EPOCH:35]\t Train Loss:2171.2240\t Train MAE:5.8108  | \tValid Loss:2222.3240 \tValid MAE: 5.8914\n",
      "\n",
      "-- SAVE Checkpoint --\n",
      "Valid loss : 2308.6029 -> 2222.3240 \n",
      "\n",
      "\n",
      "[EPOCH:36]\t Train Loss:2121.2049\t Train MAE:5.7248  | \tValid Loss:2222.9925 \tValid MAE: 5.8962\n",
      "\n",
      "\n",
      "[EPOCH:37]\t Train Loss:2086.0396\t Train MAE:5.6593  | \tValid Loss:2159.6622 \tValid MAE: 5.7589\n",
      "\n",
      "-- SAVE Checkpoint --\n",
      "Valid loss : 2222.3240 -> 2159.6622 \n",
      "\n",
      "\n",
      "[EPOCH:38]\t Train Loss:2031.1304\t Train MAE:5.5717  | \tValid Loss:2133.8485 \tValid MAE: 5.7815\n",
      "\n",
      "-- SAVE Checkpoint --\n",
      "Valid loss : 2159.6622 -> 2133.8485 \n",
      "\n",
      "\n",
      "[EPOCH:39]\t Train Loss:2000.2195\t Train MAE:5.5131  | \tValid Loss:2091.4243 \tValid MAE: 5.6523\n",
      "\n",
      "-- SAVE Checkpoint --\n",
      "Valid loss : 2133.8485 -> 2091.4243 \n",
      "\n",
      "\n",
      "[EPOCH:40]\t Train Loss:1959.3325\t Train MAE:5.4430  | \tValid Loss:2063.5693 \tValid MAE: 5.6017\n",
      "\n",
      "-- SAVE Checkpoint --\n",
      "Valid loss : 2091.4243 -> 2063.5693 \n",
      "\n",
      "\n",
      "[EPOCH:41]\t Train Loss:1906.1699\t Train MAE:5.3479  | \tValid Loss:2011.0032 \tValid MAE: 5.5400\n",
      "\n",
      "-- SAVE Checkpoint --\n",
      "Valid loss : 2063.5693 -> 2011.0032 \n",
      "\n",
      "\n",
      "[EPOCH:42]\t Train Loss:1879.4432\t Train MAE:5.2916  | \tValid Loss:2050.0093 \tValid MAE: 5.6127\n",
      "\n",
      "\n",
      "[EPOCH:43]\t Train Loss:1854.8131\t Train MAE:5.2523  | \tValid Loss:1991.4918 \tValid MAE: 5.4103\n",
      "\n",
      "-- SAVE Checkpoint --\n",
      "Valid loss : 2011.0032 -> 1991.4918 \n",
      "\n",
      "\n",
      "[EPOCH:44]\t Train Loss:1823.7850\t Train MAE:5.1978  | \tValid Loss:1999.9774 \tValid MAE: 5.4751\n",
      "\n",
      "\n",
      "[EPOCH:45]\t Train Loss:1791.4803\t Train MAE:5.1370  | \tValid Loss:1872.6835 \tValid MAE: 5.2791\n",
      "\n",
      "-- SAVE Checkpoint --\n",
      "Valid loss : 1991.4918 -> 1872.6835 \n",
      "\n",
      "\n",
      "[EPOCH:46]\t Train Loss:1756.0707\t Train MAE:5.0723  | \tValid Loss:1882.0917 \tValid MAE: 5.2835\n",
      "\n",
      "\n",
      "[EPOCH:47]\t Train Loss:1721.2541\t Train MAE:5.0030  | \tValid Loss:1833.2396 \tValid MAE: 5.1416\n",
      "\n",
      "-- SAVE Checkpoint --\n",
      "Valid loss : 1872.6835 -> 1833.2396 \n",
      "\n",
      "\n",
      "[EPOCH:48]\t Train Loss:1698.5279\t Train MAE:4.9577  | \tValid Loss:1822.7060 \tValid MAE: 5.1312\n",
      "\n",
      "-- SAVE Checkpoint --\n",
      "Valid loss : 1833.2396 -> 1822.7060 \n",
      "\n",
      "\n",
      "[EPOCH:49]\t Train Loss:1669.1475\t Train MAE:4.8980  | \tValid Loss:1825.0687 \tValid MAE: 5.1528\n",
      "\n",
      "\n",
      "[EPOCH:50]\t Train Loss:1646.7816\t Train MAE:4.8560  | \tValid Loss:1820.9312 \tValid MAE: 5.2117\n",
      "\n",
      "-- SAVE Checkpoint --\n",
      "Valid loss : 1822.7060 -> 1820.9312 \n",
      "\n"
     ]
    }
   ],
   "source": [
    "#학습 진행 코드\n",
    "\n",
    "\n",
    "check_path = './checkpoint/checkpoint_baseline.pt'\n",
    "print(check_path)\n",
    "model = BaseModel().to(DEVICE)\n",
    "criterion = nn.MSELoss().to(DEVICE)\n",
    "metric = nn.L1Loss().to(DEVICE)\n",
    "\n",
    "optimizer = torch.optim.Adam(model.parameters(),lr=lr)\n",
    "\n",
    "best_valid_mae = 999999\n",
    "best_valid_loss = 9999999999\n",
    "\n",
    "\n",
    "\n",
    "for Epoch in range(1,EPOCHS+1):\n",
    "    train_loss,train_mae = train(model,train_loader,optimizer,log_interval=31)\n",
    "    valid_loss,valid_mae = evaluate(model, valid_loader)\n",
    "    \n",
    "    \n",
    "    print(\"\\n[EPOCH:{}]\\t Train Loss:{:.4f}\\t Train MAE:{:.4f}  | \\tValid Loss:{:.4f} \\tValid MAE: {:.4f}\\n\".\n",
    "                  format(Epoch, train_loss, train_mae,\n",
    "                         valid_loss, valid_mae ))\n",
    "    if best_valid_loss > valid_loss:\n",
    "        print(\"-- SAVE Checkpoint --\")\n",
    "        print(\"Valid loss : {:.4f} -> {:.4f} \\n\".format(best_valid_loss,valid_loss ))\n",
    "        torch.save(model.state_dict(), check_path, _use_new_zipfile_serialization=False)\n",
    "        best_valid_mae = valid_mae\n",
    "        best_valid_loss =valid_loss\n",
    "        \n",
    "    \n",
    "    "
   ]
  },
  {
   "cell_type": "code",
   "execution_count": 30,
   "id": "c45304e1",
   "metadata": {},
   "outputs": [
    {
     "ename": "NameError",
     "evalue": "name 'ddddd' is not defined",
     "output_type": "error",
     "traceback": [
      "\u001b[1;31m---------------------------------------------------------------------------\u001b[0m",
      "\u001b[1;31mNameError\u001b[0m                                 Traceback (most recent call last)",
      "\u001b[1;32m~\\AppData\\Local\\Temp/ipykernel_20900/2487491902.py\u001b[0m in \u001b[0;36m<module>\u001b[1;34m\u001b[0m\n\u001b[1;32m----> 1\u001b[1;33m \u001b[0mddddd\u001b[0m\u001b[1;33m\u001b[0m\u001b[1;33m\u001b[0m\u001b[0m\n\u001b[0m",
      "\u001b[1;31mNameError\u001b[0m: name 'ddddd' is not defined"
     ]
    }
   ],
   "source": [
    "ddddd"
   ]
  },
  {
   "cell_type": "markdown",
   "id": "b01e39bf",
   "metadata": {},
   "source": [
    "# validation 확인"
   ]
  },
  {
   "cell_type": "code",
   "execution_count": 31,
   "id": "2f8da1a8",
   "metadata": {},
   "outputs": [
    {
     "name": "stdout",
     "output_type": "stream",
     "text": [
      "Valid loss : 1398.0934 / Valid MAE : 4.1496 \n",
      "\n"
     ]
    }
   ],
   "source": [
    "print(\"Valid loss : {:.4f} / Valid MAE : {:.4f} \\n\".format(best_valid_loss,best_valid_mae))"
   ]
  },
  {
   "cell_type": "code",
   "execution_count": 71,
   "id": "94abeb7b",
   "metadata": {},
   "outputs": [
    {
     "name": "stdout",
     "output_type": "stream",
     "text": [
      "Valid loss : 1820.9312 / Valid MAE : 5.2117 \n",
      "\n"
     ]
    }
   ],
   "source": [
    "print(\"Valid loss : {:.4f} / Valid MAE : {:.4f} \\n\".format(best_valid_loss,best_valid_mae))"
   ]
  },
  {
   "cell_type": "markdown",
   "id": "a0a2834d",
   "metadata": {},
   "source": [
    "# TEST"
   ]
  },
  {
   "cell_type": "code",
   "execution_count": 72,
   "id": "42905079",
   "metadata": {},
   "outputs": [],
   "source": [
    "\n",
    "# 이전 5일치 가져오기.\n",
    "test_data_list = [x for x in range(196, 201)]\n",
    "\n",
    "test_data = train_data[train_data[\"Day\"].isin(test_data_list)]\n",
    "\n",
    "test_data = test_data.drop([\"TurbID\", \"Day\"], axis = 1)\n",
    "\n",
    "test_data = np.array(test_data).reshape(-1, train_x[0].shape[0], train_x[0].shape[1])\n",
    "#train set 처럼 batch,720,11로 고치기\n"
   ]
  },
  {
   "cell_type": "code",
   "execution_count": 73,
   "id": "d4fb8be6",
   "metadata": {},
   "outputs": [
    {
     "data": {
      "text/plain": [
       "(134, 720, 11)"
      ]
     },
     "execution_count": 73,
     "metadata": {},
     "output_type": "execute_result"
    }
   ],
   "source": [
    "test_data.shape"
   ]
  },
  {
   "cell_type": "code",
   "execution_count": 74,
   "id": "d0ed76bb",
   "metadata": {},
   "outputs": [],
   "source": [
    "test_dataset = TimeDataset(test_data, None)\n",
    "\n",
    "test_loader = DataLoader(test_dataset, \n",
    "                          batch_size = BATCH_SIZE,\n",
    "                          shuffle=False)\n",
    "\n",
    "\n"
   ]
  },
  {
   "cell_type": "code",
   "execution_count": 75,
   "id": "63255878",
   "metadata": {},
   "outputs": [],
   "source": [
    "def predict(model, test_loader):\n",
    "    model.eval()\n",
    "    preds = []\n",
    "    with torch.no_grad():\n",
    "        for X in tqdm(iter(test_loader)):\n",
    "            X = X.to(DEVICE)\n",
    "            \n",
    "            pred = model(X)\n",
    "            preds += pred.cpu().tolist()\n",
    "    \n",
    "    return np.array(preds)"
   ]
  },
  {
   "cell_type": "code",
   "execution_count": 76,
   "id": "466a8e3c",
   "metadata": {},
   "outputs": [
    {
     "data": {
      "text/plain": [
       "BaseModel(\n",
       "  (lstm): LSTM(11, 256, batch_first=True, bidirectional=True)\n",
       "  (classifier): Sequential(\n",
       "    (0): Linear(in_features=512, out_features=512, bias=True)\n",
       "    (1): ReLU()\n",
       "    (2): Linear(in_features=512, out_features=288, bias=True)\n",
       "    (3): ReLU()\n",
       "  )\n",
       ")"
      ]
     },
     "execution_count": 76,
     "metadata": {},
     "output_type": "execute_result"
    }
   ],
   "source": [
    "model = BaseModel().to(DEVICE)\n",
    "best_checkpoint = torch.load('./checkpoint/checkpoint_baseline.pt')\n",
    "model.load_state_dict(best_checkpoint)\n",
    "model.eval()"
   ]
  },
  {
   "cell_type": "code",
   "execution_count": 77,
   "id": "cb758521",
   "metadata": {},
   "outputs": [
    {
     "name": "stderr",
     "output_type": "stream",
     "text": [
      "100%|████████████████████████████████████████████████████████████████████████████████████| 5/5 [00:00<00:00, 71.44it/s]\n"
     ]
    }
   ],
   "source": [
    "preds = predict(model, test_loader)\n",
    "preds = preds.reshape(-1)"
   ]
  },
  {
   "cell_type": "code",
   "execution_count": 78,
   "id": "35919698",
   "metadata": {},
   "outputs": [],
   "source": [
    "sample_submission[\"Patv\"] = preds\n",
    "sample_submission.to_csv(\"./submit.csv\", index = False)"
   ]
  },
  {
   "cell_type": "code",
   "execution_count": 79,
   "id": "38fd8f4b",
   "metadata": {},
   "outputs": [
    {
     "data": {
      "text/html": [
       "<div>\n",
       "<style scoped>\n",
       "    .dataframe tbody tr th:only-of-type {\n",
       "        vertical-align: middle;\n",
       "    }\n",
       "\n",
       "    .dataframe tbody tr th {\n",
       "        vertical-align: top;\n",
       "    }\n",
       "\n",
       "    .dataframe thead th {\n",
       "        text-align: right;\n",
       "    }\n",
       "</style>\n",
       "<table border=\"1\" class=\"dataframe\">\n",
       "  <thead>\n",
       "    <tr style=\"text-align: right;\">\n",
       "      <th></th>\n",
       "      <th>index</th>\n",
       "      <th>TurbID</th>\n",
       "      <th>Day</th>\n",
       "      <th>Tmstamp</th>\n",
       "      <th>Wspd</th>\n",
       "      <th>Wdir</th>\n",
       "      <th>Etmp</th>\n",
       "      <th>Itmp</th>\n",
       "      <th>Ndir</th>\n",
       "      <th>Pab1</th>\n",
       "      <th>Pab2</th>\n",
       "      <th>Pab3</th>\n",
       "      <th>Prtv</th>\n",
       "      <th>Patv</th>\n",
       "    </tr>\n",
       "  </thead>\n",
       "  <tbody>\n",
       "    <tr>\n",
       "      <th>0</th>\n",
       "      <td>0</td>\n",
       "      <td>1</td>\n",
       "      <td>201</td>\n",
       "      <td>00:00</td>\n",
       "      <td>0</td>\n",
       "      <td>0</td>\n",
       "      <td>0</td>\n",
       "      <td>0</td>\n",
       "      <td>0</td>\n",
       "      <td>0</td>\n",
       "      <td>0</td>\n",
       "      <td>0</td>\n",
       "      <td>0</td>\n",
       "      <td>68.521164</td>\n",
       "    </tr>\n",
       "    <tr>\n",
       "      <th>1</th>\n",
       "      <td>1</td>\n",
       "      <td>1</td>\n",
       "      <td>201</td>\n",
       "      <td>00:10</td>\n",
       "      <td>0</td>\n",
       "      <td>0</td>\n",
       "      <td>0</td>\n",
       "      <td>0</td>\n",
       "      <td>0</td>\n",
       "      <td>0</td>\n",
       "      <td>0</td>\n",
       "      <td>0</td>\n",
       "      <td>0</td>\n",
       "      <td>96.107605</td>\n",
       "    </tr>\n",
       "    <tr>\n",
       "      <th>2</th>\n",
       "      <td>2</td>\n",
       "      <td>1</td>\n",
       "      <td>201</td>\n",
       "      <td>00:20</td>\n",
       "      <td>0</td>\n",
       "      <td>0</td>\n",
       "      <td>0</td>\n",
       "      <td>0</td>\n",
       "      <td>0</td>\n",
       "      <td>0</td>\n",
       "      <td>0</td>\n",
       "      <td>0</td>\n",
       "      <td>0</td>\n",
       "      <td>162.725128</td>\n",
       "    </tr>\n",
       "    <tr>\n",
       "      <th>3</th>\n",
       "      <td>3</td>\n",
       "      <td>1</td>\n",
       "      <td>201</td>\n",
       "      <td>00:30</td>\n",
       "      <td>0</td>\n",
       "      <td>0</td>\n",
       "      <td>0</td>\n",
       "      <td>0</td>\n",
       "      <td>0</td>\n",
       "      <td>0</td>\n",
       "      <td>0</td>\n",
       "      <td>0</td>\n",
       "      <td>0</td>\n",
       "      <td>188.577438</td>\n",
       "    </tr>\n",
       "    <tr>\n",
       "      <th>4</th>\n",
       "      <td>4</td>\n",
       "      <td>1</td>\n",
       "      <td>201</td>\n",
       "      <td>00:40</td>\n",
       "      <td>0</td>\n",
       "      <td>0</td>\n",
       "      <td>0</td>\n",
       "      <td>0</td>\n",
       "      <td>0</td>\n",
       "      <td>0</td>\n",
       "      <td>0</td>\n",
       "      <td>0</td>\n",
       "      <td>0</td>\n",
       "      <td>164.928406</td>\n",
       "    </tr>\n",
       "    <tr>\n",
       "      <th>...</th>\n",
       "      <td>...</td>\n",
       "      <td>...</td>\n",
       "      <td>...</td>\n",
       "      <td>...</td>\n",
       "      <td>...</td>\n",
       "      <td>...</td>\n",
       "      <td>...</td>\n",
       "      <td>...</td>\n",
       "      <td>...</td>\n",
       "      <td>...</td>\n",
       "      <td>...</td>\n",
       "      <td>...</td>\n",
       "      <td>...</td>\n",
       "      <td>...</td>\n",
       "    </tr>\n",
       "    <tr>\n",
       "      <th>38587</th>\n",
       "      <td>38587</td>\n",
       "      <td>134</td>\n",
       "      <td>202</td>\n",
       "      <td>23:10</td>\n",
       "      <td>0</td>\n",
       "      <td>0</td>\n",
       "      <td>0</td>\n",
       "      <td>0</td>\n",
       "      <td>0</td>\n",
       "      <td>0</td>\n",
       "      <td>0</td>\n",
       "      <td>0</td>\n",
       "      <td>0</td>\n",
       "      <td>339.576050</td>\n",
       "    </tr>\n",
       "    <tr>\n",
       "      <th>38588</th>\n",
       "      <td>38588</td>\n",
       "      <td>134</td>\n",
       "      <td>202</td>\n",
       "      <td>23:20</td>\n",
       "      <td>0</td>\n",
       "      <td>0</td>\n",
       "      <td>0</td>\n",
       "      <td>0</td>\n",
       "      <td>0</td>\n",
       "      <td>0</td>\n",
       "      <td>0</td>\n",
       "      <td>0</td>\n",
       "      <td>0</td>\n",
       "      <td>323.063751</td>\n",
       "    </tr>\n",
       "    <tr>\n",
       "      <th>38589</th>\n",
       "      <td>38589</td>\n",
       "      <td>134</td>\n",
       "      <td>202</td>\n",
       "      <td>23:30</td>\n",
       "      <td>0</td>\n",
       "      <td>0</td>\n",
       "      <td>0</td>\n",
       "      <td>0</td>\n",
       "      <td>0</td>\n",
       "      <td>0</td>\n",
       "      <td>0</td>\n",
       "      <td>0</td>\n",
       "      <td>0</td>\n",
       "      <td>320.243622</td>\n",
       "    </tr>\n",
       "    <tr>\n",
       "      <th>38590</th>\n",
       "      <td>38590</td>\n",
       "      <td>134</td>\n",
       "      <td>202</td>\n",
       "      <td>23:40</td>\n",
       "      <td>0</td>\n",
       "      <td>0</td>\n",
       "      <td>0</td>\n",
       "      <td>0</td>\n",
       "      <td>0</td>\n",
       "      <td>0</td>\n",
       "      <td>0</td>\n",
       "      <td>0</td>\n",
       "      <td>0</td>\n",
       "      <td>306.241608</td>\n",
       "    </tr>\n",
       "    <tr>\n",
       "      <th>38591</th>\n",
       "      <td>38591</td>\n",
       "      <td>134</td>\n",
       "      <td>202</td>\n",
       "      <td>23:50</td>\n",
       "      <td>0</td>\n",
       "      <td>0</td>\n",
       "      <td>0</td>\n",
       "      <td>0</td>\n",
       "      <td>0</td>\n",
       "      <td>0</td>\n",
       "      <td>0</td>\n",
       "      <td>0</td>\n",
       "      <td>0</td>\n",
       "      <td>310.607544</td>\n",
       "    </tr>\n",
       "  </tbody>\n",
       "</table>\n",
       "<p>38592 rows × 14 columns</p>\n",
       "</div>"
      ],
      "text/plain": [
       "       index  TurbID  Day Tmstamp  Wspd  Wdir  Etmp  Itmp  Ndir  Pab1  Pab2  \\\n",
       "0          0       1  201   00:00     0     0     0     0     0     0     0   \n",
       "1          1       1  201   00:10     0     0     0     0     0     0     0   \n",
       "2          2       1  201   00:20     0     0     0     0     0     0     0   \n",
       "3          3       1  201   00:30     0     0     0     0     0     0     0   \n",
       "4          4       1  201   00:40     0     0     0     0     0     0     0   \n",
       "...      ...     ...  ...     ...   ...   ...   ...   ...   ...   ...   ...   \n",
       "38587  38587     134  202   23:10     0     0     0     0     0     0     0   \n",
       "38588  38588     134  202   23:20     0     0     0     0     0     0     0   \n",
       "38589  38589     134  202   23:30     0     0     0     0     0     0     0   \n",
       "38590  38590     134  202   23:40     0     0     0     0     0     0     0   \n",
       "38591  38591     134  202   23:50     0     0     0     0     0     0     0   \n",
       "\n",
       "       Pab3  Prtv        Patv  \n",
       "0         0     0   68.521164  \n",
       "1         0     0   96.107605  \n",
       "2         0     0  162.725128  \n",
       "3         0     0  188.577438  \n",
       "4         0     0  164.928406  \n",
       "...     ...   ...         ...  \n",
       "38587     0     0  339.576050  \n",
       "38588     0     0  323.063751  \n",
       "38589     0     0  320.243622  \n",
       "38590     0     0  306.241608  \n",
       "38591     0     0  310.607544  \n",
       "\n",
       "[38592 rows x 14 columns]"
      ]
     },
     "execution_count": 79,
     "metadata": {},
     "output_type": "execute_result"
    }
   ],
   "source": [
    "sample_submission"
   ]
  },
  {
   "cell_type": "code",
   "execution_count": null,
   "id": "967a2a59",
   "metadata": {},
   "outputs": [],
   "source": []
  }
 ],
 "metadata": {
  "kernelspec": {
   "display_name": "Python 3 (ipykernel)",
   "language": "python",
   "name": "python3"
  },
  "language_info": {
   "codemirror_mode": {
    "name": "ipython",
    "version": 3
   },
   "file_extension": ".py",
   "mimetype": "text/x-python",
   "name": "python",
   "nbconvert_exporter": "python",
   "pygments_lexer": "ipython3",
   "version": "3.8.12"
  },
  "toc": {
   "base_numbering": 1,
   "nav_menu": {},
   "number_sections": true,
   "sideBar": true,
   "skip_h1_title": false,
   "title_cell": "Table of Contents",
   "title_sidebar": "Contents",
   "toc_cell": false,
   "toc_position": {},
   "toc_section_display": true,
   "toc_window_display": false
  }
 },
 "nbformat": 4,
 "nbformat_minor": 5
}
