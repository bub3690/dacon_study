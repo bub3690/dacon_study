{
 "cells": [
  {
   "cell_type": "code",
   "execution_count": 1,
   "id": "aae1bd5f",
   "metadata": {},
   "outputs": [
    {
     "name": "stdout",
     "output_type": "stream",
     "text": [
      "Using Pytorch version :  1.10.2  Device :  cuda\n"
     ]
    }
   ],
   "source": [
    "import torch\n",
    "import matplotlib.pyplot as plt\n",
    "import numpy as np\n",
    "import torch\n",
    "import torch.nn as nn # 인공 신경망 모델들 모아놓은 모듈\n",
    "import torch.nn.functional as F #그중 자주 쓰이는것들을 F로\n",
    "from torch.utils.data import Dataset, DataLoader\n",
    "import pandas as pd\n",
    "import os\n",
    "from glob import glob\n",
    "import sys\n",
    "from sklearn.model_selection import train_test_split # train , test 분리에 사용.\n",
    "\n",
    "from tqdm import trange\n",
    "import random\n",
    "\n",
    "\n",
    "if torch.cuda.is_available():\n",
    "    DEVICE = torch.device('cuda')\n",
    "else:\n",
    "    DEVICE = torch.device('cpu')\n",
    "#DEVICE = torch.device('cpu')\n",
    "print('Using Pytorch version : ',torch.__version__,' Device : ',DEVICE)"
   ]
  },
  {
   "cell_type": "code",
   "execution_count": 2,
   "id": "07f7f7a1",
   "metadata": {},
   "outputs": [],
   "source": [
    "from tqdm import tqdm"
   ]
  },
  {
   "cell_type": "markdown",
   "id": "79af139e",
   "metadata": {},
   "source": [
    "# 데이터 전처리\n",
    "\n",
    "```\n",
    "\n",
    "TurbID - 발전기 ID\n",
    "\n",
    "Day - 날짜\n",
    "\n",
    "Tmstamp - 시간\n",
    "\n",
    "Wspd - 풍속\n",
    "\n",
    "Wdir - 터빈이 바라보는 각도와 실제 바람 방향 각도 차이\n",
    "\n",
    "Etmp - 외부 온도\n",
    "\n",
    "Itmp - 터빈 내부 온도\n",
    "\n",
    "Ndir - 터빈이 바라보는 방향 각도\n",
    "\n",
    "Pab - 터빈 당 3개의 날이 있으며 각각의 각도가 다름\n",
    "\n",
    "Prtv - 무효전력 : 에너지원을 필요로 하지 않는 전력\n",
    "\n",
    "Patv - 유효전력 : 실제로 터빈을 돌리는 일을 하는 전력\n",
    "\n",
    "````\n",
    "\n",
    "\n",
    "베이스 라인 제공 전처리 방법"
   ]
  },
  {
   "cell_type": "code",
   "execution_count": 3,
   "id": "5c000a23",
   "metadata": {},
   "outputs": [],
   "source": [
    "train_data = pd.read_csv(\"data/train_data.csv\")\n",
    "sample_submission = pd.read_csv(\"data/sample_submission.csv\")"
   ]
  },
  {
   "cell_type": "code",
   "execution_count": 4,
   "id": "0839be7b",
   "metadata": {},
   "outputs": [
    {
     "data": {
      "text/plain": [
       "TurbID         0\n",
       "Day            0\n",
       "Tmstamp        0\n",
       "Wspd       45587\n",
       "Wdir       45587\n",
       "Etmp       45587\n",
       "Itmp       45587\n",
       "Ndir       45587\n",
       "Pab1       45587\n",
       "Pab2       45587\n",
       "Pab3       45587\n",
       "Prtv       45587\n",
       "Patv       45587\n",
       "dtype: int64"
      ]
     },
     "execution_count": 4,
     "metadata": {},
     "output_type": "execute_result"
    }
   ],
   "source": [
    "# train_data의 결측값 확인\n",
    "train_data.isnull().sum()"
   ]
  },
  {
   "cell_type": "code",
   "execution_count": 5,
   "id": "6a3dbb3a",
   "metadata": {},
   "outputs": [
    {
     "name": "stdout",
     "output_type": "stream",
     "text": [
      "TurbID     0\n",
      "Day        0\n",
      "Tmstamp    0\n",
      "Wspd       0\n",
      "Wdir       0\n",
      "Etmp       0\n",
      "Itmp       0\n",
      "Ndir       0\n",
      "Pab1       0\n",
      "Pab2       0\n",
      "Pab3       0\n",
      "Prtv       0\n",
      "Patv       0\n",
      "dtype: int64\n"
     ]
    }
   ],
   "source": [
    "# method : 결측값을 변경할 방식입니다. bfill로 할경우 결측값을 바로 아래 값과 동일하게 변경합니다.\n",
    "# 결측값 처리\n",
    "train_data = train_data.fillna(method = 'ffill').fillna(method = 'bfill')\n",
    "\n",
    "print(train_data.isnull().sum())"
   ]
  },
  {
   "cell_type": "code",
   "execution_count": 6,
   "id": "a59356c0",
   "metadata": {},
   "outputs": [
    {
     "data": {
      "text/html": [
       "<div>\n",
       "<style scoped>\n",
       "    .dataframe tbody tr th:only-of-type {\n",
       "        vertical-align: middle;\n",
       "    }\n",
       "\n",
       "    .dataframe tbody tr th {\n",
       "        vertical-align: top;\n",
       "    }\n",
       "\n",
       "    .dataframe thead th {\n",
       "        text-align: right;\n",
       "    }\n",
       "</style>\n",
       "<table border=\"1\" class=\"dataframe\">\n",
       "  <thead>\n",
       "    <tr style=\"text-align: right;\">\n",
       "      <th></th>\n",
       "      <th>TurbID</th>\n",
       "      <th>Day</th>\n",
       "      <th>Tmstamp</th>\n",
       "      <th>Wspd</th>\n",
       "      <th>Wdir</th>\n",
       "      <th>Etmp</th>\n",
       "      <th>Itmp</th>\n",
       "      <th>Ndir</th>\n",
       "      <th>Pab1</th>\n",
       "      <th>Pab2</th>\n",
       "      <th>Pab3</th>\n",
       "      <th>Prtv</th>\n",
       "      <th>Patv</th>\n",
       "    </tr>\n",
       "  </thead>\n",
       "  <tbody>\n",
       "    <tr>\n",
       "      <th>0</th>\n",
       "      <td>1</td>\n",
       "      <td>1</td>\n",
       "      <td>00:00</td>\n",
       "      <td>6.17</td>\n",
       "      <td>-3.99</td>\n",
       "      <td>30.73</td>\n",
       "      <td>41.80</td>\n",
       "      <td>25.92</td>\n",
       "      <td>1.00</td>\n",
       "      <td>1.00</td>\n",
       "      <td>1.00</td>\n",
       "      <td>-0.25</td>\n",
       "      <td>494.66</td>\n",
       "    </tr>\n",
       "    <tr>\n",
       "      <th>1</th>\n",
       "      <td>1</td>\n",
       "      <td>1</td>\n",
       "      <td>00:10</td>\n",
       "      <td>6.17</td>\n",
       "      <td>-3.99</td>\n",
       "      <td>30.73</td>\n",
       "      <td>41.80</td>\n",
       "      <td>25.92</td>\n",
       "      <td>1.00</td>\n",
       "      <td>1.00</td>\n",
       "      <td>1.00</td>\n",
       "      <td>-0.25</td>\n",
       "      <td>494.66</td>\n",
       "    </tr>\n",
       "    <tr>\n",
       "      <th>2</th>\n",
       "      <td>1</td>\n",
       "      <td>1</td>\n",
       "      <td>00:20</td>\n",
       "      <td>6.27</td>\n",
       "      <td>-2.18</td>\n",
       "      <td>30.60</td>\n",
       "      <td>41.63</td>\n",
       "      <td>20.91</td>\n",
       "      <td>1.00</td>\n",
       "      <td>1.00</td>\n",
       "      <td>1.00</td>\n",
       "      <td>-0.24</td>\n",
       "      <td>509.76</td>\n",
       "    </tr>\n",
       "    <tr>\n",
       "      <th>3</th>\n",
       "      <td>1</td>\n",
       "      <td>1</td>\n",
       "      <td>00:30</td>\n",
       "      <td>6.42</td>\n",
       "      <td>-0.73</td>\n",
       "      <td>30.52</td>\n",
       "      <td>41.52</td>\n",
       "      <td>20.91</td>\n",
       "      <td>1.00</td>\n",
       "      <td>1.00</td>\n",
       "      <td>1.00</td>\n",
       "      <td>-0.26</td>\n",
       "      <td>542.53</td>\n",
       "    </tr>\n",
       "    <tr>\n",
       "      <th>4</th>\n",
       "      <td>1</td>\n",
       "      <td>1</td>\n",
       "      <td>00:40</td>\n",
       "      <td>6.25</td>\n",
       "      <td>0.89</td>\n",
       "      <td>30.49</td>\n",
       "      <td>41.38</td>\n",
       "      <td>20.91</td>\n",
       "      <td>1.00</td>\n",
       "      <td>1.00</td>\n",
       "      <td>1.00</td>\n",
       "      <td>-0.23</td>\n",
       "      <td>509.36</td>\n",
       "    </tr>\n",
       "    <tr>\n",
       "      <th>...</th>\n",
       "      <td>...</td>\n",
       "      <td>...</td>\n",
       "      <td>...</td>\n",
       "      <td>...</td>\n",
       "      <td>...</td>\n",
       "      <td>...</td>\n",
       "      <td>...</td>\n",
       "      <td>...</td>\n",
       "      <td>...</td>\n",
       "      <td>...</td>\n",
       "      <td>...</td>\n",
       "      <td>...</td>\n",
       "      <td>...</td>\n",
       "    </tr>\n",
       "    <tr>\n",
       "      <th>139</th>\n",
       "      <td>1</td>\n",
       "      <td>1</td>\n",
       "      <td>23:10</td>\n",
       "      <td>9.95</td>\n",
       "      <td>0.49</td>\n",
       "      <td>28.71</td>\n",
       "      <td>42.53</td>\n",
       "      <td>-9.44</td>\n",
       "      <td>1.02</td>\n",
       "      <td>1.02</td>\n",
       "      <td>1.02</td>\n",
       "      <td>-0.29</td>\n",
       "      <td>1330.24</td>\n",
       "    </tr>\n",
       "    <tr>\n",
       "      <th>140</th>\n",
       "      <td>1</td>\n",
       "      <td>1</td>\n",
       "      <td>23:20</td>\n",
       "      <td>12.20</td>\n",
       "      <td>0.70</td>\n",
       "      <td>28.59</td>\n",
       "      <td>42.56</td>\n",
       "      <td>-8.17</td>\n",
       "      <td>1.08</td>\n",
       "      <td>1.08</td>\n",
       "      <td>1.08</td>\n",
       "      <td>-0.23</td>\n",
       "      <td>1550.74</td>\n",
       "    </tr>\n",
       "    <tr>\n",
       "      <th>141</th>\n",
       "      <td>1</td>\n",
       "      <td>1</td>\n",
       "      <td>23:30</td>\n",
       "      <td>12.66</td>\n",
       "      <td>1.09</td>\n",
       "      <td>28.54</td>\n",
       "      <td>42.23</td>\n",
       "      <td>-8.17</td>\n",
       "      <td>1.08</td>\n",
       "      <td>1.08</td>\n",
       "      <td>1.08</td>\n",
       "      <td>-0.21</td>\n",
       "      <td>1549.66</td>\n",
       "    </tr>\n",
       "    <tr>\n",
       "      <th>142</th>\n",
       "      <td>1</td>\n",
       "      <td>1</td>\n",
       "      <td>23:40</td>\n",
       "      <td>12.58</td>\n",
       "      <td>1.70</td>\n",
       "      <td>28.48</td>\n",
       "      <td>42.09</td>\n",
       "      <td>-8.17</td>\n",
       "      <td>1.08</td>\n",
       "      <td>1.08</td>\n",
       "      <td>1.08</td>\n",
       "      <td>-0.20</td>\n",
       "      <td>1549.64</td>\n",
       "    </tr>\n",
       "    <tr>\n",
       "      <th>143</th>\n",
       "      <td>1</td>\n",
       "      <td>1</td>\n",
       "      <td>23:50</td>\n",
       "      <td>9.95</td>\n",
       "      <td>-0.42</td>\n",
       "      <td>28.31</td>\n",
       "      <td>42.09</td>\n",
       "      <td>-8.17</td>\n",
       "      <td>1.01</td>\n",
       "      <td>1.01</td>\n",
       "      <td>1.01</td>\n",
       "      <td>-0.20</td>\n",
       "      <td>1361.95</td>\n",
       "    </tr>\n",
       "  </tbody>\n",
       "</table>\n",
       "<p>144 rows × 13 columns</p>\n",
       "</div>"
      ],
      "text/plain": [
       "     TurbID  Day Tmstamp   Wspd  Wdir   Etmp   Itmp   Ndir  Pab1  Pab2  Pab3  \\\n",
       "0         1    1   00:00   6.17 -3.99  30.73  41.80  25.92  1.00  1.00  1.00   \n",
       "1         1    1   00:10   6.17 -3.99  30.73  41.80  25.92  1.00  1.00  1.00   \n",
       "2         1    1   00:20   6.27 -2.18  30.60  41.63  20.91  1.00  1.00  1.00   \n",
       "3         1    1   00:30   6.42 -0.73  30.52  41.52  20.91  1.00  1.00  1.00   \n",
       "4         1    1   00:40   6.25  0.89  30.49  41.38  20.91  1.00  1.00  1.00   \n",
       "..      ...  ...     ...    ...   ...    ...    ...    ...   ...   ...   ...   \n",
       "139       1    1   23:10   9.95  0.49  28.71  42.53  -9.44  1.02  1.02  1.02   \n",
       "140       1    1   23:20  12.20  0.70  28.59  42.56  -8.17  1.08  1.08  1.08   \n",
       "141       1    1   23:30  12.66  1.09  28.54  42.23  -8.17  1.08  1.08  1.08   \n",
       "142       1    1   23:40  12.58  1.70  28.48  42.09  -8.17  1.08  1.08  1.08   \n",
       "143       1    1   23:50   9.95 -0.42  28.31  42.09  -8.17  1.01  1.01  1.01   \n",
       "\n",
       "     Prtv     Patv  \n",
       "0   -0.25   494.66  \n",
       "1   -0.25   494.66  \n",
       "2   -0.24   509.76  \n",
       "3   -0.26   542.53  \n",
       "4   -0.23   509.36  \n",
       "..    ...      ...  \n",
       "139 -0.29  1330.24  \n",
       "140 -0.23  1550.74  \n",
       "141 -0.21  1549.66  \n",
       "142 -0.20  1549.64  \n",
       "143 -0.20  1361.95  \n",
       "\n",
       "[144 rows x 13 columns]"
      ]
     },
     "execution_count": 6,
     "metadata": {},
     "output_type": "execute_result"
    }
   ],
   "source": [
    "train_data[(train_data[\"TurbID\"]==1)&(train_data[\"Day\"]==1)]"
   ]
  },
  {
   "cell_type": "markdown",
   "id": "e1111f49",
   "metadata": {},
   "source": [
    "# 데이터셋"
   ]
  },
  {
   "cell_type": "code",
   "execution_count": 7,
   "id": "91f71a1b",
   "metadata": {},
   "outputs": [],
   "source": [
    "# 한 Turb당 194 line\n",
    "# label은 2일.로 나눠야함.\n",
    "\n",
    "def make_train_data(data):\n",
    "    train_x, train_y = [], []\n",
    "    for i in tqdm(sorted(pd.unique(data[\"TurbID\"]))):\n",
    "        tmp_data = data[data[\"TurbID\"] == i]\n",
    "        for j in range(1, 195): # 1~195 (1~194까지?)\n",
    "            \n",
    "            # train data ==> 5일 단위\n",
    "            # label data ==> 2일 단위\n",
    "            day_list = [x for x in range(j, j+ 5)]\n",
    "            label_day_list = [y for y in range(j+5, j + 7)]\n",
    "            \n",
    "            train_tmp = tmp_data[tmp_data[\"Day\"].isin(day_list)]\n",
    "            \n",
    "            label_tmp = tmp_data[tmp_data[\"Day\"].isin(label_day_list)][\"Patv\"]\n",
    "            \n",
    "            # feature 선택 및 제거\n",
    "            train_tmp = train_tmp[\"Patv\"]\n",
    "            #train_tmp = train_tmp.drop([\"TurbID\", \"Day\"], axis = 1)\n",
    "            \n",
    "            train_x.append(np.array(train_tmp))\n",
    "            train_y.append(np.array(label_tmp))\n",
    "            \n",
    "    return train_x, train_y\n",
    "\n"
   ]
  },
  {
   "cell_type": "code",
   "execution_count": 8,
   "id": "9e9de5fb",
   "metadata": {},
   "outputs": [
    {
     "name": "stderr",
     "output_type": "stream",
     "text": [
      "100%|████████████████████████████████████████████████████████████████████████████████| 134/134 [00:16<00:00,  8.33it/s]\n"
     ]
    }
   ],
   "source": [
    "# time stamp label encoding\n",
    "tms_list = list(pd.unique(train_data[\"Tmstamp\"]))\n",
    "\n",
    "train_data[\"Tmstamp\"] = train_data[\"Tmstamp\"].apply(lambda x : tms_list.index(x))\n",
    "\n",
    "X_data, Y_data = make_train_data(train_data)\n",
    "#valid_x, valid_y = make_valid_data(train_data)\n"
   ]
  },
  {
   "cell_type": "code",
   "execution_count": 9,
   "id": "c5e6bd88",
   "metadata": {},
   "outputs": [
    {
     "data": {
      "text/plain": [
       "25996"
      ]
     },
     "execution_count": 9,
     "metadata": {},
     "output_type": "execute_result"
    }
   ],
   "source": [
    "len(X_data)"
   ]
  },
  {
   "cell_type": "code",
   "execution_count": 10,
   "id": "0fd6173b",
   "metadata": {},
   "outputs": [
    {
     "data": {
      "text/plain": [
       "(720,)"
      ]
     },
     "execution_count": 10,
     "metadata": {},
     "output_type": "execute_result"
    }
   ],
   "source": [
    "X_data[0].shape"
   ]
  },
  {
   "cell_type": "code",
   "execution_count": 11,
   "id": "a20dc4f5",
   "metadata": {},
   "outputs": [],
   "source": [
    "X_data  = np.array(X_data).reshape(-1, X_data[0].shape[0], 1)\n",
    "#train_x = np.array(X_data)\n",
    "Y_data = np.array(Y_data)"
   ]
  },
  {
   "cell_type": "code",
   "execution_count": 12,
   "id": "1a36f081",
   "metadata": {},
   "outputs": [
    {
     "data": {
      "text/plain": [
       "(25996, 720, 1)"
      ]
     },
     "execution_count": 12,
     "metadata": {},
     "output_type": "execute_result"
    }
   ],
   "source": [
    "X_data.shape"
   ]
  },
  {
   "cell_type": "code",
   "execution_count": 13,
   "id": "720dbc07",
   "metadata": {},
   "outputs": [],
   "source": [
    "#train_x  = np.array(train_x).reshape(-1, train_x[0].shape[0], train_x[0].shape[1])\n",
    "#valid_x = np.array(valid_x)\n",
    "#valid_y = np.array(valid_y)"
   ]
  },
  {
   "cell_type": "code",
   "execution_count": 14,
   "id": "25ce37da",
   "metadata": {},
   "outputs": [],
   "source": [
    "train_x, valid_x, train_y, valid_y = train_test_split(X_data,Y_data, test_size=0.1, shuffle=False,random_state=42)"
   ]
  },
  {
   "cell_type": "code",
   "execution_count": 15,
   "id": "6aaa70c5",
   "metadata": {},
   "outputs": [
    {
     "data": {
      "text/plain": [
       "(23396, 288)"
      ]
     },
     "execution_count": 15,
     "metadata": {},
     "output_type": "execute_result"
    }
   ],
   "source": [
    "np.array(train_y).shape"
   ]
  },
  {
   "cell_type": "code",
   "execution_count": 16,
   "id": "a9061b7e",
   "metadata": {},
   "outputs": [
    {
     "name": "stdout",
     "output_type": "stream",
     "text": [
      "(23396, 720, 1) (23396, 288)\n"
     ]
    }
   ],
   "source": [
    "train_x  = np.array(train_x).reshape(-1, train_x[0].shape[0], train_x[0].shape[1])\n",
    "train_y = np.array(train_y)\n",
    "print(train_x.shape, train_y.shape)"
   ]
  },
  {
   "cell_type": "code",
   "execution_count": 17,
   "id": "010424c9",
   "metadata": {},
   "outputs": [
    {
     "name": "stdout",
     "output_type": "stream",
     "text": [
      "(2600, 720, 1) (2600, 288)\n"
     ]
    }
   ],
   "source": [
    "valid_x  = np.array(valid_x).reshape(-1, valid_x[0].shape[0], valid_x[0].shape[1])\n",
    "valid_y = np.array(valid_y)\n",
    "print(valid_x.shape, valid_y.shape)"
   ]
  },
  {
   "attachments": {
    "image.png": {
     "image/png": "[encoded data removed]"
    }
   },
   "cell_type": "markdown",
   "id": "968591bc",
   "metadata": {},
   "source": [
    "input dimension은 (Batch, Time_step, Feature dimension) 순이다. (batch_first=True)\n",
    "\n",
    "output이 288인 이유는 2일이라서\n",
    "\n",
    "![image.png](attachment:image.png)"
   ]
  },
  {
   "cell_type": "markdown",
   "id": "d78a322a",
   "metadata": {},
   "source": [
    "# 정규화\n",
    "\n",
    "std norm 을 이용하고, inference 후 , 다시 복구 시킨다"
   ]
  },
  {
   "cell_type": "code",
   "execution_count": 18,
   "id": "6745a45a",
   "metadata": {},
   "outputs": [],
   "source": [
    "global_mean=train_x.mean()"
   ]
  },
  {
   "cell_type": "code",
   "execution_count": 19,
   "id": "356765bd",
   "metadata": {},
   "outputs": [],
   "source": [
    "global_std=train_x.std()"
   ]
  },
  {
   "cell_type": "code",
   "execution_count": 20,
   "id": "5f562ca1",
   "metadata": {},
   "outputs": [],
   "source": [
    "train_x=(train_x-global_mean)/(global_std)\n",
    "train_y=(train_y-global_mean)/(global_std)"
   ]
  },
  {
   "cell_type": "code",
   "execution_count": 21,
   "id": "9be34657",
   "metadata": {},
   "outputs": [],
   "source": [
    "valid_x=(valid_x-global_mean)/(global_std)\n",
    "valid_y=(valid_y-global_mean)/(global_std)"
   ]
  },
  {
   "cell_type": "markdown",
   "id": "20be20ba",
   "metadata": {},
   "source": [
    "# 데이터 로더"
   ]
  },
  {
   "cell_type": "code",
   "execution_count": 22,
   "id": "d8e36986",
   "metadata": {},
   "outputs": [],
   "source": [
    "EPOCHS = 15\n",
    "BATCH_SIZE = 128\n",
    "lr = 1e-3\n",
    "lstm_hidden_layer=128"
   ]
  },
  {
   "cell_type": "code",
   "execution_count": 23,
   "id": "270ce953",
   "metadata": {},
   "outputs": [],
   "source": [
    "from torch.utils.data import Dataset, DataLoader\n",
    "\n",
    "class TimeDataset(Dataset):\n",
    "    def __init__(self, X, Y):\n",
    "        self.X = X\n",
    "        self.Y = Y\n",
    "        \n",
    "    def __len__(self):\n",
    "        return len(self.X)\n",
    "        \n",
    "    def __getitem__(self, index):\n",
    "        if self.Y is not None:\n",
    "            return torch.Tensor(self.X[index]), torch.Tensor(self.Y[index])\n",
    "        \n",
    "        return torch.Tensor(self.X[index]) # 테스트셋 용\n",
    "    \n"
   ]
  },
  {
   "cell_type": "code",
   "execution_count": 24,
   "id": "5cb7414a",
   "metadata": {},
   "outputs": [],
   "source": [
    "train_dataset = TimeDataset(train_x, train_y)\n",
    "valid_dataset = TimeDataset(valid_x, valid_y)\n",
    "\n",
    "\n",
    "train_loader = DataLoader(train_dataset, \n",
    "                          batch_size = BATCH_SIZE,\n",
    "                          shuffle=True)\n",
    "\n",
    "valid_loader = DataLoader(valid_dataset, \n",
    "                          batch_size = BATCH_SIZE,\n",
    "                          shuffle=True)\n",
    "\n"
   ]
  },
  {
   "cell_type": "markdown",
   "id": "b1391110",
   "metadata": {},
   "source": [
    "# 데이터 확인"
   ]
  },
  {
   "cell_type": "code",
   "execution_count": 25,
   "id": "c8efd1fb",
   "metadata": {
    "scrolled": true
   },
   "outputs": [
    {
     "name": "stdout",
     "output_type": "stream",
     "text": [
      "X_train :  torch.Size([128, 720, 1]) type: torch.FloatTensor\n",
      "Y_train :  torch.Size([128, 288]) type: torch.FloatTensor\n",
      "torch.Size([288])\n"
     ]
    }
   ],
   "source": [
    "# 4. 데이터 확인하기\n",
    "for (X_train,Y_train) in train_loader:\n",
    "    print(\"X_train : \",X_train.size(),'type:',X_train.type())\n",
    "    print(\"Y_train : \",Y_train.size(),'type:',Y_train.type())\n",
    "    break\n",
    "    \n",
    "print(Y_train[0].shape)\n"
   ]
  },
  {
   "cell_type": "code",
   "execution_count": 26,
   "id": "3f4a147c",
   "metadata": {
    "scrolled": true
   },
   "outputs": [
    {
     "name": "stdout",
     "output_type": "stream",
     "text": [
      "X_valid :  torch.Size([128, 720, 1]) type: torch.FloatTensor\n",
      "Y_valid :  torch.Size([128, 288]) type: torch.FloatTensor\n",
      "torch.Size([288])\n"
     ]
    }
   ],
   "source": [
    "#valiation set 확인\n",
    "for (X_valid,Y_valid) in valid_loader:\n",
    "    print(\"X_valid : \",X_valid.size(),'type:',X_valid.type())\n",
    "    print(\"Y_valid : \",Y_valid.size(),'type:',Y_valid.type())\n",
    "    break\n",
    "\n",
    "print(Y_valid[0].shape)"
   ]
  },
  {
   "cell_type": "markdown",
   "id": "9630a2ff",
   "metadata": {},
   "source": [
    "# 모델\n"
   ]
  },
  {
   "cell_type": "markdown",
   "id": "fd8220ba",
   "metadata": {},
   "source": [
    "### input 설명\n",
    "\n",
    "- input_size: input의 feature dimension을 넣어주어야 한다. time step이 아니라 feature dimension!\n",
    "- hidden_size: 내부에서 어떤 feature dimension으로 바꿔주고 싶은지를 넣어주면 된다.\n",
    "- num_layers: lstm layer를 얼마나 쌓을지\n",
    "- bias: bias term을 둘 것인가 (Default: True)\n",
    "- batch_first: batch가 0번 dimension으로 오게 하려면 이거 설정! 난 이거 설정 가정하고 설명했다. (Default: False)\n",
    "- dropout: 가지치기 얼마나 할지, generalization 잘안되면 이걸 조정하면 된다.\n",
    "bidirectional: 양방향으로 할지 말지 (bidirectional 하면 [forward, backword] 로 feature dimension 2배 됨)\n",
    "\n",
    "\n",
    "\n",
    "참고.\n",
    "\n",
    "https://sanghyu.tistory.com/52"
   ]
  },
  {
   "cell_type": "markdown",
   "id": "7da3e174",
   "metadata": {},
   "source": [
    "### output 설명\n",
    "\n",
    "- outputs는 (output, (hidden or hidden stat,cell stat)) 의 tuple 형태로 나오므로 주의해서 써야한다. (LSTM만 cell state있음)\n",
    "- output: output dimension은 (batch, time_step, hidden dimension) 순이다. 양방향일 경우 hidden_size*2\n",
    "- hidden state: 모든 layer의 hidden state를 담고있다.\n",
    "- cell state: 모든 layer의 cell state를 담고있다."
   ]
  },
  {
   "cell_type": "code",
   "execution_count": 27,
   "id": "7bbb59d4",
   "metadata": {},
   "outputs": [
    {
     "data": {
      "text/plain": [
       "torch.Size([128, 720, 512])"
      ]
     },
     "execution_count": 27,
     "metadata": {},
     "output_type": "execute_result"
    }
   ],
   "source": [
    "lstm = nn.LSTM(input_size=1, hidden_size=256, batch_first=True, bidirectional=True)\n",
    "\n",
    "lstm(X_valid)[0].size()"
   ]
  },
  {
   "cell_type": "code",
   "execution_count": 28,
   "id": "c9b7c4f9",
   "metadata": {
    "scrolled": true
   },
   "outputs": [
    {
     "data": {
      "text/plain": [
       "torch.Size([720, 512])"
      ]
     },
     "execution_count": 28,
     "metadata": {},
     "output_type": "execute_result"
    }
   ],
   "source": [
    "lstm(X_valid)[0][-1].size()"
   ]
  },
  {
   "cell_type": "code",
   "execution_count": 29,
   "id": "aaea8947",
   "metadata": {
    "scrolled": true
   },
   "outputs": [
    {
     "data": {
      "text/plain": [
       "tensor([[[-0.0244,  0.0471,  0.0487,  ..., -0.0059,  0.0228,  0.0513],\n",
       "         [ 0.0094,  0.0762,  0.0056,  ...,  0.0250,  0.0110,  0.0266],\n",
       "         [-0.0244,  0.0467,  0.0493,  ..., -0.0062,  0.0225,  0.0514],\n",
       "         ...,\n",
       "         [-0.0299,  0.0401,  0.0593,  ..., -0.0121,  0.0240,  0.0557],\n",
       "         [-0.0301,  0.0438,  0.0535,  ..., -0.0095,  0.0263,  0.0547],\n",
       "         [-0.0299,  0.0401,  0.0593,  ..., -0.0121,  0.0240,  0.0557]],\n",
       "\n",
       "        [[-0.0183, -0.0208,  0.0216,  ...,  0.0324, -0.0005, -0.0267],\n",
       "         [ 0.0232, -0.0076,  0.0832,  ..., -0.0406, -0.0644, -0.0319],\n",
       "         [-0.0222, -0.0206,  0.0211,  ...,  0.0253, -0.0009, -0.0282],\n",
       "         ...,\n",
       "         [ 0.0008, -0.0161,  0.0485,  ...,  0.0043, -0.0267, -0.0293],\n",
       "         [-0.0285, -0.0244,  0.0065,  ...,  0.0472,  0.0144, -0.0259],\n",
       "         [ 0.0030, -0.0146,  0.0519,  ...,  0.0009, -0.0306, -0.0290]]],\n",
       "       grad_fn=<StackBackward0>)"
      ]
     },
     "execution_count": 29,
     "metadata": {},
     "output_type": "execute_result"
    }
   ],
   "source": [
    "lstm(X_valid)[1][0]"
   ]
  },
  {
   "cell_type": "code",
   "execution_count": 30,
   "id": "076c46b3",
   "metadata": {},
   "outputs": [
    {
     "data": {
      "text/plain": [
       "torch.Size([128, 512])"
      ]
     },
     "execution_count": 30,
     "metadata": {},
     "output_type": "execute_result"
    }
   ],
   "source": [
    "lstm(X_valid)[0][:,-2,:].size()"
   ]
  },
  {
   "cell_type": "code",
   "execution_count": 31,
   "id": "525f9cbc",
   "metadata": {},
   "outputs": [],
   "source": [
    "class lstm_encoder(nn.Module):\n",
    "    def __init__(self, input_size, hidden_size, num_layers = 1):\n",
    "        super(lstm_encoder, self).__init__()\n",
    "        self.input_size = input_size\n",
    "        self.hidden_size = hidden_size\n",
    "        self.num_layers = num_layers\n",
    "\n",
    "        self.lstm = nn.LSTM(input_size = input_size, hidden_size = hidden_size, num_layers = num_layers, batch_first=True)\n",
    "\n",
    "    def forward(self, x_input):\n",
    "        lstm_out, self.hidden = self.lstm(x_input)\n",
    "        return lstm_out, self.hidden"
   ]
  },
  {
   "cell_type": "code",
   "execution_count": 32,
   "id": "502a9358",
   "metadata": {},
   "outputs": [],
   "source": [
    "lsenc=lstm_encoder(input_size=1, hidden_size=256)"
   ]
  },
  {
   "cell_type": "code",
   "execution_count": 33,
   "id": "f9207c15",
   "metadata": {},
   "outputs": [
    {
     "data": {
      "text/plain": [
       "torch.Size([128, 720, 1, 1])"
      ]
     },
     "execution_count": 33,
     "metadata": {},
     "output_type": "execute_result"
    }
   ],
   "source": [
    "X_valid.unsqueeze(2).size()"
   ]
  },
  {
   "cell_type": "code",
   "execution_count": 34,
   "id": "b5fe70fd",
   "metadata": {},
   "outputs": [],
   "source": [
    "\n",
    "hidden=lsenc(X_valid)[1]"
   ]
  },
  {
   "cell_type": "code",
   "execution_count": 35,
   "id": "3222f1af",
   "metadata": {},
   "outputs": [
    {
     "data": {
      "text/plain": [
       "(tensor([[[-0.0175, -0.0522, -0.0005,  ..., -0.0114,  0.0295,  0.0107],\n",
       "          [-0.0384,  0.0076, -0.0213,  ..., -0.0080,  0.0073, -0.0033],\n",
       "          [-0.0174, -0.0527, -0.0002,  ..., -0.0114,  0.0298,  0.0111],\n",
       "          ...,\n",
       "          [-0.0131, -0.0664,  0.0048,  ..., -0.0129,  0.0343,  0.0132],\n",
       "          [-0.0148, -0.0600,  0.0020,  ..., -0.0126,  0.0312,  0.0103],\n",
       "          [-0.0131, -0.0664,  0.0048,  ..., -0.0129,  0.0343,  0.0132]]],\n",
       "        grad_fn=<StackBackward0>),\n",
       " tensor([[[-0.0362, -0.1026, -0.0009,  ..., -0.0238,  0.0565,  0.0213],\n",
       "          [-0.0793,  0.0150, -0.0414,  ..., -0.0168,  0.0138, -0.0067],\n",
       "          [-0.0359, -0.1037, -0.0005,  ..., -0.0237,  0.0572,  0.0221],\n",
       "          ...,\n",
       "          [-0.0271, -0.1308,  0.0098,  ..., -0.0268,  0.0659,  0.0263],\n",
       "          [-0.0306, -0.1180,  0.0039,  ..., -0.0262,  0.0599,  0.0204],\n",
       "          [-0.0271, -0.1308,  0.0098,  ..., -0.0268,  0.0659,  0.0263]]],\n",
       "        grad_fn=<StackBackward0>))"
      ]
     },
     "execution_count": 35,
     "metadata": {},
     "output_type": "execute_result"
    }
   ],
   "source": [
    "hidden"
   ]
  },
  {
   "cell_type": "code",
   "execution_count": 36,
   "id": "b880ae08",
   "metadata": {},
   "outputs": [],
   "source": [
    "class lstm_decoder(nn.Module):\n",
    "    def __init__(self, input_size, hidden_size, num_layers = 1):\n",
    "        super(lstm_decoder, self).__init__()\n",
    "        self.input_size = input_size\n",
    "        self.hidden_size = hidden_size\n",
    "        self.num_layers = num_layers\n",
    "\n",
    "        self.lstm = nn.LSTM(input_size = input_size, hidden_size = hidden_size,num_layers = num_layers, batch_first=True)\n",
    "        self.linear = nn.Linear(hidden_size, input_size)           \n",
    "\n",
    "    def forward(self, x_input, encoder_hidden_states):\n",
    "        lstm_out, self.hidden = self.lstm(x_input.unsqueeze(-1), encoder_hidden_states)\n",
    "        output = self.linear(lstm_out)\n",
    "        \n",
    "        return output, self.hidden"
   ]
  },
  {
   "cell_type": "code",
   "execution_count": 37,
   "id": "7c6bbcb5",
   "metadata": {
    "scrolled": true
   },
   "outputs": [
    {
     "data": {
      "text/plain": [
       "torch.Size([128, 1, 1])"
      ]
     },
     "execution_count": 37,
     "metadata": {},
     "output_type": "execute_result"
    }
   ],
   "source": [
    "X_valid[:,-1,:].unsqueeze(1).shape"
   ]
  },
  {
   "cell_type": "code",
   "execution_count": 38,
   "id": "7416f66c",
   "metadata": {},
   "outputs": [
    {
     "data": {
      "text/plain": [
       "(tensor([[[-0.0175, -0.0522, -0.0005,  ..., -0.0114,  0.0295,  0.0107],\n",
       "          [-0.0384,  0.0076, -0.0213,  ..., -0.0080,  0.0073, -0.0033],\n",
       "          [-0.0174, -0.0527, -0.0002,  ..., -0.0114,  0.0298,  0.0111],\n",
       "          ...,\n",
       "          [-0.0131, -0.0664,  0.0048,  ..., -0.0129,  0.0343,  0.0132],\n",
       "          [-0.0148, -0.0600,  0.0020,  ..., -0.0126,  0.0312,  0.0103],\n",
       "          [-0.0131, -0.0664,  0.0048,  ..., -0.0129,  0.0343,  0.0132]]],\n",
       "        grad_fn=<StackBackward0>),\n",
       " tensor([[[-0.0362, -0.1026, -0.0009,  ..., -0.0238,  0.0565,  0.0213],\n",
       "          [-0.0793,  0.0150, -0.0414,  ..., -0.0168,  0.0138, -0.0067],\n",
       "          [-0.0359, -0.1037, -0.0005,  ..., -0.0237,  0.0572,  0.0221],\n",
       "          ...,\n",
       "          [-0.0271, -0.1308,  0.0098,  ..., -0.0268,  0.0659,  0.0263],\n",
       "          [-0.0306, -0.1180,  0.0039,  ..., -0.0262,  0.0599,  0.0204],\n",
       "          [-0.0271, -0.1308,  0.0098,  ..., -0.0268,  0.0659,  0.0263]]],\n",
       "        grad_fn=<StackBackward0>))"
      ]
     },
     "execution_count": 38,
     "metadata": {},
     "output_type": "execute_result"
    }
   ],
   "source": [
    "hidden"
   ]
  },
  {
   "cell_type": "code",
   "execution_count": 39,
   "id": "20c99a4d",
   "metadata": {},
   "outputs": [
    {
     "data": {
      "text/plain": [
       "torch.Size([128, 1])"
      ]
     },
     "execution_count": 39,
     "metadata": {},
     "output_type": "execute_result"
    }
   ],
   "source": [
    "X_valid[:,-1,:].shape"
   ]
  },
  {
   "cell_type": "code",
   "execution_count": 40,
   "id": "50d697fe",
   "metadata": {},
   "outputs": [
    {
     "data": {
      "text/plain": [
       "(tensor([[[-0.0556]],\n",
       " \n",
       "         [[-0.0641]],\n",
       " \n",
       "         [[-0.0555]],\n",
       " \n",
       "         [[-0.0597]],\n",
       " \n",
       "         [[-0.0631]],\n",
       " \n",
       "         [[-0.0536]],\n",
       " \n",
       "         [[-0.0581]],\n",
       " \n",
       "         [[-0.0564]],\n",
       " \n",
       "         [[-0.0675]],\n",
       " \n",
       "         [[-0.0668]],\n",
       " \n",
       "         [[-0.0538]],\n",
       " \n",
       "         [[-0.0557]],\n",
       " \n",
       "         [[-0.0568]],\n",
       " \n",
       "         [[-0.0569]],\n",
       " \n",
       "         [[-0.0566]],\n",
       " \n",
       "         [[-0.0536]],\n",
       " \n",
       "         [[-0.0620]],\n",
       " \n",
       "         [[-0.0564]],\n",
       " \n",
       "         [[-0.0564]],\n",
       " \n",
       "         [[-0.0536]],\n",
       " \n",
       "         [[-0.0591]],\n",
       " \n",
       "         [[-0.0536]],\n",
       " \n",
       "         [[-0.0556]],\n",
       " \n",
       "         [[-0.0560]],\n",
       " \n",
       "         [[-0.0536]],\n",
       " \n",
       "         [[-0.0596]],\n",
       " \n",
       "         [[-0.0582]],\n",
       " \n",
       "         [[-0.0569]],\n",
       " \n",
       "         [[-0.0568]],\n",
       " \n",
       "         [[-0.0596]],\n",
       " \n",
       "         [[-0.0629]],\n",
       " \n",
       "         [[-0.0536]],\n",
       " \n",
       "         [[-0.0536]],\n",
       " \n",
       "         [[-0.0536]],\n",
       " \n",
       "         [[-0.0594]],\n",
       " \n",
       "         [[-0.0669]],\n",
       " \n",
       "         [[-0.0569]],\n",
       " \n",
       "         [[-0.0541]],\n",
       " \n",
       "         [[-0.0560]],\n",
       " \n",
       "         [[-0.0541]],\n",
       " \n",
       "         [[-0.0536]],\n",
       " \n",
       "         [[-0.0536]],\n",
       " \n",
       "         [[-0.0605]],\n",
       " \n",
       "         [[-0.0604]],\n",
       " \n",
       "         [[-0.0536]],\n",
       " \n",
       "         [[-0.0553]],\n",
       " \n",
       "         [[-0.0574]],\n",
       " \n",
       "         [[-0.0536]],\n",
       " \n",
       "         [[-0.0575]],\n",
       " \n",
       "         [[-0.0572]],\n",
       " \n",
       "         [[-0.0588]],\n",
       " \n",
       "         [[-0.0540]],\n",
       " \n",
       "         [[-0.0568]],\n",
       " \n",
       "         [[-0.0556]],\n",
       " \n",
       "         [[-0.0604]],\n",
       " \n",
       "         [[-0.0562]],\n",
       " \n",
       "         [[-0.0632]],\n",
       " \n",
       "         [[-0.0602]],\n",
       " \n",
       "         [[-0.0561]],\n",
       " \n",
       "         [[-0.0609]],\n",
       " \n",
       "         [[-0.0566]],\n",
       " \n",
       "         [[-0.0570]],\n",
       " \n",
       "         [[-0.0536]],\n",
       " \n",
       "         [[-0.0541]],\n",
       " \n",
       "         [[-0.0542]],\n",
       " \n",
       "         [[-0.0551]],\n",
       " \n",
       "         [[-0.0661]],\n",
       " \n",
       "         [[-0.0614]],\n",
       " \n",
       "         [[-0.0536]],\n",
       " \n",
       "         [[-0.0650]],\n",
       " \n",
       "         [[-0.0569]],\n",
       " \n",
       "         [[-0.0536]],\n",
       " \n",
       "         [[-0.0594]],\n",
       " \n",
       "         [[-0.0588]],\n",
       " \n",
       "         [[-0.0583]],\n",
       " \n",
       "         [[-0.0605]],\n",
       " \n",
       "         [[-0.0628]],\n",
       " \n",
       "         [[-0.0577]],\n",
       " \n",
       "         [[-0.0536]],\n",
       " \n",
       "         [[-0.0641]],\n",
       " \n",
       "         [[-0.0606]],\n",
       " \n",
       "         [[-0.0570]],\n",
       " \n",
       "         [[-0.0559]],\n",
       " \n",
       "         [[-0.0570]],\n",
       " \n",
       "         [[-0.0580]],\n",
       " \n",
       "         [[-0.0552]],\n",
       " \n",
       "         [[-0.0536]],\n",
       " \n",
       "         [[-0.0539]],\n",
       " \n",
       "         [[-0.0633]],\n",
       " \n",
       "         [[-0.0536]],\n",
       " \n",
       "         [[-0.0564]],\n",
       " \n",
       "         [[-0.0647]],\n",
       " \n",
       "         [[-0.0538]],\n",
       " \n",
       "         [[-0.0540]],\n",
       " \n",
       "         [[-0.0594]],\n",
       " \n",
       "         [[-0.0561]],\n",
       " \n",
       "         [[-0.0614]],\n",
       " \n",
       "         [[-0.0577]],\n",
       " \n",
       "         [[-0.0536]],\n",
       " \n",
       "         [[-0.0642]],\n",
       " \n",
       "         [[-0.0560]],\n",
       " \n",
       "         [[-0.0559]],\n",
       " \n",
       "         [[-0.0692]],\n",
       " \n",
       "         [[-0.0536]],\n",
       " \n",
       "         [[-0.0556]],\n",
       " \n",
       "         [[-0.0536]],\n",
       " \n",
       "         [[-0.0604]],\n",
       " \n",
       "         [[-0.0544]],\n",
       " \n",
       "         [[-0.0536]],\n",
       " \n",
       "         [[-0.0619]],\n",
       " \n",
       "         [[-0.0595]],\n",
       " \n",
       "         [[-0.0567]],\n",
       " \n",
       "         [[-0.0545]],\n",
       " \n",
       "         [[-0.0536]],\n",
       " \n",
       "         [[-0.0643]],\n",
       " \n",
       "         [[-0.0536]],\n",
       " \n",
       "         [[-0.0536]],\n",
       " \n",
       "         [[-0.0536]],\n",
       " \n",
       "         [[-0.0618]],\n",
       " \n",
       "         [[-0.0538]],\n",
       " \n",
       "         [[-0.0536]],\n",
       " \n",
       "         [[-0.0536]],\n",
       " \n",
       "         [[-0.0536]],\n",
       " \n",
       "         [[-0.0660]],\n",
       " \n",
       "         [[-0.0559]],\n",
       " \n",
       "         [[-0.0536]],\n",
       " \n",
       "         [[-0.0542]],\n",
       " \n",
       "         [[-0.0536]]], grad_fn=<AddBackward0>),\n",
       " (tensor([[[-1.4286e-02, -1.9787e-02,  1.8970e-02,  ...,  3.8534e-03,\n",
       "            -1.3412e-03, -1.2701e-04],\n",
       "           [-3.9736e-02,  3.0479e-02,  3.5892e-03,  ..., -1.0780e-02,\n",
       "             6.3099e-03,  1.0511e-02],\n",
       "           [-1.4088e-02, -2.0167e-02,  1.9129e-02,  ...,  3.9390e-03,\n",
       "            -1.2701e-03, -1.2108e-05],\n",
       "           ...,\n",
       "           [-8.3138e-03, -3.1408e-02,  2.2756e-02,  ...,  6.7926e-03,\n",
       "            -3.4505e-03, -2.7199e-03],\n",
       "           [-9.8888e-03, -2.7875e-02,  2.0575e-02,  ...,  6.8432e-03,\n",
       "            -4.6598e-03, -3.9838e-03],\n",
       "           [-8.3137e-03, -3.1409e-02,  2.2757e-02,  ...,  6.7925e-03,\n",
       "            -3.4507e-03, -2.7199e-03]]], grad_fn=<StackBackward0>),\n",
       "  tensor([[[-2.9407e-02, -3.8802e-02,  3.7998e-02,  ...,  7.8866e-03,\n",
       "            -2.6547e-03, -2.5809e-04],\n",
       "           [-8.4134e-02,  5.9592e-02,  7.1876e-03,  ..., -2.1060e-02,\n",
       "             1.1994e-02,  2.0569e-02],\n",
       "           [-2.8997e-02, -3.9547e-02,  3.8315e-02,  ...,  8.0641e-03,\n",
       "            -2.5144e-03, -2.4607e-05],\n",
       "           ...,\n",
       "           [-1.7021e-02, -6.1725e-02,  4.5615e-02,  ...,  1.4041e-02,\n",
       "            -6.8912e-03, -5.5714e-03],\n",
       "           [-2.0259e-02, -5.4774e-02,  4.1278e-02,  ...,  1.4130e-02,\n",
       "            -9.3036e-03, -8.1530e-03],\n",
       "           [-1.7020e-02, -6.1725e-02,  4.5616e-02,  ...,  1.4041e-02,\n",
       "            -6.8916e-03, -5.5713e-03]]], grad_fn=<StackBackward0>)))"
      ]
     },
     "execution_count": 40,
     "metadata": {},
     "output_type": "execute_result"
    }
   ],
   "source": [
    "lsde = lstm_decoder(input_size=1, hidden_size=256)\n",
    "lsde(X_valid[:,-1,:] , hidden)"
   ]
  },
  {
   "cell_type": "code",
   "execution_count": 41,
   "id": "40ccf84b",
   "metadata": {},
   "outputs": [],
   "source": [
    "class lstm_encoder_decoder(nn.Module):\n",
    "    def __init__(self, input_size, hidden_size):\n",
    "        super(lstm_encoder_decoder, self).__init__()\n",
    "\n",
    "        self.input_size = input_size\n",
    "        self.hidden_size = hidden_size\n",
    "\n",
    "        self.encoder = lstm_encoder(input_size = input_size, hidden_size = hidden_size)\n",
    "        self.decoder = lstm_decoder(input_size = input_size, hidden_size = hidden_size)\n",
    "\n",
    "    def forward(self, inputs, targets, target_len, teacher_forcing_ratio):\n",
    "        batch_size = inputs.shape[0]\n",
    "        input_size = inputs.shape[2]\n",
    "\n",
    "        outputs = torch.zeros(batch_size, target_len, input_size).to(DEVICE)\n",
    "\n",
    "        _, hidden = self.encoder(inputs)\n",
    "        decoder_input = inputs[:,-1, :]\n",
    "        \n",
    "        for t in range(target_len): \n",
    "            out, hidden = self.decoder(decoder_input, hidden)\n",
    "            out =  out.squeeze(1)\n",
    "            if random.random() < teacher_forcing_ratio:\n",
    "                decoder_input = targets[:, t, :]\n",
    "            else:\n",
    "                decoder_input = out\n",
    "            outputs[:,t,:] = out\n",
    "        \n",
    "        return outputs.squeeze()\n",
    "\n",
    "    def predict(self, inputs, target_len):\n",
    "        inputs = inputs\n",
    "        self.eval()\n",
    "        batch_size = inputs.shape[0]\n",
    "        input_size = inputs.shape[2]\n",
    "        outputs = torch.zeros(batch_size, target_len, input_size).to(DEVICE)\n",
    "        _, hidden = self.encoder(inputs)\n",
    "        decoder_input = inputs[:,-1, :]\n",
    "        for t in range(target_len): \n",
    "            out, hidden = self.decoder(decoder_input, hidden)\n",
    "            out =  out.squeeze(1)\n",
    "            decoder_input = out\n",
    "            outputs[:,t,:] = out\n",
    "        return outputs[:,:,0]"
   ]
  },
  {
   "cell_type": "code",
   "execution_count": 42,
   "id": "d2bc30f0",
   "metadata": {},
   "outputs": [
    {
     "data": {
      "text/plain": [
       "torch.Size([128, 720, 1])"
      ]
     },
     "execution_count": 42,
     "metadata": {},
     "output_type": "execute_result"
    }
   ],
   "source": [
    "X_valid.size()"
   ]
  },
  {
   "cell_type": "code",
   "execution_count": 43,
   "id": "f77911fc",
   "metadata": {},
   "outputs": [
    {
     "data": {
      "text/plain": [
       "torch.Size([128, 288, 1])"
      ]
     },
     "execution_count": 43,
     "metadata": {},
     "output_type": "execute_result"
    }
   ],
   "source": [
    "Y_valid.unsqueeze(-1).size()"
   ]
  },
  {
   "cell_type": "code",
   "execution_count": 44,
   "id": "90abfb0b",
   "metadata": {},
   "outputs": [
    {
     "data": {
      "text/plain": [
       "torch.Size([128, 288])"
      ]
     },
     "execution_count": 44,
     "metadata": {},
     "output_type": "execute_result"
    }
   ],
   "source": [
    "lsed=lstm_encoder_decoder(1,256)\n",
    "lsed(inputs=X_valid,targets=Y_valid.unsqueeze(-1), target_len=288, teacher_forcing_ratio=0.6).size()\n",
    "\n",
    "## 11 ->1 이 되도록 수정이 필요하다."
   ]
  },
  {
   "cell_type": "code",
   "execution_count": 45,
   "id": "5e20c8c2",
   "metadata": {},
   "outputs": [],
   "source": [
    "class BaseModel(nn.Module):\n",
    "    def __init__(self):\n",
    "        super(BaseModel, self).__init__()\n",
    "        self.lstm = nn.LSTM(input_size=11, hidden_size=256, batch_first=True, bidirectional=True)\n",
    "        self.classifier = nn.Sequential(\n",
    "            nn.Linear(512,512),# 사이즈는 hidden size에 따라 결정.\n",
    "            nn.ReLU(),\n",
    "            nn.Linear(512,288), #결과 288개 예측.\n",
    "            nn.ReLU(),  \n",
    "        )\n",
    "        \n",
    "    def forward(self, x):\n",
    "        output, _ = self.lstm(x)\n",
    "        output = self.classifier(output[:,-1,:]) # -1은 hidden state의 마지막 time step값을 가져온 것.\n",
    "        return output"
   ]
  },
  {
   "cell_type": "code",
   "execution_count": 46,
   "id": "8304e647",
   "metadata": {},
   "outputs": [],
   "source": [
    "#8. 학습\n",
    "def train(model,train_loader,optimizer, log_interval):\n",
    "    model.train()\n",
    "    train_loss = 0\n",
    "    train_mae_loss = 0\n",
    "    for batch_idx,(X, Y) in enumerate(train_loader):\n",
    "        X = X.to(DEVICE)\n",
    "        Y = Y.to(DEVICE)\n",
    "\n",
    "        optimizer.zero_grad()#데이터들 장비에 할당\n",
    "        output = model(inputs=X, targets=Y.unsqueeze(-1),target_len=288, teacher_forcing_ratio=0.6) # model로 output을 계산\n",
    "        loss = criterion(output, Y)        \n",
    "        train_loss += loss.item()\n",
    "        \n",
    "        with torch.no_grad():\n",
    "            mae = metric(output, Y)\n",
    "            train_mae_loss+=mae.item()\n",
    "        loss.backward()\n",
    "        optimizer.step()\n",
    "    \n",
    "    #train_loss/=len(train_loader.dataset)\n",
    "    #train_mae_loss/=len(train_loader.dataset)\n",
    "    \n",
    "    return train_loss,train_mae_loss\n",
    "\n"
   ]
  },
  {
   "cell_type": "code",
   "execution_count": 47,
   "id": "cad0878a",
   "metadata": {},
   "outputs": [],
   "source": [
    "#8. 학습\n",
    "def evaluate(model,valid_loader):\n",
    "    model.eval()\n",
    "    valid_loss = 0\n",
    "    valid_mae = 0\n",
    "    #no_grad : 그래디언트 값 계산 막기.\n",
    "    with torch.no_grad():\n",
    "        for X, Y in valid_loader:\n",
    "            X = X.to(DEVICE)\n",
    "            Y = Y.to(DEVICE)\n",
    "            output = model(inputs=X,targets=Y.unsqueeze(-1),target_len=288, teacher_forcing_ratio=0.6) # model로 output을 계산\n",
    "            loss = criterion(output, Y)\n",
    "            valid_loss += loss.item()\n",
    "            mae = metric(output, Y)\n",
    "            valid_mae+=mae.item()\n",
    "    #valid_loss/=len(valid_loader.dataset)\n",
    "    #valid_mae/=len(valid_loader.dataset)\n",
    "    return valid_loss, valid_mae\n"
   ]
  },
  {
   "cell_type": "code",
   "execution_count": 48,
   "id": "ce9f1630",
   "metadata": {
    "scrolled": false
   },
   "outputs": [
    {
     "name": "stdout",
     "output_type": "stream",
     "text": [
      "./checkpoint/checkpoint_seq2seq_onecol.pt\n",
      "\n",
      "[EPOCH:1]\t Train Loss:45.4339\t Train MAE:59.0877  | \tValid Loss:2.7776 \tValid MAE: 4.4524\n",
      "\n",
      "-- SAVE Checkpoint --\n",
      "Valid loss : 9999999999.0000 -> 2.7776 \n",
      "\n",
      "\n",
      "[EPOCH:2]\t Train Loss:23.5181\t Train MAE:39.1585  | \tValid Loss:2.4778 \tValid MAE: 4.1747\n",
      "\n",
      "-- SAVE Checkpoint --\n",
      "Valid loss : 2.7776 -> 2.4778 \n",
      "\n",
      "\n",
      "[EPOCH:3]\t Train Loss:22.2242\t Train MAE:37.1779  | \tValid Loss:2.5350 \tValid MAE: 4.2931\n",
      "\n",
      "\n",
      "[EPOCH:4]\t Train Loss:22.2474\t Train MAE:37.0498  | \tValid Loss:2.4954 \tValid MAE: 4.2666\n",
      "\n",
      "\n",
      "[EPOCH:5]\t Train Loss:22.0674\t Train MAE:36.9572  | \tValid Loss:2.5114 \tValid MAE: 4.0109\n",
      "\n",
      "\n",
      "[EPOCH:6]\t Train Loss:21.9815\t Train MAE:36.7540  | \tValid Loss:2.5041 \tValid MAE: 4.3404\n",
      "\n",
      "\n",
      "[EPOCH:7]\t Train Loss:21.9926\t Train MAE:36.7955  | \tValid Loss:2.4773 \tValid MAE: 3.9528\n",
      "\n",
      "-- SAVE Checkpoint --\n",
      "Valid loss : 2.4778 -> 2.4773 \n",
      "\n",
      "\n",
      "[EPOCH:8]\t Train Loss:21.9391\t Train MAE:36.7504  | \tValid Loss:2.4482 \tValid MAE: 4.1364\n",
      "\n",
      "-- SAVE Checkpoint --\n",
      "Valid loss : 2.4773 -> 2.4482 \n",
      "\n",
      "\n",
      "[EPOCH:9]\t Train Loss:21.8938\t Train MAE:36.7234  | \tValid Loss:2.4966 \tValid MAE: 4.2718\n",
      "\n",
      "\n",
      "[EPOCH:10]\t Train Loss:21.7512\t Train MAE:36.6170  | \tValid Loss:2.4386 \tValid MAE: 4.0555\n",
      "\n",
      "-- SAVE Checkpoint --\n",
      "Valid loss : 2.4482 -> 2.4386 \n",
      "\n",
      "\n",
      "[EPOCH:11]\t Train Loss:21.8726\t Train MAE:36.6975  | \tValid Loss:2.4098 \tValid MAE: 4.0934\n",
      "\n",
      "-- SAVE Checkpoint --\n",
      "Valid loss : 2.4386 -> 2.4098 \n",
      "\n",
      "\n",
      "[EPOCH:12]\t Train Loss:21.7252\t Train MAE:36.6126  | \tValid Loss:2.4344 \tValid MAE: 4.1524\n",
      "\n",
      "\n",
      "[EPOCH:13]\t Train Loss:21.7294\t Train MAE:36.6145  | \tValid Loss:2.4232 \tValid MAE: 3.9352\n",
      "\n",
      "\n",
      "[EPOCH:14]\t Train Loss:21.6264\t Train MAE:36.5179  | \tValid Loss:2.3896 \tValid MAE: 4.0459\n",
      "\n",
      "-- SAVE Checkpoint --\n",
      "Valid loss : 2.4098 -> 2.3896 \n",
      "\n",
      "\n",
      "[EPOCH:15]\t Train Loss:21.5080\t Train MAE:36.3963  | \tValid Loss:2.4377 \tValid MAE: 4.1004\n",
      "\n"
     ]
    }
   ],
   "source": [
    "#학습 진행 코드\n",
    "\n",
    "\n",
    "check_path = './checkpoint/checkpoint_seq2seq_onecol.pt'\n",
    "print(check_path)\n",
    "model = lstm_encoder_decoder(1,lstm_hidden_layer).to(DEVICE)\n",
    "criterion = nn.MSELoss().to(DEVICE)\n",
    "metric = nn.L1Loss().to(DEVICE)\n",
    "\n",
    "optimizer = torch.optim.Adam(model.parameters(),lr=lr)\n",
    "\n",
    "best_valid_mae = 999999\n",
    "best_valid_loss = 9999999999\n",
    "\n",
    "\n",
    "\n",
    "for Epoch in range(1,EPOCHS+1):\n",
    "    train_loss,train_mae = train(model,train_loader,optimizer,log_interval=31)\n",
    "    valid_loss,valid_mae = evaluate(model, valid_loader)\n",
    "    \n",
    "    \n",
    "    print(\"\\n[EPOCH:{}]\\t Train Loss:{:.4f}\\t Train MAE:{:.4f}  | \\tValid Loss:{:.4f} \\tValid MAE: {:.4f}\\n\".\n",
    "                  format(Epoch, train_loss, train_mae,\n",
    "                         valid_loss, valid_mae ))\n",
    "    if best_valid_loss > valid_loss:\n",
    "        print(\"-- SAVE Checkpoint --\")\n",
    "        print(\"Valid loss : {:.4f} -> {:.4f} \\n\".format(best_valid_loss,valid_loss ))\n",
    "        torch.save(model.state_dict(), check_path, _use_new_zipfile_serialization=False)\n",
    "        best_valid_mae = valid_mae\n",
    "        best_valid_loss =valid_loss\n",
    "        \n",
    "    \n",
    "    "
   ]
  },
  {
   "cell_type": "markdown",
   "id": "b01e39bf",
   "metadata": {},
   "source": [
    "# validation 확인"
   ]
  },
  {
   "cell_type": "code",
   "execution_count": 49,
   "id": "2f8da1a8",
   "metadata": {},
   "outputs": [
    {
     "name": "stdout",
     "output_type": "stream",
     "text": [
      "Valid loss : 2.3896 / Valid MAE : 4.0459 \n",
      "\n"
     ]
    }
   ],
   "source": [
    "print(\"Valid loss : {:.4f} / Valid MAE : {:.4f} \\n\".format(best_valid_loss,best_valid_mae))"
   ]
  },
  {
   "cell_type": "code",
   "execution_count": 50,
   "id": "94abeb7b",
   "metadata": {},
   "outputs": [
    {
     "name": "stdout",
     "output_type": "stream",
     "text": [
      "Valid loss : 2.3896 / Valid MAE : 4.0459 \n",
      "\n"
     ]
    }
   ],
   "source": [
    "print(\"Valid loss : {:.4f} / Valid MAE : {:.4f} \\n\".format(best_valid_loss,best_valid_mae))"
   ]
  },
  {
   "cell_type": "markdown",
   "id": "a0a2834d",
   "metadata": {},
   "source": [
    "# TEST"
   ]
  },
  {
   "cell_type": "code",
   "execution_count": 56,
   "id": "42905079",
   "metadata": {},
   "outputs": [],
   "source": [
    "\n",
    "# 이전 5일치 가져오기.\n",
    "test_data_list = [x for x in range(196, 201)]\n",
    "\n",
    "test_data = train_data[train_data[\"Day\"].isin(test_data_list)]\n",
    "\n",
    "#test_data = test_data.drop([\"TurbID\", \"Day\"], axis = 1)\n",
    "test_data = test_data['Patv']\n",
    "\n",
    "test_data = np.array(test_data).reshape(-1, train_x[0].shape[0],1)\n",
    "#train set 처럼 batch,720,11로 고치기\n"
   ]
  },
  {
   "cell_type": "code",
   "execution_count": 57,
   "id": "d4fb8be6",
   "metadata": {},
   "outputs": [
    {
     "data": {
      "text/plain": [
       "(134, 720, 1)"
      ]
     },
     "execution_count": 57,
     "metadata": {},
     "output_type": "execute_result"
    }
   ],
   "source": [
    "test_data.shape"
   ]
  },
  {
   "cell_type": "code",
   "execution_count": 58,
   "id": "d0ed76bb",
   "metadata": {},
   "outputs": [],
   "source": [
    "test_dataset = TimeDataset(test_data, None)\n",
    "\n",
    "test_loader = DataLoader(test_dataset, \n",
    "                          batch_size = BATCH_SIZE,\n",
    "                          shuffle=False)\n",
    "\n",
    "\n"
   ]
  },
  {
   "cell_type": "code",
   "execution_count": 59,
   "id": "63255878",
   "metadata": {},
   "outputs": [],
   "source": [
    "def predict(model, test_loader):\n",
    "    model.eval()\n",
    "    preds = []\n",
    "    with torch.no_grad():\n",
    "        for X in tqdm(iter(test_loader)):\n",
    "            X = X.to(DEVICE)\n",
    "            #print(X.size())\n",
    "            pred = model.predict(X, target_len=288)\n",
    "            preds += pred.cpu().tolist()\n",
    "    return np.array(preds)"
   ]
  },
  {
   "cell_type": "code",
   "execution_count": 61,
   "id": "466a8e3c",
   "metadata": {},
   "outputs": [
    {
     "data": {
      "text/plain": [
       "lstm_encoder_decoder(\n",
       "  (encoder): lstm_encoder(\n",
       "    (lstm): LSTM(1, 128, batch_first=True)\n",
       "  )\n",
       "  (decoder): lstm_decoder(\n",
       "    (lstm): LSTM(1, 128, batch_first=True)\n",
       "    (linear): Linear(in_features=128, out_features=1, bias=True)\n",
       "  )\n",
       ")"
      ]
     },
     "execution_count": 61,
     "metadata": {},
     "output_type": "execute_result"
    }
   ],
   "source": [
    "model = lstm_encoder_decoder(1,lstm_hidden_layer).to(DEVICE)\n",
    "best_checkpoint = torch.load('./checkpoint/checkpoint_seq2seq_onecol.pt')\n",
    "model.load_state_dict(best_checkpoint)\n",
    "model.eval()"
   ]
  },
  {
   "cell_type": "code",
   "execution_count": 65,
   "id": "cb758521",
   "metadata": {},
   "outputs": [
    {
     "name": "stderr",
     "output_type": "stream",
     "text": [
      "100%|████████████████████████████████████████████████████████████████████████████████████| 2/2 [00:00<00:00, 20.62it/s]\n"
     ]
    }
   ],
   "source": [
    "preds = predict(model, test_loader)\n",
    "preds = preds.reshape(-1)*global_std+global_mean"
   ]
  },
  {
   "cell_type": "code",
   "execution_count": 66,
   "id": "82bec2a4",
   "metadata": {},
   "outputs": [
    {
     "data": {
      "text/plain": [
       "(38592,)"
      ]
     },
     "execution_count": 66,
     "metadata": {},
     "output_type": "execute_result"
    }
   ],
   "source": [
    "preds.shape"
   ]
  },
  {
   "cell_type": "code",
   "execution_count": 68,
   "id": "35919698",
   "metadata": {},
   "outputs": [],
   "source": [
    "sample_submission[\"Patv\"] = preds\n",
    "sample_submission.to_csv(\"./submit.csv\", index = False)"
   ]
  },
  {
   "cell_type": "code",
   "execution_count": null,
   "id": "38fd8f4b",
   "metadata": {},
   "outputs": [],
   "source": []
  }
 ],
 "metadata": {
  "kernelspec": {
   "display_name": "Python 3 (ipykernel)",
   "language": "python",
   "name": "python3"
  },
  "language_info": {
   "codemirror_mode": {
    "name": "ipython",
    "version": 3
   },
   "file_extension": ".py",
   "mimetype": "text/x-python",
   "name": "python",
   "nbconvert_exporter": "python",
   "pygments_lexer": "ipython3",
   "version": "3.8.12"
  },
  "toc": {
   "base_numbering": 1,
   "nav_menu": {},
   "number_sections": true,
   "sideBar": true,
   "skip_h1_title": false,
   "title_cell": "Table of Contents",
   "title_sidebar": "Contents",
   "toc_cell": false,
   "toc_position": {},
   "toc_section_display": true,
   "toc_window_display": true
  }
 },
 "nbformat": 4,
 "nbformat_minor": 5
}
