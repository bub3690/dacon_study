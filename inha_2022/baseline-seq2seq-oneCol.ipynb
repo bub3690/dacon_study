{
 "cells": [
  {
   "cell_type": "code",
   "execution_count": 83,
   "id": "aae1bd5f",
   "metadata": {},
   "outputs": [
    {
     "name": "stdout",
     "output_type": "stream",
     "text": [
      "Using Pytorch version :  1.10.2  Device :  cuda\n"
     ]
    }
   ],
   "source": [
    "import torch\n",
    "import matplotlib.pyplot as plt\n",
    "import numpy as np\n",
    "import torch\n",
    "import torch.nn as nn # 인공 신경망 모델들 모아놓은 모듈\n",
    "import torch.nn.functional as F #그중 자주 쓰이는것들을 F로\n",
    "from torch.utils.data import Dataset, DataLoader\n",
    "import pandas as pd\n",
    "import os\n",
    "from glob import glob\n",
    "import sys\n",
    "from sklearn.model_selection import train_test_split # train , test 분리에 사용.\n",
    "\n",
    "from tqdm import trange\n",
    "import random\n",
    "\n",
    "\n",
    "if torch.cuda.is_available():\n",
    "    DEVICE = torch.device('cuda')\n",
    "else:\n",
    "    DEVICE = torch.device('cpu')\n",
    "#DEVICE = torch.device('cpu')\n",
    "print('Using Pytorch version : ',torch.__version__,' Device : ',DEVICE)"
   ]
  },
  {
   "cell_type": "code",
   "execution_count": 84,
   "id": "07f7f7a1",
   "metadata": {},
   "outputs": [],
   "source": [
    "from tqdm import tqdm"
   ]
  },
  {
   "cell_type": "markdown",
   "id": "79af139e",
   "metadata": {},
   "source": [
    "# 데이터 전처리\n",
    "\n",
    "```\n",
    "\n",
    "TurbID - 발전기 ID\n",
    "\n",
    "Day - 날짜\n",
    "\n",
    "Tmstamp - 시간\n",
    "\n",
    "Wspd - 풍속\n",
    "\n",
    "Wdir - 터빈이 바라보는 각도와 실제 바람 방향 각도 차이\n",
    "\n",
    "Etmp - 외부 온도\n",
    "\n",
    "Itmp - 터빈 내부 온도\n",
    "\n",
    "Ndir - 터빈이 바라보는 방향 각도\n",
    "\n",
    "Pab - 터빈 당 3개의 날이 있으며 각각의 각도가 다름\n",
    "\n",
    "Prtv - 무효전력 : 에너지원을 필요로 하지 않는 전력\n",
    "\n",
    "Patv - 유효전력 : 실제로 터빈을 돌리는 일을 하는 전력\n",
    "\n",
    "````\n",
    "\n",
    "\n",
    "베이스 라인 제공 전처리 방법"
   ]
  },
  {
   "cell_type": "code",
   "execution_count": 131,
   "id": "5c000a23",
   "metadata": {},
   "outputs": [],
   "source": [
    "train_data = pd.read_csv(\"data/train_data.csv\")\n",
    "sample_submission = pd.read_csv(\"data/sample_submission.csv\")"
   ]
  },
  {
   "cell_type": "code",
   "execution_count": 132,
   "id": "0839be7b",
   "metadata": {},
   "outputs": [
    {
     "data": {
      "text/plain": [
       "TurbID         0\n",
       "Day            0\n",
       "Tmstamp        0\n",
       "Wspd       45587\n",
       "Wdir       45587\n",
       "Etmp       45587\n",
       "Itmp       45587\n",
       "Ndir       45587\n",
       "Pab1       45587\n",
       "Pab2       45587\n",
       "Pab3       45587\n",
       "Prtv       45587\n",
       "Patv       45587\n",
       "dtype: int64"
      ]
     },
     "execution_count": 132,
     "metadata": {},
     "output_type": "execute_result"
    }
   ],
   "source": [
    "# train_data의 결측값 확인\n",
    "train_data.isnull().sum()"
   ]
  },
  {
   "cell_type": "code",
   "execution_count": 133,
   "id": "6a3dbb3a",
   "metadata": {},
   "outputs": [
    {
     "name": "stdout",
     "output_type": "stream",
     "text": [
      "TurbID     0\n",
      "Day        0\n",
      "Tmstamp    0\n",
      "Wspd       0\n",
      "Wdir       0\n",
      "Etmp       0\n",
      "Itmp       0\n",
      "Ndir       0\n",
      "Pab1       0\n",
      "Pab2       0\n",
      "Pab3       0\n",
      "Prtv       0\n",
      "Patv       0\n",
      "dtype: int64\n"
     ]
    }
   ],
   "source": [
    "# method : 결측값을 변경할 방식입니다. bfill로 할경우 결측값을 바로 아래 값과 동일하게 변경합니다.\n",
    "# 결측값 처리\n",
    "train_data = train_data.fillna(method = 'ffill').fillna(method = 'bfill')\n",
    "\n",
    "print(train_data.isnull().sum())"
   ]
  },
  {
   "cell_type": "code",
   "execution_count": 134,
   "id": "a59356c0",
   "metadata": {},
   "outputs": [
    {
     "data": {
      "text/html": [
       "<div>\n",
       "<style scoped>\n",
       "    .dataframe tbody tr th:only-of-type {\n",
       "        vertical-align: middle;\n",
       "    }\n",
       "\n",
       "    .dataframe tbody tr th {\n",
       "        vertical-align: top;\n",
       "    }\n",
       "\n",
       "    .dataframe thead th {\n",
       "        text-align: right;\n",
       "    }\n",
       "</style>\n",
       "<table border=\"1\" class=\"dataframe\">\n",
       "  <thead>\n",
       "    <tr style=\"text-align: right;\">\n",
       "      <th></th>\n",
       "      <th>TurbID</th>\n",
       "      <th>Day</th>\n",
       "      <th>Tmstamp</th>\n",
       "      <th>Wspd</th>\n",
       "      <th>Wdir</th>\n",
       "      <th>Etmp</th>\n",
       "      <th>Itmp</th>\n",
       "      <th>Ndir</th>\n",
       "      <th>Pab1</th>\n",
       "      <th>Pab2</th>\n",
       "      <th>Pab3</th>\n",
       "      <th>Prtv</th>\n",
       "      <th>Patv</th>\n",
       "    </tr>\n",
       "  </thead>\n",
       "  <tbody>\n",
       "    <tr>\n",
       "      <th>0</th>\n",
       "      <td>1</td>\n",
       "      <td>1</td>\n",
       "      <td>00:00</td>\n",
       "      <td>6.17</td>\n",
       "      <td>-3.99</td>\n",
       "      <td>30.73</td>\n",
       "      <td>41.80</td>\n",
       "      <td>25.92</td>\n",
       "      <td>1.00</td>\n",
       "      <td>1.00</td>\n",
       "      <td>1.00</td>\n",
       "      <td>-0.25</td>\n",
       "      <td>494.66</td>\n",
       "    </tr>\n",
       "    <tr>\n",
       "      <th>1</th>\n",
       "      <td>1</td>\n",
       "      <td>1</td>\n",
       "      <td>00:10</td>\n",
       "      <td>6.17</td>\n",
       "      <td>-3.99</td>\n",
       "      <td>30.73</td>\n",
       "      <td>41.80</td>\n",
       "      <td>25.92</td>\n",
       "      <td>1.00</td>\n",
       "      <td>1.00</td>\n",
       "      <td>1.00</td>\n",
       "      <td>-0.25</td>\n",
       "      <td>494.66</td>\n",
       "    </tr>\n",
       "    <tr>\n",
       "      <th>2</th>\n",
       "      <td>1</td>\n",
       "      <td>1</td>\n",
       "      <td>00:20</td>\n",
       "      <td>6.27</td>\n",
       "      <td>-2.18</td>\n",
       "      <td>30.60</td>\n",
       "      <td>41.63</td>\n",
       "      <td>20.91</td>\n",
       "      <td>1.00</td>\n",
       "      <td>1.00</td>\n",
       "      <td>1.00</td>\n",
       "      <td>-0.24</td>\n",
       "      <td>509.76</td>\n",
       "    </tr>\n",
       "    <tr>\n",
       "      <th>3</th>\n",
       "      <td>1</td>\n",
       "      <td>1</td>\n",
       "      <td>00:30</td>\n",
       "      <td>6.42</td>\n",
       "      <td>-0.73</td>\n",
       "      <td>30.52</td>\n",
       "      <td>41.52</td>\n",
       "      <td>20.91</td>\n",
       "      <td>1.00</td>\n",
       "      <td>1.00</td>\n",
       "      <td>1.00</td>\n",
       "      <td>-0.26</td>\n",
       "      <td>542.53</td>\n",
       "    </tr>\n",
       "    <tr>\n",
       "      <th>4</th>\n",
       "      <td>1</td>\n",
       "      <td>1</td>\n",
       "      <td>00:40</td>\n",
       "      <td>6.25</td>\n",
       "      <td>0.89</td>\n",
       "      <td>30.49</td>\n",
       "      <td>41.38</td>\n",
       "      <td>20.91</td>\n",
       "      <td>1.00</td>\n",
       "      <td>1.00</td>\n",
       "      <td>1.00</td>\n",
       "      <td>-0.23</td>\n",
       "      <td>509.36</td>\n",
       "    </tr>\n",
       "    <tr>\n",
       "      <th>...</th>\n",
       "      <td>...</td>\n",
       "      <td>...</td>\n",
       "      <td>...</td>\n",
       "      <td>...</td>\n",
       "      <td>...</td>\n",
       "      <td>...</td>\n",
       "      <td>...</td>\n",
       "      <td>...</td>\n",
       "      <td>...</td>\n",
       "      <td>...</td>\n",
       "      <td>...</td>\n",
       "      <td>...</td>\n",
       "      <td>...</td>\n",
       "    </tr>\n",
       "    <tr>\n",
       "      <th>139</th>\n",
       "      <td>1</td>\n",
       "      <td>1</td>\n",
       "      <td>23:10</td>\n",
       "      <td>9.95</td>\n",
       "      <td>0.49</td>\n",
       "      <td>28.71</td>\n",
       "      <td>42.53</td>\n",
       "      <td>-9.44</td>\n",
       "      <td>1.02</td>\n",
       "      <td>1.02</td>\n",
       "      <td>1.02</td>\n",
       "      <td>-0.29</td>\n",
       "      <td>1330.24</td>\n",
       "    </tr>\n",
       "    <tr>\n",
       "      <th>140</th>\n",
       "      <td>1</td>\n",
       "      <td>1</td>\n",
       "      <td>23:20</td>\n",
       "      <td>12.20</td>\n",
       "      <td>0.70</td>\n",
       "      <td>28.59</td>\n",
       "      <td>42.56</td>\n",
       "      <td>-8.17</td>\n",
       "      <td>1.08</td>\n",
       "      <td>1.08</td>\n",
       "      <td>1.08</td>\n",
       "      <td>-0.23</td>\n",
       "      <td>1550.74</td>\n",
       "    </tr>\n",
       "    <tr>\n",
       "      <th>141</th>\n",
       "      <td>1</td>\n",
       "      <td>1</td>\n",
       "      <td>23:30</td>\n",
       "      <td>12.66</td>\n",
       "      <td>1.09</td>\n",
       "      <td>28.54</td>\n",
       "      <td>42.23</td>\n",
       "      <td>-8.17</td>\n",
       "      <td>1.08</td>\n",
       "      <td>1.08</td>\n",
       "      <td>1.08</td>\n",
       "      <td>-0.21</td>\n",
       "      <td>1549.66</td>\n",
       "    </tr>\n",
       "    <tr>\n",
       "      <th>142</th>\n",
       "      <td>1</td>\n",
       "      <td>1</td>\n",
       "      <td>23:40</td>\n",
       "      <td>12.58</td>\n",
       "      <td>1.70</td>\n",
       "      <td>28.48</td>\n",
       "      <td>42.09</td>\n",
       "      <td>-8.17</td>\n",
       "      <td>1.08</td>\n",
       "      <td>1.08</td>\n",
       "      <td>1.08</td>\n",
       "      <td>-0.20</td>\n",
       "      <td>1549.64</td>\n",
       "    </tr>\n",
       "    <tr>\n",
       "      <th>143</th>\n",
       "      <td>1</td>\n",
       "      <td>1</td>\n",
       "      <td>23:50</td>\n",
       "      <td>9.95</td>\n",
       "      <td>-0.42</td>\n",
       "      <td>28.31</td>\n",
       "      <td>42.09</td>\n",
       "      <td>-8.17</td>\n",
       "      <td>1.01</td>\n",
       "      <td>1.01</td>\n",
       "      <td>1.01</td>\n",
       "      <td>-0.20</td>\n",
       "      <td>1361.95</td>\n",
       "    </tr>\n",
       "  </tbody>\n",
       "</table>\n",
       "<p>144 rows × 13 columns</p>\n",
       "</div>"
      ],
      "text/plain": [
       "     TurbID  Day Tmstamp   Wspd  Wdir   Etmp   Itmp   Ndir  Pab1  Pab2  Pab3  \\\n",
       "0         1    1   00:00   6.17 -3.99  30.73  41.80  25.92  1.00  1.00  1.00   \n",
       "1         1    1   00:10   6.17 -3.99  30.73  41.80  25.92  1.00  1.00  1.00   \n",
       "2         1    1   00:20   6.27 -2.18  30.60  41.63  20.91  1.00  1.00  1.00   \n",
       "3         1    1   00:30   6.42 -0.73  30.52  41.52  20.91  1.00  1.00  1.00   \n",
       "4         1    1   00:40   6.25  0.89  30.49  41.38  20.91  1.00  1.00  1.00   \n",
       "..      ...  ...     ...    ...   ...    ...    ...    ...   ...   ...   ...   \n",
       "139       1    1   23:10   9.95  0.49  28.71  42.53  -9.44  1.02  1.02  1.02   \n",
       "140       1    1   23:20  12.20  0.70  28.59  42.56  -8.17  1.08  1.08  1.08   \n",
       "141       1    1   23:30  12.66  1.09  28.54  42.23  -8.17  1.08  1.08  1.08   \n",
       "142       1    1   23:40  12.58  1.70  28.48  42.09  -8.17  1.08  1.08  1.08   \n",
       "143       1    1   23:50   9.95 -0.42  28.31  42.09  -8.17  1.01  1.01  1.01   \n",
       "\n",
       "     Prtv     Patv  \n",
       "0   -0.25   494.66  \n",
       "1   -0.25   494.66  \n",
       "2   -0.24   509.76  \n",
       "3   -0.26   542.53  \n",
       "4   -0.23   509.36  \n",
       "..    ...      ...  \n",
       "139 -0.29  1330.24  \n",
       "140 -0.23  1550.74  \n",
       "141 -0.21  1549.66  \n",
       "142 -0.20  1549.64  \n",
       "143 -0.20  1361.95  \n",
       "\n",
       "[144 rows x 13 columns]"
      ]
     },
     "execution_count": 134,
     "metadata": {},
     "output_type": "execute_result"
    }
   ],
   "source": [
    "train_data[(train_data[\"TurbID\"]==1)&(train_data[\"Day\"]==1)]"
   ]
  },
  {
   "cell_type": "code",
   "execution_count": 135,
   "id": "3c439ce7",
   "metadata": {},
   "outputs": [],
   "source": [
    "train_data=train_data[(train_data[\"TurbID\"]==21)]"
   ]
  },
  {
   "cell_type": "markdown",
   "id": "e1111f49",
   "metadata": {},
   "source": [
    "# 데이터셋"
   ]
  },
  {
   "cell_type": "code",
   "execution_count": 136,
   "id": "91f71a1b",
   "metadata": {},
   "outputs": [],
   "source": [
    "# 한 Turb당 194 line\n",
    "# label은 2일.로 나눠야함.\n",
    "\n",
    "def make_train_data(data):\n",
    "    train_x, train_y = [], []\n",
    "    for i in tqdm(sorted(pd.unique(data[\"TurbID\"]))):\n",
    "        tmp_data = data[data[\"TurbID\"] == i]\n",
    "        for j in range(1, 195): # 1~195 (1~194까지?)\n",
    "            \n",
    "            # train data ==> 5일 단위\n",
    "            # label data ==> 2일 단위\n",
    "            day_list = [x for x in range(j, j+ 5)]\n",
    "            label_day_list = [y for y in range(j+5, j + 6)]\n",
    "            \n",
    "            train_tmp = tmp_data[tmp_data[\"Day\"].isin(day_list)]\n",
    "            \n",
    "            label_tmp = tmp_data[tmp_data[\"Day\"].isin(label_day_list)]\n",
    "            label_tmp = label_tmp.drop([\"TurbID\", \"Day\",\"Patv\"], axis = 1)\n",
    "            \n",
    "            # feature 선택 및 제거\n",
    "            #train_tmp = train_tmp[\"Wspd\"]\n",
    "            train_tmp = train_tmp.drop([\"TurbID\", \"Day\",\"Patv\"], axis = 1)\n",
    "            \n",
    "            train_x.append(np.array(train_tmp))\n",
    "            train_y.append(np.array(label_tmp))\n",
    "            \n",
    "    return train_x, train_y\n",
    "\n"
   ]
  },
  {
   "cell_type": "code",
   "execution_count": 137,
   "id": "d75dcc63",
   "metadata": {},
   "outputs": [],
   "source": [
    "# time stamp label encoding\n",
    "tms_list = list(pd.unique(train_data[\"Tmstamp\"]))\n",
    "train_data[\"Tmstamp\"] = train_data[\"Tmstamp\"].apply(lambda x : tms_list.index(x) )\n",
    "train_data[\"Tmstamp\"] = train_data[\"Tmstamp\"]//6"
   ]
  },
  {
   "cell_type": "code",
   "execution_count": 92,
   "id": "d2d3d759",
   "metadata": {},
   "outputs": [
    {
     "data": {
      "text/html": [
       "<div>\n",
       "<style scoped>\n",
       "    .dataframe tbody tr th:only-of-type {\n",
       "        vertical-align: middle;\n",
       "    }\n",
       "\n",
       "    .dataframe tbody tr th {\n",
       "        vertical-align: top;\n",
       "    }\n",
       "\n",
       "    .dataframe thead th {\n",
       "        text-align: right;\n",
       "    }\n",
       "</style>\n",
       "<table border=\"1\" class=\"dataframe\">\n",
       "  <thead>\n",
       "    <tr style=\"text-align: right;\">\n",
       "      <th></th>\n",
       "      <th>TurbID</th>\n",
       "      <th>Day</th>\n",
       "      <th>Tmstamp</th>\n",
       "      <th>Wspd</th>\n",
       "      <th>Wdir</th>\n",
       "      <th>Etmp</th>\n",
       "      <th>Itmp</th>\n",
       "      <th>Ndir</th>\n",
       "      <th>Pab1</th>\n",
       "      <th>Pab2</th>\n",
       "      <th>Pab3</th>\n",
       "      <th>Prtv</th>\n",
       "      <th>Patv</th>\n",
       "    </tr>\n",
       "  </thead>\n",
       "  <tbody>\n",
       "    <tr>\n",
       "      <th>576000</th>\n",
       "      <td>21</td>\n",
       "      <td>1</td>\n",
       "      <td>0</td>\n",
       "      <td>3.07</td>\n",
       "      <td>-2.56</td>\n",
       "      <td>8.18</td>\n",
       "      <td>23.20</td>\n",
       "      <td>223.45</td>\n",
       "      <td>0.01</td>\n",
       "      <td>0.01</td>\n",
       "      <td>0.01</td>\n",
       "      <td>-77.64</td>\n",
       "      <td>157.50</td>\n",
       "    </tr>\n",
       "    <tr>\n",
       "      <th>576001</th>\n",
       "      <td>21</td>\n",
       "      <td>1</td>\n",
       "      <td>0</td>\n",
       "      <td>5.46</td>\n",
       "      <td>-10.18</td>\n",
       "      <td>31.62</td>\n",
       "      <td>42.59</td>\n",
       "      <td>170.92</td>\n",
       "      <td>0.35</td>\n",
       "      <td>0.35</td>\n",
       "      <td>0.35</td>\n",
       "      <td>-0.08</td>\n",
       "      <td>293.28</td>\n",
       "    </tr>\n",
       "    <tr>\n",
       "      <th>576002</th>\n",
       "      <td>21</td>\n",
       "      <td>1</td>\n",
       "      <td>0</td>\n",
       "      <td>5.11</td>\n",
       "      <td>-10.16</td>\n",
       "      <td>31.58</td>\n",
       "      <td>42.74</td>\n",
       "      <td>170.92</td>\n",
       "      <td>0.06</td>\n",
       "      <td>0.06</td>\n",
       "      <td>0.05</td>\n",
       "      <td>-0.04</td>\n",
       "      <td>268.40</td>\n",
       "    </tr>\n",
       "    <tr>\n",
       "      <th>576003</th>\n",
       "      <td>21</td>\n",
       "      <td>1</td>\n",
       "      <td>0</td>\n",
       "      <td>4.80</td>\n",
       "      <td>-2.57</td>\n",
       "      <td>31.47</td>\n",
       "      <td>42.77</td>\n",
       "      <td>160.98</td>\n",
       "      <td>0.09</td>\n",
       "      <td>0.09</td>\n",
       "      <td>0.09</td>\n",
       "      <td>-0.07</td>\n",
       "      <td>252.73</td>\n",
       "    </tr>\n",
       "    <tr>\n",
       "      <th>576004</th>\n",
       "      <td>21</td>\n",
       "      <td>1</td>\n",
       "      <td>0</td>\n",
       "      <td>4.74</td>\n",
       "      <td>1.37</td>\n",
       "      <td>31.31</td>\n",
       "      <td>42.54</td>\n",
       "      <td>158.40</td>\n",
       "      <td>0.03</td>\n",
       "      <td>0.03</td>\n",
       "      <td>0.03</td>\n",
       "      <td>-0.07</td>\n",
       "      <td>253.02</td>\n",
       "    </tr>\n",
       "    <tr>\n",
       "      <th>576005</th>\n",
       "      <td>21</td>\n",
       "      <td>1</td>\n",
       "      <td>0</td>\n",
       "      <td>4.55</td>\n",
       "      <td>1.31</td>\n",
       "      <td>31.25</td>\n",
       "      <td>42.37</td>\n",
       "      <td>158.40</td>\n",
       "      <td>0.03</td>\n",
       "      <td>0.03</td>\n",
       "      <td>0.02</td>\n",
       "      <td>-0.07</td>\n",
       "      <td>229.24</td>\n",
       "    </tr>\n",
       "  </tbody>\n",
       "</table>\n",
       "</div>"
      ],
      "text/plain": [
       "        TurbID  Day  Tmstamp  Wspd   Wdir   Etmp   Itmp    Ndir  Pab1  Pab2  \\\n",
       "576000      21    1        0  3.07  -2.56   8.18  23.20  223.45  0.01  0.01   \n",
       "576001      21    1        0  5.46 -10.18  31.62  42.59  170.92  0.35  0.35   \n",
       "576002      21    1        0  5.11 -10.16  31.58  42.74  170.92  0.06  0.06   \n",
       "576003      21    1        0  4.80  -2.57  31.47  42.77  160.98  0.09  0.09   \n",
       "576004      21    1        0  4.74   1.37  31.31  42.54  158.40  0.03  0.03   \n",
       "576005      21    1        0  4.55   1.31  31.25  42.37  158.40  0.03  0.03   \n",
       "\n",
       "        Pab3   Prtv    Patv  \n",
       "576000  0.01 -77.64  157.50  \n",
       "576001  0.35  -0.08  293.28  \n",
       "576002  0.05  -0.04  268.40  \n",
       "576003  0.09  -0.07  252.73  \n",
       "576004  0.03  -0.07  253.02  \n",
       "576005  0.02  -0.07  229.24  "
      ]
     },
     "execution_count": 92,
     "metadata": {},
     "output_type": "execute_result"
    }
   ],
   "source": [
    "train_data[0:+6]"
   ]
  },
  {
   "cell_type": "code",
   "execution_count": 138,
   "id": "597ff587",
   "metadata": {},
   "outputs": [
    {
     "data": {
      "text/html": [
       "<div>\n",
       "<style scoped>\n",
       "    .dataframe tbody tr th:only-of-type {\n",
       "        vertical-align: middle;\n",
       "    }\n",
       "\n",
       "    .dataframe tbody tr th {\n",
       "        vertical-align: top;\n",
       "    }\n",
       "\n",
       "    .dataframe thead th {\n",
       "        text-align: right;\n",
       "    }\n",
       "</style>\n",
       "<table border=\"1\" class=\"dataframe\">\n",
       "  <thead>\n",
       "    <tr style=\"text-align: right;\">\n",
       "      <th></th>\n",
       "      <th></th>\n",
       "      <th>TurbID</th>\n",
       "      <th>Wspd</th>\n",
       "      <th>Wdir</th>\n",
       "      <th>Etmp</th>\n",
       "      <th>Itmp</th>\n",
       "      <th>Ndir</th>\n",
       "      <th>Pab1</th>\n",
       "      <th>Pab2</th>\n",
       "      <th>Pab3</th>\n",
       "      <th>Prtv</th>\n",
       "      <th>Patv</th>\n",
       "    </tr>\n",
       "    <tr>\n",
       "      <th>Day</th>\n",
       "      <th>Tmstamp</th>\n",
       "      <th></th>\n",
       "      <th></th>\n",
       "      <th></th>\n",
       "      <th></th>\n",
       "      <th></th>\n",
       "      <th></th>\n",
       "      <th></th>\n",
       "      <th></th>\n",
       "      <th></th>\n",
       "      <th></th>\n",
       "      <th></th>\n",
       "    </tr>\n",
       "  </thead>\n",
       "  <tbody>\n",
       "    <tr>\n",
       "      <th rowspan=\"5\" valign=\"top\">1</th>\n",
       "      <th>0</th>\n",
       "      <td>21</td>\n",
       "      <td>5.46</td>\n",
       "      <td>1.37</td>\n",
       "      <td>31.62</td>\n",
       "      <td>42.77</td>\n",
       "      <td>223.45</td>\n",
       "      <td>0.35</td>\n",
       "      <td>0.35</td>\n",
       "      <td>0.35</td>\n",
       "      <td>-0.04</td>\n",
       "      <td>293.28</td>\n",
       "    </tr>\n",
       "    <tr>\n",
       "      <th>1</th>\n",
       "      <td>21</td>\n",
       "      <td>4.85</td>\n",
       "      <td>4.53</td>\n",
       "      <td>31.16</td>\n",
       "      <td>42.19</td>\n",
       "      <td>158.40</td>\n",
       "      <td>0.03</td>\n",
       "      <td>0.03</td>\n",
       "      <td>0.03</td>\n",
       "      <td>-0.01</td>\n",
       "      <td>266.07</td>\n",
       "    </tr>\n",
       "    <tr>\n",
       "      <th>2</th>\n",
       "      <td>21</td>\n",
       "      <td>5.87</td>\n",
       "      <td>10.23</td>\n",
       "      <td>30.27</td>\n",
       "      <td>41.56</td>\n",
       "      <td>149.57</td>\n",
       "      <td>0.91</td>\n",
       "      <td>0.91</td>\n",
       "      <td>0.91</td>\n",
       "      <td>-0.07</td>\n",
       "      <td>403.66</td>\n",
       "    </tr>\n",
       "    <tr>\n",
       "      <th>3</th>\n",
       "      <td>21</td>\n",
       "      <td>5.49</td>\n",
       "      <td>8.59</td>\n",
       "      <td>29.90</td>\n",
       "      <td>40.57</td>\n",
       "      <td>133.35</td>\n",
       "      <td>1.57</td>\n",
       "      <td>1.57</td>\n",
       "      <td>1.57</td>\n",
       "      <td>-0.05</td>\n",
       "      <td>375.84</td>\n",
       "    </tr>\n",
       "    <tr>\n",
       "      <th>4</th>\n",
       "      <td>21</td>\n",
       "      <td>7.43</td>\n",
       "      <td>3.23</td>\n",
       "      <td>29.79</td>\n",
       "      <td>40.66</td>\n",
       "      <td>133.35</td>\n",
       "      <td>8.38</td>\n",
       "      <td>8.38</td>\n",
       "      <td>8.38</td>\n",
       "      <td>-0.05</td>\n",
       "      <td>356.13</td>\n",
       "    </tr>\n",
       "    <tr>\n",
       "      <th>...</th>\n",
       "      <th>...</th>\n",
       "      <td>...</td>\n",
       "      <td>...</td>\n",
       "      <td>...</td>\n",
       "      <td>...</td>\n",
       "      <td>...</td>\n",
       "      <td>...</td>\n",
       "      <td>...</td>\n",
       "      <td>...</td>\n",
       "      <td>...</td>\n",
       "      <td>...</td>\n",
       "      <td>...</td>\n",
       "    </tr>\n",
       "    <tr>\n",
       "      <th rowspan=\"5\" valign=\"top\">200</th>\n",
       "      <th>19</th>\n",
       "      <td>21</td>\n",
       "      <td>5.13</td>\n",
       "      <td>4.35</td>\n",
       "      <td>13.51</td>\n",
       "      <td>23.09</td>\n",
       "      <td>343.81</td>\n",
       "      <td>0.01</td>\n",
       "      <td>0.01</td>\n",
       "      <td>0.01</td>\n",
       "      <td>-1.91</td>\n",
       "      <td>352.17</td>\n",
       "    </tr>\n",
       "    <tr>\n",
       "      <th>20</th>\n",
       "      <td>21</td>\n",
       "      <td>5.10</td>\n",
       "      <td>-0.88</td>\n",
       "      <td>13.22</td>\n",
       "      <td>23.06</td>\n",
       "      <td>347.04</td>\n",
       "      <td>0.01</td>\n",
       "      <td>0.01</td>\n",
       "      <td>0.01</td>\n",
       "      <td>9.59</td>\n",
       "      <td>352.25</td>\n",
       "    </tr>\n",
       "    <tr>\n",
       "      <th>21</th>\n",
       "      <td>21</td>\n",
       "      <td>6.26</td>\n",
       "      <td>3.29</td>\n",
       "      <td>12.34</td>\n",
       "      <td>22.59</td>\n",
       "      <td>345.06</td>\n",
       "      <td>0.01</td>\n",
       "      <td>0.01</td>\n",
       "      <td>0.01</td>\n",
       "      <td>-43.13</td>\n",
       "      <td>574.29</td>\n",
       "    </tr>\n",
       "    <tr>\n",
       "      <th>22</th>\n",
       "      <td>21</td>\n",
       "      <td>5.03</td>\n",
       "      <td>2.23</td>\n",
       "      <td>12.50</td>\n",
       "      <td>22.63</td>\n",
       "      <td>346.12</td>\n",
       "      <td>0.01</td>\n",
       "      <td>0.01</td>\n",
       "      <td>0.01</td>\n",
       "      <td>-70.43</td>\n",
       "      <td>330.97</td>\n",
       "    </tr>\n",
       "    <tr>\n",
       "      <th>23</th>\n",
       "      <td>21</td>\n",
       "      <td>4.66</td>\n",
       "      <td>2.31</td>\n",
       "      <td>12.15</td>\n",
       "      <td>22.72</td>\n",
       "      <td>345.07</td>\n",
       "      <td>0.01</td>\n",
       "      <td>0.01</td>\n",
       "      <td>0.01</td>\n",
       "      <td>-68.84</td>\n",
       "      <td>278.29</td>\n",
       "    </tr>\n",
       "  </tbody>\n",
       "</table>\n",
       "<p>4800 rows × 11 columns</p>\n",
       "</div>"
      ],
      "text/plain": [
       "             TurbID  Wspd   Wdir   Etmp   Itmp    Ndir  Pab1  Pab2  Pab3  \\\n",
       "Day Tmstamp                                                                \n",
       "1   0            21  5.46   1.37  31.62  42.77  223.45  0.35  0.35  0.35   \n",
       "    1            21  4.85   4.53  31.16  42.19  158.40  0.03  0.03  0.03   \n",
       "    2            21  5.87  10.23  30.27  41.56  149.57  0.91  0.91  0.91   \n",
       "    3            21  5.49   8.59  29.90  40.57  133.35  1.57  1.57  1.57   \n",
       "    4            21  7.43   3.23  29.79  40.66  133.35  8.38  8.38  8.38   \n",
       "...             ...   ...    ...    ...    ...     ...   ...   ...   ...   \n",
       "200 19           21  5.13   4.35  13.51  23.09  343.81  0.01  0.01  0.01   \n",
       "    20           21  5.10  -0.88  13.22  23.06  347.04  0.01  0.01  0.01   \n",
       "    21           21  6.26   3.29  12.34  22.59  345.06  0.01  0.01  0.01   \n",
       "    22           21  5.03   2.23  12.50  22.63  346.12  0.01  0.01  0.01   \n",
       "    23           21  4.66   2.31  12.15  22.72  345.07  0.01  0.01  0.01   \n",
       "\n",
       "              Prtv    Patv  \n",
       "Day Tmstamp                 \n",
       "1   0        -0.04  293.28  \n",
       "    1        -0.01  266.07  \n",
       "    2        -0.07  403.66  \n",
       "    3        -0.05  375.84  \n",
       "    4        -0.05  356.13  \n",
       "...            ...     ...  \n",
       "200 19       -1.91  352.17  \n",
       "    20        9.59  352.25  \n",
       "    21      -43.13  574.29  \n",
       "    22      -70.43  330.97  \n",
       "    23      -68.84  278.29  \n",
       "\n",
       "[4800 rows x 11 columns]"
      ]
     },
     "execution_count": 138,
     "metadata": {},
     "output_type": "execute_result"
    }
   ],
   "source": [
    "my_df=train_data.groupby(['Day','Tmstamp']).max()\n",
    "my_df"
   ]
  },
  {
   "cell_type": "code",
   "execution_count": 139,
   "id": "1c11bf60",
   "metadata": {},
   "outputs": [],
   "source": [
    "my_df.reset_index(inplace=True)"
   ]
  },
  {
   "cell_type": "code",
   "execution_count": 140,
   "id": "9e9de5fb",
   "metadata": {},
   "outputs": [
    {
     "name": "stderr",
     "output_type": "stream",
     "text": [
      "100%|████████████████████████████████████████████████████████████████████████████████████| 1/1 [00:00<00:00,  6.33it/s]\n"
     ]
    }
   ],
   "source": [
    "\n",
    "X_data, Y_data = make_train_data(my_df)\n",
    "#valid_x, valid_y = make_valid_data(train_data)\n"
   ]
  },
  {
   "cell_type": "code",
   "execution_count": 141,
   "id": "a20dc4f5",
   "metadata": {},
   "outputs": [],
   "source": [
    "X_data  = np.array(X_data).reshape(-1, X_data[0].shape[0], X_data[0].shape[1] )\n",
    "#train_x = np.array(X_data)\n",
    "Y_data = np.array(Y_data)"
   ]
  },
  {
   "cell_type": "code",
   "execution_count": 142,
   "id": "1a36f081",
   "metadata": {},
   "outputs": [
    {
     "data": {
      "text/plain": [
       "(194, 120, 10)"
      ]
     },
     "execution_count": 142,
     "metadata": {},
     "output_type": "execute_result"
    }
   ],
   "source": [
    "X_data.shape"
   ]
  },
  {
   "cell_type": "code",
   "execution_count": 143,
   "id": "720dbc07",
   "metadata": {},
   "outputs": [],
   "source": [
    "#train_x  = np.array(train_x).reshape(-1, train_x[0].shape[0], train_x[0].shape[1])\n",
    "#valid_x = np.array(valid_x)\n",
    "#valid_y = np.array(valid_y)"
   ]
  },
  {
   "cell_type": "code",
   "execution_count": 144,
   "id": "25ce37da",
   "metadata": {},
   "outputs": [],
   "source": [
    "from sktime.forecasting.all import temporal_train_test_split\n",
    "\n",
    "train_y, valid_y, train_x, valid_x = temporal_train_test_split(X=X_data,y=Y_data, test_size=0.1)"
   ]
  },
  {
   "cell_type": "code",
   "execution_count": 145,
   "id": "6aaa70c5",
   "metadata": {},
   "outputs": [
    {
     "data": {
      "text/plain": [
       "(174, 24, 10)"
      ]
     },
     "execution_count": 145,
     "metadata": {},
     "output_type": "execute_result"
    }
   ],
   "source": [
    "np.array(train_y).shape"
   ]
  },
  {
   "cell_type": "code",
   "execution_count": 146,
   "id": "a9061b7e",
   "metadata": {},
   "outputs": [
    {
     "name": "stdout",
     "output_type": "stream",
     "text": [
      "(174, 120, 10) (174, 24, 10)\n"
     ]
    }
   ],
   "source": [
    "train_x  = np.array(train_x).reshape(-1, train_x[0].shape[0], train_x[0].shape[1])\n",
    "train_y = np.array(train_y)\n",
    "print(train_x.shape, train_y.shape)"
   ]
  },
  {
   "cell_type": "code",
   "execution_count": 147,
   "id": "010424c9",
   "metadata": {},
   "outputs": [
    {
     "name": "stdout",
     "output_type": "stream",
     "text": [
      "(20, 120, 10) (20, 24, 10)\n"
     ]
    }
   ],
   "source": [
    "valid_x  = np.array(valid_x).reshape(-1, valid_x[0].shape[0], valid_x[0].shape[1])\n",
    "valid_y = np.array(valid_y)\n",
    "print(valid_x.shape, valid_y.shape)"
   ]
  },
  {
   "attachments": {
    "image.png": {
     "image/png": "[encoded data removed]"
    }
   },
   "cell_type": "markdown",
   "id": "968591bc",
   "metadata": {},
   "source": [
    "input dimension은 (Batch, Time_step, Feature dimension) 순이다. (batch_first=True)\n",
    "\n",
    "output이 288인 이유는 2일이라서\n",
    "\n",
    "![image.png](attachment:image.png)"
   ]
  },
  {
   "cell_type": "markdown",
   "id": "d78a322a",
   "metadata": {},
   "source": [
    "# 정규화\n",
    "\n",
    "std norm 을 이용하고, inference 후 , 다시 복구 시킨다"
   ]
  },
  {
   "cell_type": "code",
   "execution_count": 148,
   "id": "356765bd",
   "metadata": {},
   "outputs": [],
   "source": [
    "global_mean=train_x.mean(axis=1).mean(axis=0)\n",
    "global_std=train_x.std(axis=1).std(axis=0)\n",
    "\n",
    "global_y_mean = train_y.mean(axis=1).mean(axis=0)\n",
    "global_y_std = train_y.std(axis=1).std(axis=0)\n",
    "\n",
    "train_x=(train_x-global_mean)/(global_std)\n",
    "train_y=(train_y-global_y_mean)/(global_y_std)\n",
    "\n",
    "valid_x=(valid_x-global_mean)/(global_std)\n",
    "valid_y=(valid_y-global_y_mean)/(global_y_std)"
   ]
  },
  {
   "cell_type": "code",
   "execution_count": null,
   "id": "5f562ca1",
   "metadata": {},
   "outputs": [],
   "source": []
  },
  {
   "cell_type": "code",
   "execution_count": null,
   "id": "9be34657",
   "metadata": {},
   "outputs": [],
   "source": []
  },
  {
   "cell_type": "markdown",
   "id": "20be20ba",
   "metadata": {},
   "source": [
    "# 데이터 로더"
   ]
  },
  {
   "cell_type": "code",
   "execution_count": 149,
   "id": "d8e36986",
   "metadata": {},
   "outputs": [],
   "source": [
    "EPOCHS = 50\n",
    "BATCH_SIZE = 128\n",
    "lr = 1e-3\n",
    "lstm_hidden_layer=256"
   ]
  },
  {
   "cell_type": "code",
   "execution_count": 150,
   "id": "270ce953",
   "metadata": {},
   "outputs": [],
   "source": [
    "from torch.utils.data import Dataset, DataLoader\n",
    "\n",
    "class TimeDataset(Dataset):\n",
    "    def __init__(self, X, Y):\n",
    "        self.X = X\n",
    "        self.Y = Y\n",
    "        \n",
    "    def __len__(self):\n",
    "        return len(self.X)\n",
    "        \n",
    "    def __getitem__(self, index):\n",
    "        if self.Y is not None:\n",
    "            return torch.Tensor(self.X[index]), torch.Tensor(self.Y[index])\n",
    "        \n",
    "        return torch.Tensor(self.X[index]) # 테스트셋 용\n",
    "    \n"
   ]
  },
  {
   "cell_type": "code",
   "execution_count": 151,
   "id": "5cb7414a",
   "metadata": {},
   "outputs": [],
   "source": [
    "train_dataset = TimeDataset(train_x, train_y)\n",
    "valid_dataset = TimeDataset(valid_x, valid_y)\n",
    "\n",
    "\n",
    "train_loader = DataLoader(train_dataset, \n",
    "                          batch_size = BATCH_SIZE,\n",
    "                          shuffle=True)\n",
    "\n",
    "valid_loader = DataLoader(valid_dataset, \n",
    "                          batch_size = BATCH_SIZE,\n",
    "                          shuffle=True)\n",
    "\n"
   ]
  },
  {
   "cell_type": "markdown",
   "id": "b1391110",
   "metadata": {},
   "source": [
    "# 데이터 확인"
   ]
  },
  {
   "cell_type": "code",
   "execution_count": 152,
   "id": "c8efd1fb",
   "metadata": {
    "scrolled": true
   },
   "outputs": [
    {
     "name": "stdout",
     "output_type": "stream",
     "text": [
      "X_train :  torch.Size([128, 120, 10]) type: torch.FloatTensor\n",
      "Y_train :  torch.Size([128, 24, 10]) type: torch.FloatTensor\n",
      "torch.Size([24, 10])\n"
     ]
    }
   ],
   "source": [
    "# 4. 데이터 확인하기\n",
    "for (X_train,Y_train) in train_loader:\n",
    "    print(\"X_train : \",X_train.size(),'type:',X_train.type())\n",
    "    print(\"Y_train : \",Y_train.size(),'type:',Y_train.type())\n",
    "    break\n",
    "    \n",
    "print(Y_train[0].shape)\n"
   ]
  },
  {
   "cell_type": "code",
   "execution_count": 153,
   "id": "3f4a147c",
   "metadata": {
    "scrolled": true
   },
   "outputs": [
    {
     "name": "stdout",
     "output_type": "stream",
     "text": [
      "X_valid :  torch.Size([20, 120, 10]) type: torch.FloatTensor\n",
      "Y_valid :  torch.Size([20, 24, 10]) type: torch.FloatTensor\n",
      "torch.Size([24, 10])\n"
     ]
    }
   ],
   "source": [
    "#valiation set 확인\n",
    "for (X_valid,Y_valid) in valid_loader:\n",
    "    print(\"X_valid : \",X_valid.size(),'type:',X_valid.type())\n",
    "    print(\"Y_valid : \",Y_valid.size(),'type:',Y_valid.type())\n",
    "    break\n",
    "\n",
    "print(Y_valid[0].shape)"
   ]
  },
  {
   "cell_type": "markdown",
   "id": "9630a2ff",
   "metadata": {},
   "source": [
    "# 모델\n"
   ]
  },
  {
   "cell_type": "markdown",
   "id": "fd8220ba",
   "metadata": {},
   "source": [
    "### input 설명\n",
    "\n",
    "- input_size: input의 feature dimension을 넣어주어야 한다. time step이 아니라 feature dimension!\n",
    "- hidden_size: 내부에서 어떤 feature dimension으로 바꿔주고 싶은지를 넣어주면 된다.\n",
    "- num_layers: lstm layer를 얼마나 쌓을지\n",
    "- bias: bias term을 둘 것인가 (Default: True)\n",
    "- batch_first: batch가 0번 dimension으로 오게 하려면 이거 설정! 난 이거 설정 가정하고 설명했다. (Default: False)\n",
    "- dropout: 가지치기 얼마나 할지, generalization 잘안되면 이걸 조정하면 된다.\n",
    "bidirectional: 양방향으로 할지 말지 (bidirectional 하면 [forward, backword] 로 feature dimension 2배 됨)\n",
    "\n",
    "\n",
    "\n",
    "참고.\n",
    "\n",
    "https://sanghyu.tistory.com/52"
   ]
  },
  {
   "cell_type": "markdown",
   "id": "7da3e174",
   "metadata": {},
   "source": [
    "### output 설명\n",
    "\n",
    "- outputs는 (output, (hidden or hidden stat,cell stat)) 의 tuple 형태로 나오므로 주의해서 써야한다. (LSTM만 cell state있음)\n",
    "- output: output dimension은 (batch, time_step, hidden dimension) 순이다. 양방향일 경우 hidden_size*2\n",
    "- hidden state: 모든 layer의 hidden state를 담고있다.\n",
    "- cell state: 모든 layer의 cell state를 담고있다."
   ]
  },
  {
   "cell_type": "code",
   "execution_count": 110,
   "id": "7bbb59d4",
   "metadata": {},
   "outputs": [
    {
     "data": {
      "text/plain": [
       "torch.Size([20, 120, 512])"
      ]
     },
     "execution_count": 110,
     "metadata": {},
     "output_type": "execute_result"
    }
   ],
   "source": [
    "lstm = nn.LSTM(input_size=10, hidden_size=256, batch_first=True, bidirectional=True)\n",
    "\n",
    "lstm(X_valid)[0].size()"
   ]
  },
  {
   "cell_type": "code",
   "execution_count": 26,
   "id": "c9b7c4f9",
   "metadata": {
    "scrolled": true
   },
   "outputs": [
    {
     "data": {
      "text/plain": [
       "torch.Size([720, 512])"
      ]
     },
     "execution_count": 26,
     "metadata": {},
     "output_type": "execute_result"
    }
   ],
   "source": [
    "lstm(X_valid)[0][-1].size()"
   ]
  },
  {
   "cell_type": "code",
   "execution_count": 27,
   "id": "aaea8947",
   "metadata": {
    "scrolled": true
   },
   "outputs": [
    {
     "data": {
      "text/plain": [
       "tensor([[[-0.0315, -0.0332,  0.0031,  ...,  0.0189,  0.0270,  0.0718],\n",
       "         [-0.0477, -0.0012, -0.0040,  ..., -0.0098,  0.0318,  0.0364],\n",
       "         [-0.0345, -0.0233,  0.0001,  ...,  0.0130,  0.0288,  0.0639],\n",
       "         ...,\n",
       "         [-0.0431, -0.0096, -0.0023,  ..., -0.0017,  0.0305,  0.0464],\n",
       "         [-0.0281, -0.0374,  0.0037,  ...,  0.0249,  0.0269,  0.0784],\n",
       "         [-0.0270, -0.0404,  0.0042,  ...,  0.0260,  0.0262,  0.0805]],\n",
       "\n",
       "        [[-0.0145, -0.0258,  0.0397,  ...,  0.0021, -0.0511, -0.0364],\n",
       "         [-0.0020, -0.0351,  0.0193,  ..., -0.0169, -0.0359, -0.0226],\n",
       "         [-0.0093, -0.0297,  0.0308,  ..., -0.0061, -0.0446, -0.0304],\n",
       "         ...,\n",
       "         [-0.0123, -0.0279,  0.0351,  ..., -0.0023, -0.0486, -0.0331],\n",
       "         [-0.0039, -0.0341,  0.0212,  ..., -0.0151, -0.0383, -0.0236],\n",
       "         [-0.0179, -0.0229,  0.0460,  ...,  0.0079, -0.0551, -0.0406]]],\n",
       "       grad_fn=<StackBackward0>)"
      ]
     },
     "execution_count": 27,
     "metadata": {},
     "output_type": "execute_result"
    }
   ],
   "source": [
    "lstm(X_valid)[1][0]"
   ]
  },
  {
   "cell_type": "code",
   "execution_count": 28,
   "id": "076c46b3",
   "metadata": {},
   "outputs": [
    {
     "data": {
      "text/plain": [
       "torch.Size([20, 512])"
      ]
     },
     "execution_count": 28,
     "metadata": {},
     "output_type": "execute_result"
    }
   ],
   "source": [
    "lstm(X_valid)[0][:,-2,:].size()"
   ]
  },
  {
   "cell_type": "code",
   "execution_count": 154,
   "id": "525f9cbc",
   "metadata": {},
   "outputs": [],
   "source": [
    "class lstm_encoder(nn.Module):\n",
    "    def __init__(self, input_size, hidden_size, num_layers = 1):\n",
    "        super(lstm_encoder, self).__init__()\n",
    "        self.input_size = input_size\n",
    "        self.hidden_size = hidden_size\n",
    "        self.num_layers = num_layers\n",
    "\n",
    "        self.lstm = nn.LSTM(input_size = input_size, hidden_size = hidden_size, num_layers = num_layers, batch_first=True)\n",
    "\n",
    "    def forward(self, x_input):\n",
    "        lstm_out, self.hidden = self.lstm(x_input)\n",
    "        #print(lstm_out.size())\n",
    "        return lstm_out, self.hidden"
   ]
  },
  {
   "cell_type": "code",
   "execution_count": 49,
   "id": "502a9358",
   "metadata": {},
   "outputs": [],
   "source": [
    "lsenc=lstm_encoder(input_size=10, hidden_size=256)"
   ]
  },
  {
   "cell_type": "code",
   "execution_count": 50,
   "id": "f9207c15",
   "metadata": {},
   "outputs": [
    {
     "data": {
      "text/plain": [
       "torch.Size([20, 120, 1, 10])"
      ]
     },
     "execution_count": 50,
     "metadata": {},
     "output_type": "execute_result"
    }
   ],
   "source": [
    "X_valid.unsqueeze(2).size()"
   ]
  },
  {
   "cell_type": "code",
   "execution_count": 51,
   "id": "b5fe70fd",
   "metadata": {},
   "outputs": [
    {
     "name": "stdout",
     "output_type": "stream",
     "text": [
      "torch.Size([20, 120, 256])\n"
     ]
    }
   ],
   "source": [
    "\n",
    "hidden=lsenc(X_valid)[1]"
   ]
  },
  {
   "cell_type": "code",
   "execution_count": 33,
   "id": "3222f1af",
   "metadata": {},
   "outputs": [
    {
     "data": {
      "text/plain": [
       "(tensor([[[ 0.0018, -0.0125,  0.0657,  ...,  0.0003, -0.0122, -0.0141],\n",
       "          [-0.0018, -0.0053,  0.0389,  ..., -0.0061, -0.0550,  0.0049],\n",
       "          [ 0.0021, -0.0115,  0.0588,  ...,  0.0006, -0.0226, -0.0109],\n",
       "          ...,\n",
       "          [-0.0009, -0.0071,  0.0463,  ..., -0.0042, -0.0431, -0.0006],\n",
       "          [ 0.0040, -0.0151,  0.0698,  ...,  0.0030, -0.0047, -0.0186],\n",
       "          [ 0.0034, -0.0148,  0.0722,  ...,  0.0029, -0.0020, -0.0191]]],\n",
       "        grad_fn=<StackBackward0>),\n",
       " tensor([[[ 0.0034, -0.0248,  0.1317,  ...,  0.0005, -0.0247, -0.0292],\n",
       "          [-0.0035, -0.0107,  0.0773,  ..., -0.0113, -0.1107,  0.0099],\n",
       "          [ 0.0040, -0.0228,  0.1177,  ...,  0.0012, -0.0457, -0.0225],\n",
       "          ...,\n",
       "          [-0.0016, -0.0143,  0.0923,  ..., -0.0079, -0.0868, -0.0012],\n",
       "          [ 0.0075, -0.0299,  0.1402,  ...,  0.0059, -0.0095, -0.0387],\n",
       "          [ 0.0063, -0.0294,  0.1451,  ...,  0.0055, -0.0040, -0.0397]]],\n",
       "        grad_fn=<StackBackward0>))"
      ]
     },
     "execution_count": 33,
     "metadata": {},
     "output_type": "execute_result"
    }
   ],
   "source": [
    "hidden"
   ]
  },
  {
   "cell_type": "code",
   "execution_count": 155,
   "id": "b880ae08",
   "metadata": {},
   "outputs": [],
   "source": [
    "class lstm_decoder(nn.Module):\n",
    "    def __init__(self, input_size, hidden_size, num_layers = 1):\n",
    "        super(lstm_decoder, self).__init__()\n",
    "        self.input_size = input_size\n",
    "        self.hidden_size = hidden_size\n",
    "        self.num_layers = num_layers\n",
    "\n",
    "        self.lstm = nn.LSTM(input_size = input_size, hidden_size = hidden_size,num_layers = num_layers, batch_first=True)\n",
    "        self.linear = nn.Linear(hidden_size, input_size)           \n",
    "\n",
    "    def forward(self, x_input, encoder_hidden_states):\n",
    "        #print(x_input.size())\n",
    "        lstm_out, self.hidden = self.lstm(x_input, encoder_hidden_states)\n",
    "        output = self.linear(lstm_out)\n",
    "        \n",
    "        return output, self.hidden"
   ]
  },
  {
   "cell_type": "code",
   "execution_count": 53,
   "id": "7c6bbcb5",
   "metadata": {
    "scrolled": true
   },
   "outputs": [
    {
     "data": {
      "text/plain": [
       "torch.Size([20, 1, 10])"
      ]
     },
     "execution_count": 53,
     "metadata": {},
     "output_type": "execute_result"
    }
   ],
   "source": [
    "X_valid[:,-1,:].unsqueeze(1).shape"
   ]
  },
  {
   "cell_type": "code",
   "execution_count": 56,
   "id": "7416f66c",
   "metadata": {},
   "outputs": [
    {
     "data": {
      "text/plain": [
       "tensor([[[ 0.7616, -0.7616,  0.0000,  ..., -0.7616,  0.7616,  1.0000],\n",
       "         [ 0.7616, -0.7616,  0.0000,  ..., -0.7616,  0.7616,  1.0000],\n",
       "         [ 0.7616, -0.7616,  0.0000,  ..., -0.7616,  0.7616,  1.0000],\n",
       "         ...,\n",
       "         [ 0.7616, -0.7616,  0.0000,  ..., -0.7616,  0.7616,  1.0000],\n",
       "         [ 0.7616, -0.7616,  0.0000,  ..., -0.7616,  0.7616,  1.0000],\n",
       "         [ 0.7616, -0.7616,  0.0000,  ..., -0.7616,  0.7616,  1.0000]]],\n",
       "       grad_fn=<StackBackward0>)"
      ]
     },
     "execution_count": 56,
     "metadata": {},
     "output_type": "execute_result"
    }
   ],
   "source": [
    "hidden[0]"
   ]
  },
  {
   "cell_type": "code",
   "execution_count": 37,
   "id": "20c99a4d",
   "metadata": {},
   "outputs": [
    {
     "data": {
      "text/plain": [
       "torch.Size([20, 1])"
      ]
     },
     "execution_count": 37,
     "metadata": {},
     "output_type": "execute_result"
    }
   ],
   "source": [
    "X_valid[:,-1,:].shape"
   ]
  },
  {
   "cell_type": "code",
   "execution_count": 59,
   "id": "74aec509",
   "metadata": {},
   "outputs": [
    {
     "data": {
      "text/plain": [
       "torch.Size([20, 120, 10])"
      ]
     },
     "execution_count": 59,
     "metadata": {},
     "output_type": "execute_result"
    }
   ],
   "source": [
    "X_valid.size()"
   ]
  },
  {
   "cell_type": "code",
   "execution_count": 62,
   "id": "50d697fe",
   "metadata": {
    "scrolled": true
   },
   "outputs": [
    {
     "data": {
      "text/plain": [
       "torch.Size([20, 120, 10])"
      ]
     },
     "execution_count": 62,
     "metadata": {},
     "output_type": "execute_result"
    }
   ],
   "source": [
    "lsde = lstm_decoder(input_size=10, hidden_size=256)\n",
    "\n",
    "lsde(X_valid , hidden)\n"
   ]
  },
  {
   "cell_type": "code",
   "execution_count": 156,
   "id": "40ccf84b",
   "metadata": {},
   "outputs": [],
   "source": [
    "class lstm_encoder_decoder(nn.Module):\n",
    "    def __init__(self, input_size, hidden_size):\n",
    "        super(lstm_encoder_decoder, self).__init__()\n",
    "\n",
    "        self.input_size = input_size\n",
    "        self.hidden_size = hidden_size\n",
    "\n",
    "        self.encoder = lstm_encoder(input_size = input_size, hidden_size = hidden_size)\n",
    "        self.decoder = lstm_decoder(input_size = input_size, hidden_size = hidden_size)\n",
    "\n",
    "    def forward(self, inputs, targets, target_len, teacher_forcing_ratio):\n",
    "        batch_size = inputs.shape[0]\n",
    "        input_size = inputs.shape[2]\n",
    "\n",
    "        outputs = torch.zeros(batch_size, target_len, input_size).to(DEVICE)\n",
    "\n",
    "        _, hidden = self.encoder(inputs)\n",
    "        decoder_input = inputs[:,-1, :]\n",
    "        \n",
    "        \n",
    "        for t in range(target_len): \n",
    "            out, hidden = self.decoder(decoder_input.unsqueeze(-2), hidden)\n",
    "            out =  out.squeeze(1)\n",
    "            if random.random() < teacher_forcing_ratio:\n",
    "                decoder_input = targets[:, t, :].squeeze()\n",
    "            else:\n",
    "                decoder_input = out\n",
    "            outputs[:,t,:] = out\n",
    "        \n",
    "        return outputs.squeeze()\n",
    "\n",
    "    def predict(self, inputs, target_len):\n",
    "        inputs = inputs\n",
    "        self.eval()\n",
    "        batch_size = inputs.shape[0]\n",
    "        input_size = inputs.shape[2]\n",
    "        outputs = torch.zeros(batch_size, target_len, input_size).to(DEVICE)\n",
    "        _, hidden = self.encoder(inputs)\n",
    "        decoder_input = inputs[:,-1, :]\n",
    "        for t in range(target_len): \n",
    "            out, hidden = self.decoder(decoder_input, hidden)\n",
    "            out =  out.squeeze(1)\n",
    "            decoder_input = out\n",
    "            outputs[:,t,:] = out\n",
    "        return outputs[:,:,0]"
   ]
  },
  {
   "cell_type": "code",
   "execution_count": 126,
   "id": "d2bc30f0",
   "metadata": {},
   "outputs": [
    {
     "data": {
      "text/plain": [
       "torch.Size([20, 120, 10])"
      ]
     },
     "execution_count": 126,
     "metadata": {},
     "output_type": "execute_result"
    }
   ],
   "source": [
    "X_valid.size()"
   ]
  },
  {
   "cell_type": "code",
   "execution_count": 127,
   "id": "f77911fc",
   "metadata": {},
   "outputs": [
    {
     "data": {
      "text/plain": [
       "torch.Size([20, 24, 10, 1])"
      ]
     },
     "execution_count": 127,
     "metadata": {},
     "output_type": "execute_result"
    }
   ],
   "source": [
    "Y_valid.unsqueeze(-1).size()"
   ]
  },
  {
   "cell_type": "code",
   "execution_count": 42,
   "id": "90abfb0b",
   "metadata": {},
   "outputs": [
    {
     "data": {
      "text/plain": [
       "torch.Size([20, 288])"
      ]
     },
     "execution_count": 42,
     "metadata": {},
     "output_type": "execute_result"
    }
   ],
   "source": [
    "lsed=lstm_encoder_decoder(1,256)\n",
    "lsed(inputs=X_valid,targets=Y_valid.unsqueeze(-1), target_len=288, teacher_forcing_ratio=0.6).size()\n",
    "\n",
    "## 11 ->1 이 되도록 수정이 필요하다."
   ]
  },
  {
   "cell_type": "code",
   "execution_count": 177,
   "id": "5e20c8c2",
   "metadata": {},
   "outputs": [],
   "source": [
    "class BaseModel(nn.Module):\n",
    "    def __init__(self):\n",
    "        super(BaseModel, self).__init__()\n",
    "        self.lstm = nn.LSTM(input_size=11, hidden_size=256, batch_first=True, bidirectional=True)\n",
    "        self.classifier = nn.Sequential(\n",
    "            nn.Linear(512,512),# 사이즈는 hidden size에 따라 결정.\n",
    "            nn.ReLU(),\n",
    "            nn.Linear(512,288), #결과 288개 예측.\n",
    "            nn.ReLU(),  \n",
    "        )\n",
    "        \n",
    "    def forward(self, x):\n",
    "        output, _ = self.lstm(x)\n",
    "        output = self.classifier(output[:,-1,:]) # -1은 hidden state의 마지막 time step값을 가져온 것.\n",
    "        return output"
   ]
  },
  {
   "cell_type": "code",
   "execution_count": 157,
   "id": "8304e647",
   "metadata": {},
   "outputs": [],
   "source": [
    "#8. 학습\n",
    "def train(model,train_loader,optimizer, log_interval):\n",
    "    model.train()\n",
    "    train_loss = 0\n",
    "    train_mae_loss = 0\n",
    "    for batch_idx,(X, Y) in enumerate(train_loader):\n",
    "        X = X.to(DEVICE)\n",
    "        Y = Y.to(DEVICE)\n",
    "\n",
    "        optimizer.zero_grad()#데이터들 장비에 할당\n",
    "        output = model(inputs=X, targets=Y.unsqueeze(-1),target_len=24, teacher_forcing_ratio=0.6) # model로 output을 계산\n",
    "        loss = criterion(output, Y)        \n",
    "        train_loss += loss.item()\n",
    "        \n",
    "        with torch.no_grad():\n",
    "            mae = metric(output, Y)\n",
    "            train_mae_loss+=mae.item()\n",
    "        loss.backward()\n",
    "        optimizer.step()\n",
    "    \n",
    "    #train_loss/=len(train_loader.dataset)\n",
    "    #train_mae_loss/=len(train_loader.dataset)\n",
    "    \n",
    "    return train_loss,train_mae_loss\n",
    "\n"
   ]
  },
  {
   "cell_type": "code",
   "execution_count": 158,
   "id": "cad0878a",
   "metadata": {},
   "outputs": [],
   "source": [
    "#8. 학습\n",
    "def evaluate(model,valid_loader):\n",
    "    model.eval()\n",
    "    valid_loss = 0\n",
    "    valid_mae = 0\n",
    "    #no_grad : 그래디언트 값 계산 막기.\n",
    "    with torch.no_grad():\n",
    "        for X, Y in valid_loader:\n",
    "            X = X.to(DEVICE)\n",
    "            Y = Y.to(DEVICE)\n",
    "            output = model(inputs=X,targets=Y.unsqueeze(-1),target_len=24, teacher_forcing_ratio=0.6) # model로 output을 계산\n",
    "            loss = criterion(output, Y)\n",
    "            valid_loss += loss.item()\n",
    "            mae = metric(output, Y)\n",
    "            valid_mae+=mae.item()\n",
    "        \n",
    "    #valid_loss/=len(valid_loader.dataset)\n",
    "    #valid_mae/=len(valid_loader.dataset)\n",
    "    return valid_loss, valid_mae\n"
   ]
  },
  {
   "cell_type": "code",
   "execution_count": 159,
   "id": "ce9f1630",
   "metadata": {
    "scrolled": true
   },
   "outputs": [
    {
     "name": "stdout",
     "output_type": "stream",
     "text": [
      "./checkpoint/checkpoint_seq2seq_onecol.pt\n",
      "\n",
      "[EPOCH:1]\t Train Loss:3037079764534436210190713880576.0000\t Train MAE:675539970949120.0000  | \tValid Loss:1518539882267218105095356940288.0000 \tValid MAE: 337769985474560.0000\n",
      "\n",
      "\n",
      "[EPOCH:2]\t Train Loss:3037079764534436210190713880576.0000\t Train MAE:675539970949120.0000  | \tValid Loss:1518539882267218105095356940288.0000 \tValid MAE: 337769985474560.0000\n",
      "\n",
      "\n",
      "[EPOCH:3]\t Train Loss:3037079764534436210190713880576.0000\t Train MAE:675539970949120.0000  | \tValid Loss:1518539882267218105095356940288.0000 \tValid MAE: 337769985474560.0000\n",
      "\n",
      "\n",
      "[EPOCH:4]\t Train Loss:3037079764534436210190713880576.0000\t Train MAE:675539970949120.0000  | \tValid Loss:1518539882267218105095356940288.0000 \tValid MAE: 337769985474560.0000\n",
      "\n",
      "\n",
      "[EPOCH:5]\t Train Loss:3037079764534436210190713880576.0000\t Train MAE:675539970949120.0000  | \tValid Loss:1518539882267218105095356940288.0000 \tValid MAE: 337769985474560.0000\n",
      "\n",
      "\n",
      "[EPOCH:6]\t Train Loss:3037079764534436210190713880576.0000\t Train MAE:675539970949120.0000  | \tValid Loss:1518539882267218105095356940288.0000 \tValid MAE: 337769985474560.0000\n",
      "\n",
      "\n",
      "[EPOCH:7]\t Train Loss:3037079764534436210190713880576.0000\t Train MAE:675539970949120.0000  | \tValid Loss:1518539882267218105095356940288.0000 \tValid MAE: 337769985474560.0000\n",
      "\n",
      "\n",
      "[EPOCH:8]\t Train Loss:3037079764534436210190713880576.0000\t Train MAE:675539970949120.0000  | \tValid Loss:1518539882267218105095356940288.0000 \tValid MAE: 337769985474560.0000\n",
      "\n",
      "\n",
      "[EPOCH:9]\t Train Loss:3037079764534436210190713880576.0000\t Train MAE:675539970949120.0000  | \tValid Loss:1518539882267218105095356940288.0000 \tValid MAE: 337769985474560.0000\n",
      "\n",
      "\n",
      "[EPOCH:10]\t Train Loss:3037079764534436210190713880576.0000\t Train MAE:675539970949120.0000  | \tValid Loss:1518539882267218105095356940288.0000 \tValid MAE: 337769985474560.0000\n",
      "\n",
      "\n",
      "[EPOCH:11]\t Train Loss:3037079764534436210190713880576.0000\t Train MAE:675539970949120.0000  | \tValid Loss:1518539882267218105095356940288.0000 \tValid MAE: 337769985474560.0000\n",
      "\n",
      "\n",
      "[EPOCH:12]\t Train Loss:3037079764534436210190713880576.0000\t Train MAE:675539970949120.0000  | \tValid Loss:1518539882267218105095356940288.0000 \tValid MAE: 337769985474560.0000\n",
      "\n",
      "\n",
      "[EPOCH:13]\t Train Loss:3037079764534436210190713880576.0000\t Train MAE:675539970949120.0000  | \tValid Loss:1518539882267218105095356940288.0000 \tValid MAE: 337769985474560.0000\n",
      "\n",
      "\n",
      "[EPOCH:14]\t Train Loss:3037079764534436210190713880576.0000\t Train MAE:675539970949120.0000  | \tValid Loss:1518539882267218105095356940288.0000 \tValid MAE: 337769985474560.0000\n",
      "\n",
      "\n",
      "[EPOCH:15]\t Train Loss:3037079764534436210190713880576.0000\t Train MAE:675539970949120.0000  | \tValid Loss:1518539882267218105095356940288.0000 \tValid MAE: 337769985474560.0000\n",
      "\n",
      "\n",
      "[EPOCH:16]\t Train Loss:3037079764534436210190713880576.0000\t Train MAE:675539970949120.0000  | \tValid Loss:1518539882267218105095356940288.0000 \tValid MAE: 337769985474560.0000\n",
      "\n",
      "\n",
      "[EPOCH:17]\t Train Loss:3037079764534436210190713880576.0000\t Train MAE:675539970949120.0000  | \tValid Loss:1518539882267218105095356940288.0000 \tValid MAE: 337769985474560.0000\n",
      "\n",
      "\n",
      "[EPOCH:18]\t Train Loss:3037079764534436210190713880576.0000\t Train MAE:675539970949120.0000  | \tValid Loss:1518539882267218105095356940288.0000 \tValid MAE: 337769985474560.0000\n",
      "\n",
      "\n",
      "[EPOCH:19]\t Train Loss:3037079764534436210190713880576.0000\t Train MAE:675539970949120.0000  | \tValid Loss:1518539882267218105095356940288.0000 \tValid MAE: 337769985474560.0000\n",
      "\n",
      "\n",
      "[EPOCH:20]\t Train Loss:3037079764534436210190713880576.0000\t Train MAE:675539970949120.0000  | \tValid Loss:1518539882267218105095356940288.0000 \tValid MAE: 337769985474560.0000\n",
      "\n",
      "\n",
      "[EPOCH:21]\t Train Loss:3037079764534436210190713880576.0000\t Train MAE:675539970949120.0000  | \tValid Loss:1518539882267218105095356940288.0000 \tValid MAE: 337769985474560.0000\n",
      "\n",
      "\n",
      "[EPOCH:22]\t Train Loss:3037079764534436210190713880576.0000\t Train MAE:675539970949120.0000  | \tValid Loss:1518539882267218105095356940288.0000 \tValid MAE: 337769985474560.0000\n",
      "\n",
      "\n",
      "[EPOCH:23]\t Train Loss:3037079764534436210190713880576.0000\t Train MAE:675539970949120.0000  | \tValid Loss:1518539882267218105095356940288.0000 \tValid MAE: 337769985474560.0000\n",
      "\n",
      "\n",
      "[EPOCH:24]\t Train Loss:3037079764534436210190713880576.0000\t Train MAE:675539970949120.0000  | \tValid Loss:1518539882267218105095356940288.0000 \tValid MAE: 337769985474560.0000\n",
      "\n",
      "\n",
      "[EPOCH:25]\t Train Loss:3037079764534436210190713880576.0000\t Train MAE:675539970949120.0000  | \tValid Loss:1518539882267218105095356940288.0000 \tValid MAE: 337769985474560.0000\n",
      "\n",
      "\n",
      "[EPOCH:26]\t Train Loss:3037079764534436210190713880576.0000\t Train MAE:675539970949120.0000  | \tValid Loss:1518539882267218105095356940288.0000 \tValid MAE: 337769985474560.0000\n",
      "\n",
      "\n",
      "[EPOCH:27]\t Train Loss:3037079764534436210190713880576.0000\t Train MAE:675539970949120.0000  | \tValid Loss:1518539882267218105095356940288.0000 \tValid MAE: 337769985474560.0000\n",
      "\n",
      "\n",
      "[EPOCH:28]\t Train Loss:3037079764534436210190713880576.0000\t Train MAE:675539970949120.0000  | \tValid Loss:1518539882267218105095356940288.0000 \tValid MAE: 337769985474560.0000\n",
      "\n",
      "\n",
      "[EPOCH:29]\t Train Loss:3037079764534436210190713880576.0000\t Train MAE:675539970949120.0000  | \tValid Loss:1518539882267218105095356940288.0000 \tValid MAE: 337769985474560.0000\n",
      "\n",
      "\n",
      "[EPOCH:30]\t Train Loss:3037079764534436210190713880576.0000\t Train MAE:675539970949120.0000  | \tValid Loss:1518539882267218105095356940288.0000 \tValid MAE: 337769985474560.0000\n",
      "\n",
      "\n",
      "[EPOCH:31]\t Train Loss:3037079764534436210190713880576.0000\t Train MAE:675539970949120.0000  | \tValid Loss:1518539882267218105095356940288.0000 \tValid MAE: 337769985474560.0000\n",
      "\n",
      "\n",
      "[EPOCH:32]\t Train Loss:3037079764534436210190713880576.0000\t Train MAE:675539970949120.0000  | \tValid Loss:1518539882267218105095356940288.0000 \tValid MAE: 337769985474560.0000\n",
      "\n",
      "\n",
      "[EPOCH:33]\t Train Loss:3037079764534436210190713880576.0000\t Train MAE:675539970949120.0000  | \tValid Loss:1518539882267218105095356940288.0000 \tValid MAE: 337769985474560.0000\n",
      "\n",
      "\n",
      "[EPOCH:34]\t Train Loss:3037079764534436210190713880576.0000\t Train MAE:675539970949120.0000  | \tValid Loss:1518539882267218105095356940288.0000 \tValid MAE: 337769985474560.0000\n",
      "\n",
      "\n",
      "[EPOCH:35]\t Train Loss:3037079764534436210190713880576.0000\t Train MAE:675539970949120.0000  | \tValid Loss:1518539882267218105095356940288.0000 \tValid MAE: 337769985474560.0000\n",
      "\n",
      "\n",
      "[EPOCH:36]\t Train Loss:3037079764534436210190713880576.0000\t Train MAE:675539970949120.0000  | \tValid Loss:1518539882267218105095356940288.0000 \tValid MAE: 337769985474560.0000\n",
      "\n",
      "\n",
      "[EPOCH:37]\t Train Loss:3037079764534436210190713880576.0000\t Train MAE:675539970949120.0000  | \tValid Loss:1518539882267218105095356940288.0000 \tValid MAE: 337769985474560.0000\n",
      "\n",
      "\n",
      "[EPOCH:38]\t Train Loss:3037079764534436210190713880576.0000\t Train MAE:675539970949120.0000  | \tValid Loss:1518539882267218105095356940288.0000 \tValid MAE: 337769985474560.0000\n",
      "\n",
      "\n",
      "[EPOCH:39]\t Train Loss:3037079764534436210190713880576.0000\t Train MAE:675539970949120.0000  | \tValid Loss:1518539882267218105095356940288.0000 \tValid MAE: 337769985474560.0000\n",
      "\n",
      "\n",
      "[EPOCH:40]\t Train Loss:3037079764534436210190713880576.0000\t Train MAE:675539970949120.0000  | \tValid Loss:1518539882267218105095356940288.0000 \tValid MAE: 337769985474560.0000\n",
      "\n",
      "\n",
      "[EPOCH:41]\t Train Loss:3037079764534436210190713880576.0000\t Train MAE:675539970949120.0000  | \tValid Loss:1518539882267218105095356940288.0000 \tValid MAE: 337769985474560.0000\n",
      "\n",
      "\n",
      "[EPOCH:42]\t Train Loss:3037079764534436210190713880576.0000\t Train MAE:675539970949120.0000  | \tValid Loss:1518539882267218105095356940288.0000 \tValid MAE: 337769985474560.0000\n",
      "\n",
      "\n",
      "[EPOCH:43]\t Train Loss:3037079764534436210190713880576.0000\t Train MAE:675539970949120.0000  | \tValid Loss:1518539882267218105095356940288.0000 \tValid MAE: 337769985474560.0000\n",
      "\n",
      "\n",
      "[EPOCH:44]\t Train Loss:3037079764534436210190713880576.0000\t Train MAE:675539970949120.0000  | \tValid Loss:1518539882267218105095356940288.0000 \tValid MAE: 337769985474560.0000\n",
      "\n",
      "\n",
      "[EPOCH:45]\t Train Loss:3037079764534436210190713880576.0000\t Train MAE:675539970949120.0000  | \tValid Loss:1518539882267218105095356940288.0000 \tValid MAE: 337769985474560.0000\n",
      "\n",
      "\n",
      "[EPOCH:46]\t Train Loss:3037079764534436210190713880576.0000\t Train MAE:675539970949120.0000  | \tValid Loss:1518539882267218105095356940288.0000 \tValid MAE: 337769985474560.0000\n",
      "\n",
      "\n",
      "[EPOCH:47]\t Train Loss:3037079764534436210190713880576.0000\t Train MAE:675539970949120.0000  | \tValid Loss:1518539882267218105095356940288.0000 \tValid MAE: 337769985474560.0000\n",
      "\n",
      "\n",
      "[EPOCH:48]\t Train Loss:3037079764534436210190713880576.0000\t Train MAE:675539970949120.0000  | \tValid Loss:1518539882267218105095356940288.0000 \tValid MAE: 337769985474560.0000\n",
      "\n",
      "\n",
      "[EPOCH:49]\t Train Loss:3037079764534436210190713880576.0000\t Train MAE:675539970949120.0000  | \tValid Loss:1518539882267218105095356940288.0000 \tValid MAE: 337769985474560.0000\n",
      "\n"
     ]
    },
    {
     "name": "stdout",
     "output_type": "stream",
     "text": [
      "\n",
      "[EPOCH:50]\t Train Loss:3037079764534436210190713880576.0000\t Train MAE:675539970949120.0000  | \tValid Loss:1518539882267218105095356940288.0000 \tValid MAE: 337769985474560.0000\n",
      "\n"
     ]
    }
   ],
   "source": [
    "#학습 진행 코드\n",
    "\n",
    "\n",
    "check_path = './checkpoint/checkpoint_seq2seq_onecol.pt'\n",
    "print(check_path)\n",
    "model = lstm_encoder_decoder(input_size=10,hidden_size=lstm_hidden_layer).to(DEVICE)\n",
    "criterion = nn.MSELoss().to(DEVICE)\n",
    "metric = nn.L1Loss().to(DEVICE)\n",
    "\n",
    "optimizer = torch.optim.Adam(model.parameters(),lr=lr)\n",
    "\n",
    "best_valid_mae = 999999\n",
    "best_valid_loss = 9999999999\n",
    "\n",
    "\n",
    "\n",
    "for Epoch in range(1,EPOCHS+1):\n",
    "    train_loss,train_mae = train(model,train_loader,optimizer,log_interval=31)\n",
    "    valid_loss,valid_mae = evaluate(model, valid_loader)\n",
    "    \n",
    "    \n",
    "    print(\"\\n[EPOCH:{}]\\t Train Loss:{:.4f}\\t Train MAE:{:.4f}  | \\tValid Loss:{:.4f} \\tValid MAE: {:.4f}\\n\".\n",
    "                  format(Epoch, train_loss, train_mae,\n",
    "                         valid_loss, valid_mae ))\n",
    "    if best_valid_loss > valid_loss:\n",
    "        print(\"-- SAVE Checkpoint --\")\n",
    "        print(\"Valid loss : {:.4f} -> {:.4f} \\n\".format(best_valid_loss,valid_loss ))\n",
    "        torch.save(model.state_dict(), check_path, _use_new_zipfile_serialization=False)\n",
    "        best_valid_mae = valid_mae\n",
    "        best_valid_loss =valid_loss\n",
    "        \n",
    "    \n",
    "    "
   ]
  },
  {
   "cell_type": "code",
   "execution_count": 47,
   "id": "c30d640d",
   "metadata": {},
   "outputs": [
    {
     "ename": "NameError",
     "evalue": "name 'dddd' is not defined",
     "output_type": "error",
     "traceback": [
      "\u001b[1;31m---------------------------------------------------------------------------\u001b[0m",
      "\u001b[1;31mNameError\u001b[0m                                 Traceback (most recent call last)",
      "\u001b[1;32m~\\AppData\\Local\\Temp/ipykernel_13028/3737125633.py\u001b[0m in \u001b[0;36m<module>\u001b[1;34m\u001b[0m\n\u001b[1;32m----> 1\u001b[1;33m \u001b[0mdddd\u001b[0m\u001b[1;33m\u001b[0m\u001b[1;33m\u001b[0m\u001b[0m\n\u001b[0m",
      "\u001b[1;31mNameError\u001b[0m: name 'dddd' is not defined"
     ]
    }
   ],
   "source": [
    "dddd"
   ]
  },
  {
   "cell_type": "markdown",
   "id": "b01e39bf",
   "metadata": {},
   "source": [
    "# validation 확인"
   ]
  },
  {
   "cell_type": "code",
   "execution_count": 79,
   "id": "2f8da1a8",
   "metadata": {},
   "outputs": [
    {
     "name": "stdout",
     "output_type": "stream",
     "text": [
      "Valid loss : 0.2043 / Valid MAE : 0.3411 \n",
      "\n"
     ]
    }
   ],
   "source": [
    "print(\"Valid loss : {:.4f} / Valid MAE : {:.4f} \\n\".format(best_valid_loss,best_valid_mae))"
   ]
  },
  {
   "cell_type": "code",
   "execution_count": 35,
   "id": "94abeb7b",
   "metadata": {},
   "outputs": [
    {
     "name": "stdout",
     "output_type": "stream",
     "text": [
      "Valid loss : 0.2425 / Valid MAE : 0.3903 \n",
      "\n"
     ]
    }
   ],
   "source": [
    "print(\"Valid loss : {:.4f} / Valid MAE : {:.4f} \\n\".format(best_valid_loss,best_valid_mae))"
   ]
  },
  {
   "cell_type": "markdown",
   "id": "a0a2834d",
   "metadata": {},
   "source": [
    "# TEST"
   ]
  },
  {
   "cell_type": "code",
   "execution_count": 80,
   "id": "42905079",
   "metadata": {},
   "outputs": [],
   "source": [
    "\n",
    "# 이전 5일치 가져오기.\n",
    "test_data_list = [x for x in range(95, 100)]\n",
    "\n",
    "test_data = my_df[my_df[\"Day\"].isin(test_data_list)]\n",
    "\n",
    "#test_data = test_data.drop([\"TurbID\", \"Day\"], axis = 1)\n",
    "test_data = test_data['Wspd']\n",
    "\n",
    "test_data = np.array(test_data).reshape(-1, train_x[0].shape[0],1)\n",
    "#train set 처럼 batch,720,11로 고치기\n"
   ]
  },
  {
   "cell_type": "code",
   "execution_count": 81,
   "id": "d4fb8be6",
   "metadata": {},
   "outputs": [
    {
     "data": {
      "text/plain": [
       "(1, 120, 1)"
      ]
     },
     "execution_count": 81,
     "metadata": {},
     "output_type": "execute_result"
    }
   ],
   "source": [
    "test_data.shape"
   ]
  },
  {
   "cell_type": "code",
   "execution_count": 82,
   "id": "d0ed76bb",
   "metadata": {},
   "outputs": [],
   "source": [
    "test_dataset = TimeDataset(test_data, None)\n",
    "\n",
    "test_loader = DataLoader(test_dataset, \n",
    "                          batch_size = BATCH_SIZE,\n",
    "                          shuffle=False)\n",
    "\n",
    "\n"
   ]
  },
  {
   "cell_type": "code",
   "execution_count": 83,
   "id": "63255878",
   "metadata": {},
   "outputs": [],
   "source": [
    "def predict(model, test_loader):\n",
    "    model.eval()\n",
    "    preds = []\n",
    "    with torch.no_grad():\n",
    "        for X in tqdm(iter(test_loader)):\n",
    "            X = X.to(DEVICE)\n",
    "            #print(X.size())\n",
    "            pred = model.predict(X, target_len=24)\n",
    "            preds += pred.cpu().tolist()\n",
    "    return np.array(preds)"
   ]
  },
  {
   "cell_type": "code",
   "execution_count": 84,
   "id": "466a8e3c",
   "metadata": {},
   "outputs": [
    {
     "data": {
      "text/plain": [
       "lstm_encoder_decoder(\n",
       "  (encoder): lstm_encoder(\n",
       "    (lstm): LSTM(1, 256, batch_first=True)\n",
       "  )\n",
       "  (decoder): lstm_decoder(\n",
       "    (lstm): LSTM(1, 256, batch_first=True)\n",
       "    (linear): Linear(in_features=256, out_features=1, bias=True)\n",
       "  )\n",
       ")"
      ]
     },
     "execution_count": 84,
     "metadata": {},
     "output_type": "execute_result"
    }
   ],
   "source": [
    "model = lstm_encoder_decoder(10,lstm_hidden_layer).to(DEVICE)\n",
    "best_checkpoint = torch.load('./checkpoint/checkpoint_seq2seq_onecol.pt')\n",
    "model.load_state_dict(best_checkpoint)\n",
    "model.eval()"
   ]
  },
  {
   "cell_type": "code",
   "execution_count": 95,
   "id": "cb758521",
   "metadata": {},
   "outputs": [
    {
     "name": "stderr",
     "output_type": "stream",
     "text": [
      "100%|███████████████████████████████████████████████████████████████████████████████████| 1/1 [00:00<00:00, 199.98it/s]\n"
     ]
    }
   ],
   "source": [
    "preds = predict(model, test_loader)\n",
    "preds = preds.reshape(-1)\n",
    "#preds = preds.reshape(-1)*global_std+global_mean"
   ]
  },
  {
   "cell_type": "code",
   "execution_count": 97,
   "id": "d4c957b8",
   "metadata": {},
   "outputs": [
    {
     "data": {
      "text/plain": [
       "array([5.24456596, 5.07692814, 4.48886347, 4.02956772, 3.72395182,\n",
       "       3.50616646, 3.32776451, 3.16870928, 3.02304363, 2.88852119,\n",
       "       2.76442671, 2.64924192, 2.54179811, 2.44101048, 2.3461504 ,\n",
       "       2.25624704, 2.1708169 , 2.08923531, 2.01124239, 1.93635428,\n",
       "       1.86384284, 1.79383421, 1.72584331, 1.65963519])"
      ]
     },
     "execution_count": 97,
     "metadata": {},
     "output_type": "execute_result"
    }
   ],
   "source": [
    "preds"
   ]
  },
  {
   "cell_type": "code",
   "execution_count": 86,
   "id": "eb90b880",
   "metadata": {
    "scrolled": true
   },
   "outputs": [
    {
     "data": {
      "text/plain": [
       "array([24.65185994, 24.06237864, 21.99450928, 20.37944269, 19.30477558,\n",
       "       18.5389556 , 17.91162338, 17.35232189, 16.84010353, 16.36706911,\n",
       "       15.93070352, 15.52566799, 15.14785281, 14.79344337, 14.45987759,\n",
       "       14.14374163, 13.84333525, 13.55646191, 13.28220778, 13.01887139,\n",
       "       12.76389234, 12.51771412, 12.27863106, 12.04581696])"
      ]
     },
     "execution_count": 86,
     "metadata": {},
     "output_type": "execute_result"
    }
   ],
   "source": [
    "preds"
   ]
  },
  {
   "cell_type": "code",
   "execution_count": 87,
   "id": "bd211b71",
   "metadata": {
    "scrolled": true
   },
   "outputs": [
    {
     "data": {
      "text/plain": [
       "(24,)"
      ]
     },
     "execution_count": 87,
     "metadata": {},
     "output_type": "execute_result"
    }
   ],
   "source": [
    "preds.shape"
   ]
  },
  {
   "cell_type": "code",
   "execution_count": 88,
   "id": "82bec2a4",
   "metadata": {},
   "outputs": [
    {
     "data": {
      "text/plain": [
       "Text(0.5, 1.0, 'TurbID : 21, Day:101')"
      ]
     },
     "execution_count": 88,
     "metadata": {},
     "output_type": "execute_result"
    },
    {
     "data": {
      "image/png": "[encoded data removed]",
      "text/plain": [
       "<Figure size 1440x360 with 1 Axes>"
      ]
     },
     "metadata": {
      "needs_background": "light"
     },
     "output_type": "display_data"
    }
   ],
   "source": [
    "# Tmstamp 당 Patv 추세를 확인.\n",
    "plot_data = my_df\n",
    "\n",
    "plt.figure(figsize=(20, 5))\n",
    "j = 101 # Day\n",
    "#for i in range(1, 135): # TurbID\n",
    "#    plt.plot(plot_data[(plot_data['TurbID']==i) & (plot_data['Day']==j)]['Tmstamp'], plot_data[(plot_data['TurbID']==i) & (plot_data['Day']==j)]['Patv'])\n",
    "#    plt.xticks([])\n",
    "plt.ylim([0,20])\n",
    "k = 21 # turb id\n",
    "plt.plot(plot_data[(plot_data['TurbID']==k) & (plot_data['Day']==j)]['Wspd'], linewidth=5.0,\n",
    "        label='real')\n",
    "plt.title(f'TurbID : {k}, Day:{j}')\n",
    "\n",
    "\n"
   ]
  },
  {
   "cell_type": "code",
   "execution_count": 89,
   "id": "68a6be54",
   "metadata": {},
   "outputs": [
    {
     "data": {
      "text/plain": [
       "Text(0.5, 1.0, 'TurbID : 21, Day:61')"
      ]
     },
     "execution_count": 89,
     "metadata": {},
     "output_type": "execute_result"
    },
    {
     "data": {
      "image/png": "[encoded data removed]",
      "text/plain": [
       "<Figure size 1440x360 with 1 Axes>"
      ]
     },
     "metadata": {
      "needs_background": "light"
     },
     "output_type": "display_data"
    }
   ],
   "source": [
    "# Tmstamp 당 Patv 추세를 확인.\n",
    "plot_data = my_df\n",
    "\n",
    "plt.figure(figsize=(20, 5))\n",
    "j = 61 # Day\n",
    "#for i in range(1, 135): # TurbID\n",
    "#    plt.plot(plot_data[(plot_data['TurbID']==i) & (plot_data['Day']==j)]['Tmstamp'], plot_data[(plot_data['TurbID']==i) & (plot_data['Day']==j)]['Patv'])\n",
    "#    plt.xticks([])\n",
    "plt.ylim([0,20])\n",
    "k = 21 # turb id\n",
    "plt.plot(plot_data[(plot_data['TurbID']==k) & (plot_data['Day']==j)]['Wspd'], linewidth=5.0,\n",
    "        label='real')\n",
    "plt.title(f'TurbID : {k}, Day:{j}')\n",
    "\n",
    "\n"
   ]
  },
  {
   "cell_type": "code",
   "execution_count": 91,
   "id": "462d66ba",
   "metadata": {},
   "outputs": [
    {
     "data": {
      "text/plain": [
       "(0.0, 30.0)"
      ]
     },
     "execution_count": 91,
     "metadata": {},
     "output_type": "execute_result"
    },
    {
     "data": {
      "image/png": "[encoded data removed]",
      "text/plain": [
       "<Figure size 432x288 with 1 Axes>"
      ]
     },
     "metadata": {
      "needs_background": "light"
     },
     "output_type": "display_data"
    }
   ],
   "source": [
    "plt.plot(preds[:24])\n",
    "plt.ylim([0,30])"
   ]
  },
  {
   "cell_type": "code",
   "execution_count": 47,
   "id": "3242ff57",
   "metadata": {},
   "outputs": [
    {
     "data": {
      "text/plain": [
       "(0.0, 20.0)"
      ]
     },
     "execution_count": 47,
     "metadata": {},
     "output_type": "execute_result"
    },
    {
     "data": {
      "image/png": "[encoded data removed]",
      "text/plain": [
       "<Figure size 432x288 with 1 Axes>"
      ]
     },
     "metadata": {
      "needs_background": "light"
     },
     "output_type": "display_data"
    }
   ],
   "source": [
    "plt.plot(preds[24:24*2])\n",
    "plt.ylim([0,20])"
   ]
  },
  {
   "cell_type": "code",
   "execution_count": null,
   "id": "35919698",
   "metadata": {},
   "outputs": [],
   "source": [
    "sample_submission[\"Patv\"] = preds\n",
    "sample_submission.to_csv(\"./submit.csv\", index = False)"
   ]
  },
  {
   "cell_type": "code",
   "execution_count": null,
   "id": "38fd8f4b",
   "metadata": {},
   "outputs": [],
   "source": []
  }
 ],
 "metadata": {
  "kernelspec": {
   "display_name": "Python 3 (ipykernel)",
   "language": "python",
   "name": "python3"
  },
  "language_info": {
   "codemirror_mode": {
    "name": "ipython",
    "version": 3
   },
   "file_extension": ".py",
   "mimetype": "text/x-python",
   "name": "python",
   "nbconvert_exporter": "python",
   "pygments_lexer": "ipython3",
   "version": "3.8.12"
  },
  "toc": {
   "base_numbering": 1,
   "nav_menu": {},
   "number_sections": true,
   "sideBar": true,
   "skip_h1_title": false,
   "title_cell": "Table of Contents",
   "title_sidebar": "Contents",
   "toc_cell": false,
   "toc_position": {
    "height": "calc(100% - 180px)",
    "left": "10px",
    "top": "150px",
    "width": "211.875px"
   },
   "toc_section_display": true,
   "toc_window_display": true
  }
 },
 "nbformat": 4,
 "nbformat_minor": 5
}
