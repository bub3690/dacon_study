{
 "cells": [
  {
   "cell_type": "code",
   "execution_count": 1,
   "id": "290e3600",
   "metadata": {},
   "outputs": [
    {
     "name": "stdout",
     "output_type": "stream",
     "text": [
      "Collecting darts\n",
      "  Downloading darts-0.20.0-py3-none-any.whl (400 kB)\n",
      "Requirement already satisfied: matplotlib>=3.3.0 in c:\\users\\user\\anaconda3\\envs\\local_torch\\lib\\site-packages (from darts) (3.5.1)\n",
      "Collecting statsforecast>=0.5.2\n",
      "  Downloading statsforecast-0.5.6-py3-none-any.whl (36 kB)\n",
      "Requirement already satisfied: torch>=1.8.0 in c:\\users\\user\\anaconda3\\envs\\local_torch\\lib\\site-packages (from darts) (1.10.2)\n",
      "Collecting xarray>=0.17.0\n",
      "  Downloading xarray-2022.3.0-py3-none-any.whl (870 kB)\n",
      "Requirement already satisfied: requests>=2.22.0 in c:\\users\\user\\anaconda3\\envs\\local_torch\\lib\\site-packages (from darts) (2.27.1)\n",
      "Requirement already satisfied: statsmodels>=0.13.0 in c:\\users\\user\\anaconda3\\envs\\local_torch\\lib\\site-packages (from darts) (0.13.2)\n",
      "Requirement already satisfied: tqdm>=4.60.0 in c:\\users\\user\\anaconda3\\envs\\local_torch\\lib\\site-packages (from darts) (4.63.0)\n",
      "Collecting pmdarima>=1.8.0\n",
      "  Downloading pmdarima-1.8.5-cp38-cp38-win_amd64.whl (602 kB)\n",
      "Requirement already satisfied: joblib>=0.16.0 in c:\\users\\user\\anaconda3\\envs\\local_torch\\lib\\site-packages (from darts) (1.1.0)\n",
      "Requirement already satisfied: scipy>=1.3.2 in c:\\users\\user\\anaconda3\\envs\\local_torch\\lib\\site-packages (from darts) (1.8.0)\n",
      "Collecting lightgbm>=2.2.3\n",
      "  Downloading lightgbm-3.3.2-py3-none-win_amd64.whl (1.0 MB)\n",
      "Requirement already satisfied: pandas>=1.0.5 in c:\\users\\user\\anaconda3\\envs\\local_torch\\lib\\site-packages (from darts) (1.4.1)\n",
      "Requirement already satisfied: ipython>=7.0.0 in c:\\users\\user\\anaconda3\\envs\\local_torch\\lib\\site-packages (from darts) (7.31.1)\n",
      "Collecting holidays>=0.11.1\n",
      "  Downloading holidays-0.14.2-py3-none-any.whl (179 kB)\n",
      "Requirement already satisfied: scikit-learn>=1.0.1 in c:\\users\\user\\anaconda3\\envs\\local_torch\\lib\\site-packages (from darts) (1.0.2)\n",
      "Collecting pytorch-lightning>=1.5.0\n",
      "  Downloading pytorch_lightning-1.6.4-py3-none-any.whl (585 kB)\n",
      "Collecting tbats>=1.1.0\n",
      "  Downloading tbats-1.1.0-py3-none-any.whl (43 kB)\n",
      "Requirement already satisfied: numpy>=1.19.0 in c:\\users\\user\\anaconda3\\envs\\local_torch\\lib\\site-packages (from darts) (1.21.5)\n",
      "Collecting nfoursid>=1.0.0\n",
      "  Downloading nfoursid-1.0.1-py3-none-any.whl (16 kB)\n",
      "Requirement already satisfied: python-dateutil in c:\\users\\user\\anaconda3\\envs\\local_torch\\lib\\site-packages (from holidays>=0.11.1->darts) (2.8.2)\n",
      "Collecting korean-lunar-calendar\n",
      "  Downloading korean_lunar_calendar-0.2.1-py3-none-any.whl (8.0 kB)\n",
      "Collecting hijri-converter\n",
      "  Downloading hijri_converter-2.2.4-py3-none-any.whl (14 kB)\n",
      "Collecting convertdate>=2.3.0\n",
      "  Downloading convertdate-2.4.0-py3-none-any.whl (47 kB)\n",
      "Collecting pymeeus<=1,>=0.3.13\n",
      "  Downloading PyMeeus-0.5.11.tar.gz (5.4 MB)\n",
      "Requirement already satisfied: colorama in c:\\users\\user\\anaconda3\\envs\\local_torch\\lib\\site-packages (from ipython>=7.0.0->darts) (0.4.4)\n",
      "Requirement already satisfied: traitlets>=4.2 in c:\\users\\user\\anaconda3\\envs\\local_torch\\lib\\site-packages (from ipython>=7.0.0->darts) (5.1.1)\n",
      "Requirement already satisfied: backcall in c:\\users\\user\\anaconda3\\envs\\local_torch\\lib\\site-packages (from ipython>=7.0.0->darts) (0.2.0)\n",
      "Requirement already satisfied: prompt-toolkit!=3.0.0,!=3.0.1,<3.1.0,>=2.0.0 in c:\\users\\user\\anaconda3\\envs\\local_torch\\lib\\site-packages (from ipython>=7.0.0->darts) (3.0.20)\n",
      "Requirement already satisfied: pygments in c:\\users\\user\\anaconda3\\envs\\local_torch\\lib\\site-packages (from ipython>=7.0.0->darts) (2.11.2)\n",
      "Requirement already satisfied: decorator in c:\\users\\user\\anaconda3\\envs\\local_torch\\lib\\site-packages (from ipython>=7.0.0->darts) (5.1.1)\n",
      "Requirement already satisfied: setuptools>=18.5 in c:\\users\\user\\anaconda3\\envs\\local_torch\\lib\\site-packages (from ipython>=7.0.0->darts) (58.0.4)\n",
      "Requirement already satisfied: matplotlib-inline in c:\\users\\user\\anaconda3\\envs\\local_torch\\lib\\site-packages (from ipython>=7.0.0->darts) (0.1.2)\n",
      "Requirement already satisfied: pickleshare in c:\\users\\user\\anaconda3\\envs\\local_torch\\lib\\site-packages (from ipython>=7.0.0->darts) (0.7.5)\n",
      "Requirement already satisfied: jedi>=0.16 in c:\\users\\user\\anaconda3\\envs\\local_torch\\lib\\site-packages (from ipython>=7.0.0->darts) (0.18.1)\n",
      "Requirement already satisfied: parso<0.9.0,>=0.8.0 in c:\\users\\user\\anaconda3\\envs\\local_torch\\lib\\site-packages (from jedi>=0.16->ipython>=7.0.0->darts) (0.8.3)\n",
      "Requirement already satisfied: wheel in c:\\users\\user\\anaconda3\\envs\\local_torch\\lib\\site-packages (from lightgbm>=2.2.3->darts) (0.37.1)\n",
      "Requirement already satisfied: pillow>=6.2.0 in c:\\users\\user\\anaconda3\\envs\\local_torch\\lib\\site-packages (from matplotlib>=3.3.0->darts) (8.4.0)\n",
      "Requirement already satisfied: fonttools>=4.22.0 in c:\\users\\user\\anaconda3\\envs\\local_torch\\lib\\site-packages (from matplotlib>=3.3.0->darts) (4.29.1)\n",
      "Requirement already satisfied: pyparsing>=2.2.1 in c:\\users\\user\\anaconda3\\envs\\local_torch\\lib\\site-packages (from matplotlib>=3.3.0->darts) (3.0.4)\n",
      "Requirement already satisfied: packaging>=20.0 in c:\\users\\user\\anaconda3\\envs\\local_torch\\lib\\site-packages (from matplotlib>=3.3.0->darts) (21.3)\n",
      "Requirement already satisfied: cycler>=0.10 in c:\\users\\user\\anaconda3\\envs\\local_torch\\lib\\site-packages (from matplotlib>=3.3.0->darts) (0.11.0)\n",
      "Requirement already satisfied: kiwisolver>=1.0.1 in c:\\users\\user\\anaconda3\\envs\\local_torch\\lib\\site-packages (from matplotlib>=3.3.0->darts) (1.3.2)\n",
      "Requirement already satisfied: pytz>=2020.1 in c:\\users\\user\\anaconda3\\envs\\local_torch\\lib\\site-packages (from pandas>=1.0.5->darts) (2021.3)\n",
      "Requirement already satisfied: urllib3 in c:\\users\\user\\anaconda3\\envs\\local_torch\\lib\\site-packages (from pmdarima>=1.8.0->darts) (1.26.8)\n",
      "Requirement already satisfied: Cython!=0.29.18,>=0.29 in c:\\users\\user\\anaconda3\\envs\\local_torch\\lib\\site-packages (from pmdarima>=1.8.0->darts) (0.29.28)\n",
      "Requirement already satisfied: wcwidth in c:\\users\\user\\anaconda3\\envs\\local_torch\\lib\\site-packages (from prompt-toolkit!=3.0.0,!=3.0.1,<3.1.0,>=2.0.0->ipython>=7.0.0->darts) (0.2.5)\n",
      "Requirement already satisfied: six>=1.5 in c:\\users\\user\\anaconda3\\envs\\local_torch\\lib\\site-packages (from python-dateutil->holidays>=0.11.1->darts) (1.16.0)\n",
      "Requirement already satisfied: fsspec[http]!=2021.06.0,>=2021.05.0 in c:\\users\\user\\anaconda3\\envs\\local_torch\\lib\\site-packages (from pytorch-lightning>=1.5.0->darts) (2022.2.0)\n",
      "Requirement already satisfied: PyYAML>=5.4 in c:\\users\\user\\anaconda3\\envs\\local_torch\\lib\\site-packages (from pytorch-lightning>=1.5.0->darts) (6.0)\n",
      "Requirement already satisfied: tensorboard>=2.2.0 in c:\\users\\user\\anaconda3\\envs\\local_torch\\lib\\site-packages (from pytorch-lightning>=1.5.0->darts) (2.8.0)\n",
      "Collecting torchmetrics>=0.4.1\n",
      "  Downloading torchmetrics-0.9.2-py3-none-any.whl (419 kB)\n",
      "Requirement already satisfied: protobuf<=3.20.1 in c:\\users\\user\\anaconda3\\envs\\local_torch\\lib\\site-packages (from pytorch-lightning>=1.5.0->darts) (3.19.4)\n",
      "Collecting typing-extensions>=4.0.0\n",
      "  Downloading typing_extensions-4.3.0-py3-none-any.whl (25 kB)\n",
      "Collecting pyDeprecate>=0.3.1\n",
      "  Downloading pyDeprecate-0.3.2-py3-none-any.whl (10 kB)\n",
      "Requirement already satisfied: aiohttp in c:\\users\\user\\anaconda3\\envs\\local_torch\\lib\\site-packages (from fsspec[http]!=2021.06.0,>=2021.05.0->pytorch-lightning>=1.5.0->darts) (3.8.1)\n",
      "Requirement already satisfied: certifi>=2017.4.17 in c:\\users\\user\\anaconda3\\envs\\local_torch\\lib\\site-packages (from requests>=2.22.0->darts) (2021.10.8)\n",
      "Requirement already satisfied: idna<4,>=2.5 in c:\\users\\user\\anaconda3\\envs\\local_torch\\lib\\site-packages (from requests>=2.22.0->darts) (3.3)\n",
      "Requirement already satisfied: charset-normalizer~=2.0.0 in c:\\users\\user\\anaconda3\\envs\\local_torch\\lib\\site-packages (from requests>=2.22.0->darts) (2.0.12)\n",
      "Requirement already satisfied: threadpoolctl>=2.0.0 in c:\\users\\user\\anaconda3\\envs\\local_torch\\lib\\site-packages (from scikit-learn>=1.0.1->darts) (3.1.0)\n",
      "Requirement already satisfied: numba in c:\\users\\user\\anaconda3\\envs\\local_torch\\lib\\site-packages (from statsforecast>=0.5.2->darts) (0.55.1)\n",
      "Requirement already satisfied: patsy>=0.5.2 in c:\\users\\user\\anaconda3\\envs\\local_torch\\lib\\site-packages (from statsmodels>=0.13.0->darts) (0.5.2)\n",
      "Requirement already satisfied: google-auth-oauthlib<0.5,>=0.4.1 in c:\\users\\user\\anaconda3\\envs\\local_torch\\lib\\site-packages (from tensorboard>=2.2.0->pytorch-lightning>=1.5.0->darts) (0.4.6)\n",
      "Requirement already satisfied: google-auth<3,>=1.6.3 in c:\\users\\user\\anaconda3\\envs\\local_torch\\lib\\site-packages (from tensorboard>=2.2.0->pytorch-lightning>=1.5.0->darts) (2.6.0)\n",
      "Requirement already satisfied: markdown>=2.6.8 in c:\\users\\user\\anaconda3\\envs\\local_torch\\lib\\site-packages (from tensorboard>=2.2.0->pytorch-lightning>=1.5.0->darts) (3.3.6)\n",
      "Requirement already satisfied: absl-py>=0.4 in c:\\users\\user\\anaconda3\\envs\\local_torch\\lib\\site-packages (from tensorboard>=2.2.0->pytorch-lightning>=1.5.0->darts) (1.0.0)\n",
      "Requirement already satisfied: grpcio>=1.24.3 in c:\\users\\user\\anaconda3\\envs\\local_torch\\lib\\site-packages (from tensorboard>=2.2.0->pytorch-lightning>=1.5.0->darts) (1.44.0)\n",
      "Requirement already satisfied: werkzeug>=0.11.15 in c:\\users\\user\\anaconda3\\envs\\local_torch\\lib\\site-packages (from tensorboard>=2.2.0->pytorch-lightning>=1.5.0->darts) (2.0.3)\n",
      "Requirement already satisfied: tensorboard-plugin-wit>=1.6.0 in c:\\users\\user\\anaconda3\\envs\\local_torch\\lib\\site-packages (from tensorboard>=2.2.0->pytorch-lightning>=1.5.0->darts) (1.8.1)\n",
      "Requirement already satisfied: tensorboard-data-server<0.7.0,>=0.6.0 in c:\\users\\user\\anaconda3\\envs\\local_torch\\lib\\site-packages (from tensorboard>=2.2.0->pytorch-lightning>=1.5.0->darts) (0.6.1)\n",
      "Requirement already satisfied: rsa<5,>=3.1.4 in c:\\users\\user\\anaconda3\\envs\\local_torch\\lib\\site-packages (from google-auth<3,>=1.6.3->tensorboard>=2.2.0->pytorch-lightning>=1.5.0->darts) (4.8)\n",
      "Requirement already satisfied: cachetools<6.0,>=2.0.0 in c:\\users\\user\\anaconda3\\envs\\local_torch\\lib\\site-packages (from google-auth<3,>=1.6.3->tensorboard>=2.2.0->pytorch-lightning>=1.5.0->darts) (5.0.0)\n",
      "Requirement already satisfied: pyasn1-modules>=0.2.1 in c:\\users\\user\\anaconda3\\envs\\local_torch\\lib\\site-packages (from google-auth<3,>=1.6.3->tensorboard>=2.2.0->pytorch-lightning>=1.5.0->darts) (0.2.8)\n",
      "Requirement already satisfied: requests-oauthlib>=0.7.0 in c:\\users\\user\\anaconda3\\envs\\local_torch\\lib\\site-packages (from google-auth-oauthlib<0.5,>=0.4.1->tensorboard>=2.2.0->pytorch-lightning>=1.5.0->darts) (1.3.1)\n",
      "Requirement already satisfied: importlib-metadata>=4.4 in c:\\users\\user\\anaconda3\\envs\\local_torch\\lib\\site-packages (from markdown>=2.6.8->tensorboard>=2.2.0->pytorch-lightning>=1.5.0->darts) (4.8.2)\n",
      "Requirement already satisfied: zipp>=0.5 in c:\\users\\user\\anaconda3\\envs\\local_torch\\lib\\site-packages (from importlib-metadata>=4.4->markdown>=2.6.8->tensorboard>=2.2.0->pytorch-lightning>=1.5.0->darts) (3.7.0)\n",
      "Requirement already satisfied: pyasn1<0.5.0,>=0.4.6 in c:\\users\\user\\anaconda3\\envs\\local_torch\\lib\\site-packages (from pyasn1-modules>=0.2.1->google-auth<3,>=1.6.3->tensorboard>=2.2.0->pytorch-lightning>=1.5.0->darts) (0.4.8)\n",
      "Requirement already satisfied: oauthlib>=3.0.0 in c:\\users\\user\\anaconda3\\envs\\local_torch\\lib\\site-packages (from requests-oauthlib>=0.7.0->google-auth-oauthlib<0.5,>=0.4.1->tensorboard>=2.2.0->pytorch-lightning>=1.5.0->darts) (3.2.0)\n",
      "Requirement already satisfied: aiosignal>=1.1.2 in c:\\users\\user\\anaconda3\\envs\\local_torch\\lib\\site-packages (from aiohttp->fsspec[http]!=2021.06.0,>=2021.05.0->pytorch-lightning>=1.5.0->darts) (1.2.0)\n",
      "Requirement already satisfied: async-timeout<5.0,>=4.0.0a3 in c:\\users\\user\\anaconda3\\envs\\local_torch\\lib\\site-packages (from aiohttp->fsspec[http]!=2021.06.0,>=2021.05.0->pytorch-lightning>=1.5.0->darts) (4.0.2)\n",
      "Requirement already satisfied: attrs>=17.3.0 in c:\\users\\user\\anaconda3\\envs\\local_torch\\lib\\site-packages (from aiohttp->fsspec[http]!=2021.06.0,>=2021.05.0->pytorch-lightning>=1.5.0->darts) (21.4.0)\n",
      "Requirement already satisfied: yarl<2.0,>=1.0 in c:\\users\\user\\anaconda3\\envs\\local_torch\\lib\\site-packages (from aiohttp->fsspec[http]!=2021.06.0,>=2021.05.0->pytorch-lightning>=1.5.0->darts) (1.7.2)\n",
      "Requirement already satisfied: frozenlist>=1.1.1 in c:\\users\\user\\anaconda3\\envs\\local_torch\\lib\\site-packages (from aiohttp->fsspec[http]!=2021.06.0,>=2021.05.0->pytorch-lightning>=1.5.0->darts) (1.3.0)\n",
      "Requirement already satisfied: multidict<7.0,>=4.5 in c:\\users\\user\\anaconda3\\envs\\local_torch\\lib\\site-packages (from aiohttp->fsspec[http]!=2021.06.0,>=2021.05.0->pytorch-lightning>=1.5.0->darts) (6.0.2)\n",
      "Requirement already satisfied: llvmlite<0.39,>=0.38.0rc1 in c:\\users\\user\\anaconda3\\envs\\local_torch\\lib\\site-packages (from numba->statsforecast>=0.5.2->darts) (0.38.0)\n",
      "Building wheels for collected packages: pymeeus\n",
      "  Building wheel for pymeeus (setup.py): started\n",
      "  Building wheel for pymeeus (setup.py): finished with status 'done'\n",
      "  Created wheel for pymeeus: filename=PyMeeus-0.5.11-py3-none-any.whl size=730985 sha256=319b6c65245e88040b9b6cab49dcaf40f24100424ffb536cd45126aa744c9b92\n",
      "  Stored in directory: c:\\users\\user\\appdata\\local\\pip\\cache\\wheels\\a0\\8b\\b2\\810ae5a6f970c8be4725353400d643c90de1c0f023a9884ee7\n",
      "Successfully built pymeeus\n",
      "Installing collected packages: typing-extensions, pymeeus, torchmetrics, pyDeprecate, pmdarima, korean-lunar-calendar, hijri-converter, convertdate, xarray, tbats, statsforecast, pytorch-lightning, nfoursid, lightgbm, holidays, darts\n",
      "  Attempting uninstall: typing-extensions\n",
      "    Found existing installation: typing-extensions 3.10.0.2\n",
      "    Uninstalling typing-extensions-3.10.0.2:\n",
      "      Successfully uninstalled typing-extensions-3.10.0.2\n",
      "Successfully installed convertdate-2.4.0 darts-0.20.0 hijri-converter-2.2.4 holidays-0.14.2 korean-lunar-calendar-0.2.1 lightgbm-3.3.2 nfoursid-1.0.1 pmdarima-1.8.5 pyDeprecate-0.3.2 pymeeus-0.5.11 pytorch-lightning-1.6.4 statsforecast-0.5.6 tbats-1.1.0 torchmetrics-0.9.2 typing-extensions-4.3.0 xarray-2022.3.0\n"
     ]
    }
   ],
   "source": [
    "!pip install darts"
   ]
  },
  {
   "cell_type": "code",
   "execution_count": 28,
   "id": "0593b2f3",
   "metadata": {},
   "outputs": [
    {
     "name": "stdout",
     "output_type": "stream",
     "text": [
      "Using Pytorch version :  1.10.2  Device :  cuda\n"
     ]
    }
   ],
   "source": [
    "import torch\n",
    "import matplotlib.pyplot as plt\n",
    "import numpy as np\n",
    "import torch\n",
    "import torch.nn as nn # 인공 신경망 모델들 모아놓은 모듈\n",
    "import torch.nn.functional as F #그중 자주 쓰이는것들을 F로\n",
    "from torch.utils.data import Dataset, DataLoader\n",
    "import pandas as pd\n",
    "import os\n",
    "from glob import glob\n",
    "import sys\n",
    "\n",
    "\n",
    "if torch.cuda.is_available():\n",
    "    DEVICE = torch.device('cuda')\n",
    "else:\n",
    "    DEVICE = torch.device('cpu')\n",
    "#DEVICE = torch.device('cpu')\n",
    "print('Using Pytorch version : ',torch.__version__,' Device : ',DEVICE)"
   ]
  },
  {
   "cell_type": "code",
   "execution_count": 29,
   "id": "8cdbd51a",
   "metadata": {},
   "outputs": [],
   "source": [
    "from tqdm import tqdm\n",
    "import matplotlib.pyplot as plt\n",
    "from statsmodels.graphics.tsaplots import plot_acf, plot_pacf"
   ]
  },
  {
   "cell_type": "code",
   "execution_count": 30,
   "id": "de6c0535",
   "metadata": {},
   "outputs": [],
   "source": [
    "train_data = pd.read_csv(\"data/train_data.csv\")\n",
    "sample_submission = pd.read_csv(\"data/sample_submission.csv\")"
   ]
  },
  {
   "cell_type": "code",
   "execution_count": 31,
   "id": "63bee79a",
   "metadata": {},
   "outputs": [
    {
     "data": {
      "text/plain": [
       "TurbID         0\n",
       "Day            0\n",
       "Tmstamp        0\n",
       "Wspd       45587\n",
       "Wdir       45587\n",
       "Etmp       45587\n",
       "Itmp       45587\n",
       "Ndir       45587\n",
       "Pab1       45587\n",
       "Pab2       45587\n",
       "Pab3       45587\n",
       "Prtv       45587\n",
       "Patv       45587\n",
       "dtype: int64"
      ]
     },
     "execution_count": 31,
     "metadata": {},
     "output_type": "execute_result"
    }
   ],
   "source": [
    "# train_data의 결측값 확인\n",
    "train_data.isnull().sum()"
   ]
  },
  {
   "cell_type": "code",
   "execution_count": 32,
   "id": "181a9c65",
   "metadata": {},
   "outputs": [
    {
     "name": "stdout",
     "output_type": "stream",
     "text": [
      "TurbID     0\n",
      "Day        0\n",
      "Tmstamp    0\n",
      "Wspd       0\n",
      "Wdir       0\n",
      "Etmp       0\n",
      "Itmp       0\n",
      "Ndir       0\n",
      "Pab1       0\n",
      "Pab2       0\n",
      "Pab3       0\n",
      "Prtv       0\n",
      "Patv       0\n",
      "dtype: int64\n"
     ]
    }
   ],
   "source": [
    "# method : 결측값을 변경할 방식입니다. bfill로 할경우 결측값을 바로 아래 값과 동일하게 변경합니다.\n",
    "# 결측값 처리\n",
    "train_data = train_data.fillna(method = 'bfill')\n",
    "\n",
    "print(train_data.isnull().sum())"
   ]
  },
  {
   "cell_type": "code",
   "execution_count": 33,
   "id": "b5a19531",
   "metadata": {},
   "outputs": [],
   "source": [
    "train_data = train_data[train_data['TurbID']==21]"
   ]
  },
  {
   "cell_type": "code",
   "execution_count": 35,
   "id": "db528e8b",
   "metadata": {},
   "outputs": [],
   "source": [
    "train_data = train_data[['Day','Tmstamp','Wspd']]"
   ]
  },
  {
   "cell_type": "code",
   "execution_count": 36,
   "id": "35ef9ed1",
   "metadata": {},
   "outputs": [
    {
     "data": {
      "text/html": [
       "<div>\n",
       "<style scoped>\n",
       "    .dataframe tbody tr th:only-of-type {\n",
       "        vertical-align: middle;\n",
       "    }\n",
       "\n",
       "    .dataframe tbody tr th {\n",
       "        vertical-align: top;\n",
       "    }\n",
       "\n",
       "    .dataframe thead th {\n",
       "        text-align: right;\n",
       "    }\n",
       "</style>\n",
       "<table border=\"1\" class=\"dataframe\">\n",
       "  <thead>\n",
       "    <tr style=\"text-align: right;\">\n",
       "      <th></th>\n",
       "      <th>Day</th>\n",
       "      <th>Tmstamp</th>\n",
       "      <th>Wspd</th>\n",
       "    </tr>\n",
       "  </thead>\n",
       "  <tbody>\n",
       "    <tr>\n",
       "      <th>576000</th>\n",
       "      <td>1</td>\n",
       "      <td>00:00</td>\n",
       "      <td>5.46</td>\n",
       "    </tr>\n",
       "    <tr>\n",
       "      <th>576001</th>\n",
       "      <td>1</td>\n",
       "      <td>00:10</td>\n",
       "      <td>5.46</td>\n",
       "    </tr>\n",
       "    <tr>\n",
       "      <th>576002</th>\n",
       "      <td>1</td>\n",
       "      <td>00:20</td>\n",
       "      <td>5.11</td>\n",
       "    </tr>\n",
       "    <tr>\n",
       "      <th>576003</th>\n",
       "      <td>1</td>\n",
       "      <td>00:30</td>\n",
       "      <td>4.80</td>\n",
       "    </tr>\n",
       "    <tr>\n",
       "      <th>576004</th>\n",
       "      <td>1</td>\n",
       "      <td>00:40</td>\n",
       "      <td>4.74</td>\n",
       "    </tr>\n",
       "  </tbody>\n",
       "</table>\n",
       "</div>"
      ],
      "text/plain": [
       "        Day Tmstamp  Wspd\n",
       "576000    1   00:00  5.46\n",
       "576001    1   00:10  5.46\n",
       "576002    1   00:20  5.11\n",
       "576003    1   00:30  4.80\n",
       "576004    1   00:40  4.74"
      ]
     },
     "execution_count": 36,
     "metadata": {},
     "output_type": "execute_result"
    }
   ],
   "source": [
    "train_data.head()"
   ]
  },
  {
   "cell_type": "code",
   "execution_count": 23,
   "id": "728231e3",
   "metadata": {},
   "outputs": [],
   "source": [
    "# 한 Turb당 194 line\n",
    "# label은 2일.로 나눠야함.\n",
    "\n",
    "def make_train_data(data):\n",
    "    train_x, train_y = [], []\n",
    "        tmp_data = data[data[\"TurbID\"] == i]\n",
    "        for j in range(1, 195): # 1~195 (1~194까지?)\n",
    "            \n",
    "            # train data ==> 5일 단위\n",
    "            # label data ==> 2일 단위\n",
    "            day_list = [x for x in range(j, j+ 5)]\n",
    "            label_day_list = [y for y in range(j+5, j + 7)]\n",
    "            \n",
    "            train_tmp = tmp_data[tmp_data[\"Day\"].isin(day_list)]\n",
    "            label_tmp = tmp_data[tmp_data[\"Day\"].isin(label_day_list)][\"Patv\"]\n",
    "            \n",
    "            # feature 선택 및 제거\n",
    "            train_tmp = train_tmp.drop([\"Day\"], axis = 1)\n",
    "            \n",
    "            train_x.append(np.array(train_tmp))\n",
    "            train_y.append(np.array(label_tmp))\n",
    "            \n",
    "    return train_x, train_y"
   ]
  },
  {
   "cell_type": "code",
   "execution_count": 37,
   "id": "43f3459e",
   "metadata": {},
   "outputs": [],
   "source": [
    "# time stamp label encoding\n",
    "tms_list = list(pd.unique(train_data[\"Tmstamp\"]))\n",
    "\n",
    "train_data[\"Tmstamp\"] = train_data[\"Tmstamp\"].apply(lambda x : tms_list.index(x))\n",
    "\n",
    "#train_x, train_y = make_train_data(train_data)"
   ]
  },
  {
   "cell_type": "code",
   "execution_count": 38,
   "id": "62bbde0a",
   "metadata": {},
   "outputs": [
    {
     "data": {
      "text/html": [
       "<div>\n",
       "<style scoped>\n",
       "    .dataframe tbody tr th:only-of-type {\n",
       "        vertical-align: middle;\n",
       "    }\n",
       "\n",
       "    .dataframe tbody tr th {\n",
       "        vertical-align: top;\n",
       "    }\n",
       "\n",
       "    .dataframe thead th {\n",
       "        text-align: right;\n",
       "    }\n",
       "</style>\n",
       "<table border=\"1\" class=\"dataframe\">\n",
       "  <thead>\n",
       "    <tr style=\"text-align: right;\">\n",
       "      <th></th>\n",
       "      <th>Day</th>\n",
       "      <th>Tmstamp</th>\n",
       "      <th>Wspd</th>\n",
       "    </tr>\n",
       "  </thead>\n",
       "  <tbody>\n",
       "    <tr>\n",
       "      <th>576000</th>\n",
       "      <td>1</td>\n",
       "      <td>0</td>\n",
       "      <td>5.46</td>\n",
       "    </tr>\n",
       "    <tr>\n",
       "      <th>576001</th>\n",
       "      <td>1</td>\n",
       "      <td>1</td>\n",
       "      <td>5.46</td>\n",
       "    </tr>\n",
       "    <tr>\n",
       "      <th>576002</th>\n",
       "      <td>1</td>\n",
       "      <td>2</td>\n",
       "      <td>5.11</td>\n",
       "    </tr>\n",
       "    <tr>\n",
       "      <th>576003</th>\n",
       "      <td>1</td>\n",
       "      <td>3</td>\n",
       "      <td>4.80</td>\n",
       "    </tr>\n",
       "    <tr>\n",
       "      <th>576004</th>\n",
       "      <td>1</td>\n",
       "      <td>4</td>\n",
       "      <td>4.74</td>\n",
       "    </tr>\n",
       "  </tbody>\n",
       "</table>\n",
       "</div>"
      ],
      "text/plain": [
       "        Day  Tmstamp  Wspd\n",
       "576000    1        0  5.46\n",
       "576001    1        1  5.46\n",
       "576002    1        2  5.11\n",
       "576003    1        3  4.80\n",
       "576004    1        4  4.74"
      ]
     },
     "execution_count": 38,
     "metadata": {},
     "output_type": "execute_result"
    }
   ],
   "source": [
    "train_data.head()"
   ]
  },
  {
   "cell_type": "markdown",
   "id": "ed299a76",
   "metadata": {},
   "source": [
    "# acf, pacf\n",
    "\n",
    "비정상성을 제거하는 모델 ARIMA\n",
    "\n",
    "- p : AR이 몇번째 까지 과거를 보는지\n",
    "- d : 차분에 대한 파라미터\n",
    "- q:  MR이 몇번째 과거까지 보는지"
   ]
  },
  {
   "cell_type": "code",
   "execution_count": 43,
   "id": "ca2f186e",
   "metadata": {},
   "outputs": [
    {
     "data": {
      "image/png": "[encoded data removed]",
      "text/plain": [
       "<Figure size 432x288 with 1 Axes>"
      ]
     },
     "metadata": {
      "needs_background": "light"
     },
     "output_type": "display_data"
    }
   ],
   "source": [
    "plot_acf(train_data['Wspd'])\n",
    "plt.show()"
   ]
  },
  {
   "cell_type": "code",
   "execution_count": 44,
   "id": "f6ba11fe",
   "metadata": {},
   "outputs": [
    {
     "name": "stderr",
     "output_type": "stream",
     "text": [
      "C:\\Users\\USER\\anaconda3\\envs\\local_torch\\lib\\site-packages\\statsmodels\\graphics\\tsaplots.py:348: FutureWarning: The default method 'yw' can produce PACF values outside of the [-1,1] interval. After 0.13, the default will change tounadjusted Yule-Walker ('ywm'). You can use this method now by setting method='ywm'.\n",
      "  warnings.warn(\n"
     ]
    },
    {
     "data": {
      "image/png": "[encoded data removed]",
      "text/plain": [
       "<Figure size 432x288 with 1 Axes>"
      ]
     },
     "metadata": {
      "needs_background": "light"
     },
     "output_type": "display_data"
    }
   ],
   "source": [
    "plot_pacf(train_data['Wspd'])\n",
    "plt.show()"
   ]
  }
 ],
 "metadata": {
  "kernelspec": {
   "display_name": "Python 3 (ipykernel)",
   "language": "python",
   "name": "python3"
  },
  "language_info": {
   "codemirror_mode": {
    "name": "ipython",
    "version": 3
   },
   "file_extension": ".py",
   "mimetype": "text/x-python",
   "name": "python",
   "nbconvert_exporter": "python",
   "pygments_lexer": "ipython3",
   "version": "3.8.12"
  },
  "toc": {
   "base_numbering": 1,
   "nav_menu": {},
   "number_sections": true,
   "sideBar": true,
   "skip_h1_title": false,
   "title_cell": "Table of Contents",
   "title_sidebar": "Contents",
   "toc_cell": false,
   "toc_position": {},
   "toc_section_display": true,
   "toc_window_display": false
  }
 },
 "nbformat": 4,
 "nbformat_minor": 5
}
