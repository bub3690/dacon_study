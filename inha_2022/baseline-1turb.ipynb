{
 "cells": [
  {
   "cell_type": "code",
   "execution_count": 85,
   "id": "aae1bd5f",
   "metadata": {},
   "outputs": [
    {
     "name": "stdout",
     "output_type": "stream",
     "text": [
      "Using Pytorch version :  1.10.2  Device :  cuda\n"
     ]
    }
   ],
   "source": [
    "import torch\n",
    "import matplotlib.pyplot as plt\n",
    "import numpy as np\n",
    "import torch\n",
    "import torch.nn as nn # 인공 신경망 모델들 모아놓은 모듈\n",
    "import torch.nn.functional as F #그중 자주 쓰이는것들을 F로\n",
    "from torch.utils.data import Dataset, DataLoader\n",
    "import pandas as pd\n",
    "import os\n",
    "from glob import glob\n",
    "import sys\n",
    "from sklearn.model_selection import train_test_split # train , test 분리에 사용.\n",
    "\n",
    "if torch.cuda.is_available():\n",
    "    DEVICE = torch.device('cuda')\n",
    "else:\n",
    "    DEVICE = torch.device('cpu')\n",
    "#DEVICE = torch.device('cpu')\n",
    "print('Using Pytorch version : ',torch.__version__,' Device : ',DEVICE)"
   ]
  },
  {
   "cell_type": "code",
   "execution_count": 86,
   "id": "07f7f7a1",
   "metadata": {},
   "outputs": [],
   "source": [
    "from tqdm import tqdm"
   ]
  },
  {
   "cell_type": "markdown",
   "id": "79af139e",
   "metadata": {},
   "source": [
    "# 데이터 전처리\n",
    "\n",
    "```\n",
    "\n",
    "TurbID - 발전기 ID\n",
    "\n",
    "Day - 날짜\n",
    "\n",
    "Tmstamp - 시간\n",
    "\n",
    "Wspd - 풍속\n",
    "\n",
    "Wdir - 터빈이 바라보는 각도와 실제 바람 방향 각도 차이\n",
    "\n",
    "Etmp - 외부 온도\n",
    "\n",
    "Itmp - 터빈 내부 온도\n",
    "\n",
    "Ndir - 터빈이 바라보는 방향 각도\n",
    "\n",
    "Pab - 터빈 당 3개의 날이 있으며 각각의 각도가 다름\n",
    "\n",
    "Prtv - 무효전력 : 에너지원을 필요로 하지 않는 전력\n",
    "\n",
    "Patv - 유효전력 : 실제로 터빈을 돌리는 일을 하는 전력\n",
    "\n",
    "````\n",
    "\n",
    "\n",
    "베이스 라인 제공 전처리 방법"
   ]
  },
  {
   "cell_type": "code",
   "execution_count": 87,
   "id": "5c000a23",
   "metadata": {},
   "outputs": [],
   "source": [
    "train_data = pd.read_csv(\"data/train_data.csv\")\n",
    "sample_submission = pd.read_csv(\"data/sample_submission.csv\")"
   ]
  },
  {
   "cell_type": "code",
   "execution_count": 88,
   "id": "0839be7b",
   "metadata": {},
   "outputs": [
    {
     "data": {
      "text/plain": [
       "TurbID         0\n",
       "Day            0\n",
       "Tmstamp        0\n",
       "Wspd       45587\n",
       "Wdir       45587\n",
       "Etmp       45587\n",
       "Itmp       45587\n",
       "Ndir       45587\n",
       "Pab1       45587\n",
       "Pab2       45587\n",
       "Pab3       45587\n",
       "Prtv       45587\n",
       "Patv       45587\n",
       "dtype: int64"
      ]
     },
     "execution_count": 88,
     "metadata": {},
     "output_type": "execute_result"
    }
   ],
   "source": [
    "# train_data의 결측값 확인\n",
    "train_data.isnull().sum()"
   ]
  },
  {
   "cell_type": "code",
   "execution_count": 89,
   "id": "6a3dbb3a",
   "metadata": {},
   "outputs": [
    {
     "name": "stdout",
     "output_type": "stream",
     "text": [
      "TurbID     0\n",
      "Day        0\n",
      "Tmstamp    0\n",
      "Wspd       0\n",
      "Wdir       0\n",
      "Etmp       0\n",
      "Itmp       0\n",
      "Ndir       0\n",
      "Pab1       0\n",
      "Pab2       0\n",
      "Pab3       0\n",
      "Prtv       0\n",
      "Patv       0\n",
      "dtype: int64\n"
     ]
    }
   ],
   "source": [
    "# method : 결측값을 변경할 방식입니다. bfill로 할경우 결측값을 바로 아래 값과 동일하게 변경합니다.\n",
    "# 결측값 처리\n",
    "train_data = train_data.fillna(method = 'ffill').fillna(method = 'bfill')\n",
    "\n",
    "print(train_data.isnull().sum())"
   ]
  },
  {
   "cell_type": "code",
   "execution_count": 90,
   "id": "a59356c0",
   "metadata": {},
   "outputs": [],
   "source": [
    "train_data=train_data[(train_data[\"TurbID\"]==21)]"
   ]
  },
  {
   "cell_type": "code",
   "execution_count": 91,
   "id": "43349797",
   "metadata": {},
   "outputs": [
    {
     "data": {
      "text/html": [
       "<div>\n",
       "<style scoped>\n",
       "    .dataframe tbody tr th:only-of-type {\n",
       "        vertical-align: middle;\n",
       "    }\n",
       "\n",
       "    .dataframe tbody tr th {\n",
       "        vertical-align: top;\n",
       "    }\n",
       "\n",
       "    .dataframe thead th {\n",
       "        text-align: right;\n",
       "    }\n",
       "</style>\n",
       "<table border=\"1\" class=\"dataframe\">\n",
       "  <thead>\n",
       "    <tr style=\"text-align: right;\">\n",
       "      <th></th>\n",
       "      <th>TurbID</th>\n",
       "      <th>Day</th>\n",
       "      <th>Tmstamp</th>\n",
       "      <th>Wspd</th>\n",
       "      <th>Wdir</th>\n",
       "      <th>Etmp</th>\n",
       "      <th>Itmp</th>\n",
       "      <th>Ndir</th>\n",
       "      <th>Pab1</th>\n",
       "      <th>Pab2</th>\n",
       "      <th>Pab3</th>\n",
       "      <th>Prtv</th>\n",
       "      <th>Patv</th>\n",
       "    </tr>\n",
       "  </thead>\n",
       "  <tbody>\n",
       "    <tr>\n",
       "      <th>576000</th>\n",
       "      <td>21</td>\n",
       "      <td>1</td>\n",
       "      <td>00:00</td>\n",
       "      <td>3.07</td>\n",
       "      <td>-2.56</td>\n",
       "      <td>8.18</td>\n",
       "      <td>23.20</td>\n",
       "      <td>223.45</td>\n",
       "      <td>0.01</td>\n",
       "      <td>0.01</td>\n",
       "      <td>0.01</td>\n",
       "      <td>-77.64</td>\n",
       "      <td>157.50</td>\n",
       "    </tr>\n",
       "    <tr>\n",
       "      <th>576001</th>\n",
       "      <td>21</td>\n",
       "      <td>1</td>\n",
       "      <td>00:10</td>\n",
       "      <td>5.46</td>\n",
       "      <td>-10.18</td>\n",
       "      <td>31.62</td>\n",
       "      <td>42.59</td>\n",
       "      <td>170.92</td>\n",
       "      <td>0.35</td>\n",
       "      <td>0.35</td>\n",
       "      <td>0.35</td>\n",
       "      <td>-0.08</td>\n",
       "      <td>293.28</td>\n",
       "    </tr>\n",
       "    <tr>\n",
       "      <th>576002</th>\n",
       "      <td>21</td>\n",
       "      <td>1</td>\n",
       "      <td>00:20</td>\n",
       "      <td>5.11</td>\n",
       "      <td>-10.16</td>\n",
       "      <td>31.58</td>\n",
       "      <td>42.74</td>\n",
       "      <td>170.92</td>\n",
       "      <td>0.06</td>\n",
       "      <td>0.06</td>\n",
       "      <td>0.05</td>\n",
       "      <td>-0.04</td>\n",
       "      <td>268.40</td>\n",
       "    </tr>\n",
       "    <tr>\n",
       "      <th>576003</th>\n",
       "      <td>21</td>\n",
       "      <td>1</td>\n",
       "      <td>00:30</td>\n",
       "      <td>4.80</td>\n",
       "      <td>-2.57</td>\n",
       "      <td>31.47</td>\n",
       "      <td>42.77</td>\n",
       "      <td>160.98</td>\n",
       "      <td>0.09</td>\n",
       "      <td>0.09</td>\n",
       "      <td>0.09</td>\n",
       "      <td>-0.07</td>\n",
       "      <td>252.73</td>\n",
       "    </tr>\n",
       "    <tr>\n",
       "      <th>576004</th>\n",
       "      <td>21</td>\n",
       "      <td>1</td>\n",
       "      <td>00:40</td>\n",
       "      <td>4.74</td>\n",
       "      <td>1.37</td>\n",
       "      <td>31.31</td>\n",
       "      <td>42.54</td>\n",
       "      <td>158.40</td>\n",
       "      <td>0.03</td>\n",
       "      <td>0.03</td>\n",
       "      <td>0.03</td>\n",
       "      <td>-0.07</td>\n",
       "      <td>253.02</td>\n",
       "    </tr>\n",
       "    <tr>\n",
       "      <th>...</th>\n",
       "      <td>...</td>\n",
       "      <td>...</td>\n",
       "      <td>...</td>\n",
       "      <td>...</td>\n",
       "      <td>...</td>\n",
       "      <td>...</td>\n",
       "      <td>...</td>\n",
       "      <td>...</td>\n",
       "      <td>...</td>\n",
       "      <td>...</td>\n",
       "      <td>...</td>\n",
       "      <td>...</td>\n",
       "      <td>...</td>\n",
       "    </tr>\n",
       "    <tr>\n",
       "      <th>604795</th>\n",
       "      <td>21</td>\n",
       "      <td>200</td>\n",
       "      <td>23:10</td>\n",
       "      <td>4.05</td>\n",
       "      <td>-2.56</td>\n",
       "      <td>11.24</td>\n",
       "      <td>22.20</td>\n",
       "      <td>345.07</td>\n",
       "      <td>0.01</td>\n",
       "      <td>0.01</td>\n",
       "      <td>0.01</td>\n",
       "      <td>-73.00</td>\n",
       "      <td>200.87</td>\n",
       "    </tr>\n",
       "    <tr>\n",
       "      <th>604796</th>\n",
       "      <td>21</td>\n",
       "      <td>200</td>\n",
       "      <td>23:20</td>\n",
       "      <td>4.66</td>\n",
       "      <td>2.31</td>\n",
       "      <td>11.93</td>\n",
       "      <td>22.21</td>\n",
       "      <td>345.07</td>\n",
       "      <td>0.01</td>\n",
       "      <td>0.01</td>\n",
       "      <td>0.01</td>\n",
       "      <td>-123.33</td>\n",
       "      <td>278.29</td>\n",
       "    </tr>\n",
       "    <tr>\n",
       "      <th>604797</th>\n",
       "      <td>21</td>\n",
       "      <td>200</td>\n",
       "      <td>23:30</td>\n",
       "      <td>4.26</td>\n",
       "      <td>-4.19</td>\n",
       "      <td>11.43</td>\n",
       "      <td>22.30</td>\n",
       "      <td>345.07</td>\n",
       "      <td>0.01</td>\n",
       "      <td>0.01</td>\n",
       "      <td>0.01</td>\n",
       "      <td>-116.03</td>\n",
       "      <td>219.26</td>\n",
       "    </tr>\n",
       "    <tr>\n",
       "      <th>604798</th>\n",
       "      <td>21</td>\n",
       "      <td>200</td>\n",
       "      <td>23:40</td>\n",
       "      <td>3.32</td>\n",
       "      <td>-4.87</td>\n",
       "      <td>11.40</td>\n",
       "      <td>22.22</td>\n",
       "      <td>337.15</td>\n",
       "      <td>0.01</td>\n",
       "      <td>0.01</td>\n",
       "      <td>0.01</td>\n",
       "      <td>-70.42</td>\n",
       "      <td>140.48</td>\n",
       "    </tr>\n",
       "    <tr>\n",
       "      <th>604799</th>\n",
       "      <td>21</td>\n",
       "      <td>200</td>\n",
       "      <td>23:50</td>\n",
       "      <td>3.22</td>\n",
       "      <td>-2.59</td>\n",
       "      <td>12.15</td>\n",
       "      <td>22.72</td>\n",
       "      <td>334.45</td>\n",
       "      <td>0.01</td>\n",
       "      <td>0.01</td>\n",
       "      <td>0.01</td>\n",
       "      <td>-68.84</td>\n",
       "      <td>142.61</td>\n",
       "    </tr>\n",
       "  </tbody>\n",
       "</table>\n",
       "<p>28800 rows × 13 columns</p>\n",
       "</div>"
      ],
      "text/plain": [
       "        TurbID  Day Tmstamp  Wspd   Wdir   Etmp   Itmp    Ndir  Pab1  Pab2  \\\n",
       "576000      21    1   00:00  3.07  -2.56   8.18  23.20  223.45  0.01  0.01   \n",
       "576001      21    1   00:10  5.46 -10.18  31.62  42.59  170.92  0.35  0.35   \n",
       "576002      21    1   00:20  5.11 -10.16  31.58  42.74  170.92  0.06  0.06   \n",
       "576003      21    1   00:30  4.80  -2.57  31.47  42.77  160.98  0.09  0.09   \n",
       "576004      21    1   00:40  4.74   1.37  31.31  42.54  158.40  0.03  0.03   \n",
       "...        ...  ...     ...   ...    ...    ...    ...     ...   ...   ...   \n",
       "604795      21  200   23:10  4.05  -2.56  11.24  22.20  345.07  0.01  0.01   \n",
       "604796      21  200   23:20  4.66   2.31  11.93  22.21  345.07  0.01  0.01   \n",
       "604797      21  200   23:30  4.26  -4.19  11.43  22.30  345.07  0.01  0.01   \n",
       "604798      21  200   23:40  3.32  -4.87  11.40  22.22  337.15  0.01  0.01   \n",
       "604799      21  200   23:50  3.22  -2.59  12.15  22.72  334.45  0.01  0.01   \n",
       "\n",
       "        Pab3    Prtv    Patv  \n",
       "576000  0.01  -77.64  157.50  \n",
       "576001  0.35   -0.08  293.28  \n",
       "576002  0.05   -0.04  268.40  \n",
       "576003  0.09   -0.07  252.73  \n",
       "576004  0.03   -0.07  253.02  \n",
       "...      ...     ...     ...  \n",
       "604795  0.01  -73.00  200.87  \n",
       "604796  0.01 -123.33  278.29  \n",
       "604797  0.01 -116.03  219.26  \n",
       "604798  0.01  -70.42  140.48  \n",
       "604799  0.01  -68.84  142.61  \n",
       "\n",
       "[28800 rows x 13 columns]"
      ]
     },
     "execution_count": 91,
     "metadata": {},
     "output_type": "execute_result"
    }
   ],
   "source": [
    "train_data"
   ]
  },
  {
   "cell_type": "markdown",
   "id": "e1111f49",
   "metadata": {},
   "source": [
    "# 데이터셋"
   ]
  },
  {
   "cell_type": "code",
   "execution_count": 92,
   "id": "91f71a1b",
   "metadata": {},
   "outputs": [],
   "source": [
    "# 한 Turb당 194 line\n",
    "# label은 2일.로 나눠야함.\n",
    "\n",
    "def make_train_data(data):\n",
    "    train_x, train_y = [], []\n",
    "    for i in tqdm(sorted(pd.unique(data[\"TurbID\"]))):\n",
    "        tmp_data = data[data[\"TurbID\"] == i]\n",
    "        for j in range(1, 195): # 1~195 (1~194까지?)\n",
    "            \n",
    "            # train data ==> 5일 단위\n",
    "            # label data ==> 2일 단위\n",
    "            day_list = [x for x in range(j, j+ 5)]\n",
    "            label_day_list = [y for y in range(j+5, j + 7)]\n",
    "            \n",
    "            train_tmp = tmp_data[tmp_data[\"Day\"].isin(day_list)]\n",
    "            label_tmp = tmp_data[tmp_data[\"Day\"].isin(label_day_list)][\"Patv\"]\n",
    "            \n",
    "            # feature 선택 및 제거\n",
    "            train_tmp = train_tmp.drop([\"TurbID\"], axis = 1)\n",
    "            \n",
    "            train_x.append(np.array(train_tmp))\n",
    "            train_y.append(np.array(label_tmp))\n",
    "            \n",
    "    return train_x, train_y\n",
    "\n"
   ]
  },
  {
   "cell_type": "code",
   "execution_count": 93,
   "id": "05a9efec",
   "metadata": {},
   "outputs": [
    {
     "name": "stderr",
     "output_type": "stream",
     "text": [
      "100%|████████████████████████████████████████████████████████████████████████████████████| 1/1 [00:00<00:00,  5.78it/s]\n"
     ]
    }
   ],
   "source": [
    "tms_list = list(pd.unique(train_data[\"Tmstamp\"]))\n",
    "train_data[\"Tmstamp\"] = train_data[\"Tmstamp\"].apply(lambda x : tms_list.index(x) )\n",
    "\n",
    "X_data, Y_data = make_train_data(train_data)\n",
    "X_data  = np.array(X_data).reshape(-1, X_data[0].shape[0], X_data[0].shape[1])\n",
    "#train_x = np.array(X_data)\n",
    "Y_data = np.array(Y_data)"
   ]
  },
  {
   "cell_type": "code",
   "execution_count": 12,
   "id": "f44be6ee",
   "metadata": {},
   "outputs": [],
   "source": [
    "from datetime import datetime\n",
    "def fourier_features(index, freq, order):\n",
    "    time = np.arange(len(index), dtype=np.float32)\n",
    "    k = 2 * np.pi * (1 / freq) * time\n",
    "    features = {}\n",
    "    for i in range(1, order + 1):\n",
    "        features.update({\n",
    "            f\"sin_{freq}_{i}\": np.sin(i * k),\n",
    "            f\"cos_{freq}_{i}\": np.cos(i * k),\n",
    "        })\n",
    "    return pd.DataFrame(features, index=index)\n",
    "#출처: https://today-1.tistory.com/55 [Better Than,:티스토리]"
   ]
  },
  {
   "cell_type": "code",
   "execution_count": null,
   "id": "9e9de5fb",
   "metadata": {},
   "outputs": [
    {
     "name": "stderr",
     "output_type": "stream",
     "text": [
      " 16%|████████████▋                                                                    | 21/134 [00:03<00:17,  6.32it/s]\n",
      "ERROR:root:Internal Python error in the inspect module.\n",
      "Below is the traceback from this internal error.\n",
      "\n",
      "ERROR:root:Internal Python error in the inspect module.\n",
      "Below is the traceback from this internal error.\n",
      "\n"
     ]
    },
    {
     "name": "stdout",
     "output_type": "stream",
     "text": [
      "Traceback (most recent call last):\n",
      "  File \"C:\\Users\\USER\\anaconda3\\envs\\local_torch\\lib\\site-packages\\IPython\\core\\interactiveshell.py\", line 3457, in run_code\n",
      "    exec(code_obj, self.user_global_ns, self.user_ns)\n",
      "  File \"C:\\Users\\USER\\AppData\\Local\\Temp/ipykernel_14888/2475032882.py\", line 15, in <module>\n",
      "    X_data, Y_data = make_train_data(train_data)\n",
      "  File \"C:\\Users\\USER\\AppData\\Local\\Temp/ipykernel_14888/3566729661.py\", line 15, in make_train_data\n",
      "    train_tmp = tmp_data[tmp_data[\"Day\"].isin(day_list)]\n",
      "  File \"C:\\Users\\USER\\anaconda3\\envs\\local_torch\\lib\\site-packages\\pandas\\core\\series.py\", line 5141, in isin\n",
      "    result = algorithms.isin(self._values, values)\n",
      "  File \"C:\\Users\\USER\\anaconda3\\envs\\local_torch\\lib\\site-packages\\pandas\\core\\algorithms.py\", line 521, in isin\n",
      "    return f(comps, values)\n",
      "KeyboardInterrupt\n",
      "\n",
      "During handling of the above exception, another exception occurred:\n",
      "\n",
      "Traceback (most recent call last):\n",
      "  File \"C:\\Users\\USER\\anaconda3\\envs\\local_torch\\lib\\site-packages\\IPython\\core\\interactiveshell.py\", line 2077, in showtraceback\n",
      "    stb = value._render_traceback_()\n",
      "AttributeError: 'KeyboardInterrupt' object has no attribute '_render_traceback_'\n",
      "\n",
      "During handling of the above exception, another exception occurred:\n",
      "\n",
      "Traceback (most recent call last):\n",
      "  File \"C:\\Users\\USER\\anaconda3\\envs\\local_torch\\lib\\site-packages\\IPython\\core\\ultratb.py\", line 1101, in get_records\n",
      "    return _fixed_getinnerframes(etb, number_of_lines_of_context, tb_offset)\n",
      "  File \"C:\\Users\\USER\\anaconda3\\envs\\local_torch\\lib\\site-packages\\IPython\\core\\ultratb.py\", line 248, in wrapped\n",
      "    return f(*args, **kwargs)\n",
      "  File \"C:\\Users\\USER\\anaconda3\\envs\\local_torch\\lib\\site-packages\\IPython\\core\\ultratb.py\", line 281, in _fixed_getinnerframes\n",
      "    records = fix_frame_records_filenames(inspect.getinnerframes(etb, context))\n",
      "  File \"C:\\Users\\USER\\anaconda3\\envs\\local_torch\\lib\\inspect.py\", line 1515, in getinnerframes\n",
      "    frameinfo = (tb.tb_frame,) + getframeinfo(tb, context)\n",
      "  File \"C:\\Users\\USER\\anaconda3\\envs\\local_torch\\lib\\inspect.py\", line 1473, in getframeinfo\n",
      "    filename = getsourcefile(frame) or getfile(frame)\n",
      "  File \"C:\\Users\\USER\\anaconda3\\envs\\local_torch\\lib\\inspect.py\", line 708, in getsourcefile\n",
      "    if getattr(getmodule(object, filename), '__loader__', None) is not None:\n",
      "  File \"C:\\Users\\USER\\anaconda3\\envs\\local_torch\\lib\\inspect.py\", line 754, in getmodule\n",
      "    os.path.realpath(f)] = module.__name__\n",
      "  File \"C:\\Users\\USER\\anaconda3\\envs\\local_torch\\lib\\ntpath.py\", line 664, in realpath\n",
      "    if _getfinalpathname(spath) == path:\n",
      "KeyboardInterrupt\n",
      "Traceback (most recent call last):\n",
      "  File \"C:\\Users\\USER\\anaconda3\\envs\\local_torch\\lib\\site-packages\\IPython\\core\\interactiveshell.py\", line 3457, in run_code\n",
      "    exec(code_obj, self.user_global_ns, self.user_ns)\n",
      "  File \"C:\\Users\\USER\\AppData\\Local\\Temp/ipykernel_14888/2475032882.py\", line 15, in <module>\n",
      "    X_data, Y_data = make_train_data(train_data)\n",
      "  File \"C:\\Users\\USER\\AppData\\Local\\Temp/ipykernel_14888/3566729661.py\", line 15, in make_train_data\n",
      "    train_tmp = tmp_data[tmp_data[\"Day\"].isin(day_list)]\n",
      "  File \"C:\\Users\\USER\\anaconda3\\envs\\local_torch\\lib\\site-packages\\pandas\\core\\series.py\", line 5141, in isin\n",
      "    result = algorithms.isin(self._values, values)\n",
      "  File \"C:\\Users\\USER\\anaconda3\\envs\\local_torch\\lib\\site-packages\\pandas\\core\\algorithms.py\", line 521, in isin\n",
      "    return f(comps, values)\n",
      "KeyboardInterrupt\n",
      "\n",
      "During handling of the above exception, another exception occurred:\n",
      "\n",
      "Traceback (most recent call last):\n",
      "  File \"C:\\Users\\USER\\anaconda3\\envs\\local_torch\\lib\\site-packages\\IPython\\core\\interactiveshell.py\", line 2077, in showtraceback\n",
      "    stb = value._render_traceback_()\n",
      "AttributeError: 'KeyboardInterrupt' object has no attribute '_render_traceback_'\n",
      "\n",
      "During handling of the above exception, another exception occurred:\n",
      "\n",
      "Traceback (most recent call last):\n",
      "  File \"C:\\Users\\USER\\anaconda3\\envs\\local_torch\\lib\\site-packages\\IPython\\core\\interactiveshell.py\", line 3377, in run_ast_nodes\n",
      "    if (await self.run_code(code, result,  async_=asy)):\n",
      "  File \"C:\\Users\\USER\\anaconda3\\envs\\local_torch\\lib\\site-packages\\IPython\\core\\interactiveshell.py\", line 3474, in run_code\n",
      "    self.showtraceback(running_compiled_code=True)\n",
      "  File \"C:\\Users\\USER\\anaconda3\\envs\\local_torch\\lib\\site-packages\\IPython\\core\\interactiveshell.py\", line 2079, in showtraceback\n",
      "    stb = self.InteractiveTB.structured_traceback(etype,\n",
      "  File \"C:\\Users\\USER\\anaconda3\\envs\\local_torch\\lib\\site-packages\\IPython\\core\\ultratb.py\", line 1367, in structured_traceback\n",
      "    return FormattedTB.structured_traceback(\n",
      "  File \"C:\\Users\\USER\\anaconda3\\envs\\local_torch\\lib\\site-packages\\IPython\\core\\ultratb.py\", line 1267, in structured_traceback\n",
      "    return VerboseTB.structured_traceback(\n",
      "  File \"C:\\Users\\USER\\anaconda3\\envs\\local_torch\\lib\\site-packages\\IPython\\core\\ultratb.py\", line 1124, in structured_traceback\n",
      "    formatted_exception = self.format_exception_as_a_whole(etype, evalue, etb, number_of_lines_of_context,\n",
      "  File \"C:\\Users\\USER\\anaconda3\\envs\\local_torch\\lib\\site-packages\\IPython\\core\\ultratb.py\", line 1082, in format_exception_as_a_whole\n",
      "    last_unique, recursion_repeat = find_recursion(orig_etype, evalue, records)\n",
      "  File \"C:\\Users\\USER\\anaconda3\\envs\\local_torch\\lib\\site-packages\\IPython\\core\\ultratb.py\", line 382, in find_recursion\n",
      "    return len(records), 0\n",
      "TypeError: object of type 'NoneType' has no len()\n",
      "\n",
      "During handling of the above exception, another exception occurred:\n",
      "\n",
      "Traceback (most recent call last):\n",
      "  File \"C:\\Users\\USER\\anaconda3\\envs\\local_torch\\lib\\site-packages\\IPython\\core\\interactiveshell.py\", line 2077, in showtraceback\n",
      "    stb = value._render_traceback_()\n",
      "AttributeError: 'TypeError' object has no attribute '_render_traceback_'\n",
      "\n",
      "During handling of the above exception, another exception occurred:\n",
      "\n",
      "Traceback (most recent call last):\n",
      "  File \"C:\\Users\\USER\\anaconda3\\envs\\local_torch\\lib\\site-packages\\IPython\\core\\ultratb.py\", line 1101, in get_records\n",
      "    return _fixed_getinnerframes(etb, number_of_lines_of_context, tb_offset)\n",
      "  File \"C:\\Users\\USER\\anaconda3\\envs\\local_torch\\lib\\site-packages\\IPython\\core\\ultratb.py\", line 248, in wrapped\n",
      "    return f(*args, **kwargs)\n",
      "  File \"C:\\Users\\USER\\anaconda3\\envs\\local_torch\\lib\\site-packages\\IPython\\core\\ultratb.py\", line 281, in _fixed_getinnerframes\n",
      "    records = fix_frame_records_filenames(inspect.getinnerframes(etb, context))\n",
      "  File \"C:\\Users\\USER\\anaconda3\\envs\\local_torch\\lib\\inspect.py\", line 1515, in getinnerframes\n",
      "    frameinfo = (tb.tb_frame,) + getframeinfo(tb, context)\n",
      "  File \"C:\\Users\\USER\\anaconda3\\envs\\local_torch\\lib\\inspect.py\", line 1473, in getframeinfo\n",
      "    filename = getsourcefile(frame) or getfile(frame)\n",
      "  File \"C:\\Users\\USER\\anaconda3\\envs\\local_torch\\lib\\inspect.py\", line 708, in getsourcefile\n",
      "    if getattr(getmodule(object, filename), '__loader__', None) is not None:\n",
      "  File \"C:\\Users\\USER\\anaconda3\\envs\\local_torch\\lib\\inspect.py\", line 754, in getmodule\n",
      "    os.path.realpath(f)] = module.__name__\n",
      "  File \"C:\\Users\\USER\\anaconda3\\envs\\local_torch\\lib\\ntpath.py\", line 647, in realpath\n",
      "    path = _getfinalpathname(path)\n",
      "KeyboardInterrupt\n"
     ]
    },
    {
     "name": "stderr",
     "output_type": "stream",
     "text": [
      "ERROR:root:Internal Python error in the inspect module.\n",
      "Below is the traceback from this internal error.\n",
      "\n"
     ]
    },
    {
     "name": "stdout",
     "output_type": "stream",
     "text": [
      "Traceback (most recent call last):\n",
      "  File \"C:\\Users\\USER\\anaconda3\\envs\\local_torch\\lib\\site-packages\\IPython\\core\\interactiveshell.py\", line 3457, in run_code\n",
      "    exec(code_obj, self.user_global_ns, self.user_ns)\n",
      "  File \"C:\\Users\\USER\\AppData\\Local\\Temp/ipykernel_14888/2475032882.py\", line 15, in <module>\n",
      "    X_data, Y_data = make_train_data(train_data)\n",
      "  File \"C:\\Users\\USER\\AppData\\Local\\Temp/ipykernel_14888/3566729661.py\", line 15, in make_train_data\n",
      "    train_tmp = tmp_data[tmp_data[\"Day\"].isin(day_list)]\n",
      "  File \"C:\\Users\\USER\\anaconda3\\envs\\local_torch\\lib\\site-packages\\pandas\\core\\series.py\", line 5141, in isin\n",
      "    result = algorithms.isin(self._values, values)\n",
      "  File \"C:\\Users\\USER\\anaconda3\\envs\\local_torch\\lib\\site-packages\\pandas\\core\\algorithms.py\", line 521, in isin\n",
      "    return f(comps, values)\n",
      "KeyboardInterrupt\n",
      "\n",
      "During handling of the above exception, another exception occurred:\n",
      "\n",
      "Traceback (most recent call last):\n",
      "  File \"C:\\Users\\USER\\anaconda3\\envs\\local_torch\\lib\\site-packages\\IPython\\core\\interactiveshell.py\", line 2077, in showtraceback\n",
      "    stb = value._render_traceback_()\n",
      "AttributeError: 'KeyboardInterrupt' object has no attribute '_render_traceback_'\n",
      "\n",
      "During handling of the above exception, another exception occurred:\n",
      "\n",
      "Traceback (most recent call last):\n",
      "  File \"C:\\Users\\USER\\anaconda3\\envs\\local_torch\\lib\\site-packages\\IPython\\core\\interactiveshell.py\", line 3377, in run_ast_nodes\n",
      "    if (await self.run_code(code, result,  async_=asy)):\n",
      "  File \"C:\\Users\\USER\\anaconda3\\envs\\local_torch\\lib\\site-packages\\IPython\\core\\interactiveshell.py\", line 3474, in run_code\n",
      "    self.showtraceback(running_compiled_code=True)\n",
      "  File \"C:\\Users\\USER\\anaconda3\\envs\\local_torch\\lib\\site-packages\\IPython\\core\\interactiveshell.py\", line 2079, in showtraceback\n",
      "    stb = self.InteractiveTB.structured_traceback(etype,\n",
      "  File \"C:\\Users\\USER\\anaconda3\\envs\\local_torch\\lib\\site-packages\\IPython\\core\\ultratb.py\", line 1367, in structured_traceback\n",
      "    return FormattedTB.structured_traceback(\n",
      "  File \"C:\\Users\\USER\\anaconda3\\envs\\local_torch\\lib\\site-packages\\IPython\\core\\ultratb.py\", line 1267, in structured_traceback\n",
      "    return VerboseTB.structured_traceback(\n",
      "  File \"C:\\Users\\USER\\anaconda3\\envs\\local_torch\\lib\\site-packages\\IPython\\core\\ultratb.py\", line 1124, in structured_traceback\n",
      "    formatted_exception = self.format_exception_as_a_whole(etype, evalue, etb, number_of_lines_of_context,\n",
      "  File \"C:\\Users\\USER\\anaconda3\\envs\\local_torch\\lib\\site-packages\\IPython\\core\\ultratb.py\", line 1082, in format_exception_as_a_whole\n",
      "    last_unique, recursion_repeat = find_recursion(orig_etype, evalue, records)\n",
      "  File \"C:\\Users\\USER\\anaconda3\\envs\\local_torch\\lib\\site-packages\\IPython\\core\\ultratb.py\", line 382, in find_recursion\n",
      "    return len(records), 0\n",
      "TypeError: object of type 'NoneType' has no len()\n",
      "\n",
      "During handling of the above exception, another exception occurred:\n",
      "\n",
      "Traceback (most recent call last):\n",
      "  File \"C:\\Users\\USER\\anaconda3\\envs\\local_torch\\lib\\site-packages\\IPython\\core\\interactiveshell.py\", line 2077, in showtraceback\n",
      "    stb = value._render_traceback_()\n",
      "AttributeError: 'TypeError' object has no attribute '_render_traceback_'\n",
      "\n",
      "During handling of the above exception, another exception occurred:\n",
      "\n",
      "Traceback (most recent call last):\n",
      "  File \"C:\\Users\\USER\\anaconda3\\envs\\local_torch\\lib\\site-packages\\IPython\\core\\interactiveshell.py\", line 2960, in _run_cell\n",
      "    return runner(coro)\n",
      "  File \"C:\\Users\\USER\\anaconda3\\envs\\local_torch\\lib\\site-packages\\IPython\\core\\async_helpers.py\", line 78, in _pseudo_sync_runner\n",
      "    coro.send(None)\n",
      "  File \"C:\\Users\\USER\\anaconda3\\envs\\local_torch\\lib\\site-packages\\IPython\\core\\interactiveshell.py\", line 3185, in run_cell_async\n",
      "    has_raised = await self.run_ast_nodes(code_ast.body, cell_name,\n",
      "  File \"C:\\Users\\USER\\anaconda3\\envs\\local_torch\\lib\\site-packages\\IPython\\core\\interactiveshell.py\", line 3396, in run_ast_nodes\n",
      "    self.showtraceback()\n",
      "  File \"C:\\Users\\USER\\anaconda3\\envs\\local_torch\\lib\\site-packages\\IPython\\core\\interactiveshell.py\", line 2079, in showtraceback\n",
      "    stb = self.InteractiveTB.structured_traceback(etype,\n",
      "  File \"C:\\Users\\USER\\anaconda3\\envs\\local_torch\\lib\\site-packages\\IPython\\core\\ultratb.py\", line 1367, in structured_traceback\n",
      "    return FormattedTB.structured_traceback(\n",
      "  File \"C:\\Users\\USER\\anaconda3\\envs\\local_torch\\lib\\site-packages\\IPython\\core\\ultratb.py\", line 1267, in structured_traceback\n",
      "    return VerboseTB.structured_traceback(\n",
      "  File \"C:\\Users\\USER\\anaconda3\\envs\\local_torch\\lib\\site-packages\\IPython\\core\\ultratb.py\", line 1142, in structured_traceback\n",
      "    formatted_exceptions += self.format_exception_as_a_whole(etype, evalue, etb, lines_of_context,\n",
      "  File \"C:\\Users\\USER\\anaconda3\\envs\\local_torch\\lib\\site-packages\\IPython\\core\\ultratb.py\", line 1082, in format_exception_as_a_whole\n",
      "    last_unique, recursion_repeat = find_recursion(orig_etype, evalue, records)\n",
      "  File \"C:\\Users\\USER\\anaconda3\\envs\\local_torch\\lib\\site-packages\\IPython\\core\\ultratb.py\", line 382, in find_recursion\n",
      "    return len(records), 0\n",
      "TypeError: object of type 'NoneType' has no len()\n",
      "\n",
      "During handling of the above exception, another exception occurred:\n",
      "\n",
      "Traceback (most recent call last):\n",
      "  File \"C:\\Users\\USER\\anaconda3\\envs\\local_torch\\lib\\site-packages\\IPython\\core\\interactiveshell.py\", line 2077, in showtraceback\n",
      "    stb = value._render_traceback_()\n",
      "AttributeError: 'TypeError' object has no attribute '_render_traceback_'\n",
      "\n",
      "During handling of the above exception, another exception occurred:\n",
      "\n",
      "Traceback (most recent call last):\n",
      "  File \"C:\\Users\\USER\\anaconda3\\envs\\local_torch\\lib\\site-packages\\IPython\\core\\ultratb.py\", line 1101, in get_records\n",
      "    return _fixed_getinnerframes(etb, number_of_lines_of_context, tb_offset)\n",
      "  File \"C:\\Users\\USER\\anaconda3\\envs\\local_torch\\lib\\site-packages\\IPython\\core\\ultratb.py\", line 248, in wrapped\n",
      "    return f(*args, **kwargs)\n",
      "  File \"C:\\Users\\USER\\anaconda3\\envs\\local_torch\\lib\\site-packages\\IPython\\core\\ultratb.py\", line 281, in _fixed_getinnerframes\n",
      "    records = fix_frame_records_filenames(inspect.getinnerframes(etb, context))\n",
      "  File \"C:\\Users\\USER\\anaconda3\\envs\\local_torch\\lib\\inspect.py\", line 1515, in getinnerframes\n",
      "    frameinfo = (tb.tb_frame,) + getframeinfo(tb, context)\n",
      "  File \"C:\\Users\\USER\\anaconda3\\envs\\local_torch\\lib\\inspect.py\", line 1473, in getframeinfo\n",
      "    filename = getsourcefile(frame) or getfile(frame)\n",
      "  File \"C:\\Users\\USER\\anaconda3\\envs\\local_torch\\lib\\inspect.py\", line 708, in getsourcefile\n",
      "    if getattr(getmodule(object, filename), '__loader__', None) is not None:\n",
      "  File \"C:\\Users\\USER\\anaconda3\\envs\\local_torch\\lib\\inspect.py\", line 754, in getmodule\n",
      "    os.path.realpath(f)] = module.__name__\n",
      "  File \"C:\\Users\\USER\\anaconda3\\envs\\local_torch\\lib\\ntpath.py\", line 647, in realpath\n",
      "    path = _getfinalpathname(path)\n",
      "KeyboardInterrupt\n"
     ]
    }
   ],
   "source": [
    "# time stamp label encoding\n",
    "tms_list = list(pd.unique(train_data[\"Tmstamp\"]))\n",
    "hour_list = [datetime.strptime(t,\"%H:%M\").hour for t in tms_list]\n",
    "\n",
    "train_data[\"Tmstamp\"] = train_data[\"Tmstamp\"].apply(lambda x : hour_list[tms_list.index(x)] )\n",
    "\n",
    "\n",
    "# Fourier Features\n",
    "train_data['sin_24_1'] = np.sin(2 * np.pi * train_data['Tmstamp']/23.0)\n",
    "train_data['cos_24_1'] = np.cos(2 * np.pi * train_data['Tmstamp']/23.0)\n",
    "fourier_features(train_data['Tmstamp'], 24, 1)\n",
    "\n",
    "train_data.drop(['Tmstamp'],axis=1,inplace=True)\n",
    "\n",
    "X_data, Y_data = make_train_data(train_data)\n",
    "#valid_x, valid_y = make_valid_data(train_data)\n"
   ]
  },
  {
   "cell_type": "code",
   "execution_count": 10,
   "id": "b51b71dc",
   "metadata": {
    "scrolled": true
   },
   "outputs": [
    {
     "name": "stderr",
     "output_type": "stream",
     "text": [
      "C:\\Users\\USER\\AppData\\Local\\Temp/ipykernel_9516/3164433693.py:1: VisibleDeprecationWarning: Creating an ndarray from ragged nested sequences (which is a list-or-tuple of lists-or-tuples-or ndarrays with different lengths or shapes) is deprecated. If you meant to do this, you must specify 'dtype=object' when creating the ndarray.\n",
      "  np.array(X_data)\n"
     ]
    },
    {
     "data": {
      "text/plain": [
       "array([array([['00:00', 6.17, -3.99, ..., 1.0, -0.25, 494.66],\n",
       "              ['00:10', 6.17, -3.99, ..., 1.0, -0.25, 494.66],\n",
       "              ['00:20', 6.27, -2.18, ..., 1.0, -0.24, 509.76],\n",
       "              ...,\n",
       "              ['23:30', 10.25, 1.61, ..., 1.02, -0.24, 1520.14],\n",
       "              ['23:40', 10.42, 3.4, ..., 1.02, -0.25, 1538.38],\n",
       "              ['23:50', 10.69, 0.57, ..., 1.04, -0.23, 1549.73]], dtype=object),\n",
       "       array([['00:00', 10.64, -1.59, ..., 1.01, -0.27, 1468.21],\n",
       "              ['00:10', 7.0, 0.84, ..., 1.0, -0.16, 718.12],\n",
       "              ['00:20', 5.87, -2.61, ..., 0.99, -0.27, 442.15],\n",
       "              ...,\n",
       "              ['23:30', 10.82, -0.6, ..., 1.03, -0.25, 1547.61],\n",
       "              ['23:40', 10.35, -1.2, ..., 1.0, -0.25, 1512.49],\n",
       "              ['23:50', 9.85, 0.59, ..., 1.0, -0.19, 1366.41]], dtype=object),\n",
       "       array([['00:00', 11.45, -2.16, ..., 1.05, -0.18, 1549.45],\n",
       "              ['00:10', 10.93, -2.96, ..., 1.03, -0.24, 1523.67],\n",
       "              ['00:20', 10.69, -4.61, ..., 1.01, -0.26, 1499.01],\n",
       "              ...,\n",
       "              ['23:30', 2.71, 7.15, ..., 0.99, -0.24, 84.65],\n",
       "              ['23:40', 2.65, -4.72, ..., 0.99, -0.24, 77.01],\n",
       "              ['23:50', 1.94, -4.0, ..., 0.99, -0.24, 36.58]], dtype=object),\n",
       "       ...,\n",
       "       array([['00:00', 3.63, 5.59, ..., 0.01, -30.67, 138.17],\n",
       "              ['00:10', 3.48, -0.92, ..., 0.01, -10.22, 126.17],\n",
       "              ['00:20', 3.65, 3.1, ..., 0.01, -21.55, 133.3],\n",
       "              ...,\n",
       "              ['23:30', 4.23, -0.08, ..., 0.01, -111.2, 220.6],\n",
       "              ['23:40', 4.36, -6.12, ..., 0.01, -108.04, 222.15],\n",
       "              ['23:50', 4.79, -3.65, ..., 0.01, -119.76, 264.17]], dtype=object),\n",
       "       array([['00:00', 1.56, 115.14, ..., 90.27, -0.3, 0.0],\n",
       "              ['00:10', 1.34, 125.24, ..., 90.27, -0.3, 0.0],\n",
       "              ['00:20', 1.45, 123.5, ..., 90.27, -0.3, 0.0],\n",
       "              ...,\n",
       "              ['23:30', 4.23, -0.08, ..., 0.01, -111.2, 220.6],\n",
       "              ['23:40', 4.36, -6.12, ..., 0.01, -108.04, 222.15],\n",
       "              ['23:50', 4.79, -3.65, ..., 0.01, -119.76, 264.17]], dtype=object),\n",
       "       array([['00:00', 2.48, 3.02, ..., 0.01, -18.58, 91.19],\n",
       "              ['00:10', 2.39, -9.09, ..., 0.01, -22.47, 97.19],\n",
       "              ['00:20', 2.35, -2.44, ..., 0.01, -19.23, 97.51],\n",
       "              ...,\n",
       "              ['23:30', 4.23, -0.08, ..., 0.01, -111.2, 220.6],\n",
       "              ['23:40', 4.36, -6.12, ..., 0.01, -108.04, 222.15],\n",
       "              ['23:50', 4.79, -3.65, ..., 0.01, -119.76, 264.17]], dtype=object)],\n",
       "      dtype=object)"
      ]
     },
     "execution_count": 10,
     "metadata": {},
     "output_type": "execute_result"
    }
   ],
   "source": [
    "np.array(X_data)"
   ]
  },
  {
   "cell_type": "code",
   "execution_count": 9,
   "id": "a20dc4f5",
   "metadata": {},
   "outputs": [
    {
     "name": "stderr",
     "output_type": "stream",
     "text": [
      "C:\\Users\\USER\\AppData\\Local\\Temp/ipykernel_9516/1218440228.py:1: VisibleDeprecationWarning: Creating an ndarray from ragged nested sequences (which is a list-or-tuple of lists-or-tuples-or ndarrays with different lengths or shapes) is deprecated. If you meant to do this, you must specify 'dtype=object' when creating the ndarray.\n",
      "  X_data  = np.array(X_data).reshape(-1, X_data[0].shape[0], X_data[0].shape[1])\n"
     ]
    },
    {
     "ename": "ValueError",
     "evalue": "cannot reshape array of size 25996 into shape (1440,11)",
     "output_type": "error",
     "traceback": [
      "\u001b[1;31m---------------------------------------------------------------------------\u001b[0m",
      "\u001b[1;31mValueError\u001b[0m                                Traceback (most recent call last)",
      "\u001b[1;32m~\\AppData\\Local\\Temp/ipykernel_9516/1218440228.py\u001b[0m in \u001b[0;36m<module>\u001b[1;34m\u001b[0m\n\u001b[1;32m----> 1\u001b[1;33m \u001b[0mX_data\u001b[0m  \u001b[1;33m=\u001b[0m \u001b[0mnp\u001b[0m\u001b[1;33m.\u001b[0m\u001b[0marray\u001b[0m\u001b[1;33m(\u001b[0m\u001b[0mX_data\u001b[0m\u001b[1;33m)\u001b[0m\u001b[1;33m.\u001b[0m\u001b[0mreshape\u001b[0m\u001b[1;33m(\u001b[0m\u001b[1;33m-\u001b[0m\u001b[1;36m1\u001b[0m\u001b[1;33m,\u001b[0m \u001b[0mX_data\u001b[0m\u001b[1;33m[\u001b[0m\u001b[1;36m0\u001b[0m\u001b[1;33m]\u001b[0m\u001b[1;33m.\u001b[0m\u001b[0mshape\u001b[0m\u001b[1;33m[\u001b[0m\u001b[1;36m0\u001b[0m\u001b[1;33m]\u001b[0m\u001b[1;33m,\u001b[0m \u001b[0mX_data\u001b[0m\u001b[1;33m[\u001b[0m\u001b[1;36m0\u001b[0m\u001b[1;33m]\u001b[0m\u001b[1;33m.\u001b[0m\u001b[0mshape\u001b[0m\u001b[1;33m[\u001b[0m\u001b[1;36m1\u001b[0m\u001b[1;33m]\u001b[0m\u001b[1;33m)\u001b[0m\u001b[1;33m\u001b[0m\u001b[1;33m\u001b[0m\u001b[0m\n\u001b[0m\u001b[0;32m      2\u001b[0m \u001b[1;31m#train_x = np.array(X_data)\u001b[0m\u001b[1;33m\u001b[0m\u001b[1;33m\u001b[0m\u001b[1;33m\u001b[0m\u001b[0m\n\u001b[0;32m      3\u001b[0m \u001b[0mY_data\u001b[0m \u001b[1;33m=\u001b[0m \u001b[0mnp\u001b[0m\u001b[1;33m.\u001b[0m\u001b[0marray\u001b[0m\u001b[1;33m(\u001b[0m\u001b[0mY_data\u001b[0m\u001b[1;33m)\u001b[0m\u001b[1;33m\u001b[0m\u001b[1;33m\u001b[0m\u001b[0m\n",
      "\u001b[1;31mValueError\u001b[0m: cannot reshape array of size 25996 into shape (1440,11)"
     ]
    }
   ],
   "source": [
    "X_data  = np.array(X_data).reshape(-1, X_data[0].shape[0], X_data[0].shape[1])\n",
    "#train_x = np.array(X_data)\n",
    "Y_data = np.array(Y_data)"
   ]
  },
  {
   "cell_type": "code",
   "execution_count": 94,
   "id": "720dbc07",
   "metadata": {},
   "outputs": [],
   "source": [
    "#train_x  = np.array(train_x).reshape(-1, train_x[0].shape[0], train_x[0].shape[1])\n",
    "#valid_x = np.array(valid_x)\n",
    "#valid_y = np.array(valid_y)\n",
    "\n",
    "from sktime.forecasting.all import temporal_train_test_split"
   ]
  },
  {
   "cell_type": "code",
   "execution_count": 95,
   "id": "90f3786a",
   "metadata": {},
   "outputs": [],
   "source": [
    "train_y, valid_y, train_x, valid_x = temporal_train_test_split(X=X_data,y=Y_data, test_size=0.1)"
   ]
  },
  {
   "cell_type": "code",
   "execution_count": 96,
   "id": "e3f27133",
   "metadata": {},
   "outputs": [
    {
     "data": {
      "text/plain": [
       "(174, 288)"
      ]
     },
     "execution_count": 96,
     "metadata": {},
     "output_type": "execute_result"
    }
   ],
   "source": [
    "train_y.shape"
   ]
  },
  {
   "cell_type": "code",
   "execution_count": 97,
   "id": "2b08d82c",
   "metadata": {},
   "outputs": [
    {
     "data": {
      "text/plain": [
       "(174, 288)"
      ]
     },
     "execution_count": 97,
     "metadata": {},
     "output_type": "execute_result"
    }
   ],
   "source": [
    "np.array(train_y).shape"
   ]
  },
  {
   "cell_type": "code",
   "execution_count": 98,
   "id": "a9061b7e",
   "metadata": {},
   "outputs": [
    {
     "name": "stdout",
     "output_type": "stream",
     "text": [
      "(174, 720, 12) (174, 288)\n"
     ]
    }
   ],
   "source": [
    "train_x  = np.array(train_x).reshape(-1, train_x[0].shape[0], train_x[0].shape[1])\n",
    "train_y= np.array(train_y)\n",
    "print(train_x.shape, train_y.shape)"
   ]
  },
  {
   "cell_type": "code",
   "execution_count": 99,
   "id": "010424c9",
   "metadata": {},
   "outputs": [
    {
     "name": "stdout",
     "output_type": "stream",
     "text": [
      "(20, 720, 12) (20, 288)\n"
     ]
    }
   ],
   "source": [
    "valid_x  = np.array(valid_x).reshape(-1, valid_x[0].shape[0], valid_x[0].shape[1])\n",
    "valid_y = np.array(valid_y)\n",
    "print(valid_x.shape, valid_y.shape)"
   ]
  },
  {
   "attachments": {
    "image.png": {
     "image/png": "[encoded data removed]"
    }
   },
   "cell_type": "markdown",
   "id": "968591bc",
   "metadata": {},
   "source": [
    "input dimension은 (Batch, Time_step, Feature dimension) 순이다. (batch_first=True)\n",
    "\n",
    "output이 288인 이유는 2일이라서\n",
    "\n",
    "![image.png](attachment:image.png)"
   ]
  },
  {
   "cell_type": "markdown",
   "id": "20be20ba",
   "metadata": {},
   "source": [
    "# 데이터 로더"
   ]
  },
  {
   "cell_type": "code",
   "execution_count": 100,
   "id": "d8e36986",
   "metadata": {},
   "outputs": [],
   "source": [
    "EPOCHS = 50\n",
    "BATCH_SIZE = 64\n",
    "lr = 1e-3"
   ]
  },
  {
   "cell_type": "code",
   "execution_count": 101,
   "id": "270ce953",
   "metadata": {},
   "outputs": [],
   "source": [
    "from torch.utils.data import Dataset, DataLoader\n",
    "\n",
    "class TimeDataset(Dataset):\n",
    "    def __init__(self, X, Y):\n",
    "        self.X = X\n",
    "        self.Y = Y\n",
    "        \n",
    "    def __len__(self):\n",
    "        return len(self.X)\n",
    "        \n",
    "    def __getitem__(self, index):\n",
    "        if self.Y is not None:\n",
    "            return torch.Tensor(self.X[index]), torch.Tensor(self.Y[index])\n",
    "        \n",
    "        return torch.Tensor(self.X[index]) # 테스트셋 용\n",
    "    \n"
   ]
  },
  {
   "cell_type": "code",
   "execution_count": 102,
   "id": "5cb7414a",
   "metadata": {},
   "outputs": [],
   "source": [
    "train_dataset = TimeDataset(train_x, train_y)\n",
    "valid_dataset = TimeDataset(valid_x, valid_y)\n",
    "\n",
    "\n",
    "train_loader = DataLoader(train_dataset, \n",
    "                          batch_size = BATCH_SIZE,\n",
    "                          shuffle=True)\n",
    "\n",
    "valid_loader = DataLoader(valid_dataset, \n",
    "                          batch_size = BATCH_SIZE,\n",
    "                          shuffle=True)\n",
    "\n"
   ]
  },
  {
   "cell_type": "markdown",
   "id": "b1391110",
   "metadata": {},
   "source": [
    "# 데이터 확인"
   ]
  },
  {
   "cell_type": "code",
   "execution_count": 103,
   "id": "c8efd1fb",
   "metadata": {
    "scrolled": true
   },
   "outputs": [
    {
     "name": "stdout",
     "output_type": "stream",
     "text": [
      "X_train :  torch.Size([64, 720, 12]) type: torch.FloatTensor\n",
      "Y_train :  torch.Size([64, 288]) type: torch.FloatTensor\n",
      "torch.Size([288])\n"
     ]
    }
   ],
   "source": [
    "# 4. 데이터 확인하기\n",
    "for (X_train,Y_train) in train_loader:\n",
    "    print(\"X_train : \",X_train.size(),'type:',X_train.type())\n",
    "    print(\"Y_train : \",Y_train.size(),'type:',Y_train.type())\n",
    "    break\n",
    "    \n",
    "print(Y_train[0].shape)\n"
   ]
  },
  {
   "cell_type": "code",
   "execution_count": 104,
   "id": "3f4a147c",
   "metadata": {
    "scrolled": true
   },
   "outputs": [
    {
     "name": "stdout",
     "output_type": "stream",
     "text": [
      "X_valid :  torch.Size([20, 720, 12]) type: torch.FloatTensor\n",
      "Y_valid :  torch.Size([20, 288]) type: torch.FloatTensor\n",
      "torch.Size([288])\n"
     ]
    }
   ],
   "source": [
    "#valiation set 확인\n",
    "for (X_valid,Y_valid) in valid_loader:\n",
    "    print(\"X_valid : \",X_valid.size(),'type:',X_valid.type())\n",
    "    print(\"Y_valid : \",Y_valid.size(),'type:',Y_valid.type())\n",
    "    break\n",
    "\n",
    "print(Y_valid[0].shape)"
   ]
  },
  {
   "cell_type": "markdown",
   "id": "9630a2ff",
   "metadata": {},
   "source": [
    "# 모델\n"
   ]
  },
  {
   "cell_type": "markdown",
   "id": "fd8220ba",
   "metadata": {},
   "source": [
    "### input 설명\n",
    "\n",
    "- input_size: input의 feature dimension을 넣어주어야 한다. time step이 아니라 feature dimension!\n",
    "- hidden_size: 내부에서 어떤 feature dimension으로 바꿔주고 싶은지를 넣어주면 된다.\n",
    "- num_layers: lstm layer를 얼마나 쌓을지\n",
    "- bias: bias term을 둘 것인가 (Default: True)\n",
    "- batch_first: batch가 0번 dimension으로 오게 하려면 이거 설정! 난 이거 설정 가정하고 설명했다. (Default: False)\n",
    "- dropout: 가지치기 얼마나 할지, generalization 잘안되면 이걸 조정하면 된다.\n",
    "bidirectional: 양방향으로 할지 말지 (bidirectional 하면 [forward, backword] 로 feature dimension 2배 됨)\n",
    "\n",
    "\n",
    "\n",
    "참고.\n",
    "\n",
    "https://sanghyu.tistory.com/52"
   ]
  },
  {
   "cell_type": "markdown",
   "id": "7da3e174",
   "metadata": {},
   "source": [
    "### output 설명\n",
    "\n",
    "- outputs는 (output, (hidden or hidden stat,cell stat)) 의 tuple 형태로 나오므로 주의해서 써야한다. (LSTM만 cell state있음)\n",
    "- output: output dimension은 (batch, time_step, hidden dimension) 순이다. 양방향일 경우 hidden_size*2\n",
    "- hidden state: 모든 layer의 hidden state를 담고있다.\n",
    "- cell state: 모든 layer의 cell state를 담고있다."
   ]
  },
  {
   "cell_type": "code",
   "execution_count": 26,
   "id": "7bbb59d4",
   "metadata": {},
   "outputs": [
    {
     "data": {
      "text/plain": [
       "torch.Size([128, 720, 256])"
      ]
     },
     "execution_count": 26,
     "metadata": {},
     "output_type": "execute_result"
    }
   ],
   "source": [
    "lstm = nn.LSTM(input_size=12, hidden_size=256, batch_first=True, bidirectional=False)\n",
    "\n",
    "lstm(X_valid)[0].size()"
   ]
  },
  {
   "cell_type": "code",
   "execution_count": 27,
   "id": "ea7d5e3e",
   "metadata": {
    "scrolled": true
   },
   "outputs": [
    {
     "data": {
      "text/plain": [
       "torch.Size([720, 256])"
      ]
     },
     "execution_count": 27,
     "metadata": {},
     "output_type": "execute_result"
    }
   ],
   "source": [
    "lstm(X_valid)[0][-1].size()"
   ]
  },
  {
   "cell_type": "code",
   "execution_count": 28,
   "id": "f38c21ed",
   "metadata": {
    "scrolled": true
   },
   "outputs": [
    {
     "data": {
      "text/plain": [
       "tensor([[[-1.1673e-01,  1.4841e-04,  5.6774e-02,  ...,  1.0000e+00,\n",
       "           5.9224e-01,  5.0878e-14],\n",
       "         [-4.8787e-04,  9.9971e-01,  1.9079e-04,  ...,  1.7265e-02,\n",
       "           9.9996e-01,  1.9422e-02],\n",
       "         [ 5.0369e-03, -2.1034e-01,  1.4122e-01,  ...,  1.0000e+00,\n",
       "           9.1735e-01,  2.2290e-30],\n",
       "         ...,\n",
       "         [-2.4418e-04,  9.9999e-01,  2.8196e-01,  ...,  4.4332e-02,\n",
       "           9.9596e-01,  3.0322e-02],\n",
       "         [-8.8184e-01, -6.1001e-07,  6.1041e-05,  ...,  1.0000e+00,\n",
       "           1.0000e+00,  3.8480e-29],\n",
       "         [ 6.1095e-04,  9.9695e-01,  2.8479e-06,  ...,  1.7060e-02,\n",
       "           9.5216e-01,  7.4001e-03]]], grad_fn=<StackBackward0>)"
      ]
     },
     "execution_count": 28,
     "metadata": {},
     "output_type": "execute_result"
    }
   ],
   "source": [
    "lstm(X_valid)[1][0]"
   ]
  },
  {
   "cell_type": "code",
   "execution_count": 29,
   "id": "076c46b3",
   "metadata": {},
   "outputs": [
    {
     "data": {
      "text/plain": [
       "torch.Size([128, 256])"
      ]
     },
     "execution_count": 29,
     "metadata": {},
     "output_type": "execute_result"
    }
   ],
   "source": [
    "lstm(X_valid)[0][:,-2,:].size()"
   ]
  },
  {
   "cell_type": "code",
   "execution_count": 133,
   "id": "5e20c8c2",
   "metadata": {},
   "outputs": [],
   "source": [
    "lstm_hidden_size=288\n",
    "\n",
    "class BaseModel(nn.Module):\n",
    "    def __init__(self):\n",
    "        super(BaseModel, self).__init__()\n",
    "        self.lstm = nn.GRU(input_size=12, hidden_size=lstm_hidden_size, batch_first=True, bidirectional=True)\n",
    "        self.classifier = nn.Sequential(\n",
    "            nn.Linear(lstm_hidden_size*2,512),# 사이즈는 hidden size에 따라 결정.\n",
    "            nn.ReLU(),\n",
    "            nn.Linear(512,512),\n",
    "            nn.ReLU(),\n",
    "            nn.Linear(512,512),\n",
    "            nn.ReLU(),\n",
    "            nn.Linear(512,288), #288개 예측\n",
    "            nn.ReLU(),  \n",
    "        )\n",
    "        \n",
    "    def forward(self, x):\n",
    "        output, _ = self.lstm(x)\n",
    "        output = self.classifier(output[:,-1,:]) # -1은 hidden state의 마지막 time step값을 가져온 것.\n",
    "        return output"
   ]
  },
  {
   "cell_type": "code",
   "execution_count": 134,
   "id": "8304e647",
   "metadata": {},
   "outputs": [],
   "source": [
    "#8. 학습\n",
    "def train(model,train_loader,optimizer, log_interval):\n",
    "    model.train()\n",
    "    train_loss = 0\n",
    "    train_mae_loss = 0\n",
    "    for batch_idx,(X, Y) in enumerate(train_loader):\n",
    "        X = X.to(DEVICE)\n",
    "        Y = Y.to(DEVICE)\n",
    "\n",
    "        optimizer.zero_grad()#데이터들 장비에 할당\n",
    "        output = model(X) # model로 output을 계산\n",
    "        loss = criterion(output, Y)        \n",
    "        train_loss += loss.item()\n",
    "        \n",
    "        with torch.no_grad():\n",
    "            mae = metric(output, Y)\n",
    "            train_mae_loss+=mae.item()\n",
    "        loss.backward()\n",
    "        optimizer.step()\n",
    "    \n",
    "    train_loss/=len(train_loader.dataset)\n",
    "    train_mae_loss/=len(train_loader.dataset)\n",
    "    \n",
    "    return train_loss,train_mae_loss\n",
    "\n"
   ]
  },
  {
   "cell_type": "code",
   "execution_count": 135,
   "id": "cad0878a",
   "metadata": {},
   "outputs": [],
   "source": [
    "#8. 학습\n",
    "def evaluate(model,valid_loader):\n",
    "    model.eval()\n",
    "    valid_loss = 0\n",
    "    valid_mae = 0\n",
    "    #no_grad : 그래디언트 값 계산 막기.\n",
    "    with torch.no_grad():\n",
    "        for X, Y in valid_loader:\n",
    "            X = X.to(DEVICE)\n",
    "            Y = Y.to(DEVICE)\n",
    "            output = model(X) # model로 output을 계산\n",
    "            \n",
    "            loss = criterion(output, Y)\n",
    "            valid_loss += loss.item()\n",
    "            mae = metric(output, Y)\n",
    "            valid_mae+=mae.item()\n",
    "    valid_loss/=len(valid_loader.dataset)\n",
    "    valid_mae/=len(valid_loader.dataset)\n",
    "    return valid_loss, valid_mae\n"
   ]
  },
  {
   "cell_type": "code",
   "execution_count": 136,
   "id": "ce9f1630",
   "metadata": {
    "scrolled": true
   },
   "outputs": [
    {
     "name": "stdout",
     "output_type": "stream",
     "text": [
      "./checkpoint/checkpoint_baseline_21turb.pt\n",
      "\n",
      "[EPOCH:1]\t Train Loss:5305.1390\t Train MAE:6.1098  | \tValid Loss:12550.6422 \tValid MAE: 14.8432\n",
      "\n",
      "-- SAVE Checkpoint --\n",
      "Valid loss : 9999999999.0000 -> 12550.6422 \n",
      "\n",
      "\n",
      "[EPOCH:2]\t Train Loss:5338.6900\t Train MAE:6.1168  | \tValid Loss:12368.4859 \tValid MAE: 14.7496\n",
      "\n",
      "-- SAVE Checkpoint --\n",
      "Valid loss : 12550.6422 -> 12368.4859 \n",
      "\n",
      "\n",
      "[EPOCH:3]\t Train Loss:5307.3227\t Train MAE:6.1250  | \tValid Loss:11575.2250 \tValid MAE: 14.3629\n",
      "\n",
      "-- SAVE Checkpoint --\n",
      "Valid loss : 12368.4859 -> 11575.2250 \n",
      "\n",
      "\n",
      "[EPOCH:4]\t Train Loss:4662.3200\t Train MAE:5.7569  | \tValid Loss:9644.5977 \tValid MAE: 13.9316\n",
      "\n",
      "-- SAVE Checkpoint --\n",
      "Valid loss : 11575.2250 -> 9644.5977 \n",
      "\n",
      "\n",
      "[EPOCH:5]\t Train Loss:3784.8033\t Train MAE:5.6890  | \tValid Loss:9509.6000 \tValid MAE: 17.4807\n",
      "\n",
      "-- SAVE Checkpoint --\n",
      "Valid loss : 9644.5977 -> 9509.6000 \n",
      "\n",
      "\n",
      "[EPOCH:6]\t Train Loss:3835.7021\t Train MAE:6.7244  | \tValid Loss:9485.8625 \tValid MAE: 17.6941\n",
      "\n",
      "-- SAVE Checkpoint --\n",
      "Valid loss : 9509.6000 -> 9485.8625 \n",
      "\n",
      "\n",
      "[EPOCH:7]\t Train Loss:3435.3204\t Train MAE:6.0827  | \tValid Loss:8528.3609 \tValid MAE: 14.8016\n",
      "\n",
      "-- SAVE Checkpoint --\n",
      "Valid loss : 9485.8625 -> 8528.3609 \n",
      "\n",
      "\n",
      "[EPOCH:8]\t Train Loss:3362.5030\t Train MAE:5.5119  | \tValid Loss:8644.0000 \tValid MAE: 14.1102\n",
      "\n",
      "\n",
      "[EPOCH:9]\t Train Loss:3484.6586\t Train MAE:5.4967  | \tValid Loss:8516.9422 \tValid MAE: 14.3278\n",
      "\n",
      "-- SAVE Checkpoint --\n",
      "Valid loss : 8528.3609 -> 8516.9422 \n",
      "\n",
      "\n",
      "[EPOCH:10]\t Train Loss:3399.1042\t Train MAE:5.6407  | \tValid Loss:8515.1977 \tValid MAE: 15.4268\n",
      "\n",
      "-- SAVE Checkpoint --\n",
      "Valid loss : 8516.9422 -> 8515.1977 \n",
      "\n",
      "\n",
      "[EPOCH:11]\t Train Loss:3360.9311\t Train MAE:5.8985  | \tValid Loss:8630.0969 \tValid MAE: 15.9910\n",
      "\n",
      "\n",
      "[EPOCH:12]\t Train Loss:3353.6634\t Train MAE:5.9262  | \tValid Loss:8377.5438 \tValid MAE: 15.2202\n",
      "\n",
      "-- SAVE Checkpoint --\n",
      "Valid loss : 8515.1977 -> 8377.5438 \n",
      "\n",
      "\n",
      "[EPOCH:13]\t Train Loss:3265.0479\t Train MAE:5.6543  | \tValid Loss:8321.5398 \tValid MAE: 14.5358\n",
      "\n",
      "-- SAVE Checkpoint --\n",
      "Valid loss : 8377.5438 -> 8321.5398 \n",
      "\n",
      "\n",
      "[EPOCH:14]\t Train Loss:3306.6941\t Train MAE:5.5538  | \tValid Loss:8314.3336 \tValid MAE: 14.6389\n",
      "\n",
      "-- SAVE Checkpoint --\n",
      "Valid loss : 8321.5398 -> 8314.3336 \n",
      "\n",
      "\n",
      "[EPOCH:15]\t Train Loss:3221.7943\t Train MAE:5.5945  | \tValid Loss:8392.3039 \tValid MAE: 15.4448\n",
      "\n",
      "\n",
      "[EPOCH:16]\t Train Loss:3218.1124\t Train MAE:5.7590  | \tValid Loss:8406.8805 \tValid MAE: 15.5362\n",
      "\n",
      "\n",
      "[EPOCH:17]\t Train Loss:3223.8303\t Train MAE:5.7287  | \tValid Loss:8304.9445 \tValid MAE: 14.9983\n",
      "\n",
      "-- SAVE Checkpoint --\n",
      "Valid loss : 8314.3336 -> 8304.9445 \n",
      "\n",
      "\n",
      "[EPOCH:18]\t Train Loss:3173.5114\t Train MAE:5.5478  | \tValid Loss:8284.9477 \tValid MAE: 14.8062\n",
      "\n",
      "-- SAVE Checkpoint --\n",
      "Valid loss : 8304.9445 -> 8284.9477 \n",
      "\n",
      "\n",
      "[EPOCH:19]\t Train Loss:3176.2520\t Train MAE:5.5231  | \tValid Loss:8291.8367 \tValid MAE: 15.0299\n",
      "\n",
      "\n",
      "[EPOCH:20]\t Train Loss:3176.1299\t Train MAE:5.6213  | \tValid Loss:8364.6883 \tValid MAE: 15.4417\n",
      "\n",
      "\n",
      "[EPOCH:21]\t Train Loss:3198.3338\t Train MAE:5.6564  | \tValid Loss:8320.1883 \tValid MAE: 15.2016\n",
      "\n",
      "\n",
      "[EPOCH:22]\t Train Loss:3115.2170\t Train MAE:5.5342  | \tValid Loss:8296.6602 \tValid MAE: 15.1295\n",
      "\n",
      "\n",
      "[EPOCH:23]\t Train Loss:3075.5938\t Train MAE:5.4726  | \tValid Loss:8318.2102 \tValid MAE: 15.2081\n",
      "\n",
      "\n",
      "[EPOCH:24]\t Train Loss:3070.6871\t Train MAE:5.4785  | \tValid Loss:8373.5406 \tValid MAE: 15.3664\n",
      "\n",
      "\n",
      "[EPOCH:25]\t Train Loss:3064.1833\t Train MAE:5.4893  | \tValid Loss:8392.5898 \tValid MAE: 15.3849\n",
      "\n",
      "\n",
      "[EPOCH:26]\t Train Loss:3010.2559\t Train MAE:5.4085  | \tValid Loss:8385.1250 \tValid MAE: 15.3248\n",
      "\n",
      "\n",
      "[EPOCH:27]\t Train Loss:3022.0642\t Train MAE:5.3895  | \tValid Loss:8424.1914 \tValid MAE: 15.4343\n",
      "\n",
      "\n",
      "[EPOCH:28]\t Train Loss:2982.3120\t Train MAE:5.3893  | \tValid Loss:8505.4727 \tValid MAE: 15.6666\n",
      "\n",
      "\n",
      "[EPOCH:29]\t Train Loss:2911.7169\t Train MAE:5.2827  | \tValid Loss:8503.7250 \tValid MAE: 15.5146\n",
      "\n",
      "\n",
      "[EPOCH:30]\t Train Loss:2959.3771\t Train MAE:5.3281  | \tValid Loss:8650.3781 \tValid MAE: 15.9192\n",
      "\n",
      "\n",
      "[EPOCH:31]\t Train Loss:2885.7652\t Train MAE:5.2698  | \tValid Loss:8595.0328 \tValid MAE: 15.7175\n",
      "\n",
      "\n",
      "[EPOCH:32]\t Train Loss:2887.5884\t Train MAE:5.2345  | \tValid Loss:8628.2437 \tValid MAE: 15.7833\n",
      "\n",
      "\n",
      "[EPOCH:33]\t Train Loss:2866.1971\t Train MAE:5.1546  | \tValid Loss:8808.3813 \tValid MAE: 16.1826\n",
      "\n",
      "\n",
      "[EPOCH:34]\t Train Loss:2822.4584\t Train MAE:5.2043  | \tValid Loss:8772.1750 \tValid MAE: 16.0441\n",
      "\n",
      "\n",
      "[EPOCH:35]\t Train Loss:2800.6862\t Train MAE:5.0695  | \tValid Loss:8849.0680 \tValid MAE: 16.2226\n",
      "\n",
      "\n",
      "[EPOCH:36]\t Train Loss:2810.0165\t Train MAE:5.1468  | \tValid Loss:9044.7859 \tValid MAE: 16.6419\n",
      "\n",
      "\n",
      "[EPOCH:37]\t Train Loss:2754.1190\t Train MAE:5.0622  | \tValid Loss:8671.9805 \tValid MAE: 15.6816\n",
      "\n",
      "\n",
      "[EPOCH:38]\t Train Loss:2702.2892\t Train MAE:4.9948  | \tValid Loss:8944.4859 \tValid MAE: 16.3450\n",
      "\n",
      "\n",
      "[EPOCH:39]\t Train Loss:2696.4721\t Train MAE:4.9298  | \tValid Loss:8869.0055 \tValid MAE: 16.2158\n",
      "\n",
      "\n",
      "[EPOCH:40]\t Train Loss:2697.9239\t Train MAE:5.0201  | \tValid Loss:8582.3602 \tValid MAE: 15.5149\n",
      "\n",
      "\n",
      "[EPOCH:41]\t Train Loss:2714.3916\t Train MAE:4.9375  | \tValid Loss:8869.3008 \tValid MAE: 16.3734\n",
      "\n",
      "\n",
      "[EPOCH:42]\t Train Loss:2677.2619\t Train MAE:4.9879  | \tValid Loss:8680.1969 \tValid MAE: 15.6636\n",
      "\n",
      "\n",
      "[EPOCH:43]\t Train Loss:2673.4336\t Train MAE:4.9044  | \tValid Loss:9228.3680 \tValid MAE: 17.0237\n",
      "\n",
      "\n",
      "[EPOCH:44]\t Train Loss:2703.8903\t Train MAE:4.9831  | \tValid Loss:8516.6727 \tValid MAE: 15.0118\n",
      "\n",
      "\n",
      "[EPOCH:45]\t Train Loss:2710.7293\t Train MAE:4.9248  | \tValid Loss:9218.3461 \tValid MAE: 16.9682\n",
      "\n",
      "\n",
      "[EPOCH:46]\t Train Loss:2660.0374\t Train MAE:4.9536  | \tValid Loss:8564.4297 \tValid MAE: 15.3435\n",
      "\n",
      "\n",
      "[EPOCH:47]\t Train Loss:2650.2698\t Train MAE:4.9019  | \tValid Loss:8834.3094 \tValid MAE: 16.2859\n",
      "\n",
      "\n",
      "[EPOCH:48]\t Train Loss:2683.7510\t Train MAE:4.8563  | \tValid Loss:8720.4070 \tValid MAE: 15.9634\n",
      "\n",
      "\n",
      "[EPOCH:49]\t Train Loss:2582.6994\t Train MAE:4.8722  | \tValid Loss:8802.5867 \tValid MAE: 16.1562\n",
      "\n",
      "\n",
      "[EPOCH:50]\t Train Loss:2637.7026\t Train MAE:4.8173  | \tValid Loss:8734.5680 \tValid MAE: 16.0610\n",
      "\n"
     ]
    }
   ],
   "source": [
    "#학습 진행 코드\n",
    "\n",
    "\n",
    "check_path = './checkpoint/checkpoint_baseline_21turb.pt'\n",
    "print(check_path)\n",
    "model = BaseModel().to(DEVICE)\n",
    "criterion = nn.MSELoss().to(DEVICE)\n",
    "metric = nn.L1Loss().to(DEVICE)\n",
    "\n",
    "optimizer = torch.optim.Adam(model.parameters(),lr=lr)\n",
    "\n",
    "best_valid_mae = 999999\n",
    "best_valid_loss = 9999999999\n",
    "\n",
    "\n",
    "\n",
    "for Epoch in range(1,EPOCHS+1):\n",
    "    train_loss,train_mae = train(model,train_loader,optimizer,log_interval=31)\n",
    "    valid_loss,valid_mae = evaluate(model, valid_loader)\n",
    "    \n",
    "    \n",
    "    print(\"\\n[EPOCH:{}]\\t Train Loss:{:.4f}\\t Train MAE:{:.4f}  | \\tValid Loss:{:.4f} \\tValid MAE: {:.4f}\\n\".\n",
    "                  format(Epoch, train_loss, train_mae,\n",
    "                         valid_loss, valid_mae ))\n",
    "    if best_valid_loss > valid_loss:\n",
    "        print(\"-- SAVE Checkpoint --\")\n",
    "        print(\"Valid loss : {:.4f} -> {:.4f} \\n\".format(best_valid_loss,valid_loss ))\n",
    "        torch.save(model.state_dict(), check_path, _use_new_zipfile_serialization=False)\n",
    "        best_valid_mae = valid_mae\n",
    "        best_valid_loss =valid_loss\n",
    "        \n",
    "    \n",
    "    "
   ]
  },
  {
   "cell_type": "code",
   "execution_count": 34,
   "id": "c45304e1",
   "metadata": {},
   "outputs": [
    {
     "ename": "NameError",
     "evalue": "name 'ddddd' is not defined",
     "output_type": "error",
     "traceback": [
      "\u001b[1;31m---------------------------------------------------------------------------\u001b[0m",
      "\u001b[1;31mNameError\u001b[0m                                 Traceback (most recent call last)",
      "\u001b[1;32m~\\AppData\\Local\\Temp/ipykernel_4336/2487491902.py\u001b[0m in \u001b[0;36m<module>\u001b[1;34m\u001b[0m\n\u001b[1;32m----> 1\u001b[1;33m \u001b[0mddddd\u001b[0m\u001b[1;33m\u001b[0m\u001b[1;33m\u001b[0m\u001b[0m\n\u001b[0m",
      "\u001b[1;31mNameError\u001b[0m: name 'ddddd' is not defined"
     ]
    }
   ],
   "source": [
    "ddddd"
   ]
  },
  {
   "cell_type": "markdown",
   "id": "b01e39bf",
   "metadata": {},
   "source": [
    "# validation 확인"
   ]
  },
  {
   "cell_type": "code",
   "execution_count": 117,
   "id": "2f8da1a8",
   "metadata": {},
   "outputs": [
    {
     "name": "stdout",
     "output_type": "stream",
     "text": [
      "Valid loss : 8246.9688 / Valid MAE : 15.2977 \n",
      "\n"
     ]
    }
   ],
   "source": [
    "print(\"Valid loss : {:.4f} / Valid MAE : {:.4f} \\n\".format(best_valid_loss,best_valid_mae))"
   ]
  },
  {
   "cell_type": "code",
   "execution_count": 54,
   "id": "94abeb7b",
   "metadata": {},
   "outputs": [
    {
     "name": "stdout",
     "output_type": "stream",
     "text": [
      "Valid loss : 8291.8609 / Valid MAE : 15.8512 \n",
      "\n"
     ]
    }
   ],
   "source": [
    "print(\"Valid loss : {:.4f} / Valid MAE : {:.4f} \\n\".format(best_valid_loss,best_valid_mae))"
   ]
  },
  {
   "cell_type": "markdown",
   "id": "a0a2834d",
   "metadata": {},
   "source": [
    "# TEST"
   ]
  },
  {
   "cell_type": "code",
   "execution_count": 119,
   "id": "42905079",
   "metadata": {},
   "outputs": [],
   "source": [
    "\n",
    "# 이전 5일치 가져오기.\n",
    "test_data_list = [x for x in range(196, 201)]\n",
    "\n",
    "test_data = train_data[train_data[\"Day\"].isin(test_data_list)]\n",
    "\n",
    "test_data = test_data.drop([\"TurbID\"], axis = 1)\n",
    "\n",
    "test_data = np.array(test_data).reshape(-1, train_x[0].shape[0], train_x[0].shape[1])\n",
    "#train set 처럼 batch,720,11로 고치기\n"
   ]
  },
  {
   "cell_type": "code",
   "execution_count": 120,
   "id": "d4fb8be6",
   "metadata": {},
   "outputs": [
    {
     "data": {
      "text/plain": [
       "(1, 720, 12)"
      ]
     },
     "execution_count": 120,
     "metadata": {},
     "output_type": "execute_result"
    }
   ],
   "source": [
    "test_data.shape"
   ]
  },
  {
   "cell_type": "code",
   "execution_count": 121,
   "id": "d0ed76bb",
   "metadata": {},
   "outputs": [],
   "source": [
    "test_dataset = TimeDataset(test_data, None)\n",
    "\n",
    "test_loader = DataLoader(test_dataset, \n",
    "                          batch_size = BATCH_SIZE,\n",
    "                          shuffle=False)\n",
    "\n",
    "\n"
   ]
  },
  {
   "cell_type": "code",
   "execution_count": 122,
   "id": "63255878",
   "metadata": {},
   "outputs": [],
   "source": [
    "def predict(model, test_loader):\n",
    "    model.eval()\n",
    "    preds = []\n",
    "    with torch.no_grad():\n",
    "        for X in tqdm(iter(test_loader)):\n",
    "            X = X.to(DEVICE)\n",
    "            \n",
    "            pred = model(X)\n",
    "            preds += pred.cpu().tolist()\n",
    "    \n",
    "    return np.array(preds)"
   ]
  },
  {
   "cell_type": "code",
   "execution_count": 123,
   "id": "466a8e3c",
   "metadata": {},
   "outputs": [
    {
     "data": {
      "text/plain": [
       "BaseModel(\n",
       "  (lstm): GRU(12, 288, batch_first=True, bidirectional=True)\n",
       "  (classifier): Sequential(\n",
       "    (0): Linear(in_features=576, out_features=512, bias=True)\n",
       "    (1): ReLU()\n",
       "    (2): Linear(in_features=512, out_features=512, bias=True)\n",
       "    (3): ReLU()\n",
       "    (4): Linear(in_features=512, out_features=512, bias=True)\n",
       "    (5): ReLU()\n",
       "    (6): Linear(in_features=512, out_features=288, bias=True)\n",
       "    (7): ReLU()\n",
       "  )\n",
       ")"
      ]
     },
     "execution_count": 123,
     "metadata": {},
     "output_type": "execute_result"
    }
   ],
   "source": [
    "model = BaseModel().to(DEVICE)\n",
    "best_checkpoint = torch.load('./checkpoint/checkpoint_baseline_21turb.pt')\n",
    "model.load_state_dict(best_checkpoint)\n",
    "model.eval()"
   ]
  },
  {
   "cell_type": "code",
   "execution_count": 124,
   "id": "cb758521",
   "metadata": {},
   "outputs": [
    {
     "name": "stderr",
     "output_type": "stream",
     "text": [
      "100%|████████████████████████████████████████████████████████████████████████████████████| 1/1 [00:00<00:00, 77.10it/s]\n"
     ]
    }
   ],
   "source": [
    "preds = predict(model, test_loader)\n",
    "preds = preds.reshape(-1)"
   ]
  },
  {
   "cell_type": "code",
   "execution_count": 125,
   "id": "2407d5dc",
   "metadata": {},
   "outputs": [],
   "source": [
    "sample_submission = sample_submission[sample_submission[\"TurbID\"]==21]"
   ]
  },
  {
   "cell_type": "code",
   "execution_count": 126,
   "id": "35919698",
   "metadata": {},
   "outputs": [],
   "source": [
    "sample_submission[\"Patv\"] = preds\n",
    "sample_submission.to_csv(\"./submit.csv\", index = False)"
   ]
  },
  {
   "cell_type": "code",
   "execution_count": 127,
   "id": "38fd8f4b",
   "metadata": {},
   "outputs": [
    {
     "data": {
      "text/html": [
       "<div>\n",
       "<style scoped>\n",
       "    .dataframe tbody tr th:only-of-type {\n",
       "        vertical-align: middle;\n",
       "    }\n",
       "\n",
       "    .dataframe tbody tr th {\n",
       "        vertical-align: top;\n",
       "    }\n",
       "\n",
       "    .dataframe thead th {\n",
       "        text-align: right;\n",
       "    }\n",
       "</style>\n",
       "<table border=\"1\" class=\"dataframe\">\n",
       "  <thead>\n",
       "    <tr style=\"text-align: right;\">\n",
       "      <th></th>\n",
       "      <th>index</th>\n",
       "      <th>TurbID</th>\n",
       "      <th>Day</th>\n",
       "      <th>Tmstamp</th>\n",
       "      <th>Wspd</th>\n",
       "      <th>Wdir</th>\n",
       "      <th>Etmp</th>\n",
       "      <th>Itmp</th>\n",
       "      <th>Ndir</th>\n",
       "      <th>Pab1</th>\n",
       "      <th>Pab2</th>\n",
       "      <th>Pab3</th>\n",
       "      <th>Prtv</th>\n",
       "      <th>Patv</th>\n",
       "    </tr>\n",
       "  </thead>\n",
       "  <tbody>\n",
       "    <tr>\n",
       "      <th>5760</th>\n",
       "      <td>5760</td>\n",
       "      <td>21</td>\n",
       "      <td>201</td>\n",
       "      <td>00:00</td>\n",
       "      <td>0</td>\n",
       "      <td>0</td>\n",
       "      <td>0</td>\n",
       "      <td>0</td>\n",
       "      <td>0</td>\n",
       "      <td>0</td>\n",
       "      <td>0</td>\n",
       "      <td>0</td>\n",
       "      <td>0</td>\n",
       "      <td>302.407440</td>\n",
       "    </tr>\n",
       "    <tr>\n",
       "      <th>5761</th>\n",
       "      <td>5761</td>\n",
       "      <td>21</td>\n",
       "      <td>201</td>\n",
       "      <td>00:10</td>\n",
       "      <td>0</td>\n",
       "      <td>0</td>\n",
       "      <td>0</td>\n",
       "      <td>0</td>\n",
       "      <td>0</td>\n",
       "      <td>0</td>\n",
       "      <td>0</td>\n",
       "      <td>0</td>\n",
       "      <td>0</td>\n",
       "      <td>284.509521</td>\n",
       "    </tr>\n",
       "    <tr>\n",
       "      <th>5762</th>\n",
       "      <td>5762</td>\n",
       "      <td>21</td>\n",
       "      <td>201</td>\n",
       "      <td>00:20</td>\n",
       "      <td>0</td>\n",
       "      <td>0</td>\n",
       "      <td>0</td>\n",
       "      <td>0</td>\n",
       "      <td>0</td>\n",
       "      <td>0</td>\n",
       "      <td>0</td>\n",
       "      <td>0</td>\n",
       "      <td>0</td>\n",
       "      <td>290.247284</td>\n",
       "    </tr>\n",
       "    <tr>\n",
       "      <th>5763</th>\n",
       "      <td>5763</td>\n",
       "      <td>21</td>\n",
       "      <td>201</td>\n",
       "      <td>00:30</td>\n",
       "      <td>0</td>\n",
       "      <td>0</td>\n",
       "      <td>0</td>\n",
       "      <td>0</td>\n",
       "      <td>0</td>\n",
       "      <td>0</td>\n",
       "      <td>0</td>\n",
       "      <td>0</td>\n",
       "      <td>0</td>\n",
       "      <td>297.533325</td>\n",
       "    </tr>\n",
       "    <tr>\n",
       "      <th>5764</th>\n",
       "      <td>5764</td>\n",
       "      <td>21</td>\n",
       "      <td>201</td>\n",
       "      <td>00:40</td>\n",
       "      <td>0</td>\n",
       "      <td>0</td>\n",
       "      <td>0</td>\n",
       "      <td>0</td>\n",
       "      <td>0</td>\n",
       "      <td>0</td>\n",
       "      <td>0</td>\n",
       "      <td>0</td>\n",
       "      <td>0</td>\n",
       "      <td>310.165894</td>\n",
       "    </tr>\n",
       "    <tr>\n",
       "      <th>...</th>\n",
       "      <td>...</td>\n",
       "      <td>...</td>\n",
       "      <td>...</td>\n",
       "      <td>...</td>\n",
       "      <td>...</td>\n",
       "      <td>...</td>\n",
       "      <td>...</td>\n",
       "      <td>...</td>\n",
       "      <td>...</td>\n",
       "      <td>...</td>\n",
       "      <td>...</td>\n",
       "      <td>...</td>\n",
       "      <td>...</td>\n",
       "      <td>...</td>\n",
       "    </tr>\n",
       "    <tr>\n",
       "      <th>6043</th>\n",
       "      <td>6043</td>\n",
       "      <td>21</td>\n",
       "      <td>202</td>\n",
       "      <td>23:10</td>\n",
       "      <td>0</td>\n",
       "      <td>0</td>\n",
       "      <td>0</td>\n",
       "      <td>0</td>\n",
       "      <td>0</td>\n",
       "      <td>0</td>\n",
       "      <td>0</td>\n",
       "      <td>0</td>\n",
       "      <td>0</td>\n",
       "      <td>282.047638</td>\n",
       "    </tr>\n",
       "    <tr>\n",
       "      <th>6044</th>\n",
       "      <td>6044</td>\n",
       "      <td>21</td>\n",
       "      <td>202</td>\n",
       "      <td>23:20</td>\n",
       "      <td>0</td>\n",
       "      <td>0</td>\n",
       "      <td>0</td>\n",
       "      <td>0</td>\n",
       "      <td>0</td>\n",
       "      <td>0</td>\n",
       "      <td>0</td>\n",
       "      <td>0</td>\n",
       "      <td>0</td>\n",
       "      <td>280.497314</td>\n",
       "    </tr>\n",
       "    <tr>\n",
       "      <th>6045</th>\n",
       "      <td>6045</td>\n",
       "      <td>21</td>\n",
       "      <td>202</td>\n",
       "      <td>23:30</td>\n",
       "      <td>0</td>\n",
       "      <td>0</td>\n",
       "      <td>0</td>\n",
       "      <td>0</td>\n",
       "      <td>0</td>\n",
       "      <td>0</td>\n",
       "      <td>0</td>\n",
       "      <td>0</td>\n",
       "      <td>0</td>\n",
       "      <td>274.381042</td>\n",
       "    </tr>\n",
       "    <tr>\n",
       "      <th>6046</th>\n",
       "      <td>6046</td>\n",
       "      <td>21</td>\n",
       "      <td>202</td>\n",
       "      <td>23:40</td>\n",
       "      <td>0</td>\n",
       "      <td>0</td>\n",
       "      <td>0</td>\n",
       "      <td>0</td>\n",
       "      <td>0</td>\n",
       "      <td>0</td>\n",
       "      <td>0</td>\n",
       "      <td>0</td>\n",
       "      <td>0</td>\n",
       "      <td>272.061127</td>\n",
       "    </tr>\n",
       "    <tr>\n",
       "      <th>6047</th>\n",
       "      <td>6047</td>\n",
       "      <td>21</td>\n",
       "      <td>202</td>\n",
       "      <td>23:50</td>\n",
       "      <td>0</td>\n",
       "      <td>0</td>\n",
       "      <td>0</td>\n",
       "      <td>0</td>\n",
       "      <td>0</td>\n",
       "      <td>0</td>\n",
       "      <td>0</td>\n",
       "      <td>0</td>\n",
       "      <td>0</td>\n",
       "      <td>248.809235</td>\n",
       "    </tr>\n",
       "  </tbody>\n",
       "</table>\n",
       "<p>288 rows × 14 columns</p>\n",
       "</div>"
      ],
      "text/plain": [
       "      index  TurbID  Day Tmstamp  Wspd  Wdir  Etmp  Itmp  Ndir  Pab1  Pab2  \\\n",
       "5760   5760      21  201   00:00     0     0     0     0     0     0     0   \n",
       "5761   5761      21  201   00:10     0     0     0     0     0     0     0   \n",
       "5762   5762      21  201   00:20     0     0     0     0     0     0     0   \n",
       "5763   5763      21  201   00:30     0     0     0     0     0     0     0   \n",
       "5764   5764      21  201   00:40     0     0     0     0     0     0     0   \n",
       "...     ...     ...  ...     ...   ...   ...   ...   ...   ...   ...   ...   \n",
       "6043   6043      21  202   23:10     0     0     0     0     0     0     0   \n",
       "6044   6044      21  202   23:20     0     0     0     0     0     0     0   \n",
       "6045   6045      21  202   23:30     0     0     0     0     0     0     0   \n",
       "6046   6046      21  202   23:40     0     0     0     0     0     0     0   \n",
       "6047   6047      21  202   23:50     0     0     0     0     0     0     0   \n",
       "\n",
       "      Pab3  Prtv        Patv  \n",
       "5760     0     0  302.407440  \n",
       "5761     0     0  284.509521  \n",
       "5762     0     0  290.247284  \n",
       "5763     0     0  297.533325  \n",
       "5764     0     0  310.165894  \n",
       "...    ...   ...         ...  \n",
       "6043     0     0  282.047638  \n",
       "6044     0     0  280.497314  \n",
       "6045     0     0  274.381042  \n",
       "6046     0     0  272.061127  \n",
       "6047     0     0  248.809235  \n",
       "\n",
       "[288 rows x 14 columns]"
      ]
     },
     "execution_count": 127,
     "metadata": {},
     "output_type": "execute_result"
    }
   ],
   "source": [
    "sample_submission"
   ]
  },
  {
   "cell_type": "code",
   "execution_count": 128,
   "id": "65ba94c3",
   "metadata": {},
   "outputs": [
    {
     "data": {
      "text/plain": [
       "[<matplotlib.lines.Line2D at 0x157f9af4250>]"
      ]
     },
     "execution_count": 128,
     "metadata": {},
     "output_type": "execute_result"
    },
    {
     "data": {
      "image/png": "[encoded data removed]",
      "text/plain": [
       "<Figure size 432x288 with 1 Axes>"
      ]
     },
     "metadata": {
      "needs_background": "light"
     },
     "output_type": "display_data"
    }
   ],
   "source": [
    "plt.plot(sample_submission['Patv'])"
   ]
  },
  {
   "cell_type": "markdown",
   "id": "a448752a",
   "metadata": {},
   "source": [
    "# 검증 set"
   ]
  },
  {
   "cell_type": "code",
   "execution_count": 46,
   "id": "3eb63988",
   "metadata": {},
   "outputs": [
    {
     "name": "stdout",
     "output_type": "stream",
     "text": [
      "TurbID     0\n",
      "Day        0\n",
      "Tmstamp    0\n",
      "Wspd       0\n",
      "Wdir       0\n",
      "Etmp       0\n",
      "Itmp       0\n",
      "Ndir       0\n",
      "Pab1       0\n",
      "Pab2       0\n",
      "Pab3       0\n",
      "Prtv       0\n",
      "Patv       0\n",
      "dtype: int64\n"
     ]
    }
   ],
   "source": [
    "from statsmodels.tsa.seasonal import seasonal_decompose\n",
    "\n",
    "\n",
    "#train_data = pd.read_csv(\"data/train_data.csv\")\n",
    "sample_submission = pd.read_csv(\"data/sample_submission.csv\")\n",
    "#train_data = train_data.fillna(method = 'ffill').fillna(method = 'bfill')\n",
    "\n",
    "print(train_data.isnull().sum())\n",
    "\n",
    "#for turb in range(1,135):\n",
    "#    result = seasonal_decompose(train_data[(train_data[\"TurbID\"]==turb)].Wspd,model='additive',period=144)\n",
    "#    resid = result.resid.fillna(method='ffill').fillna(method='bfill')\n",
    "#    train_data.loc[(train_data[\"TurbID\"]==turb),'wnd_resid' ]=resid\n",
    "    \n",
    "#tms_list = list(pd.unique(train_data[\"Tmstamp\"]))\n",
    "#train_data[\"Tmstamp\"] = train_data[\"Tmstamp\"].apply(lambda x : tms_list.index(x) )\n"
   ]
  },
  {
   "cell_type": "code",
   "execution_count": 47,
   "id": "65a51948",
   "metadata": {},
   "outputs": [],
   "source": [
    "\n",
    "# 이전 5일치 가져오기.\n",
    "test_data_list = [x for x in range(55, 60)]\n",
    "\n",
    "test_data = train_data[train_data[\"Day\"].isin(test_data_list)]\n",
    "\n",
    "test_data = test_data.drop([\"TurbID\", \"Day\"], axis = 1)\n",
    "\n",
    "test_data = np.array(test_data).reshape(-1, train_x[0].shape[0], train_x[0].shape[1])\n",
    "#train set 처럼 batch,720,11로 고치기\n"
   ]
  },
  {
   "cell_type": "code",
   "execution_count": 48,
   "id": "64267a10",
   "metadata": {},
   "outputs": [
    {
     "data": {
      "text/plain": [
       "(1, 720, 11)"
      ]
     },
     "execution_count": 48,
     "metadata": {},
     "output_type": "execute_result"
    }
   ],
   "source": [
    "test_data.shape"
   ]
  },
  {
   "cell_type": "code",
   "execution_count": 49,
   "id": "b5813e8b",
   "metadata": {},
   "outputs": [],
   "source": [
    "test_dataset = TimeDataset(test_data, None)\n",
    "\n",
    "test_loader = DataLoader(test_dataset, \n",
    "                          batch_size = BATCH_SIZE,\n",
    "                          shuffle=False)\n",
    "\n",
    "\n"
   ]
  },
  {
   "cell_type": "code",
   "execution_count": 50,
   "id": "01c0c5e9",
   "metadata": {},
   "outputs": [],
   "source": [
    "def predict(model, test_loader):\n",
    "    model.eval()\n",
    "    preds = []\n",
    "    with torch.no_grad():\n",
    "        for X in tqdm(iter(test_loader)):\n",
    "            X = X.to(DEVICE)\n",
    "            \n",
    "            pred = model(X)\n",
    "            preds += pred.cpu().tolist()\n",
    "    \n",
    "    return np.array(preds)"
   ]
  },
  {
   "cell_type": "code",
   "execution_count": 51,
   "id": "00a2cccb",
   "metadata": {},
   "outputs": [
    {
     "name": "stderr",
     "output_type": "stream",
     "text": [
      "100%|███████████████████████████████████████████████████████████████████████████████████| 1/1 [00:00<00:00, 111.13it/s]\n"
     ]
    }
   ],
   "source": [
    "model = BaseModel().to(DEVICE)\n",
    "best_checkpoint = torch.load('./checkpoint/checkpoint_baseline_21turb.pt')\n",
    "model.load_state_dict(best_checkpoint)\n",
    "model.eval()\n",
    "\n",
    "preds = predict(model, test_loader)\n",
    "preds = preds.reshape(-1)\n"
   ]
  },
  {
   "cell_type": "code",
   "execution_count": 52,
   "id": "f4222f60",
   "metadata": {},
   "outputs": [
    {
     "data": {
      "text/plain": [
       "array([301.04879761, 297.77496338, 305.76980591, 298.74105835,\n",
       "       296.98822021, 301.90231323, 304.11663818, 308.97457886,\n",
       "       312.63510132,   0.        , 309.42349243, 305.65213013,\n",
       "       308.13092041, 302.98379517,   0.        , 310.35614014,\n",
       "       308.59634399, 306.38790894, 306.61141968, 308.89978027,\n",
       "       302.42434692, 302.93521118, 299.73501587, 300.87359619,\n",
       "       299.80722046, 288.26467896, 301.50003052, 298.70123291,\n",
       "       296.79864502, 298.71859741,   0.        , 293.97351074,\n",
       "       303.59814453, 300.29327393, 303.62722778, 301.4776001 ,\n",
       "       301.65829468, 298.59750366, 305.77511597, 298.78012085,\n",
       "       304.62915039, 289.36676025, 306.81713867, 311.5607605 ,\n",
       "       307.60400391, 295.35574341, 304.56427002, 289.80560303,\n",
       "       292.9887085 , 285.10235596, 288.98373413, 280.7427063 ,\n",
       "       296.92111206, 296.89544678, 294.21600342, 294.94412231,\n",
       "       287.12753296, 297.6076355 , 292.12991333, 272.73388672,\n",
       "       285.21151733, 285.48553467, 288.84552002, 289.80255127,\n",
       "       285.77981567, 301.05453491, 297.1746521 , 293.21777344,\n",
       "       294.57925415, 299.63098145, 303.27450562, 294.02441406,\n",
       "       292.52398682, 294.78707886, 298.8164978 , 296.24328613,\n",
       "       296.28341675, 296.60702515, 289.90725708, 287.493927  ,\n",
       "       295.63330078, 288.7791748 , 286.57473755, 296.66659546,\n",
       "       295.8380127 , 295.08502197, 285.93844604, 296.96582031,\n",
       "       290.28335571, 300.53668213, 292.61108398,   0.        ,\n",
       "       299.99060059, 282.88043213,   0.        , 296.70993042,\n",
       "       294.54748535, 289.49194336, 302.86572266, 302.08987427,\n",
       "       296.5619812 , 294.99645996, 303.78778076, 299.72485352,\n",
       "       304.78912354, 305.19000244, 295.81652832, 308.79623413,\n",
       "       308.99667358, 295.1104126 , 313.75726318, 313.59207153,\n",
       "       299.25692749, 308.04760742, 312.33178711, 304.76922607,\n",
       "       314.06469727,   0.        , 308.84725952, 315.54327393,\n",
       "       314.55032349, 302.228302  , 312.98474121, 316.8404541 ,\n",
       "       314.97024536, 309.16928101, 304.23983765, 307.64154053,\n",
       "       314.95913696, 303.06030273, 292.25390625, 312.61999512,\n",
       "       312.23953247, 306.8482666 , 313.89096069,   0.        ,\n",
       "       308.30706787, 305.78384399, 314.42050171, 301.70046997,\n",
       "       307.69284058, 303.66381836, 313.6098938 , 299.02450562,\n",
       "       311.7739563 , 295.50112915, 304.53997803, 305.73550415,\n",
       "       301.07424927, 304.83651733, 303.58770752, 301.77114868,\n",
       "       297.83483887, 299.46817017, 306.68453979, 311.93865967,\n",
       "       305.36190796, 305.29736328, 303.35281372, 295.05371094,\n",
       "       303.78820801, 304.7479248 , 309.1265564 , 314.10592651,\n",
       "       308.45529175, 298.32324219, 307.46640015, 297.62188721,\n",
       "       299.56735229, 310.64620972, 310.96392822, 299.87231445,\n",
       "       294.46228027, 307.11904907, 299.88598633, 303.01702881,\n",
       "       308.23577881, 311.05871582, 311.83621216, 296.43035889,\n",
       "       301.39904785, 301.25622559, 303.63272095,   0.        ,\n",
       "       309.25952148, 306.10098267, 243.85169983, 311.89239502,\n",
       "       302.81466675, 301.43365479, 309.03994751, 304.24136353,\n",
       "       304.96438599, 299.41635132, 292.06097412, 292.04931641,\n",
       "       297.89691162, 299.8710022 , 299.97595215, 301.91281128,\n",
       "       293.50268555, 299.49557495, 293.25750732, 280.70507812,\n",
       "       291.34945679, 278.59597778, 279.63723755, 289.30767822,\n",
       "       280.9102478 , 291.09561157, 299.73886108, 288.58837891,\n",
       "       297.75823975, 291.60961914, 277.83230591, 294.04501343,\n",
       "       287.64682007, 292.17889404, 275.87179565, 295.41082764,\n",
       "       295.84570312, 299.94400024, 297.51586914, 295.32376099,\n",
       "       293.7868042 , 294.66137695, 286.67196655, 291.63726807,\n",
       "       287.11907959, 288.03164673, 289.1680603 , 299.277771  ,\n",
       "       294.47747803, 290.51489258, 271.75360107, 304.66439819,\n",
       "       299.62670898, 294.38708496, 291.39865112, 287.22018433,\n",
       "       294.57498169, 291.34884644, 296.93557739, 292.3894043 ,\n",
       "       300.36578369, 287.18508911, 299.13018799, 304.45892334,\n",
       "       301.79437256, 304.56030273,   0.        , 288.88998413,\n",
       "       311.22201538, 317.48544312, 315.09307861, 312.56613159,\n",
       "       312.81640625, 309.53942871, 309.08270264, 312.24493408,\n",
       "       310.49179077, 296.50524902, 312.84518433, 312.96243286,\n",
       "       298.85321045, 312.43832397, 313.65371704, 318.08892822,\n",
       "       303.2086792 , 312.7791748 , 305.97525024,   0.        ,\n",
       "       308.4147644 , 312.61166382, 304.15286255, 294.87139893,\n",
       "       310.46511841, 292.29431152, 313.75949097, 314.79135132,\n",
       "       311.27774048, 318.36474609, 316.9682312 , 310.69256592,\n",
       "       306.91003418, 294.50128174, 310.98007202, 305.51339722])"
      ]
     },
     "execution_count": 52,
     "metadata": {},
     "output_type": "execute_result"
    }
   ],
   "source": [
    "preds"
   ]
  },
  {
   "cell_type": "code",
   "execution_count": 57,
   "id": "a45e7b2a",
   "metadata": {},
   "outputs": [],
   "source": [
    "sample_submission = pd.read_csv(\"data/sample_submission.csv\")\n",
    "sample_submission = sample_submission[sample_submission['TurbID']==21]\n"
   ]
  },
  {
   "cell_type": "code",
   "execution_count": 58,
   "id": "4372e33c",
   "metadata": {},
   "outputs": [],
   "source": [
    "sample_submission.loc[sample_submission['Day']==201,'Day'] = 60"
   ]
  },
  {
   "cell_type": "code",
   "execution_count": 59,
   "id": "d924dbbc",
   "metadata": {},
   "outputs": [],
   "source": [
    "sample_submission.loc[sample_submission['Day']==202,'Day'] = 61"
   ]
  },
  {
   "cell_type": "code",
   "execution_count": 60,
   "id": "089fe679",
   "metadata": {},
   "outputs": [],
   "source": [
    "sample_submission['Patv']=preds"
   ]
  },
  {
   "cell_type": "code",
   "execution_count": 65,
   "id": "25961851",
   "metadata": {},
   "outputs": [
    {
     "data": {
      "text/plain": [
       "(0.0, 2000.0)"
      ]
     },
     "execution_count": 65,
     "metadata": {},
     "output_type": "execute_result"
    },
    {
     "data": {
      "image/png": "[encoded data removed]",
      "text/plain": [
       "<Figure size 1440x360 with 1 Axes>"
      ]
     },
     "metadata": {
      "needs_background": "light"
     },
     "output_type": "display_data"
    }
   ],
   "source": [
    "# Tmstamp 당 Patv 추세를 확인.\n",
    "plot_data = train_data\n",
    "\n",
    "plt.figure(figsize=(20, 5))\n",
    "j = 60 # Day\n",
    "for i in range(1, 135): # TurbID\n",
    "    plt.plot(plot_data[(plot_data['TurbID']==i) & (plot_data['Day']==j)]['Tmstamp'], plot_data[(plot_data['TurbID']==i) & (plot_data['Day']==j)]['Patv'])\n",
    "    plt.xticks([])\n",
    "plt.ylim([0,2000])\n",
    "#k = 21 # turb id\n",
    "#plt.plot(plot_data[(plot_data['TurbID']==k) & (plot_data['Day']==j)]['Tmstamp'], plot_data[(plot_data['TurbID']==k) & (plot_data['Day']==j)]['Patv'], linewidth=5.0,\n",
    "#        label='real')\n",
    "#plt.title(f'TurbID : {k}, Day:{j}')\n",
    "\n",
    "\n"
   ]
  },
  {
   "cell_type": "code",
   "execution_count": 66,
   "id": "e66612f5",
   "metadata": {},
   "outputs": [
    {
     "data": {
      "text/plain": [
       "<matplotlib.legend.Legend at 0x15798f2cf10>"
      ]
     },
     "execution_count": 66,
     "metadata": {},
     "output_type": "execute_result"
    },
    {
     "data": {
      "image/png": "[encoded data removed]",
      "text/plain": [
       "<Figure size 1440x360 with 1 Axes>"
      ]
     },
     "metadata": {
      "needs_background": "light"
     },
     "output_type": "display_data"
    }
   ],
   "source": [
    "plot_data = sample_submission\n",
    "plt.figure(figsize=(20, 5))\n",
    "k = 21 # turb id\n",
    "plt.plot(plot_data[(plot_data['TurbID']==k) & (plot_data['Day']==j)]['Tmstamp'], plot_data[(plot_data['TurbID']==k) & (plot_data['Day']==j)]['Patv'], linewidth=5.0,\n",
    "        label='predicted')\n",
    "plt.title(f'TurbID : {k}, Day:{j}')\n",
    "plt.ylim([0,800])\n",
    "\n",
    "plt.legend()"
   ]
  },
  {
   "cell_type": "code",
   "execution_count": 46,
   "id": "d79971ed",
   "metadata": {},
   "outputs": [
    {
     "data": {
      "text/plain": [
       "<matplotlib.legend.Legend at 0x1e6307f2130>"
      ]
     },
     "execution_count": 46,
     "metadata": {},
     "output_type": "execute_result"
    },
    {
     "data": {
      "image/png": "[encoded data removed]",
      "text/plain": [
       "<Figure size 432x288 with 1 Axes>"
      ]
     },
     "metadata": {
      "needs_background": "light"
     },
     "output_type": "display_data"
    }
   ],
   "source": [
    "plot_data = sample_submission\n",
    "k = 21 # turb id\n",
    "plt.plot(plot_data[(plot_data['TurbID']==k) & (plot_data['Day']==j)]['Tmstamp'], plot_data[(plot_data['TurbID']==k) & (plot_data['Day']==j)]['Patv'], linewidth=5.0,\n",
    "        label='predicted')\n",
    "plt.title(f'TurbID : {k}, Day:{j}')\n",
    "plt.legend()"
   ]
  },
  {
   "cell_type": "code",
   "execution_count": 47,
   "id": "fbd20eec",
   "metadata": {},
   "outputs": [
    {
     "data": {
      "text/html": [
       "<div>\n",
       "<style scoped>\n",
       "    .dataframe tbody tr th:only-of-type {\n",
       "        vertical-align: middle;\n",
       "    }\n",
       "\n",
       "    .dataframe tbody tr th {\n",
       "        vertical-align: top;\n",
       "    }\n",
       "\n",
       "    .dataframe thead th {\n",
       "        text-align: right;\n",
       "    }\n",
       "</style>\n",
       "<table border=\"1\" class=\"dataframe\">\n",
       "  <thead>\n",
       "    <tr style=\"text-align: right;\">\n",
       "      <th></th>\n",
       "      <th>index</th>\n",
       "      <th>TurbID</th>\n",
       "      <th>Day</th>\n",
       "      <th>Tmstamp</th>\n",
       "      <th>Wspd</th>\n",
       "      <th>Wdir</th>\n",
       "      <th>Etmp</th>\n",
       "      <th>Itmp</th>\n",
       "      <th>Ndir</th>\n",
       "      <th>Pab1</th>\n",
       "      <th>Pab2</th>\n",
       "      <th>Pab3</th>\n",
       "      <th>Prtv</th>\n",
       "      <th>Patv</th>\n",
       "    </tr>\n",
       "  </thead>\n",
       "  <tbody>\n",
       "    <tr>\n",
       "      <th>0</th>\n",
       "      <td>0</td>\n",
       "      <td>1</td>\n",
       "      <td>141</td>\n",
       "      <td>00:00</td>\n",
       "      <td>0</td>\n",
       "      <td>0</td>\n",
       "      <td>0</td>\n",
       "      <td>0</td>\n",
       "      <td>0</td>\n",
       "      <td>0</td>\n",
       "      <td>0</td>\n",
       "      <td>0</td>\n",
       "      <td>0</td>\n",
       "      <td>9999</td>\n",
       "    </tr>\n",
       "    <tr>\n",
       "      <th>1</th>\n",
       "      <td>1</td>\n",
       "      <td>1</td>\n",
       "      <td>141</td>\n",
       "      <td>00:10</td>\n",
       "      <td>0</td>\n",
       "      <td>0</td>\n",
       "      <td>0</td>\n",
       "      <td>0</td>\n",
       "      <td>0</td>\n",
       "      <td>0</td>\n",
       "      <td>0</td>\n",
       "      <td>0</td>\n",
       "      <td>0</td>\n",
       "      <td>9999</td>\n",
       "    </tr>\n",
       "    <tr>\n",
       "      <th>2</th>\n",
       "      <td>2</td>\n",
       "      <td>1</td>\n",
       "      <td>141</td>\n",
       "      <td>00:20</td>\n",
       "      <td>0</td>\n",
       "      <td>0</td>\n",
       "      <td>0</td>\n",
       "      <td>0</td>\n",
       "      <td>0</td>\n",
       "      <td>0</td>\n",
       "      <td>0</td>\n",
       "      <td>0</td>\n",
       "      <td>0</td>\n",
       "      <td>9999</td>\n",
       "    </tr>\n",
       "    <tr>\n",
       "      <th>3</th>\n",
       "      <td>3</td>\n",
       "      <td>1</td>\n",
       "      <td>141</td>\n",
       "      <td>00:30</td>\n",
       "      <td>0</td>\n",
       "      <td>0</td>\n",
       "      <td>0</td>\n",
       "      <td>0</td>\n",
       "      <td>0</td>\n",
       "      <td>0</td>\n",
       "      <td>0</td>\n",
       "      <td>0</td>\n",
       "      <td>0</td>\n",
       "      <td>9999</td>\n",
       "    </tr>\n",
       "    <tr>\n",
       "      <th>4</th>\n",
       "      <td>4</td>\n",
       "      <td>1</td>\n",
       "      <td>141</td>\n",
       "      <td>00:40</td>\n",
       "      <td>0</td>\n",
       "      <td>0</td>\n",
       "      <td>0</td>\n",
       "      <td>0</td>\n",
       "      <td>0</td>\n",
       "      <td>0</td>\n",
       "      <td>0</td>\n",
       "      <td>0</td>\n",
       "      <td>0</td>\n",
       "      <td>9999</td>\n",
       "    </tr>\n",
       "    <tr>\n",
       "      <th>...</th>\n",
       "      <td>...</td>\n",
       "      <td>...</td>\n",
       "      <td>...</td>\n",
       "      <td>...</td>\n",
       "      <td>...</td>\n",
       "      <td>...</td>\n",
       "      <td>...</td>\n",
       "      <td>...</td>\n",
       "      <td>...</td>\n",
       "      <td>...</td>\n",
       "      <td>...</td>\n",
       "      <td>...</td>\n",
       "      <td>...</td>\n",
       "      <td>...</td>\n",
       "    </tr>\n",
       "    <tr>\n",
       "      <th>38587</th>\n",
       "      <td>38587</td>\n",
       "      <td>134</td>\n",
       "      <td>142</td>\n",
       "      <td>23:10</td>\n",
       "      <td>0</td>\n",
       "      <td>0</td>\n",
       "      <td>0</td>\n",
       "      <td>0</td>\n",
       "      <td>0</td>\n",
       "      <td>0</td>\n",
       "      <td>0</td>\n",
       "      <td>0</td>\n",
       "      <td>0</td>\n",
       "      <td>9999</td>\n",
       "    </tr>\n",
       "    <tr>\n",
       "      <th>38588</th>\n",
       "      <td>38588</td>\n",
       "      <td>134</td>\n",
       "      <td>142</td>\n",
       "      <td>23:20</td>\n",
       "      <td>0</td>\n",
       "      <td>0</td>\n",
       "      <td>0</td>\n",
       "      <td>0</td>\n",
       "      <td>0</td>\n",
       "      <td>0</td>\n",
       "      <td>0</td>\n",
       "      <td>0</td>\n",
       "      <td>0</td>\n",
       "      <td>9999</td>\n",
       "    </tr>\n",
       "    <tr>\n",
       "      <th>38589</th>\n",
       "      <td>38589</td>\n",
       "      <td>134</td>\n",
       "      <td>142</td>\n",
       "      <td>23:30</td>\n",
       "      <td>0</td>\n",
       "      <td>0</td>\n",
       "      <td>0</td>\n",
       "      <td>0</td>\n",
       "      <td>0</td>\n",
       "      <td>0</td>\n",
       "      <td>0</td>\n",
       "      <td>0</td>\n",
       "      <td>0</td>\n",
       "      <td>9999</td>\n",
       "    </tr>\n",
       "    <tr>\n",
       "      <th>38590</th>\n",
       "      <td>38590</td>\n",
       "      <td>134</td>\n",
       "      <td>142</td>\n",
       "      <td>23:40</td>\n",
       "      <td>0</td>\n",
       "      <td>0</td>\n",
       "      <td>0</td>\n",
       "      <td>0</td>\n",
       "      <td>0</td>\n",
       "      <td>0</td>\n",
       "      <td>0</td>\n",
       "      <td>0</td>\n",
       "      <td>0</td>\n",
       "      <td>9999</td>\n",
       "    </tr>\n",
       "    <tr>\n",
       "      <th>38591</th>\n",
       "      <td>38591</td>\n",
       "      <td>134</td>\n",
       "      <td>142</td>\n",
       "      <td>23:50</td>\n",
       "      <td>0</td>\n",
       "      <td>0</td>\n",
       "      <td>0</td>\n",
       "      <td>0</td>\n",
       "      <td>0</td>\n",
       "      <td>0</td>\n",
       "      <td>0</td>\n",
       "      <td>0</td>\n",
       "      <td>0</td>\n",
       "      <td>9999</td>\n",
       "    </tr>\n",
       "  </tbody>\n",
       "</table>\n",
       "<p>38592 rows × 14 columns</p>\n",
       "</div>"
      ],
      "text/plain": [
       "       index  TurbID  Day Tmstamp  Wspd  Wdir  Etmp  Itmp  Ndir  Pab1  Pab2  \\\n",
       "0          0       1  141   00:00     0     0     0     0     0     0     0   \n",
       "1          1       1  141   00:10     0     0     0     0     0     0     0   \n",
       "2          2       1  141   00:20     0     0     0     0     0     0     0   \n",
       "3          3       1  141   00:30     0     0     0     0     0     0     0   \n",
       "4          4       1  141   00:40     0     0     0     0     0     0     0   \n",
       "...      ...     ...  ...     ...   ...   ...   ...   ...   ...   ...   ...   \n",
       "38587  38587     134  142   23:10     0     0     0     0     0     0     0   \n",
       "38588  38588     134  142   23:20     0     0     0     0     0     0     0   \n",
       "38589  38589     134  142   23:30     0     0     0     0     0     0     0   \n",
       "38590  38590     134  142   23:40     0     0     0     0     0     0     0   \n",
       "38591  38591     134  142   23:50     0     0     0     0     0     0     0   \n",
       "\n",
       "       Pab3  Prtv  Patv  \n",
       "0         0     0  9999  \n",
       "1         0     0  9999  \n",
       "2         0     0  9999  \n",
       "3         0     0  9999  \n",
       "4         0     0  9999  \n",
       "...     ...   ...   ...  \n",
       "38587     0     0  9999  \n",
       "38588     0     0  9999  \n",
       "38589     0     0  9999  \n",
       "38590     0     0  9999  \n",
       "38591     0     0  9999  \n",
       "\n",
       "[38592 rows x 14 columns]"
      ]
     },
     "execution_count": 47,
     "metadata": {},
     "output_type": "execute_result"
    }
   ],
   "source": [
    "sample_submission"
   ]
  },
  {
   "cell_type": "code",
   "execution_count": null,
   "id": "507393b8",
   "metadata": {},
   "outputs": [],
   "source": []
  }
 ],
 "metadata": {
  "kernelspec": {
   "display_name": "Python 3 (ipykernel)",
   "language": "python",
   "name": "python3"
  },
  "language_info": {
   "codemirror_mode": {
    "name": "ipython",
    "version": 3
   },
   "file_extension": ".py",
   "mimetype": "text/x-python",
   "name": "python",
   "nbconvert_exporter": "python",
   "pygments_lexer": "ipython3",
   "version": "3.8.12"
  },
  "toc": {
   "base_numbering": 1,
   "nav_menu": {},
   "number_sections": true,
   "sideBar": true,
   "skip_h1_title": false,
   "title_cell": "Table of Contents",
   "title_sidebar": "Contents",
   "toc_cell": false,
   "toc_position": {
    "height": "calc(100% - 180px)",
    "left": "10px",
    "top": "150px",
    "width": "409.6px"
   },
   "toc_section_display": true,
   "toc_window_display": false
  }
 },
 "nbformat": 4,
 "nbformat_minor": 5
}
