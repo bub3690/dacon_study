{
 "cells": [
  {
   "cell_type": "code",
   "execution_count": 436,
   "id": "aae1bd5f",
   "metadata": {},
   "outputs": [
    {
     "name": "stdout",
     "output_type": "stream",
     "text": [
      "Using Pytorch version :  1.10.2  Device :  cuda\n"
     ]
    }
   ],
   "source": [
    "import torch\n",
    "import matplotlib.pyplot as plt\n",
    "import numpy as np\n",
    "import torch\n",
    "import torch.nn as nn # 인공 신경망 모델들 모아놓은 모듈\n",
    "import torch.nn.functional as F #그중 자주 쓰이는것들을 F로\n",
    "from torch.utils.data import Dataset, DataLoader\n",
    "import pandas as pd\n",
    "import os\n",
    "from glob import glob\n",
    "import sys\n",
    "from sklearn.model_selection import train_test_split # train , test 분리에 사용.\n",
    "\n",
    "if torch.cuda.is_available():\n",
    "    DEVICE = torch.device('cuda')\n",
    "else:\n",
    "    DEVICE = torch.device('cpu')\n",
    "#DEVICE = torch.device('cpu')\n",
    "print('Using Pytorch version : ',torch.__version__,' Device : ',DEVICE)"
   ]
  },
  {
   "cell_type": "code",
   "execution_count": 437,
   "id": "07f7f7a1",
   "metadata": {},
   "outputs": [],
   "source": [
    "from tqdm import tqdm\n",
    "from datetime import datetime"
   ]
  },
  {
   "cell_type": "markdown",
   "id": "79af139e",
   "metadata": {},
   "source": [
    "# 데이터 전처리\n",
    "\n",
    "```\n",
    "\n",
    "TurbID - 발전기 ID\n",
    "\n",
    "Day - 날짜\n",
    "\n",
    "Tmstamp - 시간\n",
    "\n",
    "Wspd - 풍속\n",
    "\n",
    "Wdir - 터빈이 바라보는 각도와 실제 바람 방향 각도 차이\n",
    "\n",
    "Etmp - 외부 온도\n",
    "\n",
    "Itmp - 터빈 내부 온도\n",
    "\n",
    "Ndir - 터빈이 바라보는 방향 각도\n",
    "\n",
    "Pab - 터빈 당 3개의 날이 있으며 각각의 각도가 다름\n",
    "\n",
    "Prtv - 무효전력 : 에너지원을 필요로 하지 않는 전력\n",
    "\n",
    "Patv - 유효전력 : 실제로 터빈을 돌리는 일을 하는 전력\n",
    "\n",
    "````\n",
    "\n",
    "\n",
    "베이스 라인 제공 전처리 방법"
   ]
  },
  {
   "cell_type": "code",
   "execution_count": 438,
   "id": "5c000a23",
   "metadata": {},
   "outputs": [],
   "source": [
    "train_data = pd.read_csv(\"data/train_data.csv\")\n",
    "sample_submission = pd.read_csv(\"data/sample_submission.csv\")"
   ]
  },
  {
   "cell_type": "code",
   "execution_count": 439,
   "id": "0839be7b",
   "metadata": {},
   "outputs": [
    {
     "data": {
      "text/plain": [
       "TurbID         0\n",
       "Day            0\n",
       "Tmstamp        0\n",
       "Wspd       45587\n",
       "Wdir       45587\n",
       "Etmp       45587\n",
       "Itmp       45587\n",
       "Ndir       45587\n",
       "Pab1       45587\n",
       "Pab2       45587\n",
       "Pab3       45587\n",
       "Prtv       45587\n",
       "Patv       45587\n",
       "dtype: int64"
      ]
     },
     "execution_count": 439,
     "metadata": {},
     "output_type": "execute_result"
    }
   ],
   "source": [
    "# train_data의 결측값 확인\n",
    "train_data.isnull().sum()"
   ]
  },
  {
   "cell_type": "code",
   "execution_count": 440,
   "id": "6a3dbb3a",
   "metadata": {},
   "outputs": [
    {
     "name": "stdout",
     "output_type": "stream",
     "text": [
      "TurbID     0\n",
      "Day        0\n",
      "Tmstamp    0\n",
      "Wspd       0\n",
      "Wdir       0\n",
      "Etmp       0\n",
      "Itmp       0\n",
      "Ndir       0\n",
      "Pab1       0\n",
      "Pab2       0\n",
      "Pab3       0\n",
      "Prtv       0\n",
      "Patv       0\n",
      "dtype: int64\n"
     ]
    }
   ],
   "source": [
    "# method : 결측값을 변경할 방식입니다. bfill로 할경우 결측값을 바로 아래 값과 동일하게 변경합니다.\n",
    "# 결측값 처리\n",
    "train_data = train_data.fillna(method = 'ffill').fillna(method = 'bfill')\n",
    "\n",
    "print(train_data.isnull().sum())"
   ]
  },
  {
   "cell_type": "code",
   "execution_count": 441,
   "id": "a59356c0",
   "metadata": {},
   "outputs": [
    {
     "data": {
      "text/html": [
       "<div>\n",
       "<style scoped>\n",
       "    .dataframe tbody tr th:only-of-type {\n",
       "        vertical-align: middle;\n",
       "    }\n",
       "\n",
       "    .dataframe tbody tr th {\n",
       "        vertical-align: top;\n",
       "    }\n",
       "\n",
       "    .dataframe thead th {\n",
       "        text-align: right;\n",
       "    }\n",
       "</style>\n",
       "<table border=\"1\" class=\"dataframe\">\n",
       "  <thead>\n",
       "    <tr style=\"text-align: right;\">\n",
       "      <th></th>\n",
       "      <th>TurbID</th>\n",
       "      <th>Day</th>\n",
       "      <th>Tmstamp</th>\n",
       "      <th>Wspd</th>\n",
       "      <th>Wdir</th>\n",
       "      <th>Etmp</th>\n",
       "      <th>Itmp</th>\n",
       "      <th>Ndir</th>\n",
       "      <th>Pab1</th>\n",
       "      <th>Pab2</th>\n",
       "      <th>Pab3</th>\n",
       "      <th>Prtv</th>\n",
       "      <th>Patv</th>\n",
       "    </tr>\n",
       "  </thead>\n",
       "  <tbody>\n",
       "    <tr>\n",
       "      <th>0</th>\n",
       "      <td>1</td>\n",
       "      <td>1</td>\n",
       "      <td>00:00</td>\n",
       "      <td>6.17</td>\n",
       "      <td>-3.99</td>\n",
       "      <td>30.73</td>\n",
       "      <td>41.80</td>\n",
       "      <td>25.92</td>\n",
       "      <td>1.00</td>\n",
       "      <td>1.00</td>\n",
       "      <td>1.00</td>\n",
       "      <td>-0.25</td>\n",
       "      <td>494.66</td>\n",
       "    </tr>\n",
       "    <tr>\n",
       "      <th>1</th>\n",
       "      <td>1</td>\n",
       "      <td>1</td>\n",
       "      <td>00:10</td>\n",
       "      <td>6.17</td>\n",
       "      <td>-3.99</td>\n",
       "      <td>30.73</td>\n",
       "      <td>41.80</td>\n",
       "      <td>25.92</td>\n",
       "      <td>1.00</td>\n",
       "      <td>1.00</td>\n",
       "      <td>1.00</td>\n",
       "      <td>-0.25</td>\n",
       "      <td>494.66</td>\n",
       "    </tr>\n",
       "    <tr>\n",
       "      <th>2</th>\n",
       "      <td>1</td>\n",
       "      <td>1</td>\n",
       "      <td>00:20</td>\n",
       "      <td>6.27</td>\n",
       "      <td>-2.18</td>\n",
       "      <td>30.60</td>\n",
       "      <td>41.63</td>\n",
       "      <td>20.91</td>\n",
       "      <td>1.00</td>\n",
       "      <td>1.00</td>\n",
       "      <td>1.00</td>\n",
       "      <td>-0.24</td>\n",
       "      <td>509.76</td>\n",
       "    </tr>\n",
       "    <tr>\n",
       "      <th>3</th>\n",
       "      <td>1</td>\n",
       "      <td>1</td>\n",
       "      <td>00:30</td>\n",
       "      <td>6.42</td>\n",
       "      <td>-0.73</td>\n",
       "      <td>30.52</td>\n",
       "      <td>41.52</td>\n",
       "      <td>20.91</td>\n",
       "      <td>1.00</td>\n",
       "      <td>1.00</td>\n",
       "      <td>1.00</td>\n",
       "      <td>-0.26</td>\n",
       "      <td>542.53</td>\n",
       "    </tr>\n",
       "    <tr>\n",
       "      <th>4</th>\n",
       "      <td>1</td>\n",
       "      <td>1</td>\n",
       "      <td>00:40</td>\n",
       "      <td>6.25</td>\n",
       "      <td>0.89</td>\n",
       "      <td>30.49</td>\n",
       "      <td>41.38</td>\n",
       "      <td>20.91</td>\n",
       "      <td>1.00</td>\n",
       "      <td>1.00</td>\n",
       "      <td>1.00</td>\n",
       "      <td>-0.23</td>\n",
       "      <td>509.36</td>\n",
       "    </tr>\n",
       "    <tr>\n",
       "      <th>...</th>\n",
       "      <td>...</td>\n",
       "      <td>...</td>\n",
       "      <td>...</td>\n",
       "      <td>...</td>\n",
       "      <td>...</td>\n",
       "      <td>...</td>\n",
       "      <td>...</td>\n",
       "      <td>...</td>\n",
       "      <td>...</td>\n",
       "      <td>...</td>\n",
       "      <td>...</td>\n",
       "      <td>...</td>\n",
       "      <td>...</td>\n",
       "    </tr>\n",
       "    <tr>\n",
       "      <th>139</th>\n",
       "      <td>1</td>\n",
       "      <td>1</td>\n",
       "      <td>23:10</td>\n",
       "      <td>9.95</td>\n",
       "      <td>0.49</td>\n",
       "      <td>28.71</td>\n",
       "      <td>42.53</td>\n",
       "      <td>-9.44</td>\n",
       "      <td>1.02</td>\n",
       "      <td>1.02</td>\n",
       "      <td>1.02</td>\n",
       "      <td>-0.29</td>\n",
       "      <td>1330.24</td>\n",
       "    </tr>\n",
       "    <tr>\n",
       "      <th>140</th>\n",
       "      <td>1</td>\n",
       "      <td>1</td>\n",
       "      <td>23:20</td>\n",
       "      <td>12.20</td>\n",
       "      <td>0.70</td>\n",
       "      <td>28.59</td>\n",
       "      <td>42.56</td>\n",
       "      <td>-8.17</td>\n",
       "      <td>1.08</td>\n",
       "      <td>1.08</td>\n",
       "      <td>1.08</td>\n",
       "      <td>-0.23</td>\n",
       "      <td>1550.74</td>\n",
       "    </tr>\n",
       "    <tr>\n",
       "      <th>141</th>\n",
       "      <td>1</td>\n",
       "      <td>1</td>\n",
       "      <td>23:30</td>\n",
       "      <td>12.66</td>\n",
       "      <td>1.09</td>\n",
       "      <td>28.54</td>\n",
       "      <td>42.23</td>\n",
       "      <td>-8.17</td>\n",
       "      <td>1.08</td>\n",
       "      <td>1.08</td>\n",
       "      <td>1.08</td>\n",
       "      <td>-0.21</td>\n",
       "      <td>1549.66</td>\n",
       "    </tr>\n",
       "    <tr>\n",
       "      <th>142</th>\n",
       "      <td>1</td>\n",
       "      <td>1</td>\n",
       "      <td>23:40</td>\n",
       "      <td>12.58</td>\n",
       "      <td>1.70</td>\n",
       "      <td>28.48</td>\n",
       "      <td>42.09</td>\n",
       "      <td>-8.17</td>\n",
       "      <td>1.08</td>\n",
       "      <td>1.08</td>\n",
       "      <td>1.08</td>\n",
       "      <td>-0.20</td>\n",
       "      <td>1549.64</td>\n",
       "    </tr>\n",
       "    <tr>\n",
       "      <th>143</th>\n",
       "      <td>1</td>\n",
       "      <td>1</td>\n",
       "      <td>23:50</td>\n",
       "      <td>9.95</td>\n",
       "      <td>-0.42</td>\n",
       "      <td>28.31</td>\n",
       "      <td>42.09</td>\n",
       "      <td>-8.17</td>\n",
       "      <td>1.01</td>\n",
       "      <td>1.01</td>\n",
       "      <td>1.01</td>\n",
       "      <td>-0.20</td>\n",
       "      <td>1361.95</td>\n",
       "    </tr>\n",
       "  </tbody>\n",
       "</table>\n",
       "<p>144 rows × 13 columns</p>\n",
       "</div>"
      ],
      "text/plain": [
       "     TurbID  Day Tmstamp   Wspd  Wdir   Etmp   Itmp   Ndir  Pab1  Pab2  Pab3  \\\n",
       "0         1    1   00:00   6.17 -3.99  30.73  41.80  25.92  1.00  1.00  1.00   \n",
       "1         1    1   00:10   6.17 -3.99  30.73  41.80  25.92  1.00  1.00  1.00   \n",
       "2         1    1   00:20   6.27 -2.18  30.60  41.63  20.91  1.00  1.00  1.00   \n",
       "3         1    1   00:30   6.42 -0.73  30.52  41.52  20.91  1.00  1.00  1.00   \n",
       "4         1    1   00:40   6.25  0.89  30.49  41.38  20.91  1.00  1.00  1.00   \n",
       "..      ...  ...     ...    ...   ...    ...    ...    ...   ...   ...   ...   \n",
       "139       1    1   23:10   9.95  0.49  28.71  42.53  -9.44  1.02  1.02  1.02   \n",
       "140       1    1   23:20  12.20  0.70  28.59  42.56  -8.17  1.08  1.08  1.08   \n",
       "141       1    1   23:30  12.66  1.09  28.54  42.23  -8.17  1.08  1.08  1.08   \n",
       "142       1    1   23:40  12.58  1.70  28.48  42.09  -8.17  1.08  1.08  1.08   \n",
       "143       1    1   23:50   9.95 -0.42  28.31  42.09  -8.17  1.01  1.01  1.01   \n",
       "\n",
       "     Prtv     Patv  \n",
       "0   -0.25   494.66  \n",
       "1   -0.25   494.66  \n",
       "2   -0.24   509.76  \n",
       "3   -0.26   542.53  \n",
       "4   -0.23   509.36  \n",
       "..    ...      ...  \n",
       "139 -0.29  1330.24  \n",
       "140 -0.23  1550.74  \n",
       "141 -0.21  1549.66  \n",
       "142 -0.20  1549.64  \n",
       "143 -0.20  1361.95  \n",
       "\n",
       "[144 rows x 13 columns]"
      ]
     },
     "execution_count": 441,
     "metadata": {},
     "output_type": "execute_result"
    }
   ],
   "source": [
    "train_data[(train_data[\"TurbID\"]==1)&(train_data[\"Day\"]==1)]"
   ]
  },
  {
   "cell_type": "code",
   "execution_count": 442,
   "id": "9881336b",
   "metadata": {},
   "outputs": [],
   "source": [
    "train_data=train_data[train_data[\"TurbID\"]==1]"
   ]
  },
  {
   "cell_type": "code",
   "execution_count": 443,
   "id": "0b684fff",
   "metadata": {},
   "outputs": [
    {
     "data": {
      "text/html": [
       "<div>\n",
       "<style scoped>\n",
       "    .dataframe tbody tr th:only-of-type {\n",
       "        vertical-align: middle;\n",
       "    }\n",
       "\n",
       "    .dataframe tbody tr th {\n",
       "        vertical-align: top;\n",
       "    }\n",
       "\n",
       "    .dataframe thead th {\n",
       "        text-align: right;\n",
       "    }\n",
       "</style>\n",
       "<table border=\"1\" class=\"dataframe\">\n",
       "  <thead>\n",
       "    <tr style=\"text-align: right;\">\n",
       "      <th></th>\n",
       "      <th>TurbID</th>\n",
       "      <th>Day</th>\n",
       "      <th>Tmstamp</th>\n",
       "      <th>Wspd</th>\n",
       "      <th>Wdir</th>\n",
       "      <th>Etmp</th>\n",
       "      <th>Itmp</th>\n",
       "      <th>Ndir</th>\n",
       "      <th>Pab1</th>\n",
       "      <th>Pab2</th>\n",
       "      <th>Pab3</th>\n",
       "      <th>Prtv</th>\n",
       "      <th>Patv</th>\n",
       "    </tr>\n",
       "  </thead>\n",
       "  <tbody>\n",
       "    <tr>\n",
       "      <th>0</th>\n",
       "      <td>1</td>\n",
       "      <td>1</td>\n",
       "      <td>00:00</td>\n",
       "      <td>6.17</td>\n",
       "      <td>-3.99</td>\n",
       "      <td>30.73</td>\n",
       "      <td>41.80</td>\n",
       "      <td>25.92</td>\n",
       "      <td>1.00</td>\n",
       "      <td>1.00</td>\n",
       "      <td>1.00</td>\n",
       "      <td>-0.25</td>\n",
       "      <td>494.66</td>\n",
       "    </tr>\n",
       "    <tr>\n",
       "      <th>1</th>\n",
       "      <td>1</td>\n",
       "      <td>1</td>\n",
       "      <td>00:10</td>\n",
       "      <td>6.17</td>\n",
       "      <td>-3.99</td>\n",
       "      <td>30.73</td>\n",
       "      <td>41.80</td>\n",
       "      <td>25.92</td>\n",
       "      <td>1.00</td>\n",
       "      <td>1.00</td>\n",
       "      <td>1.00</td>\n",
       "      <td>-0.25</td>\n",
       "      <td>494.66</td>\n",
       "    </tr>\n",
       "    <tr>\n",
       "      <th>2</th>\n",
       "      <td>1</td>\n",
       "      <td>1</td>\n",
       "      <td>00:20</td>\n",
       "      <td>6.27</td>\n",
       "      <td>-2.18</td>\n",
       "      <td>30.60</td>\n",
       "      <td>41.63</td>\n",
       "      <td>20.91</td>\n",
       "      <td>1.00</td>\n",
       "      <td>1.00</td>\n",
       "      <td>1.00</td>\n",
       "      <td>-0.24</td>\n",
       "      <td>509.76</td>\n",
       "    </tr>\n",
       "    <tr>\n",
       "      <th>3</th>\n",
       "      <td>1</td>\n",
       "      <td>1</td>\n",
       "      <td>00:30</td>\n",
       "      <td>6.42</td>\n",
       "      <td>-0.73</td>\n",
       "      <td>30.52</td>\n",
       "      <td>41.52</td>\n",
       "      <td>20.91</td>\n",
       "      <td>1.00</td>\n",
       "      <td>1.00</td>\n",
       "      <td>1.00</td>\n",
       "      <td>-0.26</td>\n",
       "      <td>542.53</td>\n",
       "    </tr>\n",
       "    <tr>\n",
       "      <th>4</th>\n",
       "      <td>1</td>\n",
       "      <td>1</td>\n",
       "      <td>00:40</td>\n",
       "      <td>6.25</td>\n",
       "      <td>0.89</td>\n",
       "      <td>30.49</td>\n",
       "      <td>41.38</td>\n",
       "      <td>20.91</td>\n",
       "      <td>1.00</td>\n",
       "      <td>1.00</td>\n",
       "      <td>1.00</td>\n",
       "      <td>-0.23</td>\n",
       "      <td>509.36</td>\n",
       "    </tr>\n",
       "    <tr>\n",
       "      <th>...</th>\n",
       "      <td>...</td>\n",
       "      <td>...</td>\n",
       "      <td>...</td>\n",
       "      <td>...</td>\n",
       "      <td>...</td>\n",
       "      <td>...</td>\n",
       "      <td>...</td>\n",
       "      <td>...</td>\n",
       "      <td>...</td>\n",
       "      <td>...</td>\n",
       "      <td>...</td>\n",
       "      <td>...</td>\n",
       "      <td>...</td>\n",
       "    </tr>\n",
       "    <tr>\n",
       "      <th>28795</th>\n",
       "      <td>1</td>\n",
       "      <td>200</td>\n",
       "      <td>23:10</td>\n",
       "      <td>4.70</td>\n",
       "      <td>-0.04</td>\n",
       "      <td>10.46</td>\n",
       "      <td>27.67</td>\n",
       "      <td>201.38</td>\n",
       "      <td>0.99</td>\n",
       "      <td>0.99</td>\n",
       "      <td>0.99</td>\n",
       "      <td>-0.29</td>\n",
       "      <td>296.34</td>\n",
       "    </tr>\n",
       "    <tr>\n",
       "      <th>28796</th>\n",
       "      <td>1</td>\n",
       "      <td>200</td>\n",
       "      <td>23:20</td>\n",
       "      <td>3.53</td>\n",
       "      <td>-2.37</td>\n",
       "      <td>11.32</td>\n",
       "      <td>28.65</td>\n",
       "      <td>191.85</td>\n",
       "      <td>0.99</td>\n",
       "      <td>0.99</td>\n",
       "      <td>0.99</td>\n",
       "      <td>-0.22</td>\n",
       "      <td>178.46</td>\n",
       "    </tr>\n",
       "    <tr>\n",
       "      <th>28797</th>\n",
       "      <td>1</td>\n",
       "      <td>200</td>\n",
       "      <td>23:30</td>\n",
       "      <td>3.50</td>\n",
       "      <td>-0.65</td>\n",
       "      <td>11.81</td>\n",
       "      <td>29.29</td>\n",
       "      <td>187.51</td>\n",
       "      <td>0.99</td>\n",
       "      <td>0.99</td>\n",
       "      <td>0.99</td>\n",
       "      <td>-0.24</td>\n",
       "      <td>164.19</td>\n",
       "    </tr>\n",
       "    <tr>\n",
       "      <th>28798</th>\n",
       "      <td>1</td>\n",
       "      <td>200</td>\n",
       "      <td>23:40</td>\n",
       "      <td>4.26</td>\n",
       "      <td>0.50</td>\n",
       "      <td>10.08</td>\n",
       "      <td>28.13</td>\n",
       "      <td>187.51</td>\n",
       "      <td>0.99</td>\n",
       "      <td>0.99</td>\n",
       "      <td>0.99</td>\n",
       "      <td>-0.28</td>\n",
       "      <td>259.42</td>\n",
       "    </tr>\n",
       "    <tr>\n",
       "      <th>28799</th>\n",
       "      <td>1</td>\n",
       "      <td>200</td>\n",
       "      <td>23:50</td>\n",
       "      <td>3.97</td>\n",
       "      <td>0.92</td>\n",
       "      <td>10.96</td>\n",
       "      <td>28.46</td>\n",
       "      <td>191.23</td>\n",
       "      <td>0.99</td>\n",
       "      <td>0.99</td>\n",
       "      <td>0.99</td>\n",
       "      <td>-0.27</td>\n",
       "      <td>218.70</td>\n",
       "    </tr>\n",
       "  </tbody>\n",
       "</table>\n",
       "<p>28800 rows × 13 columns</p>\n",
       "</div>"
      ],
      "text/plain": [
       "       TurbID  Day Tmstamp  Wspd  Wdir   Etmp   Itmp    Ndir  Pab1  Pab2  \\\n",
       "0           1    1   00:00  6.17 -3.99  30.73  41.80   25.92  1.00  1.00   \n",
       "1           1    1   00:10  6.17 -3.99  30.73  41.80   25.92  1.00  1.00   \n",
       "2           1    1   00:20  6.27 -2.18  30.60  41.63   20.91  1.00  1.00   \n",
       "3           1    1   00:30  6.42 -0.73  30.52  41.52   20.91  1.00  1.00   \n",
       "4           1    1   00:40  6.25  0.89  30.49  41.38   20.91  1.00  1.00   \n",
       "...       ...  ...     ...   ...   ...    ...    ...     ...   ...   ...   \n",
       "28795       1  200   23:10  4.70 -0.04  10.46  27.67  201.38  0.99  0.99   \n",
       "28796       1  200   23:20  3.53 -2.37  11.32  28.65  191.85  0.99  0.99   \n",
       "28797       1  200   23:30  3.50 -0.65  11.81  29.29  187.51  0.99  0.99   \n",
       "28798       1  200   23:40  4.26  0.50  10.08  28.13  187.51  0.99  0.99   \n",
       "28799       1  200   23:50  3.97  0.92  10.96  28.46  191.23  0.99  0.99   \n",
       "\n",
       "       Pab3  Prtv    Patv  \n",
       "0      1.00 -0.25  494.66  \n",
       "1      1.00 -0.25  494.66  \n",
       "2      1.00 -0.24  509.76  \n",
       "3      1.00 -0.26  542.53  \n",
       "4      1.00 -0.23  509.36  \n",
       "...     ...   ...     ...  \n",
       "28795  0.99 -0.29  296.34  \n",
       "28796  0.99 -0.22  178.46  \n",
       "28797  0.99 -0.24  164.19  \n",
       "28798  0.99 -0.28  259.42  \n",
       "28799  0.99 -0.27  218.70  \n",
       "\n",
       "[28800 rows x 13 columns]"
      ]
     },
     "execution_count": 443,
     "metadata": {},
     "output_type": "execute_result"
    }
   ],
   "source": [
    "train_data"
   ]
  },
  {
   "cell_type": "code",
   "execution_count": 444,
   "id": "f284a83d",
   "metadata": {},
   "outputs": [],
   "source": [
    "# Y value 추가\n",
    "train_data['Wspd_y']=train_data['Wspd']"
   ]
  },
  {
   "cell_type": "markdown",
   "id": "e1111f49",
   "metadata": {},
   "source": [
    "# 데이터셋"
   ]
  },
  {
   "cell_type": "code",
   "execution_count": 375,
   "id": "b5640e60",
   "metadata": {},
   "outputs": [],
   "source": [
    "#train_data['Wspd']=train_data['Wspd'].shift(+1).fillna(method=\"bfill\")"
   ]
  },
  {
   "cell_type": "code",
   "execution_count": 376,
   "id": "ff45e8d1",
   "metadata": {},
   "outputs": [],
   "source": [
    "# X 값들 수정해주기\n",
    "#for dat in X_data:\n",
    "#    dat[:,1]=np.log1p(dat[:,1])\n",
    "\n"
   ]
  },
  {
   "cell_type": "code",
   "execution_count": 377,
   "id": "241257dc",
   "metadata": {
    "scrolled": true
   },
   "outputs": [
    {
     "data": {
      "text/html": [
       "<div>\n",
       "<style scoped>\n",
       "    .dataframe tbody tr th:only-of-type {\n",
       "        vertical-align: middle;\n",
       "    }\n",
       "\n",
       "    .dataframe tbody tr th {\n",
       "        vertical-align: top;\n",
       "    }\n",
       "\n",
       "    .dataframe thead th {\n",
       "        text-align: right;\n",
       "    }\n",
       "</style>\n",
       "<table border=\"1\" class=\"dataframe\">\n",
       "  <thead>\n",
       "    <tr style=\"text-align: right;\">\n",
       "      <th></th>\n",
       "      <th>TurbID</th>\n",
       "      <th>Day</th>\n",
       "      <th>Tmstamp</th>\n",
       "      <th>Wspd</th>\n",
       "      <th>Wdir</th>\n",
       "      <th>Etmp</th>\n",
       "      <th>Itmp</th>\n",
       "      <th>Ndir</th>\n",
       "      <th>Pab1</th>\n",
       "      <th>Pab2</th>\n",
       "      <th>Pab3</th>\n",
       "      <th>Prtv</th>\n",
       "      <th>Patv</th>\n",
       "      <th>Wspd_y</th>\n",
       "    </tr>\n",
       "  </thead>\n",
       "  <tbody>\n",
       "    <tr>\n",
       "      <th>0</th>\n",
       "      <td>1</td>\n",
       "      <td>1</td>\n",
       "      <td>00:00</td>\n",
       "      <td>6.17</td>\n",
       "      <td>-3.99</td>\n",
       "      <td>30.73</td>\n",
       "      <td>41.80</td>\n",
       "      <td>25.92</td>\n",
       "      <td>1.00</td>\n",
       "      <td>1.00</td>\n",
       "      <td>1.00</td>\n",
       "      <td>-0.25</td>\n",
       "      <td>494.66</td>\n",
       "      <td>6.17</td>\n",
       "    </tr>\n",
       "    <tr>\n",
       "      <th>1</th>\n",
       "      <td>1</td>\n",
       "      <td>1</td>\n",
       "      <td>00:10</td>\n",
       "      <td>6.17</td>\n",
       "      <td>-3.99</td>\n",
       "      <td>30.73</td>\n",
       "      <td>41.80</td>\n",
       "      <td>25.92</td>\n",
       "      <td>1.00</td>\n",
       "      <td>1.00</td>\n",
       "      <td>1.00</td>\n",
       "      <td>-0.25</td>\n",
       "      <td>494.66</td>\n",
       "      <td>6.17</td>\n",
       "    </tr>\n",
       "    <tr>\n",
       "      <th>2</th>\n",
       "      <td>1</td>\n",
       "      <td>1</td>\n",
       "      <td>00:20</td>\n",
       "      <td>6.27</td>\n",
       "      <td>-2.18</td>\n",
       "      <td>30.60</td>\n",
       "      <td>41.63</td>\n",
       "      <td>20.91</td>\n",
       "      <td>1.00</td>\n",
       "      <td>1.00</td>\n",
       "      <td>1.00</td>\n",
       "      <td>-0.24</td>\n",
       "      <td>509.76</td>\n",
       "      <td>6.27</td>\n",
       "    </tr>\n",
       "    <tr>\n",
       "      <th>3</th>\n",
       "      <td>1</td>\n",
       "      <td>1</td>\n",
       "      <td>00:30</td>\n",
       "      <td>6.42</td>\n",
       "      <td>-0.73</td>\n",
       "      <td>30.52</td>\n",
       "      <td>41.52</td>\n",
       "      <td>20.91</td>\n",
       "      <td>1.00</td>\n",
       "      <td>1.00</td>\n",
       "      <td>1.00</td>\n",
       "      <td>-0.26</td>\n",
       "      <td>542.53</td>\n",
       "      <td>6.42</td>\n",
       "    </tr>\n",
       "    <tr>\n",
       "      <th>4</th>\n",
       "      <td>1</td>\n",
       "      <td>1</td>\n",
       "      <td>00:40</td>\n",
       "      <td>6.25</td>\n",
       "      <td>0.89</td>\n",
       "      <td>30.49</td>\n",
       "      <td>41.38</td>\n",
       "      <td>20.91</td>\n",
       "      <td>1.00</td>\n",
       "      <td>1.00</td>\n",
       "      <td>1.00</td>\n",
       "      <td>-0.23</td>\n",
       "      <td>509.36</td>\n",
       "      <td>6.25</td>\n",
       "    </tr>\n",
       "    <tr>\n",
       "      <th>5</th>\n",
       "      <td>1</td>\n",
       "      <td>1</td>\n",
       "      <td>00:50</td>\n",
       "      <td>6.10</td>\n",
       "      <td>-1.03</td>\n",
       "      <td>30.47</td>\n",
       "      <td>41.22</td>\n",
       "      <td>20.91</td>\n",
       "      <td>1.00</td>\n",
       "      <td>1.00</td>\n",
       "      <td>1.00</td>\n",
       "      <td>-0.27</td>\n",
       "      <td>482.21</td>\n",
       "      <td>6.10</td>\n",
       "    </tr>\n",
       "    <tr>\n",
       "      <th>6</th>\n",
       "      <td>1</td>\n",
       "      <td>1</td>\n",
       "      <td>01:00</td>\n",
       "      <td>6.77</td>\n",
       "      <td>1.07</td>\n",
       "      <td>30.31</td>\n",
       "      <td>41.19</td>\n",
       "      <td>20.91</td>\n",
       "      <td>1.00</td>\n",
       "      <td>1.00</td>\n",
       "      <td>1.00</td>\n",
       "      <td>-0.23</td>\n",
       "      <td>584.75</td>\n",
       "      <td>6.77</td>\n",
       "    </tr>\n",
       "    <tr>\n",
       "      <th>7</th>\n",
       "      <td>1</td>\n",
       "      <td>1</td>\n",
       "      <td>01:10</td>\n",
       "      <td>6.70</td>\n",
       "      <td>-2.80</td>\n",
       "      <td>30.24</td>\n",
       "      <td>41.00</td>\n",
       "      <td>20.91</td>\n",
       "      <td>1.00</td>\n",
       "      <td>1.00</td>\n",
       "      <td>1.00</td>\n",
       "      <td>-0.23</td>\n",
       "      <td>557.98</td>\n",
       "      <td>6.70</td>\n",
       "    </tr>\n",
       "    <tr>\n",
       "      <th>8</th>\n",
       "      <td>1</td>\n",
       "      <td>1</td>\n",
       "      <td>01:20</td>\n",
       "      <td>6.44</td>\n",
       "      <td>-3.46</td>\n",
       "      <td>30.13</td>\n",
       "      <td>40.91</td>\n",
       "      <td>20.91</td>\n",
       "      <td>1.00</td>\n",
       "      <td>1.00</td>\n",
       "      <td>1.00</td>\n",
       "      <td>-0.21</td>\n",
       "      <td>503.94</td>\n",
       "      <td>6.44</td>\n",
       "    </tr>\n",
       "    <tr>\n",
       "      <th>9</th>\n",
       "      <td>1</td>\n",
       "      <td>1</td>\n",
       "      <td>01:30</td>\n",
       "      <td>6.25</td>\n",
       "      <td>-3.15</td>\n",
       "      <td>29.97</td>\n",
       "      <td>40.72</td>\n",
       "      <td>20.91</td>\n",
       "      <td>1.00</td>\n",
       "      <td>1.00</td>\n",
       "      <td>1.00</td>\n",
       "      <td>-0.26</td>\n",
       "      <td>463.37</td>\n",
       "      <td>6.25</td>\n",
       "    </tr>\n",
       "    <tr>\n",
       "      <th>10</th>\n",
       "      <td>1</td>\n",
       "      <td>1</td>\n",
       "      <td>01:40</td>\n",
       "      <td>6.87</td>\n",
       "      <td>-4.58</td>\n",
       "      <td>29.87</td>\n",
       "      <td>40.70</td>\n",
       "      <td>20.91</td>\n",
       "      <td>1.00</td>\n",
       "      <td>1.00</td>\n",
       "      <td>1.00</td>\n",
       "      <td>-0.25</td>\n",
       "      <td>577.47</td>\n",
       "      <td>6.87</td>\n",
       "    </tr>\n",
       "    <tr>\n",
       "      <th>11</th>\n",
       "      <td>1</td>\n",
       "      <td>1</td>\n",
       "      <td>01:50</td>\n",
       "      <td>6.60</td>\n",
       "      <td>-2.17</td>\n",
       "      <td>29.75</td>\n",
       "      <td>40.62</td>\n",
       "      <td>16.87</td>\n",
       "      <td>1.00</td>\n",
       "      <td>1.00</td>\n",
       "      <td>1.00</td>\n",
       "      <td>-0.25</td>\n",
       "      <td>538.85</td>\n",
       "      <td>6.60</td>\n",
       "    </tr>\n",
       "    <tr>\n",
       "      <th>12</th>\n",
       "      <td>1</td>\n",
       "      <td>1</td>\n",
       "      <td>02:00</td>\n",
       "      <td>6.71</td>\n",
       "      <td>-1.42</td>\n",
       "      <td>29.68</td>\n",
       "      <td>40.47</td>\n",
       "      <td>13.32</td>\n",
       "      <td>1.00</td>\n",
       "      <td>1.00</td>\n",
       "      <td>1.00</td>\n",
       "      <td>-0.26</td>\n",
       "      <td>559.37</td>\n",
       "      <td>6.71</td>\n",
       "    </tr>\n",
       "    <tr>\n",
       "      <th>13</th>\n",
       "      <td>1</td>\n",
       "      <td>1</td>\n",
       "      <td>02:10</td>\n",
       "      <td>6.86</td>\n",
       "      <td>-3.85</td>\n",
       "      <td>29.61</td>\n",
       "      <td>40.44</td>\n",
       "      <td>13.32</td>\n",
       "      <td>1.00</td>\n",
       "      <td>1.00</td>\n",
       "      <td>1.00</td>\n",
       "      <td>-0.23</td>\n",
       "      <td>585.51</td>\n",
       "      <td>6.86</td>\n",
       "    </tr>\n",
       "    <tr>\n",
       "      <th>14</th>\n",
       "      <td>1</td>\n",
       "      <td>1</td>\n",
       "      <td>02:20</td>\n",
       "      <td>6.88</td>\n",
       "      <td>-1.31</td>\n",
       "      <td>29.68</td>\n",
       "      <td>40.49</td>\n",
       "      <td>13.32</td>\n",
       "      <td>1.00</td>\n",
       "      <td>1.00</td>\n",
       "      <td>1.00</td>\n",
       "      <td>-0.26</td>\n",
       "      <td>608.83</td>\n",
       "      <td>6.88</td>\n",
       "    </tr>\n",
       "    <tr>\n",
       "      <th>15</th>\n",
       "      <td>1</td>\n",
       "      <td>1</td>\n",
       "      <td>02:30</td>\n",
       "      <td>7.10</td>\n",
       "      <td>-0.57</td>\n",
       "      <td>29.70</td>\n",
       "      <td>40.44</td>\n",
       "      <td>13.32</td>\n",
       "      <td>1.00</td>\n",
       "      <td>1.00</td>\n",
       "      <td>1.00</td>\n",
       "      <td>-0.28</td>\n",
       "      <td>675.43</td>\n",
       "      <td>7.10</td>\n",
       "    </tr>\n",
       "    <tr>\n",
       "      <th>16</th>\n",
       "      <td>1</td>\n",
       "      <td>1</td>\n",
       "      <td>02:40</td>\n",
       "      <td>7.16</td>\n",
       "      <td>-2.52</td>\n",
       "      <td>29.70</td>\n",
       "      <td>40.40</td>\n",
       "      <td>7.92</td>\n",
       "      <td>1.00</td>\n",
       "      <td>1.00</td>\n",
       "      <td>1.00</td>\n",
       "      <td>-0.25</td>\n",
       "      <td>716.68</td>\n",
       "      <td>7.16</td>\n",
       "    </tr>\n",
       "    <tr>\n",
       "      <th>17</th>\n",
       "      <td>1</td>\n",
       "      <td>1</td>\n",
       "      <td>02:50</td>\n",
       "      <td>6.80</td>\n",
       "      <td>-3.16</td>\n",
       "      <td>29.70</td>\n",
       "      <td>40.48</td>\n",
       "      <td>2.87</td>\n",
       "      <td>1.00</td>\n",
       "      <td>1.00</td>\n",
       "      <td>1.00</td>\n",
       "      <td>-0.30</td>\n",
       "      <td>629.83</td>\n",
       "      <td>6.80</td>\n",
       "    </tr>\n",
       "    <tr>\n",
       "      <th>18</th>\n",
       "      <td>1</td>\n",
       "      <td>1</td>\n",
       "      <td>03:00</td>\n",
       "      <td>6.85</td>\n",
       "      <td>3.03</td>\n",
       "      <td>29.70</td>\n",
       "      <td>40.53</td>\n",
       "      <td>-1.86</td>\n",
       "      <td>1.00</td>\n",
       "      <td>1.00</td>\n",
       "      <td>1.00</td>\n",
       "      <td>-0.26</td>\n",
       "      <td>651.13</td>\n",
       "      <td>6.85</td>\n",
       "    </tr>\n",
       "    <tr>\n",
       "      <th>19</th>\n",
       "      <td>1</td>\n",
       "      <td>1</td>\n",
       "      <td>03:10</td>\n",
       "      <td>6.85</td>\n",
       "      <td>-0.64</td>\n",
       "      <td>29.75</td>\n",
       "      <td>40.60</td>\n",
       "      <td>2.66</td>\n",
       "      <td>1.00</td>\n",
       "      <td>1.00</td>\n",
       "      <td>1.00</td>\n",
       "      <td>-0.27</td>\n",
       "      <td>677.56</td>\n",
       "      <td>6.85</td>\n",
       "    </tr>\n",
       "    <tr>\n",
       "      <th>20</th>\n",
       "      <td>1</td>\n",
       "      <td>1</td>\n",
       "      <td>03:20</td>\n",
       "      <td>6.57</td>\n",
       "      <td>-3.02</td>\n",
       "      <td>29.89</td>\n",
       "      <td>40.76</td>\n",
       "      <td>5.73</td>\n",
       "      <td>1.00</td>\n",
       "      <td>1.00</td>\n",
       "      <td>1.00</td>\n",
       "      <td>-0.27</td>\n",
       "      <td>619.05</td>\n",
       "      <td>6.57</td>\n",
       "    </tr>\n",
       "    <tr>\n",
       "      <th>21</th>\n",
       "      <td>1</td>\n",
       "      <td>1</td>\n",
       "      <td>03:30</td>\n",
       "      <td>6.36</td>\n",
       "      <td>-1.60</td>\n",
       "      <td>29.83</td>\n",
       "      <td>40.86</td>\n",
       "      <td>5.73</td>\n",
       "      <td>1.00</td>\n",
       "      <td>1.00</td>\n",
       "      <td>1.00</td>\n",
       "      <td>-0.31</td>\n",
       "      <td>576.73</td>\n",
       "      <td>6.36</td>\n",
       "    </tr>\n",
       "    <tr>\n",
       "      <th>22</th>\n",
       "      <td>1</td>\n",
       "      <td>1</td>\n",
       "      <td>03:40</td>\n",
       "      <td>6.88</td>\n",
       "      <td>-1.41</td>\n",
       "      <td>29.79</td>\n",
       "      <td>40.83</td>\n",
       "      <td>1.42</td>\n",
       "      <td>1.00</td>\n",
       "      <td>1.00</td>\n",
       "      <td>1.00</td>\n",
       "      <td>-0.28</td>\n",
       "      <td>665.23</td>\n",
       "      <td>6.88</td>\n",
       "    </tr>\n",
       "    <tr>\n",
       "      <th>23</th>\n",
       "      <td>1</td>\n",
       "      <td>1</td>\n",
       "      <td>03:50</td>\n",
       "      <td>7.32</td>\n",
       "      <td>-0.70</td>\n",
       "      <td>29.79</td>\n",
       "      <td>40.93</td>\n",
       "      <td>-1.86</td>\n",
       "      <td>1.00</td>\n",
       "      <td>1.00</td>\n",
       "      <td>1.00</td>\n",
       "      <td>-0.26</td>\n",
       "      <td>761.74</td>\n",
       "      <td>7.32</td>\n",
       "    </tr>\n",
       "    <tr>\n",
       "      <th>24</th>\n",
       "      <td>1</td>\n",
       "      <td>1</td>\n",
       "      <td>04:00</td>\n",
       "      <td>7.92</td>\n",
       "      <td>-1.04</td>\n",
       "      <td>29.81</td>\n",
       "      <td>40.80</td>\n",
       "      <td>-7.79</td>\n",
       "      <td>1.00</td>\n",
       "      <td>1.00</td>\n",
       "      <td>1.00</td>\n",
       "      <td>-0.25</td>\n",
       "      <td>898.34</td>\n",
       "      <td>7.92</td>\n",
       "    </tr>\n",
       "    <tr>\n",
       "      <th>25</th>\n",
       "      <td>1</td>\n",
       "      <td>1</td>\n",
       "      <td>04:10</td>\n",
       "      <td>7.73</td>\n",
       "      <td>2.44</td>\n",
       "      <td>29.80</td>\n",
       "      <td>40.82</td>\n",
       "      <td>-9.46</td>\n",
       "      <td>1.00</td>\n",
       "      <td>1.00</td>\n",
       "      <td>1.00</td>\n",
       "      <td>-0.32</td>\n",
       "      <td>867.22</td>\n",
       "      <td>7.73</td>\n",
       "    </tr>\n",
       "    <tr>\n",
       "      <th>26</th>\n",
       "      <td>1</td>\n",
       "      <td>1</td>\n",
       "      <td>04:20</td>\n",
       "      <td>8.46</td>\n",
       "      <td>2.76</td>\n",
       "      <td>29.91</td>\n",
       "      <td>40.86</td>\n",
       "      <td>-7.77</td>\n",
       "      <td>1.00</td>\n",
       "      <td>1.00</td>\n",
       "      <td>1.00</td>\n",
       "      <td>-0.26</td>\n",
       "      <td>1048.81</td>\n",
       "      <td>8.46</td>\n",
       "    </tr>\n",
       "    <tr>\n",
       "      <th>27</th>\n",
       "      <td>1</td>\n",
       "      <td>1</td>\n",
       "      <td>04:30</td>\n",
       "      <td>8.81</td>\n",
       "      <td>0.00</td>\n",
       "      <td>30.03</td>\n",
       "      <td>41.02</td>\n",
       "      <td>-1.85</td>\n",
       "      <td>1.00</td>\n",
       "      <td>1.00</td>\n",
       "      <td>1.00</td>\n",
       "      <td>-0.27</td>\n",
       "      <td>1137.10</td>\n",
       "      <td>8.81</td>\n",
       "    </tr>\n",
       "    <tr>\n",
       "      <th>28</th>\n",
       "      <td>1</td>\n",
       "      <td>1</td>\n",
       "      <td>04:40</td>\n",
       "      <td>9.23</td>\n",
       "      <td>-2.70</td>\n",
       "      <td>30.10</td>\n",
       "      <td>41.19</td>\n",
       "      <td>-1.83</td>\n",
       "      <td>1.00</td>\n",
       "      <td>1.00</td>\n",
       "      <td>1.00</td>\n",
       "      <td>-0.17</td>\n",
       "      <td>1207.96</td>\n",
       "      <td>9.23</td>\n",
       "    </tr>\n",
       "    <tr>\n",
       "      <th>29</th>\n",
       "      <td>1</td>\n",
       "      <td>1</td>\n",
       "      <td>04:50</td>\n",
       "      <td>9.45</td>\n",
       "      <td>-4.56</td>\n",
       "      <td>30.09</td>\n",
       "      <td>41.17</td>\n",
       "      <td>-1.83</td>\n",
       "      <td>1.00</td>\n",
       "      <td>1.00</td>\n",
       "      <td>1.00</td>\n",
       "      <td>-0.30</td>\n",
       "      <td>1239.41</td>\n",
       "      <td>9.45</td>\n",
       "    </tr>\n",
       "    <tr>\n",
       "      <th>30</th>\n",
       "      <td>1</td>\n",
       "      <td>1</td>\n",
       "      <td>05:00</td>\n",
       "      <td>9.40</td>\n",
       "      <td>-3.15</td>\n",
       "      <td>30.19</td>\n",
       "      <td>41.29</td>\n",
       "      <td>-1.83</td>\n",
       "      <td>1.00</td>\n",
       "      <td>1.00</td>\n",
       "      <td>1.00</td>\n",
       "      <td>-0.22</td>\n",
       "      <td>1179.60</td>\n",
       "      <td>9.40</td>\n",
       "    </tr>\n",
       "    <tr>\n",
       "      <th>31</th>\n",
       "      <td>1</td>\n",
       "      <td>1</td>\n",
       "      <td>05:10</td>\n",
       "      <td>9.50</td>\n",
       "      <td>-3.01</td>\n",
       "      <td>30.20</td>\n",
       "      <td>41.52</td>\n",
       "      <td>-1.83</td>\n",
       "      <td>1.00</td>\n",
       "      <td>1.00</td>\n",
       "      <td>1.00</td>\n",
       "      <td>-0.27</td>\n",
       "      <td>1183.42</td>\n",
       "      <td>9.50</td>\n",
       "    </tr>\n",
       "    <tr>\n",
       "      <th>32</th>\n",
       "      <td>1</td>\n",
       "      <td>1</td>\n",
       "      <td>05:20</td>\n",
       "      <td>8.93</td>\n",
       "      <td>-4.44</td>\n",
       "      <td>30.20</td>\n",
       "      <td>41.64</td>\n",
       "      <td>-1.83</td>\n",
       "      <td>1.00</td>\n",
       "      <td>1.00</td>\n",
       "      <td>1.00</td>\n",
       "      <td>-0.25</td>\n",
       "      <td>1036.78</td>\n",
       "      <td>8.93</td>\n",
       "    </tr>\n",
       "    <tr>\n",
       "      <th>33</th>\n",
       "      <td>1</td>\n",
       "      <td>1</td>\n",
       "      <td>05:30</td>\n",
       "      <td>8.09</td>\n",
       "      <td>-1.54</td>\n",
       "      <td>30.20</td>\n",
       "      <td>41.82</td>\n",
       "      <td>-1.83</td>\n",
       "      <td>1.00</td>\n",
       "      <td>1.00</td>\n",
       "      <td>1.00</td>\n",
       "      <td>-0.23</td>\n",
       "      <td>848.96</td>\n",
       "      <td>8.09</td>\n",
       "    </tr>\n",
       "    <tr>\n",
       "      <th>34</th>\n",
       "      <td>1</td>\n",
       "      <td>1</td>\n",
       "      <td>05:40</td>\n",
       "      <td>7.77</td>\n",
       "      <td>-2.17</td>\n",
       "      <td>30.14</td>\n",
       "      <td>41.90</td>\n",
       "      <td>-1.83</td>\n",
       "      <td>1.00</td>\n",
       "      <td>1.00</td>\n",
       "      <td>1.00</td>\n",
       "      <td>-0.28</td>\n",
       "      <td>748.75</td>\n",
       "      <td>7.77</td>\n",
       "    </tr>\n",
       "    <tr>\n",
       "      <th>35</th>\n",
       "      <td>1</td>\n",
       "      <td>1</td>\n",
       "      <td>05:50</td>\n",
       "      <td>7.99</td>\n",
       "      <td>-1.97</td>\n",
       "      <td>30.09</td>\n",
       "      <td>41.93</td>\n",
       "      <td>-7.40</td>\n",
       "      <td>1.00</td>\n",
       "      <td>1.00</td>\n",
       "      <td>1.00</td>\n",
       "      <td>-0.27</td>\n",
       "      <td>809.36</td>\n",
       "      <td>7.99</td>\n",
       "    </tr>\n",
       "    <tr>\n",
       "      <th>36</th>\n",
       "      <td>1</td>\n",
       "      <td>1</td>\n",
       "      <td>06:00</td>\n",
       "      <td>8.01</td>\n",
       "      <td>0.15</td>\n",
       "      <td>30.10</td>\n",
       "      <td>41.95</td>\n",
       "      <td>-9.42</td>\n",
       "      <td>1.00</td>\n",
       "      <td>1.00</td>\n",
       "      <td>1.00</td>\n",
       "      <td>-0.21</td>\n",
       "      <td>821.64</td>\n",
       "      <td>8.01</td>\n",
       "    </tr>\n",
       "    <tr>\n",
       "      <th>37</th>\n",
       "      <td>1</td>\n",
       "      <td>1</td>\n",
       "      <td>06:10</td>\n",
       "      <td>8.06</td>\n",
       "      <td>-3.77</td>\n",
       "      <td>30.06</td>\n",
       "      <td>41.87</td>\n",
       "      <td>-12.16</td>\n",
       "      <td>1.00</td>\n",
       "      <td>1.00</td>\n",
       "      <td>1.00</td>\n",
       "      <td>-0.22</td>\n",
       "      <td>816.59</td>\n",
       "      <td>8.06</td>\n",
       "    </tr>\n",
       "    <tr>\n",
       "      <th>38</th>\n",
       "      <td>1</td>\n",
       "      <td>1</td>\n",
       "      <td>06:20</td>\n",
       "      <td>9.11</td>\n",
       "      <td>-3.31</td>\n",
       "      <td>29.82</td>\n",
       "      <td>41.73</td>\n",
       "      <td>-21.32</td>\n",
       "      <td>1.00</td>\n",
       "      <td>1.00</td>\n",
       "      <td>1.00</td>\n",
       "      <td>-0.24</td>\n",
       "      <td>1118.95</td>\n",
       "      <td>9.11</td>\n",
       "    </tr>\n",
       "    <tr>\n",
       "      <th>39</th>\n",
       "      <td>1</td>\n",
       "      <td>1</td>\n",
       "      <td>06:30</td>\n",
       "      <td>10.96</td>\n",
       "      <td>-0.38</td>\n",
       "      <td>29.51</td>\n",
       "      <td>41.55</td>\n",
       "      <td>-30.46</td>\n",
       "      <td>1.01</td>\n",
       "      <td>1.01</td>\n",
       "      <td>1.01</td>\n",
       "      <td>-0.22</td>\n",
       "      <td>1476.30</td>\n",
       "      <td>10.96</td>\n",
       "    </tr>\n",
       "    <tr>\n",
       "      <th>40</th>\n",
       "      <td>1</td>\n",
       "      <td>1</td>\n",
       "      <td>06:40</td>\n",
       "      <td>12.81</td>\n",
       "      <td>-2.17</td>\n",
       "      <td>29.44</td>\n",
       "      <td>41.51</td>\n",
       "      <td>-23.73</td>\n",
       "      <td>1.07</td>\n",
       "      <td>1.07</td>\n",
       "      <td>1.07</td>\n",
       "      <td>-0.26</td>\n",
       "      <td>1539.55</td>\n",
       "      <td>12.81</td>\n",
       "    </tr>\n",
       "    <tr>\n",
       "      <th>41</th>\n",
       "      <td>1</td>\n",
       "      <td>1</td>\n",
       "      <td>06:50</td>\n",
       "      <td>13.43</td>\n",
       "      <td>-0.49</td>\n",
       "      <td>29.43</td>\n",
       "      <td>41.35</td>\n",
       "      <td>-23.73</td>\n",
       "      <td>1.09</td>\n",
       "      <td>1.09</td>\n",
       "      <td>1.09</td>\n",
       "      <td>-0.17</td>\n",
       "      <td>1550.02</td>\n",
       "      <td>13.43</td>\n",
       "    </tr>\n",
       "    <tr>\n",
       "      <th>42</th>\n",
       "      <td>1</td>\n",
       "      <td>1</td>\n",
       "      <td>07:00</td>\n",
       "      <td>12.83</td>\n",
       "      <td>-3.44</td>\n",
       "      <td>29.34</td>\n",
       "      <td>41.29</td>\n",
       "      <td>-23.73</td>\n",
       "      <td>1.07</td>\n",
       "      <td>1.07</td>\n",
       "      <td>1.07</td>\n",
       "      <td>-0.24</td>\n",
       "      <td>1550.10</td>\n",
       "      <td>12.83</td>\n",
       "    </tr>\n",
       "    <tr>\n",
       "      <th>43</th>\n",
       "      <td>1</td>\n",
       "      <td>1</td>\n",
       "      <td>07:10</td>\n",
       "      <td>12.65</td>\n",
       "      <td>-1.91</td>\n",
       "      <td>29.22</td>\n",
       "      <td>41.31</td>\n",
       "      <td>-23.73</td>\n",
       "      <td>1.07</td>\n",
       "      <td>1.07</td>\n",
       "      <td>1.07</td>\n",
       "      <td>-0.32</td>\n",
       "      <td>1549.86</td>\n",
       "      <td>12.65</td>\n",
       "    </tr>\n",
       "    <tr>\n",
       "      <th>44</th>\n",
       "      <td>1</td>\n",
       "      <td>1</td>\n",
       "      <td>07:20</td>\n",
       "      <td>12.52</td>\n",
       "      <td>0.99</td>\n",
       "      <td>29.24</td>\n",
       "      <td>41.53</td>\n",
       "      <td>-23.73</td>\n",
       "      <td>1.06</td>\n",
       "      <td>1.06</td>\n",
       "      <td>1.06</td>\n",
       "      <td>-0.26</td>\n",
       "      <td>1550.15</td>\n",
       "      <td>12.52</td>\n",
       "    </tr>\n",
       "    <tr>\n",
       "      <th>45</th>\n",
       "      <td>1</td>\n",
       "      <td>1</td>\n",
       "      <td>07:30</td>\n",
       "      <td>13.25</td>\n",
       "      <td>0.45</td>\n",
       "      <td>29.33</td>\n",
       "      <td>41.71</td>\n",
       "      <td>-23.73</td>\n",
       "      <td>1.08</td>\n",
       "      <td>1.08</td>\n",
       "      <td>1.08</td>\n",
       "      <td>-0.21</td>\n",
       "      <td>1549.96</td>\n",
       "      <td>13.25</td>\n",
       "    </tr>\n",
       "    <tr>\n",
       "      <th>46</th>\n",
       "      <td>1</td>\n",
       "      <td>1</td>\n",
       "      <td>07:40</td>\n",
       "      <td>13.48</td>\n",
       "      <td>-0.12</td>\n",
       "      <td>29.17</td>\n",
       "      <td>41.84</td>\n",
       "      <td>-23.73</td>\n",
       "      <td>1.08</td>\n",
       "      <td>1.08</td>\n",
       "      <td>1.08</td>\n",
       "      <td>-0.20</td>\n",
       "      <td>1549.88</td>\n",
       "      <td>13.48</td>\n",
       "    </tr>\n",
       "    <tr>\n",
       "      <th>47</th>\n",
       "      <td>1</td>\n",
       "      <td>1</td>\n",
       "      <td>07:50</td>\n",
       "      <td>13.04</td>\n",
       "      <td>-0.37</td>\n",
       "      <td>29.08</td>\n",
       "      <td>41.86</td>\n",
       "      <td>-23.73</td>\n",
       "      <td>1.07</td>\n",
       "      <td>1.07</td>\n",
       "      <td>1.07</td>\n",
       "      <td>-0.19</td>\n",
       "      <td>1549.55</td>\n",
       "      <td>13.04</td>\n",
       "    </tr>\n",
       "    <tr>\n",
       "      <th>48</th>\n",
       "      <td>1</td>\n",
       "      <td>1</td>\n",
       "      <td>08:00</td>\n",
       "      <td>12.23</td>\n",
       "      <td>-0.83</td>\n",
       "      <td>29.08</td>\n",
       "      <td>41.90</td>\n",
       "      <td>-23.73</td>\n",
       "      <td>1.07</td>\n",
       "      <td>1.07</td>\n",
       "      <td>1.07</td>\n",
       "      <td>-0.21</td>\n",
       "      <td>1549.53</td>\n",
       "      <td>12.23</td>\n",
       "    </tr>\n",
       "    <tr>\n",
       "      <th>49</th>\n",
       "      <td>1</td>\n",
       "      <td>1</td>\n",
       "      <td>08:10</td>\n",
       "      <td>11.58</td>\n",
       "      <td>-3.32</td>\n",
       "      <td>29.01</td>\n",
       "      <td>42.01</td>\n",
       "      <td>-23.70</td>\n",
       "      <td>1.06</td>\n",
       "      <td>1.06</td>\n",
       "      <td>1.06</td>\n",
       "      <td>-0.25</td>\n",
       "      <td>1549.71</td>\n",
       "      <td>11.58</td>\n",
       "    </tr>\n",
       "    <tr>\n",
       "      <th>50</th>\n",
       "      <td>1</td>\n",
       "      <td>1</td>\n",
       "      <td>08:20</td>\n",
       "      <td>11.21</td>\n",
       "      <td>-1.38</td>\n",
       "      <td>29.17</td>\n",
       "      <td>42.24</td>\n",
       "      <td>-28.84</td>\n",
       "      <td>1.04</td>\n",
       "      <td>1.04</td>\n",
       "      <td>1.04</td>\n",
       "      <td>-0.25</td>\n",
       "      <td>1534.77</td>\n",
       "      <td>11.21</td>\n",
       "    </tr>\n",
       "    <tr>\n",
       "      <th>51</th>\n",
       "      <td>1</td>\n",
       "      <td>1</td>\n",
       "      <td>08:30</td>\n",
       "      <td>10.84</td>\n",
       "      <td>0.06</td>\n",
       "      <td>29.46</td>\n",
       "      <td>42.43</td>\n",
       "      <td>-31.39</td>\n",
       "      <td>1.03</td>\n",
       "      <td>1.03</td>\n",
       "      <td>1.03</td>\n",
       "      <td>-0.25</td>\n",
       "      <td>1508.20</td>\n",
       "      <td>10.84</td>\n",
       "    </tr>\n",
       "    <tr>\n",
       "      <th>52</th>\n",
       "      <td>1</td>\n",
       "      <td>1</td>\n",
       "      <td>08:40</td>\n",
       "      <td>11.03</td>\n",
       "      <td>2.03</td>\n",
       "      <td>29.82</td>\n",
       "      <td>42.77</td>\n",
       "      <td>-31.39</td>\n",
       "      <td>1.03</td>\n",
       "      <td>1.03</td>\n",
       "      <td>1.03</td>\n",
       "      <td>-66.01</td>\n",
       "      <td>1517.76</td>\n",
       "      <td>11.03</td>\n",
       "    </tr>\n",
       "    <tr>\n",
       "      <th>53</th>\n",
       "      <td>1</td>\n",
       "      <td>1</td>\n",
       "      <td>08:50</td>\n",
       "      <td>12.23</td>\n",
       "      <td>2.65</td>\n",
       "      <td>30.22</td>\n",
       "      <td>43.10</td>\n",
       "      <td>-27.37</td>\n",
       "      <td>1.07</td>\n",
       "      <td>1.07</td>\n",
       "      <td>1.07</td>\n",
       "      <td>-61.25</td>\n",
       "      <td>1549.79</td>\n",
       "      <td>12.23</td>\n",
       "    </tr>\n",
       "    <tr>\n",
       "      <th>54</th>\n",
       "      <td>1</td>\n",
       "      <td>1</td>\n",
       "      <td>09:00</td>\n",
       "      <td>12.19</td>\n",
       "      <td>-1.50</td>\n",
       "      <td>30.52</td>\n",
       "      <td>43.23</td>\n",
       "      <td>-23.69</td>\n",
       "      <td>1.07</td>\n",
       "      <td>1.07</td>\n",
       "      <td>1.07</td>\n",
       "      <td>-0.26</td>\n",
       "      <td>1529.05</td>\n",
       "      <td>12.19</td>\n",
       "    </tr>\n",
       "    <tr>\n",
       "      <th>55</th>\n",
       "      <td>1</td>\n",
       "      <td>1</td>\n",
       "      <td>09:10</td>\n",
       "      <td>13.51</td>\n",
       "      <td>-2.80</td>\n",
       "      <td>30.87</td>\n",
       "      <td>43.55</td>\n",
       "      <td>-23.69</td>\n",
       "      <td>1.10</td>\n",
       "      <td>1.10</td>\n",
       "      <td>1.10</td>\n",
       "      <td>-0.27</td>\n",
       "      <td>1549.62</td>\n",
       "      <td>13.51</td>\n",
       "    </tr>\n",
       "    <tr>\n",
       "      <th>56</th>\n",
       "      <td>1</td>\n",
       "      <td>1</td>\n",
       "      <td>09:20</td>\n",
       "      <td>11.93</td>\n",
       "      <td>-2.88</td>\n",
       "      <td>31.10</td>\n",
       "      <td>43.63</td>\n",
       "      <td>-23.69</td>\n",
       "      <td>1.06</td>\n",
       "      <td>1.06</td>\n",
       "      <td>1.06</td>\n",
       "      <td>-0.28</td>\n",
       "      <td>1546.67</td>\n",
       "      <td>11.93</td>\n",
       "    </tr>\n",
       "    <tr>\n",
       "      <th>57</th>\n",
       "      <td>1</td>\n",
       "      <td>1</td>\n",
       "      <td>09:30</td>\n",
       "      <td>11.31</td>\n",
       "      <td>-0.08</td>\n",
       "      <td>31.44</td>\n",
       "      <td>43.92</td>\n",
       "      <td>-23.69</td>\n",
       "      <td>1.04</td>\n",
       "      <td>1.04</td>\n",
       "      <td>1.04</td>\n",
       "      <td>-0.20</td>\n",
       "      <td>1508.70</td>\n",
       "      <td>11.31</td>\n",
       "    </tr>\n",
       "    <tr>\n",
       "      <th>58</th>\n",
       "      <td>1</td>\n",
       "      <td>1</td>\n",
       "      <td>09:40</td>\n",
       "      <td>11.56</td>\n",
       "      <td>0.05</td>\n",
       "      <td>31.68</td>\n",
       "      <td>44.44</td>\n",
       "      <td>-23.69</td>\n",
       "      <td>1.05</td>\n",
       "      <td>1.05</td>\n",
       "      <td>1.05</td>\n",
       "      <td>-0.26</td>\n",
       "      <td>1543.42</td>\n",
       "      <td>11.56</td>\n",
       "    </tr>\n",
       "    <tr>\n",
       "      <th>59</th>\n",
       "      <td>1</td>\n",
       "      <td>1</td>\n",
       "      <td>09:50</td>\n",
       "      <td>11.43</td>\n",
       "      <td>0.45</td>\n",
       "      <td>31.94</td>\n",
       "      <td>44.69</td>\n",
       "      <td>-18.90</td>\n",
       "      <td>1.04</td>\n",
       "      <td>1.04</td>\n",
       "      <td>1.04</td>\n",
       "      <td>-0.27</td>\n",
       "      <td>1510.53</td>\n",
       "      <td>11.43</td>\n",
       "    </tr>\n",
       "  </tbody>\n",
       "</table>\n",
       "</div>"
      ],
      "text/plain": [
       "    TurbID  Day Tmstamp   Wspd  Wdir   Etmp   Itmp   Ndir  Pab1  Pab2  Pab3  \\\n",
       "0        1    1   00:00   6.17 -3.99  30.73  41.80  25.92  1.00  1.00  1.00   \n",
       "1        1    1   00:10   6.17 -3.99  30.73  41.80  25.92  1.00  1.00  1.00   \n",
       "2        1    1   00:20   6.27 -2.18  30.60  41.63  20.91  1.00  1.00  1.00   \n",
       "3        1    1   00:30   6.42 -0.73  30.52  41.52  20.91  1.00  1.00  1.00   \n",
       "4        1    1   00:40   6.25  0.89  30.49  41.38  20.91  1.00  1.00  1.00   \n",
       "5        1    1   00:50   6.10 -1.03  30.47  41.22  20.91  1.00  1.00  1.00   \n",
       "6        1    1   01:00   6.77  1.07  30.31  41.19  20.91  1.00  1.00  1.00   \n",
       "7        1    1   01:10   6.70 -2.80  30.24  41.00  20.91  1.00  1.00  1.00   \n",
       "8        1    1   01:20   6.44 -3.46  30.13  40.91  20.91  1.00  1.00  1.00   \n",
       "9        1    1   01:30   6.25 -3.15  29.97  40.72  20.91  1.00  1.00  1.00   \n",
       "10       1    1   01:40   6.87 -4.58  29.87  40.70  20.91  1.00  1.00  1.00   \n",
       "11       1    1   01:50   6.60 -2.17  29.75  40.62  16.87  1.00  1.00  1.00   \n",
       "12       1    1   02:00   6.71 -1.42  29.68  40.47  13.32  1.00  1.00  1.00   \n",
       "13       1    1   02:10   6.86 -3.85  29.61  40.44  13.32  1.00  1.00  1.00   \n",
       "14       1    1   02:20   6.88 -1.31  29.68  40.49  13.32  1.00  1.00  1.00   \n",
       "15       1    1   02:30   7.10 -0.57  29.70  40.44  13.32  1.00  1.00  1.00   \n",
       "16       1    1   02:40   7.16 -2.52  29.70  40.40   7.92  1.00  1.00  1.00   \n",
       "17       1    1   02:50   6.80 -3.16  29.70  40.48   2.87  1.00  1.00  1.00   \n",
       "18       1    1   03:00   6.85  3.03  29.70  40.53  -1.86  1.00  1.00  1.00   \n",
       "19       1    1   03:10   6.85 -0.64  29.75  40.60   2.66  1.00  1.00  1.00   \n",
       "20       1    1   03:20   6.57 -3.02  29.89  40.76   5.73  1.00  1.00  1.00   \n",
       "21       1    1   03:30   6.36 -1.60  29.83  40.86   5.73  1.00  1.00  1.00   \n",
       "22       1    1   03:40   6.88 -1.41  29.79  40.83   1.42  1.00  1.00  1.00   \n",
       "23       1    1   03:50   7.32 -0.70  29.79  40.93  -1.86  1.00  1.00  1.00   \n",
       "24       1    1   04:00   7.92 -1.04  29.81  40.80  -7.79  1.00  1.00  1.00   \n",
       "25       1    1   04:10   7.73  2.44  29.80  40.82  -9.46  1.00  1.00  1.00   \n",
       "26       1    1   04:20   8.46  2.76  29.91  40.86  -7.77  1.00  1.00  1.00   \n",
       "27       1    1   04:30   8.81  0.00  30.03  41.02  -1.85  1.00  1.00  1.00   \n",
       "28       1    1   04:40   9.23 -2.70  30.10  41.19  -1.83  1.00  1.00  1.00   \n",
       "29       1    1   04:50   9.45 -4.56  30.09  41.17  -1.83  1.00  1.00  1.00   \n",
       "30       1    1   05:00   9.40 -3.15  30.19  41.29  -1.83  1.00  1.00  1.00   \n",
       "31       1    1   05:10   9.50 -3.01  30.20  41.52  -1.83  1.00  1.00  1.00   \n",
       "32       1    1   05:20   8.93 -4.44  30.20  41.64  -1.83  1.00  1.00  1.00   \n",
       "33       1    1   05:30   8.09 -1.54  30.20  41.82  -1.83  1.00  1.00  1.00   \n",
       "34       1    1   05:40   7.77 -2.17  30.14  41.90  -1.83  1.00  1.00  1.00   \n",
       "35       1    1   05:50   7.99 -1.97  30.09  41.93  -7.40  1.00  1.00  1.00   \n",
       "36       1    1   06:00   8.01  0.15  30.10  41.95  -9.42  1.00  1.00  1.00   \n",
       "37       1    1   06:10   8.06 -3.77  30.06  41.87 -12.16  1.00  1.00  1.00   \n",
       "38       1    1   06:20   9.11 -3.31  29.82  41.73 -21.32  1.00  1.00  1.00   \n",
       "39       1    1   06:30  10.96 -0.38  29.51  41.55 -30.46  1.01  1.01  1.01   \n",
       "40       1    1   06:40  12.81 -2.17  29.44  41.51 -23.73  1.07  1.07  1.07   \n",
       "41       1    1   06:50  13.43 -0.49  29.43  41.35 -23.73  1.09  1.09  1.09   \n",
       "42       1    1   07:00  12.83 -3.44  29.34  41.29 -23.73  1.07  1.07  1.07   \n",
       "43       1    1   07:10  12.65 -1.91  29.22  41.31 -23.73  1.07  1.07  1.07   \n",
       "44       1    1   07:20  12.52  0.99  29.24  41.53 -23.73  1.06  1.06  1.06   \n",
       "45       1    1   07:30  13.25  0.45  29.33  41.71 -23.73  1.08  1.08  1.08   \n",
       "46       1    1   07:40  13.48 -0.12  29.17  41.84 -23.73  1.08  1.08  1.08   \n",
       "47       1    1   07:50  13.04 -0.37  29.08  41.86 -23.73  1.07  1.07  1.07   \n",
       "48       1    1   08:00  12.23 -0.83  29.08  41.90 -23.73  1.07  1.07  1.07   \n",
       "49       1    1   08:10  11.58 -3.32  29.01  42.01 -23.70  1.06  1.06  1.06   \n",
       "50       1    1   08:20  11.21 -1.38  29.17  42.24 -28.84  1.04  1.04  1.04   \n",
       "51       1    1   08:30  10.84  0.06  29.46  42.43 -31.39  1.03  1.03  1.03   \n",
       "52       1    1   08:40  11.03  2.03  29.82  42.77 -31.39  1.03  1.03  1.03   \n",
       "53       1    1   08:50  12.23  2.65  30.22  43.10 -27.37  1.07  1.07  1.07   \n",
       "54       1    1   09:00  12.19 -1.50  30.52  43.23 -23.69  1.07  1.07  1.07   \n",
       "55       1    1   09:10  13.51 -2.80  30.87  43.55 -23.69  1.10  1.10  1.10   \n",
       "56       1    1   09:20  11.93 -2.88  31.10  43.63 -23.69  1.06  1.06  1.06   \n",
       "57       1    1   09:30  11.31 -0.08  31.44  43.92 -23.69  1.04  1.04  1.04   \n",
       "58       1    1   09:40  11.56  0.05  31.68  44.44 -23.69  1.05  1.05  1.05   \n",
       "59       1    1   09:50  11.43  0.45  31.94  44.69 -18.90  1.04  1.04  1.04   \n",
       "\n",
       "     Prtv     Patv  Wspd_y  \n",
       "0   -0.25   494.66    6.17  \n",
       "1   -0.25   494.66    6.17  \n",
       "2   -0.24   509.76    6.27  \n",
       "3   -0.26   542.53    6.42  \n",
       "4   -0.23   509.36    6.25  \n",
       "5   -0.27   482.21    6.10  \n",
       "6   -0.23   584.75    6.77  \n",
       "7   -0.23   557.98    6.70  \n",
       "8   -0.21   503.94    6.44  \n",
       "9   -0.26   463.37    6.25  \n",
       "10  -0.25   577.47    6.87  \n",
       "11  -0.25   538.85    6.60  \n",
       "12  -0.26   559.37    6.71  \n",
       "13  -0.23   585.51    6.86  \n",
       "14  -0.26   608.83    6.88  \n",
       "15  -0.28   675.43    7.10  \n",
       "16  -0.25   716.68    7.16  \n",
       "17  -0.30   629.83    6.80  \n",
       "18  -0.26   651.13    6.85  \n",
       "19  -0.27   677.56    6.85  \n",
       "20  -0.27   619.05    6.57  \n",
       "21  -0.31   576.73    6.36  \n",
       "22  -0.28   665.23    6.88  \n",
       "23  -0.26   761.74    7.32  \n",
       "24  -0.25   898.34    7.92  \n",
       "25  -0.32   867.22    7.73  \n",
       "26  -0.26  1048.81    8.46  \n",
       "27  -0.27  1137.10    8.81  \n",
       "28  -0.17  1207.96    9.23  \n",
       "29  -0.30  1239.41    9.45  \n",
       "30  -0.22  1179.60    9.40  \n",
       "31  -0.27  1183.42    9.50  \n",
       "32  -0.25  1036.78    8.93  \n",
       "33  -0.23   848.96    8.09  \n",
       "34  -0.28   748.75    7.77  \n",
       "35  -0.27   809.36    7.99  \n",
       "36  -0.21   821.64    8.01  \n",
       "37  -0.22   816.59    8.06  \n",
       "38  -0.24  1118.95    9.11  \n",
       "39  -0.22  1476.30   10.96  \n",
       "40  -0.26  1539.55   12.81  \n",
       "41  -0.17  1550.02   13.43  \n",
       "42  -0.24  1550.10   12.83  \n",
       "43  -0.32  1549.86   12.65  \n",
       "44  -0.26  1550.15   12.52  \n",
       "45  -0.21  1549.96   13.25  \n",
       "46  -0.20  1549.88   13.48  \n",
       "47  -0.19  1549.55   13.04  \n",
       "48  -0.21  1549.53   12.23  \n",
       "49  -0.25  1549.71   11.58  \n",
       "50  -0.25  1534.77   11.21  \n",
       "51  -0.25  1508.20   10.84  \n",
       "52 -66.01  1517.76   11.03  \n",
       "53 -61.25  1549.79   12.23  \n",
       "54  -0.26  1529.05   12.19  \n",
       "55  -0.27  1549.62   13.51  \n",
       "56  -0.28  1546.67   11.93  \n",
       "57  -0.20  1508.70   11.31  \n",
       "58  -0.26  1543.42   11.56  \n",
       "59  -0.27  1510.53   11.43  "
      ]
     },
     "execution_count": 377,
     "metadata": {},
     "output_type": "execute_result"
    }
   ],
   "source": [
    "train_data.loc[0:59]"
   ]
  },
  {
   "cell_type": "code",
   "execution_count": 445,
   "id": "91f71a1b",
   "metadata": {},
   "outputs": [],
   "source": [
    "# 한 Turb당 194 line\n",
    "# label은 2일.로 나눠야함.\n",
    "\n",
    "train_seq = 40\n",
    "\n",
    "\n",
    "\n",
    "\n",
    "def make_train_data(data):\n",
    "    train_x, train_y = [], []\n",
    "    for i in sorted(pd.unique(data[\"TurbID\"])):\n",
    "        tmp_data = data[data[\"TurbID\"] == i]\n",
    "        \n",
    "        for train_ind in tqdm(range(0,28600-train_seq)):\n",
    "            \n",
    "            train_tmp = tmp_data.loc[train_ind:train_ind+train_seq-1 ]['Wspd']\n",
    "            label_tmp = tmp_data[ tmp_data.index == train_ind+train_seq ][\"Wspd_y\"]\n",
    "            \n",
    "            #train_tmp = train_tmp.drop([\"TurbID\",\"Tmstamp\",\"Day\",\"Patv\",\"Pab2\",\"Pab3\",\"Etmp\",\"Ndir\",\"Wspd_y\"], axis = 1)\n",
    "            \n",
    "            train_x.append(np.array(train_tmp))\n",
    "            train_y.append(np.array(label_tmp))\n",
    "            \n",
    "    return train_x, train_y\n",
    "\n",
    "\n",
    "def make_valid_data(data):\n",
    "    train_x, train_y = [], []\n",
    "    for i in sorted(pd.unique(data[\"TurbID\"])):\n",
    "        tmp_data = data[data[\"TurbID\"] == i]\n",
    "        \n",
    "        for train_ind in tqdm(range(28600,28800-train_seq)):\n",
    "            \n",
    "            train_tmp = tmp_data.loc[train_ind:train_ind+train_seq-1 ]['Wspd']\n",
    "            label_tmp = tmp_data[ tmp_data.index == train_ind+train_seq ][\"Wspd_y\"]\n",
    "            \n",
    "            #train_tmp = train_tmp.drop([\"TurbID\",\"Tmstamp\",\"Day\",\"Patv\",\"Pab2\",\"Pab3\",\"Etmp\",\"Ndir\",\"Wspd_y\"], axis = 1)\n",
    "            \n",
    "            train_x.append(np.array(train_tmp))\n",
    "            train_y.append(np.array(label_tmp))\n",
    "            \n",
    "    return train_x, train_y\n"
   ]
  },
  {
   "cell_type": "code",
   "execution_count": 446,
   "id": "674aa39a",
   "metadata": {},
   "outputs": [],
   "source": [
    "#train_data = train_data[train_data['TurbID']==21]"
   ]
  },
  {
   "cell_type": "code",
   "execution_count": 411,
   "id": "2553b777",
   "metadata": {},
   "outputs": [],
   "source": [
    "from sklearn.preprocessing import MinMaxScaler, StandardScaler\n",
    "nor = MinMaxScaler()# \n",
    "y_nor = MinMaxScaler()\n",
    "\n",
    "train_data[[\"Wspd\",\"Wdir\",\"Itmp\",\"Pab1\",\"Prtv\"]] = nor.fit_transform(train_data[[\"Wspd\",\"Wdir\",\"Itmp\",\"Pab1\",\"Prtv\"]])\n",
    "train_data[[\"Wspd_y\"]] = y_nor.fit_transform(train_data[[\"Wspd_y\"]])\n",
    "\n",
    "#[\"TurbID\", \"Day\",\"Patv\",\"Etmp\",\"Ndir\"]"
   ]
  },
  {
   "cell_type": "code",
   "execution_count": 412,
   "id": "566e85d0",
   "metadata": {},
   "outputs": [
    {
     "data": {
      "text/html": [
       "<div>\n",
       "<style scoped>\n",
       "    .dataframe tbody tr th:only-of-type {\n",
       "        vertical-align: middle;\n",
       "    }\n",
       "\n",
       "    .dataframe tbody tr th {\n",
       "        vertical-align: top;\n",
       "    }\n",
       "\n",
       "    .dataframe thead th {\n",
       "        text-align: right;\n",
       "    }\n",
       "</style>\n",
       "<table border=\"1\" class=\"dataframe\">\n",
       "  <thead>\n",
       "    <tr style=\"text-align: right;\">\n",
       "      <th></th>\n",
       "      <th>TurbID</th>\n",
       "      <th>Day</th>\n",
       "      <th>Tmstamp</th>\n",
       "      <th>Wspd</th>\n",
       "      <th>Wdir</th>\n",
       "      <th>Etmp</th>\n",
       "      <th>Itmp</th>\n",
       "      <th>Ndir</th>\n",
       "      <th>Pab1</th>\n",
       "      <th>Pab2</th>\n",
       "      <th>Pab3</th>\n",
       "      <th>Prtv</th>\n",
       "      <th>Patv</th>\n",
       "      <th>Wspd_y</th>\n",
       "    </tr>\n",
       "  </thead>\n",
       "  <tbody>\n",
       "    <tr>\n",
       "      <th>0</th>\n",
       "      <td>1</td>\n",
       "      <td>1</td>\n",
       "      <td>00:00</td>\n",
       "      <td>0.265948</td>\n",
       "      <td>0.490830</td>\n",
       "      <td>30.73</td>\n",
       "      <td>0.956602</td>\n",
       "      <td>25.92</td>\n",
       "      <td>0.217391</td>\n",
       "      <td>1.00</td>\n",
       "      <td>1.00</td>\n",
       "      <td>0.996876</td>\n",
       "      <td>494.66</td>\n",
       "      <td>0.265948</td>\n",
       "    </tr>\n",
       "    <tr>\n",
       "      <th>1</th>\n",
       "      <td>1</td>\n",
       "      <td>1</td>\n",
       "      <td>00:10</td>\n",
       "      <td>0.265948</td>\n",
       "      <td>0.490830</td>\n",
       "      <td>30.73</td>\n",
       "      <td>0.956602</td>\n",
       "      <td>25.92</td>\n",
       "      <td>0.217391</td>\n",
       "      <td>1.00</td>\n",
       "      <td>1.00</td>\n",
       "      <td>0.996876</td>\n",
       "      <td>494.66</td>\n",
       "      <td>0.265948</td>\n",
       "    </tr>\n",
       "    <tr>\n",
       "      <th>2</th>\n",
       "      <td>1</td>\n",
       "      <td>1</td>\n",
       "      <td>00:20</td>\n",
       "      <td>0.270259</td>\n",
       "      <td>0.495953</td>\n",
       "      <td>30.60</td>\n",
       "      <td>0.956086</td>\n",
       "      <td>20.91</td>\n",
       "      <td>0.217391</td>\n",
       "      <td>1.00</td>\n",
       "      <td>1.00</td>\n",
       "      <td>0.996926</td>\n",
       "      <td>509.76</td>\n",
       "      <td>0.270259</td>\n",
       "    </tr>\n",
       "    <tr>\n",
       "      <th>3</th>\n",
       "      <td>1</td>\n",
       "      <td>1</td>\n",
       "      <td>00:30</td>\n",
       "      <td>0.276724</td>\n",
       "      <td>0.500057</td>\n",
       "      <td>30.52</td>\n",
       "      <td>0.955751</td>\n",
       "      <td>20.91</td>\n",
       "      <td>0.217391</td>\n",
       "      <td>1.00</td>\n",
       "      <td>1.00</td>\n",
       "      <td>0.996826</td>\n",
       "      <td>542.53</td>\n",
       "      <td>0.276724</td>\n",
       "    </tr>\n",
       "    <tr>\n",
       "      <th>4</th>\n",
       "      <td>1</td>\n",
       "      <td>1</td>\n",
       "      <td>00:40</td>\n",
       "      <td>0.269397</td>\n",
       "      <td>0.504642</td>\n",
       "      <td>30.49</td>\n",
       "      <td>0.955326</td>\n",
       "      <td>20.91</td>\n",
       "      <td>0.217391</td>\n",
       "      <td>1.00</td>\n",
       "      <td>1.00</td>\n",
       "      <td>0.996975</td>\n",
       "      <td>509.36</td>\n",
       "      <td>0.269397</td>\n",
       "    </tr>\n",
       "    <tr>\n",
       "      <th>...</th>\n",
       "      <td>...</td>\n",
       "      <td>...</td>\n",
       "      <td>...</td>\n",
       "      <td>...</td>\n",
       "      <td>...</td>\n",
       "      <td>...</td>\n",
       "      <td>...</td>\n",
       "      <td>...</td>\n",
       "      <td>...</td>\n",
       "      <td>...</td>\n",
       "      <td>...</td>\n",
       "      <td>...</td>\n",
       "      <td>...</td>\n",
       "      <td>...</td>\n",
       "    </tr>\n",
       "    <tr>\n",
       "      <th>28795</th>\n",
       "      <td>1</td>\n",
       "      <td>200</td>\n",
       "      <td>23:10</td>\n",
       "      <td>0.202586</td>\n",
       "      <td>0.502010</td>\n",
       "      <td>10.46</td>\n",
       "      <td>0.913661</td>\n",
       "      <td>201.38</td>\n",
       "      <td>0.208696</td>\n",
       "      <td>0.99</td>\n",
       "      <td>0.99</td>\n",
       "      <td>0.996678</td>\n",
       "      <td>296.34</td>\n",
       "      <td>0.202586</td>\n",
       "    </tr>\n",
       "    <tr>\n",
       "      <th>28796</th>\n",
       "      <td>1</td>\n",
       "      <td>200</td>\n",
       "      <td>23:20</td>\n",
       "      <td>0.152155</td>\n",
       "      <td>0.495415</td>\n",
       "      <td>11.32</td>\n",
       "      <td>0.916639</td>\n",
       "      <td>191.85</td>\n",
       "      <td>0.208696</td>\n",
       "      <td>0.99</td>\n",
       "      <td>0.99</td>\n",
       "      <td>0.997025</td>\n",
       "      <td>178.46</td>\n",
       "      <td>0.152155</td>\n",
       "    </tr>\n",
       "    <tr>\n",
       "      <th>28797</th>\n",
       "      <td>1</td>\n",
       "      <td>200</td>\n",
       "      <td>23:30</td>\n",
       "      <td>0.150862</td>\n",
       "      <td>0.500283</td>\n",
       "      <td>11.81</td>\n",
       "      <td>0.918584</td>\n",
       "      <td>187.51</td>\n",
       "      <td>0.208696</td>\n",
       "      <td>0.99</td>\n",
       "      <td>0.99</td>\n",
       "      <td>0.996926</td>\n",
       "      <td>164.19</td>\n",
       "      <td>0.150862</td>\n",
       "    </tr>\n",
       "    <tr>\n",
       "      <th>28798</th>\n",
       "      <td>1</td>\n",
       "      <td>200</td>\n",
       "      <td>23:40</td>\n",
       "      <td>0.183621</td>\n",
       "      <td>0.503538</td>\n",
       "      <td>10.08</td>\n",
       "      <td>0.915059</td>\n",
       "      <td>187.51</td>\n",
       "      <td>0.208696</td>\n",
       "      <td>0.99</td>\n",
       "      <td>0.99</td>\n",
       "      <td>0.996727</td>\n",
       "      <td>259.42</td>\n",
       "      <td>0.183621</td>\n",
       "    </tr>\n",
       "    <tr>\n",
       "      <th>28799</th>\n",
       "      <td>1</td>\n",
       "      <td>200</td>\n",
       "      <td>23:50</td>\n",
       "      <td>0.171121</td>\n",
       "      <td>0.504727</td>\n",
       "      <td>10.96</td>\n",
       "      <td>0.916061</td>\n",
       "      <td>191.23</td>\n",
       "      <td>0.208696</td>\n",
       "      <td>0.99</td>\n",
       "      <td>0.99</td>\n",
       "      <td>0.996777</td>\n",
       "      <td>218.70</td>\n",
       "      <td>0.171121</td>\n",
       "    </tr>\n",
       "  </tbody>\n",
       "</table>\n",
       "<p>28800 rows × 14 columns</p>\n",
       "</div>"
      ],
      "text/plain": [
       "       TurbID  Day Tmstamp      Wspd      Wdir   Etmp      Itmp    Ndir  \\\n",
       "0           1    1   00:00  0.265948  0.490830  30.73  0.956602   25.92   \n",
       "1           1    1   00:10  0.265948  0.490830  30.73  0.956602   25.92   \n",
       "2           1    1   00:20  0.270259  0.495953  30.60  0.956086   20.91   \n",
       "3           1    1   00:30  0.276724  0.500057  30.52  0.955751   20.91   \n",
       "4           1    1   00:40  0.269397  0.504642  30.49  0.955326   20.91   \n",
       "...       ...  ...     ...       ...       ...    ...       ...     ...   \n",
       "28795       1  200   23:10  0.202586  0.502010  10.46  0.913661  201.38   \n",
       "28796       1  200   23:20  0.152155  0.495415  11.32  0.916639  191.85   \n",
       "28797       1  200   23:30  0.150862  0.500283  11.81  0.918584  187.51   \n",
       "28798       1  200   23:40  0.183621  0.503538  10.08  0.915059  187.51   \n",
       "28799       1  200   23:50  0.171121  0.504727  10.96  0.916061  191.23   \n",
       "\n",
       "           Pab1  Pab2  Pab3      Prtv    Patv    Wspd_y  \n",
       "0      0.217391  1.00  1.00  0.996876  494.66  0.265948  \n",
       "1      0.217391  1.00  1.00  0.996876  494.66  0.265948  \n",
       "2      0.217391  1.00  1.00  0.996926  509.76  0.270259  \n",
       "3      0.217391  1.00  1.00  0.996826  542.53  0.276724  \n",
       "4      0.217391  1.00  1.00  0.996975  509.36  0.269397  \n",
       "...         ...   ...   ...       ...     ...       ...  \n",
       "28795  0.208696  0.99  0.99  0.996678  296.34  0.202586  \n",
       "28796  0.208696  0.99  0.99  0.997025  178.46  0.152155  \n",
       "28797  0.208696  0.99  0.99  0.996926  164.19  0.150862  \n",
       "28798  0.208696  0.99  0.99  0.996727  259.42  0.183621  \n",
       "28799  0.208696  0.99  0.99  0.996777  218.70  0.171121  \n",
       "\n",
       "[28800 rows x 14 columns]"
      ]
     },
     "execution_count": 412,
     "metadata": {},
     "output_type": "execute_result"
    }
   ],
   "source": [
    "train_data"
   ]
  },
  {
   "cell_type": "code",
   "execution_count": 413,
   "id": "d82a9b87",
   "metadata": {},
   "outputs": [
    {
     "data": {
      "text/plain": [
       "array([0.04310345])"
      ]
     },
     "execution_count": 413,
     "metadata": {},
     "output_type": "execute_result"
    }
   ],
   "source": [
    "y_nor.scale_"
   ]
  },
  {
   "cell_type": "code",
   "execution_count": 414,
   "id": "0aab2ec9",
   "metadata": {},
   "outputs": [],
   "source": [
    "#실험\n",
    "#nor.min_=nor.min_[0]\n",
    "#nor.scale_=nor.scale_[0]"
   ]
  },
  {
   "cell_type": "code",
   "execution_count": 415,
   "id": "2262f15c",
   "metadata": {},
   "outputs": [
    {
     "data": {
      "text/plain": [
       "array([[6.17],\n",
       "       [6.17],\n",
       "       [6.27],\n",
       "       ...,\n",
       "       [3.5 ],\n",
       "       [4.26],\n",
       "       [3.97]])"
      ]
     },
     "execution_count": 415,
     "metadata": {},
     "output_type": "execute_result"
    }
   ],
   "source": [
    "y_nor.inverse_transform(train_data[[\"Wspd_y\"]])"
   ]
  },
  {
   "cell_type": "code",
   "execution_count": 447,
   "id": "05a9efec",
   "metadata": {},
   "outputs": [
    {
     "name": "stderr",
     "output_type": "stream",
     "text": [
      "100%|██████████████████████████████████████████████████████████████████████████| 28560/28560 [00:05<00:00, 5709.05it/s]\n",
      "100%|██████████████████████████████████████████████████████████████████████████████| 160/160 [00:00<00:00, 5333.59it/s]\n"
     ]
    }
   ],
   "source": [
    "#tms_list = list(pd.unique(train_data[\"Tmstamp\"]))\n",
    "#train_data[\"Tmstamp\"] = train_data[\"Tmstamp\"].apply(lambda x : tms_list.index(x) )\n",
    "#train_data[\"Tmstamp\"] = train_data[\"Tmstamp\"]//6\n",
    "#hour_list = [datetime.strptime(t,\"%H:%M\").hour for t in tms_list]\n",
    "#train_data[\"Tmstamp\"] = train_data[\"Tmstamp\"].apply(lambda x : hour_list[tms_list.index(x)] )\n",
    "\n",
    "\n",
    "X_data, Y_data = make_train_data(train_data)\n",
    "valid_X_data, valid_Y_data = make_valid_data(train_data)"
   ]
  },
  {
   "cell_type": "code",
   "execution_count": 448,
   "id": "83a9dae8",
   "metadata": {},
   "outputs": [
    {
     "data": {
      "text/plain": [
       "28560"
      ]
     },
     "execution_count": 448,
     "metadata": {},
     "output_type": "execute_result"
    }
   ],
   "source": [
    "len(X_data)# 5일학습 기준 윈도우는 터빈당 194개. 194개 마다 hidden state 초기화 필요,"
   ]
  },
  {
   "cell_type": "code",
   "execution_count": 449,
   "id": "8b2e7d9a",
   "metadata": {},
   "outputs": [
    {
     "data": {
      "text/plain": [
       "160"
      ]
     },
     "execution_count": 449,
     "metadata": {},
     "output_type": "execute_result"
    }
   ],
   "source": [
    "len(valid_X_data)"
   ]
  },
  {
   "cell_type": "code",
   "execution_count": 450,
   "id": "780d223b",
   "metadata": {},
   "outputs": [
    {
     "data": {
      "text/html": [
       "<div>\n",
       "<style scoped>\n",
       "    .dataframe tbody tr th:only-of-type {\n",
       "        vertical-align: middle;\n",
       "    }\n",
       "\n",
       "    .dataframe tbody tr th {\n",
       "        vertical-align: top;\n",
       "    }\n",
       "\n",
       "    .dataframe thead th {\n",
       "        text-align: right;\n",
       "    }\n",
       "</style>\n",
       "<table border=\"1\" class=\"dataframe\">\n",
       "  <thead>\n",
       "    <tr style=\"text-align: right;\">\n",
       "      <th></th>\n",
       "      <th>0</th>\n",
       "    </tr>\n",
       "  </thead>\n",
       "  <tbody>\n",
       "    <tr>\n",
       "      <th>0</th>\n",
       "      <td>6.17</td>\n",
       "    </tr>\n",
       "    <tr>\n",
       "      <th>1</th>\n",
       "      <td>6.17</td>\n",
       "    </tr>\n",
       "    <tr>\n",
       "      <th>2</th>\n",
       "      <td>6.27</td>\n",
       "    </tr>\n",
       "    <tr>\n",
       "      <th>3</th>\n",
       "      <td>6.42</td>\n",
       "    </tr>\n",
       "    <tr>\n",
       "      <th>4</th>\n",
       "      <td>6.25</td>\n",
       "    </tr>\n",
       "    <tr>\n",
       "      <th>5</th>\n",
       "      <td>6.10</td>\n",
       "    </tr>\n",
       "    <tr>\n",
       "      <th>6</th>\n",
       "      <td>6.77</td>\n",
       "    </tr>\n",
       "    <tr>\n",
       "      <th>7</th>\n",
       "      <td>6.70</td>\n",
       "    </tr>\n",
       "    <tr>\n",
       "      <th>8</th>\n",
       "      <td>6.44</td>\n",
       "    </tr>\n",
       "    <tr>\n",
       "      <th>9</th>\n",
       "      <td>6.25</td>\n",
       "    </tr>\n",
       "    <tr>\n",
       "      <th>10</th>\n",
       "      <td>6.87</td>\n",
       "    </tr>\n",
       "    <tr>\n",
       "      <th>11</th>\n",
       "      <td>6.60</td>\n",
       "    </tr>\n",
       "    <tr>\n",
       "      <th>12</th>\n",
       "      <td>6.71</td>\n",
       "    </tr>\n",
       "    <tr>\n",
       "      <th>13</th>\n",
       "      <td>6.86</td>\n",
       "    </tr>\n",
       "    <tr>\n",
       "      <th>14</th>\n",
       "      <td>6.88</td>\n",
       "    </tr>\n",
       "    <tr>\n",
       "      <th>15</th>\n",
       "      <td>7.10</td>\n",
       "    </tr>\n",
       "    <tr>\n",
       "      <th>16</th>\n",
       "      <td>7.16</td>\n",
       "    </tr>\n",
       "    <tr>\n",
       "      <th>17</th>\n",
       "      <td>6.80</td>\n",
       "    </tr>\n",
       "    <tr>\n",
       "      <th>18</th>\n",
       "      <td>6.85</td>\n",
       "    </tr>\n",
       "    <tr>\n",
       "      <th>19</th>\n",
       "      <td>6.85</td>\n",
       "    </tr>\n",
       "    <tr>\n",
       "      <th>20</th>\n",
       "      <td>6.57</td>\n",
       "    </tr>\n",
       "    <tr>\n",
       "      <th>21</th>\n",
       "      <td>6.36</td>\n",
       "    </tr>\n",
       "    <tr>\n",
       "      <th>22</th>\n",
       "      <td>6.88</td>\n",
       "    </tr>\n",
       "    <tr>\n",
       "      <th>23</th>\n",
       "      <td>7.32</td>\n",
       "    </tr>\n",
       "    <tr>\n",
       "      <th>24</th>\n",
       "      <td>7.92</td>\n",
       "    </tr>\n",
       "    <tr>\n",
       "      <th>25</th>\n",
       "      <td>7.73</td>\n",
       "    </tr>\n",
       "    <tr>\n",
       "      <th>26</th>\n",
       "      <td>8.46</td>\n",
       "    </tr>\n",
       "    <tr>\n",
       "      <th>27</th>\n",
       "      <td>8.81</td>\n",
       "    </tr>\n",
       "    <tr>\n",
       "      <th>28</th>\n",
       "      <td>9.23</td>\n",
       "    </tr>\n",
       "    <tr>\n",
       "      <th>29</th>\n",
       "      <td>9.45</td>\n",
       "    </tr>\n",
       "    <tr>\n",
       "      <th>30</th>\n",
       "      <td>9.40</td>\n",
       "    </tr>\n",
       "    <tr>\n",
       "      <th>31</th>\n",
       "      <td>9.50</td>\n",
       "    </tr>\n",
       "    <tr>\n",
       "      <th>32</th>\n",
       "      <td>8.93</td>\n",
       "    </tr>\n",
       "    <tr>\n",
       "      <th>33</th>\n",
       "      <td>8.09</td>\n",
       "    </tr>\n",
       "    <tr>\n",
       "      <th>34</th>\n",
       "      <td>7.77</td>\n",
       "    </tr>\n",
       "    <tr>\n",
       "      <th>35</th>\n",
       "      <td>7.99</td>\n",
       "    </tr>\n",
       "    <tr>\n",
       "      <th>36</th>\n",
       "      <td>8.01</td>\n",
       "    </tr>\n",
       "    <tr>\n",
       "      <th>37</th>\n",
       "      <td>8.06</td>\n",
       "    </tr>\n",
       "    <tr>\n",
       "      <th>38</th>\n",
       "      <td>9.11</td>\n",
       "    </tr>\n",
       "    <tr>\n",
       "      <th>39</th>\n",
       "      <td>10.96</td>\n",
       "    </tr>\n",
       "  </tbody>\n",
       "</table>\n",
       "</div>"
      ],
      "text/plain": [
       "        0\n",
       "0    6.17\n",
       "1    6.17\n",
       "2    6.27\n",
       "3    6.42\n",
       "4    6.25\n",
       "5    6.10\n",
       "6    6.77\n",
       "7    6.70\n",
       "8    6.44\n",
       "9    6.25\n",
       "10   6.87\n",
       "11   6.60\n",
       "12   6.71\n",
       "13   6.86\n",
       "14   6.88\n",
       "15   7.10\n",
       "16   7.16\n",
       "17   6.80\n",
       "18   6.85\n",
       "19   6.85\n",
       "20   6.57\n",
       "21   6.36\n",
       "22   6.88\n",
       "23   7.32\n",
       "24   7.92\n",
       "25   7.73\n",
       "26   8.46\n",
       "27   8.81\n",
       "28   9.23\n",
       "29   9.45\n",
       "30   9.40\n",
       "31   9.50\n",
       "32   8.93\n",
       "33   8.09\n",
       "34   7.77\n",
       "35   7.99\n",
       "36   8.01\n",
       "37   8.06\n",
       "38   9.11\n",
       "39  10.96"
      ]
     },
     "execution_count": 450,
     "metadata": {},
     "output_type": "execute_result"
    }
   ],
   "source": [
    "pd.DataFrame(X_data[0])"
   ]
  },
  {
   "cell_type": "code",
   "execution_count": 420,
   "id": "f44be6ee",
   "metadata": {},
   "outputs": [],
   "source": [
    "from datetime import datetime\n",
    "def fourier_features(index, freq, order):\n",
    "    time = np.arange(len(index), dtype=np.float32)\n",
    "    k = 2 * np.pi * (1 / freq) * time\n",
    "    features = {}\n",
    "    for i in range(1, order + 1):\n",
    "        features.update({\n",
    "            f\"sin_{freq}_{i}\": np.sin(i * k),\n",
    "            f\"cos_{freq}_{i}\": np.cos(i * k),\n",
    "        })\n",
    "    return pd.DataFrame(features, index=index)\n",
    "#출처: https://today-1.tistory.com/55 [Better Than,:티스토리]"
   ]
  },
  {
   "cell_type": "code",
   "execution_count": 14,
   "id": "9e9de5fb",
   "metadata": {
    "scrolled": true
   },
   "outputs": [
    {
     "name": "stdout",
     "output_type": "stream",
     "text": [
      " database. History logging moved to new session 1439\n"
     ]
    },
    {
     "ename": "TypeError",
     "evalue": "strptime() argument 1 must be str, not numpy.int64",
     "output_type": "error",
     "traceback": [
      "\u001b[1;31m---------------------------------------------------------------------------\u001b[0m",
      "\u001b[1;31mTypeError\u001b[0m                                 Traceback (most recent call last)",
      "\u001b[1;32m~\\AppData\\Local\\Temp/ipykernel_8992/2475032882.py\u001b[0m in \u001b[0;36m<module>\u001b[1;34m\u001b[0m\n\u001b[0;32m      1\u001b[0m \u001b[1;31m# time stamp label encoding\u001b[0m\u001b[1;33m\u001b[0m\u001b[1;33m\u001b[0m\u001b[1;33m\u001b[0m\u001b[0m\n\u001b[0;32m      2\u001b[0m \u001b[0mtms_list\u001b[0m \u001b[1;33m=\u001b[0m \u001b[0mlist\u001b[0m\u001b[1;33m(\u001b[0m\u001b[0mpd\u001b[0m\u001b[1;33m.\u001b[0m\u001b[0munique\u001b[0m\u001b[1;33m(\u001b[0m\u001b[0mtrain_data\u001b[0m\u001b[1;33m[\u001b[0m\u001b[1;34m\"Tmstamp\"\u001b[0m\u001b[1;33m]\u001b[0m\u001b[1;33m)\u001b[0m\u001b[1;33m)\u001b[0m\u001b[1;33m\u001b[0m\u001b[1;33m\u001b[0m\u001b[0m\n\u001b[1;32m----> 3\u001b[1;33m \u001b[0mhour_list\u001b[0m \u001b[1;33m=\u001b[0m \u001b[1;33m[\u001b[0m\u001b[0mdatetime\u001b[0m\u001b[1;33m.\u001b[0m\u001b[0mstrptime\u001b[0m\u001b[1;33m(\u001b[0m\u001b[0mt\u001b[0m\u001b[1;33m,\u001b[0m\u001b[1;34m\"%H:%M\"\u001b[0m\u001b[1;33m)\u001b[0m\u001b[1;33m.\u001b[0m\u001b[0mhour\u001b[0m \u001b[1;32mfor\u001b[0m \u001b[0mt\u001b[0m \u001b[1;32min\u001b[0m \u001b[0mtms_list\u001b[0m\u001b[1;33m]\u001b[0m\u001b[1;33m\u001b[0m\u001b[1;33m\u001b[0m\u001b[0m\n\u001b[0m\u001b[0;32m      4\u001b[0m \u001b[1;33m\u001b[0m\u001b[0m\n\u001b[0;32m      5\u001b[0m \u001b[0mtrain_data\u001b[0m\u001b[1;33m[\u001b[0m\u001b[1;34m\"Tmstamp\"\u001b[0m\u001b[1;33m]\u001b[0m \u001b[1;33m=\u001b[0m \u001b[0mtrain_data\u001b[0m\u001b[1;33m[\u001b[0m\u001b[1;34m\"Tmstamp\"\u001b[0m\u001b[1;33m]\u001b[0m\u001b[1;33m.\u001b[0m\u001b[0mapply\u001b[0m\u001b[1;33m(\u001b[0m\u001b[1;32mlambda\u001b[0m \u001b[0mx\u001b[0m \u001b[1;33m:\u001b[0m \u001b[0mhour_list\u001b[0m\u001b[1;33m[\u001b[0m\u001b[0mtms_list\u001b[0m\u001b[1;33m.\u001b[0m\u001b[0mindex\u001b[0m\u001b[1;33m(\u001b[0m\u001b[0mx\u001b[0m\u001b[1;33m)\u001b[0m\u001b[1;33m]\u001b[0m \u001b[1;33m)\u001b[0m\u001b[1;33m\u001b[0m\u001b[1;33m\u001b[0m\u001b[0m\n",
      "\u001b[1;32m~\\AppData\\Local\\Temp/ipykernel_8992/2475032882.py\u001b[0m in \u001b[0;36m<listcomp>\u001b[1;34m(.0)\u001b[0m\n\u001b[0;32m      1\u001b[0m \u001b[1;31m# time stamp label encoding\u001b[0m\u001b[1;33m\u001b[0m\u001b[1;33m\u001b[0m\u001b[1;33m\u001b[0m\u001b[0m\n\u001b[0;32m      2\u001b[0m \u001b[0mtms_list\u001b[0m \u001b[1;33m=\u001b[0m \u001b[0mlist\u001b[0m\u001b[1;33m(\u001b[0m\u001b[0mpd\u001b[0m\u001b[1;33m.\u001b[0m\u001b[0munique\u001b[0m\u001b[1;33m(\u001b[0m\u001b[0mtrain_data\u001b[0m\u001b[1;33m[\u001b[0m\u001b[1;34m\"Tmstamp\"\u001b[0m\u001b[1;33m]\u001b[0m\u001b[1;33m)\u001b[0m\u001b[1;33m)\u001b[0m\u001b[1;33m\u001b[0m\u001b[1;33m\u001b[0m\u001b[0m\n\u001b[1;32m----> 3\u001b[1;33m \u001b[0mhour_list\u001b[0m \u001b[1;33m=\u001b[0m \u001b[1;33m[\u001b[0m\u001b[0mdatetime\u001b[0m\u001b[1;33m.\u001b[0m\u001b[0mstrptime\u001b[0m\u001b[1;33m(\u001b[0m\u001b[0mt\u001b[0m\u001b[1;33m,\u001b[0m\u001b[1;34m\"%H:%M\"\u001b[0m\u001b[1;33m)\u001b[0m\u001b[1;33m.\u001b[0m\u001b[0mhour\u001b[0m \u001b[1;32mfor\u001b[0m \u001b[0mt\u001b[0m \u001b[1;32min\u001b[0m \u001b[0mtms_list\u001b[0m\u001b[1;33m]\u001b[0m\u001b[1;33m\u001b[0m\u001b[1;33m\u001b[0m\u001b[0m\n\u001b[0m\u001b[0;32m      4\u001b[0m \u001b[1;33m\u001b[0m\u001b[0m\n\u001b[0;32m      5\u001b[0m \u001b[0mtrain_data\u001b[0m\u001b[1;33m[\u001b[0m\u001b[1;34m\"Tmstamp\"\u001b[0m\u001b[1;33m]\u001b[0m \u001b[1;33m=\u001b[0m \u001b[0mtrain_data\u001b[0m\u001b[1;33m[\u001b[0m\u001b[1;34m\"Tmstamp\"\u001b[0m\u001b[1;33m]\u001b[0m\u001b[1;33m.\u001b[0m\u001b[0mapply\u001b[0m\u001b[1;33m(\u001b[0m\u001b[1;32mlambda\u001b[0m \u001b[0mx\u001b[0m \u001b[1;33m:\u001b[0m \u001b[0mhour_list\u001b[0m\u001b[1;33m[\u001b[0m\u001b[0mtms_list\u001b[0m\u001b[1;33m.\u001b[0m\u001b[0mindex\u001b[0m\u001b[1;33m(\u001b[0m\u001b[0mx\u001b[0m\u001b[1;33m)\u001b[0m\u001b[1;33m]\u001b[0m \u001b[1;33m)\u001b[0m\u001b[1;33m\u001b[0m\u001b[1;33m\u001b[0m\u001b[0m\n",
      "\u001b[1;31mTypeError\u001b[0m: strptime() argument 1 must be str, not numpy.int64"
     ]
    }
   ],
   "source": [
    "# time stamp label encoding\n",
    "tms_list = list(pd.unique(train_data[\"Tmstamp\"]))\n",
    "hour_list = [datetime.strptime(t,\"%H:%M\").hour for t in tms_list]\n",
    "\n",
    "train_data[\"Tmstamp\"] = train_data[\"Tmstamp\"].apply(lambda x : hour_list[tms_list.index(x)] )\n",
    "\n",
    "\n",
    "# Fourier Features\n",
    "train_data['sin_24_1'] = np.sin(2 * np.pi * train_data['Tmstamp']/23.0)\n",
    "train_data['cos_24_1'] = np.cos(2 * np.pi * train_data['Tmstamp']/23.0)\n",
    "fourier_features(train_data['Tmstamp'], 24, 1)\n",
    "\n",
    "train_data.drop(['Tmstamp'],axis=1,inplace=True)\n",
    "\n",
    "X_data, Y_data = make_train_data(train_data)\n",
    "#valid_x, valid_y = make_valid_data(train_data)\n"
   ]
  },
  {
   "cell_type": "code",
   "execution_count": 19,
   "id": "90f3786a",
   "metadata": {},
   "outputs": [],
   "source": [
    "#train_y, valid_y, train_x, valid_x = temporal_train_test_split(X=X_data,y=Y_data, test_size=0.1 )\n",
    "# 0.1 validation :117~121 , ...순서가 잘못됨.\n",
    "# 0.05 validation :"
   ]
  },
  {
   "cell_type": "code",
   "execution_count": 457,
   "id": "1f648c39",
   "metadata": {},
   "outputs": [
    {
     "data": {
      "text/plain": [
       "40"
      ]
     },
     "execution_count": 457,
     "metadata": {},
     "output_type": "execute_result"
    }
   ],
   "source": [
    "X_data[0].shape[0]"
   ]
  },
  {
   "cell_type": "code",
   "execution_count": 456,
   "id": "c4735acf",
   "metadata": {},
   "outputs": [
    {
     "data": {
      "text/plain": [
       "(28560, 40)"
      ]
     },
     "execution_count": 456,
     "metadata": {},
     "output_type": "execute_result"
    }
   ],
   "source": [
    "np.array(X_data)."
   ]
  },
  {
   "cell_type": "code",
   "execution_count": 459,
   "id": "a9061b7e",
   "metadata": {},
   "outputs": [
    {
     "name": "stdout",
     "output_type": "stream",
     "text": [
      "(28560, 40, 1) (28560, 1)\n",
      "(160, 40, 1) (160, 1)\n"
     ]
    }
   ],
   "source": [
    "train_x  = np.array(X_data).reshape(-1, X_data[0].shape[0], 1)\n",
    "train_y= np.array(Y_data)\n",
    "\n",
    "\n",
    "valid_x  = np.array(valid_X_data).reshape(-1, valid_X_data[0].shape[0], 1)\n",
    "#train_x = np.array(X_data)\n",
    "valid_y = np.array(valid_Y_data)\n",
    "\n",
    "print(train_x.shape, train_y.shape)\n",
    "print(valid_x.shape, valid_y.shape)\n",
    "\n",
    "# 한터빈당 20개의 배치를 가진다."
   ]
  },
  {
   "cell_type": "code",
   "execution_count": 460,
   "id": "bf35c7bb",
   "metadata": {},
   "outputs": [
    {
     "data": {
      "text/html": [
       "<div>\n",
       "<style scoped>\n",
       "    .dataframe tbody tr th:only-of-type {\n",
       "        vertical-align: middle;\n",
       "    }\n",
       "\n",
       "    .dataframe tbody tr th {\n",
       "        vertical-align: top;\n",
       "    }\n",
       "\n",
       "    .dataframe thead th {\n",
       "        text-align: right;\n",
       "    }\n",
       "</style>\n",
       "<table border=\"1\" class=\"dataframe\">\n",
       "  <thead>\n",
       "    <tr style=\"text-align: right;\">\n",
       "      <th></th>\n",
       "      <th>0</th>\n",
       "    </tr>\n",
       "  </thead>\n",
       "  <tbody>\n",
       "    <tr>\n",
       "      <th>0</th>\n",
       "      <td>15.59</td>\n",
       "    </tr>\n",
       "    <tr>\n",
       "      <th>1</th>\n",
       "      <td>14.40</td>\n",
       "    </tr>\n",
       "    <tr>\n",
       "      <th>2</th>\n",
       "      <td>14.66</td>\n",
       "    </tr>\n",
       "    <tr>\n",
       "      <th>3</th>\n",
       "      <td>13.99</td>\n",
       "    </tr>\n",
       "    <tr>\n",
       "      <th>4</th>\n",
       "      <td>14.74</td>\n",
       "    </tr>\n",
       "    <tr>\n",
       "      <th>5</th>\n",
       "      <td>14.50</td>\n",
       "    </tr>\n",
       "    <tr>\n",
       "      <th>6</th>\n",
       "      <td>7.69</td>\n",
       "    </tr>\n",
       "    <tr>\n",
       "      <th>7</th>\n",
       "      <td>6.41</td>\n",
       "    </tr>\n",
       "    <tr>\n",
       "      <th>8</th>\n",
       "      <td>5.90</td>\n",
       "    </tr>\n",
       "    <tr>\n",
       "      <th>9</th>\n",
       "      <td>5.23</td>\n",
       "    </tr>\n",
       "    <tr>\n",
       "      <th>10</th>\n",
       "      <td>3.49</td>\n",
       "    </tr>\n",
       "    <tr>\n",
       "      <th>11</th>\n",
       "      <td>3.28</td>\n",
       "    </tr>\n",
       "    <tr>\n",
       "      <th>12</th>\n",
       "      <td>1.97</td>\n",
       "    </tr>\n",
       "    <tr>\n",
       "      <th>13</th>\n",
       "      <td>1.75</td>\n",
       "    </tr>\n",
       "    <tr>\n",
       "      <th>14</th>\n",
       "      <td>2.90</td>\n",
       "    </tr>\n",
       "    <tr>\n",
       "      <th>15</th>\n",
       "      <td>3.61</td>\n",
       "    </tr>\n",
       "    <tr>\n",
       "      <th>16</th>\n",
       "      <td>7.04</td>\n",
       "    </tr>\n",
       "    <tr>\n",
       "      <th>17</th>\n",
       "      <td>8.07</td>\n",
       "    </tr>\n",
       "    <tr>\n",
       "      <th>18</th>\n",
       "      <td>6.86</td>\n",
       "    </tr>\n",
       "    <tr>\n",
       "      <th>19</th>\n",
       "      <td>6.35</td>\n",
       "    </tr>\n",
       "    <tr>\n",
       "      <th>20</th>\n",
       "      <td>5.51</td>\n",
       "    </tr>\n",
       "    <tr>\n",
       "      <th>21</th>\n",
       "      <td>6.20</td>\n",
       "    </tr>\n",
       "    <tr>\n",
       "      <th>22</th>\n",
       "      <td>5.40</td>\n",
       "    </tr>\n",
       "    <tr>\n",
       "      <th>23</th>\n",
       "      <td>4.79</td>\n",
       "    </tr>\n",
       "    <tr>\n",
       "      <th>24</th>\n",
       "      <td>4.45</td>\n",
       "    </tr>\n",
       "    <tr>\n",
       "      <th>25</th>\n",
       "      <td>4.14</td>\n",
       "    </tr>\n",
       "    <tr>\n",
       "      <th>26</th>\n",
       "      <td>5.60</td>\n",
       "    </tr>\n",
       "    <tr>\n",
       "      <th>27</th>\n",
       "      <td>5.91</td>\n",
       "    </tr>\n",
       "    <tr>\n",
       "      <th>28</th>\n",
       "      <td>7.17</td>\n",
       "    </tr>\n",
       "    <tr>\n",
       "      <th>29</th>\n",
       "      <td>9.05</td>\n",
       "    </tr>\n",
       "    <tr>\n",
       "      <th>30</th>\n",
       "      <td>9.48</td>\n",
       "    </tr>\n",
       "    <tr>\n",
       "      <th>31</th>\n",
       "      <td>9.37</td>\n",
       "    </tr>\n",
       "    <tr>\n",
       "      <th>32</th>\n",
       "      <td>9.35</td>\n",
       "    </tr>\n",
       "    <tr>\n",
       "      <th>33</th>\n",
       "      <td>9.51</td>\n",
       "    </tr>\n",
       "    <tr>\n",
       "      <th>34</th>\n",
       "      <td>8.52</td>\n",
       "    </tr>\n",
       "    <tr>\n",
       "      <th>35</th>\n",
       "      <td>8.13</td>\n",
       "    </tr>\n",
       "    <tr>\n",
       "      <th>36</th>\n",
       "      <td>7.52</td>\n",
       "    </tr>\n",
       "    <tr>\n",
       "      <th>37</th>\n",
       "      <td>7.13</td>\n",
       "    </tr>\n",
       "    <tr>\n",
       "      <th>38</th>\n",
       "      <td>6.80</td>\n",
       "    </tr>\n",
       "    <tr>\n",
       "      <th>39</th>\n",
       "      <td>6.18</td>\n",
       "    </tr>\n",
       "  </tbody>\n",
       "</table>\n",
       "</div>"
      ],
      "text/plain": [
       "        0\n",
       "0   15.59\n",
       "1   14.40\n",
       "2   14.66\n",
       "3   13.99\n",
       "4   14.74\n",
       "5   14.50\n",
       "6    7.69\n",
       "7    6.41\n",
       "8    5.90\n",
       "9    5.23\n",
       "10   3.49\n",
       "11   3.28\n",
       "12   1.97\n",
       "13   1.75\n",
       "14   2.90\n",
       "15   3.61\n",
       "16   7.04\n",
       "17   8.07\n",
       "18   6.86\n",
       "19   6.35\n",
       "20   5.51\n",
       "21   6.20\n",
       "22   5.40\n",
       "23   4.79\n",
       "24   4.45\n",
       "25   4.14\n",
       "26   5.60\n",
       "27   5.91\n",
       "28   7.17\n",
       "29   9.05\n",
       "30   9.48\n",
       "31   9.37\n",
       "32   9.35\n",
       "33   9.51\n",
       "34   8.52\n",
       "35   8.13\n",
       "36   7.52\n",
       "37   7.13\n",
       "38   6.80\n",
       "39   6.18"
      ]
     },
     "execution_count": 460,
     "metadata": {},
     "output_type": "execute_result"
    }
   ],
   "source": [
    "pd.DataFrame(valid_x[0])"
   ]
  },
  {
   "attachments": {
    "image.png": {
     "image/png": "[encoded data removed]"
    }
   },
   "cell_type": "markdown",
   "id": "968591bc",
   "metadata": {},
   "source": [
    "input dimension은 (Batch, Time_step, Feature dimension) 순이다. (batch_first=True)\n",
    "\n",
    "output이 288인 이유는 2일이라서\n",
    "\n",
    "![image.png](attachment:image.png)"
   ]
  },
  {
   "cell_type": "markdown",
   "id": "20be20ba",
   "metadata": {},
   "source": [
    "# 데이터 로더"
   ]
  },
  {
   "cell_type": "code",
   "execution_count": 461,
   "id": "d8e36986",
   "metadata": {},
   "outputs": [],
   "source": [
    "EPOCHS = 30\n",
    "BATCH_SIZE = 128\n",
    "lr = 1e-3"
   ]
  },
  {
   "cell_type": "code",
   "execution_count": 462,
   "id": "270ce953",
   "metadata": {},
   "outputs": [],
   "source": [
    "from torch.utils.data import Dataset, DataLoader\n",
    "\n",
    "class TimeDataset(Dataset):\n",
    "    def __init__(self, X, Y):\n",
    "        self.X = X\n",
    "        self.Y = Y\n",
    "        \n",
    "    def __len__(self):\n",
    "        return len(self.X)\n",
    "        \n",
    "    def __getitem__(self, index):\n",
    "        if self.Y is not None:\n",
    "            return torch.Tensor(self.X[index]), torch.Tensor(self.Y[index])\n",
    "        \n",
    "        return torch.Tensor(self.X[index]) # 테스트셋 용\n",
    "    \n"
   ]
  },
  {
   "cell_type": "code",
   "execution_count": 463,
   "id": "5cb7414a",
   "metadata": {},
   "outputs": [],
   "source": [
    "train_dataset = TimeDataset(train_x, train_y)\n",
    "valid_dataset = TimeDataset(valid_x, valid_y)\n",
    "\n",
    "\n",
    "train_loader = DataLoader(train_dataset, \n",
    "                          batch_size = BATCH_SIZE,\n",
    "                          shuffle=False)\n",
    "\n",
    "valid_loader = DataLoader(valid_dataset, \n",
    "                          batch_size = BATCH_SIZE,\n",
    "                          shuffle=True)\n",
    "\n"
   ]
  },
  {
   "cell_type": "markdown",
   "id": "b1391110",
   "metadata": {},
   "source": [
    "# 데이터 확인"
   ]
  },
  {
   "cell_type": "code",
   "execution_count": 464,
   "id": "c8efd1fb",
   "metadata": {
    "scrolled": true
   },
   "outputs": [
    {
     "name": "stdout",
     "output_type": "stream",
     "text": [
      "X_train :  torch.Size([128, 40, 1]) type: torch.FloatTensor\n",
      "Y_train :  torch.Size([128, 1]) type: torch.FloatTensor\n",
      "torch.Size([1])\n"
     ]
    }
   ],
   "source": [
    "# 4. 데이터 확인하기\n",
    "for (X_train,Y_train) in train_loader:\n",
    "    print(\"X_train : \",X_train.size(),'type:',X_train.type())\n",
    "    print(\"Y_train : \",Y_train.size(),'type:',Y_train.type())\n",
    "    break\n",
    "    \n",
    "print(Y_train[0].shape)\n"
   ]
  },
  {
   "cell_type": "code",
   "execution_count": 465,
   "id": "3f4a147c",
   "metadata": {
    "scrolled": true
   },
   "outputs": [
    {
     "name": "stdout",
     "output_type": "stream",
     "text": [
      "X_valid :  torch.Size([128, 40, 1]) type: torch.FloatTensor\n",
      "Y_valid :  torch.Size([128, 1]) type: torch.FloatTensor\n",
      "torch.Size([1])\n"
     ]
    }
   ],
   "source": [
    "#valiation set 확인\n",
    "for (X_valid,Y_valid) in valid_loader:\n",
    "    print(\"X_valid : \",X_valid.size(),'type:',X_valid.type())\n",
    "    print(\"Y_valid : \",Y_valid.size(),'type:',Y_valid.type())\n",
    "    break\n",
    "\n",
    "print(Y_valid[0].shape)"
   ]
  },
  {
   "cell_type": "markdown",
   "id": "9630a2ff",
   "metadata": {},
   "source": [
    "# 모델\n"
   ]
  },
  {
   "cell_type": "markdown",
   "id": "fd8220ba",
   "metadata": {},
   "source": [
    "### input 설명\n",
    "\n",
    "- input_size: input의 feature dimension을 넣어주어야 한다. time step이 아니라 feature dimension!\n",
    "- hidden_size: 내부에서 어떤 feature dimension으로 바꿔주고 싶은지를 넣어주면 된다.\n",
    "- num_layers: lstm layer를 얼마나 쌓을지\n",
    "- bias: bias term을 둘 것인가 (Default: True)\n",
    "- batch_first: batch가 0번 dimension으로 오게 하려면 이거 설정! 난 이거 설정 가정하고 설명했다. (Default: False)\n",
    "- dropout: 가지치기 얼마나 할지, generalization 잘안되면 이걸 조정하면 된다.\n",
    "bidirectional: 양방향으로 할지 말지 (bidirectional 하면 [forward, backword] 로 feature dimension 2배 됨)\n",
    "\n",
    "\n",
    "\n",
    "참고.\n",
    "\n",
    "https://sanghyu.tistory.com/52"
   ]
  },
  {
   "cell_type": "markdown",
   "id": "7da3e174",
   "metadata": {},
   "source": [
    "### output 설명\n",
    "\n",
    "- outputs는 (output, (hidden or hidden stat,cell stat)) 의 tuple 형태로 나오므로 주의해서 써야한다. (LSTM만 cell state있음)\n",
    "- output: output dimension은 (batch, time_step, hidden dimension) 순이다. 양방향일 경우 hidden_size*2\n",
    "- hidden state: 모든 layer의 hidden state를 담고있다.\n",
    "- cell state: 모든 layer의 cell state를 담고있다."
   ]
  },
  {
   "cell_type": "code",
   "execution_count": 105,
   "id": "7bbb59d4",
   "metadata": {},
   "outputs": [
    {
     "ename": "RuntimeError",
     "evalue": "input.size(-1) must be equal to input_size. Expected 12, got 6",
     "output_type": "error",
     "traceback": [
      "\u001b[1;31m---------------------------------------------------------------------------\u001b[0m",
      "\u001b[1;31mRuntimeError\u001b[0m                              Traceback (most recent call last)",
      "\u001b[1;32m~\\AppData\\Local\\Temp/ipykernel_18868/4287894423.py\u001b[0m in \u001b[0;36m<module>\u001b[1;34m\u001b[0m\n\u001b[0;32m      1\u001b[0m \u001b[0mlstm\u001b[0m \u001b[1;33m=\u001b[0m \u001b[0mnn\u001b[0m\u001b[1;33m.\u001b[0m\u001b[0mLSTM\u001b[0m\u001b[1;33m(\u001b[0m\u001b[0minput_size\u001b[0m\u001b[1;33m=\u001b[0m\u001b[1;36m12\u001b[0m\u001b[1;33m,\u001b[0m \u001b[0mhidden_size\u001b[0m\u001b[1;33m=\u001b[0m\u001b[1;36m256\u001b[0m\u001b[1;33m,\u001b[0m \u001b[0mbatch_first\u001b[0m\u001b[1;33m=\u001b[0m\u001b[1;32mTrue\u001b[0m\u001b[1;33m,\u001b[0m \u001b[0mbidirectional\u001b[0m\u001b[1;33m=\u001b[0m\u001b[1;32mFalse\u001b[0m\u001b[1;33m)\u001b[0m\u001b[1;33m\u001b[0m\u001b[1;33m\u001b[0m\u001b[0m\n\u001b[0;32m      2\u001b[0m \u001b[1;33m\u001b[0m\u001b[0m\n\u001b[1;32m----> 3\u001b[1;33m \u001b[0mlstm\u001b[0m\u001b[1;33m(\u001b[0m\u001b[0mX_valid\u001b[0m\u001b[1;33m)\u001b[0m\u001b[1;33m[\u001b[0m\u001b[1;36m0\u001b[0m\u001b[1;33m]\u001b[0m\u001b[1;33m.\u001b[0m\u001b[0msize\u001b[0m\u001b[1;33m(\u001b[0m\u001b[1;33m)\u001b[0m\u001b[1;33m\u001b[0m\u001b[1;33m\u001b[0m\u001b[0m\n\u001b[0m",
      "\u001b[1;32m~\\anaconda3\\envs\\local_torch\\lib\\site-packages\\torch\\nn\\modules\\module.py\u001b[0m in \u001b[0;36m_call_impl\u001b[1;34m(self, *input, **kwargs)\u001b[0m\n\u001b[0;32m   1100\u001b[0m         if not (self._backward_hooks or self._forward_hooks or self._forward_pre_hooks or _global_backward_hooks\n\u001b[0;32m   1101\u001b[0m                 or _global_forward_hooks or _global_forward_pre_hooks):\n\u001b[1;32m-> 1102\u001b[1;33m             \u001b[1;32mreturn\u001b[0m \u001b[0mforward_call\u001b[0m\u001b[1;33m(\u001b[0m\u001b[1;33m*\u001b[0m\u001b[0minput\u001b[0m\u001b[1;33m,\u001b[0m \u001b[1;33m**\u001b[0m\u001b[0mkwargs\u001b[0m\u001b[1;33m)\u001b[0m\u001b[1;33m\u001b[0m\u001b[1;33m\u001b[0m\u001b[0m\n\u001b[0m\u001b[0;32m   1103\u001b[0m         \u001b[1;31m# Do not call functions when jit is used\u001b[0m\u001b[1;33m\u001b[0m\u001b[1;33m\u001b[0m\u001b[1;33m\u001b[0m\u001b[0m\n\u001b[0;32m   1104\u001b[0m         \u001b[0mfull_backward_hooks\u001b[0m\u001b[1;33m,\u001b[0m \u001b[0mnon_full_backward_hooks\u001b[0m \u001b[1;33m=\u001b[0m \u001b[1;33m[\u001b[0m\u001b[1;33m]\u001b[0m\u001b[1;33m,\u001b[0m \u001b[1;33m[\u001b[0m\u001b[1;33m]\u001b[0m\u001b[1;33m\u001b[0m\u001b[1;33m\u001b[0m\u001b[0m\n",
      "\u001b[1;32m~\\anaconda3\\envs\\local_torch\\lib\\site-packages\\torch\\nn\\modules\\rnn.py\u001b[0m in \u001b[0;36mforward\u001b[1;34m(self, input, hx)\u001b[0m\n\u001b[0;32m    687\u001b[0m             \u001b[0mhx\u001b[0m \u001b[1;33m=\u001b[0m \u001b[0mself\u001b[0m\u001b[1;33m.\u001b[0m\u001b[0mpermute_hidden\u001b[0m\u001b[1;33m(\u001b[0m\u001b[0mhx\u001b[0m\u001b[1;33m,\u001b[0m \u001b[0msorted_indices\u001b[0m\u001b[1;33m)\u001b[0m\u001b[1;33m\u001b[0m\u001b[1;33m\u001b[0m\u001b[0m\n\u001b[0;32m    688\u001b[0m \u001b[1;33m\u001b[0m\u001b[0m\n\u001b[1;32m--> 689\u001b[1;33m         \u001b[0mself\u001b[0m\u001b[1;33m.\u001b[0m\u001b[0mcheck_forward_args\u001b[0m\u001b[1;33m(\u001b[0m\u001b[0minput\u001b[0m\u001b[1;33m,\u001b[0m \u001b[0mhx\u001b[0m\u001b[1;33m,\u001b[0m \u001b[0mbatch_sizes\u001b[0m\u001b[1;33m)\u001b[0m\u001b[1;33m\u001b[0m\u001b[1;33m\u001b[0m\u001b[0m\n\u001b[0m\u001b[0;32m    690\u001b[0m         \u001b[1;32mif\u001b[0m \u001b[0mbatch_sizes\u001b[0m \u001b[1;32mis\u001b[0m \u001b[1;32mNone\u001b[0m\u001b[1;33m:\u001b[0m\u001b[1;33m\u001b[0m\u001b[1;33m\u001b[0m\u001b[0m\n\u001b[0;32m    691\u001b[0m             result = _VF.lstm(input, hx, self._flat_weights, self.bias, self.num_layers,\n",
      "\u001b[1;32m~\\anaconda3\\envs\\local_torch\\lib\\site-packages\\torch\\nn\\modules\\rnn.py\u001b[0m in \u001b[0;36mcheck_forward_args\u001b[1;34m(self, input, hidden, batch_sizes)\u001b[0m\n\u001b[0;32m    630\u001b[0m                            \u001b[0mbatch_sizes\u001b[0m\u001b[1;33m:\u001b[0m \u001b[0mOptional\u001b[0m\u001b[1;33m[\u001b[0m\u001b[0mTensor\u001b[0m\u001b[1;33m]\u001b[0m\u001b[1;33m,\u001b[0m\u001b[1;33m\u001b[0m\u001b[1;33m\u001b[0m\u001b[0m\n\u001b[0;32m    631\u001b[0m                            ):\n\u001b[1;32m--> 632\u001b[1;33m         \u001b[0mself\u001b[0m\u001b[1;33m.\u001b[0m\u001b[0mcheck_input\u001b[0m\u001b[1;33m(\u001b[0m\u001b[0minput\u001b[0m\u001b[1;33m,\u001b[0m \u001b[0mbatch_sizes\u001b[0m\u001b[1;33m)\u001b[0m\u001b[1;33m\u001b[0m\u001b[1;33m\u001b[0m\u001b[0m\n\u001b[0m\u001b[0;32m    633\u001b[0m         self.check_hidden_size(hidden[0], self.get_expected_hidden_size(input, batch_sizes),\n\u001b[0;32m    634\u001b[0m                                'Expected hidden[0] size {}, got {}')\n",
      "\u001b[1;32m~\\anaconda3\\envs\\local_torch\\lib\\site-packages\\torch\\nn\\modules\\rnn.py\u001b[0m in \u001b[0;36mcheck_input\u001b[1;34m(self, input, batch_sizes)\u001b[0m\n\u001b[0;32m    203\u001b[0m                     expected_input_dim, input.dim()))\n\u001b[0;32m    204\u001b[0m         \u001b[1;32mif\u001b[0m \u001b[0mself\u001b[0m\u001b[1;33m.\u001b[0m\u001b[0minput_size\u001b[0m \u001b[1;33m!=\u001b[0m \u001b[0minput\u001b[0m\u001b[1;33m.\u001b[0m\u001b[0msize\u001b[0m\u001b[1;33m(\u001b[0m\u001b[1;33m-\u001b[0m\u001b[1;36m1\u001b[0m\u001b[1;33m)\u001b[0m\u001b[1;33m:\u001b[0m\u001b[1;33m\u001b[0m\u001b[1;33m\u001b[0m\u001b[0m\n\u001b[1;32m--> 205\u001b[1;33m             raise RuntimeError(\n\u001b[0m\u001b[0;32m    206\u001b[0m                 'input.size(-1) must be equal to input_size. Expected {}, got {}'.format(\n\u001b[0;32m    207\u001b[0m                     self.input_size, input.size(-1)))\n",
      "\u001b[1;31mRuntimeError\u001b[0m: input.size(-1) must be equal to input_size. Expected 12, got 6"
     ]
    }
   ],
   "source": [
    "lstm = nn.LSTM(input_size=12, hidden_size=256, batch_first=True, bidirectional=False)\n",
    "\n",
    "lstm(X_valid)[0].size()"
   ]
  },
  {
   "cell_type": "code",
   "execution_count": 106,
   "id": "ea7d5e3e",
   "metadata": {
    "scrolled": true
   },
   "outputs": [
    {
     "ename": "RuntimeError",
     "evalue": "input.size(-1) must be equal to input_size. Expected 12, got 6",
     "output_type": "error",
     "traceback": [
      "\u001b[1;31m---------------------------------------------------------------------------\u001b[0m",
      "\u001b[1;31mRuntimeError\u001b[0m                              Traceback (most recent call last)",
      "\u001b[1;32m~\\AppData\\Local\\Temp/ipykernel_18868/3459623326.py\u001b[0m in \u001b[0;36m<module>\u001b[1;34m\u001b[0m\n\u001b[1;32m----> 1\u001b[1;33m \u001b[0mlstm\u001b[0m\u001b[1;33m(\u001b[0m\u001b[0mX_valid\u001b[0m\u001b[1;33m)\u001b[0m\u001b[1;33m[\u001b[0m\u001b[1;36m0\u001b[0m\u001b[1;33m]\u001b[0m\u001b[1;33m[\u001b[0m\u001b[1;33m-\u001b[0m\u001b[1;36m1\u001b[0m\u001b[1;33m]\u001b[0m\u001b[1;33m.\u001b[0m\u001b[0msize\u001b[0m\u001b[1;33m(\u001b[0m\u001b[1;33m)\u001b[0m\u001b[1;33m\u001b[0m\u001b[1;33m\u001b[0m\u001b[0m\n\u001b[0m",
      "\u001b[1;32m~\\anaconda3\\envs\\local_torch\\lib\\site-packages\\torch\\nn\\modules\\module.py\u001b[0m in \u001b[0;36m_call_impl\u001b[1;34m(self, *input, **kwargs)\u001b[0m\n\u001b[0;32m   1100\u001b[0m         if not (self._backward_hooks or self._forward_hooks or self._forward_pre_hooks or _global_backward_hooks\n\u001b[0;32m   1101\u001b[0m                 or _global_forward_hooks or _global_forward_pre_hooks):\n\u001b[1;32m-> 1102\u001b[1;33m             \u001b[1;32mreturn\u001b[0m \u001b[0mforward_call\u001b[0m\u001b[1;33m(\u001b[0m\u001b[1;33m*\u001b[0m\u001b[0minput\u001b[0m\u001b[1;33m,\u001b[0m \u001b[1;33m**\u001b[0m\u001b[0mkwargs\u001b[0m\u001b[1;33m)\u001b[0m\u001b[1;33m\u001b[0m\u001b[1;33m\u001b[0m\u001b[0m\n\u001b[0m\u001b[0;32m   1103\u001b[0m         \u001b[1;31m# Do not call functions when jit is used\u001b[0m\u001b[1;33m\u001b[0m\u001b[1;33m\u001b[0m\u001b[1;33m\u001b[0m\u001b[0m\n\u001b[0;32m   1104\u001b[0m         \u001b[0mfull_backward_hooks\u001b[0m\u001b[1;33m,\u001b[0m \u001b[0mnon_full_backward_hooks\u001b[0m \u001b[1;33m=\u001b[0m \u001b[1;33m[\u001b[0m\u001b[1;33m]\u001b[0m\u001b[1;33m,\u001b[0m \u001b[1;33m[\u001b[0m\u001b[1;33m]\u001b[0m\u001b[1;33m\u001b[0m\u001b[1;33m\u001b[0m\u001b[0m\n",
      "\u001b[1;32m~\\anaconda3\\envs\\local_torch\\lib\\site-packages\\torch\\nn\\modules\\rnn.py\u001b[0m in \u001b[0;36mforward\u001b[1;34m(self, input, hx)\u001b[0m\n\u001b[0;32m    687\u001b[0m             \u001b[0mhx\u001b[0m \u001b[1;33m=\u001b[0m \u001b[0mself\u001b[0m\u001b[1;33m.\u001b[0m\u001b[0mpermute_hidden\u001b[0m\u001b[1;33m(\u001b[0m\u001b[0mhx\u001b[0m\u001b[1;33m,\u001b[0m \u001b[0msorted_indices\u001b[0m\u001b[1;33m)\u001b[0m\u001b[1;33m\u001b[0m\u001b[1;33m\u001b[0m\u001b[0m\n\u001b[0;32m    688\u001b[0m \u001b[1;33m\u001b[0m\u001b[0m\n\u001b[1;32m--> 689\u001b[1;33m         \u001b[0mself\u001b[0m\u001b[1;33m.\u001b[0m\u001b[0mcheck_forward_args\u001b[0m\u001b[1;33m(\u001b[0m\u001b[0minput\u001b[0m\u001b[1;33m,\u001b[0m \u001b[0mhx\u001b[0m\u001b[1;33m,\u001b[0m \u001b[0mbatch_sizes\u001b[0m\u001b[1;33m)\u001b[0m\u001b[1;33m\u001b[0m\u001b[1;33m\u001b[0m\u001b[0m\n\u001b[0m\u001b[0;32m    690\u001b[0m         \u001b[1;32mif\u001b[0m \u001b[0mbatch_sizes\u001b[0m \u001b[1;32mis\u001b[0m \u001b[1;32mNone\u001b[0m\u001b[1;33m:\u001b[0m\u001b[1;33m\u001b[0m\u001b[1;33m\u001b[0m\u001b[0m\n\u001b[0;32m    691\u001b[0m             result = _VF.lstm(input, hx, self._flat_weights, self.bias, self.num_layers,\n",
      "\u001b[1;32m~\\anaconda3\\envs\\local_torch\\lib\\site-packages\\torch\\nn\\modules\\rnn.py\u001b[0m in \u001b[0;36mcheck_forward_args\u001b[1;34m(self, input, hidden, batch_sizes)\u001b[0m\n\u001b[0;32m    630\u001b[0m                            \u001b[0mbatch_sizes\u001b[0m\u001b[1;33m:\u001b[0m \u001b[0mOptional\u001b[0m\u001b[1;33m[\u001b[0m\u001b[0mTensor\u001b[0m\u001b[1;33m]\u001b[0m\u001b[1;33m,\u001b[0m\u001b[1;33m\u001b[0m\u001b[1;33m\u001b[0m\u001b[0m\n\u001b[0;32m    631\u001b[0m                            ):\n\u001b[1;32m--> 632\u001b[1;33m         \u001b[0mself\u001b[0m\u001b[1;33m.\u001b[0m\u001b[0mcheck_input\u001b[0m\u001b[1;33m(\u001b[0m\u001b[0minput\u001b[0m\u001b[1;33m,\u001b[0m \u001b[0mbatch_sizes\u001b[0m\u001b[1;33m)\u001b[0m\u001b[1;33m\u001b[0m\u001b[1;33m\u001b[0m\u001b[0m\n\u001b[0m\u001b[0;32m    633\u001b[0m         self.check_hidden_size(hidden[0], self.get_expected_hidden_size(input, batch_sizes),\n\u001b[0;32m    634\u001b[0m                                'Expected hidden[0] size {}, got {}')\n",
      "\u001b[1;32m~\\anaconda3\\envs\\local_torch\\lib\\site-packages\\torch\\nn\\modules\\rnn.py\u001b[0m in \u001b[0;36mcheck_input\u001b[1;34m(self, input, batch_sizes)\u001b[0m\n\u001b[0;32m    203\u001b[0m                     expected_input_dim, input.dim()))\n\u001b[0;32m    204\u001b[0m         \u001b[1;32mif\u001b[0m \u001b[0mself\u001b[0m\u001b[1;33m.\u001b[0m\u001b[0minput_size\u001b[0m \u001b[1;33m!=\u001b[0m \u001b[0minput\u001b[0m\u001b[1;33m.\u001b[0m\u001b[0msize\u001b[0m\u001b[1;33m(\u001b[0m\u001b[1;33m-\u001b[0m\u001b[1;36m1\u001b[0m\u001b[1;33m)\u001b[0m\u001b[1;33m:\u001b[0m\u001b[1;33m\u001b[0m\u001b[1;33m\u001b[0m\u001b[0m\n\u001b[1;32m--> 205\u001b[1;33m             raise RuntimeError(\n\u001b[0m\u001b[0;32m    206\u001b[0m                 'input.size(-1) must be equal to input_size. Expected {}, got {}'.format(\n\u001b[0;32m    207\u001b[0m                     self.input_size, input.size(-1)))\n",
      "\u001b[1;31mRuntimeError\u001b[0m: input.size(-1) must be equal to input_size. Expected 12, got 6"
     ]
    }
   ],
   "source": [
    "lstm(X_valid)[0][-1].size()"
   ]
  },
  {
   "cell_type": "code",
   "execution_count": 107,
   "id": "f38c21ed",
   "metadata": {
    "scrolled": true
   },
   "outputs": [
    {
     "ename": "RuntimeError",
     "evalue": "input.size(-1) must be equal to input_size. Expected 12, got 6",
     "output_type": "error",
     "traceback": [
      "\u001b[1;31m---------------------------------------------------------------------------\u001b[0m",
      "\u001b[1;31mRuntimeError\u001b[0m                              Traceback (most recent call last)",
      "\u001b[1;32m~\\AppData\\Local\\Temp/ipykernel_18868/2285345738.py\u001b[0m in \u001b[0;36m<module>\u001b[1;34m\u001b[0m\n\u001b[1;32m----> 1\u001b[1;33m \u001b[0mlstm\u001b[0m\u001b[1;33m(\u001b[0m\u001b[0mX_valid\u001b[0m\u001b[1;33m)\u001b[0m\u001b[1;33m[\u001b[0m\u001b[1;36m1\u001b[0m\u001b[1;33m]\u001b[0m\u001b[1;33m[\u001b[0m\u001b[1;36m0\u001b[0m\u001b[1;33m]\u001b[0m\u001b[1;33m\u001b[0m\u001b[1;33m\u001b[0m\u001b[0m\n\u001b[0m",
      "\u001b[1;32m~\\anaconda3\\envs\\local_torch\\lib\\site-packages\\torch\\nn\\modules\\module.py\u001b[0m in \u001b[0;36m_call_impl\u001b[1;34m(self, *input, **kwargs)\u001b[0m\n\u001b[0;32m   1100\u001b[0m         if not (self._backward_hooks or self._forward_hooks or self._forward_pre_hooks or _global_backward_hooks\n\u001b[0;32m   1101\u001b[0m                 or _global_forward_hooks or _global_forward_pre_hooks):\n\u001b[1;32m-> 1102\u001b[1;33m             \u001b[1;32mreturn\u001b[0m \u001b[0mforward_call\u001b[0m\u001b[1;33m(\u001b[0m\u001b[1;33m*\u001b[0m\u001b[0minput\u001b[0m\u001b[1;33m,\u001b[0m \u001b[1;33m**\u001b[0m\u001b[0mkwargs\u001b[0m\u001b[1;33m)\u001b[0m\u001b[1;33m\u001b[0m\u001b[1;33m\u001b[0m\u001b[0m\n\u001b[0m\u001b[0;32m   1103\u001b[0m         \u001b[1;31m# Do not call functions when jit is used\u001b[0m\u001b[1;33m\u001b[0m\u001b[1;33m\u001b[0m\u001b[1;33m\u001b[0m\u001b[0m\n\u001b[0;32m   1104\u001b[0m         \u001b[0mfull_backward_hooks\u001b[0m\u001b[1;33m,\u001b[0m \u001b[0mnon_full_backward_hooks\u001b[0m \u001b[1;33m=\u001b[0m \u001b[1;33m[\u001b[0m\u001b[1;33m]\u001b[0m\u001b[1;33m,\u001b[0m \u001b[1;33m[\u001b[0m\u001b[1;33m]\u001b[0m\u001b[1;33m\u001b[0m\u001b[1;33m\u001b[0m\u001b[0m\n",
      "\u001b[1;32m~\\anaconda3\\envs\\local_torch\\lib\\site-packages\\torch\\nn\\modules\\rnn.py\u001b[0m in \u001b[0;36mforward\u001b[1;34m(self, input, hx)\u001b[0m\n\u001b[0;32m    687\u001b[0m             \u001b[0mhx\u001b[0m \u001b[1;33m=\u001b[0m \u001b[0mself\u001b[0m\u001b[1;33m.\u001b[0m\u001b[0mpermute_hidden\u001b[0m\u001b[1;33m(\u001b[0m\u001b[0mhx\u001b[0m\u001b[1;33m,\u001b[0m \u001b[0msorted_indices\u001b[0m\u001b[1;33m)\u001b[0m\u001b[1;33m\u001b[0m\u001b[1;33m\u001b[0m\u001b[0m\n\u001b[0;32m    688\u001b[0m \u001b[1;33m\u001b[0m\u001b[0m\n\u001b[1;32m--> 689\u001b[1;33m         \u001b[0mself\u001b[0m\u001b[1;33m.\u001b[0m\u001b[0mcheck_forward_args\u001b[0m\u001b[1;33m(\u001b[0m\u001b[0minput\u001b[0m\u001b[1;33m,\u001b[0m \u001b[0mhx\u001b[0m\u001b[1;33m,\u001b[0m \u001b[0mbatch_sizes\u001b[0m\u001b[1;33m)\u001b[0m\u001b[1;33m\u001b[0m\u001b[1;33m\u001b[0m\u001b[0m\n\u001b[0m\u001b[0;32m    690\u001b[0m         \u001b[1;32mif\u001b[0m \u001b[0mbatch_sizes\u001b[0m \u001b[1;32mis\u001b[0m \u001b[1;32mNone\u001b[0m\u001b[1;33m:\u001b[0m\u001b[1;33m\u001b[0m\u001b[1;33m\u001b[0m\u001b[0m\n\u001b[0;32m    691\u001b[0m             result = _VF.lstm(input, hx, self._flat_weights, self.bias, self.num_layers,\n",
      "\u001b[1;32m~\\anaconda3\\envs\\local_torch\\lib\\site-packages\\torch\\nn\\modules\\rnn.py\u001b[0m in \u001b[0;36mcheck_forward_args\u001b[1;34m(self, input, hidden, batch_sizes)\u001b[0m\n\u001b[0;32m    630\u001b[0m                            \u001b[0mbatch_sizes\u001b[0m\u001b[1;33m:\u001b[0m \u001b[0mOptional\u001b[0m\u001b[1;33m[\u001b[0m\u001b[0mTensor\u001b[0m\u001b[1;33m]\u001b[0m\u001b[1;33m,\u001b[0m\u001b[1;33m\u001b[0m\u001b[1;33m\u001b[0m\u001b[0m\n\u001b[0;32m    631\u001b[0m                            ):\n\u001b[1;32m--> 632\u001b[1;33m         \u001b[0mself\u001b[0m\u001b[1;33m.\u001b[0m\u001b[0mcheck_input\u001b[0m\u001b[1;33m(\u001b[0m\u001b[0minput\u001b[0m\u001b[1;33m,\u001b[0m \u001b[0mbatch_sizes\u001b[0m\u001b[1;33m)\u001b[0m\u001b[1;33m\u001b[0m\u001b[1;33m\u001b[0m\u001b[0m\n\u001b[0m\u001b[0;32m    633\u001b[0m         self.check_hidden_size(hidden[0], self.get_expected_hidden_size(input, batch_sizes),\n\u001b[0;32m    634\u001b[0m                                'Expected hidden[0] size {}, got {}')\n",
      "\u001b[1;32m~\\anaconda3\\envs\\local_torch\\lib\\site-packages\\torch\\nn\\modules\\rnn.py\u001b[0m in \u001b[0;36mcheck_input\u001b[1;34m(self, input, batch_sizes)\u001b[0m\n\u001b[0;32m    203\u001b[0m                     expected_input_dim, input.dim()))\n\u001b[0;32m    204\u001b[0m         \u001b[1;32mif\u001b[0m \u001b[0mself\u001b[0m\u001b[1;33m.\u001b[0m\u001b[0minput_size\u001b[0m \u001b[1;33m!=\u001b[0m \u001b[0minput\u001b[0m\u001b[1;33m.\u001b[0m\u001b[0msize\u001b[0m\u001b[1;33m(\u001b[0m\u001b[1;33m-\u001b[0m\u001b[1;36m1\u001b[0m\u001b[1;33m)\u001b[0m\u001b[1;33m:\u001b[0m\u001b[1;33m\u001b[0m\u001b[1;33m\u001b[0m\u001b[0m\n\u001b[1;32m--> 205\u001b[1;33m             raise RuntimeError(\n\u001b[0m\u001b[0;32m    206\u001b[0m                 'input.size(-1) must be equal to input_size. Expected {}, got {}'.format(\n\u001b[0;32m    207\u001b[0m                     self.input_size, input.size(-1)))\n",
      "\u001b[1;31mRuntimeError\u001b[0m: input.size(-1) must be equal to input_size. Expected 12, got 6"
     ]
    }
   ],
   "source": [
    "lstm(X_valid)[1][0]"
   ]
  },
  {
   "cell_type": "code",
   "execution_count": 29,
   "id": "076c46b3",
   "metadata": {},
   "outputs": [
    {
     "data": {
      "text/plain": [
       "torch.Size([128, 256])"
      ]
     },
     "execution_count": 29,
     "metadata": {},
     "output_type": "execute_result"
    }
   ],
   "source": [
    "lstm(X_valid)[0][:,-2,:].size()"
   ]
  },
  {
   "cell_type": "code",
   "execution_count": 70,
   "id": "7ab2167c",
   "metadata": {},
   "outputs": [
    {
     "name": "stdout",
     "output_type": "stream",
     "text": [
      "torch.Size([128, 488, 6])\n",
      "torch.Size([128, 256, 6])\n",
      "torch.Size([128, 256, 4])\n"
     ]
    }
   ],
   "source": [
    "c1 = nn.Conv1d(in_channels=720, out_channels=488, kernel_size = 3, stride = 1,padding=1) # 1D CNN 레이어 추가\n",
    "c2 = nn.Conv1d(in_channels=488, out_channels=256, kernel_size = 3, stride = 1,padding=1) # 1D CNN 레이어 추가\n",
    "pool1 = nn.MaxPool1d(kernel_size=3,stride=1)\n",
    "\n",
    "\n",
    "o1 = c1(X_valid)\n",
    "print(o1.size())\n",
    "#o2 = pool1(o1)\n",
    "#print(o1.size())\n",
    "\n",
    "o2 = c2(o1)\n",
    "print(o2.size())\n",
    "o3 = pool1(o2)\n",
    "print(o3.size())\n",
    "#c1(X_valid).size()"
   ]
  },
  {
   "cell_type": "code",
   "execution_count": 466,
   "id": "5e20c8c2",
   "metadata": {},
   "outputs": [],
   "source": [
    "lstm_hidden_size= 64\n",
    "lstm_input_size = 1\n",
    "\n",
    "class BaseModel(nn.Module):\n",
    "    def __init__(self):\n",
    "        super(BaseModel, self).__init__()\n",
    "        self.lstm = nn.LSTM(input_size=lstm_input_size, hidden_size=lstm_hidden_size, batch_first=True,\n",
    "                           bidirectional=True)\n",
    "        #self.c1 = nn.Conv1d(in_channels=720, out_channels=488, kernel_size = 3, stride = 1,padding=1) # 1D CNN 레이어 추가\n",
    "        #self.c2 = nn.Conv1d(in_channels=488, out_channels=488, kernel_size = 3, stride = 1,padding=1) # 1D CNN 레이어 추가\n",
    "        #self.c3 = nn.Conv1d(in_channels=488, out_channels=288, kernel_size = 3, stride = 1,padding=1) # 1D CNN 레이어 추가\n",
    "        \n",
    "        self.classifier = nn.Sequential(\n",
    "            nn.Linear(lstm_hidden_size*2,64),# 사이즈는 hidden size에 따라 결정.\n",
    "            nn.ReLU(),\n",
    "            nn.Linear(64,1), #결과 1개 예측.\n",
    "            nn.ReLU(),  \n",
    "        )\n",
    "    \n",
    "\n",
    "        \n",
    "    def forward(self, x):\n",
    "        #x = self.c1(x)\n",
    "        #x = self.c2(x)\n",
    "        #x = self.c3(x)\n",
    "        #x = self.pool1(x)\n",
    "        \n",
    "        output,_ = self.lstm(x)\n",
    "        output = self.classifier(output[:,-1,:]) # -1은 hidden state의 마지막 time step값을 가져온 것.\n",
    "        return output"
   ]
  },
  {
   "cell_type": "code",
   "execution_count": 467,
   "id": "8304e647",
   "metadata": {},
   "outputs": [],
   "source": [
    "#8. 학습\n",
    "def train(model,train_loader,optimizer, log_interval):\n",
    "    model.train()\n",
    "    train_loss = 0\n",
    "    train_mae_loss = 0\n",
    "    for batch_idx,(X, Y) in enumerate(train_loader):\n",
    "        X = X.to(DEVICE)\n",
    "        Y = Y.to(DEVICE)\n",
    "        \n",
    "        optimizer.zero_grad()#데이터들 장비에 할당\n",
    "        output = model(X) # model로 output을 계산\n",
    "        loss = criterion(output, Y)        \n",
    "        train_loss += loss.item()\n",
    "        \n",
    "        with torch.no_grad():\n",
    "            mae = metric(output, Y)\n",
    "            train_mae_loss+=mae.item()\n",
    "        loss.backward()\n",
    "        optimizer.step()\n",
    "    \n",
    "    #train_loss/=len(train_loader.dataset)\n",
    "    #train_mae_loss/=len(train_loader.dataset)\n",
    "    \n",
    "    return train_loss,train_mae_loss\n",
    "    \n"
   ]
  },
  {
   "cell_type": "code",
   "execution_count": 468,
   "id": "cad0878a",
   "metadata": {},
   "outputs": [],
   "source": [
    "#8. 학습\n",
    "def evaluate(model,valid_loader):\n",
    "    model.eval()\n",
    "    valid_loss = 0\n",
    "    valid_mae = 0\n",
    "    #no_grad : 그래디언트 값 계산 막기.\n",
    "    with torch.no_grad():\n",
    "        for X, Y in valid_loader:\n",
    "            X = X.to(DEVICE)\n",
    "            Y = Y.to(DEVICE)\n",
    "            output = model(X) # model로 output을 계산\n",
    "            \n",
    "            loss = criterion(output, Y)\n",
    "            valid_loss += loss.item()\n",
    "            mae = metric(output, Y)\n",
    "            valid_mae+=mae.item()\n",
    "    #valid_loss/=len(valid_loader.dataset)\n",
    "    #valid_mae/=len(valid_loader.dataset)\n",
    "    return valid_loss, valid_mae\n"
   ]
  },
  {
   "cell_type": "code",
   "execution_count": 469,
   "id": "ce9f1630",
   "metadata": {
    "scrolled": true
   },
   "outputs": [
    {
     "name": "stdout",
     "output_type": "stream",
     "text": [
      "./checkpoint/checkpoint_baseline.pt\n",
      "\n",
      "[EPOCH:1]\t Train Loss:1890.3520\t Train MAE:366.4453  | \tValid Loss:0.9440 \tValid MAE: 1.0093\n",
      "\n",
      "-- SAVE Checkpoint --\n",
      "Valid loss : 9999999999.0000 -> 0.9440 \n",
      "\n",
      "\n",
      "[EPOCH:2]\t Train Loss:175.3104\t Train MAE:136.8218  | \tValid Loss:1.0472 \tValid MAE: 0.9889\n",
      "\n",
      "\n",
      "[EPOCH:3]\t Train Loss:166.1598\t Train MAE:132.9905  | \tValid Loss:0.9556 \tValid MAE: 0.9699\n",
      "\n",
      "\n",
      "[EPOCH:4]\t Train Loss:164.0102\t Train MAE:132.0486  | \tValid Loss:0.9609 \tValid MAE: 0.9849\n",
      "\n",
      "\n",
      "[EPOCH:5]\t Train Loss:163.5717\t Train MAE:131.9477  | \tValid Loss:0.9932 \tValid MAE: 0.9901\n",
      "\n",
      "\n",
      "[EPOCH:6]\t Train Loss:164.0183\t Train MAE:132.3127  | \tValid Loss:1.1969 \tValid MAE: 1.0311\n",
      "\n",
      "\n",
      "[EPOCH:7]\t Train Loss:166.8795\t Train MAE:133.9571  | \tValid Loss:0.7664 \tValid MAE: 0.8897\n",
      "\n",
      "-- SAVE Checkpoint --\n",
      "Valid loss : 0.9440 -> 0.7664 \n",
      "\n",
      "\n",
      "[EPOCH:8]\t Train Loss:167.3405\t Train MAE:134.2383  | \tValid Loss:0.8532 \tValid MAE: 0.9037\n",
      "\n",
      "\n",
      "[EPOCH:9]\t Train Loss:164.6667\t Train MAE:132.8871  | \tValid Loss:0.9291 \tValid MAE: 0.9684\n",
      "\n",
      "\n",
      "[EPOCH:10]\t Train Loss:165.0658\t Train MAE:133.1894  | \tValid Loss:0.8667 \tValid MAE: 0.9240\n",
      "\n",
      "\n",
      "[EPOCH:11]\t Train Loss:165.1915\t Train MAE:133.2791  | \tValid Loss:0.6461 \tValid MAE: 0.8266\n",
      "\n",
      "-- SAVE Checkpoint --\n",
      "Valid loss : 0.7664 -> 0.6461 \n",
      "\n",
      "\n",
      "[EPOCH:12]\t Train Loss:165.7169\t Train MAE:133.5980  | \tValid Loss:0.6216 \tValid MAE: 0.8170\n",
      "\n",
      "-- SAVE Checkpoint --\n",
      "Valid loss : 0.6461 -> 0.6216 \n",
      "\n",
      "\n",
      "[EPOCH:13]\t Train Loss:166.1703\t Train MAE:133.8355  | \tValid Loss:0.9480 \tValid MAE: 0.9540\n",
      "\n",
      "\n",
      "[EPOCH:14]\t Train Loss:166.1313\t Train MAE:133.7839  | \tValid Loss:0.7370 \tValid MAE: 0.8428\n",
      "\n",
      "\n",
      "[EPOCH:15]\t Train Loss:165.1485\t Train MAE:133.2255  | \tValid Loss:0.6017 \tValid MAE: 0.8005\n",
      "\n",
      "-- SAVE Checkpoint --\n",
      "Valid loss : 0.6216 -> 0.6017 \n",
      "\n",
      "\n",
      "[EPOCH:16]\t Train Loss:164.7483\t Train MAE:133.0068  | \tValid Loss:0.6219 \tValid MAE: 0.8092\n",
      "\n",
      "\n",
      "[EPOCH:17]\t Train Loss:164.6626\t Train MAE:132.9649  | \tValid Loss:0.8981 \tValid MAE: 0.9155\n",
      "\n",
      "\n",
      "[EPOCH:18]\t Train Loss:164.5340\t Train MAE:132.8946  | \tValid Loss:0.7702 \tValid MAE: 0.8381\n",
      "\n",
      "\n",
      "[EPOCH:19]\t Train Loss:164.3382\t Train MAE:132.7874  | \tValid Loss:0.7603 \tValid MAE: 0.8831\n",
      "\n",
      "\n",
      "[EPOCH:20]\t Train Loss:164.1561\t Train MAE:132.6962  | \tValid Loss:0.7946 \tValid MAE: 0.8729\n",
      "\n",
      "\n",
      "[EPOCH:21]\t Train Loss:164.0180\t Train MAE:132.6331  | \tValid Loss:0.8221 \tValid MAE: 0.8915\n",
      "\n",
      "\n",
      "[EPOCH:22]\t Train Loss:163.8774\t Train MAE:132.5650  | \tValid Loss:0.8097 \tValid MAE: 0.8612\n",
      "\n",
      "\n",
      "[EPOCH:23]\t Train Loss:163.7786\t Train MAE:132.5260  | \tValid Loss:0.6923 \tValid MAE: 0.7868\n",
      "\n",
      "\n",
      "[EPOCH:24]\t Train Loss:163.6374\t Train MAE:132.4591  | \tValid Loss:0.6652 \tValid MAE: 0.8319\n",
      "\n",
      "\n",
      "[EPOCH:25]\t Train Loss:163.5044\t Train MAE:132.4011  | \tValid Loss:0.7118 \tValid MAE: 0.8130\n",
      "\n",
      "\n",
      "[EPOCH:26]\t Train Loss:163.3928\t Train MAE:132.3550  | \tValid Loss:0.6812 \tValid MAE: 0.8201\n",
      "\n",
      "\n",
      "[EPOCH:27]\t Train Loss:163.3383\t Train MAE:132.3447  | \tValid Loss:0.5912 \tValid MAE: 0.7683\n",
      "\n",
      "-- SAVE Checkpoint --\n",
      "Valid loss : 0.6017 -> 0.5912 \n",
      "\n",
      "\n",
      "[EPOCH:28]\t Train Loss:163.1383\t Train MAE:132.2483  | \tValid Loss:0.6698 \tValid MAE: 0.8387\n",
      "\n",
      "\n",
      "[EPOCH:29]\t Train Loss:163.0049\t Train MAE:132.1985  | \tValid Loss:0.6559 \tValid MAE: 0.8259\n",
      "\n",
      "\n",
      "[EPOCH:30]\t Train Loss:162.8682\t Train MAE:132.1435  | \tValid Loss:0.8161 \tValid MAE: 0.8683\n",
      "\n"
     ]
    }
   ],
   "source": [
    "#학습 진행 코드\n",
    "\n",
    "\n",
    "check_path = './checkpoint/checkpoint_baseline.pt'\n",
    "print(check_path)\n",
    "model = BaseModel().to(DEVICE)\n",
    "criterion = nn.MSELoss().to(DEVICE)\n",
    "metric = nn.L1Loss().to(DEVICE)\n",
    "\n",
    "optimizer = torch.optim.Adam(model.parameters(),lr=lr)\n",
    "\n",
    "best_valid_mae = 999999\n",
    "best_valid_loss = 9999999999\n",
    "\n",
    "\n",
    "\n",
    "for Epoch in range(1,EPOCHS+1):\n",
    "    train_loss,train_mae = train(model,train_loader,optimizer,log_interval=31)\n",
    "    valid_loss,valid_mae = evaluate(model, valid_loader)\n",
    "    \n",
    "    \n",
    "    print(\"\\n[EPOCH:{}]\\t Train Loss:{:.4f}\\t Train MAE:{:.4f}  | \\tValid Loss:{:.4f} \\tValid MAE: {:.4f}\\n\".\n",
    "                  format(Epoch, train_loss, train_mae,\n",
    "                         valid_loss, valid_mae ))\n",
    "    if best_valid_loss > valid_loss:\n",
    "        print(\"-- SAVE Checkpoint --\")\n",
    "        print(\"Valid loss : {:.4f} -> {:.4f} \\n\".format(best_valid_loss,valid_loss ))\n",
    "        torch.save(model.state_dict(), check_path, _use_new_zipfile_serialization=False)\n",
    "        best_valid_mae = valid_mae\n",
    "        best_valid_loss =valid_loss\n",
    "        \n",
    "    \n",
    "    "
   ]
  },
  {
   "cell_type": "code",
   "execution_count": 34,
   "id": "c45304e1",
   "metadata": {},
   "outputs": [
    {
     "ename": "NameError",
     "evalue": "name 'ddddd' is not defined",
     "output_type": "error",
     "traceback": [
      "\u001b[1;31m---------------------------------------------------------------------------\u001b[0m",
      "\u001b[1;31mNameError\u001b[0m                                 Traceback (most recent call last)",
      "\u001b[1;32m~\\AppData\\Local\\Temp/ipykernel_4336/2487491902.py\u001b[0m in \u001b[0;36m<module>\u001b[1;34m\u001b[0m\n\u001b[1;32m----> 1\u001b[1;33m \u001b[0mddddd\u001b[0m\u001b[1;33m\u001b[0m\u001b[1;33m\u001b[0m\u001b[0m\n\u001b[0m",
      "\u001b[1;31mNameError\u001b[0m: name 'ddddd' is not defined"
     ]
    }
   ],
   "source": [
    "ddddd"
   ]
  },
  {
   "cell_type": "markdown",
   "id": "b01e39bf",
   "metadata": {},
   "source": [
    "# validation 확인"
   ]
  },
  {
   "cell_type": "code",
   "execution_count": 347,
   "id": "2f8da1a8",
   "metadata": {},
   "outputs": [
    {
     "name": "stdout",
     "output_type": "stream",
     "text": [
      "Valid loss : 0.3087 / Valid MAE : 0.4061 \n",
      "\n"
     ]
    }
   ],
   "source": [
    "print(\"Valid loss : {:.4f} / Valid MAE : {:.4f} \\n\".format(best_valid_loss,best_valid_mae))"
   ]
  },
  {
   "cell_type": "code",
   "execution_count": 31,
   "id": "94abeb7b",
   "metadata": {},
   "outputs": [
    {
     "name": "stdout",
     "output_type": "stream",
     "text": [
      "Valid loss : 0.3510 / Valid MAE : 2.1029 \n",
      "\n"
     ]
    }
   ],
   "source": [
    "print(\"Valid loss : {:.4f} / Valid MAE : {:.4f} \\n\".format(best_valid_loss,best_valid_mae))\n",
    "\n",
    "# lstm baseline : Valid loss : 0.3510 / Valid MAE : 2.1029 "
   ]
  },
  {
   "cell_type": "markdown",
   "id": "a0a2834d",
   "metadata": {},
   "source": [
    "# TEST"
   ]
  },
  {
   "cell_type": "code",
   "execution_count": 348,
   "id": "b54b4c64",
   "metadata": {
    "scrolled": true
   },
   "outputs": [
    {
     "data": {
      "text/plain": [
       "[0,\n",
       " 1,\n",
       " 2,\n",
       " 3,\n",
       " 4,\n",
       " 5,\n",
       " 6,\n",
       " 7,\n",
       " 8,\n",
       " 9,\n",
       " 10,\n",
       " 11,\n",
       " 12,\n",
       " 13,\n",
       " 14,\n",
       " 15,\n",
       " 16,\n",
       " 17,\n",
       " 18,\n",
       " 19,\n",
       " 20,\n",
       " 21,\n",
       " 22,\n",
       " 23,\n",
       " 24,\n",
       " 25,\n",
       " 26,\n",
       " 27,\n",
       " 28,\n",
       " 29,\n",
       " 30,\n",
       " 31,\n",
       " 32,\n",
       " 33,\n",
       " 34,\n",
       " 35,\n",
       " 36,\n",
       " 37,\n",
       " 38,\n",
       " 39,\n",
       " 40,\n",
       " 41,\n",
       " 42,\n",
       " 43,\n",
       " 44,\n",
       " 45,\n",
       " 46,\n",
       " 47,\n",
       " 48,\n",
       " 49,\n",
       " 50,\n",
       " 51,\n",
       " 52,\n",
       " 53,\n",
       " 54,\n",
       " 55,\n",
       " 56,\n",
       " 57,\n",
       " 58,\n",
       " 59,\n",
       " 60,\n",
       " 61,\n",
       " 62,\n",
       " 63,\n",
       " 64,\n",
       " 65,\n",
       " 66,\n",
       " 67,\n",
       " 68,\n",
       " 69,\n",
       " 70,\n",
       " 71,\n",
       " 72,\n",
       " 73,\n",
       " 74,\n",
       " 75,\n",
       " 76,\n",
       " 77,\n",
       " 78,\n",
       " 79]"
      ]
     },
     "execution_count": 348,
     "metadata": {},
     "output_type": "execute_result"
    }
   ],
   "source": [
    "test_data_list = [x for x in range(0, train_seq)]\n",
    "test_data_list"
   ]
  },
  {
   "cell_type": "code",
   "execution_count": 244,
   "id": "8ba73e24",
   "metadata": {},
   "outputs": [
    {
     "data": {
      "text/html": [
       "<div>\n",
       "<style scoped>\n",
       "    .dataframe tbody tr th:only-of-type {\n",
       "        vertical-align: middle;\n",
       "    }\n",
       "\n",
       "    .dataframe tbody tr th {\n",
       "        vertical-align: top;\n",
       "    }\n",
       "\n",
       "    .dataframe thead th {\n",
       "        text-align: right;\n",
       "    }\n",
       "</style>\n",
       "<table border=\"1\" class=\"dataframe\">\n",
       "  <thead>\n",
       "    <tr style=\"text-align: right;\">\n",
       "      <th></th>\n",
       "      <th>TurbID</th>\n",
       "      <th>Day</th>\n",
       "      <th>Tmstamp</th>\n",
       "      <th>Wspd</th>\n",
       "      <th>Wdir</th>\n",
       "      <th>Etmp</th>\n",
       "      <th>Itmp</th>\n",
       "      <th>Ndir</th>\n",
       "      <th>Pab1</th>\n",
       "      <th>Pab2</th>\n",
       "      <th>Pab3</th>\n",
       "      <th>Prtv</th>\n",
       "      <th>Patv</th>\n",
       "      <th>Wspd_y</th>\n",
       "    </tr>\n",
       "  </thead>\n",
       "  <tbody>\n",
       "    <tr>\n",
       "      <th>0</th>\n",
       "      <td>1</td>\n",
       "      <td>1</td>\n",
       "      <td>00:00</td>\n",
       "      <td>0.265948</td>\n",
       "      <td>0.490830</td>\n",
       "      <td>30.73</td>\n",
       "      <td>0.956602</td>\n",
       "      <td>25.92</td>\n",
       "      <td>0.217391</td>\n",
       "      <td>1.00</td>\n",
       "      <td>1.00</td>\n",
       "      <td>0.996876</td>\n",
       "      <td>494.66</td>\n",
       "      <td>0.265948</td>\n",
       "    </tr>\n",
       "    <tr>\n",
       "      <th>1</th>\n",
       "      <td>1</td>\n",
       "      <td>1</td>\n",
       "      <td>00:10</td>\n",
       "      <td>0.265948</td>\n",
       "      <td>0.490830</td>\n",
       "      <td>30.73</td>\n",
       "      <td>0.956602</td>\n",
       "      <td>25.92</td>\n",
       "      <td>0.217391</td>\n",
       "      <td>1.00</td>\n",
       "      <td>1.00</td>\n",
       "      <td>0.996876</td>\n",
       "      <td>494.66</td>\n",
       "      <td>0.265948</td>\n",
       "    </tr>\n",
       "    <tr>\n",
       "      <th>2</th>\n",
       "      <td>1</td>\n",
       "      <td>1</td>\n",
       "      <td>00:20</td>\n",
       "      <td>0.270259</td>\n",
       "      <td>0.495953</td>\n",
       "      <td>30.60</td>\n",
       "      <td>0.956086</td>\n",
       "      <td>20.91</td>\n",
       "      <td>0.217391</td>\n",
       "      <td>1.00</td>\n",
       "      <td>1.00</td>\n",
       "      <td>0.996926</td>\n",
       "      <td>509.76</td>\n",
       "      <td>0.270259</td>\n",
       "    </tr>\n",
       "    <tr>\n",
       "      <th>3</th>\n",
       "      <td>1</td>\n",
       "      <td>1</td>\n",
       "      <td>00:30</td>\n",
       "      <td>0.276724</td>\n",
       "      <td>0.500057</td>\n",
       "      <td>30.52</td>\n",
       "      <td>0.955751</td>\n",
       "      <td>20.91</td>\n",
       "      <td>0.217391</td>\n",
       "      <td>1.00</td>\n",
       "      <td>1.00</td>\n",
       "      <td>0.996826</td>\n",
       "      <td>542.53</td>\n",
       "      <td>0.276724</td>\n",
       "    </tr>\n",
       "    <tr>\n",
       "      <th>4</th>\n",
       "      <td>1</td>\n",
       "      <td>1</td>\n",
       "      <td>00:40</td>\n",
       "      <td>0.269397</td>\n",
       "      <td>0.504642</td>\n",
       "      <td>30.49</td>\n",
       "      <td>0.955326</td>\n",
       "      <td>20.91</td>\n",
       "      <td>0.217391</td>\n",
       "      <td>1.00</td>\n",
       "      <td>1.00</td>\n",
       "      <td>0.996975</td>\n",
       "      <td>509.36</td>\n",
       "      <td>0.269397</td>\n",
       "    </tr>\n",
       "    <tr>\n",
       "      <th>...</th>\n",
       "      <td>...</td>\n",
       "      <td>...</td>\n",
       "      <td>...</td>\n",
       "      <td>...</td>\n",
       "      <td>...</td>\n",
       "      <td>...</td>\n",
       "      <td>...</td>\n",
       "      <td>...</td>\n",
       "      <td>...</td>\n",
       "      <td>...</td>\n",
       "      <td>...</td>\n",
       "      <td>...</td>\n",
       "      <td>...</td>\n",
       "      <td>...</td>\n",
       "    </tr>\n",
       "    <tr>\n",
       "      <th>75</th>\n",
       "      <td>1</td>\n",
       "      <td>1</td>\n",
       "      <td>12:30</td>\n",
       "      <td>0.266810</td>\n",
       "      <td>0.510246</td>\n",
       "      <td>35.12</td>\n",
       "      <td>0.969944</td>\n",
       "      <td>36.55</td>\n",
       "      <td>0.217391</td>\n",
       "      <td>1.00</td>\n",
       "      <td>1.00</td>\n",
       "      <td>0.997074</td>\n",
       "      <td>576.74</td>\n",
       "      <td>0.266810</td>\n",
       "    </tr>\n",
       "    <tr>\n",
       "      <th>76</th>\n",
       "      <td>1</td>\n",
       "      <td>1</td>\n",
       "      <td>12:40</td>\n",
       "      <td>0.325431</td>\n",
       "      <td>0.498358</td>\n",
       "      <td>35.33</td>\n",
       "      <td>0.970795</td>\n",
       "      <td>57.58</td>\n",
       "      <td>0.217391</td>\n",
       "      <td>1.00</td>\n",
       "      <td>1.00</td>\n",
       "      <td>0.996975</td>\n",
       "      <td>810.40</td>\n",
       "      <td>0.325431</td>\n",
       "    </tr>\n",
       "    <tr>\n",
       "      <th>77</th>\n",
       "      <td>1</td>\n",
       "      <td>1</td>\n",
       "      <td>12:50</td>\n",
       "      <td>0.301293</td>\n",
       "      <td>0.500962</td>\n",
       "      <td>35.46</td>\n",
       "      <td>0.970734</td>\n",
       "      <td>47.39</td>\n",
       "      <td>0.217391</td>\n",
       "      <td>1.00</td>\n",
       "      <td>1.00</td>\n",
       "      <td>0.997025</td>\n",
       "      <td>700.03</td>\n",
       "      <td>0.301293</td>\n",
       "    </tr>\n",
       "    <tr>\n",
       "      <th>78</th>\n",
       "      <td>1</td>\n",
       "      <td>1</td>\n",
       "      <td>13:00</td>\n",
       "      <td>0.272414</td>\n",
       "      <td>0.509397</td>\n",
       "      <td>35.59</td>\n",
       "      <td>0.970855</td>\n",
       "      <td>66.73</td>\n",
       "      <td>0.217391</td>\n",
       "      <td>1.00</td>\n",
       "      <td>0.99</td>\n",
       "      <td>0.997124</td>\n",
       "      <td>571.61</td>\n",
       "      <td>0.272414</td>\n",
       "    </tr>\n",
       "    <tr>\n",
       "      <th>79</th>\n",
       "      <td>1</td>\n",
       "      <td>1</td>\n",
       "      <td>13:10</td>\n",
       "      <td>0.251293</td>\n",
       "      <td>0.492754</td>\n",
       "      <td>35.63</td>\n",
       "      <td>0.970643</td>\n",
       "      <td>50.64</td>\n",
       "      <td>0.208696</td>\n",
       "      <td>0.99</td>\n",
       "      <td>0.99</td>\n",
       "      <td>0.996777</td>\n",
       "      <td>444.50</td>\n",
       "      <td>0.251293</td>\n",
       "    </tr>\n",
       "  </tbody>\n",
       "</table>\n",
       "<p>80 rows × 14 columns</p>\n",
       "</div>"
      ],
      "text/plain": [
       "    TurbID  Day Tmstamp      Wspd      Wdir   Etmp      Itmp   Ndir      Pab1  \\\n",
       "0        1    1   00:00  0.265948  0.490830  30.73  0.956602  25.92  0.217391   \n",
       "1        1    1   00:10  0.265948  0.490830  30.73  0.956602  25.92  0.217391   \n",
       "2        1    1   00:20  0.270259  0.495953  30.60  0.956086  20.91  0.217391   \n",
       "3        1    1   00:30  0.276724  0.500057  30.52  0.955751  20.91  0.217391   \n",
       "4        1    1   00:40  0.269397  0.504642  30.49  0.955326  20.91  0.217391   \n",
       "..     ...  ...     ...       ...       ...    ...       ...    ...       ...   \n",
       "75       1    1   12:30  0.266810  0.510246  35.12  0.969944  36.55  0.217391   \n",
       "76       1    1   12:40  0.325431  0.498358  35.33  0.970795  57.58  0.217391   \n",
       "77       1    1   12:50  0.301293  0.500962  35.46  0.970734  47.39  0.217391   \n",
       "78       1    1   13:00  0.272414  0.509397  35.59  0.970855  66.73  0.217391   \n",
       "79       1    1   13:10  0.251293  0.492754  35.63  0.970643  50.64  0.208696   \n",
       "\n",
       "    Pab2  Pab3      Prtv    Patv    Wspd_y  \n",
       "0   1.00  1.00  0.996876  494.66  0.265948  \n",
       "1   1.00  1.00  0.996876  494.66  0.265948  \n",
       "2   1.00  1.00  0.996926  509.76  0.270259  \n",
       "3   1.00  1.00  0.996826  542.53  0.276724  \n",
       "4   1.00  1.00  0.996975  509.36  0.269397  \n",
       "..   ...   ...       ...     ...       ...  \n",
       "75  1.00  1.00  0.997074  576.74  0.266810  \n",
       "76  1.00  1.00  0.996975  810.40  0.325431  \n",
       "77  1.00  1.00  0.997025  700.03  0.301293  \n",
       "78  1.00  0.99  0.997124  571.61  0.272414  \n",
       "79  0.99  0.99  0.996777  444.50  0.251293  \n",
       "\n",
       "[80 rows x 14 columns]"
      ]
     },
     "execution_count": 244,
     "metadata": {},
     "output_type": "execute_result"
    }
   ],
   "source": []
  },
  {
   "cell_type": "code",
   "execution_count": 349,
   "id": "c58f7a0a",
   "metadata": {},
   "outputs": [
    {
     "data": {
      "text/plain": [
       "(28520, 80, 5)"
      ]
     },
     "execution_count": 349,
     "metadata": {},
     "output_type": "execute_result"
    }
   ],
   "source": [
    "train_x.shape"
   ]
  },
  {
   "cell_type": "code",
   "execution_count": 350,
   "id": "42905079",
   "metadata": {},
   "outputs": [],
   "source": [
    "\n",
    "# 이전 프레임 가져오기.\n",
    "test_data_list = [x for x in range(0, train_seq)]\n",
    "\n",
    "test_data = train_data.loc[ test_data_list]\n",
    "#test_data = test_data[test_data['TurbID']==1]\n",
    "#전처리했다면, X_data로 불러와야함.\n",
    "\n",
    "\n",
    "test_data = test_data.drop([\"TurbID\",\"Tmstamp\",\"Day\",\"Patv\",\"Pab2\",\"Pab3\",\"Etmp\",\"Ndir\",\"Wspd_y\"], axis = 1)\n",
    "\n",
    "test_data = np.array(test_data).reshape(-1, train_x[0].shape[0], train_x[0].shape[1])\n",
    "#train set 처럼 batch,720,11로 고치기\n"
   ]
  },
  {
   "cell_type": "code",
   "execution_count": 351,
   "id": "299aff67",
   "metadata": {
    "scrolled": true
   },
   "outputs": [
    {
     "data": {
      "text/plain": [
       "array([[[ 6.170e+00, -3.990e+00,  4.180e+01,  1.000e+00, -2.500e-01],\n",
       "        [ 6.170e+00, -3.990e+00,  4.180e+01,  1.000e+00, -2.500e-01],\n",
       "        [ 6.270e+00, -2.180e+00,  4.163e+01,  1.000e+00, -2.400e-01],\n",
       "        [ 6.420e+00, -7.300e-01,  4.152e+01,  1.000e+00, -2.600e-01],\n",
       "        [ 6.250e+00,  8.900e-01,  4.138e+01,  1.000e+00, -2.300e-01],\n",
       "        [ 6.100e+00, -1.030e+00,  4.122e+01,  1.000e+00, -2.700e-01],\n",
       "        [ 6.770e+00,  1.070e+00,  4.119e+01,  1.000e+00, -2.300e-01],\n",
       "        [ 6.700e+00, -2.800e+00,  4.100e+01,  1.000e+00, -2.300e-01],\n",
       "        [ 6.440e+00, -3.460e+00,  4.091e+01,  1.000e+00, -2.100e-01],\n",
       "        [ 6.250e+00, -3.150e+00,  4.072e+01,  1.000e+00, -2.600e-01],\n",
       "        [ 6.870e+00, -4.580e+00,  4.070e+01,  1.000e+00, -2.500e-01],\n",
       "        [ 6.600e+00, -2.170e+00,  4.062e+01,  1.000e+00, -2.500e-01],\n",
       "        [ 6.710e+00, -1.420e+00,  4.047e+01,  1.000e+00, -2.600e-01],\n",
       "        [ 6.860e+00, -3.850e+00,  4.044e+01,  1.000e+00, -2.300e-01],\n",
       "        [ 6.880e+00, -1.310e+00,  4.049e+01,  1.000e+00, -2.600e-01],\n",
       "        [ 7.100e+00, -5.700e-01,  4.044e+01,  1.000e+00, -2.800e-01],\n",
       "        [ 7.160e+00, -2.520e+00,  4.040e+01,  1.000e+00, -2.500e-01],\n",
       "        [ 6.800e+00, -3.160e+00,  4.048e+01,  1.000e+00, -3.000e-01],\n",
       "        [ 6.850e+00,  3.030e+00,  4.053e+01,  1.000e+00, -2.600e-01],\n",
       "        [ 6.850e+00, -6.400e-01,  4.060e+01,  1.000e+00, -2.700e-01],\n",
       "        [ 6.570e+00, -3.020e+00,  4.076e+01,  1.000e+00, -2.700e-01],\n",
       "        [ 6.360e+00, -1.600e+00,  4.086e+01,  1.000e+00, -3.100e-01],\n",
       "        [ 6.880e+00, -1.410e+00,  4.083e+01,  1.000e+00, -2.800e-01],\n",
       "        [ 7.320e+00, -7.000e-01,  4.093e+01,  1.000e+00, -2.600e-01],\n",
       "        [ 7.920e+00, -1.040e+00,  4.080e+01,  1.000e+00, -2.500e-01],\n",
       "        [ 7.730e+00,  2.440e+00,  4.082e+01,  1.000e+00, -3.200e-01],\n",
       "        [ 8.460e+00,  2.760e+00,  4.086e+01,  1.000e+00, -2.600e-01],\n",
       "        [ 8.810e+00,  0.000e+00,  4.102e+01,  1.000e+00, -2.700e-01],\n",
       "        [ 9.230e+00, -2.700e+00,  4.119e+01,  1.000e+00, -1.700e-01],\n",
       "        [ 9.450e+00, -4.560e+00,  4.117e+01,  1.000e+00, -3.000e-01],\n",
       "        [ 9.400e+00, -3.150e+00,  4.129e+01,  1.000e+00, -2.200e-01],\n",
       "        [ 9.500e+00, -3.010e+00,  4.152e+01,  1.000e+00, -2.700e-01],\n",
       "        [ 8.930e+00, -4.440e+00,  4.164e+01,  1.000e+00, -2.500e-01],\n",
       "        [ 8.090e+00, -1.540e+00,  4.182e+01,  1.000e+00, -2.300e-01],\n",
       "        [ 7.770e+00, -2.170e+00,  4.190e+01,  1.000e+00, -2.800e-01],\n",
       "        [ 7.990e+00, -1.970e+00,  4.193e+01,  1.000e+00, -2.700e-01],\n",
       "        [ 8.010e+00,  1.500e-01,  4.195e+01,  1.000e+00, -2.100e-01],\n",
       "        [ 8.060e+00, -3.770e+00,  4.187e+01,  1.000e+00, -2.200e-01],\n",
       "        [ 9.110e+00, -3.310e+00,  4.173e+01,  1.000e+00, -2.400e-01],\n",
       "        [ 1.096e+01, -3.800e-01,  4.155e+01,  1.010e+00, -2.200e-01],\n",
       "        [ 1.281e+01, -2.170e+00,  4.151e+01,  1.070e+00, -2.600e-01],\n",
       "        [ 1.343e+01, -4.900e-01,  4.135e+01,  1.090e+00, -1.700e-01],\n",
       "        [ 1.283e+01, -3.440e+00,  4.129e+01,  1.070e+00, -2.400e-01],\n",
       "        [ 1.265e+01, -1.910e+00,  4.131e+01,  1.070e+00, -3.200e-01],\n",
       "        [ 1.252e+01,  9.900e-01,  4.153e+01,  1.060e+00, -2.600e-01],\n",
       "        [ 1.325e+01,  4.500e-01,  4.171e+01,  1.080e+00, -2.100e-01],\n",
       "        [ 1.348e+01, -1.200e-01,  4.184e+01,  1.080e+00, -2.000e-01],\n",
       "        [ 1.304e+01, -3.700e-01,  4.186e+01,  1.070e+00, -1.900e-01],\n",
       "        [ 1.223e+01, -8.300e-01,  4.190e+01,  1.070e+00, -2.100e-01],\n",
       "        [ 1.158e+01, -3.320e+00,  4.201e+01,  1.060e+00, -2.500e-01],\n",
       "        [ 1.121e+01, -1.380e+00,  4.224e+01,  1.040e+00, -2.500e-01],\n",
       "        [ 1.084e+01,  6.000e-02,  4.243e+01,  1.030e+00, -2.500e-01],\n",
       "        [ 1.103e+01,  2.030e+00,  4.277e+01,  1.030e+00, -6.601e+01],\n",
       "        [ 1.223e+01,  2.650e+00,  4.310e+01,  1.070e+00, -6.125e+01],\n",
       "        [ 1.219e+01, -1.500e+00,  4.323e+01,  1.070e+00, -2.600e-01],\n",
       "        [ 1.351e+01, -2.800e+00,  4.355e+01,  1.100e+00, -2.700e-01],\n",
       "        [ 1.193e+01, -2.880e+00,  4.363e+01,  1.060e+00, -2.800e-01],\n",
       "        [ 1.131e+01, -8.000e-02,  4.392e+01,  1.040e+00, -2.000e-01],\n",
       "        [ 1.156e+01,  5.000e-02,  4.444e+01,  1.050e+00, -2.600e-01],\n",
       "        [ 1.143e+01,  4.500e-01,  4.469e+01,  1.040e+00, -2.700e-01],\n",
       "        [ 1.129e+01,  2.880e+00,  4.496e+01,  1.040e+00, -2.900e-01],\n",
       "        [ 1.112e+01,  5.200e-01,  4.513e+01,  1.020e+00, -2.400e-01],\n",
       "        [ 1.045e+01, -1.320e+00,  4.533e+01,  1.010e+00, -2.100e-01],\n",
       "        [ 9.610e+00,  1.110e+00,  4.542e+01,  1.000e+00, -2.300e-01],\n",
       "        [ 9.170e+00,  1.620e+00,  4.561e+01,  1.000e+00, -1.900e-01],\n",
       "        [ 7.960e+00,  9.000e-02,  4.584e+01,  1.000e+00, -2.200e-01],\n",
       "        [ 8.710e+00,  1.700e-01,  4.609e+01,  1.000e+00, -1.800e-01],\n",
       "        [ 8.220e+00,  2.700e-01,  4.609e+01,  1.000e+00, -2.400e-01],\n",
       "        [ 8.080e+00,  2.480e+00,  4.622e+01,  1.000e+00, -1.900e-01],\n",
       "        [ 7.450e+00, -1.530e+00,  4.633e+01,  1.000e+00, -2.200e-01],\n",
       "        [ 6.910e+00,  5.910e+00,  4.642e+01,  1.110e+00, -2.000e-02],\n",
       "        [ 7.250e+00, -1.800e-01,  4.645e+01,  1.000e+00, -2.100e-01],\n",
       "        [ 7.650e+00,  3.000e-01,  4.635e+01,  1.000e+00, -2.700e-01],\n",
       "        [ 7.660e+00, -7.200e-01,  4.639e+01,  1.000e+00, -2.100e-01],\n",
       "        [ 7.550e+00, -2.900e-01,  4.633e+01,  1.000e+00, -2.400e-01],\n",
       "        [ 6.190e+00,  2.870e+00,  4.619e+01,  1.000e+00, -2.100e-01],\n",
       "        [ 7.550e+00, -1.330e+00,  4.647e+01,  1.000e+00, -2.300e-01],\n",
       "        [ 6.990e+00, -4.100e-01,  4.645e+01,  1.000e+00, -2.200e-01],\n",
       "        [ 6.320e+00,  2.570e+00,  4.649e+01,  1.000e+00, -2.000e-01],\n",
       "        [ 5.830e+00, -3.310e+00,  4.642e+01,  9.900e-01, -2.700e-01]]])"
      ]
     },
     "execution_count": 351,
     "metadata": {},
     "output_type": "execute_result"
    }
   ],
   "source": [
    "test_data"
   ]
  },
  {
   "cell_type": "code",
   "execution_count": 249,
   "id": "d4fb8be6",
   "metadata": {},
   "outputs": [
    {
     "data": {
      "text/plain": [
       "(1, 80, 5)"
      ]
     },
     "execution_count": 249,
     "metadata": {},
     "output_type": "execute_result"
    }
   ],
   "source": [
    "test_data.shape"
   ]
  },
  {
   "cell_type": "code",
   "execution_count": 352,
   "id": "d0ed76bb",
   "metadata": {},
   "outputs": [],
   "source": [
    "test_dataset = TimeDataset(test_data, None)\n",
    "\n",
    "test_loader = DataLoader(test_dataset, \n",
    "                          batch_size = BATCH_SIZE,\n",
    "                          shuffle=False)\n",
    "\n",
    "\n"
   ]
  },
  {
   "cell_type": "code",
   "execution_count": 470,
   "id": "63255878",
   "metadata": {},
   "outputs": [],
   "source": [
    "def predict(model, test_loader):\n",
    "    model.eval()\n",
    "    preds = []\n",
    "    with torch.no_grad():\n",
    "        for X in tqdm(iter(test_loader)):\n",
    "            X = X.to(DEVICE)\n",
    "            \n",
    "            pred = model(X)\n",
    "            preds += pred.cpu().tolist()\n",
    "    \n",
    "    return np.array(preds)"
   ]
  },
  {
   "cell_type": "code",
   "execution_count": 471,
   "id": "466a8e3c",
   "metadata": {},
   "outputs": [
    {
     "data": {
      "text/plain": [
       "BaseModel(\n",
       "  (lstm): LSTM(1, 64, batch_first=True, bidirectional=True)\n",
       "  (classifier): Sequential(\n",
       "    (0): Linear(in_features=128, out_features=64, bias=True)\n",
       "    (1): ReLU()\n",
       "    (2): Linear(in_features=64, out_features=1, bias=True)\n",
       "    (3): ReLU()\n",
       "  )\n",
       ")"
      ]
     },
     "execution_count": 471,
     "metadata": {},
     "output_type": "execute_result"
    }
   ],
   "source": [
    "model = BaseModel().to(DEVICE)\n",
    "best_checkpoint = torch.load('./checkpoint/checkpoint_baseline.pt')\n",
    "model.load_state_dict(best_checkpoint)\n",
    "model.eval()"
   ]
  },
  {
   "cell_type": "code",
   "execution_count": 472,
   "id": "149f11d6",
   "metadata": {},
   "outputs": [
    {
     "data": {
      "text/plain": [
       "LSTM(1, 64, batch_first=True, bidirectional=True)"
      ]
     },
     "execution_count": 472,
     "metadata": {},
     "output_type": "execute_result"
    }
   ],
   "source": [
    "model.lstm"
   ]
  },
  {
   "cell_type": "code",
   "execution_count": 356,
   "id": "791e6eb5",
   "metadata": {},
   "outputs": [
    {
     "name": "stderr",
     "output_type": "stream",
     "text": [
      "100%|███████████████████████████████████████████████████████████████████████████████████| 1/1 [00:00<00:00, 501.41it/s]\n"
     ]
    }
   ],
   "source": [
    "preds = predict(model, test_loader)"
   ]
  },
  {
   "cell_type": "code",
   "execution_count": 357,
   "id": "aef467db",
   "metadata": {},
   "outputs": [
    {
     "data": {
      "text/plain": [
       "array([[6.05827093]])"
      ]
     },
     "execution_count": 357,
     "metadata": {},
     "output_type": "execute_result"
    }
   ],
   "source": [
    "preds"
   ]
  },
  {
   "cell_type": "code",
   "execution_count": 358,
   "id": "d4ebfc42",
   "metadata": {
    "scrolled": true
   },
   "outputs": [
    {
     "data": {
      "text/plain": [
       "array([0.04310345])"
      ]
     },
     "execution_count": 358,
     "metadata": {},
     "output_type": "execute_result"
    }
   ],
   "source": [
    "y_nor.scale_"
   ]
  },
  {
   "cell_type": "code",
   "execution_count": 277,
   "id": "d64e7ae3",
   "metadata": {
    "scrolled": true
   },
   "outputs": [
    {
     "data": {
      "text/plain": [
       "array([5.98827891])"
      ]
     },
     "execution_count": 277,
     "metadata": {},
     "output_type": "execute_result"
    }
   ],
   "source": [
    "preds = y_nor.inverse_transform(preds)\n",
    "preds = preds.reshape(-1)\n",
    "preds"
   ]
  },
  {
   "cell_type": "code",
   "execution_count": 359,
   "id": "9c407b80",
   "metadata": {},
   "outputs": [
    {
     "data": {
      "text/plain": [
       "array([[6.32]])"
      ]
     },
     "execution_count": 359,
     "metadata": {},
     "output_type": "execute_result"
    }
   ],
   "source": [
    "np.reshape(train_data.loc[80,]['Wspd_y'],(1,1))"
   ]
  },
  {
   "cell_type": "code",
   "execution_count": 278,
   "id": "a67be182",
   "metadata": {},
   "outputs": [
    {
     "name": "stdout",
     "output_type": "stream",
     "text": [
      "[[6.32]]\n"
     ]
    }
   ],
   "source": [
    "print( y_nor.inverse_transform( np.reshape(train_data.loc[80,]['Wspd_y'],(1,1))  ) )"
   ]
  },
  {
   "cell_type": "code",
   "execution_count": 279,
   "id": "eaedeff3",
   "metadata": {},
   "outputs": [
    {
     "data": {
      "text/plain": [
       "80"
      ]
     },
     "execution_count": 279,
     "metadata": {},
     "output_type": "execute_result"
    }
   ],
   "source": [
    "train_seq"
   ]
  },
  {
   "cell_type": "code",
   "execution_count": 473,
   "id": "19ec9887",
   "metadata": {},
   "outputs": [],
   "source": [
    "test_oriented = train_data.copy()"
   ]
  },
  {
   "cell_type": "code",
   "execution_count": 474,
   "id": "fd9989b7",
   "metadata": {},
   "outputs": [
    {
     "name": "stdout",
     "output_type": "stream",
     "text": [
      "28600\n"
     ]
    },
    {
     "name": "stderr",
     "output_type": "stream",
     "text": [
      "100%|███████████████████████████████████████████████████████████████████████████████████| 1/1 [00:00<00:00, 492.06it/s]\n"
     ]
    },
    {
     "name": "stdout",
     "output_type": "stream",
     "text": [
      "[[1.18077064]\n",
      " [1.34631753]\n",
      " [1.16020179]\n",
      " [1.32441461]\n",
      " [1.10412014]]\n",
      "1.1807706356048584\n",
      "6.56\n",
      "28601\n"
     ]
    },
    {
     "name": "stderr",
     "output_type": "stream",
     "text": [
      "100%|███████████████████████████████████████████████████████████████████████████████████| 1/1 [00:00<00:00, 504.37it/s]\n"
     ]
    },
    {
     "name": "stdout",
     "output_type": "stream",
     "text": [
      "[[1.15949392]\n",
      " [1.26971734]\n",
      " [1.06663418]\n",
      " [1.19752634]\n",
      " [1.12172639]]\n",
      "1.1594939231872559\n",
      "6.68\n",
      "28602\n"
     ]
    },
    {
     "name": "stderr",
     "output_type": "stream",
     "text": [
      "100%|███████████████████████████████████████████████████████████████████████████████████| 1/1 [00:00<00:00, 968.89it/s]\n"
     ]
    },
    {
     "name": "stdout",
     "output_type": "stream",
     "text": [
      "[[1.12176216]\n",
      " [1.24328995]\n",
      " [1.06520498]\n",
      " [1.19831085]\n",
      " [1.02532482]]\n",
      "1.1217621564865112\n",
      "6.3\n",
      "28603\n"
     ]
    },
    {
     "name": "stderr",
     "output_type": "stream",
     "text": [
      "100%|███████████████████████████████████████████████████████████████████████████████████| 1/1 [00:00<00:00, 499.56it/s]\n"
     ]
    },
    {
     "name": "stdout",
     "output_type": "stream",
     "text": [
      "[[1.1380285 ]\n",
      " [1.14947855]\n",
      " [1.09858429]\n",
      " [1.20743299]\n",
      " [0.99700105]]\n",
      "1.1380285024642944\n",
      "6.07\n",
      "28604\n"
     ]
    },
    {
     "name": "stderr",
     "output_type": "stream",
     "text": [
      "100%|███████████████████████████████████████████████████████████████████████████████████| 1/1 [00:00<00:00, 499.50it/s]\n"
     ]
    },
    {
     "name": "stdout",
     "output_type": "stream",
     "text": [
      "[[1.1329267 ]\n",
      " [1.16779351]\n",
      " [1.13058317]\n",
      " [1.17712092]\n",
      " [1.01904821]]\n",
      "1.1329267024993896\n",
      "5.8\n",
      "28605\n"
     ]
    },
    {
     "name": "stderr",
     "output_type": "stream",
     "text": [
      "100%|███████████████████████████████████████████████████████████████████████████████████| 1/1 [00:00<00:00, 499.86it/s]\n"
     ]
    },
    {
     "name": "stdout",
     "output_type": "stream",
     "text": [
      "[[1.36750531]\n",
      " [1.20794427]\n",
      " [1.25216627]\n",
      " [1.17495692]\n",
      " [1.04512274]]\n",
      "1.3675053119659424\n",
      "5.06\n",
      "28606\n"
     ]
    },
    {
     "name": "stderr",
     "output_type": "stream",
     "text": [
      "100%|███████████████████████████████████████████████████████████████████████████████████| 1/1 [00:00<00:00, 500.93it/s]\n"
     ]
    },
    {
     "name": "stdout",
     "output_type": "stream",
     "text": [
      "[[1.17475784]\n",
      " [1.13574243]\n",
      " [1.29847038]\n",
      " [1.12785435]\n",
      " [1.07724929]]\n",
      "1.1747578382492065\n",
      "5.24\n",
      "28607\n"
     ]
    },
    {
     "name": "stderr",
     "output_type": "stream",
     "text": [
      "100%|███████████████████████████████████████████████████████████████████████████████████| 1/1 [00:00<00:00, 500.04it/s]\n"
     ]
    },
    {
     "name": "stdout",
     "output_type": "stream",
     "text": [
      "[[1.40898657]\n",
      " [1.14918196]\n",
      " [1.24869919]\n",
      " [1.14541495]\n",
      " [1.00261509]]\n",
      "1.4089865684509277\n",
      "4.37\n",
      "28608\n"
     ]
    },
    {
     "name": "stderr",
     "output_type": "stream",
     "text": [
      "100%|███████████████████████████████████████████████████████████████████████████████████| 1/1 [00:00<00:00, 999.83it/s]\n"
     ]
    },
    {
     "name": "stdout",
     "output_type": "stream",
     "text": [
      "[[1.34631753]\n",
      " [1.16020179]\n",
      " [1.32441461]\n",
      " [1.10412014]\n",
      " [1.08188796]]\n",
      "1.3463175296783447\n",
      "3.42\n",
      "28609\n"
     ]
    },
    {
     "name": "stderr",
     "output_type": "stream",
     "text": [
      "100%|███████████████████████████████████████████████████████████████████████████████████| 1/1 [00:00<00:00, 500.33it/s]\n"
     ]
    },
    {
     "name": "stdout",
     "output_type": "stream",
     "text": [
      "[[1.26971734]\n",
      " [1.06663418]\n",
      " [1.19752634]\n",
      " [1.12172639]\n",
      " [1.00059199]]\n",
      "1.2697173357009888\n",
      "3.52\n",
      "28610\n"
     ]
    },
    {
     "name": "stderr",
     "output_type": "stream",
     "text": [
      "100%|██████████████████████████████████████████████████████████████████████████████████| 1/1 [00:00<00:00, 1000.31it/s]\n"
     ]
    },
    {
     "name": "stdout",
     "output_type": "stream",
     "text": [
      "[[1.24328995]\n",
      " [1.06520498]\n",
      " [1.19831085]\n",
      " [1.02532482]\n",
      " [1.05372322]]\n",
      "1.2432899475097656\n",
      "3.99\n",
      "28611\n"
     ]
    },
    {
     "name": "stderr",
     "output_type": "stream",
     "text": [
      "100%|███████████████████████████████████████████████████████████████████████████████████| 1/1 [00:00<00:00, 500.10it/s]\n"
     ]
    },
    {
     "name": "stdout",
     "output_type": "stream",
     "text": [
      "[[1.14947855]\n",
      " [1.09858429]\n",
      " [1.20743299]\n",
      " [0.99700105]\n",
      " [1.23869371]]\n",
      "1.149478554725647\n",
      "4.08\n",
      "28612\n"
     ]
    },
    {
     "name": "stderr",
     "output_type": "stream",
     "text": [
      "100%|███████████████████████████████████████████████████████████████████████████████████| 1/1 [00:00<00:00, 499.50it/s]\n"
     ]
    },
    {
     "name": "stdout",
     "output_type": "stream",
     "text": [
      "[[1.16779351]\n",
      " [1.13058317]\n",
      " [1.17712092]\n",
      " [1.01904821]\n",
      " [1.2908926 ]]\n",
      "1.1677935123443604\n",
      "4.37\n",
      "28613\n"
     ]
    },
    {
     "name": "stderr",
     "output_type": "stream",
     "text": [
      "100%|███████████████████████████████████████████████████████████████████████████████████| 1/1 [00:00<00:00, 499.80it/s]\n"
     ]
    },
    {
     "name": "stdout",
     "output_type": "stream",
     "text": [
      "[[1.20794427]\n",
      " [1.25216627]\n",
      " [1.17495692]\n",
      " [1.04512274]\n",
      " [1.2632848 ]]\n",
      "1.2079442739486694\n",
      "4.06\n",
      "28614\n"
     ]
    },
    {
     "name": "stderr",
     "output_type": "stream",
     "text": [
      "100%|███████████████████████████████████████████████████████████████████████████████████| 1/1 [00:00<00:00, 498.25it/s]\n"
     ]
    },
    {
     "name": "stdout",
     "output_type": "stream",
     "text": [
      "[[1.13574243]\n",
      " [1.29847038]\n",
      " [1.12785435]\n",
      " [1.07724929]\n",
      " [1.17691505]]\n",
      "1.135742425918579\n",
      "5.23\n",
      "28615\n"
     ]
    },
    {
     "name": "stderr",
     "output_type": "stream",
     "text": [
      "100%|██████████████████████████████████████████████████████████████████████████████████| 1/1 [00:00<00:00, 1033.84it/s]\n"
     ]
    },
    {
     "name": "stdout",
     "output_type": "stream",
     "text": [
      "[[1.14918196]\n",
      " [1.24869919]\n",
      " [1.14541495]\n",
      " [1.00261509]\n",
      " [1.06888175]]\n",
      "1.1491819620132446\n",
      "6.86\n",
      "28616\n"
     ]
    },
    {
     "name": "stderr",
     "output_type": "stream",
     "text": [
      "100%|███████████████████████████████████████████████████████████████████████████████████| 1/1 [00:00<00:00, 998.88it/s]\n"
     ]
    },
    {
     "name": "stdout",
     "output_type": "stream",
     "text": [
      "[[1.16020179]\n",
      " [1.32441461]\n",
      " [1.10412014]\n",
      " [1.08188796]\n",
      " [1.08005667]]\n",
      "1.1602017879486084\n",
      "7.12\n",
      "28617\n"
     ]
    },
    {
     "name": "stderr",
     "output_type": "stream",
     "text": [
      "100%|███████████████████████████████████████████████████████████████████████████████████| 1/1 [00:00<00:00, 998.88it/s]\n"
     ]
    },
    {
     "name": "stdout",
     "output_type": "stream",
     "text": [
      "[[1.06663418]\n",
      " [1.19752634]\n",
      " [1.12172639]\n",
      " [1.00059199]\n",
      " [1.09679401]]\n",
      "1.066634178161621\n",
      "7.45\n",
      "28618\n"
     ]
    },
    {
     "name": "stderr",
     "output_type": "stream",
     "text": [
      "100%|██████████████████████████████████████████████████████████████████████████████████| 1/1 [00:00<00:00, 1000.31it/s]\n"
     ]
    },
    {
     "name": "stdout",
     "output_type": "stream",
     "text": [
      "[[1.06520498]\n",
      " [1.19831085]\n",
      " [1.02532482]\n",
      " [1.05372322]\n",
      " [1.2177732 ]]\n",
      "1.0652049779891968\n",
      "8.05\n",
      "28619\n"
     ]
    },
    {
     "name": "stderr",
     "output_type": "stream",
     "text": [
      "100%|███████████████████████████████████████████████████████████████████████████████████| 1/1 [00:00<00:00, 997.69it/s]\n"
     ]
    },
    {
     "name": "stdout",
     "output_type": "stream",
     "text": [
      "[[1.09858429]\n",
      " [1.20743299]\n",
      " [0.99700105]\n",
      " [1.23869371]\n",
      " [1.23786271]]\n",
      "1.0985842943191528\n",
      "6.5\n",
      "28620\n"
     ]
    },
    {
     "name": "stderr",
     "output_type": "stream",
     "text": [
      "100%|███████████████████████████████████████████████████████████████████████████████████| 1/1 [00:00<00:00, 997.69it/s]\n"
     ]
    },
    {
     "name": "stdout",
     "output_type": "stream",
     "text": [
      "[[1.13058317]\n",
      " [1.17712092]\n",
      " [1.01904821]\n",
      " [1.2908926 ]\n",
      " [1.14798212]]\n",
      "1.1305831670761108\n",
      "4.16\n",
      "28621\n"
     ]
    },
    {
     "name": "stderr",
     "output_type": "stream",
     "text": [
      "100%|██████████████████████████████████████████████████████████████████████████████████| 1/1 [00:00<00:00, 1007.52it/s]\n"
     ]
    },
    {
     "name": "stdout",
     "output_type": "stream",
     "text": [
      "[[1.25216627]\n",
      " [1.17495692]\n",
      " [1.04512274]\n",
      " [1.2632848 ]\n",
      " [1.01312244]]\n",
      "1.2521662712097168\n",
      "3.99\n",
      "28622\n"
     ]
    },
    {
     "name": "stderr",
     "output_type": "stream",
     "text": [
      "100%|███████████████████████████████████████████████████████████████████████████████████| 1/1 [00:00<00:00, 500.27it/s]\n"
     ]
    },
    {
     "name": "stdout",
     "output_type": "stream",
     "text": [
      "[[1.29847038]\n",
      " [1.12785435]\n",
      " [1.07724929]\n",
      " [1.17691505]\n",
      " [1.13267624]]\n",
      "1.298470377922058\n",
      "4.58\n",
      "28623\n"
     ]
    },
    {
     "name": "stderr",
     "output_type": "stream",
     "text": [
      "100%|██████████████████████████████████████████████████████████████████████████████████| 1/1 [00:00<00:00, 1001.03it/s]\n"
     ]
    },
    {
     "name": "stdout",
     "output_type": "stream",
     "text": [
      "[[1.24869919]\n",
      " [1.14541495]\n",
      " [1.00261509]\n",
      " [1.06888175]\n",
      " [1.22216773]]\n",
      "1.2486991882324219\n",
      "3.13\n",
      "28624\n"
     ]
    },
    {
     "name": "stderr",
     "output_type": "stream",
     "text": [
      "100%|██████████████████████████████████████████████████████████████████████████████████| 1/1 [00:00<00:00, 1000.31it/s]\n"
     ]
    },
    {
     "name": "stdout",
     "output_type": "stream",
     "text": [
      "[[1.32441461]\n",
      " [1.10412014]\n",
      " [1.08188796]\n",
      " [1.08005667]\n",
      " [1.0298872 ]]\n",
      "1.324414610862732\n",
      "2.81\n",
      "28625\n"
     ]
    },
    {
     "name": "stderr",
     "output_type": "stream",
     "text": [
      "100%|███████████████████████████████████████████████████████████████████████████████████| 1/1 [00:00<00:00, 499.92it/s]\n"
     ]
    },
    {
     "name": "stdout",
     "output_type": "stream",
     "text": [
      "[[1.19752634]\n",
      " [1.12172639]\n",
      " [1.00059199]\n",
      " [1.09679401]\n",
      " [1.02956033]]\n",
      "1.1975263357162476\n",
      "3.39\n",
      "28626\n"
     ]
    },
    {
     "name": "stderr",
     "output_type": "stream",
     "text": [
      "100%|██████████████████████████████████████████████████████████████████████████████████| 1/1 [00:00<00:00, 1000.55it/s]\n"
     ]
    },
    {
     "name": "stdout",
     "output_type": "stream",
     "text": [
      "[[1.19831085]\n",
      " [1.02532482]\n",
      " [1.05372322]\n",
      " [1.2177732 ]\n",
      " [1.24176681]]\n",
      "1.1983108520507812\n",
      "4.11\n",
      "28627\n"
     ]
    },
    {
     "name": "stderr",
     "output_type": "stream",
     "text": [
      "100%|███████████████████████████████████████████████████████████████████████████████████| 1/1 [00:00<00:00, 499.92it/s]\n"
     ]
    },
    {
     "name": "stdout",
     "output_type": "stream",
     "text": [
      "[[1.20743299]\n",
      " [0.99700105]\n",
      " [1.23869371]\n",
      " [1.23786271]\n",
      " [1.06124747]]\n",
      "1.2074329853057861\n",
      "3.62\n",
      "28628\n"
     ]
    },
    {
     "name": "stderr",
     "output_type": "stream",
     "text": [
      "100%|███████████████████████████████████████████████████████████████████████████████████| 1/1 [00:00<00:00, 998.88it/s]\n"
     ]
    },
    {
     "name": "stdout",
     "output_type": "stream",
     "text": [
      "[[1.17712092]\n",
      " [1.01904821]\n",
      " [1.2908926 ]\n",
      " [1.14798212]\n",
      " [1.00474966]]\n",
      "1.1771209239959717\n",
      "3.46\n",
      "28629\n"
     ]
    },
    {
     "name": "stderr",
     "output_type": "stream",
     "text": [
      "100%|███████████████████████████████████████████████████████████████████████████████████| 1/1 [00:00<00:00, 500.63it/s]\n"
     ]
    },
    {
     "name": "stdout",
     "output_type": "stream",
     "text": [
      "[[1.17495692]\n",
      " [1.04512274]\n",
      " [1.2632848 ]\n",
      " [1.01312244]\n",
      " [1.08904719]]\n",
      "1.1749569177627563\n",
      "2.74\n",
      "28630\n"
     ]
    },
    {
     "name": "stderr",
     "output_type": "stream",
     "text": [
      "100%|██████████████████████████████████████████████████████████████████████████████████| 1/1 [00:00<00:00, 1000.79it/s]\n"
     ]
    },
    {
     "name": "stdout",
     "output_type": "stream",
     "text": [
      "[[1.12785435]\n",
      " [1.07724929]\n",
      " [1.17691505]\n",
      " [1.13267624]\n",
      " [1.31417727]]\n",
      "1.127854347229004\n",
      "2.42\n",
      "28631\n"
     ]
    },
    {
     "name": "stderr",
     "output_type": "stream",
     "text": [
      "100%|██████████████████████████████████████████████████████████████████████████████████| 1/1 [00:00<00:00, 1000.07it/s]\n"
     ]
    },
    {
     "name": "stdout",
     "output_type": "stream",
     "text": [
      "[[1.14541495]\n",
      " [1.00261509]\n",
      " [1.06888175]\n",
      " [1.22216773]\n",
      " [1.39218831]]\n",
      "1.14541494846344\n",
      "2.36\n",
      "28632\n"
     ]
    },
    {
     "name": "stderr",
     "output_type": "stream",
     "text": [
      "100%|███████████████████████████████████████████████████████████████████████████████████| 1/1 [00:00<00:00, 999.12it/s]\n"
     ]
    },
    {
     "name": "stdout",
     "output_type": "stream",
     "text": [
      "[[1.10412014]\n",
      " [1.08188796]\n",
      " [1.08005667]\n",
      " [1.0298872 ]\n",
      " [1.15297043]]\n",
      "1.104120135307312\n",
      "2.23\n",
      "28633\n"
     ]
    },
    {
     "name": "stderr",
     "output_type": "stream",
     "text": [
      "100%|██████████████████████████████████████████████████████████████████████████████████| 1/1 [00:00<00:00, 1000.79it/s]\n"
     ]
    },
    {
     "name": "stdout",
     "output_type": "stream",
     "text": [
      "[[1.12172639]\n",
      " [1.00059199]\n",
      " [1.09679401]\n",
      " [1.02956033]\n",
      " [1.01776254]]\n",
      "1.121726393699646\n",
      "2.38\n",
      "28634\n"
     ]
    },
    {
     "name": "stderr",
     "output_type": "stream",
     "text": [
      "100%|███████████████████████████████████████████████████████████████████████████████████| 1/1 [00:00<00:00, 499.74it/s]\n"
     ]
    },
    {
     "name": "stdout",
     "output_type": "stream",
     "text": [
      "[[1.02532482]\n",
      " [1.05372322]\n",
      " [1.2177732 ]\n",
      " [1.24176681]\n",
      " [1.00665557]]\n",
      "1.025324821472168\n",
      "2.16\n",
      "28635\n"
     ]
    },
    {
     "name": "stderr",
     "output_type": "stream",
     "text": [
      "100%|███████████████████████████████████████████████████████████████████████████████████| 1/1 [00:00<00:00, 500.04it/s]\n"
     ]
    },
    {
     "name": "stdout",
     "output_type": "stream",
     "text": [
      "[[0.99700105]\n",
      " [1.23869371]\n",
      " [1.23786271]\n",
      " [1.06124747]\n",
      " [1.03136683]]\n",
      "0.997001051902771\n",
      "1.64\n",
      "28636\n"
     ]
    },
    {
     "name": "stderr",
     "output_type": "stream",
     "text": [
      "100%|███████████████████████████████████████████████████████████████████████████████████| 1/1 [00:00<00:00, 999.83it/s]\n"
     ]
    },
    {
     "name": "stdout",
     "output_type": "stream",
     "text": [
      "[[1.01904821]\n",
      " [1.2908926 ]\n",
      " [1.14798212]\n",
      " [1.00474966]\n",
      " [1.13923633]]\n",
      "1.0190482139587402\n",
      "1.3\n",
      "28637\n"
     ]
    },
    {
     "name": "stderr",
     "output_type": "stream",
     "text": [
      "100%|███████████████████████████████████████████████████████████████████████████████████| 1/1 [00:00<00:00, 998.88it/s]\n"
     ]
    },
    {
     "name": "stdout",
     "output_type": "stream",
     "text": [
      "[[1.04512274]\n",
      " [1.2632848 ]\n",
      " [1.01312244]\n",
      " [1.08904719]\n",
      " [1.00387561]]\n",
      "1.045122742652893\n",
      "1.18\n",
      "28638\n"
     ]
    },
    {
     "name": "stderr",
     "output_type": "stream",
     "text": [
      "100%|██████████████████████████████████████████████████████████████████████████████████| 1/1 [00:00<00:00, 1000.07it/s]\n"
     ]
    },
    {
     "name": "stdout",
     "output_type": "stream",
     "text": [
      "[[1.07724929]\n",
      " [1.17691505]\n",
      " [1.13267624]\n",
      " [1.31417727]\n",
      " [1.04572034]]\n",
      "1.07724928855896\n",
      "1.55\n",
      "28639\n"
     ]
    },
    {
     "name": "stderr",
     "output_type": "stream",
     "text": [
      "100%|██████████████████████████████████████████████████████████████████████████████████| 1/1 [00:00<00:00, 1000.07it/s]\n"
     ]
    },
    {
     "name": "stdout",
     "output_type": "stream",
     "text": [
      "[[1.00261509]\n",
      " [1.06888175]\n",
      " [1.22216773]\n",
      " [1.39218831]\n",
      " [1.03975761]]\n",
      "1.0026150941848755\n",
      "1.75\n",
      "28640\n"
     ]
    },
    {
     "name": "stderr",
     "output_type": "stream",
     "text": [
      "100%|██████████████████████████████████████████████████████████████████████████████████| 1/1 [00:00<00:00, 1000.55it/s]\n"
     ]
    },
    {
     "name": "stdout",
     "output_type": "stream",
     "text": [
      "[[1.08188796]\n",
      " [1.08005667]\n",
      " [1.0298872 ]\n",
      " [1.15297043]\n",
      " [1.02607036]]\n",
      "1.08188796043396\n",
      "2.09\n",
      "28641\n"
     ]
    },
    {
     "name": "stderr",
     "output_type": "stream",
     "text": [
      "100%|███████████████████████████████████████████████████████████████████████████████████| 1/1 [00:00<00:00, 999.36it/s]"
     ]
    },
    {
     "name": "stdout",
     "output_type": "stream",
     "text": [
      "[[1.00059199]\n",
      " [1.09679401]\n",
      " [1.02956033]\n",
      " [1.01776254]\n",
      " [1.06680274]]\n",
      "1.0005919933319092\n",
      "2.6\n",
      "28642\n"
     ]
    },
    {
     "name": "stderr",
     "output_type": "stream",
     "text": [
      "\n",
      "100%|███████████████████████████████████████████████████████████████████████████████████| 1/1 [00:00<00:00, 500.69it/s]\n"
     ]
    },
    {
     "name": "stdout",
     "output_type": "stream",
     "text": [
      "[[1.05372322]\n",
      " [1.2177732 ]\n",
      " [1.24176681]\n",
      " [1.00665557]\n",
      " [1.08306146]]\n",
      "1.0537232160568237\n",
      "2.88\n",
      "28643\n"
     ]
    },
    {
     "name": "stderr",
     "output_type": "stream",
     "text": [
      "100%|███████████████████████████████████████████████████████████████████████████████████| 1/1 [00:00<00:00, 500.10it/s]\n"
     ]
    },
    {
     "name": "stdout",
     "output_type": "stream",
     "text": [
      "[[1.23869371]\n",
      " [1.23786271]\n",
      " [1.06124747]\n",
      " [1.03136683]\n",
      " [1.12530851]]\n",
      "1.2386937141418457\n",
      "2.94\n",
      "28644\n"
     ]
    },
    {
     "name": "stderr",
     "output_type": "stream",
     "text": [
      "100%|███████████████████████████████████████████████████████████████████████████████████| 1/1 [00:00<00:00, 500.10it/s]\n"
     ]
    },
    {
     "name": "stdout",
     "output_type": "stream",
     "text": [
      "[[1.2908926 ]\n",
      " [1.14798212]\n",
      " [1.00474966]\n",
      " [1.13923633]\n",
      " [1.12511766]]\n",
      "1.2908926010131836\n",
      "2.75\n",
      "28645\n"
     ]
    },
    {
     "name": "stderr",
     "output_type": "stream",
     "text": [
      "100%|███████████████████████████████████████████████████████████████████████████████████| 1/1 [00:00<00:00, 499.86it/s]\n"
     ]
    },
    {
     "name": "stdout",
     "output_type": "stream",
     "text": [
      "[[1.2632848 ]\n",
      " [1.01312244]\n",
      " [1.08904719]\n",
      " [1.00387561]\n",
      " [1.01528549]]\n",
      "1.2632848024368286\n",
      "2.68\n",
      "28646\n"
     ]
    },
    {
     "name": "stderr",
     "output_type": "stream",
     "text": [
      "100%|██████████████████████████████████████████████████████████████████████████████████| 1/1 [00:00<00:00, 1001.74it/s]\n"
     ]
    },
    {
     "name": "stdout",
     "output_type": "stream",
     "text": [
      "[[1.17691505]\n",
      " [1.13267624]\n",
      " [1.31417727]\n",
      " [1.04572034]\n",
      " [1.15597296]]\n",
      "1.1769150495529175\n",
      "2.91\n",
      "28647\n"
     ]
    },
    {
     "name": "stderr",
     "output_type": "stream",
     "text": [
      "100%|██████████████████████████████████████████████████████████████████████████████████| 1/1 [00:00<00:00, 1000.31it/s]\n"
     ]
    },
    {
     "name": "stdout",
     "output_type": "stream",
     "text": [
      "[[1.06888175]\n",
      " [1.22216773]\n",
      " [1.39218831]\n",
      " [1.03975761]\n",
      " [1.11853385]]\n",
      "1.0688817501068115\n",
      "2.85\n",
      "28648\n"
     ]
    },
    {
     "name": "stderr",
     "output_type": "stream",
     "text": [
      "100%|███████████████████████████████████████████████████████████████████████████████████| 1/1 [00:00<00:00, 499.74it/s]\n"
     ]
    },
    {
     "name": "stdout",
     "output_type": "stream",
     "text": [
      "[[1.08005667]\n",
      " [1.0298872 ]\n",
      " [1.15297043]\n",
      " [1.02607036]\n",
      " [1.01410508]]\n",
      "1.0800566673278809\n",
      "2.9\n",
      "28649\n"
     ]
    },
    {
     "name": "stderr",
     "output_type": "stream",
     "text": [
      "100%|███████████████████████████████████████████████████████████████████████████████████| 1/1 [00:00<00:00, 499.38it/s]\n"
     ]
    },
    {
     "name": "stdout",
     "output_type": "stream",
     "text": [
      "[[1.09679401]\n",
      " [1.02956033]\n",
      " [1.01776254]\n",
      " [1.06680274]\n",
      " [1.00358474]]\n",
      "1.0967940092086792\n",
      "3.26\n",
      "28650\n"
     ]
    },
    {
     "name": "stderr",
     "output_type": "stream",
     "text": [
      "100%|██████████████████████████████████████████████████████████████████████████████████| 1/1 [00:00<00:00, 1001.27it/s]\n"
     ]
    },
    {
     "name": "stdout",
     "output_type": "stream",
     "text": [
      "[[1.2177732 ]\n",
      " [1.24176681]\n",
      " [1.00665557]\n",
      " [1.08306146]\n",
      " [1.27483058]]\n",
      "1.217773199081421\n",
      "3.4\n",
      "28651\n"
     ]
    },
    {
     "name": "stderr",
     "output_type": "stream",
     "text": [
      "100%|███████████████████████████████████████████████████████████████████████████████████| 1/1 [00:00<00:00, 500.33it/s]\n"
     ]
    },
    {
     "name": "stdout",
     "output_type": "stream",
     "text": [
      "[[1.23786271]\n",
      " [1.06124747]\n",
      " [1.03136683]\n",
      " [1.12530851]\n",
      " [1.06814754]]\n",
      "1.2378627061843872\n",
      "3.81\n",
      "28652\n"
     ]
    },
    {
     "name": "stderr",
     "output_type": "stream",
     "text": [
      "100%|███████████████████████████████████████████████████████████████████████████████████| 1/1 [00:00<00:00, 999.36it/s]\n"
     ]
    },
    {
     "name": "stdout",
     "output_type": "stream",
     "text": [
      "[[1.14798212]\n",
      " [1.00474966]\n",
      " [1.13923633]\n",
      " [1.12511766]\n",
      " [1.01901436]]\n",
      "1.147982120513916\n",
      "3.91\n",
      "28653\n"
     ]
    },
    {
     "name": "stderr",
     "output_type": "stream",
     "text": [
      "100%|███████████████████████████████████████████████████████████████████████████████████| 1/1 [00:00<00:00, 500.10it/s]\n"
     ]
    },
    {
     "name": "stdout",
     "output_type": "stream",
     "text": [
      "[[1.01312244]\n",
      " [1.08904719]\n",
      " [1.00387561]\n",
      " [1.01528549]\n",
      " [1.02181304]]\n",
      "1.0131224393844604\n",
      "3.47\n",
      "28654\n"
     ]
    },
    {
     "name": "stderr",
     "output_type": "stream",
     "text": [
      "100%|██████████████████████████████████████████████████████████████████████████████████| 1/1 [00:00<00:00, 1000.55it/s]\n"
     ]
    },
    {
     "name": "stdout",
     "output_type": "stream",
     "text": [
      "[[1.13267624]\n",
      " [1.31417727]\n",
      " [1.04572034]\n",
      " [1.15597296]\n",
      " [1.20441878]]\n",
      "1.1326762437820435\n",
      "3.61\n",
      "28655\n"
     ]
    },
    {
     "name": "stderr",
     "output_type": "stream",
     "text": [
      "100%|██████████████████████████████████████████████████████████████████████████████████| 1/1 [00:00<00:00, 1000.31it/s]\n"
     ]
    },
    {
     "name": "stdout",
     "output_type": "stream",
     "text": [
      "[[1.22216773]\n",
      " [1.39218831]\n",
      " [1.03975761]\n",
      " [1.11853385]\n",
      " [1.0305872 ]]\n",
      "1.222167730331421\n",
      "2.76\n",
      "28656\n"
     ]
    },
    {
     "name": "stderr",
     "output_type": "stream",
     "text": [
      "100%|██████████████████████████████████████████████████████████████████████████████████| 1/1 [00:00<00:00, 1000.31it/s]\n"
     ]
    },
    {
     "name": "stdout",
     "output_type": "stream",
     "text": [
      "[[1.0298872 ]\n",
      " [1.15297043]\n",
      " [1.02607036]\n",
      " [1.01410508]\n",
      " [1.1926142 ]]\n",
      "1.0298871994018555\n",
      "3.59\n",
      "28657\n"
     ]
    },
    {
     "name": "stderr",
     "output_type": "stream",
     "text": [
      "100%|███████████████████████████████████████████████████████████████████████████████████| 1/1 [00:00<00:00, 499.80it/s]\n"
     ]
    },
    {
     "name": "stdout",
     "output_type": "stream",
     "text": [
      "[[1.02956033]\n",
      " [1.01776254]\n",
      " [1.06680274]\n",
      " [1.00358474]\n",
      " [1.06629956]]\n",
      "1.0295603275299072\n",
      "3.89\n",
      "28658\n"
     ]
    },
    {
     "name": "stderr",
     "output_type": "stream",
     "text": [
      "100%|██████████████████████████████████████████████████████████████████████████████████| 1/1 [00:00<00:00, 1001.03it/s]\n"
     ]
    },
    {
     "name": "stdout",
     "output_type": "stream",
     "text": [
      "[[1.24176681]\n",
      " [1.00665557]\n",
      " [1.08306146]\n",
      " [1.27483058]\n",
      " [1.172557  ]]\n",
      "1.2417668104171753\n",
      "3.23\n",
      "28659\n"
     ]
    },
    {
     "name": "stderr",
     "output_type": "stream",
     "text": [
      "100%|███████████████████████████████████████████████████████████████████████████████████| 1/1 [00:00<00:00, 999.12it/s]\n"
     ]
    },
    {
     "name": "stdout",
     "output_type": "stream",
     "text": [
      "[[1.06124747]\n",
      " [1.03136683]\n",
      " [1.12530851]\n",
      " [1.06814754]\n",
      " [1.05326319]]\n",
      "1.06124746799469\n",
      "2.45\n",
      "28660\n"
     ]
    },
    {
     "name": "stderr",
     "output_type": "stream",
     "text": [
      "100%|███████████████████████████████████████████████████████████████████████████████████| 1/1 [00:00<00:00, 999.60it/s]\n"
     ]
    },
    {
     "name": "stdout",
     "output_type": "stream",
     "text": [
      "[[1.00474966]\n",
      " [1.13923633]\n",
      " [1.12511766]\n",
      " [1.01901436]\n",
      " [1.01256931]]\n",
      "1.0047496557235718\n",
      "1.93\n",
      "28661\n"
     ]
    },
    {
     "name": "stderr",
     "output_type": "stream",
     "text": [
      "100%|███████████████████████████████████████████████████████████████████████████████████| 1/1 [00:00<00:00, 998.64it/s]\n"
     ]
    },
    {
     "name": "stdout",
     "output_type": "stream",
     "text": [
      "[[1.08904719]\n",
      " [1.00387561]\n",
      " [1.01528549]\n",
      " [1.02181304]\n",
      " [1.19327188]]\n",
      "1.0890471935272217\n",
      "1.88\n",
      "28662\n"
     ]
    },
    {
     "name": "stderr",
     "output_type": "stream",
     "text": [
      "100%|███████████████████████████████████████████████████████████████████████████████████| 1/1 [00:00<00:00, 999.83it/s]\n"
     ]
    },
    {
     "name": "stdout",
     "output_type": "stream",
     "text": [
      "[[1.31417727]\n",
      " [1.04572034]\n",
      " [1.15597296]\n",
      " [1.20441878]\n",
      " [1.20673227]]\n",
      "1.3141772747039795\n",
      "2.64\n",
      "28663\n"
     ]
    },
    {
     "name": "stderr",
     "output_type": "stream",
     "text": [
      "100%|███████████████████████████████████████████████████████████████████████████████████| 1/1 [00:00<00:00, 999.83it/s]\n"
     ]
    },
    {
     "name": "stdout",
     "output_type": "stream",
     "text": [
      "[[1.39218831]\n",
      " [1.03975761]\n",
      " [1.11853385]\n",
      " [1.0305872 ]\n",
      " [1.2786026 ]]\n",
      "1.392188310623169\n",
      "2.37\n",
      "28664\n"
     ]
    },
    {
     "name": "stderr",
     "output_type": "stream",
     "text": [
      "100%|███████████████████████████████████████████████████████████████████████████████████| 1/1 [00:00<00:00, 999.60it/s]\n"
     ]
    },
    {
     "name": "stdout",
     "output_type": "stream",
     "text": [
      "[[1.15297043]\n",
      " [1.02607036]\n",
      " [1.01410508]\n",
      " [1.1926142 ]\n",
      " [1.11133468]]\n",
      "1.1529704332351685\n",
      "2.12\n",
      "28665\n"
     ]
    },
    {
     "name": "stderr",
     "output_type": "stream",
     "text": [
      "100%|███████████████████████████████████████████████████████████████████████████████████| 1/1 [00:00<00:00, 998.88it/s]\n"
     ]
    },
    {
     "name": "stdout",
     "output_type": "stream",
     "text": [
      "[[1.01776254]\n",
      " [1.06680274]\n",
      " [1.00358474]\n",
      " [1.06629956]\n",
      " [1.11693704]]\n",
      "1.017762541770935\n",
      "2.49\n",
      "28666\n"
     ]
    },
    {
     "name": "stderr",
     "output_type": "stream",
     "text": [
      "100%|███████████████████████████████████████████████████████████████████████████████████| 1/1 [00:00<00:00, 500.10it/s]\n"
     ]
    },
    {
     "name": "stdout",
     "output_type": "stream",
     "text": [
      "[[1.00665557]\n",
      " [1.08306146]\n",
      " [1.27483058]\n",
      " [1.172557  ]\n",
      " [1.01447594]]\n",
      "1.0066555738449097\n",
      "2.07\n",
      "28667\n"
     ]
    },
    {
     "name": "stderr",
     "output_type": "stream",
     "text": [
      "100%|███████████████████████████████████████████████████████████████████████████████████| 1/1 [00:00<00:00, 500.22it/s]\n"
     ]
    },
    {
     "name": "stdout",
     "output_type": "stream",
     "text": [
      "[[1.03136683]\n",
      " [1.12530851]\n",
      " [1.06814754]\n",
      " [1.05326319]\n",
      " [1.18957961]]\n",
      "1.0313668251037598\n",
      "1.72\n",
      "28668\n"
     ]
    },
    {
     "name": "stderr",
     "output_type": "stream",
     "text": [
      "100%|██████████████████████████████████████████████████████████████████████████████████| 1/1 [00:00<00:00, 1000.07it/s]\n"
     ]
    },
    {
     "name": "stdout",
     "output_type": "stream",
     "text": [
      "[[1.13923633]\n",
      " [1.12511766]\n",
      " [1.01901436]\n",
      " [1.01256931]\n",
      " [1.14418161]]\n",
      "1.139236330986023\n",
      "1.8\n",
      "28669\n"
     ]
    },
    {
     "name": "stderr",
     "output_type": "stream",
     "text": [
      "100%|███████████████████████████████████████████████████████████████████████████████████| 1/1 [00:00<00:00, 499.92it/s]\n"
     ]
    },
    {
     "name": "stdout",
     "output_type": "stream",
     "text": [
      "[[1.00387561]\n",
      " [1.01528549]\n",
      " [1.02181304]\n",
      " [1.19327188]\n",
      " [1.07235813]]\n",
      "1.0038756132125854\n",
      "1.76\n",
      "28670\n"
     ]
    },
    {
     "name": "stderr",
     "output_type": "stream",
     "text": [
      "100%|██████████████████████████████████████████████████████████████████████████████████| 1/1 [00:00<00:00, 1001.51it/s]\n"
     ]
    },
    {
     "name": "stdout",
     "output_type": "stream",
     "text": [
      "[[1.04572034]\n",
      " [1.15597296]\n",
      " [1.20441878]\n",
      " [1.20673227]\n",
      " [1.07510495]]\n",
      "1.0457203388214111\n",
      "1.59\n",
      "28671\n"
     ]
    },
    {
     "name": "stderr",
     "output_type": "stream",
     "text": [
      "100%|██████████████████████████████████████████████████████████████████████████████████| 1/1 [00:00<00:00, 1005.59it/s]\n"
     ]
    },
    {
     "name": "stdout",
     "output_type": "stream",
     "text": [
      "[[1.03975761]\n",
      " [1.11853385]\n",
      " [1.0305872 ]\n",
      " [1.2786026 ]\n",
      " [1.07304466]]\n",
      "1.0397576093673706\n",
      "1.39\n",
      "28672\n"
     ]
    },
    {
     "name": "stderr",
     "output_type": "stream",
     "text": [
      "100%|███████████████████████████████████████████████████████████████████████████████████| 1/1 [00:00<00:00, 999.36it/s]\n"
     ]
    },
    {
     "name": "stdout",
     "output_type": "stream",
     "text": [
      "[[1.02607036]\n",
      " [1.01410508]\n",
      " [1.1926142 ]\n",
      " [1.11133468]\n",
      " [0.99628752]]\n",
      "1.0260703563690186\n",
      "1.37\n",
      "28673\n"
     ]
    },
    {
     "name": "stderr",
     "output_type": "stream",
     "text": [
      "100%|██████████████████████████████████████████████████████████████████████████████████| 1/1 [00:00<00:00, 1002.46it/s]\n"
     ]
    },
    {
     "name": "stdout",
     "output_type": "stream",
     "text": [
      "[[1.06680274]\n",
      " [1.00358474]\n",
      " [1.06629956]\n",
      " [1.11693704]\n",
      " [1.12234843]]\n",
      "1.066802740097046\n",
      "1.28\n",
      "28674\n"
     ]
    },
    {
     "name": "stderr",
     "output_type": "stream",
     "text": [
      "100%|██████████████████████████████████████████████████████████████████████████████████| 1/1 [00:00<00:00, 1000.31it/s]\n"
     ]
    },
    {
     "name": "stdout",
     "output_type": "stream",
     "text": [
      "[[1.08306146]\n",
      " [1.27483058]\n",
      " [1.172557  ]\n",
      " [1.01447594]\n",
      " [1.1510359 ]]\n",
      "1.0830614566802979\n",
      "1.48\n",
      "28675\n"
     ]
    },
    {
     "name": "stderr",
     "output_type": "stream",
     "text": [
      "100%|███████████████████████████████████████████████████████████████████████████████████| 1/1 [00:00<00:00, 999.83it/s]\n"
     ]
    },
    {
     "name": "stdout",
     "output_type": "stream",
     "text": [
      "[[1.12530851]\n",
      " [1.06814754]\n",
      " [1.05326319]\n",
      " [1.18957961]\n",
      " [1.17396736]]\n",
      "1.1253085136413574\n",
      "1.61\n",
      "28676\n"
     ]
    },
    {
     "name": "stderr",
     "output_type": "stream",
     "text": [
      "100%|███████████████████████████████████████████████████████████████████████████████████| 1/1 [00:00<00:00, 499.38it/s]\n"
     ]
    },
    {
     "name": "stdout",
     "output_type": "stream",
     "text": [
      "[[1.12511766]\n",
      " [1.01901436]\n",
      " [1.01256931]\n",
      " [1.14418161]\n",
      " [1.1781739 ]]\n",
      "1.1251176595687866\n",
      "1.19\n",
      "28677\n"
     ]
    },
    {
     "name": "stderr",
     "output_type": "stream",
     "text": [
      "100%|███████████████████████████████████████████████████████████████████████████████████| 1/1 [00:00<00:00, 500.10it/s]\n"
     ]
    },
    {
     "name": "stdout",
     "output_type": "stream",
     "text": [
      "[[1.01528549]\n",
      " [1.02181304]\n",
      " [1.19327188]\n",
      " [1.07235813]\n",
      " [1.18498421]]\n",
      "1.0152854919433594\n",
      "1.05\n",
      "28678\n"
     ]
    },
    {
     "name": "stderr",
     "output_type": "stream",
     "text": [
      "100%|███████████████████████████████████████████████████████████████████████████████████| 1/1 [00:00<00:00, 999.83it/s]\n"
     ]
    },
    {
     "name": "stdout",
     "output_type": "stream",
     "text": [
      "[[1.15597296]\n",
      " [1.20441878]\n",
      " [1.20673227]\n",
      " [1.07510495]\n",
      " [1.19617975]]\n",
      "1.155972957611084\n",
      "0.89\n",
      "28679\n"
     ]
    },
    {
     "name": "stderr",
     "output_type": "stream",
     "text": [
      "100%|██████████████████████████████████████████████████████████████████████████████████| 1/1 [00:00<00:00, 1000.55it/s]\n"
     ]
    },
    {
     "name": "stdout",
     "output_type": "stream",
     "text": [
      "[[1.11853385]\n",
      " [1.0305872 ]\n",
      " [1.2786026 ]\n",
      " [1.07304466]\n",
      " [1.21283019]]\n",
      "1.1185338497161865\n",
      "0.56\n",
      "28680\n"
     ]
    },
    {
     "name": "stderr",
     "output_type": "stream",
     "text": [
      "100%|███████████████████████████████████████████████████████████████████████████████████| 1/1 [00:00<00:00, 998.64it/s]\n"
     ]
    },
    {
     "name": "stdout",
     "output_type": "stream",
     "text": [
      "[[1.01410508]\n",
      " [1.1926142 ]\n",
      " [1.11133468]\n",
      " [0.99628752]\n",
      " [1.21577692]]\n",
      "1.0141050815582275\n",
      "0.38\n",
      "28681\n"
     ]
    },
    {
     "name": "stderr",
     "output_type": "stream",
     "text": [
      "100%|███████████████████████████████████████████████████████████████████████████████████| 1/1 [00:00<00:00, 500.10it/s]\n"
     ]
    },
    {
     "name": "stdout",
     "output_type": "stream",
     "text": [
      "[[1.00358474]\n",
      " [1.06629956]\n",
      " [1.11693704]\n",
      " [1.12234843]\n",
      " [1.20363522]]\n",
      "1.0035847425460815\n",
      "0.44\n",
      "28682\n"
     ]
    },
    {
     "name": "stderr",
     "output_type": "stream",
     "text": [
      "100%|███████████████████████████████████████████████████████████████████████████████████| 1/1 [00:00<00:00, 998.88it/s]\n"
     ]
    },
    {
     "name": "stdout",
     "output_type": "stream",
     "text": [
      "[[1.27483058]\n",
      " [1.172557  ]\n",
      " [1.01447594]\n",
      " [1.1510359 ]\n",
      " [1.20951235]]\n",
      "1.2748305797576904\n",
      "0.29\n",
      "28683\n"
     ]
    },
    {
     "name": "stderr",
     "output_type": "stream",
     "text": [
      "100%|██████████████████████████████████████████████████████████████████████████████████| 1/1 [00:00<00:00, 1000.31it/s]\n"
     ]
    },
    {
     "name": "stdout",
     "output_type": "stream",
     "text": [
      "[[1.06814754]\n",
      " [1.05326319]\n",
      " [1.18957961]\n",
      " [1.17396736]\n",
      " [1.19160235]]\n",
      "1.0681475400924683\n",
      "0.26\n",
      "28684\n"
     ]
    },
    {
     "name": "stderr",
     "output_type": "stream",
     "text": [
      "100%|███████████████████████████████████████████████████████████████████████████████████| 1/1 [00:00<00:00, 499.74it/s]\n"
     ]
    },
    {
     "name": "stdout",
     "output_type": "stream",
     "text": [
      "[[1.01901436]\n",
      " [1.01256931]\n",
      " [1.14418161]\n",
      " [1.1781739 ]\n",
      " [1.55436003]]\n",
      "1.0190143585205078\n",
      "0.23\n",
      "28685\n"
     ]
    },
    {
     "name": "stderr",
     "output_type": "stream",
     "text": [
      "100%|███████████████████████████████████████████████████████████████████████████████████| 1/1 [00:00<00:00, 500.04it/s]\n"
     ]
    },
    {
     "name": "stdout",
     "output_type": "stream",
     "text": [
      "[[1.02181304]\n",
      " [1.19327188]\n",
      " [1.07235813]\n",
      " [1.18498421]\n",
      " [1.8049953 ]]\n",
      "1.0218130350112915\n",
      "0.27\n",
      "28686\n"
     ]
    },
    {
     "name": "stderr",
     "output_type": "stream",
     "text": [
      "100%|███████████████████████████████████████████████████████████████████████████████████| 1/1 [00:00<00:00, 999.83it/s]\n"
     ]
    },
    {
     "name": "stdout",
     "output_type": "stream",
     "text": [
      "[[1.20441878]\n",
      " [1.20673227]\n",
      " [1.07510495]\n",
      " [1.19617975]\n",
      " [1.52442539]]\n",
      "1.2044187784194946\n",
      "0.2\n",
      "28687\n"
     ]
    },
    {
     "name": "stderr",
     "output_type": "stream",
     "text": [
      "100%|███████████████████████████████████████████████████████████████████████████████████| 1/1 [00:00<00:00, 998.88it/s]\n"
     ]
    },
    {
     "name": "stdout",
     "output_type": "stream",
     "text": [
      "[[1.0305872 ]\n",
      " [1.2786026 ]\n",
      " [1.07304466]\n",
      " [1.21283019]\n",
      " [1.06020617]]\n",
      "1.0305871963500977\n",
      "0.6\n",
      "28688\n"
     ]
    },
    {
     "name": "stderr",
     "output_type": "stream",
     "text": [
      "100%|██████████████████████████████████████████████████████████████████████████████████| 1/1 [00:00<00:00, 1000.79it/s]\n"
     ]
    },
    {
     "name": "stdout",
     "output_type": "stream",
     "text": [
      "[[1.1926142 ]\n",
      " [1.11133468]\n",
      " [0.99628752]\n",
      " [1.21577692]\n",
      " [1.21147251]]\n",
      "1.192614197731018\n",
      "0.67\n",
      "28689\n"
     ]
    },
    {
     "name": "stderr",
     "output_type": "stream",
     "text": [
      "100%|███████████████████████████████████████████████████████████████████████████████████| 1/1 [00:00<00:00, 500.27it/s]\n"
     ]
    },
    {
     "name": "stdout",
     "output_type": "stream",
     "text": [
      "[[1.06629956]\n",
      " [1.11693704]\n",
      " [1.12234843]\n",
      " [1.20363522]\n",
      " [1.2121172 ]]\n",
      "1.066299557685852\n",
      "0.73\n",
      "28690\n"
     ]
    },
    {
     "name": "stderr",
     "output_type": "stream",
     "text": [
      "100%|███████████████████████████████████████████████████████████████████████████████████| 1/1 [00:00<00:00, 999.12it/s]\n"
     ]
    },
    {
     "name": "stdout",
     "output_type": "stream",
     "text": [
      "[[1.172557  ]\n",
      " [1.01447594]\n",
      " [1.1510359 ]\n",
      " [1.20951235]\n",
      " [1.1752733 ]]\n",
      "1.17255699634552\n",
      "0.89\n",
      "28691\n"
     ]
    },
    {
     "name": "stderr",
     "output_type": "stream",
     "text": [
      "100%|███████████████████████████████████████████████████████████████████████████████████| 1/1 [00:00<00:00, 999.83it/s]\n"
     ]
    },
    {
     "name": "stdout",
     "output_type": "stream",
     "text": [
      "[[1.05326319]\n",
      " [1.18957961]\n",
      " [1.17396736]\n",
      " [1.19160235]\n",
      " [1.17201185]]\n",
      "1.0532631874084473\n",
      "1.07\n",
      "28692\n"
     ]
    },
    {
     "name": "stderr",
     "output_type": "stream",
     "text": [
      "100%|███████████████████████████████████████████████████████████████████████████████████| 1/1 [00:00<00:00, 499.50it/s]\n"
     ]
    },
    {
     "name": "stdout",
     "output_type": "stream",
     "text": [
      "[[1.01256931]\n",
      " [1.14418161]\n",
      " [1.1781739 ]\n",
      " [1.55436003]\n",
      " [1.17755806]]\n",
      "1.0125693082809448\n",
      "1.5\n",
      "28693\n"
     ]
    },
    {
     "name": "stderr",
     "output_type": "stream",
     "text": [
      "100%|███████████████████████████████████████████████████████████████████████████████████| 1/1 [00:00<00:00, 499.98it/s]\n"
     ]
    },
    {
     "name": "stdout",
     "output_type": "stream",
     "text": [
      "[[1.19327188]\n",
      " [1.07235813]\n",
      " [1.18498421]\n",
      " [1.8049953 ]\n",
      " [1.16969085]]\n",
      "1.1932718753814697\n",
      "1.38\n",
      "28694\n"
     ]
    },
    {
     "name": "stderr",
     "output_type": "stream",
     "text": [
      "100%|███████████████████████████████████████████████████████████████████████████████████| 1/1 [00:00<00:00, 499.98it/s]\n"
     ]
    },
    {
     "name": "stdout",
     "output_type": "stream",
     "text": [
      "[[1.20673227]\n",
      " [1.07510495]\n",
      " [1.19617975]\n",
      " [1.52442539]\n",
      " [1.15175128]]\n",
      "1.2067322731018066\n",
      "1.27\n",
      "28695\n"
     ]
    },
    {
     "name": "stderr",
     "output_type": "stream",
     "text": [
      "100%|██████████████████████████████████████████████████████████████████████████████████| 1/1 [00:00<00:00, 1000.55it/s]\n"
     ]
    },
    {
     "name": "stdout",
     "output_type": "stream",
     "text": [
      "[[1.2786026 ]\n",
      " [1.07304466]\n",
      " [1.21283019]\n",
      " [1.06020617]\n",
      " [1.15629351]]\n",
      "1.2786026000976562\n",
      "1.14\n",
      "28696\n"
     ]
    },
    {
     "name": "stderr",
     "output_type": "stream",
     "text": [
      "100%|███████████████████████████████████████████████████████████████████████████████████| 1/1 [00:00<00:00, 498.97it/s]\n"
     ]
    },
    {
     "name": "stdout",
     "output_type": "stream",
     "text": [
      "[[1.11133468]\n",
      " [0.99628752]\n",
      " [1.21577692]\n",
      " [1.21147251]\n",
      " [1.15201807]]\n",
      "1.1113346815109253\n",
      "1.16\n",
      "28697\n"
     ]
    },
    {
     "name": "stderr",
     "output_type": "stream",
     "text": [
      "100%|███████████████████████████████████████████████████████████████████████████████████| 1/1 [00:00<00:00, 500.45it/s]\n"
     ]
    },
    {
     "name": "stdout",
     "output_type": "stream",
     "text": [
      "[[1.11693704]\n",
      " [1.12234843]\n",
      " [1.20363522]\n",
      " [1.2121172 ]\n",
      " [1.18444407]]\n",
      "1.1169370412826538\n",
      "1.28\n",
      "28698\n"
     ]
    },
    {
     "name": "stderr",
     "output_type": "stream",
     "text": [
      "100%|███████████████████████████████████████████████████████████████████████████████████| 1/1 [00:00<00:00, 500.04it/s]\n"
     ]
    },
    {
     "name": "stdout",
     "output_type": "stream",
     "text": [
      "[[1.01447594]\n",
      " [1.1510359 ]\n",
      " [1.20951235]\n",
      " [1.1752733 ]\n",
      " [1.18710339]]\n",
      "1.01447594165802\n",
      "1.54\n",
      "28699\n"
     ]
    },
    {
     "name": "stderr",
     "output_type": "stream",
     "text": [
      "100%|███████████████████████████████████████████████████████████████████████████████████| 1/1 [00:00<00:00, 999.36it/s]\n"
     ]
    },
    {
     "name": "stdout",
     "output_type": "stream",
     "text": [
      "[[1.18957961]\n",
      " [1.17396736]\n",
      " [1.19160235]\n",
      " [1.17201185]\n",
      " [1.18989456]]\n",
      "1.1895796060562134\n",
      "1.26\n",
      "28700\n"
     ]
    },
    {
     "name": "stderr",
     "output_type": "stream",
     "text": [
      "100%|███████████████████████████████████████████████████████████████████████████████████| 1/1 [00:00<00:00, 499.86it/s]"
     ]
    },
    {
     "name": "stdout",
     "output_type": "stream",
     "text": [
      "[[1.14418161]\n",
      " [1.1781739 ]\n",
      " [1.55436003]\n",
      " [1.17755806]\n",
      " [1.18846321]]\n",
      "1.1441816091537476\n",
      "0.95\n",
      "28701\n"
     ]
    },
    {
     "name": "stderr",
     "output_type": "stream",
     "text": [
      "\n",
      "100%|██████████████████████████████████████████████████████████████████████████████████| 1/1 [00:00<00:00, 1000.79it/s]\n"
     ]
    },
    {
     "name": "stdout",
     "output_type": "stream",
     "text": [
      "[[1.07235813]\n",
      " [1.18498421]\n",
      " [1.8049953 ]\n",
      " [1.16969085]\n",
      " [1.21161687]]\n",
      "1.0723581314086914\n",
      "0.97\n",
      "28702\n"
     ]
    },
    {
     "name": "stderr",
     "output_type": "stream",
     "text": [
      "100%|███████████████████████████████████████████████████████████████████████████████████| 1/1 [00:00<00:00, 998.88it/s]\n"
     ]
    },
    {
     "name": "stdout",
     "output_type": "stream",
     "text": [
      "[[1.07510495]\n",
      " [1.19617975]\n",
      " [1.52442539]\n",
      " [1.15175128]\n",
      " [1.20119095]]\n",
      "1.0751049518585205\n",
      "0.64\n",
      "28703\n"
     ]
    },
    {
     "name": "stderr",
     "output_type": "stream",
     "text": [
      "100%|███████████████████████████████████████████████████████████████████████████████████| 1/1 [00:00<00:00, 998.88it/s]\n"
     ]
    },
    {
     "name": "stdout",
     "output_type": "stream",
     "text": [
      "[[1.07304466]\n",
      " [1.21283019]\n",
      " [1.06020617]\n",
      " [1.15629351]\n",
      " [1.18400371]]\n",
      "1.0730446577072144\n",
      "0.82\n",
      "28704\n"
     ]
    },
    {
     "name": "stderr",
     "output_type": "stream",
     "text": [
      "100%|██████████████████████████████████████████████████████████████████████████████████| 1/1 [00:00<00:00, 1001.98it/s]\n"
     ]
    },
    {
     "name": "stdout",
     "output_type": "stream",
     "text": [
      "[[0.99628752]\n",
      " [1.21577692]\n",
      " [1.21147251]\n",
      " [1.15201807]\n",
      " [1.1804415 ]]\n",
      "0.9962875247001648\n",
      "0.81\n",
      "28705\n"
     ]
    },
    {
     "name": "stderr",
     "output_type": "stream",
     "text": [
      "100%|██████████████████████████████████████████████████████████████████████████████████| 1/1 [00:00<00:00, 1000.79it/s]\n"
     ]
    },
    {
     "name": "stdout",
     "output_type": "stream",
     "text": [
      "[[1.12234843]\n",
      " [1.20363522]\n",
      " [1.2121172 ]\n",
      " [1.18444407]\n",
      " [1.08840322]]\n",
      "1.122348427772522\n",
      "0.52\n",
      "28706\n"
     ]
    },
    {
     "name": "stderr",
     "output_type": "stream",
     "text": [
      "100%|███████████████████████████████████████████████████████████████████████████████████| 1/1 [00:00<00:00, 999.36it/s]\n"
     ]
    },
    {
     "name": "stdout",
     "output_type": "stream",
     "text": [
      "[[1.1510359 ]\n",
      " [1.20951235]\n",
      " [1.1752733 ]\n",
      " [1.18710339]\n",
      " [1.02339458]]\n",
      "1.1510359048843384\n",
      "0.52\n",
      "28707\n"
     ]
    },
    {
     "name": "stderr",
     "output_type": "stream",
     "text": [
      "100%|███████████████████████████████████████████████████████████████████████████████████| 1/1 [00:00<00:00, 999.36it/s]\n"
     ]
    },
    {
     "name": "stdout",
     "output_type": "stream",
     "text": [
      "[[1.17396736]\n",
      " [1.19160235]\n",
      " [1.17201185]\n",
      " [1.18989456]\n",
      " [1.15506959]]\n",
      "1.1739673614501953\n",
      "0.76\n",
      "28708\n"
     ]
    },
    {
     "name": "stderr",
     "output_type": "stream",
     "text": [
      "100%|███████████████████████████████████████████████████████████████████████████████████| 1/1 [00:00<00:00, 499.98it/s]\n"
     ]
    },
    {
     "name": "stdout",
     "output_type": "stream",
     "text": [
      "[[1.1781739 ]\n",
      " [1.55436003]\n",
      " [1.17755806]\n",
      " [1.18846321]\n",
      " [1.20482838]]\n",
      "1.1781738996505737\n",
      "0.85\n",
      "28709\n"
     ]
    },
    {
     "name": "stderr",
     "output_type": "stream",
     "text": [
      "100%|███████████████████████████████████████████████████████████████████████████████████| 1/1 [00:00<00:00, 499.86it/s]\n"
     ]
    },
    {
     "name": "stdout",
     "output_type": "stream",
     "text": [
      "[[1.18498421]\n",
      " [1.8049953 ]\n",
      " [1.16969085]\n",
      " [1.21161687]\n",
      " [1.21996522]]\n",
      "1.1849842071533203\n",
      "0.79\n",
      "28710\n"
     ]
    },
    {
     "name": "stderr",
     "output_type": "stream",
     "text": [
      "100%|███████████████████████████████████████████████████████████████████████████████████| 1/1 [00:00<00:00, 499.98it/s]\n"
     ]
    },
    {
     "name": "stdout",
     "output_type": "stream",
     "text": [
      "[[1.19617975]\n",
      " [1.52442539]\n",
      " [1.15175128]\n",
      " [1.20119095]\n",
      " [1.19722593]]\n",
      "1.196179747581482\n",
      "0.0\n",
      "28711\n"
     ]
    },
    {
     "name": "stderr",
     "output_type": "stream",
     "text": [
      "100%|███████████████████████████████████████████████████████████████████████████████████| 1/1 [00:00<00:00, 999.83it/s]\n"
     ]
    },
    {
     "name": "stdout",
     "output_type": "stream",
     "text": [
      "[[1.21283019]\n",
      " [1.06020617]\n",
      " [1.15629351]\n",
      " [1.18400371]\n",
      " [0.27821553]]\n",
      "1.2128301858901978\n",
      "0.0\n",
      "28712\n"
     ]
    },
    {
     "name": "stderr",
     "output_type": "stream",
     "text": [
      "100%|███████████████████████████████████████████████████████████████████████████████████| 1/1 [00:00<00:00, 499.44it/s]\n"
     ]
    },
    {
     "name": "stdout",
     "output_type": "stream",
     "text": [
      "[[1.21577692]\n",
      " [1.21147251]\n",
      " [1.15201807]\n",
      " [1.1804415 ]\n",
      " [0.25224036]]\n",
      "1.2157769203186035\n",
      "0.0\n",
      "28713\n"
     ]
    },
    {
     "name": "stderr",
     "output_type": "stream",
     "text": [
      "100%|██████████████████████████████████████████████████████████████████████████████████| 1/1 [00:00<00:00, 1001.98it/s]\n"
     ]
    },
    {
     "name": "stdout",
     "output_type": "stream",
     "text": [
      "[[1.20363522]\n",
      " [1.2121172 ]\n",
      " [1.18444407]\n",
      " [1.08840322]\n",
      " [0.25398764]]\n",
      "1.2036352157592773\n",
      "1.34\n",
      "28714\n"
     ]
    },
    {
     "name": "stderr",
     "output_type": "stream",
     "text": [
      "100%|███████████████████████████████████████████████████████████████████████████████████| 1/1 [00:00<00:00, 998.64it/s]\n"
     ]
    },
    {
     "name": "stdout",
     "output_type": "stream",
     "text": [
      "[[1.20951235]\n",
      " [1.1752733 ]\n",
      " [1.18710339]\n",
      " [1.02339458]\n",
      " [1.18697369]]\n",
      "1.2095123529434204\n",
      "1.51\n",
      "28715\n"
     ]
    },
    {
     "name": "stderr",
     "output_type": "stream",
     "text": [
      "100%|███████████████████████████████████████████████████████████████████████████████████| 1/1 [00:00<00:00, 998.88it/s]\n"
     ]
    },
    {
     "name": "stdout",
     "output_type": "stream",
     "text": [
      "[[1.19160235]\n",
      " [1.17201185]\n",
      " [1.18989456]\n",
      " [1.15506959]\n",
      " [1.24939489]]\n",
      "1.191602349281311\n",
      "1.43\n",
      "28716\n"
     ]
    },
    {
     "name": "stderr",
     "output_type": "stream",
     "text": [
      "100%|███████████████████████████████████████████████████████████████████████████████████| 1/1 [00:00<00:00, 999.36it/s]\n"
     ]
    },
    {
     "name": "stdout",
     "output_type": "stream",
     "text": [
      "[[1.55436003]\n",
      " [1.17755806]\n",
      " [1.18846321]\n",
      " [1.20482838]\n",
      " [1.2382822 ]]\n",
      "1.554360032081604\n",
      "1.96\n",
      "28717\n"
     ]
    },
    {
     "name": "stderr",
     "output_type": "stream",
     "text": [
      "100%|███████████████████████████████████████████████████████████████████████████████████| 1/1 [00:00<00:00, 499.62it/s]\n"
     ]
    },
    {
     "name": "stdout",
     "output_type": "stream",
     "text": [
      "[[1.8049953 ]\n",
      " [1.16969085]\n",
      " [1.21161687]\n",
      " [1.21996522]\n",
      " [1.27125704]]\n",
      "1.8049952983856201\n",
      "2.03\n",
      "28718\n"
     ]
    },
    {
     "name": "stderr",
     "output_type": "stream",
     "text": [
      "100%|███████████████████████████████████████████████████████████████████████████████████| 1/1 [00:00<00:00, 499.50it/s]\n"
     ]
    },
    {
     "name": "stdout",
     "output_type": "stream",
     "text": [
      "[[1.52442539]\n",
      " [1.15175128]\n",
      " [1.20119095]\n",
      " [1.19722593]\n",
      " [1.30217791]]\n",
      "1.5244253873825073\n",
      "2.36\n",
      "28719\n"
     ]
    },
    {
     "name": "stderr",
     "output_type": "stream",
     "text": [
      "100%|███████████████████████████████████████████████████████████████████████████████████| 1/1 [00:00<00:00, 499.74it/s]\n"
     ]
    },
    {
     "name": "stdout",
     "output_type": "stream",
     "text": [
      "[[1.06020617]\n",
      " [1.15629351]\n",
      " [1.18400371]\n",
      " [0.27821553]\n",
      " [1.24938929]]\n",
      "1.0602061748504639\n",
      "2.83\n",
      "28720\n"
     ]
    },
    {
     "name": "stderr",
     "output_type": "stream",
     "text": [
      "100%|███████████████████████████████████████████████████████████████████████████████████| 1/1 [00:00<00:00, 505.95it/s]\n"
     ]
    },
    {
     "name": "stdout",
     "output_type": "stream",
     "text": [
      "[[1.21147251]\n",
      " [1.15201807]\n",
      " [1.1804415 ]\n",
      " [0.25224036]\n",
      " [1.28873885]]\n",
      "1.211472511291504\n",
      "3.1\n",
      "28721\n"
     ]
    },
    {
     "name": "stderr",
     "output_type": "stream",
     "text": [
      "100%|██████████████████████████████████████████████████████████████████████████████████| 1/1 [00:00<00:00, 1000.79it/s]\n"
     ]
    },
    {
     "name": "stdout",
     "output_type": "stream",
     "text": [
      "[[1.2121172 ]\n",
      " [1.18444407]\n",
      " [1.08840322]\n",
      " [0.25398764]\n",
      " [1.31131899]]\n",
      "1.2121171951293945\n",
      "4.05\n",
      "28722\n"
     ]
    },
    {
     "name": "stderr",
     "output_type": "stream",
     "text": [
      "100%|███████████████████████████████████████████████████████████████████████████████████| 1/1 [00:00<00:00, 999.83it/s]\n"
     ]
    },
    {
     "name": "stdout",
     "output_type": "stream",
     "text": [
      "[[1.1752733 ]\n",
      " [1.18710339]\n",
      " [1.02339458]\n",
      " [1.18697369]\n",
      " [1.08461571]]\n",
      "1.1752732992172241\n",
      "4.72\n",
      "28723\n"
     ]
    },
    {
     "name": "stderr",
     "output_type": "stream",
     "text": [
      "100%|███████████████████████████████████████████████████████████████████████████████████| 1/1 [00:00<00:00, 500.16it/s]\n"
     ]
    },
    {
     "name": "stdout",
     "output_type": "stream",
     "text": [
      "[[1.17201185]\n",
      " [1.18989456]\n",
      " [1.15506959]\n",
      " [1.24939489]\n",
      " [1.27996552]]\n",
      "1.1720118522644043\n",
      "4.14\n",
      "28724\n"
     ]
    },
    {
     "name": "stderr",
     "output_type": "stream",
     "text": [
      "100%|███████████████████████████████████████████████████████████████████████████████████| 1/1 [00:00<00:00, 500.04it/s]\n"
     ]
    },
    {
     "name": "stdout",
     "output_type": "stream",
     "text": [
      "[[1.17755806]\n",
      " [1.18846321]\n",
      " [1.20482838]\n",
      " [1.2382822 ]\n",
      " [1.04812086]]\n",
      "1.1775580644607544\n",
      "4.23\n",
      "28725\n"
     ]
    },
    {
     "name": "stderr",
     "output_type": "stream",
     "text": [
      "100%|███████████████████████████████████████████████████████████████████████████████████| 1/1 [00:00<00:00, 999.83it/s]\n"
     ]
    },
    {
     "name": "stdout",
     "output_type": "stream",
     "text": [
      "[[1.16969085]\n",
      " [1.21161687]\n",
      " [1.21996522]\n",
      " [1.27125704]\n",
      " [1.04311156]]\n",
      "1.1696908473968506\n",
      "4.32\n",
      "28726\n"
     ]
    },
    {
     "name": "stderr",
     "output_type": "stream",
     "text": [
      "100%|███████████████████████████████████████████████████████████████████████████████████| 1/1 [00:00<00:00, 998.64it/s]\n"
     ]
    },
    {
     "name": "stdout",
     "output_type": "stream",
     "text": [
      "[[1.15175128]\n",
      " [1.20119095]\n",
      " [1.19722593]\n",
      " [1.30217791]\n",
      " [1.19982278]]\n",
      "1.1517512798309326\n",
      "5.11\n",
      "28727\n"
     ]
    },
    {
     "name": "stderr",
     "output_type": "stream",
     "text": [
      "100%|███████████████████████████████████████████████████████████████████████████████████| 1/1 [00:00<00:00, 500.10it/s]\n"
     ]
    },
    {
     "name": "stdout",
     "output_type": "stream",
     "text": [
      "[[1.15629351]\n",
      " [1.18400371]\n",
      " [0.27821553]\n",
      " [1.24938929]\n",
      " [1.03667045]]\n",
      "1.156293511390686\n",
      "5.78\n",
      "28728\n"
     ]
    },
    {
     "name": "stderr",
     "output_type": "stream",
     "text": [
      "100%|███████████████████████████████████████████████████████████████████████████████████| 1/1 [00:00<00:00, 999.60it/s]\n"
     ]
    },
    {
     "name": "stdout",
     "output_type": "stream",
     "text": [
      "[[1.15201807]\n",
      " [1.1804415 ]\n",
      " [0.25224036]\n",
      " [1.28873885]\n",
      " [1.12216699]]\n",
      "1.1520180702209473\n",
      "5.8\n",
      "28729\n"
     ]
    },
    {
     "name": "stderr",
     "output_type": "stream",
     "text": [
      "100%|███████████████████████████████████████████████████████████████████████████████████| 1/1 [00:00<00:00, 997.93it/s]\n"
     ]
    },
    {
     "name": "stdout",
     "output_type": "stream",
     "text": [
      "[[1.18444407]\n",
      " [1.08840322]\n",
      " [0.25398764]\n",
      " [1.31131899]\n",
      " [1.06415248]]\n",
      "1.1844440698623657\n",
      "5.55\n",
      "28730\n"
     ]
    },
    {
     "name": "stderr",
     "output_type": "stream",
     "text": [
      "100%|███████████████████████████████████████████████████████████████████████████████████| 1/1 [00:00<00:00, 998.64it/s]\n"
     ]
    },
    {
     "name": "stdout",
     "output_type": "stream",
     "text": [
      "[[1.18710339]\n",
      " [1.02339458]\n",
      " [1.18697369]\n",
      " [1.08461571]\n",
      " [1.08971   ]]\n",
      "1.1871033906936646\n",
      "5.11\n",
      "28731\n"
     ]
    },
    {
     "name": "stderr",
     "output_type": "stream",
     "text": [
      "100%|██████████████████████████████████████████████████████████████████████████████████| 1/1 [00:00<00:00, 1001.03it/s]\n"
     ]
    },
    {
     "name": "stdout",
     "output_type": "stream",
     "text": [
      "[[1.18989456]\n",
      " [1.15506959]\n",
      " [1.24939489]\n",
      " [1.27996552]\n",
      " [1.06257856]]\n",
      "1.1898945569992065\n",
      "5.43\n",
      "28732\n"
     ]
    },
    {
     "name": "stderr",
     "output_type": "stream",
     "text": [
      "100%|███████████████████████████████████████████████████████████████████████████████████| 1/1 [00:00<00:00, 500.10it/s]\n"
     ]
    },
    {
     "name": "stdout",
     "output_type": "stream",
     "text": [
      "[[1.18846321]\n",
      " [1.20482838]\n",
      " [1.2382822 ]\n",
      " [1.04812086]\n",
      " [1.05784833]]\n",
      "1.1884632110595703\n",
      "7.15\n",
      "28733\n"
     ]
    },
    {
     "name": "stderr",
     "output_type": "stream",
     "text": [
      "100%|███████████████████████████████████████████████████████████████████████████████████| 1/1 [00:00<00:00, 999.36it/s]\n"
     ]
    },
    {
     "name": "stdout",
     "output_type": "stream",
     "text": [
      "[[1.21161687]\n",
      " [1.21996522]\n",
      " [1.27125704]\n",
      " [1.04311156]\n",
      " [1.19263053]]\n",
      "1.21161687374115\n",
      "7.79\n",
      "28734\n"
     ]
    },
    {
     "name": "stderr",
     "output_type": "stream",
     "text": [
      "100%|███████████████████████████████████████████████████████████████████████████████████| 1/1 [00:00<00:00, 999.60it/s]\n"
     ]
    },
    {
     "name": "stdout",
     "output_type": "stream",
     "text": [
      "[[1.20119095]\n",
      " [1.19722593]\n",
      " [1.30217791]\n",
      " [1.19982278]\n",
      " [1.00916839]]\n",
      "1.2011909484863281\n",
      "7.94\n",
      "28735\n"
     ]
    },
    {
     "name": "stderr",
     "output_type": "stream",
     "text": [
      "100%|███████████████████████████████████████████████████████████████████████████████████| 1/1 [00:00<00:00, 500.16it/s]\n"
     ]
    },
    {
     "name": "stdout",
     "output_type": "stream",
     "text": [
      "[[1.18400371]\n",
      " [0.27821553]\n",
      " [1.24938929]\n",
      " [1.03667045]\n",
      " [1.07111752]]\n",
      "1.1840037107467651\n",
      "8.09\n",
      "28736\n"
     ]
    },
    {
     "name": "stderr",
     "output_type": "stream",
     "text": [
      "100%|██████████████████████████████████████████████████████████████████████████████████| 1/1 [00:00<00:00, 1000.31it/s]"
     ]
    },
    {
     "name": "stdout",
     "output_type": "stream",
     "text": [
      "[[1.1804415 ]\n",
      " [0.25224036]\n",
      " [1.28873885]\n",
      " [1.12216699]\n",
      " [1.07863462]]\n",
      "1.1804414987564087\n",
      "7.16\n",
      "28737\n"
     ]
    },
    {
     "name": "stderr",
     "output_type": "stream",
     "text": [
      "\n",
      "100%|██████████████████████████████████████████████████████████████████████████████████| 1/1 [00:00<00:00, 1000.07it/s]\n"
     ]
    },
    {
     "name": "stdout",
     "output_type": "stream",
     "text": [
      "[[1.08840322]\n",
      " [0.25398764]\n",
      " [1.31131899]\n",
      " [1.06415248]\n",
      " [1.02809858]]\n",
      "1.0884032249450684\n",
      "6.66\n",
      "28738\n"
     ]
    },
    {
     "name": "stderr",
     "output_type": "stream",
     "text": [
      "100%|███████████████████████████████████████████████████████████████████████████████████| 1/1 [00:00<00:00, 999.83it/s]\n"
     ]
    },
    {
     "name": "stdout",
     "output_type": "stream",
     "text": [
      "[[1.02339458]\n",
      " [1.18697369]\n",
      " [1.08461571]\n",
      " [1.08971   ]\n",
      " [1.07145321]]\n",
      "1.0233945846557617\n",
      "6.16\n",
      "28739\n"
     ]
    },
    {
     "name": "stderr",
     "output_type": "stream",
     "text": [
      "100%|███████████████████████████████████████████████████████████████████████████████████| 1/1 [00:00<00:00, 499.80it/s]\n"
     ]
    },
    {
     "name": "stdout",
     "output_type": "stream",
     "text": [
      "[[1.15506959]\n",
      " [1.24939489]\n",
      " [1.27996552]\n",
      " [1.06257856]\n",
      " [1.04751468]]\n",
      "1.1550695896148682\n",
      "6.34\n",
      "28740\n"
     ]
    },
    {
     "name": "stderr",
     "output_type": "stream",
     "text": [
      "100%|███████████████████████████████████████████████████████████████████████████████████| 1/1 [00:00<00:00, 500.22it/s]\n"
     ]
    },
    {
     "name": "stdout",
     "output_type": "stream",
     "text": [
      "[[1.20482838]\n",
      " [1.2382822 ]\n",
      " [1.04812086]\n",
      " [1.05784833]\n",
      " [0.99936366]]\n",
      "1.2048283815383911\n",
      "6.78\n",
      "28741\n"
     ]
    },
    {
     "name": "stderr",
     "output_type": "stream",
     "text": [
      "100%|███████████████████████████████████████████████████████████████████████████████████| 1/1 [00:00<00:00, 499.44it/s]\n"
     ]
    },
    {
     "name": "stdout",
     "output_type": "stream",
     "text": [
      "[[1.21996522]\n",
      " [1.27125704]\n",
      " [1.04311156]\n",
      " [1.19263053]\n",
      " [1.02536368]]\n",
      "1.2199652194976807\n",
      "7.35\n",
      "28742\n"
     ]
    },
    {
     "name": "stderr",
     "output_type": "stream",
     "text": [
      "100%|██████████████████████████████████████████████████████████████████████████████████| 1/1 [00:00<00:00, 1000.31it/s]\n"
     ]
    },
    {
     "name": "stdout",
     "output_type": "stream",
     "text": [
      "[[1.19722593]\n",
      " [1.30217791]\n",
      " [1.19982278]\n",
      " [1.00916839]\n",
      " [1.01535904]]\n",
      "1.1972259283065796\n",
      "8.1\n",
      "28743\n"
     ]
    },
    {
     "name": "stderr",
     "output_type": "stream",
     "text": [
      "100%|███████████████████████████████████████████████████████████████████████████████████| 1/1 [00:00<00:00, 500.27it/s]\n"
     ]
    },
    {
     "name": "stdout",
     "output_type": "stream",
     "text": [
      "[[0.27821553]\n",
      " [1.24938929]\n",
      " [1.03667045]\n",
      " [1.07111752]\n",
      " [1.03554535]]\n",
      "0.27821552753448486\n",
      "8.37\n",
      "28744\n"
     ]
    },
    {
     "name": "stderr",
     "output_type": "stream",
     "text": [
      "100%|██████████████████████████████████████████████████████████████████████████████████| 1/1 [00:00<00:00, 1000.79it/s]\n"
     ]
    },
    {
     "name": "stdout",
     "output_type": "stream",
     "text": [
      "[[0.25224036]\n",
      " [1.28873885]\n",
      " [1.12216699]\n",
      " [1.07863462]\n",
      " [1.01774812]]\n",
      "0.2522403597831726\n",
      "8.09\n",
      "28745\n"
     ]
    },
    {
     "name": "stderr",
     "output_type": "stream",
     "text": [
      "100%|███████████████████████████████████████████████████████████████████████████████████| 1/1 [00:00<00:00, 999.36it/s]\n"
     ]
    },
    {
     "name": "stdout",
     "output_type": "stream",
     "text": [
      "[[0.25398764]\n",
      " [1.31131899]\n",
      " [1.06415248]\n",
      " [1.02809858]\n",
      " [1.0232507 ]]\n",
      "0.2539876401424408\n",
      "5.65\n",
      "28746\n"
     ]
    },
    {
     "name": "stderr",
     "output_type": "stream",
     "text": [
      "100%|███████████████████████████████████████████████████████████████████████████████████| 1/1 [00:00<00:00, 999.83it/s]\n"
     ]
    },
    {
     "name": "stdout",
     "output_type": "stream",
     "text": [
      "[[1.18697369]\n",
      " [1.08461571]\n",
      " [1.08971   ]\n",
      " [1.07145321]\n",
      " [1.01202226]]\n",
      "1.1869736909866333\n",
      "4.23\n",
      "28747\n"
     ]
    },
    {
     "name": "stderr",
     "output_type": "stream",
     "text": [
      "100%|███████████████████████████████████████████████████████████████████████████████████| 1/1 [00:00<00:00, 999.60it/s]\n"
     ]
    },
    {
     "name": "stdout",
     "output_type": "stream",
     "text": [
      "[[1.24939489]\n",
      " [1.27996552]\n",
      " [1.06257856]\n",
      " [1.04751468]\n",
      " [1.03861296]]\n",
      "1.2493948936462402\n",
      "5.29\n",
      "28748\n"
     ]
    },
    {
     "name": "stderr",
     "output_type": "stream",
     "text": [
      "100%|███████████████████████████████████████████████████████████████████████████████████| 1/1 [00:00<00:00, 500.45it/s]\n"
     ]
    },
    {
     "name": "stdout",
     "output_type": "stream",
     "text": [
      "[[1.2382822 ]\n",
      " [1.04812086]\n",
      " [1.05784833]\n",
      " [0.99936366]\n",
      " [1.02638721]]\n",
      "1.2382822036743164\n",
      "4.82\n",
      "28749\n"
     ]
    },
    {
     "name": "stderr",
     "output_type": "stream",
     "text": [
      "100%|███████████████████████████████████████████████████████████████████████████████████| 1/1 [00:00<00:00, 999.36it/s]\n"
     ]
    },
    {
     "name": "stdout",
     "output_type": "stream",
     "text": [
      "[[1.27125704]\n",
      " [1.04311156]\n",
      " [1.19263053]\n",
      " [1.02536368]\n",
      " [1.18266392]]\n",
      "1.2712570428848267\n",
      "5.1\n",
      "28750\n"
     ]
    },
    {
     "name": "stderr",
     "output_type": "stream",
     "text": [
      "100%|███████████████████████████████████████████████████████████████████████████████████| 1/1 [00:00<00:00, 998.88it/s]\n"
     ]
    },
    {
     "name": "stdout",
     "output_type": "stream",
     "text": [
      "[[1.30217791]\n",
      " [1.19982278]\n",
      " [1.00916839]\n",
      " [1.01535904]\n",
      " [1.04682422]]\n",
      "1.302177906036377\n",
      "5.8\n",
      "28751\n"
     ]
    },
    {
     "name": "stderr",
     "output_type": "stream",
     "text": [
      "100%|███████████████████████████████████████████████████████████████████████████████████| 1/1 [00:00<00:00, 999.60it/s]\n"
     ]
    },
    {
     "name": "stdout",
     "output_type": "stream",
     "text": [
      "[[1.24938929]\n",
      " [1.03667045]\n",
      " [1.07111752]\n",
      " [1.03554535]\n",
      " [1.07555544]]\n",
      "1.2493892908096313\n",
      "6.07\n",
      "28752\n"
     ]
    },
    {
     "name": "stderr",
     "output_type": "stream",
     "text": [
      "100%|███████████████████████████████████████████████████████████████████████████████████| 1/1 [00:00<00:00, 500.27it/s]\n"
     ]
    },
    {
     "name": "stdout",
     "output_type": "stream",
     "text": [
      "[[1.28873885]\n",
      " [1.12216699]\n",
      " [1.07863462]\n",
      " [1.01774812]\n",
      " [1.06636274]]\n",
      "1.2887388467788696\n",
      "6.27\n",
      "28753\n"
     ]
    },
    {
     "name": "stderr",
     "output_type": "stream",
     "text": [
      "100%|███████████████████████████████████████████████████████████████████████████████████| 1/1 [00:00<00:00, 500.10it/s]\n"
     ]
    },
    {
     "name": "stdout",
     "output_type": "stream",
     "text": [
      "[[1.31131899]\n",
      " [1.06415248]\n",
      " [1.02809858]\n",
      " [1.0232507 ]\n",
      " [1.09056592]]\n",
      "1.3113189935684204\n",
      "6.38\n",
      "28754\n"
     ]
    },
    {
     "name": "stderr",
     "output_type": "stream",
     "text": [
      "100%|███████████████████████████████████████████████████████████████████████████████████| 1/1 [00:00<00:00, 500.10it/s]\n"
     ]
    },
    {
     "name": "stdout",
     "output_type": "stream",
     "text": [
      "[[1.08461571]\n",
      " [1.08971   ]\n",
      " [1.07145321]\n",
      " [1.01202226]\n",
      " [1.18209207]]\n",
      "1.084615707397461\n",
      "5.44\n",
      "28755\n"
     ]
    },
    {
     "name": "stderr",
     "output_type": "stream",
     "text": [
      "100%|███████████████████████████████████████████████████████████████████████████████████| 1/1 [00:00<00:00, 500.10it/s]"
     ]
    },
    {
     "name": "stdout",
     "output_type": "stream",
     "text": [
      "[[1.27996552]\n",
      " [1.06257856]\n",
      " [1.04751468]\n",
      " [1.03861296]\n",
      " [1.15683496]]\n",
      "1.2799655199050903\n",
      "4.7\n",
      "28756\n"
     ]
    },
    {
     "name": "stderr",
     "output_type": "stream",
     "text": [
      "\n",
      "100%|██████████████████████████████████████████████████████████████████████████████████| 1/1 [00:00<00:00, 1000.79it/s]\n"
     ]
    },
    {
     "name": "stdout",
     "output_type": "stream",
     "text": [
      "[[1.04812086]\n",
      " [1.05784833]\n",
      " [0.99936366]\n",
      " [1.02638721]\n",
      " [1.05430079]]\n",
      "1.0481208562850952\n",
      "3.53\n",
      "28757\n"
     ]
    },
    {
     "name": "stderr",
     "output_type": "stream",
     "text": [
      "100%|██████████████████████████████████████████████████████████████████████████████████| 1/1 [00:00<00:00, 1000.31it/s]\n"
     ]
    },
    {
     "name": "stdout",
     "output_type": "stream",
     "text": [
      "[[1.04311156]\n",
      " [1.19263053]\n",
      " [1.02536368]\n",
      " [1.18266392]\n",
      " [1.04390931]]\n",
      "1.0431115627288818\n",
      "3.5\n",
      "28758\n"
     ]
    },
    {
     "name": "stderr",
     "output_type": "stream",
     "text": [
      "100%|███████████████████████████████████████████████████████████████████████████████████| 1/1 [00:00<00:00, 999.83it/s]\n"
     ]
    },
    {
     "name": "stdout",
     "output_type": "stream",
     "text": [
      "[[1.19982278]\n",
      " [1.00916839]\n",
      " [1.01535904]\n",
      " [1.04682422]\n",
      " [1.0692246 ]]\n",
      "1.1998227834701538\n",
      "4.26\n",
      "28759\n"
     ]
    },
    {
     "name": "stderr",
     "output_type": "stream",
     "text": [
      "100%|██████████████████████████████████████████████████████████████████████████████████| 1/1 [00:00<00:00, 1000.55it/s]"
     ]
    },
    {
     "name": "stdout",
     "output_type": "stream",
     "text": [
      "[[1.03667045]\n",
      " [1.07111752]\n",
      " [1.03554535]\n",
      " [1.07555544]\n",
      " [1.07416213]]\n",
      "1.036670446395874\n",
      "3.97\n"
     ]
    },
    {
     "name": "stderr",
     "output_type": "stream",
     "text": [
      "\n"
     ]
    }
   ],
   "source": [
    "# test 루틴\n",
    "\n",
    "start_ind = 28600\n",
    "\n",
    "\n",
    "\n",
    "for ind in range(start_ind, 28800-train_seq):\n",
    "    print(ind)\n",
    "    \n",
    "    # 이전 프레임 가져오기.\n",
    "    test_data_list = [x for x in range( ind, ind+train_seq)]    \n",
    "    \n",
    "    test_data = test_oriented.loc[ test_data_list ]\n",
    "    #test_data = test_data[test_data['TurbID']==1]\n",
    "    #전처리했다면, X_data로 불러와야함.\n",
    "    \n",
    "    \n",
    "    test_data = test_data.drop([\"TurbID\",\"Tmstamp\",\"Day\",\"Patv\",\"Pab2\",\"Pab3\",\"Etmp\",\"Ndir\",\"Wspd_y\"], axis = 1)\n",
    "    test_data = np.array(test_data).reshape( -1, train_x[0].shape[0], train_x[0].shape[1] )\n",
    "    \n",
    "    test_dataset = TimeDataset(test_data, None)\n",
    "\n",
    "    test_loader = DataLoader(test_dataset, \n",
    "                              batch_size = BATCH_SIZE,\n",
    "                              shuffle=False)\n",
    "    \n",
    "    preds = predict(model,test_loader)\n",
    "    print(preds)\n",
    "    test_oriented.loc[ind+train_seq,'Wspd'] = preds[0]\n",
    "    print(test_oriented.loc[ind+train_seq,'Wspd'])\n",
    "    print(test_oriented.loc[ind+train_seq,'Wspd_y'])\n",
    "    \n"
   ]
  },
  {
   "cell_type": "code",
   "execution_count": 362,
   "id": "695b5e52",
   "metadata": {},
   "outputs": [
    {
     "data": {
      "text/plain": [
       "1.8293794393539429"
      ]
     },
     "execution_count": 362,
     "metadata": {},
     "output_type": "execute_result"
    }
   ],
   "source": [
    "test_oriented.loc[start_ind+train_seq,'Wspd']"
   ]
  },
  {
   "cell_type": "code",
   "execution_count": 363,
   "id": "283bb573",
   "metadata": {},
   "outputs": [
    {
     "data": {
      "text/html": [
       "<div>\n",
       "<style scoped>\n",
       "    .dataframe tbody tr th:only-of-type {\n",
       "        vertical-align: middle;\n",
       "    }\n",
       "\n",
       "    .dataframe tbody tr th {\n",
       "        vertical-align: top;\n",
       "    }\n",
       "\n",
       "    .dataframe thead th {\n",
       "        text-align: right;\n",
       "    }\n",
       "</style>\n",
       "<table border=\"1\" class=\"dataframe\">\n",
       "  <thead>\n",
       "    <tr style=\"text-align: right;\">\n",
       "      <th></th>\n",
       "      <th>TurbID</th>\n",
       "      <th>Day</th>\n",
       "      <th>Tmstamp</th>\n",
       "      <th>Wspd</th>\n",
       "      <th>Wdir</th>\n",
       "      <th>Etmp</th>\n",
       "      <th>Itmp</th>\n",
       "      <th>Ndir</th>\n",
       "      <th>Pab1</th>\n",
       "      <th>Pab2</th>\n",
       "      <th>Pab3</th>\n",
       "      <th>Prtv</th>\n",
       "      <th>Patv</th>\n",
       "      <th>Wspd_y</th>\n",
       "    </tr>\n",
       "  </thead>\n",
       "  <tbody>\n",
       "    <tr>\n",
       "      <th>28680</th>\n",
       "      <td>1</td>\n",
       "      <td>200</td>\n",
       "      <td>04:00</td>\n",
       "      <td>1.829379</td>\n",
       "      <td>-21.24</td>\n",
       "      <td>10.60</td>\n",
       "      <td>30.49</td>\n",
       "      <td>225.54</td>\n",
       "      <td>1.90</td>\n",
       "      <td>1.90</td>\n",
       "      <td>1.90</td>\n",
       "      <td>-0.30</td>\n",
       "      <td>0.00</td>\n",
       "      <td>2.09</td>\n",
       "    </tr>\n",
       "    <tr>\n",
       "      <th>28681</th>\n",
       "      <td>1</td>\n",
       "      <td>200</td>\n",
       "      <td>04:10</td>\n",
       "      <td>1.854298</td>\n",
       "      <td>-24.42</td>\n",
       "      <td>10.67</td>\n",
       "      <td>30.11</td>\n",
       "      <td>225.54</td>\n",
       "      <td>1.90</td>\n",
       "      <td>1.90</td>\n",
       "      <td>1.90</td>\n",
       "      <td>-0.30</td>\n",
       "      <td>0.00</td>\n",
       "      <td>2.60</td>\n",
       "    </tr>\n",
       "    <tr>\n",
       "      <th>28682</th>\n",
       "      <td>1</td>\n",
       "      <td>200</td>\n",
       "      <td>04:20</td>\n",
       "      <td>1.876272</td>\n",
       "      <td>-35.31</td>\n",
       "      <td>10.48</td>\n",
       "      <td>29.64</td>\n",
       "      <td>225.54</td>\n",
       "      <td>1.90</td>\n",
       "      <td>1.90</td>\n",
       "      <td>1.90</td>\n",
       "      <td>-0.30</td>\n",
       "      <td>0.00</td>\n",
       "      <td>2.88</td>\n",
       "    </tr>\n",
       "    <tr>\n",
       "      <th>28683</th>\n",
       "      <td>1</td>\n",
       "      <td>200</td>\n",
       "      <td>04:30</td>\n",
       "      <td>1.923376</td>\n",
       "      <td>-34.62</td>\n",
       "      <td>10.31</td>\n",
       "      <td>29.11</td>\n",
       "      <td>225.54</td>\n",
       "      <td>1.90</td>\n",
       "      <td>1.90</td>\n",
       "      <td>1.90</td>\n",
       "      <td>-0.30</td>\n",
       "      <td>0.00</td>\n",
       "      <td>2.94</td>\n",
       "    </tr>\n",
       "    <tr>\n",
       "      <th>28684</th>\n",
       "      <td>1</td>\n",
       "      <td>200</td>\n",
       "      <td>04:40</td>\n",
       "      <td>1.962655</td>\n",
       "      <td>-5.96</td>\n",
       "      <td>9.97</td>\n",
       "      <td>28.82</td>\n",
       "      <td>200.95</td>\n",
       "      <td>1.84</td>\n",
       "      <td>1.84</td>\n",
       "      <td>1.84</td>\n",
       "      <td>-0.30</td>\n",
       "      <td>0.00</td>\n",
       "      <td>2.75</td>\n",
       "    </tr>\n",
       "    <tr>\n",
       "      <th>28685</th>\n",
       "      <td>1</td>\n",
       "      <td>200</td>\n",
       "      <td>04:50</td>\n",
       "      <td>2.046570</td>\n",
       "      <td>2.17</td>\n",
       "      <td>9.45</td>\n",
       "      <td>28.90</td>\n",
       "      <td>198.59</td>\n",
       "      <td>1.81</td>\n",
       "      <td>1.81</td>\n",
       "      <td>1.81</td>\n",
       "      <td>-0.30</td>\n",
       "      <td>0.00</td>\n",
       "      <td>2.68</td>\n",
       "    </tr>\n",
       "    <tr>\n",
       "      <th>28686</th>\n",
       "      <td>1</td>\n",
       "      <td>200</td>\n",
       "      <td>05:00</td>\n",
       "      <td>2.058394</td>\n",
       "      <td>1.30</td>\n",
       "      <td>9.32</td>\n",
       "      <td>28.92</td>\n",
       "      <td>198.59</td>\n",
       "      <td>1.81</td>\n",
       "      <td>1.81</td>\n",
       "      <td>1.81</td>\n",
       "      <td>-0.30</td>\n",
       "      <td>0.00</td>\n",
       "      <td>2.91</td>\n",
       "    </tr>\n",
       "    <tr>\n",
       "      <th>28687</th>\n",
       "      <td>1</td>\n",
       "      <td>200</td>\n",
       "      <td>05:10</td>\n",
       "      <td>2.095696</td>\n",
       "      <td>-4.63</td>\n",
       "      <td>9.33</td>\n",
       "      <td>29.08</td>\n",
       "      <td>198.59</td>\n",
       "      <td>1.81</td>\n",
       "      <td>1.81</td>\n",
       "      <td>1.81</td>\n",
       "      <td>-0.30</td>\n",
       "      <td>0.00</td>\n",
       "      <td>2.85</td>\n",
       "    </tr>\n",
       "    <tr>\n",
       "      <th>28688</th>\n",
       "      <td>1</td>\n",
       "      <td>200</td>\n",
       "      <td>05:20</td>\n",
       "      <td>2.141481</td>\n",
       "      <td>-5.73</td>\n",
       "      <td>9.34</td>\n",
       "      <td>29.06</td>\n",
       "      <td>194.13</td>\n",
       "      <td>1.81</td>\n",
       "      <td>1.81</td>\n",
       "      <td>1.81</td>\n",
       "      <td>-0.30</td>\n",
       "      <td>0.00</td>\n",
       "      <td>2.90</td>\n",
       "    </tr>\n",
       "    <tr>\n",
       "      <th>28689</th>\n",
       "      <td>1</td>\n",
       "      <td>200</td>\n",
       "      <td>05:30</td>\n",
       "      <td>2.164484</td>\n",
       "      <td>3.33</td>\n",
       "      <td>9.16</td>\n",
       "      <td>28.82</td>\n",
       "      <td>189.80</td>\n",
       "      <td>1.29</td>\n",
       "      <td>1.29</td>\n",
       "      <td>1.29</td>\n",
       "      <td>-0.10</td>\n",
       "      <td>59.96</td>\n",
       "      <td>3.26</td>\n",
       "    </tr>\n",
       "    <tr>\n",
       "      <th>28690</th>\n",
       "      <td>1</td>\n",
       "      <td>200</td>\n",
       "      <td>05:40</td>\n",
       "      <td>2.166011</td>\n",
       "      <td>-0.30</td>\n",
       "      <td>9.95</td>\n",
       "      <td>28.75</td>\n",
       "      <td>194.61</td>\n",
       "      <td>0.99</td>\n",
       "      <td>0.99</td>\n",
       "      <td>0.99</td>\n",
       "      <td>-0.26</td>\n",
       "      <td>132.50</td>\n",
       "      <td>3.40</td>\n",
       "    </tr>\n",
       "    <tr>\n",
       "      <th>28691</th>\n",
       "      <td>1</td>\n",
       "      <td>200</td>\n",
       "      <td>05:50</td>\n",
       "      <td>2.295375</td>\n",
       "      <td>-3.47</td>\n",
       "      <td>10.24</td>\n",
       "      <td>28.90</td>\n",
       "      <td>190.58</td>\n",
       "      <td>0.99</td>\n",
       "      <td>0.99</td>\n",
       "      <td>0.99</td>\n",
       "      <td>-0.25</td>\n",
       "      <td>183.87</td>\n",
       "      <td>3.81</td>\n",
       "    </tr>\n",
       "    <tr>\n",
       "      <th>28692</th>\n",
       "      <td>1</td>\n",
       "      <td>200</td>\n",
       "      <td>06:00</td>\n",
       "      <td>2.404840</td>\n",
       "      <td>-2.83</td>\n",
       "      <td>10.36</td>\n",
       "      <td>28.83</td>\n",
       "      <td>186.02</td>\n",
       "      <td>0.99</td>\n",
       "      <td>0.99</td>\n",
       "      <td>0.99</td>\n",
       "      <td>-0.25</td>\n",
       "      <td>194.77</td>\n",
       "      <td>3.91</td>\n",
       "    </tr>\n",
       "    <tr>\n",
       "      <th>28693</th>\n",
       "      <td>1</td>\n",
       "      <td>200</td>\n",
       "      <td>06:10</td>\n",
       "      <td>2.493916</td>\n",
       "      <td>3.70</td>\n",
       "      <td>10.85</td>\n",
       "      <td>28.82</td>\n",
       "      <td>189.39</td>\n",
       "      <td>0.99</td>\n",
       "      <td>0.99</td>\n",
       "      <td>0.99</td>\n",
       "      <td>-0.26</td>\n",
       "      <td>157.93</td>\n",
       "      <td>3.47</td>\n",
       "    </tr>\n",
       "    <tr>\n",
       "      <th>28694</th>\n",
       "      <td>1</td>\n",
       "      <td>200</td>\n",
       "      <td>06:20</td>\n",
       "      <td>2.560703</td>\n",
       "      <td>-2.31</td>\n",
       "      <td>10.81</td>\n",
       "      <td>28.84</td>\n",
       "      <td>193.05</td>\n",
       "      <td>0.99</td>\n",
       "      <td>0.99</td>\n",
       "      <td>0.99</td>\n",
       "      <td>-0.26</td>\n",
       "      <td>172.73</td>\n",
       "      <td>3.61</td>\n",
       "    </tr>\n",
       "    <tr>\n",
       "      <th>28695</th>\n",
       "      <td>1</td>\n",
       "      <td>200</td>\n",
       "      <td>06:30</td>\n",
       "      <td>2.660525</td>\n",
       "      <td>3.19</td>\n",
       "      <td>10.95</td>\n",
       "      <td>28.99</td>\n",
       "      <td>186.94</td>\n",
       "      <td>0.99</td>\n",
       "      <td>0.99</td>\n",
       "      <td>0.99</td>\n",
       "      <td>-0.24</td>\n",
       "      <td>101.19</td>\n",
       "      <td>2.76</td>\n",
       "    </tr>\n",
       "    <tr>\n",
       "      <th>28696</th>\n",
       "      <td>1</td>\n",
       "      <td>200</td>\n",
       "      <td>06:40</td>\n",
       "      <td>2.709017</td>\n",
       "      <td>0.01</td>\n",
       "      <td>10.94</td>\n",
       "      <td>29.14</td>\n",
       "      <td>198.61</td>\n",
       "      <td>0.99</td>\n",
       "      <td>0.99</td>\n",
       "      <td>0.99</td>\n",
       "      <td>-0.28</td>\n",
       "      <td>146.98</td>\n",
       "      <td>3.59</td>\n",
       "    </tr>\n",
       "    <tr>\n",
       "      <th>28697</th>\n",
       "      <td>1</td>\n",
       "      <td>200</td>\n",
       "      <td>06:50</td>\n",
       "      <td>2.785909</td>\n",
       "      <td>3.13</td>\n",
       "      <td>8.96</td>\n",
       "      <td>27.60</td>\n",
       "      <td>198.61</td>\n",
       "      <td>0.99</td>\n",
       "      <td>0.99</td>\n",
       "      <td>0.99</td>\n",
       "      <td>-0.25</td>\n",
       "      <td>169.21</td>\n",
       "      <td>3.89</td>\n",
       "    </tr>\n",
       "    <tr>\n",
       "      <th>28698</th>\n",
       "      <td>1</td>\n",
       "      <td>200</td>\n",
       "      <td>07:00</td>\n",
       "      <td>2.828164</td>\n",
       "      <td>-1.56</td>\n",
       "      <td>9.95</td>\n",
       "      <td>28.09</td>\n",
       "      <td>198.16</td>\n",
       "      <td>0.99</td>\n",
       "      <td>0.99</td>\n",
       "      <td>0.99</td>\n",
       "      <td>-0.23</td>\n",
       "      <td>131.51</td>\n",
       "      <td>3.23</td>\n",
       "    </tr>\n",
       "    <tr>\n",
       "      <th>28699</th>\n",
       "      <td>1</td>\n",
       "      <td>200</td>\n",
       "      <td>07:10</td>\n",
       "      <td>2.866857</td>\n",
       "      <td>-3.29</td>\n",
       "      <td>10.51</td>\n",
       "      <td>28.80</td>\n",
       "      <td>190.01</td>\n",
       "      <td>0.99</td>\n",
       "      <td>0.99</td>\n",
       "      <td>0.99</td>\n",
       "      <td>-0.26</td>\n",
       "      <td>75.62</td>\n",
       "      <td>2.45</td>\n",
       "    </tr>\n",
       "    <tr>\n",
       "      <th>28700</th>\n",
       "      <td>1</td>\n",
       "      <td>200</td>\n",
       "      <td>07:20</td>\n",
       "      <td>2.912131</td>\n",
       "      <td>3.47</td>\n",
       "      <td>10.91</td>\n",
       "      <td>29.30</td>\n",
       "      <td>190.01</td>\n",
       "      <td>0.99</td>\n",
       "      <td>0.99</td>\n",
       "      <td>0.99</td>\n",
       "      <td>-0.27</td>\n",
       "      <td>41.04</td>\n",
       "      <td>1.93</td>\n",
       "    </tr>\n",
       "    <tr>\n",
       "      <th>28701</th>\n",
       "      <td>1</td>\n",
       "      <td>200</td>\n",
       "      <td>07:30</td>\n",
       "      <td>2.942237</td>\n",
       "      <td>3.75</td>\n",
       "      <td>11.23</td>\n",
       "      <td>29.80</td>\n",
       "      <td>190.01</td>\n",
       "      <td>0.99</td>\n",
       "      <td>0.99</td>\n",
       "      <td>0.99</td>\n",
       "      <td>-0.26</td>\n",
       "      <td>25.53</td>\n",
       "      <td>1.88</td>\n",
       "    </tr>\n",
       "    <tr>\n",
       "      <th>28702</th>\n",
       "      <td>1</td>\n",
       "      <td>200</td>\n",
       "      <td>07:40</td>\n",
       "      <td>2.994591</td>\n",
       "      <td>5.20</td>\n",
       "      <td>11.65</td>\n",
       "      <td>30.18</td>\n",
       "      <td>196.95</td>\n",
       "      <td>0.99</td>\n",
       "      <td>0.99</td>\n",
       "      <td>0.99</td>\n",
       "      <td>-0.24</td>\n",
       "      <td>67.85</td>\n",
       "      <td>2.64</td>\n",
       "    </tr>\n",
       "    <tr>\n",
       "      <th>28703</th>\n",
       "      <td>1</td>\n",
       "      <td>200</td>\n",
       "      <td>07:50</td>\n",
       "      <td>3.041818</td>\n",
       "      <td>1.00</td>\n",
       "      <td>11.40</td>\n",
       "      <td>30.20</td>\n",
       "      <td>203.55</td>\n",
       "      <td>0.99</td>\n",
       "      <td>0.99</td>\n",
       "      <td>0.99</td>\n",
       "      <td>-0.26</td>\n",
       "      <td>49.32</td>\n",
       "      <td>2.37</td>\n",
       "    </tr>\n",
       "    <tr>\n",
       "      <th>28704</th>\n",
       "      <td>1</td>\n",
       "      <td>200</td>\n",
       "      <td>08:00</td>\n",
       "      <td>3.087463</td>\n",
       "      <td>1.12</td>\n",
       "      <td>11.47</td>\n",
       "      <td>30.26</td>\n",
       "      <td>215.17</td>\n",
       "      <td>0.99</td>\n",
       "      <td>0.99</td>\n",
       "      <td>0.99</td>\n",
       "      <td>-0.25</td>\n",
       "      <td>44.06</td>\n",
       "      <td>2.12</td>\n",
       "    </tr>\n",
       "    <tr>\n",
       "      <th>28705</th>\n",
       "      <td>1</td>\n",
       "      <td>200</td>\n",
       "      <td>08:10</td>\n",
       "      <td>3.113160</td>\n",
       "      <td>-4.37</td>\n",
       "      <td>11.19</td>\n",
       "      <td>30.37</td>\n",
       "      <td>208.35</td>\n",
       "      <td>0.99</td>\n",
       "      <td>0.99</td>\n",
       "      <td>0.99</td>\n",
       "      <td>-0.26</td>\n",
       "      <td>65.15</td>\n",
       "      <td>2.49</td>\n",
       "    </tr>\n",
       "    <tr>\n",
       "      <th>28706</th>\n",
       "      <td>1</td>\n",
       "      <td>200</td>\n",
       "      <td>08:20</td>\n",
       "      <td>3.172615</td>\n",
       "      <td>2.84</td>\n",
       "      <td>11.24</td>\n",
       "      <td>30.35</td>\n",
       "      <td>202.55</td>\n",
       "      <td>0.99</td>\n",
       "      <td>0.99</td>\n",
       "      <td>0.99</td>\n",
       "      <td>-0.23</td>\n",
       "      <td>30.54</td>\n",
       "      <td>2.07</td>\n",
       "    </tr>\n",
       "    <tr>\n",
       "      <th>28707</th>\n",
       "      <td>1</td>\n",
       "      <td>200</td>\n",
       "      <td>08:30</td>\n",
       "      <td>3.189200</td>\n",
       "      <td>2.03</td>\n",
       "      <td>11.36</td>\n",
       "      <td>30.62</td>\n",
       "      <td>202.55</td>\n",
       "      <td>0.99</td>\n",
       "      <td>0.99</td>\n",
       "      <td>0.99</td>\n",
       "      <td>-0.26</td>\n",
       "      <td>13.12</td>\n",
       "      <td>1.72</td>\n",
       "    </tr>\n",
       "    <tr>\n",
       "      <th>28708</th>\n",
       "      <td>1</td>\n",
       "      <td>200</td>\n",
       "      <td>08:40</td>\n",
       "      <td>3.233053</td>\n",
       "      <td>-0.72</td>\n",
       "      <td>10.85</td>\n",
       "      <td>30.79</td>\n",
       "      <td>202.55</td>\n",
       "      <td>0.99</td>\n",
       "      <td>0.99</td>\n",
       "      <td>0.99</td>\n",
       "      <td>-0.25</td>\n",
       "      <td>27.16</td>\n",
       "      <td>1.80</td>\n",
       "    </tr>\n",
       "    <tr>\n",
       "      <th>28709</th>\n",
       "      <td>1</td>\n",
       "      <td>200</td>\n",
       "      <td>08:50</td>\n",
       "      <td>3.268404</td>\n",
       "      <td>-0.52</td>\n",
       "      <td>8.81</td>\n",
       "      <td>29.30</td>\n",
       "      <td>202.55</td>\n",
       "      <td>0.99</td>\n",
       "      <td>0.99</td>\n",
       "      <td>0.99</td>\n",
       "      <td>-0.23</td>\n",
       "      <td>22.89</td>\n",
       "      <td>1.76</td>\n",
       "    </tr>\n",
       "    <tr>\n",
       "      <th>28710</th>\n",
       "      <td>1</td>\n",
       "      <td>200</td>\n",
       "      <td>09:00</td>\n",
       "      <td>3.293443</td>\n",
       "      <td>-1.16</td>\n",
       "      <td>10.18</td>\n",
       "      <td>30.27</td>\n",
       "      <td>202.55</td>\n",
       "      <td>1.00</td>\n",
       "      <td>1.00</td>\n",
       "      <td>1.00</td>\n",
       "      <td>-0.22</td>\n",
       "      <td>1.58</td>\n",
       "      <td>1.59</td>\n",
       "    </tr>\n",
       "    <tr>\n",
       "      <th>28711</th>\n",
       "      <td>1</td>\n",
       "      <td>200</td>\n",
       "      <td>09:10</td>\n",
       "      <td>3.310602</td>\n",
       "      <td>-3.80</td>\n",
       "      <td>10.69</td>\n",
       "      <td>30.61</td>\n",
       "      <td>202.55</td>\n",
       "      <td>1.23</td>\n",
       "      <td>1.23</td>\n",
       "      <td>1.23</td>\n",
       "      <td>-0.32</td>\n",
       "      <td>0.00</td>\n",
       "      <td>1.39</td>\n",
       "    </tr>\n",
       "    <tr>\n",
       "      <th>28712</th>\n",
       "      <td>1</td>\n",
       "      <td>200</td>\n",
       "      <td>09:20</td>\n",
       "      <td>3.355186</td>\n",
       "      <td>-36.13</td>\n",
       "      <td>9.86</td>\n",
       "      <td>30.28</td>\n",
       "      <td>202.55</td>\n",
       "      <td>1.90</td>\n",
       "      <td>1.90</td>\n",
       "      <td>1.90</td>\n",
       "      <td>-0.30</td>\n",
       "      <td>0.00</td>\n",
       "      <td>1.37</td>\n",
       "    </tr>\n",
       "    <tr>\n",
       "      <th>28713</th>\n",
       "      <td>1</td>\n",
       "      <td>200</td>\n",
       "      <td>09:30</td>\n",
       "      <td>3.543210</td>\n",
       "      <td>-42.82</td>\n",
       "      <td>9.06</td>\n",
       "      <td>29.97</td>\n",
       "      <td>202.55</td>\n",
       "      <td>1.90</td>\n",
       "      <td>1.90</td>\n",
       "      <td>1.90</td>\n",
       "      <td>-0.30</td>\n",
       "      <td>0.00</td>\n",
       "      <td>1.28</td>\n",
       "    </tr>\n",
       "    <tr>\n",
       "      <th>28714</th>\n",
       "      <td>1</td>\n",
       "      <td>200</td>\n",
       "      <td>09:40</td>\n",
       "      <td>3.871956</td>\n",
       "      <td>-53.51</td>\n",
       "      <td>8.97</td>\n",
       "      <td>29.61</td>\n",
       "      <td>202.55</td>\n",
       "      <td>1.90</td>\n",
       "      <td>1.90</td>\n",
       "      <td>1.90</td>\n",
       "      <td>-0.30</td>\n",
       "      <td>0.00</td>\n",
       "      <td>1.48</td>\n",
       "    </tr>\n",
       "    <tr>\n",
       "      <th>28715</th>\n",
       "      <td>1</td>\n",
       "      <td>200</td>\n",
       "      <td>09:50</td>\n",
       "      <td>4.248977</td>\n",
       "      <td>-55.80</td>\n",
       "      <td>9.00</td>\n",
       "      <td>29.29</td>\n",
       "      <td>202.55</td>\n",
       "      <td>1.90</td>\n",
       "      <td>1.90</td>\n",
       "      <td>1.90</td>\n",
       "      <td>-0.30</td>\n",
       "      <td>0.00</td>\n",
       "      <td>1.61</td>\n",
       "    </tr>\n",
       "    <tr>\n",
       "      <th>28716</th>\n",
       "      <td>1</td>\n",
       "      <td>200</td>\n",
       "      <td>10:00</td>\n",
       "      <td>4.620348</td>\n",
       "      <td>-60.94</td>\n",
       "      <td>8.94</td>\n",
       "      <td>29.25</td>\n",
       "      <td>202.55</td>\n",
       "      <td>1.90</td>\n",
       "      <td>1.90</td>\n",
       "      <td>1.90</td>\n",
       "      <td>-0.30</td>\n",
       "      <td>0.00</td>\n",
       "      <td>1.19</td>\n",
       "    </tr>\n",
       "    <tr>\n",
       "      <th>28717</th>\n",
       "      <td>1</td>\n",
       "      <td>200</td>\n",
       "      <td>10:10</td>\n",
       "      <td>4.952963</td>\n",
       "      <td>-71.31</td>\n",
       "      <td>8.61</td>\n",
       "      <td>29.43</td>\n",
       "      <td>202.55</td>\n",
       "      <td>1.90</td>\n",
       "      <td>1.90</td>\n",
       "      <td>1.90</td>\n",
       "      <td>-0.30</td>\n",
       "      <td>0.00</td>\n",
       "      <td>1.05</td>\n",
       "    </tr>\n",
       "    <tr>\n",
       "      <th>28718</th>\n",
       "      <td>1</td>\n",
       "      <td>200</td>\n",
       "      <td>10:20</td>\n",
       "      <td>5.213828</td>\n",
       "      <td>-108.79</td>\n",
       "      <td>8.36</td>\n",
       "      <td>29.67</td>\n",
       "      <td>202.55</td>\n",
       "      <td>1.90</td>\n",
       "      <td>1.90</td>\n",
       "      <td>1.90</td>\n",
       "      <td>-0.30</td>\n",
       "      <td>0.00</td>\n",
       "      <td>0.89</td>\n",
       "    </tr>\n",
       "    <tr>\n",
       "      <th>28719</th>\n",
       "      <td>1</td>\n",
       "      <td>200</td>\n",
       "      <td>10:30</td>\n",
       "      <td>5.377605</td>\n",
       "      <td>-119.08</td>\n",
       "      <td>8.27</td>\n",
       "      <td>29.96</td>\n",
       "      <td>202.55</td>\n",
       "      <td>1.90</td>\n",
       "      <td>1.90</td>\n",
       "      <td>1.90</td>\n",
       "      <td>-0.30</td>\n",
       "      <td>0.00</td>\n",
       "      <td>0.56</td>\n",
       "    </tr>\n",
       "    <tr>\n",
       "      <th>28720</th>\n",
       "      <td>1</td>\n",
       "      <td>200</td>\n",
       "      <td>10:40</td>\n",
       "      <td>5.607995</td>\n",
       "      <td>-74.06</td>\n",
       "      <td>8.20</td>\n",
       "      <td>30.20</td>\n",
       "      <td>202.55</td>\n",
       "      <td>1.90</td>\n",
       "      <td>1.90</td>\n",
       "      <td>1.90</td>\n",
       "      <td>-0.30</td>\n",
       "      <td>0.00</td>\n",
       "      <td>0.38</td>\n",
       "    </tr>\n",
       "  </tbody>\n",
       "</table>\n",
       "</div>"
      ],
      "text/plain": [
       "       TurbID  Day Tmstamp      Wspd    Wdir   Etmp   Itmp    Ndir  Pab1  \\\n",
       "28680       1  200   04:00  1.829379  -21.24  10.60  30.49  225.54  1.90   \n",
       "28681       1  200   04:10  1.854298  -24.42  10.67  30.11  225.54  1.90   \n",
       "28682       1  200   04:20  1.876272  -35.31  10.48  29.64  225.54  1.90   \n",
       "28683       1  200   04:30  1.923376  -34.62  10.31  29.11  225.54  1.90   \n",
       "28684       1  200   04:40  1.962655   -5.96   9.97  28.82  200.95  1.84   \n",
       "28685       1  200   04:50  2.046570    2.17   9.45  28.90  198.59  1.81   \n",
       "28686       1  200   05:00  2.058394    1.30   9.32  28.92  198.59  1.81   \n",
       "28687       1  200   05:10  2.095696   -4.63   9.33  29.08  198.59  1.81   \n",
       "28688       1  200   05:20  2.141481   -5.73   9.34  29.06  194.13  1.81   \n",
       "28689       1  200   05:30  2.164484    3.33   9.16  28.82  189.80  1.29   \n",
       "28690       1  200   05:40  2.166011   -0.30   9.95  28.75  194.61  0.99   \n",
       "28691       1  200   05:50  2.295375   -3.47  10.24  28.90  190.58  0.99   \n",
       "28692       1  200   06:00  2.404840   -2.83  10.36  28.83  186.02  0.99   \n",
       "28693       1  200   06:10  2.493916    3.70  10.85  28.82  189.39  0.99   \n",
       "28694       1  200   06:20  2.560703   -2.31  10.81  28.84  193.05  0.99   \n",
       "28695       1  200   06:30  2.660525    3.19  10.95  28.99  186.94  0.99   \n",
       "28696       1  200   06:40  2.709017    0.01  10.94  29.14  198.61  0.99   \n",
       "28697       1  200   06:50  2.785909    3.13   8.96  27.60  198.61  0.99   \n",
       "28698       1  200   07:00  2.828164   -1.56   9.95  28.09  198.16  0.99   \n",
       "28699       1  200   07:10  2.866857   -3.29  10.51  28.80  190.01  0.99   \n",
       "28700       1  200   07:20  2.912131    3.47  10.91  29.30  190.01  0.99   \n",
       "28701       1  200   07:30  2.942237    3.75  11.23  29.80  190.01  0.99   \n",
       "28702       1  200   07:40  2.994591    5.20  11.65  30.18  196.95  0.99   \n",
       "28703       1  200   07:50  3.041818    1.00  11.40  30.20  203.55  0.99   \n",
       "28704       1  200   08:00  3.087463    1.12  11.47  30.26  215.17  0.99   \n",
       "28705       1  200   08:10  3.113160   -4.37  11.19  30.37  208.35  0.99   \n",
       "28706       1  200   08:20  3.172615    2.84  11.24  30.35  202.55  0.99   \n",
       "28707       1  200   08:30  3.189200    2.03  11.36  30.62  202.55  0.99   \n",
       "28708       1  200   08:40  3.233053   -0.72  10.85  30.79  202.55  0.99   \n",
       "28709       1  200   08:50  3.268404   -0.52   8.81  29.30  202.55  0.99   \n",
       "28710       1  200   09:00  3.293443   -1.16  10.18  30.27  202.55  1.00   \n",
       "28711       1  200   09:10  3.310602   -3.80  10.69  30.61  202.55  1.23   \n",
       "28712       1  200   09:20  3.355186  -36.13   9.86  30.28  202.55  1.90   \n",
       "28713       1  200   09:30  3.543210  -42.82   9.06  29.97  202.55  1.90   \n",
       "28714       1  200   09:40  3.871956  -53.51   8.97  29.61  202.55  1.90   \n",
       "28715       1  200   09:50  4.248977  -55.80   9.00  29.29  202.55  1.90   \n",
       "28716       1  200   10:00  4.620348  -60.94   8.94  29.25  202.55  1.90   \n",
       "28717       1  200   10:10  4.952963  -71.31   8.61  29.43  202.55  1.90   \n",
       "28718       1  200   10:20  5.213828 -108.79   8.36  29.67  202.55  1.90   \n",
       "28719       1  200   10:30  5.377605 -119.08   8.27  29.96  202.55  1.90   \n",
       "28720       1  200   10:40  5.607995  -74.06   8.20  30.20  202.55  1.90   \n",
       "\n",
       "       Pab2  Pab3  Prtv    Patv  Wspd_y  \n",
       "28680  1.90  1.90 -0.30    0.00    2.09  \n",
       "28681  1.90  1.90 -0.30    0.00    2.60  \n",
       "28682  1.90  1.90 -0.30    0.00    2.88  \n",
       "28683  1.90  1.90 -0.30    0.00    2.94  \n",
       "28684  1.84  1.84 -0.30    0.00    2.75  \n",
       "28685  1.81  1.81 -0.30    0.00    2.68  \n",
       "28686  1.81  1.81 -0.30    0.00    2.91  \n",
       "28687  1.81  1.81 -0.30    0.00    2.85  \n",
       "28688  1.81  1.81 -0.30    0.00    2.90  \n",
       "28689  1.29  1.29 -0.10   59.96    3.26  \n",
       "28690  0.99  0.99 -0.26  132.50    3.40  \n",
       "28691  0.99  0.99 -0.25  183.87    3.81  \n",
       "28692  0.99  0.99 -0.25  194.77    3.91  \n",
       "28693  0.99  0.99 -0.26  157.93    3.47  \n",
       "28694  0.99  0.99 -0.26  172.73    3.61  \n",
       "28695  0.99  0.99 -0.24  101.19    2.76  \n",
       "28696  0.99  0.99 -0.28  146.98    3.59  \n",
       "28697  0.99  0.99 -0.25  169.21    3.89  \n",
       "28698  0.99  0.99 -0.23  131.51    3.23  \n",
       "28699  0.99  0.99 -0.26   75.62    2.45  \n",
       "28700  0.99  0.99 -0.27   41.04    1.93  \n",
       "28701  0.99  0.99 -0.26   25.53    1.88  \n",
       "28702  0.99  0.99 -0.24   67.85    2.64  \n",
       "28703  0.99  0.99 -0.26   49.32    2.37  \n",
       "28704  0.99  0.99 -0.25   44.06    2.12  \n",
       "28705  0.99  0.99 -0.26   65.15    2.49  \n",
       "28706  0.99  0.99 -0.23   30.54    2.07  \n",
       "28707  0.99  0.99 -0.26   13.12    1.72  \n",
       "28708  0.99  0.99 -0.25   27.16    1.80  \n",
       "28709  0.99  0.99 -0.23   22.89    1.76  \n",
       "28710  1.00  1.00 -0.22    1.58    1.59  \n",
       "28711  1.23  1.23 -0.32    0.00    1.39  \n",
       "28712  1.90  1.90 -0.30    0.00    1.37  \n",
       "28713  1.90  1.90 -0.30    0.00    1.28  \n",
       "28714  1.90  1.90 -0.30    0.00    1.48  \n",
       "28715  1.90  1.90 -0.30    0.00    1.61  \n",
       "28716  1.90  1.90 -0.30    0.00    1.19  \n",
       "28717  1.90  1.90 -0.30    0.00    1.05  \n",
       "28718  1.90  1.90 -0.30    0.00    0.89  \n",
       "28719  1.90  1.90 -0.30    0.00    0.56  \n",
       "28720  1.90  1.90 -0.30    0.00    0.38  "
      ]
     },
     "execution_count": 363,
     "metadata": {},
     "output_type": "execute_result"
    }
   ],
   "source": [
    "test_oriented.loc[28600+train_seq:28800-train_seq, ]"
   ]
  },
  {
   "cell_type": "code",
   "execution_count": 475,
   "id": "af71688d",
   "metadata": {
    "scrolled": true
   },
   "outputs": [
    {
     "data": {
      "text/plain": [
       "[<matplotlib.lines.Line2D at 0x2132f5cd0d0>]"
      ]
     },
     "execution_count": 475,
     "metadata": {},
     "output_type": "execute_result"
    },
    {
     "data": {
      "image/png": "[encoded data removed]",
      "text/plain": [
       "<Figure size 432x288 with 1 Axes>"
      ]
     },
     "metadata": {
      "needs_background": "light"
     },
     "output_type": "display_data"
    }
   ],
   "source": [
    "plt.plot(test_oriented.loc[28600+train_seq:28800-train_seq, 'Wspd'])\n",
    "plt.plot(test_oriented.loc[28600+train_seq:28800-train_seq, 'Wspd_y'])"
   ]
  },
  {
   "cell_type": "code",
   "execution_count": null,
   "id": "60936958",
   "metadata": {},
   "outputs": [],
   "source": []
  }
 ],
 "metadata": {
  "kernelspec": {
   "display_name": "Python 3 (ipykernel)",
   "language": "python",
   "name": "python3"
  },
  "language_info": {
   "codemirror_mode": {
    "name": "ipython",
    "version": 3
   },
   "file_extension": ".py",
   "mimetype": "text/x-python",
   "name": "python",
   "nbconvert_exporter": "python",
   "pygments_lexer": "ipython3",
   "version": "3.8.12"
  },
  "toc": {
   "base_numbering": 1,
   "nav_menu": {},
   "number_sections": true,
   "sideBar": true,
   "skip_h1_title": false,
   "title_cell": "Table of Contents",
   "title_sidebar": "Contents",
   "toc_cell": false,
   "toc_position": {
    "height": "calc(100% - 180px)",
    "left": "10px",
    "top": "150px",
    "width": "409.594px"
   },
   "toc_section_display": true,
   "toc_window_display": true
  }
 },
 "nbformat": 4,
 "nbformat_minor": 5
}
