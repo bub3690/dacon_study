{
 "cells": [
  {
   "cell_type": "code",
   "execution_count": 1,
   "id": "f8114ce5",
   "metadata": {},
   "outputs": [],
   "source": [
    "import numpy as np\n",
    "import pandas as pd\n",
    "import matplotlib.pyplot as plt\n",
    "import seaborn as sns\n",
    "from os.path import join\n",
    "\n",
    "plt.style.use('seaborn')\n",
    "sns.set(font_scale=2.5) # 이 두줄은 본 필자가 항상 쓰는 방법입니다. matplotlib 의 기본 scheme 말고 seaborn scheme 을 세팅하고, 일일이 graph 의 font size 를 지정할 필요 없이 seaborn 의 font_scale 을 사용하면 편합니다.\n",
    "\n",
    "\n",
    "#ignore warnings\n",
    "import warnings\n",
    "warnings.filterwarnings('ignore')\n",
    "\n",
    "%matplotlib inline"
   ]
  },
  {
   "cell_type": "markdown",
   "id": "28308d99",
   "metadata": {},
   "source": [
    "# 데이터 설명\n",
    "* TurbID - 발전기 ID\n",
    "* Day - 날짜\n",
    "* Tmstamp - 시간\n",
    "* Wspd - 풍속\n",
    "* Wdir - 터빈이 바라보는 각도와 실제 바람 방향 각도 차이\n",
    "* Etmp - 외부 온도\n",
    "* Itmp - 터빈 내부 온도\n",
    "* Ndir - 터빈이 바라보는 방향 각도\n",
    "* Pab - 터빈 당 3개의 날이 있으며 각각의 각도가 다름\n",
    "* Prtv - 무효전력 : 에너지원을 필요로  하지 않는 전력\n",
    "* Patv - 유효전력 : 실제로 터빈을 돌리는 일을 하는 전력 <br><br>\n",
    "\n",
    "* <b>label: Patv </b>\n",
    "# 결론적으로 134개 터빈의 201~202일, 즉 2일간의 Patv값을 예측해야 합니다.\n",
    "\n",
    "# EDA\n",
    "<font color=red>\n",
    "1. Tmstamp를 hour과 minute로 변경 (minute 제거) <br>\n",
    "2. 5가지 규칙에 해당하는 Patv = 0으로 변경 <br>\n",
    "3. interpolate 후 bfill (Day 65~67구간 채워줌) <br>\n",
    "⇒ Pab와 Patv의 관계에서는 Pab2, 3을 버려도 될듯함. <br>\n",
    "4. Pab1, 2, 3을 비교해서 가장 큰 값을 Pab에다가 대입 (새로운 Pab 컬럼 설정) <br>\n",
    "\n",
    "*주의사항: 일단 내부 및 온도 처리하지 않기.\n",
    "    \n",
    "</font>"
   ]
  },
  {
   "cell_type": "code",
   "execution_count": 3,
   "id": "85e3538f",
   "metadata": {},
   "outputs": [],
   "source": [
    "import pandas as pd\n",
    "import numpy as np\n",
    "from tqdm import tqdm"
   ]
  },
  {
   "cell_type": "code",
   "execution_count": 4,
   "id": "815aa13a",
   "metadata": {},
   "outputs": [],
   "source": [
    "train_data = pd.read_csv(\"data/train_data.csv\")\n",
    "sample_submission = pd.read_csv(\"data/sample_submission.csv\")"
   ]
  },
  {
   "cell_type": "code",
   "execution_count": 5,
   "id": "43443d11",
   "metadata": {},
   "outputs": [
    {
     "data": {
      "text/html": [
       "<div>\n",
       "<style scoped>\n",
       "    .dataframe tbody tr th:only-of-type {\n",
       "        vertical-align: middle;\n",
       "    }\n",
       "\n",
       "    .dataframe tbody tr th {\n",
       "        vertical-align: top;\n",
       "    }\n",
       "\n",
       "    .dataframe thead th {\n",
       "        text-align: right;\n",
       "    }\n",
       "</style>\n",
       "<table border=\"1\" class=\"dataframe\">\n",
       "  <thead>\n",
       "    <tr style=\"text-align: right;\">\n",
       "      <th></th>\n",
       "      <th>TurbID</th>\n",
       "      <th>Day</th>\n",
       "      <th>Tmstamp</th>\n",
       "      <th>Wspd</th>\n",
       "      <th>Wdir</th>\n",
       "      <th>Etmp</th>\n",
       "      <th>Itmp</th>\n",
       "      <th>Ndir</th>\n",
       "      <th>Pab1</th>\n",
       "      <th>Pab2</th>\n",
       "      <th>Pab3</th>\n",
       "      <th>Prtv</th>\n",
       "      <th>Patv</th>\n",
       "    </tr>\n",
       "  </thead>\n",
       "  <tbody>\n",
       "    <tr>\n",
       "      <th>0</th>\n",
       "      <td>1</td>\n",
       "      <td>1</td>\n",
       "      <td>00:00</td>\n",
       "      <td>NaN</td>\n",
       "      <td>NaN</td>\n",
       "      <td>NaN</td>\n",
       "      <td>NaN</td>\n",
       "      <td>NaN</td>\n",
       "      <td>NaN</td>\n",
       "      <td>NaN</td>\n",
       "      <td>NaN</td>\n",
       "      <td>NaN</td>\n",
       "      <td>NaN</td>\n",
       "    </tr>\n",
       "    <tr>\n",
       "      <th>1</th>\n",
       "      <td>1</td>\n",
       "      <td>1</td>\n",
       "      <td>00:10</td>\n",
       "      <td>6.17</td>\n",
       "      <td>-3.99</td>\n",
       "      <td>30.73</td>\n",
       "      <td>41.80</td>\n",
       "      <td>25.92</td>\n",
       "      <td>1.0</td>\n",
       "      <td>1.0</td>\n",
       "      <td>1.0</td>\n",
       "      <td>-0.25</td>\n",
       "      <td>494.66</td>\n",
       "    </tr>\n",
       "    <tr>\n",
       "      <th>2</th>\n",
       "      <td>1</td>\n",
       "      <td>1</td>\n",
       "      <td>00:20</td>\n",
       "      <td>6.27</td>\n",
       "      <td>-2.18</td>\n",
       "      <td>30.60</td>\n",
       "      <td>41.63</td>\n",
       "      <td>20.91</td>\n",
       "      <td>1.0</td>\n",
       "      <td>1.0</td>\n",
       "      <td>1.0</td>\n",
       "      <td>-0.24</td>\n",
       "      <td>509.76</td>\n",
       "    </tr>\n",
       "    <tr>\n",
       "      <th>3</th>\n",
       "      <td>1</td>\n",
       "      <td>1</td>\n",
       "      <td>00:30</td>\n",
       "      <td>6.42</td>\n",
       "      <td>-0.73</td>\n",
       "      <td>30.52</td>\n",
       "      <td>41.52</td>\n",
       "      <td>20.91</td>\n",
       "      <td>1.0</td>\n",
       "      <td>1.0</td>\n",
       "      <td>1.0</td>\n",
       "      <td>-0.26</td>\n",
       "      <td>542.53</td>\n",
       "    </tr>\n",
       "    <tr>\n",
       "      <th>4</th>\n",
       "      <td>1</td>\n",
       "      <td>1</td>\n",
       "      <td>00:40</td>\n",
       "      <td>6.25</td>\n",
       "      <td>0.89</td>\n",
       "      <td>30.49</td>\n",
       "      <td>41.38</td>\n",
       "      <td>20.91</td>\n",
       "      <td>1.0</td>\n",
       "      <td>1.0</td>\n",
       "      <td>1.0</td>\n",
       "      <td>-0.23</td>\n",
       "      <td>509.36</td>\n",
       "    </tr>\n",
       "  </tbody>\n",
       "</table>\n",
       "</div>"
      ],
      "text/plain": [
       "   TurbID  Day Tmstamp  Wspd  Wdir   Etmp   Itmp   Ndir  Pab1  Pab2  Pab3  \\\n",
       "0       1    1   00:00   NaN   NaN    NaN    NaN    NaN   NaN   NaN   NaN   \n",
       "1       1    1   00:10  6.17 -3.99  30.73  41.80  25.92   1.0   1.0   1.0   \n",
       "2       1    1   00:20  6.27 -2.18  30.60  41.63  20.91   1.0   1.0   1.0   \n",
       "3       1    1   00:30  6.42 -0.73  30.52  41.52  20.91   1.0   1.0   1.0   \n",
       "4       1    1   00:40  6.25  0.89  30.49  41.38  20.91   1.0   1.0   1.0   \n",
       "\n",
       "   Prtv    Patv  \n",
       "0   NaN     NaN  \n",
       "1 -0.25  494.66  \n",
       "2 -0.24  509.76  \n",
       "3 -0.26  542.53  \n",
       "4 -0.23  509.36  "
      ]
     },
     "execution_count": 5,
     "metadata": {},
     "output_type": "execute_result"
    }
   ],
   "source": [
    "train_data.head()"
   ]
  },
  {
   "cell_type": "code",
   "execution_count": 6,
   "id": "7d1b90dd",
   "metadata": {},
   "outputs": [
    {
     "data": {
      "text/html": [
       "<div>\n",
       "<style scoped>\n",
       "    .dataframe tbody tr th:only-of-type {\n",
       "        vertical-align: middle;\n",
       "    }\n",
       "\n",
       "    .dataframe tbody tr th {\n",
       "        vertical-align: top;\n",
       "    }\n",
       "\n",
       "    .dataframe thead th {\n",
       "        text-align: right;\n",
       "    }\n",
       "</style>\n",
       "<table border=\"1\" class=\"dataframe\">\n",
       "  <thead>\n",
       "    <tr style=\"text-align: right;\">\n",
       "      <th></th>\n",
       "      <th>TurbID</th>\n",
       "      <th>Day</th>\n",
       "      <th>Tmstamp</th>\n",
       "      <th>Wspd</th>\n",
       "      <th>Wdir</th>\n",
       "      <th>Etmp</th>\n",
       "      <th>Itmp</th>\n",
       "      <th>Ndir</th>\n",
       "      <th>Pab1</th>\n",
       "      <th>Pab2</th>\n",
       "      <th>Pab3</th>\n",
       "      <th>Prtv</th>\n",
       "      <th>Patv</th>\n",
       "    </tr>\n",
       "  </thead>\n",
       "  <tbody>\n",
       "    <tr>\n",
       "      <th>3859197</th>\n",
       "      <td>134</td>\n",
       "      <td>200</td>\n",
       "      <td>23:30</td>\n",
       "      <td>4.23</td>\n",
       "      <td>-0.08</td>\n",
       "      <td>8.74</td>\n",
       "      <td>10.22</td>\n",
       "      <td>172.35</td>\n",
       "      <td>0.01</td>\n",
       "      <td>0.01</td>\n",
       "      <td>0.01</td>\n",
       "      <td>-111.20</td>\n",
       "      <td>220.60</td>\n",
       "    </tr>\n",
       "    <tr>\n",
       "      <th>3859198</th>\n",
       "      <td>134</td>\n",
       "      <td>200</td>\n",
       "      <td>23:40</td>\n",
       "      <td>4.36</td>\n",
       "      <td>-6.12</td>\n",
       "      <td>8.64</td>\n",
       "      <td>10.10</td>\n",
       "      <td>172.35</td>\n",
       "      <td>0.01</td>\n",
       "      <td>0.01</td>\n",
       "      <td>0.01</td>\n",
       "      <td>-108.04</td>\n",
       "      <td>222.15</td>\n",
       "    </tr>\n",
       "    <tr>\n",
       "      <th>3859199</th>\n",
       "      <td>134</td>\n",
       "      <td>200</td>\n",
       "      <td>23:50</td>\n",
       "      <td>4.79</td>\n",
       "      <td>-3.65</td>\n",
       "      <td>8.53</td>\n",
       "      <td>10.01</td>\n",
       "      <td>168.58</td>\n",
       "      <td>0.01</td>\n",
       "      <td>0.01</td>\n",
       "      <td>0.01</td>\n",
       "      <td>-119.76</td>\n",
       "      <td>264.17</td>\n",
       "    </tr>\n",
       "  </tbody>\n",
       "</table>\n",
       "</div>"
      ],
      "text/plain": [
       "         TurbID  Day Tmstamp  Wspd  Wdir  Etmp   Itmp    Ndir  Pab1  Pab2  \\\n",
       "3859197     134  200   23:30  4.23 -0.08  8.74  10.22  172.35  0.01  0.01   \n",
       "3859198     134  200   23:40  4.36 -6.12  8.64  10.10  172.35  0.01  0.01   \n",
       "3859199     134  200   23:50  4.79 -3.65  8.53  10.01  168.58  0.01  0.01   \n",
       "\n",
       "         Pab3    Prtv    Patv  \n",
       "3859197  0.01 -111.20  220.60  \n",
       "3859198  0.01 -108.04  222.15  \n",
       "3859199  0.01 -119.76  264.17  "
      ]
     },
     "execution_count": 6,
     "metadata": {},
     "output_type": "execute_result"
    }
   ],
   "source": [
    "train_data.tail(3)"
   ]
  },
  {
   "cell_type": "code",
   "execution_count": 7,
   "id": "bc166395",
   "metadata": {},
   "outputs": [],
   "source": [
    "# 결론적으로 134개 터빈의 201~202일, 즉 2일간의 Patv값을 예측해야 합니다."
   ]
  },
  {
   "cell_type": "code",
   "execution_count": 8,
   "id": "30a2fc0c",
   "metadata": {},
   "outputs": [
    {
     "data": {
      "text/html": [
       "<div>\n",
       "<style scoped>\n",
       "    .dataframe tbody tr th:only-of-type {\n",
       "        vertical-align: middle;\n",
       "    }\n",
       "\n",
       "    .dataframe tbody tr th {\n",
       "        vertical-align: top;\n",
       "    }\n",
       "\n",
       "    .dataframe thead th {\n",
       "        text-align: right;\n",
       "    }\n",
       "</style>\n",
       "<table border=\"1\" class=\"dataframe\">\n",
       "  <thead>\n",
       "    <tr style=\"text-align: right;\">\n",
       "      <th></th>\n",
       "      <th>index</th>\n",
       "      <th>TurbID</th>\n",
       "      <th>Day</th>\n",
       "      <th>Tmstamp</th>\n",
       "      <th>Wspd</th>\n",
       "      <th>Wdir</th>\n",
       "      <th>Etmp</th>\n",
       "      <th>Itmp</th>\n",
       "      <th>Ndir</th>\n",
       "      <th>Pab1</th>\n",
       "      <th>Pab2</th>\n",
       "      <th>Pab3</th>\n",
       "      <th>Prtv</th>\n",
       "      <th>Patv</th>\n",
       "    </tr>\n",
       "  </thead>\n",
       "  <tbody>\n",
       "    <tr>\n",
       "      <th>0</th>\n",
       "      <td>0</td>\n",
       "      <td>1</td>\n",
       "      <td>201</td>\n",
       "      <td>00:00</td>\n",
       "      <td>0</td>\n",
       "      <td>0</td>\n",
       "      <td>0</td>\n",
       "      <td>0</td>\n",
       "      <td>0</td>\n",
       "      <td>0</td>\n",
       "      <td>0</td>\n",
       "      <td>0</td>\n",
       "      <td>0</td>\n",
       "      <td>9999</td>\n",
       "    </tr>\n",
       "    <tr>\n",
       "      <th>1</th>\n",
       "      <td>1</td>\n",
       "      <td>1</td>\n",
       "      <td>201</td>\n",
       "      <td>00:10</td>\n",
       "      <td>0</td>\n",
       "      <td>0</td>\n",
       "      <td>0</td>\n",
       "      <td>0</td>\n",
       "      <td>0</td>\n",
       "      <td>0</td>\n",
       "      <td>0</td>\n",
       "      <td>0</td>\n",
       "      <td>0</td>\n",
       "      <td>9999</td>\n",
       "    </tr>\n",
       "    <tr>\n",
       "      <th>2</th>\n",
       "      <td>2</td>\n",
       "      <td>1</td>\n",
       "      <td>201</td>\n",
       "      <td>00:20</td>\n",
       "      <td>0</td>\n",
       "      <td>0</td>\n",
       "      <td>0</td>\n",
       "      <td>0</td>\n",
       "      <td>0</td>\n",
       "      <td>0</td>\n",
       "      <td>0</td>\n",
       "      <td>0</td>\n",
       "      <td>0</td>\n",
       "      <td>9999</td>\n",
       "    </tr>\n",
       "  </tbody>\n",
       "</table>\n",
       "</div>"
      ],
      "text/plain": [
       "   index  TurbID  Day Tmstamp  Wspd  Wdir  Etmp  Itmp  Ndir  Pab1  Pab2  Pab3  \\\n",
       "0      0       1  201   00:00     0     0     0     0     0     0     0     0   \n",
       "1      1       1  201   00:10     0     0     0     0     0     0     0     0   \n",
       "2      2       1  201   00:20     0     0     0     0     0     0     0     0   \n",
       "\n",
       "   Prtv  Patv  \n",
       "0     0  9999  \n",
       "1     0  9999  \n",
       "2     0  9999  "
      ]
     },
     "execution_count": 8,
     "metadata": {},
     "output_type": "execute_result"
    }
   ],
   "source": [
    "sample_submission.head(3)"
   ]
  },
  {
   "cell_type": "code",
   "execution_count": 9,
   "id": "4c6b1660",
   "metadata": {},
   "outputs": [
    {
     "data": {
      "text/plain": [
       "TurbID         0\n",
       "Day            0\n",
       "Tmstamp        0\n",
       "Wspd       45587\n",
       "Wdir       45587\n",
       "Etmp       45587\n",
       "Itmp       45587\n",
       "Ndir       45587\n",
       "Pab1       45587\n",
       "Pab2       45587\n",
       "Pab3       45587\n",
       "Prtv       45587\n",
       "Patv       45587\n",
       "dtype: int64"
      ]
     },
     "execution_count": 9,
     "metadata": {},
     "output_type": "execute_result"
    }
   ],
   "source": [
    "# train_data의 결측값 확인\n",
    "train_data.isnull().sum()"
   ]
  },
  {
   "cell_type": "code",
   "execution_count": 10,
   "id": "6e1307eb",
   "metadata": {},
   "outputs": [],
   "source": [
    "# # method : 결측값을 변경할 방식입니다. bfill로 할경우 결측값을 바로 아래 값과 동일하게 변경합니다.\n",
    "# # 결측값 처리\n",
    "# train_data = train_data.fillna(method = 'ffill').fillna(method='bfill')\n",
    "\n",
    "# print(train_data.isnull().sum())"
   ]
  },
  {
   "cell_type": "code",
   "execution_count": null,
   "id": "73f5cba6",
   "metadata": {},
   "outputs": [],
   "source": []
  },
  {
   "cell_type": "code",
   "execution_count": null,
   "id": "0b06e567",
   "metadata": {},
   "outputs": [],
   "source": []
  },
  {
   "cell_type": "code",
   "execution_count": 11,
   "id": "a516a76b",
   "metadata": {},
   "outputs": [],
   "source": [
    "df_updated = train_data.copy()"
   ]
  },
  {
   "cell_type": "code",
   "execution_count": 12,
   "id": "177738b3",
   "metadata": {},
   "outputs": [
    {
     "data": {
      "text/html": [
       "<div>\n",
       "<style scoped>\n",
       "    .dataframe tbody tr th:only-of-type {\n",
       "        vertical-align: middle;\n",
       "    }\n",
       "\n",
       "    .dataframe tbody tr th {\n",
       "        vertical-align: top;\n",
       "    }\n",
       "\n",
       "    .dataframe thead th {\n",
       "        text-align: right;\n",
       "    }\n",
       "</style>\n",
       "<table border=\"1\" class=\"dataframe\">\n",
       "  <thead>\n",
       "    <tr style=\"text-align: right;\">\n",
       "      <th></th>\n",
       "      <th>TurbID</th>\n",
       "      <th>Day</th>\n",
       "      <th>Tmstamp</th>\n",
       "      <th>Wspd</th>\n",
       "      <th>Wdir</th>\n",
       "      <th>Etmp</th>\n",
       "      <th>Itmp</th>\n",
       "      <th>Ndir</th>\n",
       "      <th>Pab1</th>\n",
       "      <th>Pab2</th>\n",
       "      <th>Pab3</th>\n",
       "      <th>Prtv</th>\n",
       "      <th>Patv</th>\n",
       "    </tr>\n",
       "  </thead>\n",
       "  <tbody>\n",
       "    <tr>\n",
       "      <th>0</th>\n",
       "      <td>1</td>\n",
       "      <td>1</td>\n",
       "      <td>00:00</td>\n",
       "      <td>NaN</td>\n",
       "      <td>NaN</td>\n",
       "      <td>NaN</td>\n",
       "      <td>NaN</td>\n",
       "      <td>NaN</td>\n",
       "      <td>NaN</td>\n",
       "      <td>NaN</td>\n",
       "      <td>NaN</td>\n",
       "      <td>NaN</td>\n",
       "      <td>NaN</td>\n",
       "    </tr>\n",
       "    <tr>\n",
       "      <th>1</th>\n",
       "      <td>1</td>\n",
       "      <td>1</td>\n",
       "      <td>00:10</td>\n",
       "      <td>6.17</td>\n",
       "      <td>-3.99</td>\n",
       "      <td>30.73</td>\n",
       "      <td>41.80</td>\n",
       "      <td>25.92</td>\n",
       "      <td>1.00</td>\n",
       "      <td>1.00</td>\n",
       "      <td>1.00</td>\n",
       "      <td>-0.25</td>\n",
       "      <td>494.66</td>\n",
       "    </tr>\n",
       "    <tr>\n",
       "      <th>2</th>\n",
       "      <td>1</td>\n",
       "      <td>1</td>\n",
       "      <td>00:20</td>\n",
       "      <td>6.27</td>\n",
       "      <td>-2.18</td>\n",
       "      <td>30.60</td>\n",
       "      <td>41.63</td>\n",
       "      <td>20.91</td>\n",
       "      <td>1.00</td>\n",
       "      <td>1.00</td>\n",
       "      <td>1.00</td>\n",
       "      <td>-0.24</td>\n",
       "      <td>509.76</td>\n",
       "    </tr>\n",
       "    <tr>\n",
       "      <th>3</th>\n",
       "      <td>1</td>\n",
       "      <td>1</td>\n",
       "      <td>00:30</td>\n",
       "      <td>6.42</td>\n",
       "      <td>-0.73</td>\n",
       "      <td>30.52</td>\n",
       "      <td>41.52</td>\n",
       "      <td>20.91</td>\n",
       "      <td>1.00</td>\n",
       "      <td>1.00</td>\n",
       "      <td>1.00</td>\n",
       "      <td>-0.26</td>\n",
       "      <td>542.53</td>\n",
       "    </tr>\n",
       "    <tr>\n",
       "      <th>4</th>\n",
       "      <td>1</td>\n",
       "      <td>1</td>\n",
       "      <td>00:40</td>\n",
       "      <td>6.25</td>\n",
       "      <td>0.89</td>\n",
       "      <td>30.49</td>\n",
       "      <td>41.38</td>\n",
       "      <td>20.91</td>\n",
       "      <td>1.00</td>\n",
       "      <td>1.00</td>\n",
       "      <td>1.00</td>\n",
       "      <td>-0.23</td>\n",
       "      <td>509.36</td>\n",
       "    </tr>\n",
       "    <tr>\n",
       "      <th>...</th>\n",
       "      <td>...</td>\n",
       "      <td>...</td>\n",
       "      <td>...</td>\n",
       "      <td>...</td>\n",
       "      <td>...</td>\n",
       "      <td>...</td>\n",
       "      <td>...</td>\n",
       "      <td>...</td>\n",
       "      <td>...</td>\n",
       "      <td>...</td>\n",
       "      <td>...</td>\n",
       "      <td>...</td>\n",
       "      <td>...</td>\n",
       "    </tr>\n",
       "    <tr>\n",
       "      <th>3859195</th>\n",
       "      <td>134</td>\n",
       "      <td>200</td>\n",
       "      <td>23:10</td>\n",
       "      <td>4.86</td>\n",
       "      <td>4.68</td>\n",
       "      <td>9.04</td>\n",
       "      <td>10.40</td>\n",
       "      <td>174.39</td>\n",
       "      <td>0.01</td>\n",
       "      <td>0.01</td>\n",
       "      <td>0.01</td>\n",
       "      <td>-108.13</td>\n",
       "      <td>308.65</td>\n",
       "    </tr>\n",
       "    <tr>\n",
       "      <th>3859196</th>\n",
       "      <td>134</td>\n",
       "      <td>200</td>\n",
       "      <td>23:20</td>\n",
       "      <td>4.46</td>\n",
       "      <td>-4.00</td>\n",
       "      <td>8.79</td>\n",
       "      <td>10.33</td>\n",
       "      <td>179.76</td>\n",
       "      <td>0.01</td>\n",
       "      <td>0.01</td>\n",
       "      <td>0.01</td>\n",
       "      <td>-93.64</td>\n",
       "      <td>221.60</td>\n",
       "    </tr>\n",
       "    <tr>\n",
       "      <th>3859197</th>\n",
       "      <td>134</td>\n",
       "      <td>200</td>\n",
       "      <td>23:30</td>\n",
       "      <td>4.23</td>\n",
       "      <td>-0.08</td>\n",
       "      <td>8.74</td>\n",
       "      <td>10.22</td>\n",
       "      <td>172.35</td>\n",
       "      <td>0.01</td>\n",
       "      <td>0.01</td>\n",
       "      <td>0.01</td>\n",
       "      <td>-111.20</td>\n",
       "      <td>220.60</td>\n",
       "    </tr>\n",
       "    <tr>\n",
       "      <th>3859198</th>\n",
       "      <td>134</td>\n",
       "      <td>200</td>\n",
       "      <td>23:40</td>\n",
       "      <td>4.36</td>\n",
       "      <td>-6.12</td>\n",
       "      <td>8.64</td>\n",
       "      <td>10.10</td>\n",
       "      <td>172.35</td>\n",
       "      <td>0.01</td>\n",
       "      <td>0.01</td>\n",
       "      <td>0.01</td>\n",
       "      <td>-108.04</td>\n",
       "      <td>222.15</td>\n",
       "    </tr>\n",
       "    <tr>\n",
       "      <th>3859199</th>\n",
       "      <td>134</td>\n",
       "      <td>200</td>\n",
       "      <td>23:50</td>\n",
       "      <td>4.79</td>\n",
       "      <td>-3.65</td>\n",
       "      <td>8.53</td>\n",
       "      <td>10.01</td>\n",
       "      <td>168.58</td>\n",
       "      <td>0.01</td>\n",
       "      <td>0.01</td>\n",
       "      <td>0.01</td>\n",
       "      <td>-119.76</td>\n",
       "      <td>264.17</td>\n",
       "    </tr>\n",
       "  </tbody>\n",
       "</table>\n",
       "<p>3859200 rows × 13 columns</p>\n",
       "</div>"
      ],
      "text/plain": [
       "         TurbID  Day Tmstamp  Wspd  Wdir   Etmp   Itmp    Ndir  Pab1  Pab2  \\\n",
       "0             1    1   00:00   NaN   NaN    NaN    NaN     NaN   NaN   NaN   \n",
       "1             1    1   00:10  6.17 -3.99  30.73  41.80   25.92  1.00  1.00   \n",
       "2             1    1   00:20  6.27 -2.18  30.60  41.63   20.91  1.00  1.00   \n",
       "3             1    1   00:30  6.42 -0.73  30.52  41.52   20.91  1.00  1.00   \n",
       "4             1    1   00:40  6.25  0.89  30.49  41.38   20.91  1.00  1.00   \n",
       "...         ...  ...     ...   ...   ...    ...    ...     ...   ...   ...   \n",
       "3859195     134  200   23:10  4.86  4.68   9.04  10.40  174.39  0.01  0.01   \n",
       "3859196     134  200   23:20  4.46 -4.00   8.79  10.33  179.76  0.01  0.01   \n",
       "3859197     134  200   23:30  4.23 -0.08   8.74  10.22  172.35  0.01  0.01   \n",
       "3859198     134  200   23:40  4.36 -6.12   8.64  10.10  172.35  0.01  0.01   \n",
       "3859199     134  200   23:50  4.79 -3.65   8.53  10.01  168.58  0.01  0.01   \n",
       "\n",
       "         Pab3    Prtv    Patv  \n",
       "0         NaN     NaN     NaN  \n",
       "1        1.00   -0.25  494.66  \n",
       "2        1.00   -0.24  509.76  \n",
       "3        1.00   -0.26  542.53  \n",
       "4        1.00   -0.23  509.36  \n",
       "...       ...     ...     ...  \n",
       "3859195  0.01 -108.13  308.65  \n",
       "3859196  0.01  -93.64  221.60  \n",
       "3859197  0.01 -111.20  220.60  \n",
       "3859198  0.01 -108.04  222.15  \n",
       "3859199  0.01 -119.76  264.17  \n",
       "\n",
       "[3859200 rows x 13 columns]"
      ]
     },
     "execution_count": 12,
     "metadata": {},
     "output_type": "execute_result"
    }
   ],
   "source": [
    "df_updated"
   ]
  },
  {
   "cell_type": "code",
   "execution_count": 13,
   "id": "6896f904",
   "metadata": {},
   "outputs": [
    {
     "data": {
      "text/html": [
       "<div>\n",
       "<style scoped>\n",
       "    .dataframe tbody tr th:only-of-type {\n",
       "        vertical-align: middle;\n",
       "    }\n",
       "\n",
       "    .dataframe tbody tr th {\n",
       "        vertical-align: top;\n",
       "    }\n",
       "\n",
       "    .dataframe thead th {\n",
       "        text-align: right;\n",
       "    }\n",
       "</style>\n",
       "<table border=\"1\" class=\"dataframe\">\n",
       "  <thead>\n",
       "    <tr style=\"text-align: right;\">\n",
       "      <th></th>\n",
       "      <th>TurbID</th>\n",
       "      <th>Day</th>\n",
       "      <th>Tmstamp</th>\n",
       "      <th>Wspd</th>\n",
       "      <th>Wdir</th>\n",
       "      <th>Etmp</th>\n",
       "      <th>Itmp</th>\n",
       "      <th>Ndir</th>\n",
       "      <th>Pab1</th>\n",
       "      <th>Pab2</th>\n",
       "      <th>Pab3</th>\n",
       "      <th>Prtv</th>\n",
       "      <th>Patv</th>\n",
       "    </tr>\n",
       "  </thead>\n",
       "  <tbody>\n",
       "    <tr>\n",
       "      <th>0</th>\n",
       "      <td>1</td>\n",
       "      <td>1</td>\n",
       "      <td>00:00</td>\n",
       "      <td>NaN</td>\n",
       "      <td>NaN</td>\n",
       "      <td>NaN</td>\n",
       "      <td>NaN</td>\n",
       "      <td>NaN</td>\n",
       "      <td>NaN</td>\n",
       "      <td>NaN</td>\n",
       "      <td>NaN</td>\n",
       "      <td>NaN</td>\n",
       "      <td>NaN</td>\n",
       "    </tr>\n",
       "    <tr>\n",
       "      <th>1</th>\n",
       "      <td>1</td>\n",
       "      <td>1</td>\n",
       "      <td>00:10</td>\n",
       "      <td>6.17</td>\n",
       "      <td>-3.99</td>\n",
       "      <td>30.73</td>\n",
       "      <td>41.80</td>\n",
       "      <td>25.92</td>\n",
       "      <td>1.0</td>\n",
       "      <td>1.0</td>\n",
       "      <td>1.0</td>\n",
       "      <td>-0.25</td>\n",
       "      <td>494.66</td>\n",
       "    </tr>\n",
       "    <tr>\n",
       "      <th>2</th>\n",
       "      <td>1</td>\n",
       "      <td>1</td>\n",
       "      <td>00:20</td>\n",
       "      <td>6.27</td>\n",
       "      <td>-2.18</td>\n",
       "      <td>30.60</td>\n",
       "      <td>41.63</td>\n",
       "      <td>20.91</td>\n",
       "      <td>1.0</td>\n",
       "      <td>1.0</td>\n",
       "      <td>1.0</td>\n",
       "      <td>-0.24</td>\n",
       "      <td>509.76</td>\n",
       "    </tr>\n",
       "    <tr>\n",
       "      <th>3</th>\n",
       "      <td>1</td>\n",
       "      <td>1</td>\n",
       "      <td>00:30</td>\n",
       "      <td>6.42</td>\n",
       "      <td>-0.73</td>\n",
       "      <td>30.52</td>\n",
       "      <td>41.52</td>\n",
       "      <td>20.91</td>\n",
       "      <td>1.0</td>\n",
       "      <td>1.0</td>\n",
       "      <td>1.0</td>\n",
       "      <td>-0.26</td>\n",
       "      <td>542.53</td>\n",
       "    </tr>\n",
       "    <tr>\n",
       "      <th>4</th>\n",
       "      <td>1</td>\n",
       "      <td>1</td>\n",
       "      <td>00:40</td>\n",
       "      <td>6.25</td>\n",
       "      <td>0.89</td>\n",
       "      <td>30.49</td>\n",
       "      <td>41.38</td>\n",
       "      <td>20.91</td>\n",
       "      <td>1.0</td>\n",
       "      <td>1.0</td>\n",
       "      <td>1.0</td>\n",
       "      <td>-0.23</td>\n",
       "      <td>509.36</td>\n",
       "    </tr>\n",
       "  </tbody>\n",
       "</table>\n",
       "</div>"
      ],
      "text/plain": [
       "   TurbID  Day Tmstamp  Wspd  Wdir   Etmp   Itmp   Ndir  Pab1  Pab2  Pab3  \\\n",
       "0       1    1   00:00   NaN   NaN    NaN    NaN    NaN   NaN   NaN   NaN   \n",
       "1       1    1   00:10  6.17 -3.99  30.73  41.80  25.92   1.0   1.0   1.0   \n",
       "2       1    1   00:20  6.27 -2.18  30.60  41.63  20.91   1.0   1.0   1.0   \n",
       "3       1    1   00:30  6.42 -0.73  30.52  41.52  20.91   1.0   1.0   1.0   \n",
       "4       1    1   00:40  6.25  0.89  30.49  41.38  20.91   1.0   1.0   1.0   \n",
       "\n",
       "   Prtv    Patv  \n",
       "0   NaN     NaN  \n",
       "1 -0.25  494.66  \n",
       "2 -0.24  509.76  \n",
       "3 -0.26  542.53  \n",
       "4 -0.23  509.36  "
      ]
     },
     "execution_count": 13,
     "metadata": {},
     "output_type": "execute_result"
    }
   ],
   "source": [
    "df = df_updated[['TurbID', 'Day', 'Tmstamp', 'Wspd', 'Wdir', 'Etmp', 'Itmp', 'Ndir', 'Pab1', 'Pab2', 'Pab3', 'Prtv', 'Patv']].copy()\n",
    "df.head()"
   ]
  },
  {
   "cell_type": "markdown",
   "id": "b28c66a7",
   "metadata": {},
   "source": [
    "# Timestamp 변환 (시간, 분)으로 변경\n",
    "* hour, minute로 변환"
   ]
  },
  {
   "cell_type": "code",
   "execution_count": 14,
   "id": "69986a74",
   "metadata": {},
   "outputs": [
    {
     "data": {
      "text/plain": [
       "['00', '00']"
      ]
     },
     "execution_count": 14,
     "metadata": {},
     "output_type": "execute_result"
    }
   ],
   "source": [
    "df['Tmstamp'][0].split(':')"
   ]
  },
  {
   "cell_type": "code",
   "execution_count": 15,
   "id": "a0894c59",
   "metadata": {},
   "outputs": [
    {
     "data": {
      "text/plain": [
       "('03', '20')"
      ]
     },
     "execution_count": 15,
     "metadata": {},
     "output_type": "execute_result"
    }
   ],
   "source": [
    "a, b = df['Tmstamp'][20].split(':')\n",
    "a, b"
   ]
  },
  {
   "cell_type": "code",
   "execution_count": 16,
   "id": "b194a211",
   "metadata": {},
   "outputs": [
    {
     "name": "stdout",
     "output_type": "stream",
     "text": [
      "3\n"
     ]
    }
   ],
   "source": [
    "print(int(a))"
   ]
  },
  {
   "cell_type": "code",
   "execution_count": null,
   "id": "6cca08d5",
   "metadata": {},
   "outputs": [],
   "source": []
  },
  {
   "cell_type": "code",
   "execution_count": 17,
   "id": "40f94815",
   "metadata": {},
   "outputs": [],
   "source": [
    "def make_hour(values):\n",
    "    a, b = values.split(':')\n",
    "    \n",
    "    return int(a)\n",
    "\n",
    "df['hour'] = df['Tmstamp'].apply(lambda x: make_hour(x))   "
   ]
  },
  {
   "cell_type": "code",
   "execution_count": 18,
   "id": "aa475eb6",
   "metadata": {},
   "outputs": [],
   "source": [
    "def make_minute(values):\n",
    "    a, b = values.split(':')\n",
    "    if b == '00':\n",
    "        return 0\n",
    "    elif b== '10':\n",
    "        return 1\n",
    "    elif b== '20':\n",
    "        return 2\n",
    "    elif b== '30':\n",
    "        return 3\n",
    "    elif b== '40':\n",
    "        return 4\n",
    "    elif b== '50':\n",
    "        return 5\n",
    "\n",
    "df['minute'] = df['Tmstamp'].apply(lambda x: make_minute(x))"
   ]
  },
  {
   "cell_type": "code",
   "execution_count": 19,
   "id": "3e9266fc",
   "metadata": {},
   "outputs": [],
   "source": [
    "df.drop(columns=['Tmstamp'], inplace=True)"
   ]
  },
  {
   "cell_type": "code",
   "execution_count": 20,
   "id": "1db27e6e",
   "metadata": {},
   "outputs": [
    {
     "data": {
      "text/html": [
       "<div>\n",
       "<style scoped>\n",
       "    .dataframe tbody tr th:only-of-type {\n",
       "        vertical-align: middle;\n",
       "    }\n",
       "\n",
       "    .dataframe tbody tr th {\n",
       "        vertical-align: top;\n",
       "    }\n",
       "\n",
       "    .dataframe thead th {\n",
       "        text-align: right;\n",
       "    }\n",
       "</style>\n",
       "<table border=\"1\" class=\"dataframe\">\n",
       "  <thead>\n",
       "    <tr style=\"text-align: right;\">\n",
       "      <th></th>\n",
       "      <th>TurbID</th>\n",
       "      <th>Day</th>\n",
       "      <th>Wspd</th>\n",
       "      <th>Wdir</th>\n",
       "      <th>Etmp</th>\n",
       "      <th>Itmp</th>\n",
       "      <th>Ndir</th>\n",
       "      <th>Pab1</th>\n",
       "      <th>Pab2</th>\n",
       "      <th>Pab3</th>\n",
       "      <th>Prtv</th>\n",
       "      <th>Patv</th>\n",
       "      <th>hour</th>\n",
       "      <th>minute</th>\n",
       "    </tr>\n",
       "  </thead>\n",
       "  <tbody>\n",
       "    <tr>\n",
       "      <th>0</th>\n",
       "      <td>1</td>\n",
       "      <td>1</td>\n",
       "      <td>NaN</td>\n",
       "      <td>NaN</td>\n",
       "      <td>NaN</td>\n",
       "      <td>NaN</td>\n",
       "      <td>NaN</td>\n",
       "      <td>NaN</td>\n",
       "      <td>NaN</td>\n",
       "      <td>NaN</td>\n",
       "      <td>NaN</td>\n",
       "      <td>NaN</td>\n",
       "      <td>0</td>\n",
       "      <td>0</td>\n",
       "    </tr>\n",
       "    <tr>\n",
       "      <th>1</th>\n",
       "      <td>1</td>\n",
       "      <td>1</td>\n",
       "      <td>6.17</td>\n",
       "      <td>-3.99</td>\n",
       "      <td>30.73</td>\n",
       "      <td>41.80</td>\n",
       "      <td>25.92</td>\n",
       "      <td>1.00</td>\n",
       "      <td>1.00</td>\n",
       "      <td>1.00</td>\n",
       "      <td>-0.25</td>\n",
       "      <td>494.66</td>\n",
       "      <td>0</td>\n",
       "      <td>1</td>\n",
       "    </tr>\n",
       "    <tr>\n",
       "      <th>2</th>\n",
       "      <td>1</td>\n",
       "      <td>1</td>\n",
       "      <td>6.27</td>\n",
       "      <td>-2.18</td>\n",
       "      <td>30.60</td>\n",
       "      <td>41.63</td>\n",
       "      <td>20.91</td>\n",
       "      <td>1.00</td>\n",
       "      <td>1.00</td>\n",
       "      <td>1.00</td>\n",
       "      <td>-0.24</td>\n",
       "      <td>509.76</td>\n",
       "      <td>0</td>\n",
       "      <td>2</td>\n",
       "    </tr>\n",
       "    <tr>\n",
       "      <th>3</th>\n",
       "      <td>1</td>\n",
       "      <td>1</td>\n",
       "      <td>6.42</td>\n",
       "      <td>-0.73</td>\n",
       "      <td>30.52</td>\n",
       "      <td>41.52</td>\n",
       "      <td>20.91</td>\n",
       "      <td>1.00</td>\n",
       "      <td>1.00</td>\n",
       "      <td>1.00</td>\n",
       "      <td>-0.26</td>\n",
       "      <td>542.53</td>\n",
       "      <td>0</td>\n",
       "      <td>3</td>\n",
       "    </tr>\n",
       "    <tr>\n",
       "      <th>4</th>\n",
       "      <td>1</td>\n",
       "      <td>1</td>\n",
       "      <td>6.25</td>\n",
       "      <td>0.89</td>\n",
       "      <td>30.49</td>\n",
       "      <td>41.38</td>\n",
       "      <td>20.91</td>\n",
       "      <td>1.00</td>\n",
       "      <td>1.00</td>\n",
       "      <td>1.00</td>\n",
       "      <td>-0.23</td>\n",
       "      <td>509.36</td>\n",
       "      <td>0</td>\n",
       "      <td>4</td>\n",
       "    </tr>\n",
       "    <tr>\n",
       "      <th>...</th>\n",
       "      <td>...</td>\n",
       "      <td>...</td>\n",
       "      <td>...</td>\n",
       "      <td>...</td>\n",
       "      <td>...</td>\n",
       "      <td>...</td>\n",
       "      <td>...</td>\n",
       "      <td>...</td>\n",
       "      <td>...</td>\n",
       "      <td>...</td>\n",
       "      <td>...</td>\n",
       "      <td>...</td>\n",
       "      <td>...</td>\n",
       "      <td>...</td>\n",
       "    </tr>\n",
       "    <tr>\n",
       "      <th>3859195</th>\n",
       "      <td>134</td>\n",
       "      <td>200</td>\n",
       "      <td>4.86</td>\n",
       "      <td>4.68</td>\n",
       "      <td>9.04</td>\n",
       "      <td>10.40</td>\n",
       "      <td>174.39</td>\n",
       "      <td>0.01</td>\n",
       "      <td>0.01</td>\n",
       "      <td>0.01</td>\n",
       "      <td>-108.13</td>\n",
       "      <td>308.65</td>\n",
       "      <td>23</td>\n",
       "      <td>1</td>\n",
       "    </tr>\n",
       "    <tr>\n",
       "      <th>3859196</th>\n",
       "      <td>134</td>\n",
       "      <td>200</td>\n",
       "      <td>4.46</td>\n",
       "      <td>-4.00</td>\n",
       "      <td>8.79</td>\n",
       "      <td>10.33</td>\n",
       "      <td>179.76</td>\n",
       "      <td>0.01</td>\n",
       "      <td>0.01</td>\n",
       "      <td>0.01</td>\n",
       "      <td>-93.64</td>\n",
       "      <td>221.60</td>\n",
       "      <td>23</td>\n",
       "      <td>2</td>\n",
       "    </tr>\n",
       "    <tr>\n",
       "      <th>3859197</th>\n",
       "      <td>134</td>\n",
       "      <td>200</td>\n",
       "      <td>4.23</td>\n",
       "      <td>-0.08</td>\n",
       "      <td>8.74</td>\n",
       "      <td>10.22</td>\n",
       "      <td>172.35</td>\n",
       "      <td>0.01</td>\n",
       "      <td>0.01</td>\n",
       "      <td>0.01</td>\n",
       "      <td>-111.20</td>\n",
       "      <td>220.60</td>\n",
       "      <td>23</td>\n",
       "      <td>3</td>\n",
       "    </tr>\n",
       "    <tr>\n",
       "      <th>3859198</th>\n",
       "      <td>134</td>\n",
       "      <td>200</td>\n",
       "      <td>4.36</td>\n",
       "      <td>-6.12</td>\n",
       "      <td>8.64</td>\n",
       "      <td>10.10</td>\n",
       "      <td>172.35</td>\n",
       "      <td>0.01</td>\n",
       "      <td>0.01</td>\n",
       "      <td>0.01</td>\n",
       "      <td>-108.04</td>\n",
       "      <td>222.15</td>\n",
       "      <td>23</td>\n",
       "      <td>4</td>\n",
       "    </tr>\n",
       "    <tr>\n",
       "      <th>3859199</th>\n",
       "      <td>134</td>\n",
       "      <td>200</td>\n",
       "      <td>4.79</td>\n",
       "      <td>-3.65</td>\n",
       "      <td>8.53</td>\n",
       "      <td>10.01</td>\n",
       "      <td>168.58</td>\n",
       "      <td>0.01</td>\n",
       "      <td>0.01</td>\n",
       "      <td>0.01</td>\n",
       "      <td>-119.76</td>\n",
       "      <td>264.17</td>\n",
       "      <td>23</td>\n",
       "      <td>5</td>\n",
       "    </tr>\n",
       "  </tbody>\n",
       "</table>\n",
       "<p>3859200 rows × 14 columns</p>\n",
       "</div>"
      ],
      "text/plain": [
       "         TurbID  Day  Wspd  Wdir   Etmp   Itmp    Ndir  Pab1  Pab2  Pab3  \\\n",
       "0             1    1   NaN   NaN    NaN    NaN     NaN   NaN   NaN   NaN   \n",
       "1             1    1  6.17 -3.99  30.73  41.80   25.92  1.00  1.00  1.00   \n",
       "2             1    1  6.27 -2.18  30.60  41.63   20.91  1.00  1.00  1.00   \n",
       "3             1    1  6.42 -0.73  30.52  41.52   20.91  1.00  1.00  1.00   \n",
       "4             1    1  6.25  0.89  30.49  41.38   20.91  1.00  1.00  1.00   \n",
       "...         ...  ...   ...   ...    ...    ...     ...   ...   ...   ...   \n",
       "3859195     134  200  4.86  4.68   9.04  10.40  174.39  0.01  0.01  0.01   \n",
       "3859196     134  200  4.46 -4.00   8.79  10.33  179.76  0.01  0.01  0.01   \n",
       "3859197     134  200  4.23 -0.08   8.74  10.22  172.35  0.01  0.01  0.01   \n",
       "3859198     134  200  4.36 -6.12   8.64  10.10  172.35  0.01  0.01  0.01   \n",
       "3859199     134  200  4.79 -3.65   8.53  10.01  168.58  0.01  0.01  0.01   \n",
       "\n",
       "           Prtv    Patv  hour  minute  \n",
       "0           NaN     NaN     0       0  \n",
       "1         -0.25  494.66     0       1  \n",
       "2         -0.24  509.76     0       2  \n",
       "3         -0.26  542.53     0       3  \n",
       "4         -0.23  509.36     0       4  \n",
       "...         ...     ...   ...     ...  \n",
       "3859195 -108.13  308.65    23       1  \n",
       "3859196  -93.64  221.60    23       2  \n",
       "3859197 -111.20  220.60    23       3  \n",
       "3859198 -108.04  222.15    23       4  \n",
       "3859199 -119.76  264.17    23       5  \n",
       "\n",
       "[3859200 rows x 14 columns]"
      ]
     },
     "execution_count": 20,
     "metadata": {},
     "output_type": "execute_result"
    }
   ],
   "source": [
    "df"
   ]
  },
  {
   "cell_type": "code",
   "execution_count": 21,
   "id": "3129907f",
   "metadata": {},
   "outputs": [],
   "source": [
    "# 순서 넘겨주기.\n",
    "df = df[['TurbID', 'Day', 'hour', 'minute', 'Wspd', 'Wdir', 'Etmp', 'Itmp', 'Ndir', 'Pab1', 'Pab2', 'Pab3', 'Prtv', 'Patv']]"
   ]
  },
  {
   "cell_type": "code",
   "execution_count": 22,
   "id": "3419ee98",
   "metadata": {},
   "outputs": [
    {
     "data": {
      "text/html": [
       "<div>\n",
       "<style scoped>\n",
       "    .dataframe tbody tr th:only-of-type {\n",
       "        vertical-align: middle;\n",
       "    }\n",
       "\n",
       "    .dataframe tbody tr th {\n",
       "        vertical-align: top;\n",
       "    }\n",
       "\n",
       "    .dataframe thead th {\n",
       "        text-align: right;\n",
       "    }\n",
       "</style>\n",
       "<table border=\"1\" class=\"dataframe\">\n",
       "  <thead>\n",
       "    <tr style=\"text-align: right;\">\n",
       "      <th></th>\n",
       "      <th>TurbID</th>\n",
       "      <th>Day</th>\n",
       "      <th>hour</th>\n",
       "      <th>minute</th>\n",
       "      <th>Wspd</th>\n",
       "      <th>Wdir</th>\n",
       "      <th>Etmp</th>\n",
       "      <th>Itmp</th>\n",
       "      <th>Ndir</th>\n",
       "      <th>Pab1</th>\n",
       "      <th>Pab2</th>\n",
       "      <th>Pab3</th>\n",
       "      <th>Prtv</th>\n",
       "      <th>Patv</th>\n",
       "    </tr>\n",
       "  </thead>\n",
       "  <tbody>\n",
       "    <tr>\n",
       "      <th>0</th>\n",
       "      <td>1</td>\n",
       "      <td>1</td>\n",
       "      <td>0</td>\n",
       "      <td>0</td>\n",
       "      <td>NaN</td>\n",
       "      <td>NaN</td>\n",
       "      <td>NaN</td>\n",
       "      <td>NaN</td>\n",
       "      <td>NaN</td>\n",
       "      <td>NaN</td>\n",
       "      <td>NaN</td>\n",
       "      <td>NaN</td>\n",
       "      <td>NaN</td>\n",
       "      <td>NaN</td>\n",
       "    </tr>\n",
       "    <tr>\n",
       "      <th>1</th>\n",
       "      <td>1</td>\n",
       "      <td>1</td>\n",
       "      <td>0</td>\n",
       "      <td>1</td>\n",
       "      <td>6.17</td>\n",
       "      <td>-3.99</td>\n",
       "      <td>30.73</td>\n",
       "      <td>41.80</td>\n",
       "      <td>25.92</td>\n",
       "      <td>1.0</td>\n",
       "      <td>1.0</td>\n",
       "      <td>1.0</td>\n",
       "      <td>-0.25</td>\n",
       "      <td>494.66</td>\n",
       "    </tr>\n",
       "    <tr>\n",
       "      <th>2</th>\n",
       "      <td>1</td>\n",
       "      <td>1</td>\n",
       "      <td>0</td>\n",
       "      <td>2</td>\n",
       "      <td>6.27</td>\n",
       "      <td>-2.18</td>\n",
       "      <td>30.60</td>\n",
       "      <td>41.63</td>\n",
       "      <td>20.91</td>\n",
       "      <td>1.0</td>\n",
       "      <td>1.0</td>\n",
       "      <td>1.0</td>\n",
       "      <td>-0.24</td>\n",
       "      <td>509.76</td>\n",
       "    </tr>\n",
       "    <tr>\n",
       "      <th>3</th>\n",
       "      <td>1</td>\n",
       "      <td>1</td>\n",
       "      <td>0</td>\n",
       "      <td>3</td>\n",
       "      <td>6.42</td>\n",
       "      <td>-0.73</td>\n",
       "      <td>30.52</td>\n",
       "      <td>41.52</td>\n",
       "      <td>20.91</td>\n",
       "      <td>1.0</td>\n",
       "      <td>1.0</td>\n",
       "      <td>1.0</td>\n",
       "      <td>-0.26</td>\n",
       "      <td>542.53</td>\n",
       "    </tr>\n",
       "    <tr>\n",
       "      <th>4</th>\n",
       "      <td>1</td>\n",
       "      <td>1</td>\n",
       "      <td>0</td>\n",
       "      <td>4</td>\n",
       "      <td>6.25</td>\n",
       "      <td>0.89</td>\n",
       "      <td>30.49</td>\n",
       "      <td>41.38</td>\n",
       "      <td>20.91</td>\n",
       "      <td>1.0</td>\n",
       "      <td>1.0</td>\n",
       "      <td>1.0</td>\n",
       "      <td>-0.23</td>\n",
       "      <td>509.36</td>\n",
       "    </tr>\n",
       "  </tbody>\n",
       "</table>\n",
       "</div>"
      ],
      "text/plain": [
       "   TurbID  Day  hour  minute  Wspd  Wdir   Etmp   Itmp   Ndir  Pab1  Pab2  \\\n",
       "0       1    1     0       0   NaN   NaN    NaN    NaN    NaN   NaN   NaN   \n",
       "1       1    1     0       1  6.17 -3.99  30.73  41.80  25.92   1.0   1.0   \n",
       "2       1    1     0       2  6.27 -2.18  30.60  41.63  20.91   1.0   1.0   \n",
       "3       1    1     0       3  6.42 -0.73  30.52  41.52  20.91   1.0   1.0   \n",
       "4       1    1     0       4  6.25  0.89  30.49  41.38  20.91   1.0   1.0   \n",
       "\n",
       "   Pab3  Prtv    Patv  \n",
       "0   NaN   NaN     NaN  \n",
       "1   1.0 -0.25  494.66  \n",
       "2   1.0 -0.24  509.76  \n",
       "3   1.0 -0.26  542.53  \n",
       "4   1.0 -0.23  509.36  "
      ]
     },
     "execution_count": 22,
     "metadata": {},
     "output_type": "execute_result"
    }
   ],
   "source": [
    "df.head()"
   ]
  },
  {
   "cell_type": "markdown",
   "id": "a681da73",
   "metadata": {},
   "source": [
    "# 수치형 data간의 corr"
   ]
  },
  {
   "cell_type": "code",
   "execution_count": 23,
   "id": "b10babfc",
   "metadata": {},
   "outputs": [
    {
     "data": {
      "image/png": "[encoded data removed]",
      "text/plain": [
       "<Figure size 1152x1152 with 2 Axes>"
      ]
     },
     "metadata": {},
     "output_type": "display_data"
    }
   ],
   "source": [
    "plt.subplots(figsize=(16, 16))\n",
    "sns.heatmap(df[['hour', 'minute', 'Wspd', 'Wdir', 'Etmp', 'Itmp', 'Ndir', 'Pab1', 'Pab2', 'Pab3', 'Prtv', 'Patv']].corr(), annot=True, square=True)\n",
    "plt.show()"
   ]
  },
  {
   "cell_type": "code",
   "execution_count": 24,
   "id": "9b9f4519",
   "metadata": {},
   "outputs": [
    {
     "data": {
      "text/html": [
       "<div>\n",
       "<style scoped>\n",
       "    .dataframe tbody tr th:only-of-type {\n",
       "        vertical-align: middle;\n",
       "    }\n",
       "\n",
       "    .dataframe tbody tr th {\n",
       "        vertical-align: top;\n",
       "    }\n",
       "\n",
       "    .dataframe thead th {\n",
       "        text-align: right;\n",
       "    }\n",
       "</style>\n",
       "<table border=\"1\" class=\"dataframe\">\n",
       "  <thead>\n",
       "    <tr style=\"text-align: right;\">\n",
       "      <th></th>\n",
       "      <th>TurbID</th>\n",
       "      <th>Day</th>\n",
       "      <th>hour</th>\n",
       "      <th>minute</th>\n",
       "      <th>Wspd</th>\n",
       "      <th>Wdir</th>\n",
       "      <th>Etmp</th>\n",
       "      <th>Itmp</th>\n",
       "      <th>Ndir</th>\n",
       "      <th>Pab1</th>\n",
       "      <th>Pab2</th>\n",
       "      <th>Pab3</th>\n",
       "      <th>Prtv</th>\n",
       "      <th>Patv</th>\n",
       "    </tr>\n",
       "  </thead>\n",
       "  <tbody>\n",
       "    <tr>\n",
       "      <th>0</th>\n",
       "      <td>1</td>\n",
       "      <td>1</td>\n",
       "      <td>0</td>\n",
       "      <td>0</td>\n",
       "      <td>NaN</td>\n",
       "      <td>NaN</td>\n",
       "      <td>NaN</td>\n",
       "      <td>NaN</td>\n",
       "      <td>NaN</td>\n",
       "      <td>NaN</td>\n",
       "      <td>NaN</td>\n",
       "      <td>NaN</td>\n",
       "      <td>NaN</td>\n",
       "      <td>NaN</td>\n",
       "    </tr>\n",
       "    <tr>\n",
       "      <th>1</th>\n",
       "      <td>1</td>\n",
       "      <td>1</td>\n",
       "      <td>0</td>\n",
       "      <td>1</td>\n",
       "      <td>6.17</td>\n",
       "      <td>-3.99</td>\n",
       "      <td>30.73</td>\n",
       "      <td>41.80</td>\n",
       "      <td>25.92</td>\n",
       "      <td>1.00</td>\n",
       "      <td>1.00</td>\n",
       "      <td>1.00</td>\n",
       "      <td>-0.25</td>\n",
       "      <td>494.66</td>\n",
       "    </tr>\n",
       "    <tr>\n",
       "      <th>2</th>\n",
       "      <td>1</td>\n",
       "      <td>1</td>\n",
       "      <td>0</td>\n",
       "      <td>2</td>\n",
       "      <td>6.27</td>\n",
       "      <td>-2.18</td>\n",
       "      <td>30.60</td>\n",
       "      <td>41.63</td>\n",
       "      <td>20.91</td>\n",
       "      <td>1.00</td>\n",
       "      <td>1.00</td>\n",
       "      <td>1.00</td>\n",
       "      <td>-0.24</td>\n",
       "      <td>509.76</td>\n",
       "    </tr>\n",
       "    <tr>\n",
       "      <th>3</th>\n",
       "      <td>1</td>\n",
       "      <td>1</td>\n",
       "      <td>0</td>\n",
       "      <td>3</td>\n",
       "      <td>6.42</td>\n",
       "      <td>-0.73</td>\n",
       "      <td>30.52</td>\n",
       "      <td>41.52</td>\n",
       "      <td>20.91</td>\n",
       "      <td>1.00</td>\n",
       "      <td>1.00</td>\n",
       "      <td>1.00</td>\n",
       "      <td>-0.26</td>\n",
       "      <td>542.53</td>\n",
       "    </tr>\n",
       "    <tr>\n",
       "      <th>4</th>\n",
       "      <td>1</td>\n",
       "      <td>1</td>\n",
       "      <td>0</td>\n",
       "      <td>4</td>\n",
       "      <td>6.25</td>\n",
       "      <td>0.89</td>\n",
       "      <td>30.49</td>\n",
       "      <td>41.38</td>\n",
       "      <td>20.91</td>\n",
       "      <td>1.00</td>\n",
       "      <td>1.00</td>\n",
       "      <td>1.00</td>\n",
       "      <td>-0.23</td>\n",
       "      <td>509.36</td>\n",
       "    </tr>\n",
       "    <tr>\n",
       "      <th>...</th>\n",
       "      <td>...</td>\n",
       "      <td>...</td>\n",
       "      <td>...</td>\n",
       "      <td>...</td>\n",
       "      <td>...</td>\n",
       "      <td>...</td>\n",
       "      <td>...</td>\n",
       "      <td>...</td>\n",
       "      <td>...</td>\n",
       "      <td>...</td>\n",
       "      <td>...</td>\n",
       "      <td>...</td>\n",
       "      <td>...</td>\n",
       "      <td>...</td>\n",
       "    </tr>\n",
       "    <tr>\n",
       "      <th>3859195</th>\n",
       "      <td>134</td>\n",
       "      <td>200</td>\n",
       "      <td>23</td>\n",
       "      <td>1</td>\n",
       "      <td>4.86</td>\n",
       "      <td>4.68</td>\n",
       "      <td>9.04</td>\n",
       "      <td>10.40</td>\n",
       "      <td>174.39</td>\n",
       "      <td>0.01</td>\n",
       "      <td>0.01</td>\n",
       "      <td>0.01</td>\n",
       "      <td>-108.13</td>\n",
       "      <td>308.65</td>\n",
       "    </tr>\n",
       "    <tr>\n",
       "      <th>3859196</th>\n",
       "      <td>134</td>\n",
       "      <td>200</td>\n",
       "      <td>23</td>\n",
       "      <td>2</td>\n",
       "      <td>4.46</td>\n",
       "      <td>-4.00</td>\n",
       "      <td>8.79</td>\n",
       "      <td>10.33</td>\n",
       "      <td>179.76</td>\n",
       "      <td>0.01</td>\n",
       "      <td>0.01</td>\n",
       "      <td>0.01</td>\n",
       "      <td>-93.64</td>\n",
       "      <td>221.60</td>\n",
       "    </tr>\n",
       "    <tr>\n",
       "      <th>3859197</th>\n",
       "      <td>134</td>\n",
       "      <td>200</td>\n",
       "      <td>23</td>\n",
       "      <td>3</td>\n",
       "      <td>4.23</td>\n",
       "      <td>-0.08</td>\n",
       "      <td>8.74</td>\n",
       "      <td>10.22</td>\n",
       "      <td>172.35</td>\n",
       "      <td>0.01</td>\n",
       "      <td>0.01</td>\n",
       "      <td>0.01</td>\n",
       "      <td>-111.20</td>\n",
       "      <td>220.60</td>\n",
       "    </tr>\n",
       "    <tr>\n",
       "      <th>3859198</th>\n",
       "      <td>134</td>\n",
       "      <td>200</td>\n",
       "      <td>23</td>\n",
       "      <td>4</td>\n",
       "      <td>4.36</td>\n",
       "      <td>-6.12</td>\n",
       "      <td>8.64</td>\n",
       "      <td>10.10</td>\n",
       "      <td>172.35</td>\n",
       "      <td>0.01</td>\n",
       "      <td>0.01</td>\n",
       "      <td>0.01</td>\n",
       "      <td>-108.04</td>\n",
       "      <td>222.15</td>\n",
       "    </tr>\n",
       "    <tr>\n",
       "      <th>3859199</th>\n",
       "      <td>134</td>\n",
       "      <td>200</td>\n",
       "      <td>23</td>\n",
       "      <td>5</td>\n",
       "      <td>4.79</td>\n",
       "      <td>-3.65</td>\n",
       "      <td>8.53</td>\n",
       "      <td>10.01</td>\n",
       "      <td>168.58</td>\n",
       "      <td>0.01</td>\n",
       "      <td>0.01</td>\n",
       "      <td>0.01</td>\n",
       "      <td>-119.76</td>\n",
       "      <td>264.17</td>\n",
       "    </tr>\n",
       "  </tbody>\n",
       "</table>\n",
       "<p>3859200 rows × 14 columns</p>\n",
       "</div>"
      ],
      "text/plain": [
       "         TurbID  Day  hour  minute  Wspd  Wdir   Etmp   Itmp    Ndir  Pab1  \\\n",
       "0             1    1     0       0   NaN   NaN    NaN    NaN     NaN   NaN   \n",
       "1             1    1     0       1  6.17 -3.99  30.73  41.80   25.92  1.00   \n",
       "2             1    1     0       2  6.27 -2.18  30.60  41.63   20.91  1.00   \n",
       "3             1    1     0       3  6.42 -0.73  30.52  41.52   20.91  1.00   \n",
       "4             1    1     0       4  6.25  0.89  30.49  41.38   20.91  1.00   \n",
       "...         ...  ...   ...     ...   ...   ...    ...    ...     ...   ...   \n",
       "3859195     134  200    23       1  4.86  4.68   9.04  10.40  174.39  0.01   \n",
       "3859196     134  200    23       2  4.46 -4.00   8.79  10.33  179.76  0.01   \n",
       "3859197     134  200    23       3  4.23 -0.08   8.74  10.22  172.35  0.01   \n",
       "3859198     134  200    23       4  4.36 -6.12   8.64  10.10  172.35  0.01   \n",
       "3859199     134  200    23       5  4.79 -3.65   8.53  10.01  168.58  0.01   \n",
       "\n",
       "         Pab2  Pab3    Prtv    Patv  \n",
       "0         NaN   NaN     NaN     NaN  \n",
       "1        1.00  1.00   -0.25  494.66  \n",
       "2        1.00  1.00   -0.24  509.76  \n",
       "3        1.00  1.00   -0.26  542.53  \n",
       "4        1.00  1.00   -0.23  509.36  \n",
       "...       ...   ...     ...     ...  \n",
       "3859195  0.01  0.01 -108.13  308.65  \n",
       "3859196  0.01  0.01  -93.64  221.60  \n",
       "3859197  0.01  0.01 -111.20  220.60  \n",
       "3859198  0.01  0.01 -108.04  222.15  \n",
       "3859199  0.01  0.01 -119.76  264.17  \n",
       "\n",
       "[3859200 rows x 14 columns]"
      ]
     },
     "execution_count": 24,
     "metadata": {},
     "output_type": "execute_result"
    }
   ],
   "source": [
    "train_data = df.copy()\n",
    "train_data"
   ]
  },
  {
   "cell_type": "code",
   "execution_count": null,
   "id": "b5855257",
   "metadata": {},
   "outputs": [],
   "source": []
  },
  {
   "cell_type": "markdown",
   "id": "8878608d",
   "metadata": {},
   "source": [
    "# 5가지 규칙에 해당하는 Patv 값 제거."
   ]
  },
  {
   "cell_type": "code",
   "execution_count": 25,
   "id": "0ff76443",
   "metadata": {},
   "outputs": [],
   "source": [
    "a = train_data[(train_data['Patv'] <=0) & (train_data['Wspd'] > 2.5)].index\n",
    "train_data.loc[a, 'Patv'] = 0\n",
    "\n",
    "a = train_data[train_data['Patv'].isnull()==True].index\n",
    "train_data.loc[a, 'Patv'] = 0\n",
    "\n",
    "a = train_data[(train_data['Pab1'] > 89) | (train_data['Pab2'] > 89) | (train_data['Pab3'] > 89)].index\n",
    "train_data.loc[a, 'Patv'] = 0\n",
    "\n",
    "a = train_data[(train_data['Ndir'] > 720) | (train_data['Ndir'] < -720)].index\n",
    "train_data.loc[a, 'Patv'] = 0\n",
    "\n",
    "a = train_data[(train_data['Wdir'] > 180) | (train_data['Wdir'] < -180)].index\n",
    "train_data.loc[a, 'Patv'] = 0"
   ]
  },
  {
   "cell_type": "markdown",
   "id": "d0fb73f7",
   "metadata": {},
   "source": [
    "# interpolate 후 bfill\n",
    "* Day 65~67 구간 비어 있는 곳을 interpolate로 채워줌."
   ]
  },
  {
   "cell_type": "code",
   "execution_count": 26,
   "id": "288ebd35",
   "metadata": {},
   "outputs": [
    {
     "data": {
      "text/html": [
       "<div>\n",
       "<style scoped>\n",
       "    .dataframe tbody tr th:only-of-type {\n",
       "        vertical-align: middle;\n",
       "    }\n",
       "\n",
       "    .dataframe tbody tr th {\n",
       "        vertical-align: top;\n",
       "    }\n",
       "\n",
       "    .dataframe thead th {\n",
       "        text-align: right;\n",
       "    }\n",
       "</style>\n",
       "<table border=\"1\" class=\"dataframe\">\n",
       "  <thead>\n",
       "    <tr style=\"text-align: right;\">\n",
       "      <th></th>\n",
       "      <th>TurbID</th>\n",
       "      <th>Day</th>\n",
       "      <th>hour</th>\n",
       "      <th>minute</th>\n",
       "      <th>Wspd</th>\n",
       "      <th>Wdir</th>\n",
       "      <th>Etmp</th>\n",
       "      <th>Itmp</th>\n",
       "      <th>Ndir</th>\n",
       "      <th>Pab1</th>\n",
       "      <th>Pab2</th>\n",
       "      <th>Pab3</th>\n",
       "      <th>Prtv</th>\n",
       "      <th>Patv</th>\n",
       "    </tr>\n",
       "  </thead>\n",
       "  <tbody>\n",
       "    <tr>\n",
       "      <th>0</th>\n",
       "      <td>1</td>\n",
       "      <td>1</td>\n",
       "      <td>0</td>\n",
       "      <td>0</td>\n",
       "      <td>6.17</td>\n",
       "      <td>-3.99</td>\n",
       "      <td>30.73</td>\n",
       "      <td>41.80</td>\n",
       "      <td>25.92</td>\n",
       "      <td>1.0</td>\n",
       "      <td>1.0</td>\n",
       "      <td>1.0</td>\n",
       "      <td>-0.25</td>\n",
       "      <td>0.00</td>\n",
       "    </tr>\n",
       "    <tr>\n",
       "      <th>1</th>\n",
       "      <td>1</td>\n",
       "      <td>1</td>\n",
       "      <td>0</td>\n",
       "      <td>1</td>\n",
       "      <td>6.17</td>\n",
       "      <td>-3.99</td>\n",
       "      <td>30.73</td>\n",
       "      <td>41.80</td>\n",
       "      <td>25.92</td>\n",
       "      <td>1.0</td>\n",
       "      <td>1.0</td>\n",
       "      <td>1.0</td>\n",
       "      <td>-0.25</td>\n",
       "      <td>494.66</td>\n",
       "    </tr>\n",
       "    <tr>\n",
       "      <th>2</th>\n",
       "      <td>1</td>\n",
       "      <td>1</td>\n",
       "      <td>0</td>\n",
       "      <td>2</td>\n",
       "      <td>6.27</td>\n",
       "      <td>-2.18</td>\n",
       "      <td>30.60</td>\n",
       "      <td>41.63</td>\n",
       "      <td>20.91</td>\n",
       "      <td>1.0</td>\n",
       "      <td>1.0</td>\n",
       "      <td>1.0</td>\n",
       "      <td>-0.24</td>\n",
       "      <td>509.76</td>\n",
       "    </tr>\n",
       "    <tr>\n",
       "      <th>3</th>\n",
       "      <td>1</td>\n",
       "      <td>1</td>\n",
       "      <td>0</td>\n",
       "      <td>3</td>\n",
       "      <td>6.42</td>\n",
       "      <td>-0.73</td>\n",
       "      <td>30.52</td>\n",
       "      <td>41.52</td>\n",
       "      <td>20.91</td>\n",
       "      <td>1.0</td>\n",
       "      <td>1.0</td>\n",
       "      <td>1.0</td>\n",
       "      <td>-0.26</td>\n",
       "      <td>542.53</td>\n",
       "    </tr>\n",
       "    <tr>\n",
       "      <th>4</th>\n",
       "      <td>1</td>\n",
       "      <td>1</td>\n",
       "      <td>0</td>\n",
       "      <td>4</td>\n",
       "      <td>6.25</td>\n",
       "      <td>0.89</td>\n",
       "      <td>30.49</td>\n",
       "      <td>41.38</td>\n",
       "      <td>20.91</td>\n",
       "      <td>1.0</td>\n",
       "      <td>1.0</td>\n",
       "      <td>1.0</td>\n",
       "      <td>-0.23</td>\n",
       "      <td>509.36</td>\n",
       "    </tr>\n",
       "  </tbody>\n",
       "</table>\n",
       "</div>"
      ],
      "text/plain": [
       "   TurbID  Day  hour  minute  Wspd  Wdir   Etmp   Itmp   Ndir  Pab1  Pab2  \\\n",
       "0       1    1     0       0  6.17 -3.99  30.73  41.80  25.92   1.0   1.0   \n",
       "1       1    1     0       1  6.17 -3.99  30.73  41.80  25.92   1.0   1.0   \n",
       "2       1    1     0       2  6.27 -2.18  30.60  41.63  20.91   1.0   1.0   \n",
       "3       1    1     0       3  6.42 -0.73  30.52  41.52  20.91   1.0   1.0   \n",
       "4       1    1     0       4  6.25  0.89  30.49  41.38  20.91   1.0   1.0   \n",
       "\n",
       "   Pab3  Prtv    Patv  \n",
       "0   1.0 -0.25    0.00  \n",
       "1   1.0 -0.25  494.66  \n",
       "2   1.0 -0.24  509.76  \n",
       "3   1.0 -0.26  542.53  \n",
       "4   1.0 -0.23  509.36  "
      ]
     },
     "execution_count": 26,
     "metadata": {},
     "output_type": "execute_result"
    }
   ],
   "source": [
    "# bfill 해준 것. (Tmstamp = 0에다가)\n",
    "train_data = train_data.interpolate(method='values')\n",
    "train_data = train_data.fillna(method = 'bfill')\n",
    "\n",
    "train_data.head()"
   ]
  },
  {
   "cell_type": "code",
   "execution_count": 27,
   "id": "47795e1f",
   "metadata": {},
   "outputs": [
    {
     "data": {
      "text/plain": [
       "TurbID    0\n",
       "Day       0\n",
       "hour      0\n",
       "minute    0\n",
       "Wspd      0\n",
       "Wdir      0\n",
       "Etmp      0\n",
       "Itmp      0\n",
       "Ndir      0\n",
       "Pab1      0\n",
       "Pab2      0\n",
       "Pab3      0\n",
       "Prtv      0\n",
       "Patv      0\n",
       "dtype: int64"
      ]
     },
     "execution_count": 27,
     "metadata": {},
     "output_type": "execute_result"
    }
   ],
   "source": [
    "train_data.isnull().sum()"
   ]
  },
  {
   "cell_type": "markdown",
   "id": "1cdaf0e8",
   "metadata": {},
   "source": [
    "# Pab 새로운 컬럼 설정.\n",
    "* Pab1, 2, 3을 비교해서 가장 큰 값을 Pab에다가 대입"
   ]
  },
  {
   "cell_type": "code",
   "execution_count": 28,
   "id": "0a517b61",
   "metadata": {},
   "outputs": [],
   "source": [
    "import math\n",
    "\n",
    "def Make_Pab(Pab1, Pab2, Pab3):\n",
    "    max_pab = max(Pab1, Pab2, Pab3)\n",
    "    return max_pab\n",
    "    \n",
    "train_data['Pab'] = train_data.apply(lambda x: Make_Pab(x['Pab1'], x['Pab2'], x['Pab3']), axis=1) "
   ]
  },
  {
   "cell_type": "code",
   "execution_count": 29,
   "id": "1e7c9fe5",
   "metadata": {},
   "outputs": [],
   "source": [
    "train_data.drop(columns= ['Pab1', 'Pab2', 'Pab3'], inplace=True)"
   ]
  },
  {
   "cell_type": "code",
   "execution_count": 30,
   "id": "e8f6159b",
   "metadata": {},
   "outputs": [
    {
     "data": {
      "text/html": [
       "<div>\n",
       "<style scoped>\n",
       "    .dataframe tbody tr th:only-of-type {\n",
       "        vertical-align: middle;\n",
       "    }\n",
       "\n",
       "    .dataframe tbody tr th {\n",
       "        vertical-align: top;\n",
       "    }\n",
       "\n",
       "    .dataframe thead th {\n",
       "        text-align: right;\n",
       "    }\n",
       "</style>\n",
       "<table border=\"1\" class=\"dataframe\">\n",
       "  <thead>\n",
       "    <tr style=\"text-align: right;\">\n",
       "      <th></th>\n",
       "      <th>TurbID</th>\n",
       "      <th>Day</th>\n",
       "      <th>hour</th>\n",
       "      <th>minute</th>\n",
       "      <th>Wspd</th>\n",
       "      <th>Wdir</th>\n",
       "      <th>Etmp</th>\n",
       "      <th>Itmp</th>\n",
       "      <th>Ndir</th>\n",
       "      <th>Prtv</th>\n",
       "      <th>Patv</th>\n",
       "      <th>Pab</th>\n",
       "    </tr>\n",
       "  </thead>\n",
       "  <tbody>\n",
       "    <tr>\n",
       "      <th>0</th>\n",
       "      <td>1</td>\n",
       "      <td>1</td>\n",
       "      <td>0</td>\n",
       "      <td>0</td>\n",
       "      <td>6.17</td>\n",
       "      <td>-3.99</td>\n",
       "      <td>30.73</td>\n",
       "      <td>41.80</td>\n",
       "      <td>25.92</td>\n",
       "      <td>-0.25</td>\n",
       "      <td>0.00</td>\n",
       "      <td>1.0</td>\n",
       "    </tr>\n",
       "    <tr>\n",
       "      <th>1</th>\n",
       "      <td>1</td>\n",
       "      <td>1</td>\n",
       "      <td>0</td>\n",
       "      <td>1</td>\n",
       "      <td>6.17</td>\n",
       "      <td>-3.99</td>\n",
       "      <td>30.73</td>\n",
       "      <td>41.80</td>\n",
       "      <td>25.92</td>\n",
       "      <td>-0.25</td>\n",
       "      <td>494.66</td>\n",
       "      <td>1.0</td>\n",
       "    </tr>\n",
       "    <tr>\n",
       "      <th>2</th>\n",
       "      <td>1</td>\n",
       "      <td>1</td>\n",
       "      <td>0</td>\n",
       "      <td>2</td>\n",
       "      <td>6.27</td>\n",
       "      <td>-2.18</td>\n",
       "      <td>30.60</td>\n",
       "      <td>41.63</td>\n",
       "      <td>20.91</td>\n",
       "      <td>-0.24</td>\n",
       "      <td>509.76</td>\n",
       "      <td>1.0</td>\n",
       "    </tr>\n",
       "    <tr>\n",
       "      <th>3</th>\n",
       "      <td>1</td>\n",
       "      <td>1</td>\n",
       "      <td>0</td>\n",
       "      <td>3</td>\n",
       "      <td>6.42</td>\n",
       "      <td>-0.73</td>\n",
       "      <td>30.52</td>\n",
       "      <td>41.52</td>\n",
       "      <td>20.91</td>\n",
       "      <td>-0.26</td>\n",
       "      <td>542.53</td>\n",
       "      <td>1.0</td>\n",
       "    </tr>\n",
       "    <tr>\n",
       "      <th>4</th>\n",
       "      <td>1</td>\n",
       "      <td>1</td>\n",
       "      <td>0</td>\n",
       "      <td>4</td>\n",
       "      <td>6.25</td>\n",
       "      <td>0.89</td>\n",
       "      <td>30.49</td>\n",
       "      <td>41.38</td>\n",
       "      <td>20.91</td>\n",
       "      <td>-0.23</td>\n",
       "      <td>509.36</td>\n",
       "      <td>1.0</td>\n",
       "    </tr>\n",
       "  </tbody>\n",
       "</table>\n",
       "</div>"
      ],
      "text/plain": [
       "   TurbID  Day  hour  minute  Wspd  Wdir   Etmp   Itmp   Ndir  Prtv    Patv  \\\n",
       "0       1    1     0       0  6.17 -3.99  30.73  41.80  25.92 -0.25    0.00   \n",
       "1       1    1     0       1  6.17 -3.99  30.73  41.80  25.92 -0.25  494.66   \n",
       "2       1    1     0       2  6.27 -2.18  30.60  41.63  20.91 -0.24  509.76   \n",
       "3       1    1     0       3  6.42 -0.73  30.52  41.52  20.91 -0.26  542.53   \n",
       "4       1    1     0       4  6.25  0.89  30.49  41.38  20.91 -0.23  509.36   \n",
       "\n",
       "   Pab  \n",
       "0  1.0  \n",
       "1  1.0  \n",
       "2  1.0  \n",
       "3  1.0  \n",
       "4  1.0  "
      ]
     },
     "execution_count": 30,
     "metadata": {},
     "output_type": "execute_result"
    }
   ],
   "source": [
    "train_data.head()"
   ]
  },
  {
   "cell_type": "code",
   "execution_count": 31,
   "id": "8b41ea6e",
   "metadata": {},
   "outputs": [
    {
     "data": {
      "image/png": "[encoded data removed]",
      "text/plain": [
       "<Figure size 1152x1152 with 2 Axes>"
      ]
     },
     "metadata": {},
     "output_type": "display_data"
    }
   ],
   "source": [
    "plt.subplots(figsize=(16, 16))\n",
    "sns.heatmap(train_data.corr(), annot=True, square=True)\n",
    "plt.show()"
   ]
  },
  {
   "cell_type": "markdown",
   "id": "7e834c1b",
   "metadata": {},
   "source": [
    "# 테스트\n",
    "## Standard Scaer 넣기."
   ]
  },
  {
   "cell_type": "code",
   "execution_count": null,
   "id": "0300aba5",
   "metadata": {},
   "outputs": [],
   "source": []
  },
  {
   "cell_type": "code",
   "execution_count": null,
   "id": "b5a59ccd",
   "metadata": {},
   "outputs": [],
   "source": []
  },
  {
   "cell_type": "code",
   "execution_count": null,
   "id": "8cfb4ac1",
   "metadata": {},
   "outputs": [],
   "source": []
  },
  {
   "cell_type": "code",
   "execution_count": null,
   "id": "f2421c2d",
   "metadata": {},
   "outputs": [],
   "source": []
  },
  {
   "cell_type": "code",
   "execution_count": null,
   "id": "6e0014f1",
   "metadata": {},
   "outputs": [],
   "source": []
  },
  {
   "cell_type": "code",
   "execution_count": 32,
   "id": "3fef2616",
   "metadata": {},
   "outputs": [
    {
     "ename": "NameError",
     "evalue": "name 'ᄆᄂᄋᄅᄆᄂᄋᄅ' is not defined",
     "output_type": "error",
     "traceback": [
      "\u001b[1;31m---------------------------------------------------------------------------\u001b[0m",
      "\u001b[1;31mNameError\u001b[0m                                 Traceback (most recent call last)",
      "\u001b[1;32m~\\AppData\\Local\\Temp/ipykernel_16244/1620691155.py\u001b[0m in \u001b[0;36m<module>\u001b[1;34m\u001b[0m\n\u001b[1;32m----> 1\u001b[1;33m \u001b[0mㅁㄴㅇㄹㅁㄴㅇㄹ\u001b[0m\u001b[1;33m\u001b[0m\u001b[1;33m\u001b[0m\u001b[0m\n\u001b[0m",
      "\u001b[1;31mNameError\u001b[0m: name 'ᄆᄂᄋᄅᄆᄂᄋᄅ' is not defined"
     ]
    }
   ],
   "source": []
  },
  {
   "cell_type": "code",
   "execution_count": null,
   "id": "7085342b",
   "metadata": {},
   "outputs": [],
   "source": [
    "# method : 결측값을 변경할 방식입니다. bfill로 할경우 결측값을 바로 아래 값과 동일하게 변경합니다.\n",
    "# # 결측값 처리\n",
    "# train_data = train_data.fillna(method = 'ffill').fillna(method='bfill')\n",
    "\n",
    "# print(train_data.isnull().sum())"
   ]
  },
  {
   "cell_type": "code",
   "execution_count": null,
   "id": "b5c816ec",
   "metadata": {},
   "outputs": [],
   "source": []
  },
  {
   "cell_type": "markdown",
   "id": "52619617",
   "metadata": {},
   "source": [
    "# 입력 값과 출력 값 데이터를 위한 코드\n",
    "https://data-analysis-expertise.tistory.com/67"
   ]
  },
  {
   "cell_type": "code",
   "execution_count": 33,
   "id": "872a0b0f",
   "metadata": {},
   "outputs": [],
   "source": [
    "def make_train_data(data):\n",
    "    train_x, train_y = [], []\n",
    "    for i in tqdm(sorted(pd.unique(data[\"TurbID\"]))):\n",
    "        tmp_data = data[data[\"TurbID\"] == i]\n",
    "        for j in range(1, 201 - 6):\n",
    "            \n",
    "            # train data ==> 5일 단위\n",
    "            # label data ==> 2일 단위\n",
    "            day_list = [x for x in range(j, j+ 5)]\n",
    "            label_day_list = [y for y in range(j+5, j + 7)]\n",
    "            \n",
    "            train_tmp = tmp_data[tmp_data[\"Day\"].isin(day_list)]\n",
    "            label_tmp = tmp_data[tmp_data[\"Day\"].isin(label_day_list)][\"Patv\"]\n",
    "            \n",
    "            # feature 선택 및 제거\n",
    "            train_tmp = train_tmp.drop([\"TurbID\", \"Day\", \"minute\"], axis = 1)\n",
    "           \n",
    "            train_x.append(np.array(train_tmp))\n",
    "            train_y.append(np.array(label_tmp))   \n",
    "    return train_x, train_y"
   ]
  },
  {
   "cell_type": "code",
   "execution_count": 34,
   "id": "5dd0e564",
   "metadata": {},
   "outputs": [
    {
     "name": "stderr",
     "output_type": "stream",
     "text": [
      "100%|████████████████████████████████████████████████████████████████████████████████| 134/134 [00:25<00:00,  5.28it/s]\n"
     ]
    }
   ],
   "source": [
    "train_x, train_y = make_train_data(train_data)"
   ]
  },
  {
   "cell_type": "code",
   "execution_count": 35,
   "id": "4b5de259",
   "metadata": {},
   "outputs": [
    {
     "data": {
      "text/plain": [
       "25996"
      ]
     },
     "execution_count": 35,
     "metadata": {},
     "output_type": "execute_result"
    }
   ],
   "source": [
    "len(train_x)"
   ]
  },
  {
   "cell_type": "code",
   "execution_count": 36,
   "id": "87cad508",
   "metadata": {
    "scrolled": true
   },
   "outputs": [
    {
     "data": {
      "text/plain": [
       "'from tensorflow.compat.v1 import ConfigProto\\nfrom tensorflow.compat.v1 import InteractiveSession\\n\\nconfig = ConfigProto()\\nconfig.gpu_options.allow_growth = True\\nsession = InteractiveSession(config=config)'"
      ]
     },
     "execution_count": 36,
     "metadata": {},
     "output_type": "execute_result"
    }
   ],
   "source": [
    "import tensorflow as tf\n",
    "from keras.models import Sequential\n",
    "from keras.layers import Dense, LSTM, GRU\n",
    "\n",
    "#GPU 자원이 부족한 경우 아래 코드를 이용하세요\n",
    "'''from tensorflow.compat.v1 import ConfigProto\n",
    "from tensorflow.compat.v1 import InteractiveSession\n",
    "\n",
    "config = ConfigProto()\n",
    "config.gpu_options.allow_growth = True\n",
    "session = InteractiveSession(config=config)'''"
   ]
  },
  {
   "cell_type": "code",
   "execution_count": 37,
   "id": "958a4452",
   "metadata": {},
   "outputs": [],
   "source": [
    "train_x  = np.array(train_x).reshape(-1, train_x[0].shape[0], train_x[0].shape[1])\n",
    "train_y = np.array(train_y)"
   ]
  },
  {
   "cell_type": "code",
   "execution_count": 38,
   "id": "f3b4a99c",
   "metadata": {},
   "outputs": [
    {
     "name": "stdout",
     "output_type": "stream",
     "text": [
      "(25996, 720, 9) (25996, 288)\n"
     ]
    }
   ],
   "source": [
    "print(train_x.shape, train_y.shape)"
   ]
  },
  {
   "cell_type": "code",
   "execution_count": 39,
   "id": "4055805b",
   "metadata": {},
   "outputs": [
    {
     "data": {
      "text/plain": [
       "9"
      ]
     },
     "execution_count": 39,
     "metadata": {},
     "output_type": "execute_result"
    }
   ],
   "source": [
    "train_x[0].shape[1]"
   ]
  },
  {
   "cell_type": "code",
   "execution_count": 40,
   "id": "83a4412e",
   "metadata": {},
   "outputs": [
    {
     "data": {
      "image/png": "[encoded data removed]",
      "text/plain": [
       "<Figure size 432x288 with 1 Axes>"
      ]
     },
     "metadata": {},
     "output_type": "display_data"
    }
   ],
   "source": [
    "# 25996 = 터빈 X Day (test: 134*2 = 268)\n",
    "XX = np.arange(25996)\n",
    "\n",
    "n_split = 2\n",
    "\n",
    "tscv = TimeSeriesSplit(n_splits=n_split, test_size=134)\n",
    "\n",
    "plot_cv_indices(tscv, XX, n_splits=n_split)"
   ]
  },
  {
   "cell_type": "code",
   "execution_count": 41,
   "id": "84583d26",
   "metadata": {},
   "outputs": [
    {
     "name": "stdout",
     "output_type": "stream",
     "text": [
      "cv: 1 TRAIN: [    0     1     2 ... 25725 25726 25727] TEST: [25728 25729 25730 25731 25732 25733 25734 25735 25736 25737 25738 25739\n",
      " 25740 25741 25742 25743 25744 25745 25746 25747 25748 25749 25750 25751\n",
      " 25752 25753 25754 25755 25756 25757 25758 25759 25760 25761 25762 25763\n",
      " 25764 25765 25766 25767 25768 25769 25770 25771 25772 25773 25774 25775\n",
      " 25776 25777 25778 25779 25780 25781 25782 25783 25784 25785 25786 25787\n",
      " 25788 25789 25790 25791 25792 25793 25794 25795 25796 25797 25798 25799\n",
      " 25800 25801 25802 25803 25804 25805 25806 25807 25808 25809 25810 25811\n",
      " 25812 25813 25814 25815 25816 25817 25818 25819 25820 25821 25822 25823\n",
      " 25824 25825 25826 25827 25828 25829 25830 25831 25832 25833 25834 25835\n",
      " 25836 25837 25838 25839 25840 25841 25842 25843 25844 25845 25846 25847\n",
      " 25848 25849 25850 25851 25852 25853 25854 25855 25856 25857 25858 25859\n",
      " 25860 25861]\n",
      "cv: 2 TRAIN: [    0     1     2 ... 25859 25860 25861] TEST: [25862 25863 25864 25865 25866 25867 25868 25869 25870 25871 25872 25873\n",
      " 25874 25875 25876 25877 25878 25879 25880 25881 25882 25883 25884 25885\n",
      " 25886 25887 25888 25889 25890 25891 25892 25893 25894 25895 25896 25897\n",
      " 25898 25899 25900 25901 25902 25903 25904 25905 25906 25907 25908 25909\n",
      " 25910 25911 25912 25913 25914 25915 25916 25917 25918 25919 25920 25921\n",
      " 25922 25923 25924 25925 25926 25927 25928 25929 25930 25931 25932 25933\n",
      " 25934 25935 25936 25937 25938 25939 25940 25941 25942 25943 25944 25945\n",
      " 25946 25947 25948 25949 25950 25951 25952 25953 25954 25955 25956 25957\n",
      " 25958 25959 25960 25961 25962 25963 25964 25965 25966 25967 25968 25969\n",
      " 25970 25971 25972 25973 25974 25975 25976 25977 25978 25979 25980 25981\n",
      " 25982 25983 25984 25985 25986 25987 25988 25989 25990 25991 25992 25993\n",
      " 25994 25995]\n"
     ]
    }
   ],
   "source": [
    "for i, (train_index, test_index) in enumerate(tscv.split(train_x)):\n",
    "    print(\"cv:\", i+1, \"TRAIN:\", train_index, \"TEST:\", test_index)\n",
    "    X_train, X_test = train_x[train_index], train_x[test_index]\n",
    "    y_train, y_test = train_y[train_index], train_y[test_index]"
   ]
  },
  {
   "cell_type": "code",
   "execution_count": 42,
   "id": "d2fee1eb",
   "metadata": {},
   "outputs": [
    {
     "data": {
      "text/plain": [
       "720"
      ]
     },
     "execution_count": 42,
     "metadata": {},
     "output_type": "execute_result"
    }
   ],
   "source": [
    "train_x[0].shape[0]"
   ]
  },
  {
   "cell_type": "markdown",
   "id": "4a3ff0bc",
   "metadata": {},
   "source": [
    "# 모델 학습\n",
    "* 모델 저장과 복원: https://www.tensorflow.org/tutorials/keras/save_and_load?hl=ko\n",
    "* 딥러닝 tensorflow에서 학습된 모델 저장 및 불러오기: https://minimin2.tistory.com/105\n"
   ]
  },
  {
   "cell_type": "code",
   "execution_count": 43,
   "id": "00a9f090",
   "metadata": {},
   "outputs": [],
   "source": [
    "from __future__ import print_function\n",
    "\n",
    "from keras.preprocessing import sequence\n",
    "from keras.models import Sequential, Model\n",
    "from keras.layers import Dense, Dropout, Activation, Flatten, Input, concatenate\n",
    "from keras.layers import Embedding\n",
    "from keras.layers import Conv1D, GlobalMaxPooling1D, MaxPooling1D, LSTM, BatchNormalization\n",
    "from keras.datasets import imdb\n",
    "from keras.callbacks import EarlyStopping\n",
    "import kerastuner as kt\n",
    "import IPython\n",
    "\n",
    "from sklearn.model_selection import GridSearchCV\n",
    "import tensorflow as tf\n",
    "from tensorflow import keras\n",
    "from tensorflow.keras.layers import Dense, Flatten\n",
    "import IPython\n",
    "\n",
    "\n",
    "import matplotlib.pyplot as plt"
   ]
  },
  {
   "cell_type": "code",
   "execution_count": null,
   "id": "6b8a580a",
   "metadata": {},
   "outputs": [],
   "source": []
  },
  {
   "cell_type": "code",
   "execution_count": 44,
   "id": "99744801",
   "metadata": {},
   "outputs": [
    {
     "data": {
      "text/plain": [
       "(720, 9)"
      ]
     },
     "execution_count": 44,
     "metadata": {},
     "output_type": "execute_result"
    }
   ],
   "source": [
    "train_x[0].shape[0], train_x[0].shape[1]"
   ]
  },
  {
   "cell_type": "markdown",
   "id": "24eec54d",
   "metadata": {},
   "source": [
    "# 하이퍼파라미터 튜닝 + 모델\n",
    "학습과정 표시하기: https://tykimos.github.io/2017/07/09/Training_Monitoring/"
   ]
  },
  {
   "cell_type": "code",
   "execution_count": 45,
   "id": "a4897fbe",
   "metadata": {},
   "outputs": [],
   "source": [
    "import kerastuner\n",
    "import numpy as np\n",
    "from sklearn import model_selection"
   ]
  },
  {
   "cell_type": "code",
   "execution_count": 46,
   "id": "8fc63839",
   "metadata": {},
   "outputs": [],
   "source": [
    "# class CVTuner(kerastuner.engine.tuner.Tuner):\n",
    "#     # 간단한 Sequential 모델을 정의합니다\n",
    "#     def create_model(hp):\n",
    "#         model = Sequential()\n",
    "    \n",
    "#         hp_unit = hp.Int('units', min_value = 128, max_value = 1024, step = 32) # 128~1024\n",
    "#         model.add(LSTM(units=hp_unit, input_shape=(train_x[0].shape[0], train_x[0].shape[1]))) # n X 720\n",
    "#         model.add(tf.keras.layers.Reshape((-1, hp_unit)))\n",
    "        \n",
    "#         hp_unit = hp.Int('units', min_value = 128, max_value = 1024, step = 32) # 128~1024\n",
    "#         model.add(LSTM(units=hp_unit, input_shape=(train_x[0].shape[0], train_x[0].shape[1]))) # n X 512\n",
    "            \n",
    "#         hp_unit = hp.Int('units', min_value = 128, max_value = 1024, step = 32) # 128~1024\n",
    "#         model.add(Dense(units=hp_unit, activation='relu'))\n",
    "#         model.add(Dense(288, activation='relu'))\n",
    "#          # model.add(Activation(\"relu\"))\n",
    "            \n",
    "#         hp_learning_rate = hp.Choice('learning_rate', values = [1e-2, 1e-3, 1e-4]) \n",
    "#         optimizer = keras.optimizers.RMSprop(learning_rate=hp_learning_rate)       \n",
    "            \n",
    "            \n",
    "#         model.compile(optimizer=optimizer, loss='mse', metrics=['mae'])\n",
    "            \n",
    "#         # model.fit(X_train, y_train, epochs=10, batch_size=128, validation_data=(X_test, y_test))\n",
    "                    \n",
    "#         return model\n",
    "\n",
    "\n",
    "# # keras tuner api의 hypermodel 사용\n",
    "# #  Keras 튜닝 방법 : RandomSearch, Hyperband, BaysesianOptimization, Sklearn\n",
    "    \n",
    "#     def run_trial(self, trial, x, y, batch_size=128, epochs=1):\n",
    "#         n_split = 5\n",
    "#         tscv = TimeSeriesSplit(n_splits=n_split, test_size=2596)\n",
    "#         val_losses = []\n",
    "        \n",
    "#         for i, (train_index, test_index) in enumerate(tscv.split(train_x)):\n",
    "#             print(\"cv:\", i+1, \"TRAIN:\", train_index, \"TEST:\", test_index)\n",
    "#             X_train, X_test = train_x[train_index], train_x[test_index]\n",
    "#             y_train, y_test = train_y[train_index], train_y[test_index]\n",
    "            \n",
    "#             model = self.hypermodel.build(trial.hyperparameters)\n",
    "#             model.fit(X_train, y_train, batch_size=batch_size, epochs=epochs, validation_data=(X_test, y_test))\n",
    "            \n",
    "#             val_losses.append(model.evaluate(X_test, y_test))\n",
    "#             self.oracle.update_trial(trial.trial_id, {'val_loss': np.mean(val_losses)})\n",
    "#             self.save_model(trial.trial_id, model)\n",
    "            \n",
    "        "
   ]
  },
  {
   "cell_type": "code",
   "execution_count": 47,
   "id": "4eeb3718",
   "metadata": {},
   "outputs": [],
   "source": [
    "# tuner = CVTuner(\n",
    "#   hypermodel=create_model,\n",
    "#   oracle=kerastuner.oracles.BayesianOptimization(\n",
    "#     objective='val_loss',\n",
    "#     max_trials=40))"
   ]
  },
  {
   "cell_type": "code",
   "execution_count": 48,
   "id": "ce4fc429",
   "metadata": {},
   "outputs": [],
   "source": [
    "# class ClearTrainingOutput(tf.keras.callbacks.Callback):\n",
    "#     def on_train_end(*args, **kwargs):\n",
    "#         IPython.display.clear_output(wait = True)"
   ]
  },
  {
   "cell_type": "code",
   "execution_count": 49,
   "id": "d77f78f8",
   "metadata": {},
   "outputs": [],
   "source": [
    "# tuner.search(train_x, train_y, batch_size=64, epochs=10)"
   ]
  },
  {
   "cell_type": "code",
   "execution_count": 50,
   "id": "de708b68",
   "metadata": {},
   "outputs": [],
   "source": [
    "# print(f\"\"\"\n",
    "# 최적화된 첫 번째 Dense 노드 수 : {best_hp.get('units')} \n",
    "# 최적화된 2 번째 Dense 노드 수 : {best_hp.get('units1')} \n",
    "# 최적화된 3 번째 Dense 노드 수 : {best_hp.get('units2')} \n",
    "# 최적화된 4 번째 Dense 노드 수 : {best_hp.get('units3')} \n",
    "# 최적화된  learnig rate : {best_hp.get('learning_rate')} 입니다.\n",
    "# \"\"\")"
   ]
  },
  {
   "cell_type": "code",
   "execution_count": null,
   "id": "c3d329a7",
   "metadata": {},
   "outputs": [],
   "source": []
  },
  {
   "cell_type": "markdown",
   "id": "40ca8c83",
   "metadata": {},
   "source": [
    "# 모델"
   ]
  },
  {
   "cell_type": "code",
   "execution_count": 51,
   "id": "36dd5738",
   "metadata": {},
   "outputs": [],
   "source": [
    "# # 간단한 Sequential 모델을 정의합니다\n",
    "# def create_model():\n",
    "    \n",
    "#     for i, (train_index, test_index) in enumerate(tscv.split(train_x)):\n",
    "#         print(\"cv:\", i+1, \"TRAIN:\", train_index, \"TEST:\", test_index)\n",
    "#         X_train, X_test = train_x[train_index], train_x[test_index]\n",
    "#         y_train, y_test = train_y[train_index], train_y[test_index]\n",
    "        \n",
    "#         model = Sequential()\n",
    "        \n",
    "#         model.add(LSTM(720, input_shape=(train_x[0].shape[0], train_x[0].shape[1]))) # n X 512\n",
    "#         model.add(tf.keras.layers.Reshape((-1, 720)))\n",
    "#         model.add(LSTM(512, input_shape=(train_x[0].shape[0], train_x[0].shape[1]))) # n X 512\n",
    "#         model.add(Dense(516))\n",
    "#         model.add(Activation(\"relu\"))\n",
    "\n",
    "#         model.add(Dense(288))\n",
    "#         model.add(Activation(\"relu\"))\n",
    "    \n",
    "#         optimizer = tf.optimizers.RMSprop(0.001)\n",
    "        \n",
    "#         model.compile(optimizer=optimizer, loss='mse', metrics=['mae'])\n",
    "        \n",
    "#         hist = model.fit(X_train, y_train, epochs=500, batch_size=128, validation_data=(X_test, y_test))\n",
    "        \n",
    "#         # 5. 모델 학습 과정 표시하기\n",
    "#         %matplotlib inline\n",
    "#         import matplotlib.pyplot as plt\n",
    "        \n",
    "#         fig, loss_ax = plt.subplots(figsize=(20, 10))\n",
    "\n",
    "#         acc_ax = loss_ax.twinx()\n",
    "\n",
    "#         loss_ax.plot(hist.history['loss'], 'y', label='train loss(mse)')\n",
    "#         loss_ax.plot(hist.history['val_loss'], 'r', label='val loss(mse)')\n",
    "        \n",
    "#         acc_ax.plot(hist.history['mae'], 'b', label='train mae')\n",
    "#         acc_ax.plot(hist.history['val_mae'], 'g', label='val mae')\n",
    "        \n",
    "#         loss_ax.set_xlabel('epoch')\n",
    "#         loss_ax.set_ylabel('loss')\n",
    "#         acc_ax.set_ylabel('mae')\n",
    "        \n",
    "#         loss_ax.legend(loc='upper left')\n",
    "#         acc_ax.legend(loc='lower left')\n",
    "        \n",
    "#         plt.show()\n",
    "        \n",
    "        \n",
    "#     return model"
   ]
  },
  {
   "cell_type": "code",
   "execution_count": 52,
   "id": "2d6971de",
   "metadata": {
    "scrolled": true
   },
   "outputs": [],
   "source": [
    "# model = create_model()"
   ]
  },
  {
   "cell_type": "code",
   "execution_count": 53,
   "id": "6136524c",
   "metadata": {},
   "outputs": [],
   "source": [
    "# model.summary()"
   ]
  },
  {
   "cell_type": "code",
   "execution_count": null,
   "id": "933532c5",
   "metadata": {},
   "outputs": [],
   "source": []
  },
  {
   "cell_type": "code",
   "execution_count": null,
   "id": "7ecb64c4",
   "metadata": {},
   "outputs": [],
   "source": []
  },
  {
   "cell_type": "code",
   "execution_count": null,
   "id": "2306292e",
   "metadata": {},
   "outputs": [],
   "source": []
  },
  {
   "cell_type": "markdown",
   "id": "4c6c8756",
   "metadata": {},
   "source": [
    "# 하이퍼 파라미터 튜닝"
   ]
  },
  {
   "cell_type": "code",
   "execution_count": 54,
   "id": "dafd497e",
   "metadata": {},
   "outputs": [],
   "source": [
    "# from sklearn.model_selection import train_test_split\n",
    "# X_train, X_test, y_train, y_test = train_test_split(train_x, train_y, test_size=0.1, random_state=42)"
   ]
  },
  {
   "cell_type": "code",
   "execution_count": 55,
   "id": "6e2fc560",
   "metadata": {},
   "outputs": [
    {
     "name": "stdout",
     "output_type": "stream",
     "text": [
      "(25862, 720, 9) (25862, 288)\n"
     ]
    }
   ],
   "source": [
    "print(X_train.shape, y_train.shape)"
   ]
  },
  {
   "cell_type": "code",
   "execution_count": 56,
   "id": "b84f38f5",
   "metadata": {},
   "outputs": [
    {
     "name": "stdout",
     "output_type": "stream",
     "text": [
      "(134, 720, 9) (134, 288)\n"
     ]
    }
   ],
   "source": [
    "print(X_test.shape, y_test.shape)"
   ]
  },
  {
   "cell_type": "code",
   "execution_count": 57,
   "id": "7a86a953",
   "metadata": {},
   "outputs": [
    {
     "data": {
      "text/plain": [
       "array([[ 0.00000000e+00,  1.21300000e+01,  2.54000000e+00, ...,\n",
       "         1.54980000e+02,  1.37838000e+03,  7.70000000e+00],\n",
       "       [ 0.00000000e+00,  1.02800000e+01, -6.20000000e-01, ...,\n",
       "         1.41560000e+02,  1.40090000e+03,  1.83000000e+00],\n",
       "       [ 0.00000000e+00,  1.20700000e+01,  2.90000000e+00, ...,\n",
       "         1.70340000e+02,  1.42214000e+03,  6.36000000e+00],\n",
       "       ...,\n",
       "       [ 2.30000000e+01,  3.80560311e+00,  2.41073930e+00, ...,\n",
       "        -3.58249805e+01,  0.00000000e+00,  1.21400778e-02],\n",
       "       [ 2.30000000e+01,  3.82338521e+00,  2.40898833e+00, ...,\n",
       "        -3.59263424e+01,  0.00000000e+00,  1.23346304e-02],\n",
       "       [ 2.30000000e+01,  3.84116732e+00,  2.40723735e+00, ...,\n",
       "        -3.60277043e+01,  0.00000000e+00,  1.25291829e-02]])"
      ]
     },
     "execution_count": 57,
     "metadata": {},
     "output_type": "execute_result"
    }
   ],
   "source": [
    "X_test[0]"
   ]
  },
  {
   "cell_type": "code",
   "execution_count": null,
   "id": "0dee00a1",
   "metadata": {},
   "outputs": [],
   "source": []
  },
  {
   "cell_type": "code",
   "execution_count": null,
   "id": "3cbdabb6",
   "metadata": {},
   "outputs": [],
   "source": []
  },
  {
   "cell_type": "code",
   "execution_count": null,
   "id": "fbdb7189",
   "metadata": {},
   "outputs": [],
   "source": [
    "ㅁㄴㅇㄹㅁㄴㅇㄹ"
   ]
  },
  {
   "cell_type": "code",
   "execution_count": 58,
   "id": "8d2c4715",
   "metadata": {},
   "outputs": [],
   "source": [
    "# 간단한 Sequential 모델을 정의합니다\n",
    "def create_model(hp):\n",
    "    \n",
    "    #NUM_LAYERS = Range('num_layers', 1, 3, 5, group='dense')\n",
    "    \n",
    "    \n",
    "    model = Sequential()\n",
    "    \n",
    "    hp_unit = hp.Int('units1', min_value = 288, max_value = 1024, step = 32) # 128~1024\n",
    "    model.add(LSTM(units=hp_unit, input_shape=(train_x[0].shape[0], train_x[0].shape[1])) ) # n X 720\n",
    "    model.add(tf.keras.layers.Reshape((-1, hp_unit)))\n",
    "    \n",
    "    hp_unit = hp.Int('units2', min_value = 288, max_value = 1024, step = 32) # 128~1024\n",
    "    model.add(LSTM(units=hp_unit, input_shape=(train_x[0].shape[0], train_x[0].shape[1]))) # n X 512\n",
    "    \n",
    "    hp_unit = hp.Int('dense_layer', min_value = 1, max_value = 5, step = 32) # 128~1024\n",
    "    for _ in range(hp_unit):\n",
    "        hp_unit = hp.Int('units3', min_value = 288, max_value = 1024, step = 32) # 128~1024\n",
    "        model.add(Dense(units=hp_unit, activation='relu'))                \n",
    "    model.add(Dense(288, activation='relu'))\n",
    "     # model.add(Activation(\"relu\"))\n",
    "        \n",
    "    hp_learning_rate = hp.Choice('learning_rate', values = [1e-2, 1e-3, 1e-4]) \n",
    "    optimizer = keras.optimizers.RMSprop(learning_rate=hp_learning_rate)       \n",
    "        \n",
    "        \n",
    "    model.compile(optimizer=optimizer, loss='mse', metrics=['mae'])\n",
    "        \n",
    "        # model.fit(X_train, y_train, epochs=10, batch_size=128, validation_data=(X_test, y_test))\n",
    "                \n",
    "    return model\n",
    "\n",
    "\n",
    "# keras tuner api의 hypermodel 사용\n",
    "#  Keras 튜닝 방법 : RandomSearch, Hyperband, BaysesianOptimization, Sklearn\n",
    "\n"
   ]
  },
  {
   "cell_type": "code",
   "execution_count": 59,
   "id": "69fed428",
   "metadata": {},
   "outputs": [
    {
     "name": "stdout",
     "output_type": "stream",
     "text": [
      "INFO:tensorflow:Reloading Oracle from existing project my_dir_several_layers\\intro_to_kt\\oracle.json\n",
      "INFO:tensorflow:Reloading Tuner from my_dir_several_layers\\intro_to_kt\\tuner0.json\n"
     ]
    }
   ],
   "source": [
    "# hyperband 튜너를 사용한 인스턴스화\n",
    "tuner = kt.Hyperband(create_model,\n",
    "                     objective = 'val_mae', \n",
    "                     max_epochs = 10,\n",
    "                     factor = 3,\n",
    "                     directory = 'my_dir_several_layers',\n",
    "                     project_name = 'intro_to_kt')"
   ]
  },
  {
   "cell_type": "code",
   "execution_count": 60,
   "id": "c9c33c66",
   "metadata": {},
   "outputs": [],
   "source": [
    "class ClearTrainingOutput(tf.keras.callbacks.Callback):\n",
    "    def on_train_end(*args, **kwargs):\n",
    "        IPython.display.clear_output(wait = True)"
   ]
  },
  {
   "cell_type": "code",
   "execution_count": 61,
   "id": "5b589bd0",
   "metadata": {
    "scrolled": true
   },
   "outputs": [
    {
     "name": "stdout",
     "output_type": "stream",
     "text": [
      "INFO:tensorflow:Oracle triggered exit\n"
     ]
    }
   ],
   "source": [
    "tuner.search(X_train, y_train, epochs = 10, validation_data = (X_test, y_test), callbacks = [ClearTrainingOutput()])"
   ]
  },
  {
   "cell_type": "code",
   "execution_count": 62,
   "id": "f5bc8fa1",
   "metadata": {},
   "outputs": [
    {
     "data": {
      "text/plain": [
       "<keras_tuner.engine.hyperparameters.HyperParameters at 0x1c7ae8b24f0>"
      ]
     },
     "execution_count": 62,
     "metadata": {},
     "output_type": "execute_result"
    }
   ],
   "source": [
    "best_hp = tuner.get_best_hyperparameters(num_trials=1)[0]\n",
    "best_hp"
   ]
  },
  {
   "cell_type": "code",
   "execution_count": 63,
   "id": "d128849f",
   "metadata": {},
   "outputs": [
    {
     "name": "stdout",
     "output_type": "stream",
     "text": [
      "\n",
      "최적화된 1 번째 Dense 노드 수 : 736 \n",
      "최적화된 2 번째 Dense 노드 수 : 960 \n",
      "최적화된 3 번째 Dense 노드 수 : 384 \n",
      "최적화된 dense_layer 층 수 : 1 \n",
      "최적화된  learnig rate : 0.001 입니다.\n",
      "\n"
     ]
    }
   ],
   "source": [
    "print(f\"\"\"\n",
    "최적화된 1 번째 Dense 노드 수 : {best_hp.get('units1')} \n",
    "최적화된 2 번째 Dense 노드 수 : {best_hp.get('units2')} \n",
    "최적화된 3 번째 Dense 노드 수 : {best_hp.get('units3')} \n",
    "최적화된 dense_layer 층 수 : {best_hp.get('dense_layer')} \n",
    "최적화된  learnig rate : {best_hp.get('learning_rate')} 입니다.\n",
    "\"\"\")"
   ]
  },
  {
   "cell_type": "code",
   "execution_count": null,
   "id": "f4a081aa",
   "metadata": {},
   "outputs": [],
   "source": [
    "sadfasdfs"
   ]
  },
  {
   "cell_type": "code",
   "execution_count": 66,
   "id": "4fb7c728",
   "metadata": {},
   "outputs": [
    {
     "name": "stdout",
     "output_type": "stream",
     "text": [
      "Epoch 1/10\n",
      "809/809 [==============================] - 41s 47ms/step - loss: 170047.7031 - mae: 315.3119 - val_loss: 155057.0781 - val_mae: 305.7052\n",
      "Epoch 2/10\n",
      "809/809 [==============================] - 38s 47ms/step - loss: 150212.9375 - mae: 293.9017 - val_loss: 148423.8906 - val_mae: 277.7683\n",
      "Epoch 3/10\n",
      "809/809 [==============================] - 38s 47ms/step - loss: 136092.0781 - mae: 276.6015 - val_loss: 133194.6875 - val_mae: 263.3551\n",
      "Epoch 4/10\n",
      "809/809 [==============================] - 38s 47ms/step - loss: 122726.0781 - mae: 259.2822 - val_loss: 130740.3125 - val_mae: 248.4184\n",
      "Epoch 5/10\n",
      "809/809 [==============================] - 38s 47ms/step - loss: 108607.6875 - mae: 240.7507 - val_loss: 110000.2344 - val_mae: 240.2090\n",
      "Epoch 6/10\n",
      "809/809 [==============================] - 39s 48ms/step - loss: 94833.4375 - mae: 220.8999 - val_loss: 104448.2031 - val_mae: 225.6084\n",
      "Epoch 7/10\n",
      "809/809 [==============================] - 39s 48ms/step - loss: 84580.2656 - mae: 204.7344 - val_loss: 84118.4062 - val_mae: 199.3900\n",
      "Epoch 8/10\n",
      "809/809 [==============================] - 39s 48ms/step - loss: 75635.8828 - mae: 190.0268 - val_loss: 82559.1797 - val_mae: 198.0451\n",
      "Epoch 9/10\n",
      "809/809 [==============================] - 38s 47ms/step - loss: 67927.1562 - mae: 177.2996 - val_loss: 77185.2812 - val_mae: 193.1619\n",
      "Epoch 10/10\n",
      "809/809 [==============================] - 38s 47ms/step - loss: 62011.9844 - mae: 166.8466 - val_loss: 69640.2188 - val_mae: 174.3400\n"
     ]
    },
    {
     "data": {
      "text/plain": [
       "<keras.callbacks.History at 0x1c82a436340>"
      ]
     },
     "execution_count": 66,
     "metadata": {},
     "output_type": "execute_result"
    }
   ],
   "source": [
    "# best 파라미터로 모델 형성\n",
    "model = tuner.hypermodel.build(best_hp)\n",
    "model.fit(X_train, y_train, epochs=10, validation_data = (X_test, y_test))"
   ]
  },
  {
   "cell_type": "code",
   "execution_count": null,
   "id": "f72ae7ff",
   "metadata": {},
   "outputs": [],
   "source": []
  },
  {
   "cell_type": "code",
   "execution_count": null,
   "id": "02ee47ba",
   "metadata": {},
   "outputs": [],
   "source": []
  },
  {
   "cell_type": "code",
   "execution_count": null,
   "id": "04041305",
   "metadata": {},
   "outputs": [],
   "source": []
  },
  {
   "cell_type": "code",
   "execution_count": null,
   "id": "d21a2cb1",
   "metadata": {},
   "outputs": [],
   "source": [
    "asdfasdfasdf"
   ]
  },
  {
   "cell_type": "markdown",
   "id": "9be0f06a",
   "metadata": {},
   "source": [
    "# 201일, 202일 Patv 추론"
   ]
  },
  {
   "cell_type": "code",
   "execution_count": 67,
   "id": "e72fd943",
   "metadata": {},
   "outputs": [],
   "source": [
    "test_data_list = [x for x in range(196, 201)] # 196~200\n",
    "\n",
    "test_data = train_data[train_data['Day'].isin(test_data_list)]\n",
    "\n",
    "test_data = test_data.drop([\"TurbID\", \"Day\", \"minute\"], axis=1)\n",
    "\n",
    "test_data = np.array(test_data).reshape(-1, train_x[0].shape[0], train_x[0].shape[1])"
   ]
  },
  {
   "cell_type": "code",
   "execution_count": 68,
   "id": "3b9c9a2b",
   "metadata": {},
   "outputs": [
    {
     "data": {
      "text/plain": [
       "(134, 720, 9)"
      ]
     },
     "execution_count": 68,
     "metadata": {},
     "output_type": "execute_result"
    }
   ],
   "source": [
    "test_data.shape"
   ]
  },
  {
   "cell_type": "code",
   "execution_count": 69,
   "id": "70f2527f",
   "metadata": {},
   "outputs": [],
   "source": [
    "pred = model.predict(test_data)\n",
    "pred = pred.reshape(-1)"
   ]
  },
  {
   "cell_type": "code",
   "execution_count": 70,
   "id": "14983ae4",
   "metadata": {},
   "outputs": [
    {
     "data": {
      "text/plain": [
       "array([269.17184, 272.9556 , 221.74211, ..., 366.83203, 354.2571 ,\n",
       "       343.86984], dtype=float32)"
      ]
     },
     "execution_count": 70,
     "metadata": {},
     "output_type": "execute_result"
    }
   ],
   "source": [
    "pred"
   ]
  },
  {
   "cell_type": "code",
   "execution_count": 71,
   "id": "0543a11b",
   "metadata": {},
   "outputs": [],
   "source": [
    "sample_submission['Patv'] = pred\n",
    "\n",
    "sample_submission.to_csv('0710_Basemodel_LSTM_EDA_tscv_testsize_134.csv', index=False)"
   ]
  },
  {
   "cell_type": "code",
   "execution_count": null,
   "id": "77e52c43",
   "metadata": {},
   "outputs": [],
   "source": []
  },
  {
   "cell_type": "code",
   "execution_count": null,
   "id": "100a614a",
   "metadata": {},
   "outputs": [],
   "source": []
  },
  {
   "cell_type": "code",
   "execution_count": null,
   "id": "e3b023da",
   "metadata": {},
   "outputs": [],
   "source": []
  },
  {
   "cell_type": "code",
   "execution_count": null,
   "id": "eec39e97",
   "metadata": {},
   "outputs": [],
   "source": []
  },
  {
   "cell_type": "code",
   "execution_count": null,
   "id": "edd1de4e",
   "metadata": {},
   "outputs": [],
   "source": []
  },
  {
   "cell_type": "code",
   "execution_count": null,
   "id": "3532198f",
   "metadata": {},
   "outputs": [],
   "source": []
  },
  {
   "cell_type": "raw",
   "id": "88c7c5a3",
   "metadata": {},
   "source": []
  }
 ],
 "metadata": {
  "kernelspec": {
   "display_name": "Python 3 (ipykernel)",
   "language": "python",
   "name": "python3"
  },
  "language_info": {
   "codemirror_mode": {
    "name": "ipython",
    "version": 3
   },
   "file_extension": ".py",
   "mimetype": "text/x-python",
   "name": "python",
   "nbconvert_exporter": "python",
   "pygments_lexer": "ipython3",
   "version": "3.8.12"
  },
  "toc": {
   "base_numbering": 1,
   "nav_menu": {},
   "number_sections": true,
   "sideBar": true,
   "skip_h1_title": false,
   "title_cell": "Table of Contents",
   "title_sidebar": "Contents",
   "toc_cell": false,
   "toc_position": {},
   "toc_section_display": true,
   "toc_window_display": false
  }
 },
 "nbformat": 4,
 "nbformat_minor": 5
}
