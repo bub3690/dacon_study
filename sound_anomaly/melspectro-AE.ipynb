{
 "cells": [
  {
   "cell_type": "markdown",
   "id": "a2bcba5f-002e-4f49-9622-ada6117faf0a",
   "metadata": {},
   "source": [
    "## Import"
   ]
  },
  {
   "cell_type": "code",
   "execution_count": 19,
   "id": "2b0d9b68-7102-4eca-9543-3b9b8acafc6e",
   "metadata": {},
   "outputs": [],
   "source": [
    "import random\n",
    "import pandas as pd\n",
    "import numpy as np\n",
    "import os\n",
    "import librosa\n",
    "from sklearn.model_selection import train_test_split\n",
    "from sklearn.ensemble import IsolationForest\n",
    "from sklearn.metrics import accuracy_score\n",
    "from sklearn.metrics import f1_score\n",
    "\n",
    "from tqdm.auto import tqdm\n",
    "\n",
    "import warnings\n",
    "warnings.filterwarnings(action='ignore') \n",
    "\n",
    "import torch"
   ]
  },
  {
   "cell_type": "markdown",
   "id": "fc7df3f2-62d0-4499-a46e-47d01699def0",
   "metadata": {},
   "source": [
    "## Hyperparameter Setting"
   ]
  },
  {
   "cell_type": "code",
   "execution_count": 4,
   "id": "c3367399-9798-4e38-967b-fd2320b9a2b2",
   "metadata": {},
   "outputs": [],
   "source": [
    "CFG = {\n",
    "    'SR':16000,\n",
    "    'N_MELS':128, # MFCC 벡터를 추출할 개수 (<=128)\n",
    "    'SEED':41\n",
    "}"
   ]
  },
  {
   "cell_type": "markdown",
   "id": "4254e860-ff82-43ba-bfa3-fcee4eb3ddbd",
   "metadata": {},
   "source": [
    "## Fixed RandomSeed"
   ]
  },
  {
   "cell_type": "code",
   "execution_count": 5,
   "id": "101a714b-71b6-4475-a4ce-fa5f98bc2731",
   "metadata": {},
   "outputs": [],
   "source": [
    "def seed_everything(seed):\n",
    "    random.seed(seed)\n",
    "    os.environ['PYTHONHASHSEED'] = str(seed)\n",
    "    np.random.seed(seed)\n",
    "\n",
    "seed_everything(CFG['SEED']) # Seed 고정"
   ]
  },
  {
   "cell_type": "markdown",
   "id": "05a4172e-5791-446f-9616-35c09d8bf25a",
   "metadata": {},
   "source": [
    "## Data Pre-processing"
   ]
  },
  {
   "cell_type": "code",
   "execution_count": 6,
   "id": "a62c78cd-4f40-4e98-b8a6-1b6f1d906b4d",
   "metadata": {},
   "outputs": [],
   "source": [
    "train_df = pd.read_csv('./data/open/train.csv') # 모두 정상 Sample\n",
    "test_df = pd.read_csv('./data/open/test.csv')"
   ]
  },
  {
   "cell_type": "code",
   "execution_count": 7,
   "id": "0850de38",
   "metadata": {},
   "outputs": [],
   "source": [
    "train_df['SAMPLE_PATH']=train_df['SAMPLE_PATH'].str.replace('./train','./data/open/train')"
   ]
  },
  {
   "cell_type": "code",
   "execution_count": null,
   "id": "a4280bdc",
   "metadata": {},
   "outputs": [],
   "source": []
  },
  {
   "cell_type": "code",
   "execution_count": 8,
   "id": "0c215833",
   "metadata": {},
   "outputs": [],
   "source": [
    "test_df['SAMPLE_PATH']=test_df['SAMPLE_PATH'].str.replace('./test','./data/open/test')"
   ]
  },
  {
   "cell_type": "code",
   "execution_count": 9,
   "id": "fe3666e8",
   "metadata": {},
   "outputs": [
    {
     "data": {
      "text/html": [
       "<div>\n",
       "<style scoped>\n",
       "    .dataframe tbody tr th:only-of-type {\n",
       "        vertical-align: middle;\n",
       "    }\n",
       "\n",
       "    .dataframe tbody tr th {\n",
       "        vertical-align: top;\n",
       "    }\n",
       "\n",
       "    .dataframe thead th {\n",
       "        text-align: right;\n",
       "    }\n",
       "</style>\n",
       "<table border=\"1\" class=\"dataframe\">\n",
       "  <thead>\n",
       "    <tr style=\"text-align: right;\">\n",
       "      <th></th>\n",
       "      <th>SAMPLE_ID</th>\n",
       "      <th>SAMPLE_PATH</th>\n",
       "      <th>FAN_TYPE</th>\n",
       "    </tr>\n",
       "  </thead>\n",
       "  <tbody>\n",
       "    <tr>\n",
       "      <th>0</th>\n",
       "      <td>TEST_0000</td>\n",
       "      <td>./data/open/test/TEST_0000.wav</td>\n",
       "      <td>2</td>\n",
       "    </tr>\n",
       "    <tr>\n",
       "      <th>1</th>\n",
       "      <td>TEST_0001</td>\n",
       "      <td>./data/open/test/TEST_0001.wav</td>\n",
       "      <td>2</td>\n",
       "    </tr>\n",
       "    <tr>\n",
       "      <th>2</th>\n",
       "      <td>TEST_0002</td>\n",
       "      <td>./data/open/test/TEST_0002.wav</td>\n",
       "      <td>0</td>\n",
       "    </tr>\n",
       "    <tr>\n",
       "      <th>3</th>\n",
       "      <td>TEST_0003</td>\n",
       "      <td>./data/open/test/TEST_0003.wav</td>\n",
       "      <td>0</td>\n",
       "    </tr>\n",
       "    <tr>\n",
       "      <th>4</th>\n",
       "      <td>TEST_0004</td>\n",
       "      <td>./data/open/test/TEST_0004.wav</td>\n",
       "      <td>0</td>\n",
       "    </tr>\n",
       "    <tr>\n",
       "      <th>...</th>\n",
       "      <td>...</td>\n",
       "      <td>...</td>\n",
       "      <td>...</td>\n",
       "    </tr>\n",
       "    <tr>\n",
       "      <th>1509</th>\n",
       "      <td>TEST_1509</td>\n",
       "      <td>./data/open/test/TEST_1509.wav</td>\n",
       "      <td>0</td>\n",
       "    </tr>\n",
       "    <tr>\n",
       "      <th>1510</th>\n",
       "      <td>TEST_1510</td>\n",
       "      <td>./data/open/test/TEST_1510.wav</td>\n",
       "      <td>2</td>\n",
       "    </tr>\n",
       "    <tr>\n",
       "      <th>1511</th>\n",
       "      <td>TEST_1511</td>\n",
       "      <td>./data/open/test/TEST_1511.wav</td>\n",
       "      <td>0</td>\n",
       "    </tr>\n",
       "    <tr>\n",
       "      <th>1512</th>\n",
       "      <td>TEST_1512</td>\n",
       "      <td>./data/open/test/TEST_1512.wav</td>\n",
       "      <td>0</td>\n",
       "    </tr>\n",
       "    <tr>\n",
       "      <th>1513</th>\n",
       "      <td>TEST_1513</td>\n",
       "      <td>./data/open/test/TEST_1513.wav</td>\n",
       "      <td>2</td>\n",
       "    </tr>\n",
       "  </tbody>\n",
       "</table>\n",
       "<p>1514 rows × 3 columns</p>\n",
       "</div>"
      ],
      "text/plain": [
       "      SAMPLE_ID                     SAMPLE_PATH  FAN_TYPE\n",
       "0     TEST_0000  ./data/open/test/TEST_0000.wav         2\n",
       "1     TEST_0001  ./data/open/test/TEST_0001.wav         2\n",
       "2     TEST_0002  ./data/open/test/TEST_0002.wav         0\n",
       "3     TEST_0003  ./data/open/test/TEST_0003.wav         0\n",
       "4     TEST_0004  ./data/open/test/TEST_0004.wav         0\n",
       "...         ...                             ...       ...\n",
       "1509  TEST_1509  ./data/open/test/TEST_1509.wav         0\n",
       "1510  TEST_1510  ./data/open/test/TEST_1510.wav         2\n",
       "1511  TEST_1511  ./data/open/test/TEST_1511.wav         0\n",
       "1512  TEST_1512  ./data/open/test/TEST_1512.wav         0\n",
       "1513  TEST_1513  ./data/open/test/TEST_1513.wav         2\n",
       "\n",
       "[1514 rows x 3 columns]"
      ]
     },
     "execution_count": 9,
     "metadata": {},
     "output_type": "execute_result"
    }
   ],
   "source": [
    "test_df"
   ]
  },
  {
   "cell_type": "code",
   "execution_count": 14,
   "id": "ee800463-995c-43ac-a05d-f3988923add9",
   "metadata": {},
   "outputs": [],
   "source": [
    "def get_mel_feature(df):\n",
    "    features = []\n",
    "    for path in tqdm(df['SAMPLE_PATH']):\n",
    "        # librosa패키지를 사용하여 wav 파일 load\n",
    "        y, sr = librosa.load(path, sr=CFG['SR'])\n",
    "        \n",
    "        # librosa패키지를 사용하여 mfcc 추출\n",
    "        mfcc = librosa.feature.melspectrogram(y=y, sr=sr, n_mels=CFG['N_MELS'])\n",
    "\n",
    "        # 추출된 MFCC들의 평균을 Feature로 사용\n",
    "        y_feature=np.mean(mfcc,axis=1)\n",
    "        features.append(y_feature)\n",
    "    return features"
   ]
  },
  {
   "cell_type": "code",
   "execution_count": 15,
   "id": "af1ac689",
   "metadata": {},
   "outputs": [
    {
     "data": {
      "application/vnd.jupyter.widget-view+json": {
       "model_id": "07ba62c2e530438194245eb47cca5c9c",
       "version_major": 2,
       "version_minor": 0
      },
      "text/plain": [
       "  0%|          | 0/639 [00:00<?, ?it/s]"
      ]
     },
     "metadata": {},
     "output_type": "display_data"
    },
    {
     "data": {
      "application/vnd.jupyter.widget-view+json": {
       "model_id": "7fbfbfe418d34eb299c12fee5b4cdeef",
       "version_major": 2,
       "version_minor": 0
      },
      "text/plain": [
       "  0%|          | 0/779 [00:00<?, ?it/s]"
      ]
     },
     "metadata": {},
     "output_type": "display_data"
    }
   ],
   "source": [
    "train_0_features = get_mel_feature(train_df[train_df['FAN_TYPE']==0])\n",
    "test_0_features = get_mel_feature(test_df[test_df['FAN_TYPE']==0])"
   ]
  },
  {
   "cell_type": "code",
   "execution_count": 16,
   "id": "e99de1cd",
   "metadata": {},
   "outputs": [
    {
     "data": {
      "application/vnd.jupyter.widget-view+json": {
       "model_id": "a3dcee2d19ad4cf9b3003f1e7aa41338",
       "version_major": 2,
       "version_minor": 0
      },
      "text/plain": [
       "  0%|          | 0/640 [00:00<?, ?it/s]"
      ]
     },
     "metadata": {},
     "output_type": "display_data"
    },
    {
     "data": {
      "application/vnd.jupyter.widget-view+json": {
       "model_id": "4224b3843ff44b23a062bcfa795f8a05",
       "version_major": 2,
       "version_minor": 0
      },
      "text/plain": [
       "  0%|          | 0/735 [00:00<?, ?it/s]"
      ]
     },
     "metadata": {},
     "output_type": "display_data"
    }
   ],
   "source": [
    "train_2_features = get_mel_feature(train_df[train_df['FAN_TYPE']==2])\n",
    "test_2_features = get_mel_feature(test_df[test_df['FAN_TYPE']==2])"
   ]
  },
  {
   "cell_type": "code",
   "execution_count": 25,
   "id": "21c7ab9b",
   "metadata": {},
   "outputs": [],
   "source": [
    "train_0_loader = torch.utils.data.DataLoader(\n",
    "    dataset     = train_0_features,\n",
    "    batch_size  = 32,\n",
    "    shuffle     = True,\n",
    "    num_workers = 0\n",
    ")\n",
    "test_0_loader = torch.utils.data.DataLoader(\n",
    "    dataset     = test_0_features,\n",
    "    batch_size  = 32,\n",
    "    shuffle     = True,\n",
    "    num_workers = 0\n",
    ")"
   ]
  },
  {
   "cell_type": "code",
   "execution_count": 27,
   "id": "61aa80f7",
   "metadata": {},
   "outputs": [],
   "source": [
    "train_2_loader = torch.utils.data.DataLoader(\n",
    "    dataset     = train_2_features,\n",
    "    batch_size  = 32,\n",
    "    shuffle     = True,\n",
    "    num_workers = 0\n",
    ")\n",
    "test_2_loader = torch.utils.data.DataLoader(\n",
    "    dataset     = test_2_features,\n",
    "    batch_size  = 32,\n",
    "    shuffle     = True,\n",
    "    num_workers = 0\n",
    ")"
   ]
  },
  {
   "cell_type": "markdown",
   "id": "3e967190-c87e-458a-b9cb-4399574fa696",
   "metadata": {},
   "source": [
    "## Model Fit"
   ]
  },
  {
   "cell_type": "code",
   "execution_count": 29,
   "id": "0b1d1d06",
   "metadata": {},
   "outputs": [],
   "source": [
    "import torch\n",
    "import torchvision\n",
    "import torch.nn.functional as F\n",
    "from torch import nn, optim\n",
    "from torchvision import transforms, datasets"
   ]
  },
  {
   "cell_type": "code",
   "execution_count": 30,
   "id": "f46ad399",
   "metadata": {},
   "outputs": [
    {
     "name": "stdout",
     "output_type": "stream",
     "text": [
      "Using Device: cuda\n"
     ]
    }
   ],
   "source": [
    "# 하이퍼파라미터 준비\n",
    "EPOCH = 10\n",
    "BATCH_SIZE = 32\n",
    "USE_CUDA = torch.cuda.is_available()\n",
    "DEVICE = torch.device(\"cuda\" if USE_CUDA else \"cpu\")\n",
    "print(\"Using Device:\", DEVICE)"
   ]
  },
  {
   "cell_type": "code",
   "execution_count": 32,
   "id": "29772124",
   "metadata": {},
   "outputs": [],
   "source": [
    "# 오토인코더 모듈 정의\n",
    "class Autoencoder(nn.Module):\n",
    "    def __init__(self):\n",
    "        super(Autoencoder, self).__init__()\n",
    "\n",
    "        #인코더는 간단한 신경망으로 분류모델처럼 생겼습니다.\n",
    "        self.encoder = nn.Sequential( # nn.Sequential을 사용해 encoder와 decoder 두 모듈로 묶어줍니다.\n",
    "            nn.Linear(128, 64),\n",
    "            nn.ReLU(),\n",
    "            nn.Linear(64, 12),\n",
    "            nn.ReLU(),\n",
    "            nn.Linear(12, 3),   # 입력의 특징을 3차원으로 압축합니다 (출력값이 바로 잠재변수가 됩니다.)\n",
    "        )\n",
    "        self.decoder = nn.Sequential(\n",
    "            nn.Linear(3, 12), #디코더는 차원을 점차 28*28로 복원합니다.\n",
    "            nn.ReLU(),\n",
    "            nn.Linear(12, 64),\n",
    "            nn.ReLU(),\n",
    "            nn.Linear(64, 128)\n",
    "        )\n",
    "\n",
    "    def forward(self, x):\n",
    "        encoded = self.encoder(x) # encoder는 encoded라는 잠재변수를 만들고\n",
    "        decoded = self.decoder(encoded) # decoder를 통해 decoded라는 복원이미지를 만듭니다.\n",
    "        return encoded, decoded"
   ]
  },
  {
   "cell_type": "code",
   "execution_count": 33,
   "id": "608a6539",
   "metadata": {},
   "outputs": [],
   "source": [
    "autoencoder = Autoencoder().to(DEVICE)\n",
    "optimizer = torch.optim.Adam(autoencoder.parameters(), lr=0.005) \n",
    "# Adam()을 최적화함수로 사용합니다. Adam은 SGD의 변형함수이며 학습중인 기울기를 참고하여 학습 속도를 자동으로 변화시킵니다.\n",
    "criterion = nn.MSELoss() #원본값과 디코더에서 나온 값의 차이를 계산하기 위해 평균제곱오차(Mean Squared Loss) 오차함수를 사용합니다."
   ]
  },
  {
   "cell_type": "code",
   "execution_count": 42,
   "id": "0263b7dc",
   "metadata": {},
   "outputs": [],
   "source": [
    "def train(autoencoder, train_loader):\n",
    "    autoencoder.train()\n",
    "    for step,x in enumerate(train_loader):\n",
    "        x = x.view(-1, 128).to(DEVICE) #x(입력)와 y(대상 레이블)모두 원본이미지(x)인 것을 주의해야 합니다.\n",
    "        y = x.view(-1, 128).to(DEVICE) #x(입력)와 y(대상 레이블)모두 원본이미지(x)인 것을 주의해야 합니다.\n",
    "        encoded, decoded = autoencoder(x)\n",
    "\n",
    "        loss = criterion(decoded, y) # decoded와 원본이미지(y) 사이의 평균제곱오차를 구합니다\n",
    "        optimizer.zero_grad() #기울기에 대한 정보를 초기화합니다.\n",
    "        loss.backward() # 기울기를 구합니다.\n",
    "        optimizer.step() #최적화를 진행합니다.    \n"
   ]
  },
  {
   "cell_type": "code",
   "execution_count": 44,
   "id": "c06c2c14",
   "metadata": {},
   "outputs": [
    {
     "ename": "NameError",
     "evalue": "name 'trainset' is not defined",
     "output_type": "error",
     "traceback": [
      "\u001b[1;31m---------------------------------------------------------------------------\u001b[0m",
      "\u001b[1;31mNameError\u001b[0m                                 Traceback (most recent call last)",
      "\u001b[1;32m~\\AppData\\Local\\Temp/ipykernel_7972/2757014284.py\u001b[0m in \u001b[0;36m<module>\u001b[1;34m\u001b[0m\n\u001b[0;32m      1\u001b[0m \u001b[1;31m# 잠재변수를 3D 플롯으로 시각화\u001b[0m\u001b[1;33m\u001b[0m\u001b[1;33m\u001b[0m\u001b[1;33m\u001b[0m\u001b[0m\n\u001b[1;32m----> 2\u001b[1;33m \u001b[0mview_data\u001b[0m \u001b[1;33m=\u001b[0m \u001b[0mtrainset\u001b[0m\u001b[1;33m.\u001b[0m\u001b[0mdata\u001b[0m\u001b[1;33m[\u001b[0m\u001b[1;33m:\u001b[0m\u001b[1;36m200\u001b[0m\u001b[1;33m]\u001b[0m\u001b[1;33m.\u001b[0m\u001b[0mview\u001b[0m\u001b[1;33m(\u001b[0m\u001b[1;33m-\u001b[0m\u001b[1;36m1\u001b[0m\u001b[1;33m,\u001b[0m \u001b[1;36m28\u001b[0m\u001b[1;33m*\u001b[0m\u001b[1;36m28\u001b[0m\u001b[1;33m)\u001b[0m \u001b[1;31m#원본이미지 200개를 준비합니다\u001b[0m\u001b[1;33m\u001b[0m\u001b[1;33m\u001b[0m\u001b[0m\n\u001b[0m\u001b[0;32m      3\u001b[0m \u001b[0mview_data\u001b[0m \u001b[1;33m=\u001b[0m \u001b[0mview_data\u001b[0m\u001b[1;33m.\u001b[0m\u001b[0mtype\u001b[0m\u001b[1;33m(\u001b[0m\u001b[0mtorch\u001b[0m\u001b[1;33m.\u001b[0m\u001b[0mFloatTensor\u001b[0m\u001b[1;33m)\u001b[0m\u001b[1;33m/\u001b[0m\u001b[1;36m255.\u001b[0m\u001b[1;33m\u001b[0m\u001b[1;33m\u001b[0m\u001b[0m\n\u001b[0;32m      4\u001b[0m \u001b[0mtest_x\u001b[0m \u001b[1;33m=\u001b[0m \u001b[0mview_data\u001b[0m\u001b[1;33m.\u001b[0m\u001b[0mto\u001b[0m\u001b[1;33m(\u001b[0m\u001b[0mDEVICE\u001b[0m\u001b[1;33m)\u001b[0m\u001b[1;33m\u001b[0m\u001b[1;33m\u001b[0m\u001b[0m\n\u001b[0;32m      5\u001b[0m \u001b[0mencoded_data\u001b[0m\u001b[1;33m,\u001b[0m \u001b[0m_\u001b[0m \u001b[1;33m=\u001b[0m \u001b[0mautoencoder\u001b[0m\u001b[1;33m(\u001b[0m\u001b[0mtest_x\u001b[0m\u001b[1;33m)\u001b[0m\u001b[1;33m\u001b[0m\u001b[1;33m\u001b[0m\u001b[0m\n",
      "\u001b[1;31mNameError\u001b[0m: name 'trainset' is not defined"
     ]
    }
   ],
   "source": [
    "# 잠재변수를 3D 플롯으로 시각화\n",
    "view_data = trainset.data[:200].view(-1, 28*28) #원본이미지 200개를 준비합니다\n",
    "view_data = view_data.type(torch.FloatTensor)/255.\n",
    "test_x = view_data.to(DEVICE)\n",
    "encoded_data, _ = autoencoder(test_x)\n",
    "encoded_data = encoded_data.to(\"cpu\")"
   ]
  },
  {
   "cell_type": "code",
   "execution_count": 43,
   "id": "dc287fde",
   "metadata": {},
   "outputs": [
    {
     "ename": "NameError",
     "evalue": "name 'view_data' is not defined",
     "output_type": "error",
     "traceback": [
      "\u001b[1;31m---------------------------------------------------------------------------\u001b[0m",
      "\u001b[1;31mNameError\u001b[0m                                 Traceback (most recent call last)",
      "\u001b[1;32m~\\AppData\\Local\\Temp/ipykernel_7972/1413447039.py\u001b[0m in \u001b[0;36m<module>\u001b[1;34m\u001b[0m\n\u001b[0;32m      5\u001b[0m     \u001b[1;31m# 디코더에서 나온 이미지를 시각화 하기\u001b[0m\u001b[1;33m\u001b[0m\u001b[1;33m\u001b[0m\u001b[1;33m\u001b[0m\u001b[0m\n\u001b[0;32m      6\u001b[0m     \u001b[1;31m# 앞서 시각화를 위해 남겨둔 5개의 이미지를 한 이폭만큼 학습을 마친 모델에 넣어 복원이미지를 만듭니다.\u001b[0m\u001b[1;33m\u001b[0m\u001b[1;33m\u001b[0m\u001b[1;33m\u001b[0m\u001b[0m\n\u001b[1;32m----> 7\u001b[1;33m     \u001b[0mtest_x\u001b[0m \u001b[1;33m=\u001b[0m \u001b[0mview_data\u001b[0m\u001b[1;33m.\u001b[0m\u001b[0mto\u001b[0m\u001b[1;33m(\u001b[0m\u001b[0mDEVICE\u001b[0m\u001b[1;33m)\u001b[0m\u001b[1;33m\u001b[0m\u001b[1;33m\u001b[0m\u001b[0m\n\u001b[0m\u001b[0;32m      8\u001b[0m     \u001b[0m_\u001b[0m\u001b[1;33m,\u001b[0m \u001b[0mdecoded_data\u001b[0m \u001b[1;33m=\u001b[0m \u001b[0mautoencoder\u001b[0m\u001b[1;33m(\u001b[0m\u001b[0mtest_x\u001b[0m\u001b[1;33m)\u001b[0m\u001b[1;33m\u001b[0m\u001b[1;33m\u001b[0m\u001b[0m\n\u001b[0;32m      9\u001b[0m \u001b[1;33m\u001b[0m\u001b[0m\n",
      "\u001b[1;31mNameError\u001b[0m: name 'view_data' is not defined"
     ]
    }
   ],
   "source": [
    "#학습하기\n",
    "for epoch in range(1, EPOCH+1):\n",
    "    train(autoencoder, train_loader)\n",
    "\n",
    "    # 디코더에서 나온 이미지를 시각화 하기\n",
    "    # 앞서 시각화를 위해 남겨둔 5개의 이미지를 한 이폭만큼 학습을 마친 모델에 넣어 복원이미지를 만듭니다.\n",
    "    test_x = view_data.to(DEVICE)\n",
    "    _, decoded_data = autoencoder(test_x)\n",
    "\n",
    "    # 원본과 디코딩 결과 비교해보기\n",
    "    f, a = plt.subplots(2, 5, figsize=(5, 2))\n",
    "    print(\"[Epoch {}]\".format(epoch))\n",
    "    for i in range(5):\n",
    "        img = np.reshape(view_data.data.numpy()[i],(28, 28)) #파이토치 텐서를 넘파이로 변환합니다.\n",
    "        a[0][i].imshow(img, cmap='gray')\n",
    "        a[0][i].set_xticks(()); a[0][i].set_yticks(())\n",
    "\n",
    "    for i in range(5):\n",
    "        img = np.reshape(decoded_data.to(\"cpu\").data.numpy()[i], (28, 28)) \n",
    "        # CUDA를 사용하면 모델 출력값이 GPU에 남아있으므로 .to(\"cpu\") 함수로 일반메모리로 가져와 numpy행렬로 변환합니다.\n",
    "        # cpu를 사용할때에도 같은 코드를 사용해도 무방합니다.\n",
    "        a[1][i].imshow(img, cmap='gray')\n",
    "        a[1][i].set_xticks(()); a[1][i].set_yticks(())\n",
    "    plt.show()"
   ]
  },
  {
   "cell_type": "code",
   "execution_count": 12,
   "id": "33f1da71-b9c1-4a8a-aaeb-0f8f131a418d",
   "metadata": {},
   "outputs": [
    {
     "data": {
      "text/plain": [
       "IsolationForest(max_samples=256, n_estimators=200, random_state=41)"
      ]
     },
     "execution_count": 12,
     "metadata": {},
     "output_type": "execute_result"
    }
   ],
   "source": [
    "model0 = IsolationForest(n_estimators=200, max_samples=256, contamination='auto', random_state=CFG['SEED'], verbose=0)\n",
    "model0.fit(train_0_features)"
   ]
  },
  {
   "cell_type": "code",
   "execution_count": 13,
   "id": "52e7be5f",
   "metadata": {},
   "outputs": [
    {
     "data": {
      "text/plain": [
       "IsolationForest(max_samples=256, n_estimators=200, random_state=41)"
      ]
     },
     "execution_count": 13,
     "metadata": {},
     "output_type": "execute_result"
    }
   ],
   "source": [
    "model2 = IsolationForest(n_estimators=200, max_samples=256, contamination='auto', random_state=CFG['SEED'], verbose=0)\n",
    "model2.fit(train_2_features)"
   ]
  },
  {
   "cell_type": "code",
   "execution_count": 17,
   "id": "a71a1f63",
   "metadata": {},
   "outputs": [],
   "source": [
    "test_pred_proba0 = model0.decision_function(test_0_features)\n",
    "\n",
    "threshold = 0.05\n",
    "pred0 = (test_pred_proba0<threshold)*1"
   ]
  },
  {
   "cell_type": "code",
   "execution_count": 18,
   "id": "a6271713",
   "metadata": {},
   "outputs": [
    {
     "data": {
      "text/plain": [
       "(array([  3.,  13.,  19.,  14.,  21.,  30., 111., 181., 169., 218.]),\n",
       " array([-0.1593045 , -0.12608321, -0.09286191, -0.05964061, -0.02641932,\n",
       "         0.00680198,  0.04002328,  0.07324458,  0.10646587,  0.13968717,\n",
       "         0.17290847]),\n",
       " <BarContainer object of 10 artists>)"
      ]
     },
     "execution_count": 18,
     "metadata": {},
     "output_type": "execute_result"
    },
    {
     "data": {
      "image/png": "[encoded data removed]",
      "text/plain": [
       "<Figure size 432x288 with 1 Axes>"
      ]
     },
     "metadata": {
      "needs_background": "light"
     },
     "output_type": "display_data"
    }
   ],
   "source": [
    "import matplotlib.pyplot as plt\n",
    "\n",
    "plt.hist(test_pred_proba0)"
   ]
  },
  {
   "cell_type": "code",
   "execution_count": 19,
   "id": "5a7c393c",
   "metadata": {},
   "outputs": [
    {
     "data": {
      "text/plain": [
       "0.1540436456996149"
      ]
     },
     "execution_count": 19,
     "metadata": {},
     "output_type": "execute_result"
    }
   ],
   "source": [
    "pred0.mean()"
   ]
  },
  {
   "cell_type": "code",
   "execution_count": 23,
   "id": "b37ee99c",
   "metadata": {},
   "outputs": [],
   "source": [
    "test_pred_proba2 = model2.decision_function(test_2_features)\n",
    "\n",
    "threshold = -0.07\n",
    "pred2 = (test_pred_proba2<threshold)*1"
   ]
  },
  {
   "cell_type": "code",
   "execution_count": 24,
   "id": "8479b1ed",
   "metadata": {},
   "outputs": [
    {
     "data": {
      "text/plain": [
       "(array([ 10.,  27.,  73.,  85., 172.,  14.,   6.,  19., 144., 185.]),\n",
       " array([-0.21561779, -0.17856105, -0.14150432, -0.10444758, -0.06739084,\n",
       "        -0.03033411,  0.00672263,  0.04377937,  0.0808361 ,  0.11789284,\n",
       "         0.15494958]),\n",
       " <BarContainer object of 10 artists>)"
      ]
     },
     "execution_count": 24,
     "metadata": {},
     "output_type": "execute_result"
    },
    {
     "data": {
      "image/png": "[encoded data removed]",
      "text/plain": [
       "<Figure size 432x288 with 1 Axes>"
      ]
     },
     "metadata": {
      "needs_background": "light"
     },
     "output_type": "display_data"
    }
   ],
   "source": [
    "import matplotlib.pyplot as plt\n",
    "\n",
    "plt.hist(test_pred_proba2)"
   ]
  },
  {
   "cell_type": "code",
   "execution_count": 25,
   "id": "97df807c",
   "metadata": {},
   "outputs": [
    {
     "data": {
      "text/plain": [
       "0.25578231292517006"
      ]
     },
     "execution_count": 25,
     "metadata": {},
     "output_type": "execute_result"
    }
   ],
   "source": [
    "pred2.mean()"
   ]
  },
  {
   "cell_type": "markdown",
   "id": "3a634dee-9e6d-4332-898e-c564866d09c9",
   "metadata": {},
   "source": [
    "## Prediction"
   ]
  },
  {
   "cell_type": "code",
   "execution_count": 85,
   "id": "9c4d23dd-112c-44cb-b15d-fe3efadc0146",
   "metadata": {},
   "outputs": [],
   "source": [
    "# def get_pred_label(model_pred):\n",
    "#     # IsolationForest 모델 출력 (1:정상, -1:불량) 이므로 (0:정상, 1:불량)로 Label 변환\n",
    "#     model_pred = np.where(model_pred == 1, 0, model_pred)\n",
    "#     model_pred = np.where(model_pred == -1, 1, model_pred)\n",
    "#     return model_pred"
   ]
  },
  {
   "cell_type": "code",
   "execution_count": 86,
   "id": "45e03e85-2ffe-45e2-92fe-e564dc57a861",
   "metadata": {},
   "outputs": [],
   "source": [
    "# test_pred = model.predict(test_features) # model prediction\n",
    "# test_pred = get_pred_label(test_pred)"
   ]
  },
  {
   "cell_type": "markdown",
   "id": "0fecf184-57e8-4969-bce1-46da090bdd32",
   "metadata": {},
   "source": [
    "## Submission"
   ]
  },
  {
   "cell_type": "code",
   "execution_count": 26,
   "id": "05157612-68bf-4102-a723-8c0ad0f76755",
   "metadata": {},
   "outputs": [],
   "source": [
    "submit = pd.read_csv('./data/open/sample_submission.csv')"
   ]
  },
  {
   "cell_type": "code",
   "execution_count": 27,
   "id": "d2978231",
   "metadata": {},
   "outputs": [],
   "source": [
    "test_df2=test_df[test_df['FAN_TYPE']==2]\n",
    "test_df2['LABEL']=pred2"
   ]
  },
  {
   "cell_type": "code",
   "execution_count": 28,
   "id": "250753eb",
   "metadata": {},
   "outputs": [],
   "source": [
    "test_df0=test_df[test_df['FAN_TYPE']==0]\n",
    "test_df0['LABEL']=pred0"
   ]
  },
  {
   "cell_type": "code",
   "execution_count": 29,
   "id": "832d849b",
   "metadata": {},
   "outputs": [],
   "source": [
    "submit=pd.concat( [ test_df0[['SAMPLE_ID','LABEL']], test_df2[['SAMPLE_ID','LABEL']]], axis=0)\n",
    "submit=submit.sort_values(by='SAMPLE_ID')"
   ]
  },
  {
   "cell_type": "code",
   "execution_count": 30,
   "id": "38b5a428-5c17-4056-a3fe-4f50e30412ef",
   "metadata": {},
   "outputs": [
    {
     "data": {
      "text/html": [
       "<div>\n",
       "<style scoped>\n",
       "    .dataframe tbody tr th:only-of-type {\n",
       "        vertical-align: middle;\n",
       "    }\n",
       "\n",
       "    .dataframe tbody tr th {\n",
       "        vertical-align: top;\n",
       "    }\n",
       "\n",
       "    .dataframe thead th {\n",
       "        text-align: right;\n",
       "    }\n",
       "</style>\n",
       "<table border=\"1\" class=\"dataframe\">\n",
       "  <thead>\n",
       "    <tr style=\"text-align: right;\">\n",
       "      <th></th>\n",
       "      <th>SAMPLE_ID</th>\n",
       "      <th>LABEL</th>\n",
       "    </tr>\n",
       "  </thead>\n",
       "  <tbody>\n",
       "    <tr>\n",
       "      <th>0</th>\n",
       "      <td>TEST_0000</td>\n",
       "      <td>0</td>\n",
       "    </tr>\n",
       "    <tr>\n",
       "      <th>1</th>\n",
       "      <td>TEST_0001</td>\n",
       "      <td>0</td>\n",
       "    </tr>\n",
       "    <tr>\n",
       "      <th>2</th>\n",
       "      <td>TEST_0002</td>\n",
       "      <td>1</td>\n",
       "    </tr>\n",
       "    <tr>\n",
       "      <th>3</th>\n",
       "      <td>TEST_0003</td>\n",
       "      <td>0</td>\n",
       "    </tr>\n",
       "    <tr>\n",
       "      <th>4</th>\n",
       "      <td>TEST_0004</td>\n",
       "      <td>0</td>\n",
       "    </tr>\n",
       "  </tbody>\n",
       "</table>\n",
       "</div>"
      ],
      "text/plain": [
       "   SAMPLE_ID  LABEL\n",
       "0  TEST_0000      0\n",
       "1  TEST_0001      0\n",
       "2  TEST_0002      1\n",
       "3  TEST_0003      0\n",
       "4  TEST_0004      0"
      ]
     },
     "execution_count": 30,
     "metadata": {},
     "output_type": "execute_result"
    }
   ],
   "source": [
    "\n",
    "submit.head()"
   ]
  },
  {
   "cell_type": "code",
   "execution_count": 31,
   "id": "6c1c8567-eacd-4de3-b5e2-490102224edd",
   "metadata": {},
   "outputs": [],
   "source": [
    "submit.to_csv('./submit.csv', index=False)"
   ]
  },
  {
   "cell_type": "code",
   "execution_count": null,
   "id": "45b9825e",
   "metadata": {},
   "outputs": [],
   "source": []
  }
 ],
 "metadata": {
  "kernelspec": {
   "display_name": "Python 3 (ipykernel)",
   "language": "python",
   "name": "python3"
  },
  "language_info": {
   "codemirror_mode": {
    "name": "ipython",
    "version": 3
   },
   "file_extension": ".py",
   "mimetype": "text/x-python",
   "name": "python",
   "nbconvert_exporter": "python",
   "pygments_lexer": "ipython3",
   "version": "3.8.12"
  },
  "toc": {
   "base_numbering": 1,
   "nav_menu": {},
   "number_sections": true,
   "sideBar": true,
   "skip_h1_title": false,
   "title_cell": "Table of Contents",
   "title_sidebar": "Contents",
   "toc_cell": false,
   "toc_position": {},
   "toc_section_display": true,
   "toc_window_display": false
  }
 },
 "nbformat": 4,
 "nbformat_minor": 5
}
