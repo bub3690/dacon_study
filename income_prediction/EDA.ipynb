{
 "cells": [
  {
   "cell_type": "markdown",
   "id": "f15230a5",
   "metadata": {},
   "source": [
    "# 데이콘 소득 예측 경진대회 EDA\n",
    "\n",
    "- 예측이지만, binary classification 문제\n",
    "- 간단한 EDA와 변수 가공\n",
    "- NA처리와 패턴 분석을 주로 수행."
   ]
  },
  {
   "cell_type": "markdown",
   "id": "4e067511",
   "metadata": {},
   "source": [
    "# 변수 설명\n",
    "\n",
    "```\n",
    "id : 샘플 아이디\n",
    "age : 나이\n",
    "workclass : 일 유형 (범주)\n",
    "fnlwgt : CPS(Current Population Survey) 가중치 (이 사람이 표본에 뽑힐 가능성에 따른 가중치. 높을수록 뽑히기 어려운 사람?)\n",
    "education : 교육수준 (범주)\n",
    "education.num : 교육수준 번호 (범주)\n",
    "marital.status : 결혼 상태 (범주)\n",
    "occupation : 직업 (범주)\n",
    "relationship : 가족관계 (범주)\n",
    "race : 인종 (범주)\n",
    "sex : 성별 (범주)\n",
    "capital.gain : 자본 이익 (부동산, 토지, 주식 등)\n",
    "capital.loss : 자본 손실\n",
    "hours.per.week : 주당 근무시간\n",
    "native.country : 본 국적 (범주)\n",
    "target : 소득 (target)\n",
    "\t\t\t\t\t   0 = <=50K (5만 달러 이하)\n",
    "\n",
    "\t\t\t\t\t   1 = >50K (5만 달러 초과) \n",
    "```\n",
    "\n",
    "\n",
    "- 이를 통해 생각한 가설들.\n",
    "    - 'education'과 'education.num' 둘 중 하나만 사용면되는 dummi 변수로 생각된다.\n",
    "    - 'workclass'와 'occupation'이 둘다 비어있는 경우, 백수로 취급하고 level을 추가해도 된다.(workclass na, occupation na 둘다인 경우)\n",
    "    - sample submit 결과, target의 불균형이 크다. stratified kfold와 oversampling 사용을 고려한다.\n",
    "    - 나이도 더미변수로 활용해 보는 것이 좋아보인다. (범주화 또는 변수 추가)\n",
    "    - 본 국적을, 해외 노동자 여부 (0,1 로 바꾸는건 어떨까? 그대로 쓰면, curse of dimmension 일 듯하다.)\n",
    "    - marital.status와 성별이 있다면, relation-ship이 필요할지. (다중 공선성 문제)\n",
    "\n",
    "\n"
   ]
  },
  {
   "cell_type": "code",
   "execution_count": 10,
   "id": "60174cfe",
   "metadata": {},
   "outputs": [],
   "source": [
    "import matplotlib.pyplot as plt\n",
    "import numpy as np\n",
    "from glob import glob\n",
    "import pandas as pd\n",
    "import sys"
   ]
  },
  {
   "cell_type": "code",
   "execution_count": 11,
   "id": "2aa1fe46",
   "metadata": {},
   "outputs": [],
   "source": [
    "#시각화 패키지들\n",
    "import seaborn as sns\n",
    "import matplotlib.pyplot as plt\n",
    "%matplotlib inline\n",
    "\n",
    "plt.style.use(\"ggplot\")"
   ]
  },
  {
   "cell_type": "code",
   "execution_count": 12,
   "id": "cd364b28",
   "metadata": {},
   "outputs": [],
   "source": [
    "#분석 관련\n",
    "from scipy.stats import chi2_contingency\n",
    "from scipy.stats import kstest\n",
    "from statsmodels.formula.api import ols"
   ]
  },
  {
   "cell_type": "markdown",
   "id": "5412827d",
   "metadata": {},
   "source": [
    "# 데이터 확인"
   ]
  },
  {
   "cell_type": "code",
   "execution_count": 13,
   "id": "3a10a8c9",
   "metadata": {},
   "outputs": [],
   "source": [
    "# 파일 불러오기\n",
    "train = pd.read_csv('./data/train.csv')\n",
    "test = pd.read_csv('./data/test.csv')\n",
    "#submission = pd.read_csv('./data/sample_submission.csv')"
   ]
  },
  {
   "cell_type": "code",
   "execution_count": 14,
   "id": "e181ef0f",
   "metadata": {},
   "outputs": [
    {
     "name": "stderr",
     "output_type": "stream",
     "text": [
      "C:\\Users\\USER\\AppData\\Local\\Temp/ipykernel_13692/760497911.py:3: FutureWarning: The default value of regex will change from True to False in a future version. In addition, single character regular expressions will *not* be treated as literal strings when regex=True.\n",
      "  train.columns = train.columns.str.replace('.','_')\n",
      "C:\\Users\\USER\\AppData\\Local\\Temp/ipykernel_13692/760497911.py:4: FutureWarning: The default value of regex will change from True to False in a future version. In addition, single character regular expressions will *not* be treated as literal strings when regex=True.\n",
      "  test.columns = test.columns.str.replace('.','_')\n"
     ]
    }
   ],
   "source": [
    "#컬럼명 변경\n",
    "# . 이 있으면 분석시 오류가 생겨서.\n",
    "train.columns = train.columns.str.replace('.','_')\n",
    "test.columns = test.columns.str.replace('.','_')"
   ]
  },
  {
   "cell_type": "code",
   "execution_count": 15,
   "id": "fdacc25a",
   "metadata": {},
   "outputs": [
    {
     "data": {
      "text/html": [
       "<div>\n",
       "<style scoped>\n",
       "    .dataframe tbody tr th:only-of-type {\n",
       "        vertical-align: middle;\n",
       "    }\n",
       "\n",
       "    .dataframe tbody tr th {\n",
       "        vertical-align: top;\n",
       "    }\n",
       "\n",
       "    .dataframe thead th {\n",
       "        text-align: right;\n",
       "    }\n",
       "</style>\n",
       "<table border=\"1\" class=\"dataframe\">\n",
       "  <thead>\n",
       "    <tr style=\"text-align: right;\">\n",
       "      <th></th>\n",
       "      <th>id</th>\n",
       "      <th>age</th>\n",
       "      <th>workclass</th>\n",
       "      <th>fnlwgt</th>\n",
       "      <th>education</th>\n",
       "      <th>education_num</th>\n",
       "      <th>marital_status</th>\n",
       "      <th>occupation</th>\n",
       "      <th>relationship</th>\n",
       "      <th>race</th>\n",
       "      <th>sex</th>\n",
       "      <th>capital_gain</th>\n",
       "      <th>capital_loss</th>\n",
       "      <th>hours_per_week</th>\n",
       "      <th>native_country</th>\n",
       "      <th>target</th>\n",
       "    </tr>\n",
       "  </thead>\n",
       "  <tbody>\n",
       "    <tr>\n",
       "      <th>0</th>\n",
       "      <td>0</td>\n",
       "      <td>32</td>\n",
       "      <td>Private</td>\n",
       "      <td>309513</td>\n",
       "      <td>Assoc-acdm</td>\n",
       "      <td>12</td>\n",
       "      <td>Married-civ-spouse</td>\n",
       "      <td>Craft-repair</td>\n",
       "      <td>Husband</td>\n",
       "      <td>White</td>\n",
       "      <td>Male</td>\n",
       "      <td>0</td>\n",
       "      <td>0</td>\n",
       "      <td>40</td>\n",
       "      <td>United-States</td>\n",
       "      <td>0</td>\n",
       "    </tr>\n",
       "    <tr>\n",
       "      <th>1</th>\n",
       "      <td>1</td>\n",
       "      <td>33</td>\n",
       "      <td>Private</td>\n",
       "      <td>205469</td>\n",
       "      <td>Some-college</td>\n",
       "      <td>10</td>\n",
       "      <td>Married-civ-spouse</td>\n",
       "      <td>Exec-managerial</td>\n",
       "      <td>Husband</td>\n",
       "      <td>White</td>\n",
       "      <td>Male</td>\n",
       "      <td>0</td>\n",
       "      <td>0</td>\n",
       "      <td>40</td>\n",
       "      <td>United-States</td>\n",
       "      <td>1</td>\n",
       "    </tr>\n",
       "    <tr>\n",
       "      <th>2</th>\n",
       "      <td>2</td>\n",
       "      <td>46</td>\n",
       "      <td>Private</td>\n",
       "      <td>149949</td>\n",
       "      <td>Some-college</td>\n",
       "      <td>10</td>\n",
       "      <td>Married-civ-spouse</td>\n",
       "      <td>Craft-repair</td>\n",
       "      <td>Husband</td>\n",
       "      <td>White</td>\n",
       "      <td>Male</td>\n",
       "      <td>0</td>\n",
       "      <td>0</td>\n",
       "      <td>40</td>\n",
       "      <td>United-States</td>\n",
       "      <td>0</td>\n",
       "    </tr>\n",
       "    <tr>\n",
       "      <th>3</th>\n",
       "      <td>3</td>\n",
       "      <td>23</td>\n",
       "      <td>Private</td>\n",
       "      <td>193090</td>\n",
       "      <td>Bachelors</td>\n",
       "      <td>13</td>\n",
       "      <td>Never-married</td>\n",
       "      <td>Adm-clerical</td>\n",
       "      <td>Own-child</td>\n",
       "      <td>White</td>\n",
       "      <td>Female</td>\n",
       "      <td>0</td>\n",
       "      <td>0</td>\n",
       "      <td>30</td>\n",
       "      <td>United-States</td>\n",
       "      <td>0</td>\n",
       "    </tr>\n",
       "    <tr>\n",
       "      <th>4</th>\n",
       "      <td>4</td>\n",
       "      <td>55</td>\n",
       "      <td>Private</td>\n",
       "      <td>60193</td>\n",
       "      <td>HS-grad</td>\n",
       "      <td>9</td>\n",
       "      <td>Divorced</td>\n",
       "      <td>Adm-clerical</td>\n",
       "      <td>Not-in-family</td>\n",
       "      <td>White</td>\n",
       "      <td>Female</td>\n",
       "      <td>0</td>\n",
       "      <td>0</td>\n",
       "      <td>40</td>\n",
       "      <td>United-States</td>\n",
       "      <td>0</td>\n",
       "    </tr>\n",
       "    <tr>\n",
       "      <th>...</th>\n",
       "      <td>...</td>\n",
       "      <td>...</td>\n",
       "      <td>...</td>\n",
       "      <td>...</td>\n",
       "      <td>...</td>\n",
       "      <td>...</td>\n",
       "      <td>...</td>\n",
       "      <td>...</td>\n",
       "      <td>...</td>\n",
       "      <td>...</td>\n",
       "      <td>...</td>\n",
       "      <td>...</td>\n",
       "      <td>...</td>\n",
       "      <td>...</td>\n",
       "      <td>...</td>\n",
       "      <td>...</td>\n",
       "    </tr>\n",
       "    <tr>\n",
       "      <th>17475</th>\n",
       "      <td>17475</td>\n",
       "      <td>35</td>\n",
       "      <td>NaN</td>\n",
       "      <td>320084</td>\n",
       "      <td>Bachelors</td>\n",
       "      <td>13</td>\n",
       "      <td>Married-civ-spouse</td>\n",
       "      <td>NaN</td>\n",
       "      <td>Wife</td>\n",
       "      <td>White</td>\n",
       "      <td>Female</td>\n",
       "      <td>0</td>\n",
       "      <td>0</td>\n",
       "      <td>55</td>\n",
       "      <td>United-States</td>\n",
       "      <td>1</td>\n",
       "    </tr>\n",
       "    <tr>\n",
       "      <th>17476</th>\n",
       "      <td>17476</td>\n",
       "      <td>30</td>\n",
       "      <td>NaN</td>\n",
       "      <td>33811</td>\n",
       "      <td>Bachelors</td>\n",
       "      <td>13</td>\n",
       "      <td>Never-married</td>\n",
       "      <td>NaN</td>\n",
       "      <td>Not-in-family</td>\n",
       "      <td>Asian-Pac-Islander</td>\n",
       "      <td>Female</td>\n",
       "      <td>0</td>\n",
       "      <td>0</td>\n",
       "      <td>99</td>\n",
       "      <td>United-States</td>\n",
       "      <td>0</td>\n",
       "    </tr>\n",
       "    <tr>\n",
       "      <th>17477</th>\n",
       "      <td>17477</td>\n",
       "      <td>71</td>\n",
       "      <td>NaN</td>\n",
       "      <td>287372</td>\n",
       "      <td>Doctorate</td>\n",
       "      <td>16</td>\n",
       "      <td>Married-civ-spouse</td>\n",
       "      <td>NaN</td>\n",
       "      <td>Husband</td>\n",
       "      <td>White</td>\n",
       "      <td>Male</td>\n",
       "      <td>0</td>\n",
       "      <td>0</td>\n",
       "      <td>10</td>\n",
       "      <td>United-States</td>\n",
       "      <td>1</td>\n",
       "    </tr>\n",
       "    <tr>\n",
       "      <th>17478</th>\n",
       "      <td>17478</td>\n",
       "      <td>41</td>\n",
       "      <td>NaN</td>\n",
       "      <td>202822</td>\n",
       "      <td>HS-grad</td>\n",
       "      <td>9</td>\n",
       "      <td>Separated</td>\n",
       "      <td>NaN</td>\n",
       "      <td>Not-in-family</td>\n",
       "      <td>Black</td>\n",
       "      <td>Female</td>\n",
       "      <td>0</td>\n",
       "      <td>0</td>\n",
       "      <td>32</td>\n",
       "      <td>United-States</td>\n",
       "      <td>0</td>\n",
       "    </tr>\n",
       "    <tr>\n",
       "      <th>17479</th>\n",
       "      <td>17479</td>\n",
       "      <td>72</td>\n",
       "      <td>NaN</td>\n",
       "      <td>129912</td>\n",
       "      <td>HS-grad</td>\n",
       "      <td>9</td>\n",
       "      <td>Married-civ-spouse</td>\n",
       "      <td>NaN</td>\n",
       "      <td>Husband</td>\n",
       "      <td>White</td>\n",
       "      <td>Male</td>\n",
       "      <td>0</td>\n",
       "      <td>0</td>\n",
       "      <td>25</td>\n",
       "      <td>United-States</td>\n",
       "      <td>0</td>\n",
       "    </tr>\n",
       "  </tbody>\n",
       "</table>\n",
       "<p>17480 rows × 16 columns</p>\n",
       "</div>"
      ],
      "text/plain": [
       "          id  age workclass  fnlwgt     education  education_num  \\\n",
       "0          0   32   Private  309513    Assoc-acdm             12   \n",
       "1          1   33   Private  205469  Some-college             10   \n",
       "2          2   46   Private  149949  Some-college             10   \n",
       "3          3   23   Private  193090     Bachelors             13   \n",
       "4          4   55   Private   60193       HS-grad              9   \n",
       "...      ...  ...       ...     ...           ...            ...   \n",
       "17475  17475   35       NaN  320084     Bachelors             13   \n",
       "17476  17476   30       NaN   33811     Bachelors             13   \n",
       "17477  17477   71       NaN  287372     Doctorate             16   \n",
       "17478  17478   41       NaN  202822       HS-grad              9   \n",
       "17479  17479   72       NaN  129912       HS-grad              9   \n",
       "\n",
       "           marital_status       occupation   relationship                race  \\\n",
       "0      Married-civ-spouse     Craft-repair        Husband               White   \n",
       "1      Married-civ-spouse  Exec-managerial        Husband               White   \n",
       "2      Married-civ-spouse     Craft-repair        Husband               White   \n",
       "3           Never-married     Adm-clerical      Own-child               White   \n",
       "4                Divorced     Adm-clerical  Not-in-family               White   \n",
       "...                   ...              ...            ...                 ...   \n",
       "17475  Married-civ-spouse              NaN           Wife               White   \n",
       "17476       Never-married              NaN  Not-in-family  Asian-Pac-Islander   \n",
       "17477  Married-civ-spouse              NaN        Husband               White   \n",
       "17478           Separated              NaN  Not-in-family               Black   \n",
       "17479  Married-civ-spouse              NaN        Husband               White   \n",
       "\n",
       "          sex  capital_gain  capital_loss  hours_per_week native_country  \\\n",
       "0        Male             0             0              40  United-States   \n",
       "1        Male             0             0              40  United-States   \n",
       "2        Male             0             0              40  United-States   \n",
       "3      Female             0             0              30  United-States   \n",
       "4      Female             0             0              40  United-States   \n",
       "...       ...           ...           ...             ...            ...   \n",
       "17475  Female             0             0              55  United-States   \n",
       "17476  Female             0             0              99  United-States   \n",
       "17477    Male             0             0              10  United-States   \n",
       "17478  Female             0             0              32  United-States   \n",
       "17479    Male             0             0              25  United-States   \n",
       "\n",
       "       target  \n",
       "0           0  \n",
       "1           1  \n",
       "2           0  \n",
       "3           0  \n",
       "4           0  \n",
       "...       ...  \n",
       "17475       1  \n",
       "17476       0  \n",
       "17477       1  \n",
       "17478       0  \n",
       "17479       0  \n",
       "\n",
       "[17480 rows x 16 columns]"
      ]
     },
     "execution_count": 15,
     "metadata": {},
     "output_type": "execute_result"
    }
   ],
   "source": [
    "train"
   ]
  },
  {
   "cell_type": "code",
   "execution_count": 16,
   "id": "68064099",
   "metadata": {},
   "outputs": [
    {
     "data": {
      "text/html": [
       "<div>\n",
       "<style scoped>\n",
       "    .dataframe tbody tr th:only-of-type {\n",
       "        vertical-align: middle;\n",
       "    }\n",
       "\n",
       "    .dataframe tbody tr th {\n",
       "        vertical-align: top;\n",
       "    }\n",
       "\n",
       "    .dataframe thead th {\n",
       "        text-align: right;\n",
       "    }\n",
       "</style>\n",
       "<table border=\"1\" class=\"dataframe\">\n",
       "  <thead>\n",
       "    <tr style=\"text-align: right;\">\n",
       "      <th></th>\n",
       "      <th>id</th>\n",
       "      <th>age</th>\n",
       "      <th>workclass</th>\n",
       "      <th>fnlwgt</th>\n",
       "      <th>education</th>\n",
       "      <th>education_num</th>\n",
       "      <th>marital_status</th>\n",
       "      <th>occupation</th>\n",
       "      <th>relationship</th>\n",
       "      <th>race</th>\n",
       "      <th>sex</th>\n",
       "      <th>capital_gain</th>\n",
       "      <th>capital_loss</th>\n",
       "      <th>hours_per_week</th>\n",
       "      <th>native_country</th>\n",
       "    </tr>\n",
       "  </thead>\n",
       "  <tbody>\n",
       "    <tr>\n",
       "      <th>0</th>\n",
       "      <td>0</td>\n",
       "      <td>47</td>\n",
       "      <td>Private</td>\n",
       "      <td>304133</td>\n",
       "      <td>Some-college</td>\n",
       "      <td>10</td>\n",
       "      <td>Married-civ-spouse</td>\n",
       "      <td>Exec-managerial</td>\n",
       "      <td>Husband</td>\n",
       "      <td>White</td>\n",
       "      <td>Male</td>\n",
       "      <td>0</td>\n",
       "      <td>0</td>\n",
       "      <td>45</td>\n",
       "      <td>United-States</td>\n",
       "    </tr>\n",
       "    <tr>\n",
       "      <th>1</th>\n",
       "      <td>1</td>\n",
       "      <td>34</td>\n",
       "      <td>Self-emp-inc</td>\n",
       "      <td>154227</td>\n",
       "      <td>Some-college</td>\n",
       "      <td>10</td>\n",
       "      <td>Never-married</td>\n",
       "      <td>Sales</td>\n",
       "      <td>Not-in-family</td>\n",
       "      <td>White</td>\n",
       "      <td>Male</td>\n",
       "      <td>0</td>\n",
       "      <td>0</td>\n",
       "      <td>75</td>\n",
       "      <td>United-States</td>\n",
       "    </tr>\n",
       "    <tr>\n",
       "      <th>2</th>\n",
       "      <td>2</td>\n",
       "      <td>31</td>\n",
       "      <td>Local-gov</td>\n",
       "      <td>158291</td>\n",
       "      <td>Bachelors</td>\n",
       "      <td>13</td>\n",
       "      <td>Never-married</td>\n",
       "      <td>Craft-repair</td>\n",
       "      <td>Not-in-family</td>\n",
       "      <td>White</td>\n",
       "      <td>Male</td>\n",
       "      <td>8614</td>\n",
       "      <td>0</td>\n",
       "      <td>40</td>\n",
       "      <td>United-States</td>\n",
       "    </tr>\n",
       "    <tr>\n",
       "      <th>3</th>\n",
       "      <td>3</td>\n",
       "      <td>28</td>\n",
       "      <td>Private</td>\n",
       "      <td>183155</td>\n",
       "      <td>Bachelors</td>\n",
       "      <td>13</td>\n",
       "      <td>Married-civ-spouse</td>\n",
       "      <td>Prof-specialty</td>\n",
       "      <td>Husband</td>\n",
       "      <td>White</td>\n",
       "      <td>Male</td>\n",
       "      <td>0</td>\n",
       "      <td>0</td>\n",
       "      <td>55</td>\n",
       "      <td>United-States</td>\n",
       "    </tr>\n",
       "    <tr>\n",
       "      <th>4</th>\n",
       "      <td>4</td>\n",
       "      <td>54</td>\n",
       "      <td>Local-gov</td>\n",
       "      <td>182543</td>\n",
       "      <td>Some-college</td>\n",
       "      <td>10</td>\n",
       "      <td>Widowed</td>\n",
       "      <td>Adm-clerical</td>\n",
       "      <td>Unmarried</td>\n",
       "      <td>White</td>\n",
       "      <td>Female</td>\n",
       "      <td>0</td>\n",
       "      <td>0</td>\n",
       "      <td>40</td>\n",
       "      <td>Mexico</td>\n",
       "    </tr>\n",
       "    <tr>\n",
       "      <th>...</th>\n",
       "      <td>...</td>\n",
       "      <td>...</td>\n",
       "      <td>...</td>\n",
       "      <td>...</td>\n",
       "      <td>...</td>\n",
       "      <td>...</td>\n",
       "      <td>...</td>\n",
       "      <td>...</td>\n",
       "      <td>...</td>\n",
       "      <td>...</td>\n",
       "      <td>...</td>\n",
       "      <td>...</td>\n",
       "      <td>...</td>\n",
       "      <td>...</td>\n",
       "      <td>...</td>\n",
       "    </tr>\n",
       "    <tr>\n",
       "      <th>15076</th>\n",
       "      <td>15076</td>\n",
       "      <td>30</td>\n",
       "      <td>Local-gov</td>\n",
       "      <td>182926</td>\n",
       "      <td>Some-college</td>\n",
       "      <td>10</td>\n",
       "      <td>Married-civ-spouse</td>\n",
       "      <td>Protective-serv</td>\n",
       "      <td>Husband</td>\n",
       "      <td>White</td>\n",
       "      <td>Male</td>\n",
       "      <td>15024</td>\n",
       "      <td>0</td>\n",
       "      <td>40</td>\n",
       "      <td>United-States</td>\n",
       "    </tr>\n",
       "    <tr>\n",
       "      <th>15077</th>\n",
       "      <td>15077</td>\n",
       "      <td>39</td>\n",
       "      <td>Private</td>\n",
       "      <td>176101</td>\n",
       "      <td>Bachelors</td>\n",
       "      <td>13</td>\n",
       "      <td>Married-civ-spouse</td>\n",
       "      <td>Craft-repair</td>\n",
       "      <td>Husband</td>\n",
       "      <td>White</td>\n",
       "      <td>Male</td>\n",
       "      <td>0</td>\n",
       "      <td>0</td>\n",
       "      <td>40</td>\n",
       "      <td>United-States</td>\n",
       "    </tr>\n",
       "    <tr>\n",
       "      <th>15078</th>\n",
       "      <td>15078</td>\n",
       "      <td>48</td>\n",
       "      <td>Private</td>\n",
       "      <td>242406</td>\n",
       "      <td>11th</td>\n",
       "      <td>7</td>\n",
       "      <td>Never-married</td>\n",
       "      <td>Machine-op-inspct</td>\n",
       "      <td>Unmarried</td>\n",
       "      <td>White</td>\n",
       "      <td>Male</td>\n",
       "      <td>0</td>\n",
       "      <td>0</td>\n",
       "      <td>40</td>\n",
       "      <td>Puerto-Rico</td>\n",
       "    </tr>\n",
       "    <tr>\n",
       "      <th>15079</th>\n",
       "      <td>15079</td>\n",
       "      <td>44</td>\n",
       "      <td>Private</td>\n",
       "      <td>100584</td>\n",
       "      <td>HS-grad</td>\n",
       "      <td>9</td>\n",
       "      <td>Married-civ-spouse</td>\n",
       "      <td>Machine-op-inspct</td>\n",
       "      <td>Husband</td>\n",
       "      <td>Amer-Indian-Eskimo</td>\n",
       "      <td>Male</td>\n",
       "      <td>0</td>\n",
       "      <td>0</td>\n",
       "      <td>40</td>\n",
       "      <td>United-States</td>\n",
       "    </tr>\n",
       "    <tr>\n",
       "      <th>15080</th>\n",
       "      <td>15080</td>\n",
       "      <td>30</td>\n",
       "      <td>Private</td>\n",
       "      <td>345898</td>\n",
       "      <td>HS-grad</td>\n",
       "      <td>9</td>\n",
       "      <td>Never-married</td>\n",
       "      <td>Craft-repair</td>\n",
       "      <td>Not-in-family</td>\n",
       "      <td>Black</td>\n",
       "      <td>Male</td>\n",
       "      <td>0</td>\n",
       "      <td>0</td>\n",
       "      <td>46</td>\n",
       "      <td>United-States</td>\n",
       "    </tr>\n",
       "  </tbody>\n",
       "</table>\n",
       "<p>15081 rows × 15 columns</p>\n",
       "</div>"
      ],
      "text/plain": [
       "          id  age     workclass  fnlwgt     education  education_num  \\\n",
       "0          0   47       Private  304133  Some-college             10   \n",
       "1          1   34  Self-emp-inc  154227  Some-college             10   \n",
       "2          2   31     Local-gov  158291     Bachelors             13   \n",
       "3          3   28       Private  183155     Bachelors             13   \n",
       "4          4   54     Local-gov  182543  Some-college             10   \n",
       "...      ...  ...           ...     ...           ...            ...   \n",
       "15076  15076   30     Local-gov  182926  Some-college             10   \n",
       "15077  15077   39       Private  176101     Bachelors             13   \n",
       "15078  15078   48       Private  242406          11th              7   \n",
       "15079  15079   44       Private  100584       HS-grad              9   \n",
       "15080  15080   30       Private  345898       HS-grad              9   \n",
       "\n",
       "           marital_status         occupation   relationship  \\\n",
       "0      Married-civ-spouse    Exec-managerial        Husband   \n",
       "1           Never-married              Sales  Not-in-family   \n",
       "2           Never-married       Craft-repair  Not-in-family   \n",
       "3      Married-civ-spouse     Prof-specialty        Husband   \n",
       "4                 Widowed       Adm-clerical      Unmarried   \n",
       "...                   ...                ...            ...   \n",
       "15076  Married-civ-spouse    Protective-serv        Husband   \n",
       "15077  Married-civ-spouse       Craft-repair        Husband   \n",
       "15078       Never-married  Machine-op-inspct      Unmarried   \n",
       "15079  Married-civ-spouse  Machine-op-inspct        Husband   \n",
       "15080       Never-married       Craft-repair  Not-in-family   \n",
       "\n",
       "                     race     sex  capital_gain  capital_loss  hours_per_week  \\\n",
       "0                   White    Male             0             0              45   \n",
       "1                   White    Male             0             0              75   \n",
       "2                   White    Male          8614             0              40   \n",
       "3                   White    Male             0             0              55   \n",
       "4                   White  Female             0             0              40   \n",
       "...                   ...     ...           ...           ...             ...   \n",
       "15076               White    Male         15024             0              40   \n",
       "15077               White    Male             0             0              40   \n",
       "15078               White    Male             0             0              40   \n",
       "15079  Amer-Indian-Eskimo    Male             0             0              40   \n",
       "15080               Black    Male             0             0              46   \n",
       "\n",
       "      native_country  \n",
       "0      United-States  \n",
       "1      United-States  \n",
       "2      United-States  \n",
       "3      United-States  \n",
       "4             Mexico  \n",
       "...              ...  \n",
       "15076  United-States  \n",
       "15077  United-States  \n",
       "15078    Puerto-Rico  \n",
       "15079  United-States  \n",
       "15080  United-States  \n",
       "\n",
       "[15081 rows x 15 columns]"
      ]
     },
     "execution_count": 16,
     "metadata": {},
     "output_type": "execute_result"
    }
   ],
   "source": [
    "test"
   ]
  },
  {
   "cell_type": "code",
   "execution_count": 17,
   "id": "f9e4d300",
   "metadata": {},
   "outputs": [
    {
     "name": "stdout",
     "output_type": "stream",
     "text": [
      "train :  (17480, 16)\n",
      "test :  (15081, 15)\n"
     ]
    }
   ],
   "source": [
    "# 데이터 차원 확인하기\n",
    "print('train : ',train.shape)\n",
    "print(\"test : \", test.shape)"
   ]
  },
  {
   "cell_type": "markdown",
   "id": "d87cb051",
   "metadata": {},
   "source": [
    "## 타입 체크\n"
   ]
  },
  {
   "cell_type": "code",
   "execution_count": 18,
   "id": "a91f3e36",
   "metadata": {
    "scrolled": false
   },
   "outputs": [
    {
     "name": "stdout",
     "output_type": "stream",
     "text": [
      "<class 'pandas.core.frame.DataFrame'>\n",
      "RangeIndex: 17480 entries, 0 to 17479\n",
      "Data columns (total 16 columns):\n",
      " #   Column          Non-Null Count  Dtype \n",
      "---  ------          --------------  ----- \n",
      " 0   id              17480 non-null  int64 \n",
      " 1   age             17480 non-null  int64 \n",
      " 2   workclass       15644 non-null  object\n",
      " 3   fnlwgt          17480 non-null  int64 \n",
      " 4   education       17480 non-null  object\n",
      " 5   education_num   17480 non-null  int64 \n",
      " 6   marital_status  17480 non-null  object\n",
      " 7   occupation      15637 non-null  object\n",
      " 8   relationship    17480 non-null  object\n",
      " 9   race            17480 non-null  object\n",
      " 10  sex             17480 non-null  object\n",
      " 11  capital_gain    17480 non-null  int64 \n",
      " 12  capital_loss    17480 non-null  int64 \n",
      " 13  hours_per_week  17480 non-null  int64 \n",
      " 14  native_country  16897 non-null  object\n",
      " 15  target          17480 non-null  int64 \n",
      "dtypes: int64(8), object(8)\n",
      "memory usage: 2.1+ MB\n"
     ]
    }
   ],
   "source": [
    "train.info()"
   ]
  },
  {
   "cell_type": "markdown",
   "id": "f58634a0",
   "metadata": {},
   "source": [
    "- 3컬럼 정도가 na가 있음을 알 수있다.\n",
    "- 그리고 가설에서 예상했던 것처럼, workclass가 na면 ocupation도 na일 가능성이 높아보인다. (백수예상)"
   ]
  },
  {
   "cell_type": "code",
   "execution_count": 19,
   "id": "debe7909",
   "metadata": {},
   "outputs": [
    {
     "name": "stdout",
     "output_type": "stream",
     "text": [
      "<class 'pandas.core.frame.DataFrame'>\n",
      "RangeIndex: 15081 entries, 0 to 15080\n",
      "Data columns (total 15 columns):\n",
      " #   Column          Non-Null Count  Dtype \n",
      "---  ------          --------------  ----- \n",
      " 0   id              15081 non-null  int64 \n",
      " 1   age             15081 non-null  int64 \n",
      " 2   workclass       15081 non-null  object\n",
      " 3   fnlwgt          15081 non-null  int64 \n",
      " 4   education       15081 non-null  object\n",
      " 5   education_num   15081 non-null  int64 \n",
      " 6   marital_status  15081 non-null  object\n",
      " 7   occupation      15081 non-null  object\n",
      " 8   relationship    15081 non-null  object\n",
      " 9   race            15081 non-null  object\n",
      " 10  sex             15081 non-null  object\n",
      " 11  capital_gain    15081 non-null  int64 \n",
      " 12  capital_loss    15081 non-null  int64 \n",
      " 13  hours_per_week  15081 non-null  int64 \n",
      " 14  native_country  15081 non-null  object\n",
      "dtypes: int64(7), object(8)\n",
      "memory usage: 1.7+ MB\n"
     ]
    }
   ],
   "source": [
    "test.info()"
   ]
  },
  {
   "cell_type": "code",
   "execution_count": 20,
   "id": "76a46646",
   "metadata": {},
   "outputs": [
    {
     "data": {
      "text/plain": [
       "id                0\n",
       "age               0\n",
       "workclass         0\n",
       "fnlwgt            0\n",
       "education         0\n",
       "education_num     0\n",
       "marital_status    0\n",
       "occupation        0\n",
       "relationship      0\n",
       "race              0\n",
       "sex               0\n",
       "capital_gain      0\n",
       "capital_loss      0\n",
       "hours_per_week    0\n",
       "native_country    0\n",
       "dtype: int64"
      ]
     },
     "execution_count": 20,
     "metadata": {},
     "output_type": "execute_result"
    }
   ],
   "source": [
    "np.sum(test.isna())"
   ]
  },
  {
   "cell_type": "markdown",
   "id": "c5c9e59c",
   "metadata": {},
   "source": [
    "test set에는 na는 없다."
   ]
  },
  {
   "cell_type": "markdown",
   "id": "aef02c7a",
   "metadata": {},
   "source": [
    "# 범주형 level 확인"
   ]
  },
  {
   "cell_type": "code",
   "execution_count": 21,
   "id": "1d9d4f14",
   "metadata": {},
   "outputs": [
    {
     "name": "stdout",
     "output_type": "stream",
     "text": [
      "educatuon \n",
      " ['Assoc-acdm' 'Some-college' 'Bachelors' 'HS-grad' 'Prof-school' '10th'\n",
      " '11th' 'Masters' '7th-8th' '1st-4th' 'Assoc-voc' '5th-6th' 'Doctorate'\n",
      " '9th' '12th' 'Preschool']\n",
      "educatuon.num \n",
      " [12 10 13  9 15  6  7 14  4  2 11  3 16  5  8  1]\n",
      "workclass \n",
      " ['Private' 'State-gov' 'Local-gov' 'Self-emp-not-inc' 'Self-emp-inc'\n",
      " 'Federal-gov' 'Without-pay' nan 'Never-worked']\n",
      "marital.status \n",
      " ['Married-civ-spouse' 'Never-married' 'Divorced' 'Separated'\n",
      " 'Married-AF-spouse' 'Married-spouse-absent' 'Widowed']\n",
      "occupation \n",
      " ['Craft-repair' 'Exec-managerial' 'Adm-clerical' 'Prof-specialty'\n",
      " 'Machine-op-inspct' 'Other-service' 'Sales' 'Farming-fishing'\n",
      " 'Transport-moving' 'Handlers-cleaners' 'Tech-support' 'Protective-serv'\n",
      " 'Priv-house-serv' 'Armed-Forces' nan]\n",
      "relationship \n",
      " ['Husband' 'Own-child' 'Not-in-family' 'Unmarried' 'Wife' 'Other-relative']\n",
      "race \n",
      " ['White' 'Black' 'Asian-Pac-Islander' 'Amer-Indian-Eskimo' 'Other']\n",
      "sex \n",
      " ['Male' 'Female']\n",
      "native.country \n",
      " ['United-States' 'Poland' 'Mexico' 'Ireland' 'Guatemala'\n",
      " 'Dominican-Republic' 'Greece' 'El-Salvador' 'Portugal' 'Canada'\n",
      " 'Philippines' 'India' 'Italy' 'England' 'Jamaica' 'Columbia' 'South'\n",
      " 'Vietnam' 'Cuba' 'Laos' 'Hong' 'Haiti' 'Germany' 'Yugoslavia' 'Ecuador'\n",
      " 'France' 'Puerto-Rico' 'Outlying-US(Guam-USVI-etc)' 'Taiwan' 'China'\n",
      " 'Japan' 'Honduras' 'Peru' 'Nicaragua' 'Hungary' 'Cambodia' 'Iran'\n",
      " 'Trinadad&Tobago' 'Thailand' 'Scotland' 'Holand-Netherlands' nan]\n"
     ]
    }
   ],
   "source": [
    "print('educatuon \\n',train['education'].unique())\n",
    "print('educatuon.num \\n',train['education_num'].unique())\n",
    "\n",
    "print('workclass \\n',train['workclass'].unique())\n",
    "\n",
    "print('marital.status \\n',train['marital_status'].unique())\n",
    "\n",
    "print('occupation \\n',train['occupation'].unique())\n",
    "\n",
    "print('relationship \\n',train['relationship'].unique())\n",
    "\n",
    "print('race \\n',train['race'].unique())\n",
    "\n",
    "print('sex \\n',train['sex'].unique())\n",
    "\n",
    "print('native.country \\n',train['native_country'].unique())"
   ]
  },
  {
   "cell_type": "markdown",
   "id": "8abe6117",
   "metadata": {},
   "source": [
    "같은 범주인데도, 오타가 없는지 확인해본다."
   ]
  },
  {
   "cell_type": "markdown",
   "id": "7e4c6d71",
   "metadata": {},
   "source": [
    "## NA 체크\n",
    "\n",
    "- dacon sample 함수 사용"
   ]
  },
  {
   "cell_type": "code",
   "execution_count": 22,
   "id": "4a54345a",
   "metadata": {},
   "outputs": [
    {
     "name": "stdout",
     "output_type": "stream",
     "text": [
      "결측치가 있는 컬럼은: workclass 입니다\n",
      "해당 컬럼에 총 1836 개의 결측치가 존재합니다.\n",
      "결측치가 있는 컬럼은: occupation 입니다\n",
      "해당 컬럼에 총 1843 개의 결측치가 존재합니다.\n",
      "결측치가 있는 컬럼은: native_country 입니다\n",
      "해당 컬럼에 총 583 개의 결측치가 존재합니다.\n"
     ]
    }
   ],
   "source": [
    "def check_missing_col(dataframe):\n",
    "    missing_col = []\n",
    "    for col in dataframe.columns:\n",
    "        missing_values = sum(dataframe[col].isna())\n",
    "        is_missing = True if missing_values >= 1 else False\n",
    "        if is_missing:\n",
    "            print(f'결측치가 있는 컬럼은: {col} 입니다')\n",
    "            print(f'해당 컬럼에 총 {missing_values} 개의 결측치가 존재합니다.')\n",
    "            missing_col.append([col, dataframe[col].dtype])\n",
    "    if missing_col == []:\n",
    "        print('결측치가 존재하지 않습니다')\n",
    "    return missing_col\n",
    "\n",
    "missing_col = check_missing_col(train)"
   ]
  },
  {
   "cell_type": "markdown",
   "id": "0e9a0b91",
   "metadata": {},
   "source": [
    "결측치가 있는 row들을 확인."
   ]
  },
  {
   "cell_type": "code",
   "execution_count": 23,
   "id": "c72bbe18",
   "metadata": {},
   "outputs": [
    {
     "data": {
      "text/html": [
       "<div>\n",
       "<style scoped>\n",
       "    .dataframe tbody tr th:only-of-type {\n",
       "        vertical-align: middle;\n",
       "    }\n",
       "\n",
       "    .dataframe tbody tr th {\n",
       "        vertical-align: top;\n",
       "    }\n",
       "\n",
       "    .dataframe thead th {\n",
       "        text-align: right;\n",
       "    }\n",
       "</style>\n",
       "<table border=\"1\" class=\"dataframe\">\n",
       "  <thead>\n",
       "    <tr style=\"text-align: right;\">\n",
       "      <th></th>\n",
       "      <th>id</th>\n",
       "      <th>age</th>\n",
       "      <th>workclass</th>\n",
       "      <th>fnlwgt</th>\n",
       "      <th>education</th>\n",
       "      <th>education_num</th>\n",
       "      <th>marital_status</th>\n",
       "      <th>occupation</th>\n",
       "      <th>relationship</th>\n",
       "      <th>race</th>\n",
       "      <th>sex</th>\n",
       "      <th>capital_gain</th>\n",
       "      <th>capital_loss</th>\n",
       "      <th>hours_per_week</th>\n",
       "      <th>native_country</th>\n",
       "      <th>target</th>\n",
       "    </tr>\n",
       "  </thead>\n",
       "  <tbody>\n",
       "    <tr>\n",
       "      <th>15081</th>\n",
       "      <td>15081</td>\n",
       "      <td>90</td>\n",
       "      <td>NaN</td>\n",
       "      <td>77053</td>\n",
       "      <td>HS-grad</td>\n",
       "      <td>9</td>\n",
       "      <td>Widowed</td>\n",
       "      <td>NaN</td>\n",
       "      <td>Not-in-family</td>\n",
       "      <td>White</td>\n",
       "      <td>Female</td>\n",
       "      <td>0</td>\n",
       "      <td>4356</td>\n",
       "      <td>40</td>\n",
       "      <td>United-States</td>\n",
       "      <td>0</td>\n",
       "    </tr>\n",
       "    <tr>\n",
       "      <th>15082</th>\n",
       "      <td>15082</td>\n",
       "      <td>66</td>\n",
       "      <td>NaN</td>\n",
       "      <td>186061</td>\n",
       "      <td>Some-college</td>\n",
       "      <td>10</td>\n",
       "      <td>Widowed</td>\n",
       "      <td>NaN</td>\n",
       "      <td>Unmarried</td>\n",
       "      <td>Black</td>\n",
       "      <td>Female</td>\n",
       "      <td>0</td>\n",
       "      <td>4356</td>\n",
       "      <td>40</td>\n",
       "      <td>United-States</td>\n",
       "      <td>0</td>\n",
       "    </tr>\n",
       "    <tr>\n",
       "      <th>15083</th>\n",
       "      <td>15083</td>\n",
       "      <td>41</td>\n",
       "      <td>Private</td>\n",
       "      <td>70037</td>\n",
       "      <td>Some-college</td>\n",
       "      <td>10</td>\n",
       "      <td>Never-married</td>\n",
       "      <td>Craft-repair</td>\n",
       "      <td>Unmarried</td>\n",
       "      <td>White</td>\n",
       "      <td>Male</td>\n",
       "      <td>0</td>\n",
       "      <td>3004</td>\n",
       "      <td>60</td>\n",
       "      <td>NaN</td>\n",
       "      <td>1</td>\n",
       "    </tr>\n",
       "    <tr>\n",
       "      <th>15084</th>\n",
       "      <td>15084</td>\n",
       "      <td>51</td>\n",
       "      <td>NaN</td>\n",
       "      <td>172175</td>\n",
       "      <td>Doctorate</td>\n",
       "      <td>16</td>\n",
       "      <td>Never-married</td>\n",
       "      <td>NaN</td>\n",
       "      <td>Not-in-family</td>\n",
       "      <td>White</td>\n",
       "      <td>Male</td>\n",
       "      <td>0</td>\n",
       "      <td>2824</td>\n",
       "      <td>40</td>\n",
       "      <td>United-States</td>\n",
       "      <td>1</td>\n",
       "    </tr>\n",
       "    <tr>\n",
       "      <th>15085</th>\n",
       "      <td>15085</td>\n",
       "      <td>22</td>\n",
       "      <td>Private</td>\n",
       "      <td>119592</td>\n",
       "      <td>Assoc-acdm</td>\n",
       "      <td>12</td>\n",
       "      <td>Never-married</td>\n",
       "      <td>Handlers-cleaners</td>\n",
       "      <td>Not-in-family</td>\n",
       "      <td>Black</td>\n",
       "      <td>Male</td>\n",
       "      <td>0</td>\n",
       "      <td>2824</td>\n",
       "      <td>40</td>\n",
       "      <td>NaN</td>\n",
       "      <td>1</td>\n",
       "    </tr>\n",
       "    <tr>\n",
       "      <th>...</th>\n",
       "      <td>...</td>\n",
       "      <td>...</td>\n",
       "      <td>...</td>\n",
       "      <td>...</td>\n",
       "      <td>...</td>\n",
       "      <td>...</td>\n",
       "      <td>...</td>\n",
       "      <td>...</td>\n",
       "      <td>...</td>\n",
       "      <td>...</td>\n",
       "      <td>...</td>\n",
       "      <td>...</td>\n",
       "      <td>...</td>\n",
       "      <td>...</td>\n",
       "      <td>...</td>\n",
       "      <td>...</td>\n",
       "    </tr>\n",
       "    <tr>\n",
       "      <th>17475</th>\n",
       "      <td>17475</td>\n",
       "      <td>35</td>\n",
       "      <td>NaN</td>\n",
       "      <td>320084</td>\n",
       "      <td>Bachelors</td>\n",
       "      <td>13</td>\n",
       "      <td>Married-civ-spouse</td>\n",
       "      <td>NaN</td>\n",
       "      <td>Wife</td>\n",
       "      <td>White</td>\n",
       "      <td>Female</td>\n",
       "      <td>0</td>\n",
       "      <td>0</td>\n",
       "      <td>55</td>\n",
       "      <td>United-States</td>\n",
       "      <td>1</td>\n",
       "    </tr>\n",
       "    <tr>\n",
       "      <th>17476</th>\n",
       "      <td>17476</td>\n",
       "      <td>30</td>\n",
       "      <td>NaN</td>\n",
       "      <td>33811</td>\n",
       "      <td>Bachelors</td>\n",
       "      <td>13</td>\n",
       "      <td>Never-married</td>\n",
       "      <td>NaN</td>\n",
       "      <td>Not-in-family</td>\n",
       "      <td>Asian-Pac-Islander</td>\n",
       "      <td>Female</td>\n",
       "      <td>0</td>\n",
       "      <td>0</td>\n",
       "      <td>99</td>\n",
       "      <td>United-States</td>\n",
       "      <td>0</td>\n",
       "    </tr>\n",
       "    <tr>\n",
       "      <th>17477</th>\n",
       "      <td>17477</td>\n",
       "      <td>71</td>\n",
       "      <td>NaN</td>\n",
       "      <td>287372</td>\n",
       "      <td>Doctorate</td>\n",
       "      <td>16</td>\n",
       "      <td>Married-civ-spouse</td>\n",
       "      <td>NaN</td>\n",
       "      <td>Husband</td>\n",
       "      <td>White</td>\n",
       "      <td>Male</td>\n",
       "      <td>0</td>\n",
       "      <td>0</td>\n",
       "      <td>10</td>\n",
       "      <td>United-States</td>\n",
       "      <td>1</td>\n",
       "    </tr>\n",
       "    <tr>\n",
       "      <th>17478</th>\n",
       "      <td>17478</td>\n",
       "      <td>41</td>\n",
       "      <td>NaN</td>\n",
       "      <td>202822</td>\n",
       "      <td>HS-grad</td>\n",
       "      <td>9</td>\n",
       "      <td>Separated</td>\n",
       "      <td>NaN</td>\n",
       "      <td>Not-in-family</td>\n",
       "      <td>Black</td>\n",
       "      <td>Female</td>\n",
       "      <td>0</td>\n",
       "      <td>0</td>\n",
       "      <td>32</td>\n",
       "      <td>United-States</td>\n",
       "      <td>0</td>\n",
       "    </tr>\n",
       "    <tr>\n",
       "      <th>17479</th>\n",
       "      <td>17479</td>\n",
       "      <td>72</td>\n",
       "      <td>NaN</td>\n",
       "      <td>129912</td>\n",
       "      <td>HS-grad</td>\n",
       "      <td>9</td>\n",
       "      <td>Married-civ-spouse</td>\n",
       "      <td>NaN</td>\n",
       "      <td>Husband</td>\n",
       "      <td>White</td>\n",
       "      <td>Male</td>\n",
       "      <td>0</td>\n",
       "      <td>0</td>\n",
       "      <td>25</td>\n",
       "      <td>United-States</td>\n",
       "      <td>0</td>\n",
       "    </tr>\n",
       "  </tbody>\n",
       "</table>\n",
       "<p>2399 rows × 16 columns</p>\n",
       "</div>"
      ],
      "text/plain": [
       "          id  age workclass  fnlwgt     education  education_num  \\\n",
       "15081  15081   90       NaN   77053       HS-grad              9   \n",
       "15082  15082   66       NaN  186061  Some-college             10   \n",
       "15083  15083   41   Private   70037  Some-college             10   \n",
       "15084  15084   51       NaN  172175     Doctorate             16   \n",
       "15085  15085   22   Private  119592    Assoc-acdm             12   \n",
       "...      ...  ...       ...     ...           ...            ...   \n",
       "17475  17475   35       NaN  320084     Bachelors             13   \n",
       "17476  17476   30       NaN   33811     Bachelors             13   \n",
       "17477  17477   71       NaN  287372     Doctorate             16   \n",
       "17478  17478   41       NaN  202822       HS-grad              9   \n",
       "17479  17479   72       NaN  129912       HS-grad              9   \n",
       "\n",
       "           marital_status         occupation   relationship  \\\n",
       "15081             Widowed                NaN  Not-in-family   \n",
       "15082             Widowed                NaN      Unmarried   \n",
       "15083       Never-married       Craft-repair      Unmarried   \n",
       "15084       Never-married                NaN  Not-in-family   \n",
       "15085       Never-married  Handlers-cleaners  Not-in-family   \n",
       "...                   ...                ...            ...   \n",
       "17475  Married-civ-spouse                NaN           Wife   \n",
       "17476       Never-married                NaN  Not-in-family   \n",
       "17477  Married-civ-spouse                NaN        Husband   \n",
       "17478           Separated                NaN  Not-in-family   \n",
       "17479  Married-civ-spouse                NaN        Husband   \n",
       "\n",
       "                     race     sex  capital_gain  capital_loss  hours_per_week  \\\n",
       "15081               White  Female             0          4356              40   \n",
       "15082               Black  Female             0          4356              40   \n",
       "15083               White    Male             0          3004              60   \n",
       "15084               White    Male             0          2824              40   \n",
       "15085               Black    Male             0          2824              40   \n",
       "...                   ...     ...           ...           ...             ...   \n",
       "17475               White  Female             0             0              55   \n",
       "17476  Asian-Pac-Islander  Female             0             0              99   \n",
       "17477               White    Male             0             0              10   \n",
       "17478               Black  Female             0             0              32   \n",
       "17479               White    Male             0             0              25   \n",
       "\n",
       "      native_country  target  \n",
       "15081  United-States       0  \n",
       "15082  United-States       0  \n",
       "15083            NaN       1  \n",
       "15084  United-States       1  \n",
       "15085            NaN       1  \n",
       "...              ...     ...  \n",
       "17475  United-States       1  \n",
       "17476  United-States       0  \n",
       "17477  United-States       1  \n",
       "17478  United-States       0  \n",
       "17479  United-States       0  \n",
       "\n",
       "[2399 rows x 16 columns]"
      ]
     },
     "execution_count": 23,
     "metadata": {},
     "output_type": "execute_result"
    }
   ],
   "source": [
    "# 결측치가 있는 row들을 확인합니다.\n",
    "train[train.isna().sum(axis=1) > 0]"
   ]
  },
  {
   "cell_type": "markdown",
   "id": "f992f49d",
   "metadata": {},
   "source": [
    "보다시피, NA값이 너무 많아서 가설에 따라 데이터를 채워 주려고한다."
   ]
  },
  {
   "cell_type": "markdown",
   "id": "c162d9c5",
   "metadata": {},
   "source": [
    "# 범주형 데이터"
   ]
  },
  {
   "cell_type": "markdown",
   "id": "4ad98c0f",
   "metadata": {},
   "source": [
    "## workclass & occupation\n",
    "\n",
    "workclass 와 occupation의 na값을 위주로 분석"
   ]
  },
  {
   "cell_type": "markdown",
   "id": "031f95e4",
   "metadata": {},
   "source": [
    "가설확인을 위해 workclass와 occupation 둘다 na인 행 출력"
   ]
  },
  {
   "cell_type": "code",
   "execution_count": 24,
   "id": "93292467",
   "metadata": {},
   "outputs": [
    {
     "data": {
      "text/html": [
       "<div>\n",
       "<style scoped>\n",
       "    .dataframe tbody tr th:only-of-type {\n",
       "        vertical-align: middle;\n",
       "    }\n",
       "\n",
       "    .dataframe tbody tr th {\n",
       "        vertical-align: top;\n",
       "    }\n",
       "\n",
       "    .dataframe thead th {\n",
       "        text-align: right;\n",
       "    }\n",
       "</style>\n",
       "<table border=\"1\" class=\"dataframe\">\n",
       "  <thead>\n",
       "    <tr style=\"text-align: right;\">\n",
       "      <th></th>\n",
       "      <th>id</th>\n",
       "      <th>age</th>\n",
       "      <th>workclass</th>\n",
       "      <th>fnlwgt</th>\n",
       "      <th>education</th>\n",
       "      <th>education_num</th>\n",
       "      <th>marital_status</th>\n",
       "      <th>occupation</th>\n",
       "      <th>relationship</th>\n",
       "      <th>race</th>\n",
       "      <th>sex</th>\n",
       "      <th>capital_gain</th>\n",
       "      <th>capital_loss</th>\n",
       "      <th>hours_per_week</th>\n",
       "      <th>native_country</th>\n",
       "      <th>target</th>\n",
       "    </tr>\n",
       "  </thead>\n",
       "  <tbody>\n",
       "    <tr>\n",
       "      <th>15081</th>\n",
       "      <td>15081</td>\n",
       "      <td>90</td>\n",
       "      <td>NaN</td>\n",
       "      <td>77053</td>\n",
       "      <td>HS-grad</td>\n",
       "      <td>9</td>\n",
       "      <td>Widowed</td>\n",
       "      <td>NaN</td>\n",
       "      <td>Not-in-family</td>\n",
       "      <td>White</td>\n",
       "      <td>Female</td>\n",
       "      <td>0</td>\n",
       "      <td>4356</td>\n",
       "      <td>40</td>\n",
       "      <td>United-States</td>\n",
       "      <td>0</td>\n",
       "    </tr>\n",
       "    <tr>\n",
       "      <th>15082</th>\n",
       "      <td>15082</td>\n",
       "      <td>66</td>\n",
       "      <td>NaN</td>\n",
       "      <td>186061</td>\n",
       "      <td>Some-college</td>\n",
       "      <td>10</td>\n",
       "      <td>Widowed</td>\n",
       "      <td>NaN</td>\n",
       "      <td>Unmarried</td>\n",
       "      <td>Black</td>\n",
       "      <td>Female</td>\n",
       "      <td>0</td>\n",
       "      <td>4356</td>\n",
       "      <td>40</td>\n",
       "      <td>United-States</td>\n",
       "      <td>0</td>\n",
       "    </tr>\n",
       "    <tr>\n",
       "      <th>15084</th>\n",
       "      <td>15084</td>\n",
       "      <td>51</td>\n",
       "      <td>NaN</td>\n",
       "      <td>172175</td>\n",
       "      <td>Doctorate</td>\n",
       "      <td>16</td>\n",
       "      <td>Never-married</td>\n",
       "      <td>NaN</td>\n",
       "      <td>Not-in-family</td>\n",
       "      <td>White</td>\n",
       "      <td>Male</td>\n",
       "      <td>0</td>\n",
       "      <td>2824</td>\n",
       "      <td>40</td>\n",
       "      <td>United-States</td>\n",
       "      <td>1</td>\n",
       "    </tr>\n",
       "    <tr>\n",
       "      <th>15086</th>\n",
       "      <td>15086</td>\n",
       "      <td>61</td>\n",
       "      <td>NaN</td>\n",
       "      <td>135285</td>\n",
       "      <td>HS-grad</td>\n",
       "      <td>9</td>\n",
       "      <td>Married-civ-spouse</td>\n",
       "      <td>NaN</td>\n",
       "      <td>Husband</td>\n",
       "      <td>White</td>\n",
       "      <td>Male</td>\n",
       "      <td>0</td>\n",
       "      <td>2603</td>\n",
       "      <td>32</td>\n",
       "      <td>United-States</td>\n",
       "      <td>0</td>\n",
       "    </tr>\n",
       "    <tr>\n",
       "      <th>15087</th>\n",
       "      <td>15087</td>\n",
       "      <td>71</td>\n",
       "      <td>NaN</td>\n",
       "      <td>100820</td>\n",
       "      <td>HS-grad</td>\n",
       "      <td>9</td>\n",
       "      <td>Married-civ-spouse</td>\n",
       "      <td>NaN</td>\n",
       "      <td>Husband</td>\n",
       "      <td>White</td>\n",
       "      <td>Male</td>\n",
       "      <td>0</td>\n",
       "      <td>2489</td>\n",
       "      <td>15</td>\n",
       "      <td>United-States</td>\n",
       "      <td>0</td>\n",
       "    </tr>\n",
       "    <tr>\n",
       "      <th>...</th>\n",
       "      <td>...</td>\n",
       "      <td>...</td>\n",
       "      <td>...</td>\n",
       "      <td>...</td>\n",
       "      <td>...</td>\n",
       "      <td>...</td>\n",
       "      <td>...</td>\n",
       "      <td>...</td>\n",
       "      <td>...</td>\n",
       "      <td>...</td>\n",
       "      <td>...</td>\n",
       "      <td>...</td>\n",
       "      <td>...</td>\n",
       "      <td>...</td>\n",
       "      <td>...</td>\n",
       "      <td>...</td>\n",
       "    </tr>\n",
       "    <tr>\n",
       "      <th>17475</th>\n",
       "      <td>17475</td>\n",
       "      <td>35</td>\n",
       "      <td>NaN</td>\n",
       "      <td>320084</td>\n",
       "      <td>Bachelors</td>\n",
       "      <td>13</td>\n",
       "      <td>Married-civ-spouse</td>\n",
       "      <td>NaN</td>\n",
       "      <td>Wife</td>\n",
       "      <td>White</td>\n",
       "      <td>Female</td>\n",
       "      <td>0</td>\n",
       "      <td>0</td>\n",
       "      <td>55</td>\n",
       "      <td>United-States</td>\n",
       "      <td>1</td>\n",
       "    </tr>\n",
       "    <tr>\n",
       "      <th>17476</th>\n",
       "      <td>17476</td>\n",
       "      <td>30</td>\n",
       "      <td>NaN</td>\n",
       "      <td>33811</td>\n",
       "      <td>Bachelors</td>\n",
       "      <td>13</td>\n",
       "      <td>Never-married</td>\n",
       "      <td>NaN</td>\n",
       "      <td>Not-in-family</td>\n",
       "      <td>Asian-Pac-Islander</td>\n",
       "      <td>Female</td>\n",
       "      <td>0</td>\n",
       "      <td>0</td>\n",
       "      <td>99</td>\n",
       "      <td>United-States</td>\n",
       "      <td>0</td>\n",
       "    </tr>\n",
       "    <tr>\n",
       "      <th>17477</th>\n",
       "      <td>17477</td>\n",
       "      <td>71</td>\n",
       "      <td>NaN</td>\n",
       "      <td>287372</td>\n",
       "      <td>Doctorate</td>\n",
       "      <td>16</td>\n",
       "      <td>Married-civ-spouse</td>\n",
       "      <td>NaN</td>\n",
       "      <td>Husband</td>\n",
       "      <td>White</td>\n",
       "      <td>Male</td>\n",
       "      <td>0</td>\n",
       "      <td>0</td>\n",
       "      <td>10</td>\n",
       "      <td>United-States</td>\n",
       "      <td>1</td>\n",
       "    </tr>\n",
       "    <tr>\n",
       "      <th>17478</th>\n",
       "      <td>17478</td>\n",
       "      <td>41</td>\n",
       "      <td>NaN</td>\n",
       "      <td>202822</td>\n",
       "      <td>HS-grad</td>\n",
       "      <td>9</td>\n",
       "      <td>Separated</td>\n",
       "      <td>NaN</td>\n",
       "      <td>Not-in-family</td>\n",
       "      <td>Black</td>\n",
       "      <td>Female</td>\n",
       "      <td>0</td>\n",
       "      <td>0</td>\n",
       "      <td>32</td>\n",
       "      <td>United-States</td>\n",
       "      <td>0</td>\n",
       "    </tr>\n",
       "    <tr>\n",
       "      <th>17479</th>\n",
       "      <td>17479</td>\n",
       "      <td>72</td>\n",
       "      <td>NaN</td>\n",
       "      <td>129912</td>\n",
       "      <td>HS-grad</td>\n",
       "      <td>9</td>\n",
       "      <td>Married-civ-spouse</td>\n",
       "      <td>NaN</td>\n",
       "      <td>Husband</td>\n",
       "      <td>White</td>\n",
       "      <td>Male</td>\n",
       "      <td>0</td>\n",
       "      <td>0</td>\n",
       "      <td>25</td>\n",
       "      <td>United-States</td>\n",
       "      <td>0</td>\n",
       "    </tr>\n",
       "  </tbody>\n",
       "</table>\n",
       "<p>1836 rows × 16 columns</p>\n",
       "</div>"
      ],
      "text/plain": [
       "          id  age workclass  fnlwgt     education  education_num  \\\n",
       "15081  15081   90       NaN   77053       HS-grad              9   \n",
       "15082  15082   66       NaN  186061  Some-college             10   \n",
       "15084  15084   51       NaN  172175     Doctorate             16   \n",
       "15086  15086   61       NaN  135285       HS-grad              9   \n",
       "15087  15087   71       NaN  100820       HS-grad              9   \n",
       "...      ...  ...       ...     ...           ...            ...   \n",
       "17475  17475   35       NaN  320084     Bachelors             13   \n",
       "17476  17476   30       NaN   33811     Bachelors             13   \n",
       "17477  17477   71       NaN  287372     Doctorate             16   \n",
       "17478  17478   41       NaN  202822       HS-grad              9   \n",
       "17479  17479   72       NaN  129912       HS-grad              9   \n",
       "\n",
       "           marital_status occupation   relationship                race  \\\n",
       "15081             Widowed        NaN  Not-in-family               White   \n",
       "15082             Widowed        NaN      Unmarried               Black   \n",
       "15084       Never-married        NaN  Not-in-family               White   \n",
       "15086  Married-civ-spouse        NaN        Husband               White   \n",
       "15087  Married-civ-spouse        NaN        Husband               White   \n",
       "...                   ...        ...            ...                 ...   \n",
       "17475  Married-civ-spouse        NaN           Wife               White   \n",
       "17476       Never-married        NaN  Not-in-family  Asian-Pac-Islander   \n",
       "17477  Married-civ-spouse        NaN        Husband               White   \n",
       "17478           Separated        NaN  Not-in-family               Black   \n",
       "17479  Married-civ-spouse        NaN        Husband               White   \n",
       "\n",
       "          sex  capital_gain  capital_loss  hours_per_week native_country  \\\n",
       "15081  Female             0          4356              40  United-States   \n",
       "15082  Female             0          4356              40  United-States   \n",
       "15084    Male             0          2824              40  United-States   \n",
       "15086    Male             0          2603              32  United-States   \n",
       "15087    Male             0          2489              15  United-States   \n",
       "...       ...           ...           ...             ...            ...   \n",
       "17475  Female             0             0              55  United-States   \n",
       "17476  Female             0             0              99  United-States   \n",
       "17477    Male             0             0              10  United-States   \n",
       "17478  Female             0             0              32  United-States   \n",
       "17479    Male             0             0              25  United-States   \n",
       "\n",
       "       target  \n",
       "15081       0  \n",
       "15082       0  \n",
       "15084       1  \n",
       "15086       0  \n",
       "15087       0  \n",
       "...       ...  \n",
       "17475       1  \n",
       "17476       0  \n",
       "17477       1  \n",
       "17478       0  \n",
       "17479       0  \n",
       "\n",
       "[1836 rows x 16 columns]"
      ]
     },
     "execution_count": 24,
     "metadata": {},
     "output_type": "execute_result"
    }
   ],
   "source": [
    "type1= train['workclass'].isna()\n",
    "type2= train['occupation'].isna()\n",
    "\n",
    "two_na=train[type1&type2]\n",
    "two_na"
   ]
  },
  {
   "cell_type": "markdown",
   "id": "1abff011",
   "metadata": {},
   "source": [
    "예상과 다르게, 결혼도 안했고 workclass&occupation이 na인데도( two_na ) 고소득층이 존재.\n",
    "\n",
    "이런 경우가 진짜 NA값이라 생각해서 제거해주거나 패턴을 확인.\n",
    "\n",
    "더 자세히 분석하기위해, two_na데이터를 target에 따라 feature 별 시각화."
   ]
  },
  {
   "cell_type": "code",
   "execution_count": 25,
   "id": "aac2e4bc",
   "metadata": {},
   "outputs": [
    {
     "data": {
      "text/html": [
       "<div>\n",
       "<style scoped>\n",
       "    .dataframe tbody tr th:only-of-type {\n",
       "        vertical-align: middle;\n",
       "    }\n",
       "\n",
       "    .dataframe tbody tr th {\n",
       "        vertical-align: top;\n",
       "    }\n",
       "\n",
       "    .dataframe thead th {\n",
       "        text-align: right;\n",
       "    }\n",
       "</style>\n",
       "<table border=\"1\" class=\"dataframe\">\n",
       "  <thead>\n",
       "    <tr style=\"text-align: right;\">\n",
       "      <th></th>\n",
       "      <th>education</th>\n",
       "      <th>marital_status</th>\n",
       "      <th>relationship</th>\n",
       "      <th>race</th>\n",
       "      <th>sex</th>\n",
       "      <th>native_country</th>\n",
       "      <th>target</th>\n",
       "    </tr>\n",
       "  </thead>\n",
       "  <tbody>\n",
       "    <tr>\n",
       "      <th>15081</th>\n",
       "      <td>HS-grad</td>\n",
       "      <td>Widowed</td>\n",
       "      <td>Not-in-family</td>\n",
       "      <td>White</td>\n",
       "      <td>Female</td>\n",
       "      <td>United-States</td>\n",
       "      <td>0</td>\n",
       "    </tr>\n",
       "    <tr>\n",
       "      <th>15082</th>\n",
       "      <td>Some-college</td>\n",
       "      <td>Widowed</td>\n",
       "      <td>Unmarried</td>\n",
       "      <td>Black</td>\n",
       "      <td>Female</td>\n",
       "      <td>United-States</td>\n",
       "      <td>0</td>\n",
       "    </tr>\n",
       "    <tr>\n",
       "      <th>15084</th>\n",
       "      <td>Doctorate</td>\n",
       "      <td>Never-married</td>\n",
       "      <td>Not-in-family</td>\n",
       "      <td>White</td>\n",
       "      <td>Male</td>\n",
       "      <td>United-States</td>\n",
       "      <td>1</td>\n",
       "    </tr>\n",
       "    <tr>\n",
       "      <th>15086</th>\n",
       "      <td>HS-grad</td>\n",
       "      <td>Married-civ-spouse</td>\n",
       "      <td>Husband</td>\n",
       "      <td>White</td>\n",
       "      <td>Male</td>\n",
       "      <td>United-States</td>\n",
       "      <td>0</td>\n",
       "    </tr>\n",
       "    <tr>\n",
       "      <th>15087</th>\n",
       "      <td>HS-grad</td>\n",
       "      <td>Married-civ-spouse</td>\n",
       "      <td>Husband</td>\n",
       "      <td>White</td>\n",
       "      <td>Male</td>\n",
       "      <td>United-States</td>\n",
       "      <td>0</td>\n",
       "    </tr>\n",
       "  </tbody>\n",
       "</table>\n",
       "</div>"
      ],
      "text/plain": [
       "          education      marital_status   relationship   race     sex  \\\n",
       "15081       HS-grad             Widowed  Not-in-family  White  Female   \n",
       "15082  Some-college             Widowed      Unmarried  Black  Female   \n",
       "15084     Doctorate       Never-married  Not-in-family  White    Male   \n",
       "15086       HS-grad  Married-civ-spouse        Husband  White    Male   \n",
       "15087       HS-grad  Married-civ-spouse        Husband  White    Male   \n",
       "\n",
       "      native_country  target  \n",
       "15081  United-States       0  \n",
       "15082  United-States       0  \n",
       "15084  United-States       1  \n",
       "15086  United-States       0  \n",
       "15087  United-States       0  "
      ]
     },
     "execution_count": 25,
     "metadata": {},
     "output_type": "execute_result"
    }
   ],
   "source": [
    "two_na_cate = two_na.drop(['id','workclass','occupation', 'age', 'fnlwgt', 'education_num', 'capital_gain', 'capital_loss', 'hours_per_week'],axis = 1) #범주형이 아닌 피쳐 drop\n",
    "two_na_cate.head()"
   ]
  },
  {
   "cell_type": "code",
   "execution_count": 26,
   "id": "0f0a3fb8",
   "metadata": {},
   "outputs": [
    {
     "name": "stdout",
     "output_type": "stream",
     "text": [
      "workclass & occupation 이 na지만, 고소득층인 경우 191\n"
     ]
    }
   ],
   "source": [
    "print('workclass & occupation 이 na지만, 고소득층인 경우',len(two_na_cate[two_na_cate['target']==1]) )"
   ]
  },
  {
   "cell_type": "markdown",
   "id": "2253594c",
   "metadata": {},
   "source": [
    "191건 정도는 날려도 된다고 생각하지만, capital gain이 높을 수도 있어서, 확인해본다."
   ]
  },
  {
   "cell_type": "code",
   "execution_count": 27,
   "id": "05de6f3d",
   "metadata": {},
   "outputs": [
    {
     "data": {
      "text/plain": [
       "<AxesSubplot:title={'center':'capital gain and marriage'}, xlabel='marital_status', ylabel='capital_gain'>"
      ]
     },
     "execution_count": 27,
     "metadata": {},
     "output_type": "execute_result"
    },
    {
     "data": {
      "image/png": "[encoded data removed]",
      "text/plain": [
       "<Figure size 432x360 with 1 Axes>"
      ]
     },
     "metadata": {},
     "output_type": "display_data"
    }
   ],
   "source": [
    "two_na_cate = two_na.drop(['id','workclass','occupation', 'age', 'fnlwgt', 'education_num', 'hours_per_week'],axis = 1) #범주형이 아닌 피쳐 drop\n",
    "\n",
    "plt.figure(figsize=(6, 5))\n",
    "plt.title('capital gain and marriage', fontsize = 30)\n",
    "sns.scatterplot(x = 'marital_status',y= 'capital_gain', hue= 'target', data= two_na_cate)"
   ]
  },
  {
   "cell_type": "markdown",
   "id": "e2551089",
   "metadata": {},
   "source": [
    "two_na 고소득자(target==1) 중에서, gain을 확인해본 결과,\n",
    "\n",
    "married를 제외하고, capital gain이 50k 이하인 것은 제거하는 것이 옳다고 보인다.(직업이 있음에도, 직업을 알 수 없는 경우이다.)"
   ]
  },
  {
   "cell_type": "markdown",
   "id": "d66618e8",
   "metadata": {},
   "source": [
    "마지막으로, 어떤 work class에 할당할지 분석,"
   ]
  },
  {
   "cell_type": "code",
   "execution_count": 28,
   "id": "37e4b49a",
   "metadata": {},
   "outputs": [
    {
     "data": {
      "text/plain": [
       "<AxesSubplot:title={'center':'education and age'}, xlabel='education', ylabel='capital_gain'>"
      ]
     },
     "execution_count": 28,
     "metadata": {},
     "output_type": "execute_result"
    },
    {
     "data": {
      "image/png": "[encoded data removed]",
      "text/plain": [
       "<Figure size 432x360 with 1 Axes>"
      ]
     },
     "metadata": {},
     "output_type": "display_data"
    }
   ],
   "source": [
    "\n",
    "plt.figure(figsize=(6, 5))\n",
    "plt.title('education and age', fontsize = 30)\n",
    "sns.scatterplot(x = 'education',y= 'capital_gain', hue= 'target', data= two_na_cate)\n"
   ]
  },
  {
   "cell_type": "code",
   "execution_count": 29,
   "id": "fa2ca132",
   "metadata": {},
   "outputs": [
    {
     "data": {
      "text/plain": [
       "<AxesSubplot:title={'center':'education and capital_gain'}, xlabel='education', ylabel='capital_gain'>"
      ]
     },
     "execution_count": 29,
     "metadata": {},
     "output_type": "execute_result"
    },
    {
     "data": {
      "image/png": "[encoded data removed]",
      "text/plain": [
       "<Figure size 432x360 with 1 Axes>"
      ]
     },
     "metadata": {},
     "output_type": "display_data"
    }
   ],
   "source": [
    "\n",
    "plt.figure(figsize=(6, 5))\n",
    "plt.title('education and capital_gain', fontsize = 30)\n",
    "sns.scatterplot(x = 'education',y= 'capital_gain', hue= 'target', data= train[train['workclass']=='Without-pay'])"
   ]
  },
  {
   "cell_type": "code",
   "execution_count": 30,
   "id": "7c7c868d",
   "metadata": {
    "scrolled": false
   },
   "outputs": [
    {
     "data": {
      "text/plain": [
       "<AxesSubplot:title={'center':'education and capital_gain'}, xlabel='education', ylabel='capital_gain'>"
      ]
     },
     "execution_count": 30,
     "metadata": {},
     "output_type": "execute_result"
    },
    {
     "data": {
      "image/png": "[encoded data removed]",
      "text/plain": [
       "<Figure size 432x360 with 1 Axes>"
      ]
     },
     "metadata": {},
     "output_type": "display_data"
    }
   ],
   "source": [
    "plt.figure(figsize=(6, 5))\n",
    "plt.title('education and capital_gain', fontsize = 30)\n",
    "sns.scatterplot(x = 'education',y= 'capital_gain', hue= 'target', data= train[train['workclass']=='Never-worked'])"
   ]
  },
  {
   "cell_type": "markdown",
   "id": "09b3cd05",
   "metadata": {},
   "source": [
    "never-worked와 withoutpay 모두 그렸지만, 일치해보이는 workclass가 없어서 새로할당.\n",
    "\n",
    "workclass <- no-working, occupation <- baeksu"
   ]
  },
  {
   "cell_type": "markdown",
   "id": "0364bed4",
   "metadata": {},
   "source": [
    "## 본 국적 확인 (native.country )\n",
    "\n",
    "본 국적에 na값이 많아서 다 제거하고 싶으나, 카이제곱 검정을 통해 나라에 따라 영향이 있는지 검정하려고함.\n",
    "\n",
    "또한, 미국 vs 그외로 분류 해볼 생각."
   ]
  },
  {
   "cell_type": "code",
   "execution_count": 31,
   "id": "7c2331e3",
   "metadata": {},
   "outputs": [
    {
     "name": "stdout",
     "output_type": "stream",
     "text": [
      "native country na 수 : 583\n"
     ]
    }
   ],
   "source": [
    "print('native country na 수 :',len(train[train['native_country'].isna()] ))"
   ]
  },
  {
   "cell_type": "code",
   "execution_count": 32,
   "id": "91e41977",
   "metadata": {
    "scrolled": true
   },
   "outputs": [
    {
     "data": {
      "text/plain": [
       "United-States                 15393\n",
       "Mexico                          355\n",
       "Philippines                     108\n",
       "Germany                          75\n",
       "Canada                           63\n",
       "Puerto-Rico                      59\n",
       "El-Salvador                      58\n",
       "Cuba                             49\n",
       "India                            47\n",
       "England                          46\n",
       "Jamaica                          42\n",
       "China                            40\n",
       "South                            39\n",
       "Italy                            38\n",
       "Dominican-Republic               38\n",
       "Columbia                         37\n",
       "Guatemala                        36\n",
       "Poland                           35\n",
       "Japan                            33\n",
       "Vietnam                          32\n",
       "Taiwan                           28\n",
       "Haiti                            23\n",
       "Nicaragua                        20\n",
       "Portugal                         20\n",
       "Ecuador                          19\n",
       "Ireland                          18\n",
       "Iran                             17\n",
       "Peru                             17\n",
       "France                           14\n",
       "Greece                           14\n",
       "Cambodia                         11\n",
       "Laos                             10\n",
       "Trinadad&Tobago                  10\n",
       "Hong                              9\n",
       "Yugoslavia                        9\n",
       "Hungary                           7\n",
       "Honduras                          7\n",
       "Outlying-US(Guam-USVI-etc)        7\n",
       "Scotland                          7\n",
       "Thailand                          6\n",
       "Holand-Netherlands                1\n",
       "Name: native_country, dtype: int64"
      ]
     },
     "execution_count": 32,
     "metadata": {},
     "output_type": "execute_result"
    }
   ],
   "source": [
    "native_country_table=train['native_country'].value_counts()\n",
    "native_country_table"
   ]
  },
  {
   "cell_type": "markdown",
   "id": "eb92cdf4",
   "metadata": {},
   "source": [
    "### 단변량 그림"
   ]
  },
  {
   "cell_type": "code",
   "execution_count": 33,
   "id": "2f6c96af",
   "metadata": {},
   "outputs": [
    {
     "data": {
      "image/png": "[encoded data removed]",
      "text/plain": [
       "<Figure size 720x360 with 2 Axes>"
      ]
     },
     "metadata": {},
     "output_type": "display_data"
    }
   ],
   "source": [
    "colors = sns.color_palette('pastel')[0:42]\n",
    "#create pie chart\n",
    "plt.figure(figsize=(10,5))\n",
    "\n",
    "plt.subplot(1,2,1)\n",
    "plt.pie(train['native_country'].value_counts(),labels=native_country_table.index,colors=colors)\n",
    "plt.subplot(1,2,2)\n",
    "sns.countplot(data=train, x=\"native_country\")\n",
    "\n",
    "\n",
    "#sns.countplot(data=train, x=\"native.country\")\n",
    "plt.tight_layout()\n",
    "plt.show()"
   ]
  },
  {
   "cell_type": "markdown",
   "id": "5224cd98",
   "metadata": {},
   "source": [
    "미국,멕시코 순으로 빈도가 많다. 그 외의 국가는 매우 희소하다."
   ]
  },
  {
   "cell_type": "markdown",
   "id": "ae837565",
   "metadata": {},
   "source": [
    "### 이변량 그림\n",
    "\n",
    "target vs 본 국적"
   ]
  },
  {
   "cell_type": "code",
   "execution_count": 34,
   "id": "44bc0bcf",
   "metadata": {},
   "outputs": [],
   "source": [
    "country_crosstab=pd.crosstab(train['native_country'],train['target'])\n",
    "country_crossgtab_res=chi2_contingency(country_crosstab)"
   ]
  },
  {
   "cell_type": "code",
   "execution_count": 35,
   "id": "0f62306d",
   "metadata": {},
   "outputs": [
    {
     "name": "stdout",
     "output_type": "stream",
     "text": [
      "Chi2 Statistic: 198.0845348336186, p-value: 8.189153114434088e-23\n",
      "기각\n"
     ]
    }
   ],
   "source": [
    "print('Chi2 Statistic: {}, p-value: {}'.format(country_crossgtab_res[0], country_crossgtab_res[1]))\n",
    "print('기각')"
   ]
  },
  {
   "cell_type": "markdown",
   "id": "015299c7",
   "metadata": {},
   "source": [
    "독립성 검정결과 국적에 따라, 차이가 있음을 검정을 통해서 확인 할 수 있다.\n",
    "\n",
    "하지만, 국적별로 도수가 크게 다르기 때문에 검정 결과를 신뢰할 수는 없어서 분포를 본다."
   ]
  },
  {
   "cell_type": "code",
   "execution_count": 36,
   "id": "dd8e37e0",
   "metadata": {
    "scrolled": false
   },
   "outputs": [
    {
     "data": {
      "text/plain": [
       "<AxesSubplot:xlabel='native_country'>"
      ]
     },
     "execution_count": 36,
     "metadata": {},
     "output_type": "execute_result"
    },
    {
     "data": {
      "image/png": "[encoded data removed]",
      "text/plain": [
       "<Figure size 432x288 with 1 Axes>"
      ]
     },
     "metadata": {},
     "output_type": "display_data"
    }
   ],
   "source": [
    "#ratio plot 제작\n",
    "def ratio_table(cross_tab):\n",
    "    return cross_tab.div(cross_tab.sum(axis=1),axis='index')\n",
    "\n",
    "country_ratio=ratio_table(country_crosstab)\n",
    "country_ratio=country_ratio.sort_values(by=0)\n",
    "\n",
    "country_ratio.plot(kind='bar',stacked=True)"
   ]
  },
  {
   "cell_type": "markdown",
   "id": "eead32f8",
   "metadata": {},
   "source": [
    "국가마다 각각 다른 분포를 띄고있음을 볼 수 있다.\n",
    "\n",
    "기울기에따라\n",
    "\n",
    "그룹핑을 0.5 이상 , 0.5~ 0.3, 0.3 ~0.1 , 그 외\n",
    "\n",
    "이렇게 분류도 가능하다."
   ]
  },
  {
   "cell_type": "code",
   "execution_count": 37,
   "id": "99d81d5a",
   "metadata": {
    "scrolled": true
   },
   "outputs": [],
   "source": [
    "prob_dict=dict(country_ratio[1])"
   ]
  },
  {
   "cell_type": "code",
   "execution_count": 38,
   "id": "4270fead",
   "metadata": {
    "scrolled": true
   },
   "outputs": [
    {
     "name": "stderr",
     "output_type": "stream",
     "text": [
      "C:\\Users\\USER\\AppData\\Local\\Temp/ipykernel_13692/3800910895.py:8: RuntimeWarning: invalid value encountered in longlong_scalars\n",
      "  probs=sum(country_data)/country_data.count()\n"
     ]
    }
   ],
   "source": [
    "group1=[]\n",
    "group2=[]\n",
    "group3=[]\n",
    "group4=[]\n",
    "\n",
    "for country in train['native_country'].unique():\n",
    "    country_data=train[train['native_country']==country]['target']\n",
    "    probs=sum(country_data)/country_data.count()\n",
    "    if probs >=0.5:\n",
    "        group1.append(country)\n",
    "    elif probs < 0.5 and probs >=0.3:\n",
    "        group2.append(country)\n",
    "    elif probs < 0.3 and probs >=0.1:\n",
    "        group3.append(country)\n",
    "    else:\n",
    "        group4.append(country)\n",
    "    #print(country,probs)"
   ]
  },
  {
   "cell_type": "code",
   "execution_count": 39,
   "id": "386915da",
   "metadata": {},
   "outputs": [
    {
     "name": "stdout",
     "output_type": "stream",
     "text": [
      "group1 : ['Iran']\n",
      "\n",
      "group2 : ['Greece', 'Canada', 'India', 'Italy', 'England', 'Yugoslavia', 'Japan']\n",
      "\n",
      "group3 : ['United-States', 'Poland', 'Ireland', 'El-Salvador', 'Philippines', 'South', 'Cuba', 'Laos', 'Hong', 'Germany', 'Ecuador', 'France', 'Taiwan', 'China', 'Honduras', 'Peru', 'Hungary', 'Cambodia', 'Trinadad&Tobago', 'Thailand', 'Scotland']\n",
      "\n",
      "group4 : ['Mexico', 'Guatemala', 'Dominican-Republic', 'Portugal', 'Jamaica', 'Columbia', 'Vietnam', 'Haiti', 'Puerto-Rico', 'Outlying-US(Guam-USVI-etc)', 'Nicaragua', 'Holand-Netherlands', nan]\n"
     ]
    }
   ],
   "source": [
    "print('group1 :',group1)\n",
    "print()\n",
    "print('group2 :',group2)\n",
    "print()\n",
    "print('group3 :',group3)\n",
    "print()\n",
    "print('group4 :',group4)"
   ]
  },
  {
   "cell_type": "markdown",
   "id": "6c88840f",
   "metadata": {},
   "source": [
    "분류결과, 어느정도 개발도상국과 아닌국가로 나눠진듯 하다.\n",
    "\n",
    "물론 도수가 적어서 outlier도 존재한다.\n",
    "\n",
    "또는 1~3 그룹을 묶어도 될까?\n",
    "\n",
    "그룹이 잘 나눠졌는지 검정"
   ]
  },
  {
   "cell_type": "code",
   "execution_count": 40,
   "id": "e8baa646",
   "metadata": {},
   "outputs": [],
   "source": [
    "train_sample = train.copy()\n",
    "train_sample['native_country']=train_sample['native_country'].replace(group1,0)\n",
    "train_sample['native_country']=train_sample['native_country'].replace(group2,1)\n",
    "train_sample['native_country']=train_sample['native_country'].replace(group3,2)\n",
    "train_sample['native_country']=train_sample['native_country'].replace(group4,3)"
   ]
  },
  {
   "cell_type": "code",
   "execution_count": 41,
   "id": "24a7d4ea",
   "metadata": {},
   "outputs": [
    {
     "name": "stdout",
     "output_type": "stream",
     "text": [
      "Chi2 Statistic: 105.44049038326594, p-value: 1.0504950307344402e-22\n",
      "기각\n"
     ]
    }
   ],
   "source": [
    "country_crosstab=pd.crosstab(train_sample['native_country'],train['target'])\n",
    "country_crosstab_res=chi2_contingency(country_crosstab)\n",
    "print('Chi2 Statistic: {}, p-value: {}'.format(country_crosstab_res[0], country_crosstab_res[1]))\n",
    "print('기각')"
   ]
  },
  {
   "cell_type": "code",
   "execution_count": 42,
   "id": "452b8280",
   "metadata": {},
   "outputs": [
    {
     "data": {
      "text/html": [
       "<div>\n",
       "<style scoped>\n",
       "    .dataframe tbody tr th:only-of-type {\n",
       "        vertical-align: middle;\n",
       "    }\n",
       "\n",
       "    .dataframe tbody tr th {\n",
       "        vertical-align: top;\n",
       "    }\n",
       "\n",
       "    .dataframe thead th {\n",
       "        text-align: right;\n",
       "    }\n",
       "</style>\n",
       "<table border=\"1\" class=\"dataframe\">\n",
       "  <thead>\n",
       "    <tr style=\"text-align: right;\">\n",
       "      <th>target</th>\n",
       "      <th>0</th>\n",
       "      <th>1</th>\n",
       "    </tr>\n",
       "    <tr>\n",
       "      <th>native_country</th>\n",
       "      <th></th>\n",
       "      <th></th>\n",
       "    </tr>\n",
       "  </thead>\n",
       "  <tbody>\n",
       "    <tr>\n",
       "      <th>0.0</th>\n",
       "      <td>6</td>\n",
       "      <td>11</td>\n",
       "    </tr>\n",
       "    <tr>\n",
       "      <th>1.0</th>\n",
       "      <td>161</td>\n",
       "      <td>89</td>\n",
       "    </tr>\n",
       "    <tr>\n",
       "      <th>2.0</th>\n",
       "      <td>12126</td>\n",
       "      <td>3834</td>\n",
       "    </tr>\n",
       "    <tr>\n",
       "      <th>3.0</th>\n",
       "      <td>1081</td>\n",
       "      <td>172</td>\n",
       "    </tr>\n",
       "  </tbody>\n",
       "</table>\n",
       "</div>"
      ],
      "text/plain": [
       "target              0     1\n",
       "native_country             \n",
       "0.0                 6    11\n",
       "1.0               161    89\n",
       "2.0             12126  3834\n",
       "3.0              1081   172"
      ]
     },
     "execution_count": 42,
     "metadata": {},
     "output_type": "execute_result"
    }
   ],
   "source": [
    "country_crosstab"
   ]
  },
  {
   "cell_type": "markdown",
   "id": "b6a2d43d",
   "metadata": {},
   "source": [
    "이란이 outlier로 그냥 1그룹에 포함시켜도 될것같다."
   ]
  },
  {
   "cell_type": "markdown",
   "id": "2fcd95ae",
   "metadata": {},
   "source": [
    "### 그외 변수들"
   ]
  },
  {
   "cell_type": "markdown",
   "id": "d649e0d8",
   "metadata": {},
   "source": [
    "#### education"
   ]
  },
  {
   "cell_type": "code",
   "execution_count": 43,
   "id": "510d0743",
   "metadata": {},
   "outputs": [
    {
     "name": "stdout",
     "output_type": "stream",
     "text": [
      "Chi2 Statistic: 2443.5943646339265, p-value: 0.0\n",
      "기각\n"
     ]
    }
   ],
   "source": [
    "education_crosstab=pd.crosstab(train['education'],train['target'])\n",
    "education_crosstab_res=chi2_contingency(education_crosstab)\n",
    "print('Chi2 Statistic: {}, p-value: {}'.format(education_crosstab_res[0], education_crosstab_res[1]))\n",
    "print('기각')"
   ]
  },
  {
   "cell_type": "code",
   "execution_count": 44,
   "id": "a9e8e0af",
   "metadata": {},
   "outputs": [
    {
     "data": {
      "text/plain": [
       "<AxesSubplot:xlabel='education'>"
      ]
     },
     "execution_count": 44,
     "metadata": {},
     "output_type": "execute_result"
    },
    {
     "data": {
      "image/png": "[encoded data removed]",
      "text/plain": [
       "<Figure size 432x288 with 1 Axes>"
      ]
     },
     "metadata": {},
     "output_type": "display_data"
    }
   ],
   "source": [
    "education_ratio=ratio_table(education_crosstab)\n",
    "education_ratio=education_ratio.sort_values(by=0)\n",
    "\n",
    "education_ratio.plot(kind='bar',stacked=True)"
   ]
  },
  {
   "cell_type": "markdown",
   "id": "f88d7acf",
   "metadata": {},
   "source": [
    "\n",
    "(doc, prof), (master~ 고졸) (그 이하)로 그룹을 나눠도 될것같아 보인다.\n"
   ]
  },
  {
   "cell_type": "code",
   "execution_count": 45,
   "id": "675d6b33",
   "metadata": {},
   "outputs": [
    {
     "data": {
      "text/plain": [
       "<AxesSubplot:xlabel='education_num'>"
      ]
     },
     "execution_count": 45,
     "metadata": {},
     "output_type": "execute_result"
    },
    {
     "data": {
      "image/png": "[encoded data removed]",
      "text/plain": [
       "<Figure size 432x288 with 1 Axes>"
      ]
     },
     "metadata": {},
     "output_type": "display_data"
    }
   ],
   "source": [
    "education_crosstab=pd.crosstab(train['education_num'],train['target'])\n",
    "education_ratio=ratio_table(education_crosstab)\n",
    "education_ratio=education_ratio.sort_values(by=0)\n",
    "\n",
    "education_ratio.plot(kind='bar',stacked=True)"
   ]
  },
  {
   "cell_type": "markdown",
   "id": "efc295fe",
   "metadata": {},
   "source": [
    "자세히보면 education num이 순위형 데이터임을 볼 수 있다."
   ]
  },
  {
   "cell_type": "code",
   "execution_count": 46,
   "id": "87464343",
   "metadata": {},
   "outputs": [],
   "source": [
    "edu_group1=[16,15]\n",
    "edu_group2=[15,14,13,11,12,10,9]\n",
    "edu_group3=[4,6,8,5,3,7,2,1]"
   ]
  },
  {
   "cell_type": "markdown",
   "id": "909909d3",
   "metadata": {},
   "source": [
    "#### sex 변수"
   ]
  },
  {
   "cell_type": "code",
   "execution_count": 47,
   "id": "4edad5cf",
   "metadata": {},
   "outputs": [
    {
     "name": "stdout",
     "output_type": "stream",
     "text": [
      "Chi2 Statistic: 803.6657285997125, p-value: 8.611285797911765e-177\n",
      "기각\n"
     ]
    }
   ],
   "source": [
    "sex_crosstab=pd.crosstab(train['sex'],train['target'])\n",
    "sex_crosstab_res=chi2_contingency(sex_crosstab)\n",
    "print('Chi2 Statistic: {}, p-value: {}'.format(sex_crosstab_res[0],sex_crosstab_res[1]))\n",
    "print('기각')"
   ]
  },
  {
   "cell_type": "code",
   "execution_count": 48,
   "id": "a918239d",
   "metadata": {},
   "outputs": [
    {
     "data": {
      "text/plain": [
       "<AxesSubplot:xlabel='sex'>"
      ]
     },
     "execution_count": 48,
     "metadata": {},
     "output_type": "execute_result"
    },
    {
     "data": {
      "image/png": "[encoded data removed]",
      "text/plain": [
       "<Figure size 432x288 with 1 Axes>"
      ]
     },
     "metadata": {},
     "output_type": "display_data"
    }
   ],
   "source": [
    "sex_crosstab.plot(kind='bar')"
   ]
  },
  {
   "cell_type": "markdown",
   "id": "0d48c4bb",
   "metadata": {},
   "source": [
    "성별에 따라 영향이 있음을 알 수 있다."
   ]
  },
  {
   "cell_type": "markdown",
   "id": "e3b23fca",
   "metadata": {},
   "source": [
    "#### relation 변수"
   ]
  },
  {
   "cell_type": "code",
   "execution_count": 49,
   "id": "f02d1b06",
   "metadata": {},
   "outputs": [
    {
     "name": "stdout",
     "output_type": "stream",
     "text": [
      "Chi2 Statistic: 3490.993872583679, p-value: 0.0\n",
      "relationship 기각\n"
     ]
    }
   ],
   "source": [
    "relation_crosstab=pd.crosstab(train['relationship'],train['target'])\n",
    "relation_crosstab_res=chi2_contingency(relation_crosstab)\n",
    "print('Chi2 Statistic: {}, p-value: {}'.format(relation_crosstab_res[0],relation_crosstab_res[1]))\n",
    "print('relationship 기각')"
   ]
  },
  {
   "cell_type": "code",
   "execution_count": 50,
   "id": "8b0b37bf",
   "metadata": {},
   "outputs": [
    {
     "data": {
      "text/plain": [
       "<AxesSubplot:xlabel='relationship'>"
      ]
     },
     "execution_count": 50,
     "metadata": {},
     "output_type": "execute_result"
    },
    {
     "data": {
      "image/png": "[encoded data removed]",
      "text/plain": [
       "<Figure size 432x288 with 1 Axes>"
      ]
     },
     "metadata": {},
     "output_type": "display_data"
    }
   ],
   "source": [
    "relation_crosstab.plot(kind='bar')"
   ]
  },
  {
   "cell_type": "markdown",
   "id": "e24a8a79",
   "metadata": {},
   "source": [
    "relationship에 따라, 달라짐을 볼 수 있다."
   ]
  },
  {
   "cell_type": "markdown",
   "id": "c3e70c72",
   "metadata": {},
   "source": [
    "#### marital 변수"
   ]
  },
  {
   "cell_type": "code",
   "execution_count": 51,
   "id": "ab4c35f3",
   "metadata": {},
   "outputs": [
    {
     "name": "stdout",
     "output_type": "stream",
     "text": [
      "Chi2 Statistic: 3410.448216124024, p-value: 0.0\n",
      "결혼관계 기각\n"
     ]
    }
   ],
   "source": [
    "marital_crosstab=pd.crosstab(train['marital_status'],train['target'])\n",
    "marital_crosstab_res=chi2_contingency(marital_crosstab)\n",
    "print('Chi2 Statistic: {}, p-value: {}'.format(marital_crosstab_res[0],marital_crosstab_res[1]))\n",
    "print('결혼관계 기각')\n",
    "\n"
   ]
  },
  {
   "cell_type": "code",
   "execution_count": 52,
   "id": "9e6b6918",
   "metadata": {},
   "outputs": [
    {
     "data": {
      "text/plain": [
       "<AxesSubplot:xlabel='marital_status'>"
      ]
     },
     "execution_count": 52,
     "metadata": {},
     "output_type": "execute_result"
    },
    {
     "data": {
      "image/png": "[encoded data removed]",
      "text/plain": [
       "<Figure size 432x288 with 1 Axes>"
      ]
     },
     "metadata": {},
     "output_type": "display_data"
    }
   ],
   "source": [
    "marital_crosstab.plot(kind='bar')"
   ]
  },
  {
   "cell_type": "markdown",
   "id": "8ddeca20",
   "metadata": {},
   "source": [
    "### 다중공선성 확인\n",
    "\n",
    "relationship, sex, marital status 다중공선성 확인\n",
    "\n",
    "https://mindscale.kr/course/basic-stat-python/13/\n"
   ]
  },
  {
   "cell_type": "code",
   "execution_count": 53,
   "id": "5dcd938e",
   "metadata": {},
   "outputs": [
    {
     "data": {
      "text/html": [
       "<table class=\"simpletable\">\n",
       "<caption>OLS Regression Results</caption>\n",
       "<tr>\n",
       "  <th>Dep. Variable:</th>         <td>target</td>      <th>  R-squared:         </th> <td>   0.203</td> \n",
       "</tr>\n",
       "<tr>\n",
       "  <th>Model:</th>                   <td>OLS</td>       <th>  Adj. R-squared:    </th> <td>   0.203</td> \n",
       "</tr>\n",
       "<tr>\n",
       "  <th>Method:</th>             <td>Least Squares</td>  <th>  F-statistic:       </th> <td>   371.6</td> \n",
       "</tr>\n",
       "<tr>\n",
       "  <th>Date:</th>             <td>Sun, 24 Apr 2022</td> <th>  Prob (F-statistic):</th>  <td>  0.00</td>  \n",
       "</tr>\n",
       "<tr>\n",
       "  <th>Time:</th>                 <td>17:34:41</td>     <th>  Log-Likelihood:    </th> <td> -7814.8</td> \n",
       "</tr>\n",
       "<tr>\n",
       "  <th>No. Observations:</th>      <td> 17480</td>      <th>  AIC:               </th> <td>1.566e+04</td>\n",
       "</tr>\n",
       "<tr>\n",
       "  <th>Df Residuals:</th>          <td> 17467</td>      <th>  BIC:               </th> <td>1.576e+04</td>\n",
       "</tr>\n",
       "<tr>\n",
       "  <th>Df Model:</th>              <td>    12</td>      <th>                     </th>     <td> </td>    \n",
       "</tr>\n",
       "<tr>\n",
       "  <th>Covariance Type:</th>      <td>nonrobust</td>    <th>                     </th>     <td> </td>    \n",
       "</tr>\n",
       "</table>\n",
       "<table class=\"simpletable\">\n",
       "<tr>\n",
       "                     <td></td>                        <th>coef</th>     <th>std err</th>      <th>t</th>      <th>P>|t|</th>  <th>[0.025</th>    <th>0.975]</th>  \n",
       "</tr>\n",
       "<tr>\n",
       "  <th>Intercept</th>                               <td>    0.2641</td> <td>    0.035</td> <td>    7.467</td> <td> 0.000</td> <td>    0.195</td> <td>    0.333</td>\n",
       "</tr>\n",
       "<tr>\n",
       "  <th>marital_status[T.Married-AF-spouse]</th>     <td>    0.0828</td> <td>    0.106</td> <td>    0.783</td> <td> 0.434</td> <td>   -0.124</td> <td>    0.290</td>\n",
       "</tr>\n",
       "<tr>\n",
       "  <th>marital_status[T.Married-civ-spouse]</th>    <td>    0.1299</td> <td>    0.034</td> <td>    3.793</td> <td> 0.000</td> <td>    0.063</td> <td>    0.197</td>\n",
       "</tr>\n",
       "<tr>\n",
       "  <th>marital_status[T.Married-spouse-absent]</th> <td>   -0.0302</td> <td>    0.025</td> <td>   -1.189</td> <td> 0.235</td> <td>   -0.080</td> <td>    0.020</td>\n",
       "</tr>\n",
       "<tr>\n",
       "  <th>marital_status[T.Never-married]</th>         <td>   -0.0490</td> <td>    0.010</td> <td>   -4.815</td> <td> 0.000</td> <td>   -0.069</td> <td>   -0.029</td>\n",
       "</tr>\n",
       "<tr>\n",
       "  <th>marital_status[T.Separated]</th>             <td>   -0.0368</td> <td>    0.018</td> <td>   -2.031</td> <td> 0.042</td> <td>   -0.072</td> <td>   -0.001</td>\n",
       "</tr>\n",
       "<tr>\n",
       "  <th>marital_status[T.Widowed]</th>               <td>   -0.0169</td> <td>    0.018</td> <td>   -0.963</td> <td> 0.336</td> <td>   -0.051</td> <td>    0.018</td>\n",
       "</tr>\n",
       "<tr>\n",
       "  <th>relationship[T.Not-in-family]</th>           <td>   -0.1534</td> <td>    0.034</td> <td>   -4.500</td> <td> 0.000</td> <td>   -0.220</td> <td>   -0.087</td>\n",
       "</tr>\n",
       "<tr>\n",
       "  <th>relationship[T.Other-relative]</th>          <td>   -0.2340</td> <td>    0.034</td> <td>   -6.947</td> <td> 0.000</td> <td>   -0.300</td> <td>   -0.168</td>\n",
       "</tr>\n",
       "<tr>\n",
       "  <th>relationship[T.Own-child]</th>               <td>   -0.2344</td> <td>    0.034</td> <td>   -6.948</td> <td> 0.000</td> <td>   -0.301</td> <td>   -0.168</td>\n",
       "</tr>\n",
       "<tr>\n",
       "  <th>relationship[T.Unmarried]</th>               <td>   -0.1952</td> <td>    0.035</td> <td>   -5.516</td> <td> 0.000</td> <td>   -0.265</td> <td>   -0.126</td>\n",
       "</tr>\n",
       "<tr>\n",
       "  <th>relationship[T.Wife]</th>                    <td>    0.0554</td> <td>    0.016</td> <td>    3.544</td> <td> 0.000</td> <td>    0.025</td> <td>    0.086</td>\n",
       "</tr>\n",
       "<tr>\n",
       "  <th>sex[T.Male]</th>                             <td>    0.0467</td> <td>    0.008</td> <td>    5.797</td> <td> 0.000</td> <td>    0.031</td> <td>    0.062</td>\n",
       "</tr>\n",
       "</table>\n",
       "<table class=\"simpletable\">\n",
       "<tr>\n",
       "  <th>Omnibus:</th>       <td>1457.786</td> <th>  Durbin-Watson:     </th> <td>   1.973</td>\n",
       "</tr>\n",
       "<tr>\n",
       "  <th>Prob(Omnibus):</th>  <td> 0.000</td>  <th>  Jarque-Bera (JB):  </th> <td>1610.109</td>\n",
       "</tr>\n",
       "<tr>\n",
       "  <th>Skew:</th>           <td> 0.707</td>  <th>  Prob(JB):          </th> <td>    0.00</td>\n",
       "</tr>\n",
       "<tr>\n",
       "  <th>Kurtosis:</th>       <td> 2.541</td>  <th>  Cond. No.          </th> <td>    53.8</td>\n",
       "</tr>\n",
       "</table><br/><br/>Notes:<br/>[1] Standard Errors assume that the covariance matrix of the errors is correctly specified."
      ],
      "text/plain": [
       "<class 'statsmodels.iolib.summary.Summary'>\n",
       "\"\"\"\n",
       "                            OLS Regression Results                            \n",
       "==============================================================================\n",
       "Dep. Variable:                 target   R-squared:                       0.203\n",
       "Model:                            OLS   Adj. R-squared:                  0.203\n",
       "Method:                 Least Squares   F-statistic:                     371.6\n",
       "Date:                Sun, 24 Apr 2022   Prob (F-statistic):               0.00\n",
       "Time:                        17:34:41   Log-Likelihood:                -7814.8\n",
       "No. Observations:               17480   AIC:                         1.566e+04\n",
       "Df Residuals:                   17467   BIC:                         1.576e+04\n",
       "Df Model:                          12                                         \n",
       "Covariance Type:            nonrobust                                         \n",
       "===========================================================================================================\n",
       "                                              coef    std err          t      P>|t|      [0.025      0.975]\n",
       "-----------------------------------------------------------------------------------------------------------\n",
       "Intercept                                   0.2641      0.035      7.467      0.000       0.195       0.333\n",
       "marital_status[T.Married-AF-spouse]         0.0828      0.106      0.783      0.434      -0.124       0.290\n",
       "marital_status[T.Married-civ-spouse]        0.1299      0.034      3.793      0.000       0.063       0.197\n",
       "marital_status[T.Married-spouse-absent]    -0.0302      0.025     -1.189      0.235      -0.080       0.020\n",
       "marital_status[T.Never-married]            -0.0490      0.010     -4.815      0.000      -0.069      -0.029\n",
       "marital_status[T.Separated]                -0.0368      0.018     -2.031      0.042      -0.072      -0.001\n",
       "marital_status[T.Widowed]                  -0.0169      0.018     -0.963      0.336      -0.051       0.018\n",
       "relationship[T.Not-in-family]              -0.1534      0.034     -4.500      0.000      -0.220      -0.087\n",
       "relationship[T.Other-relative]             -0.2340      0.034     -6.947      0.000      -0.300      -0.168\n",
       "relationship[T.Own-child]                  -0.2344      0.034     -6.948      0.000      -0.301      -0.168\n",
       "relationship[T.Unmarried]                  -0.1952      0.035     -5.516      0.000      -0.265      -0.126\n",
       "relationship[T.Wife]                        0.0554      0.016      3.544      0.000       0.025       0.086\n",
       "sex[T.Male]                                 0.0467      0.008      5.797      0.000       0.031       0.062\n",
       "==============================================================================\n",
       "Omnibus:                     1457.786   Durbin-Watson:                   1.973\n",
       "Prob(Omnibus):                  0.000   Jarque-Bera (JB):             1610.109\n",
       "Skew:                           0.707   Prob(JB):                         0.00\n",
       "Kurtosis:                       2.541   Cond. No.                         53.8\n",
       "==============================================================================\n",
       "\n",
       "Notes:\n",
       "[1] Standard Errors assume that the covariance matrix of the errors is correctly specified.\n",
       "\"\"\""
      ]
     },
     "execution_count": 53,
     "metadata": {},
     "output_type": "execute_result"
    }
   ],
   "source": [
    "\n",
    "model = ols(\"target ~ {}+ {} + {}\".format(\"marital_status\",\"relationship\",\"sex\"), train)\n",
    "res = model.fit()\n",
    "res.summary()"
   ]
  },
  {
   "cell_type": "code",
   "execution_count": 54,
   "id": "d499d999",
   "metadata": {},
   "outputs": [
    {
     "data": {
      "text/html": [
       "<div>\n",
       "<style scoped>\n",
       "    .dataframe tbody tr th:only-of-type {\n",
       "        vertical-align: middle;\n",
       "    }\n",
       "\n",
       "    .dataframe tbody tr th {\n",
       "        vertical-align: top;\n",
       "    }\n",
       "\n",
       "    .dataframe thead th {\n",
       "        text-align: right;\n",
       "    }\n",
       "</style>\n",
       "<table border=\"1\" class=\"dataframe\">\n",
       "  <thead>\n",
       "    <tr style=\"text-align: right;\">\n",
       "      <th></th>\n",
       "      <th>컬럼</th>\n",
       "      <th>VIF</th>\n",
       "    </tr>\n",
       "  </thead>\n",
       "  <tbody>\n",
       "    <tr>\n",
       "      <th>0</th>\n",
       "      <td>marital_status[T.Married-AF-spouse]</td>\n",
       "      <td>1.090550</td>\n",
       "    </tr>\n",
       "    <tr>\n",
       "      <th>1</th>\n",
       "      <td>marital_status[T.Married-civ-spouse]</td>\n",
       "      <td>35.501610</td>\n",
       "    </tr>\n",
       "    <tr>\n",
       "      <th>2</th>\n",
       "      <td>marital_status[T.Married-spouse-absent]</td>\n",
       "      <td>1.094387</td>\n",
       "    </tr>\n",
       "    <tr>\n",
       "      <th>3</th>\n",
       "      <td>marital_status[T.Never-married]</td>\n",
       "      <td>2.796655</td>\n",
       "    </tr>\n",
       "    <tr>\n",
       "      <th>4</th>\n",
       "      <td>marital_status[T.Separated]</td>\n",
       "      <td>1.198917</td>\n",
       "    </tr>\n",
       "    <tr>\n",
       "      <th>5</th>\n",
       "      <td>marital_status[T.Widowed]</td>\n",
       "      <td>1.227092</td>\n",
       "    </tr>\n",
       "    <tr>\n",
       "      <th>6</th>\n",
       "      <td>relationship[T.Not-in-family]</td>\n",
       "      <td>26.765038</td>\n",
       "    </tr>\n",
       "    <tr>\n",
       "      <th>7</th>\n",
       "      <td>relationship[T.Other-relative]</td>\n",
       "      <td>4.090521</td>\n",
       "    </tr>\n",
       "    <tr>\n",
       "      <th>8</th>\n",
       "      <td>relationship[T.Own-child]</td>\n",
       "      <td>18.869597</td>\n",
       "    </tr>\n",
       "    <tr>\n",
       "      <th>9</th>\n",
       "      <td>relationship[T.Unmarried]</td>\n",
       "      <td>14.267796</td>\n",
       "    </tr>\n",
       "    <tr>\n",
       "      <th>10</th>\n",
       "      <td>relationship[T.Wife]</td>\n",
       "      <td>1.459305</td>\n",
       "    </tr>\n",
       "    <tr>\n",
       "      <th>11</th>\n",
       "      <td>sex[T.Male]</td>\n",
       "      <td>1.767959</td>\n",
       "    </tr>\n",
       "  </tbody>\n",
       "</table>\n",
       "</div>"
      ],
      "text/plain": [
       "                                         컬럼        VIF\n",
       "0       marital_status[T.Married-AF-spouse]   1.090550\n",
       "1      marital_status[T.Married-civ-spouse]  35.501610\n",
       "2   marital_status[T.Married-spouse-absent]   1.094387\n",
       "3           marital_status[T.Never-married]   2.796655\n",
       "4               marital_status[T.Separated]   1.198917\n",
       "5                 marital_status[T.Widowed]   1.227092\n",
       "6             relationship[T.Not-in-family]  26.765038\n",
       "7            relationship[T.Other-relative]   4.090521\n",
       "8                 relationship[T.Own-child]  18.869597\n",
       "9                 relationship[T.Unmarried]  14.267796\n",
       "10                     relationship[T.Wife]   1.459305\n",
       "11                              sex[T.Male]   1.767959"
      ]
     },
     "execution_count": 54,
     "metadata": {},
     "output_type": "execute_result"
    }
   ],
   "source": [
    "from statsmodels.stats.outliers_influence import variance_inflation_factor\n",
    "pd.DataFrame({'컬럼': column, 'VIF': variance_inflation_factor(model.exog, i)} \n",
    "             for i, column in enumerate(model.exog_names)\n",
    "             if column != 'Intercept')  # 절편의 VIF는 구하지 않는다."
   ]
  },
  {
   "cell_type": "markdown",
   "id": "5a381792",
   "metadata": {},
   "source": [
    "공선성이 성별보다는, 결혼 관계와 relationship에서 발생함을 볼 수 있다."
   ]
  },
  {
   "cell_type": "code",
   "execution_count": 55,
   "id": "7bdf789d",
   "metadata": {},
   "outputs": [],
   "source": [
    "model = ols(\"target ~ {}+ {}\".format(\"marital_status\",\"sex\"), train)\n",
    "res = model.fit()\n",
    "#res.summary()"
   ]
  },
  {
   "cell_type": "code",
   "execution_count": 56,
   "id": "e867d69d",
   "metadata": {},
   "outputs": [
    {
     "data": {
      "text/html": [
       "<div>\n",
       "<style scoped>\n",
       "    .dataframe tbody tr th:only-of-type {\n",
       "        vertical-align: middle;\n",
       "    }\n",
       "\n",
       "    .dataframe tbody tr th {\n",
       "        vertical-align: top;\n",
       "    }\n",
       "\n",
       "    .dataframe thead th {\n",
       "        text-align: right;\n",
       "    }\n",
       "</style>\n",
       "<table border=\"1\" class=\"dataframe\">\n",
       "  <thead>\n",
       "    <tr style=\"text-align: right;\">\n",
       "      <th></th>\n",
       "      <th>컬럼</th>\n",
       "      <th>VIF</th>\n",
       "    </tr>\n",
       "  </thead>\n",
       "  <tbody>\n",
       "    <tr>\n",
       "      <th>0</th>\n",
       "      <td>marital_status[T.Married-AF-spouse]</td>\n",
       "      <td>1.005244</td>\n",
       "    </tr>\n",
       "    <tr>\n",
       "      <th>1</th>\n",
       "      <td>marital_status[T.Married-civ-spouse]</td>\n",
       "      <td>2.731938</td>\n",
       "    </tr>\n",
       "    <tr>\n",
       "      <th>2</th>\n",
       "      <td>marital_status[T.Married-spouse-absent]</td>\n",
       "      <td>1.092457</td>\n",
       "    </tr>\n",
       "    <tr>\n",
       "      <th>3</th>\n",
       "      <td>marital_status[T.Never-married]</td>\n",
       "      <td>2.364690</td>\n",
       "    </tr>\n",
       "    <tr>\n",
       "      <th>4</th>\n",
       "      <td>marital_status[T.Separated]</td>\n",
       "      <td>1.195188</td>\n",
       "    </tr>\n",
       "    <tr>\n",
       "      <th>5</th>\n",
       "      <td>marital_status[T.Widowed]</td>\n",
       "      <td>1.222216</td>\n",
       "    </tr>\n",
       "    <tr>\n",
       "      <th>6</th>\n",
       "      <td>sex[T.Male]</td>\n",
       "      <td>1.255760</td>\n",
       "    </tr>\n",
       "  </tbody>\n",
       "</table>\n",
       "</div>"
      ],
      "text/plain": [
       "                                        컬럼       VIF\n",
       "0      marital_status[T.Married-AF-spouse]  1.005244\n",
       "1     marital_status[T.Married-civ-spouse]  2.731938\n",
       "2  marital_status[T.Married-spouse-absent]  1.092457\n",
       "3          marital_status[T.Never-married]  2.364690\n",
       "4              marital_status[T.Separated]  1.195188\n",
       "5                marital_status[T.Widowed]  1.222216\n",
       "6                              sex[T.Male]  1.255760"
      ]
     },
     "execution_count": 56,
     "metadata": {},
     "output_type": "execute_result"
    }
   ],
   "source": [
    "pd.DataFrame({'컬럼': column, 'VIF': variance_inflation_factor(model.exog, i)} \n",
    "             for i, column in enumerate(model.exog_names)\n",
    "             if column != 'Intercept')  # 절편의 VIF는 구하지 않는다."
   ]
  },
  {
   "cell_type": "markdown",
   "id": "7f952fc8",
   "metadata": {},
   "source": [
    "결혼관계와 성별만 활용시 공선성이 떨어짐을 볼 수 있다.\n",
    "\n",
    "relationship은 제거 후 사용하자.\n",
    "\n",
    "absent와 widowed는 유의하지않는걸 볼 수 있다. (어떤 조치가 필요할까..)"
   ]
  },
  {
   "cell_type": "markdown",
   "id": "48faa8ae",
   "metadata": {},
   "source": [
    "# 수치형 데이터 분포 확인"
   ]
  },
  {
   "cell_type": "markdown",
   "id": "a3a7cc2f",
   "metadata": {},
   "source": [
    "### age"
   ]
  },
  {
   "cell_type": "code",
   "execution_count": 57,
   "id": "fad281ea",
   "metadata": {},
   "outputs": [
    {
     "data": {
      "text/plain": [
       "<AxesSubplot:xlabel='age', ylabel='Count'>"
      ]
     },
     "execution_count": 57,
     "metadata": {},
     "output_type": "execute_result"
    },
    {
     "data": {
      "image/png": "[encoded data removed]",
      "text/plain": [
       "<Figure size 432x288 with 1 Axes>"
      ]
     },
     "metadata": {},
     "output_type": "display_data"
    }
   ],
   "source": [
    "sns.histplot(train['age'],bins=10)"
   ]
  },
  {
   "cell_type": "markdown",
   "id": "bd99567a",
   "metadata": {},
   "source": [
    "나이 데이터는 좌로 편향됨을 볼 수 있다.\n",
    "\n",
    "변환이나 더미데이터화가 필요하다."
   ]
  },
  {
   "cell_type": "code",
   "execution_count": 58,
   "id": "f2333ca9",
   "metadata": {},
   "outputs": [
    {
     "data": {
      "text/plain": [
       "<AxesSubplot:xlabel='age', ylabel='Count'>"
      ]
     },
     "execution_count": 58,
     "metadata": {},
     "output_type": "execute_result"
    },
    {
     "data": {
      "image/png": "[encoded data removed]",
      "text/plain": [
       "<Figure size 432x288 with 1 Axes>"
      ]
     },
     "metadata": {},
     "output_type": "display_data"
    }
   ],
   "source": [
    "sns.histplot(np.log(train['age']),bins=10)\n"
   ]
  },
  {
   "cell_type": "markdown",
   "id": "94a541e0",
   "metadata": {},
   "source": [
    "log 변환시 완화됨을 볼 수 있다."
   ]
  },
  {
   "cell_type": "markdown",
   "id": "83821476",
   "metadata": {},
   "source": [
    "### age 이변량"
   ]
  },
  {
   "cell_type": "code",
   "execution_count": 59,
   "id": "41e6d442",
   "metadata": {},
   "outputs": [
    {
     "data": {
      "text/plain": [
       "<AxesSubplot:xlabel='age', ylabel='Count'>"
      ]
     },
     "execution_count": 59,
     "metadata": {},
     "output_type": "execute_result"
    },
    {
     "data": {
      "image/png": "[encoded data removed]",
      "text/plain": [
       "<Figure size 432x288 with 1 Axes>"
      ]
     },
     "metadata": {},
     "output_type": "display_data"
    }
   ],
   "source": [
    "sns.histplot(x='age',hue='target',bins=10,data=train)"
   ]
  },
  {
   "cell_type": "markdown",
   "id": "2cb391ec",
   "metadata": {},
   "source": [
    "30~50 사이에 가장 많음을 볼 수 있다."
   ]
  },
  {
   "cell_type": "code",
   "execution_count": 60,
   "id": "5e3f7017",
   "metadata": {},
   "outputs": [
    {
     "data": {
      "text/plain": [
       "<AxesSubplot:xlabel='age', ylabel='Count'>"
      ]
     },
     "execution_count": 60,
     "metadata": {},
     "output_type": "execute_result"
    },
    {
     "data": {
      "image/png": "[encoded data removed]",
      "text/plain": [
       "<Figure size 432x288 with 1 Axes>"
      ]
     },
     "metadata": {},
     "output_type": "display_data"
    }
   ],
   "source": [
    "sns.histplot(x=np.log(train['age']),hue=train['target'])"
   ]
  },
  {
   "cell_type": "code",
   "execution_count": 61,
   "id": "2e045e3e",
   "metadata": {},
   "outputs": [
    {
     "name": "stdout",
     "output_type": "stream",
     "text": [
      "25.790339917193062\n",
      "60.34028759736195\n"
     ]
    }
   ],
   "source": [
    "print(np.exp(3.25))\n",
    "print(np.exp(4.1))"
   ]
  },
  {
   "cell_type": "markdown",
   "id": "f66d5081",
   "metadata": {},
   "source": [
    "26세에서 60세 기준으로 더미변수를 생성해주자.\n",
    "\n",
    "그리고 log변환한 데이터를 사용"
   ]
  },
  {
   "cell_type": "markdown",
   "id": "75710876",
   "metadata": {},
   "source": [
    "### capital.gain"
   ]
  },
  {
   "cell_type": "code",
   "execution_count": 62,
   "id": "5a3267da",
   "metadata": {},
   "outputs": [
    {
     "data": {
      "text/plain": [
       "<AxesSubplot:xlabel='capital_gain', ylabel='Count'>"
      ]
     },
     "execution_count": 62,
     "metadata": {},
     "output_type": "execute_result"
    },
    {
     "data": {
      "image/png": "[encoded data removed]",
      "text/plain": [
       "<Figure size 432x288 with 1 Axes>"
      ]
     },
     "metadata": {},
     "output_type": "display_data"
    }
   ],
   "source": [
    "sns.histplot(train['capital_gain'])"
   ]
  },
  {
   "cell_type": "code",
   "execution_count": 63,
   "id": "1a2a9218",
   "metadata": {},
   "outputs": [
    {
     "data": {
      "text/plain": [
       "<AxesSubplot:xlabel='capital_gain', ylabel='Count'>"
      ]
     },
     "execution_count": 63,
     "metadata": {},
     "output_type": "execute_result"
    },
    {
     "data": {
      "image/png": "[encoded data removed]",
      "text/plain": [
       "<Figure size 432x288 with 1 Axes>"
      ]
     },
     "metadata": {},
     "output_type": "display_data"
    }
   ],
   "source": [
    "sns.histplot(x='capital_gain',hue='target',data=train)"
   ]
  },
  {
   "cell_type": "markdown",
   "id": "3c9b7b44",
   "metadata": {},
   "source": [
    "어느 정도 수준 이상이면, 상당히 유의해짐을 볼 수 있다."
   ]
  },
  {
   "cell_type": "code",
   "execution_count": 64,
   "id": "bde180c9",
   "metadata": {},
   "outputs": [
    {
     "data": {
      "text/plain": [
       "KstestResult(statistic=0.1523455377574371, pvalue=1.4104971987882321e-177)"
      ]
     },
     "execution_count": 64,
     "metadata": {},
     "output_type": "execute_result"
    }
   ],
   "source": [
    "kstest(train['capital_gain'], train['target'])\n"
   ]
  },
  {
   "cell_type": "markdown",
   "id": "11e0d025",
   "metadata": {},
   "source": [
    "검정 결과도 유의하다"
   ]
  },
  {
   "cell_type": "markdown",
   "id": "54b1ca86",
   "metadata": {},
   "source": [
    "### capital.loss"
   ]
  },
  {
   "cell_type": "code",
   "execution_count": 65,
   "id": "955f70dd",
   "metadata": {},
   "outputs": [
    {
     "data": {
      "text/plain": [
       "<AxesSubplot:xlabel='capital_loss', ylabel='Count'>"
      ]
     },
     "execution_count": 65,
     "metadata": {},
     "output_type": "execute_result"
    },
    {
     "data": {
      "image/png": "[encoded data removed]",
      "text/plain": [
       "<Figure size 432x288 with 1 Axes>"
      ]
     },
     "metadata": {},
     "output_type": "display_data"
    }
   ],
   "source": [
    "sns.histplot(x='capital_loss',hue='target',data=train)"
   ]
  },
  {
   "cell_type": "code",
   "execution_count": 66,
   "id": "cc678ae5",
   "metadata": {},
   "outputs": [
    {
     "data": {
      "text/plain": [
       "KstestResult(statistic=0.19021739130434778, pvalue=2.092585207225024e-277)"
      ]
     },
     "execution_count": 66,
     "metadata": {},
     "output_type": "execute_result"
    }
   ],
   "source": [
    "kstest(train['capital_loss'], train['target'])\n",
    "#loss도 마찬가지로 유의하다"
   ]
  },
  {
   "cell_type": "markdown",
   "id": "3d500c1f",
   "metadata": {},
   "source": [
    "# 변수 가공\n",
    "\n",
    "앞에서 찾은 인사이트들로, 변수 가공을 수행\n"
   ]
  },
  {
   "cell_type": "code",
   "execution_count": 67,
   "id": "f2120611",
   "metadata": {},
   "outputs": [
    {
     "data": {
      "text/html": [
       "<div>\n",
       "<style scoped>\n",
       "    .dataframe tbody tr th:only-of-type {\n",
       "        vertical-align: middle;\n",
       "    }\n",
       "\n",
       "    .dataframe tbody tr th {\n",
       "        vertical-align: top;\n",
       "    }\n",
       "\n",
       "    .dataframe thead th {\n",
       "        text-align: right;\n",
       "    }\n",
       "</style>\n",
       "<table border=\"1\" class=\"dataframe\">\n",
       "  <thead>\n",
       "    <tr style=\"text-align: right;\">\n",
       "      <th></th>\n",
       "      <th>id</th>\n",
       "      <th>age</th>\n",
       "      <th>workclass</th>\n",
       "      <th>fnlwgt</th>\n",
       "      <th>education</th>\n",
       "      <th>education_num</th>\n",
       "      <th>marital_status</th>\n",
       "      <th>occupation</th>\n",
       "      <th>relationship</th>\n",
       "      <th>race</th>\n",
       "      <th>sex</th>\n",
       "      <th>capital_gain</th>\n",
       "      <th>capital_loss</th>\n",
       "      <th>hours_per_week</th>\n",
       "      <th>native_country</th>\n",
       "      <th>target</th>\n",
       "    </tr>\n",
       "  </thead>\n",
       "  <tbody>\n",
       "    <tr>\n",
       "      <th>0</th>\n",
       "      <td>0</td>\n",
       "      <td>32</td>\n",
       "      <td>Private</td>\n",
       "      <td>309513</td>\n",
       "      <td>Assoc-acdm</td>\n",
       "      <td>12</td>\n",
       "      <td>Married-civ-spouse</td>\n",
       "      <td>Craft-repair</td>\n",
       "      <td>Husband</td>\n",
       "      <td>White</td>\n",
       "      <td>Male</td>\n",
       "      <td>0</td>\n",
       "      <td>0</td>\n",
       "      <td>40</td>\n",
       "      <td>United-States</td>\n",
       "      <td>0</td>\n",
       "    </tr>\n",
       "    <tr>\n",
       "      <th>1</th>\n",
       "      <td>1</td>\n",
       "      <td>33</td>\n",
       "      <td>Private</td>\n",
       "      <td>205469</td>\n",
       "      <td>Some-college</td>\n",
       "      <td>10</td>\n",
       "      <td>Married-civ-spouse</td>\n",
       "      <td>Exec-managerial</td>\n",
       "      <td>Husband</td>\n",
       "      <td>White</td>\n",
       "      <td>Male</td>\n",
       "      <td>0</td>\n",
       "      <td>0</td>\n",
       "      <td>40</td>\n",
       "      <td>United-States</td>\n",
       "      <td>1</td>\n",
       "    </tr>\n",
       "    <tr>\n",
       "      <th>2</th>\n",
       "      <td>2</td>\n",
       "      <td>46</td>\n",
       "      <td>Private</td>\n",
       "      <td>149949</td>\n",
       "      <td>Some-college</td>\n",
       "      <td>10</td>\n",
       "      <td>Married-civ-spouse</td>\n",
       "      <td>Craft-repair</td>\n",
       "      <td>Husband</td>\n",
       "      <td>White</td>\n",
       "      <td>Male</td>\n",
       "      <td>0</td>\n",
       "      <td>0</td>\n",
       "      <td>40</td>\n",
       "      <td>United-States</td>\n",
       "      <td>0</td>\n",
       "    </tr>\n",
       "    <tr>\n",
       "      <th>3</th>\n",
       "      <td>3</td>\n",
       "      <td>23</td>\n",
       "      <td>Private</td>\n",
       "      <td>193090</td>\n",
       "      <td>Bachelors</td>\n",
       "      <td>13</td>\n",
       "      <td>Never-married</td>\n",
       "      <td>Adm-clerical</td>\n",
       "      <td>Own-child</td>\n",
       "      <td>White</td>\n",
       "      <td>Female</td>\n",
       "      <td>0</td>\n",
       "      <td>0</td>\n",
       "      <td>30</td>\n",
       "      <td>United-States</td>\n",
       "      <td>0</td>\n",
       "    </tr>\n",
       "    <tr>\n",
       "      <th>4</th>\n",
       "      <td>4</td>\n",
       "      <td>55</td>\n",
       "      <td>Private</td>\n",
       "      <td>60193</td>\n",
       "      <td>HS-grad</td>\n",
       "      <td>9</td>\n",
       "      <td>Divorced</td>\n",
       "      <td>Adm-clerical</td>\n",
       "      <td>Not-in-family</td>\n",
       "      <td>White</td>\n",
       "      <td>Female</td>\n",
       "      <td>0</td>\n",
       "      <td>0</td>\n",
       "      <td>40</td>\n",
       "      <td>United-States</td>\n",
       "      <td>0</td>\n",
       "    </tr>\n",
       "    <tr>\n",
       "      <th>...</th>\n",
       "      <td>...</td>\n",
       "      <td>...</td>\n",
       "      <td>...</td>\n",
       "      <td>...</td>\n",
       "      <td>...</td>\n",
       "      <td>...</td>\n",
       "      <td>...</td>\n",
       "      <td>...</td>\n",
       "      <td>...</td>\n",
       "      <td>...</td>\n",
       "      <td>...</td>\n",
       "      <td>...</td>\n",
       "      <td>...</td>\n",
       "      <td>...</td>\n",
       "      <td>...</td>\n",
       "      <td>...</td>\n",
       "    </tr>\n",
       "    <tr>\n",
       "      <th>17475</th>\n",
       "      <td>17475</td>\n",
       "      <td>35</td>\n",
       "      <td>NaN</td>\n",
       "      <td>320084</td>\n",
       "      <td>Bachelors</td>\n",
       "      <td>13</td>\n",
       "      <td>Married-civ-spouse</td>\n",
       "      <td>NaN</td>\n",
       "      <td>Wife</td>\n",
       "      <td>White</td>\n",
       "      <td>Female</td>\n",
       "      <td>0</td>\n",
       "      <td>0</td>\n",
       "      <td>55</td>\n",
       "      <td>United-States</td>\n",
       "      <td>1</td>\n",
       "    </tr>\n",
       "    <tr>\n",
       "      <th>17476</th>\n",
       "      <td>17476</td>\n",
       "      <td>30</td>\n",
       "      <td>NaN</td>\n",
       "      <td>33811</td>\n",
       "      <td>Bachelors</td>\n",
       "      <td>13</td>\n",
       "      <td>Never-married</td>\n",
       "      <td>NaN</td>\n",
       "      <td>Not-in-family</td>\n",
       "      <td>Asian-Pac-Islander</td>\n",
       "      <td>Female</td>\n",
       "      <td>0</td>\n",
       "      <td>0</td>\n",
       "      <td>99</td>\n",
       "      <td>United-States</td>\n",
       "      <td>0</td>\n",
       "    </tr>\n",
       "    <tr>\n",
       "      <th>17477</th>\n",
       "      <td>17477</td>\n",
       "      <td>71</td>\n",
       "      <td>NaN</td>\n",
       "      <td>287372</td>\n",
       "      <td>Doctorate</td>\n",
       "      <td>16</td>\n",
       "      <td>Married-civ-spouse</td>\n",
       "      <td>NaN</td>\n",
       "      <td>Husband</td>\n",
       "      <td>White</td>\n",
       "      <td>Male</td>\n",
       "      <td>0</td>\n",
       "      <td>0</td>\n",
       "      <td>10</td>\n",
       "      <td>United-States</td>\n",
       "      <td>1</td>\n",
       "    </tr>\n",
       "    <tr>\n",
       "      <th>17478</th>\n",
       "      <td>17478</td>\n",
       "      <td>41</td>\n",
       "      <td>NaN</td>\n",
       "      <td>202822</td>\n",
       "      <td>HS-grad</td>\n",
       "      <td>9</td>\n",
       "      <td>Separated</td>\n",
       "      <td>NaN</td>\n",
       "      <td>Not-in-family</td>\n",
       "      <td>Black</td>\n",
       "      <td>Female</td>\n",
       "      <td>0</td>\n",
       "      <td>0</td>\n",
       "      <td>32</td>\n",
       "      <td>United-States</td>\n",
       "      <td>0</td>\n",
       "    </tr>\n",
       "    <tr>\n",
       "      <th>17479</th>\n",
       "      <td>17479</td>\n",
       "      <td>72</td>\n",
       "      <td>NaN</td>\n",
       "      <td>129912</td>\n",
       "      <td>HS-grad</td>\n",
       "      <td>9</td>\n",
       "      <td>Married-civ-spouse</td>\n",
       "      <td>NaN</td>\n",
       "      <td>Husband</td>\n",
       "      <td>White</td>\n",
       "      <td>Male</td>\n",
       "      <td>0</td>\n",
       "      <td>0</td>\n",
       "      <td>25</td>\n",
       "      <td>United-States</td>\n",
       "      <td>0</td>\n",
       "    </tr>\n",
       "  </tbody>\n",
       "</table>\n",
       "<p>17480 rows × 16 columns</p>\n",
       "</div>"
      ],
      "text/plain": [
       "          id  age workclass  fnlwgt     education  education_num  \\\n",
       "0          0   32   Private  309513    Assoc-acdm             12   \n",
       "1          1   33   Private  205469  Some-college             10   \n",
       "2          2   46   Private  149949  Some-college             10   \n",
       "3          3   23   Private  193090     Bachelors             13   \n",
       "4          4   55   Private   60193       HS-grad              9   \n",
       "...      ...  ...       ...     ...           ...            ...   \n",
       "17475  17475   35       NaN  320084     Bachelors             13   \n",
       "17476  17476   30       NaN   33811     Bachelors             13   \n",
       "17477  17477   71       NaN  287372     Doctorate             16   \n",
       "17478  17478   41       NaN  202822       HS-grad              9   \n",
       "17479  17479   72       NaN  129912       HS-grad              9   \n",
       "\n",
       "           marital_status       occupation   relationship                race  \\\n",
       "0      Married-civ-spouse     Craft-repair        Husband               White   \n",
       "1      Married-civ-spouse  Exec-managerial        Husband               White   \n",
       "2      Married-civ-spouse     Craft-repair        Husband               White   \n",
       "3           Never-married     Adm-clerical      Own-child               White   \n",
       "4                Divorced     Adm-clerical  Not-in-family               White   \n",
       "...                   ...              ...            ...                 ...   \n",
       "17475  Married-civ-spouse              NaN           Wife               White   \n",
       "17476       Never-married              NaN  Not-in-family  Asian-Pac-Islander   \n",
       "17477  Married-civ-spouse              NaN        Husband               White   \n",
       "17478           Separated              NaN  Not-in-family               Black   \n",
       "17479  Married-civ-spouse              NaN        Husband               White   \n",
       "\n",
       "          sex  capital_gain  capital_loss  hours_per_week native_country  \\\n",
       "0        Male             0             0              40  United-States   \n",
       "1        Male             0             0              40  United-States   \n",
       "2        Male             0             0              40  United-States   \n",
       "3      Female             0             0              30  United-States   \n",
       "4      Female             0             0              40  United-States   \n",
       "...       ...           ...           ...             ...            ...   \n",
       "17475  Female             0             0              55  United-States   \n",
       "17476  Female             0             0              99  United-States   \n",
       "17477    Male             0             0              10  United-States   \n",
       "17478  Female             0             0              32  United-States   \n",
       "17479    Male             0             0              25  United-States   \n",
       "\n",
       "       target  \n",
       "0           0  \n",
       "1           1  \n",
       "2           0  \n",
       "3           0  \n",
       "4           0  \n",
       "...       ...  \n",
       "17475       1  \n",
       "17476       0  \n",
       "17477       1  \n",
       "17478       0  \n",
       "17479       0  \n",
       "\n",
       "[17480 rows x 16 columns]"
      ]
     },
     "execution_count": 67,
     "metadata": {},
     "output_type": "execute_result"
    }
   ],
   "source": [
    "train"
   ]
  },
  {
   "cell_type": "code",
   "execution_count": 68,
   "id": "c23c039c",
   "metadata": {},
   "outputs": [],
   "source": [
    "#NA 처리\n",
    "\n",
    "#국가 na 처리\n",
    "train_modified=train[train['native_country'].isna()!=True].copy()\n",
    "test_modified=test[test['native_country'].isna()!=True].copy()"
   ]
  },
  {
   "cell_type": "code",
   "execution_count": 69,
   "id": "f854070f",
   "metadata": {},
   "outputs": [],
   "source": [
    "#workclass & occupation na 처리\n",
    "\n",
    "type1= train_modified['workclass'].isna()\n",
    "type2= train_modified['occupation'].isna()\n",
    "\n",
    "type3= train_modified['capital_gain']<50000\n",
    "type4=train_modified['target']==1\n",
    "\n",
    "train_modified.loc[type1&type2,'workclass']=train_modified.loc[type1&type2,'workclass'].replace(np.nan,'no-working')\n",
    "train_modified.loc[type1&type2,'occupation']=train_modified.loc[type1&type2,'occupation'].replace(np.nan,'baeksu')\n",
    "train_modified.drop(train_modified[type1&type2&type3&type4].index , axis=0,inplace=True)\n",
    "# two_na 지만, 소득이 상위권중 capital_gain도 낮은 경우는 제거.\n",
    "\n",
    "\n",
    "train_modified=train_modified.dropna()#남은 na제거"
   ]
  },
  {
   "cell_type": "code",
   "execution_count": 70,
   "id": "ede3b9af",
   "metadata": {},
   "outputs": [],
   "source": [
    "#education grouping\n",
    "\n",
    "\n",
    "edu_group1=[16,15]\n",
    "edu_group2=[15,14,13,11,12,10,9]\n",
    "edu_group3=[4,6,8,5,3,7,2,1]\n",
    "\n",
    "train_modified['education1']=0\n",
    "train_modified['education2']=0\n",
    "train_modified['education3']=0\n",
    "\n",
    "test_modified['education1']=0\n",
    "test_modified['education2']=0\n",
    "test_modified['education3']=0\n",
    "\n",
    "\n",
    "train_modified.loc[train_modified['education_num'].isin(edu_group1),'education1'] = 1\n",
    "train_modified.loc[train_modified['education_num'].isin(edu_group2),'education2'] = 1\n",
    "train_modified.loc[train_modified['education_num'].isin(edu_group3),'education3'] = 1\n",
    "\n",
    "#education num 자체는 순위형 데이터라 삭제안함.\n",
    "test_modified.loc[test_modified['education_num'].isin(edu_group1),'education1'] = 1\n",
    "test_modified.loc[test_modified['education_num'].isin(edu_group2),'education2'] = 1\n",
    "test_modified.loc[test_modified['education_num'].isin(edu_group3),'education3'] = 1\n"
   ]
  },
  {
   "cell_type": "code",
   "execution_count": 71,
   "id": "5cefa26c",
   "metadata": {},
   "outputs": [],
   "source": [
    "#education 제거\n",
    "train_modified.drop('education',axis=1,inplace=True)\n",
    "test_modified.drop('education',axis=1,inplace=True)\n",
    "\n",
    "#relationship drop\n",
    "train_modified.drop('relationship',axis=1,inplace=True)\n",
    "test_modified.drop('relationship',axis=1,inplace=True)"
   ]
  },
  {
   "cell_type": "code",
   "execution_count": 72,
   "id": "54992cd9",
   "metadata": {},
   "outputs": [
    {
     "name": "stdout",
     "output_type": "stream",
     "text": [
      "['Iran']\n",
      "['Greece', 'Canada', 'India', 'England', 'Yugoslavia', 'Japan']\n",
      "['United-States', 'Poland', 'Ireland', 'El-Salvador', 'Philippines', 'Italy', 'South', 'Cuba', 'Laos', 'Hong', 'Germany', 'Ecuador', 'France', 'Taiwan', 'China', 'Honduras', 'Peru', 'Hungary', 'Cambodia', 'Trinadad&Tobago', 'Thailand']\n",
      "['Mexico', 'Guatemala', 'Dominican-Republic', 'Portugal', 'Jamaica', 'Columbia', 'Vietnam', 'Haiti', 'Puerto-Rico', 'Outlying-US(Guam-USVI-etc)', 'Nicaragua', 'Scotland', 'Holand-Netherlands']\n"
     ]
    }
   ],
   "source": [
    "#국가 grouping\n",
    "country_group1=[]\n",
    "country_group2=[]\n",
    "country_group3=[]\n",
    "country_group4=[]\n",
    "\n",
    "for country in train_modified['native_country'].unique():\n",
    "    country_data=train_modified[train_modified['native_country']==country]['target']\n",
    "    probs=sum(country_data)/country_data.count()\n",
    "    if probs >=0.5:\n",
    "        country_group1.append(country)\n",
    "    elif probs < 0.5 and probs >=0.3:\n",
    "        country_group2.append(country)\n",
    "    elif probs < 0.3 and probs >=0.1:\n",
    "        country_group3.append(country)\n",
    "    else:\n",
    "        country_group4.append(country)\n",
    "    #print(country,probs)\n",
    "\n",
    "print(country_group1)\n",
    "print(country_group2)\n",
    "print(country_group3)\n",
    "print(country_group4)\n",
    "\n",
    "train_modified['country_group1']=0\n",
    "train_modified['country_group2']=0\n",
    "train_modified['country_group3']=0\n",
    "train_modified['country_group4']=0\n",
    "\n",
    "\n",
    "test_modified['country_group1']=0\n",
    "test_modified['country_group2']=0\n",
    "test_modified['country_group3']=0\n",
    "test_modified['country_group4']=0\n",
    "\n",
    "\n",
    "train_modified.loc[train_modified['native_country'].isin(country_group1),'country_group1'] = 1\n",
    "train_modified.loc[train_modified['native_country'].isin(country_group2),'country_group2'] = 1\n",
    "train_modified.loc[train_modified['native_country'].isin(country_group3),'country_group3'] = 1\n",
    "train_modified.loc[train_modified['native_country'].isin(country_group4),'country_group4'] = 1\n",
    "\n",
    "test_modified.loc[test_modified['native_country'].isin(country_group1),'country_group1'] = 1\n",
    "test_modified.loc[test_modified['native_country'].isin(country_group2),'country_group2'] = 1\n",
    "test_modified.loc[test_modified['native_country'].isin(country_group3),'country_group3'] = 1\n",
    "test_modified.loc[test_modified['native_country'].isin(country_group4),'country_group4'] = 1\n",
    "\n",
    "train_modified.drop('native_country',axis=1,inplace=True)\n",
    "test_modified.drop('native_country',axis=1,inplace=True)\n"
   ]
  },
  {
   "cell_type": "code",
   "execution_count": 73,
   "id": "f299a926",
   "metadata": {},
   "outputs": [],
   "source": [
    "#age 가공\n",
    "train_modified['age']=np.log(train_modified['age'])# log로 \n",
    "train_modified['age_group']=0\n",
    "\n",
    "test_modified['age']=np.log(test_modified['age'])# log로 \n",
    "test_modified['age_group']=0\n",
    "\n",
    "\n",
    "\n",
    "train_modified.loc[(train_modified['age']>3.25)& (train_modified['age']<4.1),'age_group']=1\n",
    "test_modified.loc[(test_modified['age']>3.25)& (test_modified['age']<4.1),'age_group']=1\n",
    "\n",
    "\n"
   ]
  },
  {
   "cell_type": "code",
   "execution_count": 74,
   "id": "ae99b40d",
   "metadata": {},
   "outputs": [],
   "source": [
    "#catboost용 더미변수를 더 생성하지않고, 출력.\n",
    "train_modified.drop('id',axis=1,inplace=True)\n",
    "test_modified.drop('id',axis=1,inplace=True)\n",
    "\n",
    "\n",
    "train_modified.to_csv('./data/train_cat_modified.csv',index=False)\n",
    "test_modified.to_csv('./data/test_cat_modified.csv',index=False)\n",
    "\n"
   ]
  },
  {
   "cell_type": "code",
   "execution_count": 75,
   "id": "2bbc301c",
   "metadata": {},
   "outputs": [],
   "source": [
    "#나머지 더미변수 만들기\n",
    "\n",
    "train_modified=pd.concat([train_modified,pd.get_dummies(train_modified['marital_status'], drop_first=True)],axis=1)\n",
    "train_modified=pd.concat([train_modified,pd.get_dummies(train_modified['race'], drop_first=True)],axis=1)\n",
    "train_modified=pd.concat([train_modified,pd.get_dummies(train_modified['workclass'], drop_first=True)],axis=1)\n",
    "train_modified=pd.concat([train_modified,pd.get_dummies(train_modified['occupation'], drop_first=True)],axis=1)\n",
    "train_modified=pd.concat([train_modified,pd.get_dummies(train_modified['sex'], drop_first=True)],axis=1)\n",
    "\n",
    "test_modified=pd.concat([test_modified,pd.get_dummies(test_modified['marital_status'], drop_first=True)],axis=1)\n",
    "test_modified=pd.concat([test_modified,pd.get_dummies(test_modified['race'], drop_first=True)],axis=1)\n",
    "test_modified=pd.concat([test_modified,pd.get_dummies(test_modified['workclass'], drop_first=True)],axis=1)\n",
    "test_modified=pd.concat([test_modified,pd.get_dummies(test_modified['occupation'], drop_first=True)],axis=1)\n",
    "test_modified=pd.concat([test_modified,pd.get_dummies(test_modified['sex'], drop_first=True)],axis=1)\n",
    "\n",
    "test_modified['no-working']=0\n",
    "test_modified['baeksu']=0\n",
    "\n",
    "\n",
    "\n",
    "train_modified.drop(['marital_status','race','workclass','occupation','sex'],axis=1,inplace=True)\n",
    "test_modified.drop(['marital_status','race','workclass','occupation','sex'],axis=1,inplace=True)\n",
    "\n"
   ]
  },
  {
   "cell_type": "code",
   "execution_count": 77,
   "id": "fc31f197",
   "metadata": {},
   "outputs": [
    {
     "data": {
      "text/html": [
       "<div>\n",
       "<style scoped>\n",
       "    .dataframe tbody tr th:only-of-type {\n",
       "        vertical-align: middle;\n",
       "    }\n",
       "\n",
       "    .dataframe tbody tr th {\n",
       "        vertical-align: top;\n",
       "    }\n",
       "\n",
       "    .dataframe thead th {\n",
       "        text-align: right;\n",
       "    }\n",
       "</style>\n",
       "<table border=\"1\" class=\"dataframe\">\n",
       "  <thead>\n",
       "    <tr style=\"text-align: right;\">\n",
       "      <th></th>\n",
       "      <th>age</th>\n",
       "      <th>fnlwgt</th>\n",
       "      <th>education_num</th>\n",
       "      <th>capital_gain</th>\n",
       "      <th>capital_loss</th>\n",
       "      <th>hours_per_week</th>\n",
       "      <th>target</th>\n",
       "      <th>education1</th>\n",
       "      <th>education2</th>\n",
       "      <th>education3</th>\n",
       "      <th>...</th>\n",
       "      <th>Machine-op-inspct</th>\n",
       "      <th>Other-service</th>\n",
       "      <th>Priv-house-serv</th>\n",
       "      <th>Prof-specialty</th>\n",
       "      <th>Protective-serv</th>\n",
       "      <th>Sales</th>\n",
       "      <th>Tech-support</th>\n",
       "      <th>Transport-moving</th>\n",
       "      <th>baeksu</th>\n",
       "      <th>Male</th>\n",
       "    </tr>\n",
       "  </thead>\n",
       "  <tbody>\n",
       "    <tr>\n",
       "      <th>0</th>\n",
       "      <td>3.465736</td>\n",
       "      <td>309513</td>\n",
       "      <td>12</td>\n",
       "      <td>0</td>\n",
       "      <td>0</td>\n",
       "      <td>40</td>\n",
       "      <td>0</td>\n",
       "      <td>0</td>\n",
       "      <td>1</td>\n",
       "      <td>0</td>\n",
       "      <td>...</td>\n",
       "      <td>0</td>\n",
       "      <td>0</td>\n",
       "      <td>0</td>\n",
       "      <td>0</td>\n",
       "      <td>0</td>\n",
       "      <td>0</td>\n",
       "      <td>0</td>\n",
       "      <td>0</td>\n",
       "      <td>0</td>\n",
       "      <td>1</td>\n",
       "    </tr>\n",
       "    <tr>\n",
       "      <th>1</th>\n",
       "      <td>3.496508</td>\n",
       "      <td>205469</td>\n",
       "      <td>10</td>\n",
       "      <td>0</td>\n",
       "      <td>0</td>\n",
       "      <td>40</td>\n",
       "      <td>1</td>\n",
       "      <td>0</td>\n",
       "      <td>1</td>\n",
       "      <td>0</td>\n",
       "      <td>...</td>\n",
       "      <td>0</td>\n",
       "      <td>0</td>\n",
       "      <td>0</td>\n",
       "      <td>0</td>\n",
       "      <td>0</td>\n",
       "      <td>0</td>\n",
       "      <td>0</td>\n",
       "      <td>0</td>\n",
       "      <td>0</td>\n",
       "      <td>1</td>\n",
       "    </tr>\n",
       "    <tr>\n",
       "      <th>2</th>\n",
       "      <td>3.828641</td>\n",
       "      <td>149949</td>\n",
       "      <td>10</td>\n",
       "      <td>0</td>\n",
       "      <td>0</td>\n",
       "      <td>40</td>\n",
       "      <td>0</td>\n",
       "      <td>0</td>\n",
       "      <td>1</td>\n",
       "      <td>0</td>\n",
       "      <td>...</td>\n",
       "      <td>0</td>\n",
       "      <td>0</td>\n",
       "      <td>0</td>\n",
       "      <td>0</td>\n",
       "      <td>0</td>\n",
       "      <td>0</td>\n",
       "      <td>0</td>\n",
       "      <td>0</td>\n",
       "      <td>0</td>\n",
       "      <td>1</td>\n",
       "    </tr>\n",
       "    <tr>\n",
       "      <th>3</th>\n",
       "      <td>3.135494</td>\n",
       "      <td>193090</td>\n",
       "      <td>13</td>\n",
       "      <td>0</td>\n",
       "      <td>0</td>\n",
       "      <td>30</td>\n",
       "      <td>0</td>\n",
       "      <td>0</td>\n",
       "      <td>1</td>\n",
       "      <td>0</td>\n",
       "      <td>...</td>\n",
       "      <td>0</td>\n",
       "      <td>0</td>\n",
       "      <td>0</td>\n",
       "      <td>0</td>\n",
       "      <td>0</td>\n",
       "      <td>0</td>\n",
       "      <td>0</td>\n",
       "      <td>0</td>\n",
       "      <td>0</td>\n",
       "      <td>0</td>\n",
       "    </tr>\n",
       "    <tr>\n",
       "      <th>4</th>\n",
       "      <td>4.007333</td>\n",
       "      <td>60193</td>\n",
       "      <td>9</td>\n",
       "      <td>0</td>\n",
       "      <td>0</td>\n",
       "      <td>40</td>\n",
       "      <td>0</td>\n",
       "      <td>0</td>\n",
       "      <td>1</td>\n",
       "      <td>0</td>\n",
       "      <td>...</td>\n",
       "      <td>0</td>\n",
       "      <td>0</td>\n",
       "      <td>0</td>\n",
       "      <td>0</td>\n",
       "      <td>0</td>\n",
       "      <td>0</td>\n",
       "      <td>0</td>\n",
       "      <td>0</td>\n",
       "      <td>0</td>\n",
       "      <td>0</td>\n",
       "    </tr>\n",
       "  </tbody>\n",
       "</table>\n",
       "<p>5 rows × 47 columns</p>\n",
       "</div>"
      ],
      "text/plain": [
       "        age  fnlwgt  education_num  capital_gain  capital_loss  \\\n",
       "0  3.465736  309513             12             0             0   \n",
       "1  3.496508  205469             10             0             0   \n",
       "2  3.828641  149949             10             0             0   \n",
       "3  3.135494  193090             13             0             0   \n",
       "4  4.007333   60193              9             0             0   \n",
       "\n",
       "   hours_per_week  target  education1  education2  education3  ...  \\\n",
       "0              40       0           0           1           0  ...   \n",
       "1              40       1           0           1           0  ...   \n",
       "2              40       0           0           1           0  ...   \n",
       "3              30       0           0           1           0  ...   \n",
       "4              40       0           0           1           0  ...   \n",
       "\n",
       "   Machine-op-inspct  Other-service  Priv-house-serv  Prof-specialty  \\\n",
       "0                  0              0                0               0   \n",
       "1                  0              0                0               0   \n",
       "2                  0              0                0               0   \n",
       "3                  0              0                0               0   \n",
       "4                  0              0                0               0   \n",
       "\n",
       "   Protective-serv  Sales  Tech-support  Transport-moving  baeksu  Male  \n",
       "0                0      0             0                 0       0     1  \n",
       "1                0      0             0                 0       0     1  \n",
       "2                0      0             0                 0       0     1  \n",
       "3                0      0             0                 0       0     0  \n",
       "4                0      0             0                 0       0     0  \n",
       "\n",
       "[5 rows x 47 columns]"
      ]
     },
     "execution_count": 77,
     "metadata": {},
     "output_type": "execute_result"
    }
   ],
   "source": [
    "train_modified.head()"
   ]
  },
  {
   "cell_type": "code",
   "execution_count": 78,
   "id": "6b8dc361",
   "metadata": {},
   "outputs": [
    {
     "data": {
      "text/html": [
       "<div>\n",
       "<style scoped>\n",
       "    .dataframe tbody tr th:only-of-type {\n",
       "        vertical-align: middle;\n",
       "    }\n",
       "\n",
       "    .dataframe tbody tr th {\n",
       "        vertical-align: top;\n",
       "    }\n",
       "\n",
       "    .dataframe thead th {\n",
       "        text-align: right;\n",
       "    }\n",
       "</style>\n",
       "<table border=\"1\" class=\"dataframe\">\n",
       "  <thead>\n",
       "    <tr style=\"text-align: right;\">\n",
       "      <th></th>\n",
       "      <th>age</th>\n",
       "      <th>fnlwgt</th>\n",
       "      <th>education_num</th>\n",
       "      <th>capital_gain</th>\n",
       "      <th>capital_loss</th>\n",
       "      <th>hours_per_week</th>\n",
       "      <th>education1</th>\n",
       "      <th>education2</th>\n",
       "      <th>education3</th>\n",
       "      <th>country_group1</th>\n",
       "      <th>...</th>\n",
       "      <th>Other-service</th>\n",
       "      <th>Priv-house-serv</th>\n",
       "      <th>Prof-specialty</th>\n",
       "      <th>Protective-serv</th>\n",
       "      <th>Sales</th>\n",
       "      <th>Tech-support</th>\n",
       "      <th>Transport-moving</th>\n",
       "      <th>Male</th>\n",
       "      <th>no-working</th>\n",
       "      <th>baeksu</th>\n",
       "    </tr>\n",
       "  </thead>\n",
       "  <tbody>\n",
       "    <tr>\n",
       "      <th>0</th>\n",
       "      <td>3.850148</td>\n",
       "      <td>304133</td>\n",
       "      <td>10</td>\n",
       "      <td>0</td>\n",
       "      <td>0</td>\n",
       "      <td>45</td>\n",
       "      <td>0</td>\n",
       "      <td>1</td>\n",
       "      <td>0</td>\n",
       "      <td>0</td>\n",
       "      <td>...</td>\n",
       "      <td>0</td>\n",
       "      <td>0</td>\n",
       "      <td>0</td>\n",
       "      <td>0</td>\n",
       "      <td>0</td>\n",
       "      <td>0</td>\n",
       "      <td>0</td>\n",
       "      <td>1</td>\n",
       "      <td>0</td>\n",
       "      <td>0</td>\n",
       "    </tr>\n",
       "    <tr>\n",
       "      <th>1</th>\n",
       "      <td>3.526361</td>\n",
       "      <td>154227</td>\n",
       "      <td>10</td>\n",
       "      <td>0</td>\n",
       "      <td>0</td>\n",
       "      <td>75</td>\n",
       "      <td>0</td>\n",
       "      <td>1</td>\n",
       "      <td>0</td>\n",
       "      <td>0</td>\n",
       "      <td>...</td>\n",
       "      <td>0</td>\n",
       "      <td>0</td>\n",
       "      <td>0</td>\n",
       "      <td>0</td>\n",
       "      <td>1</td>\n",
       "      <td>0</td>\n",
       "      <td>0</td>\n",
       "      <td>1</td>\n",
       "      <td>0</td>\n",
       "      <td>0</td>\n",
       "    </tr>\n",
       "    <tr>\n",
       "      <th>2</th>\n",
       "      <td>3.433987</td>\n",
       "      <td>158291</td>\n",
       "      <td>13</td>\n",
       "      <td>8614</td>\n",
       "      <td>0</td>\n",
       "      <td>40</td>\n",
       "      <td>0</td>\n",
       "      <td>1</td>\n",
       "      <td>0</td>\n",
       "      <td>0</td>\n",
       "      <td>...</td>\n",
       "      <td>0</td>\n",
       "      <td>0</td>\n",
       "      <td>0</td>\n",
       "      <td>0</td>\n",
       "      <td>0</td>\n",
       "      <td>0</td>\n",
       "      <td>0</td>\n",
       "      <td>1</td>\n",
       "      <td>0</td>\n",
       "      <td>0</td>\n",
       "    </tr>\n",
       "    <tr>\n",
       "      <th>3</th>\n",
       "      <td>3.332205</td>\n",
       "      <td>183155</td>\n",
       "      <td>13</td>\n",
       "      <td>0</td>\n",
       "      <td>0</td>\n",
       "      <td>55</td>\n",
       "      <td>0</td>\n",
       "      <td>1</td>\n",
       "      <td>0</td>\n",
       "      <td>0</td>\n",
       "      <td>...</td>\n",
       "      <td>0</td>\n",
       "      <td>0</td>\n",
       "      <td>1</td>\n",
       "      <td>0</td>\n",
       "      <td>0</td>\n",
       "      <td>0</td>\n",
       "      <td>0</td>\n",
       "      <td>1</td>\n",
       "      <td>0</td>\n",
       "      <td>0</td>\n",
       "    </tr>\n",
       "    <tr>\n",
       "      <th>4</th>\n",
       "      <td>3.988984</td>\n",
       "      <td>182543</td>\n",
       "      <td>10</td>\n",
       "      <td>0</td>\n",
       "      <td>0</td>\n",
       "      <td>40</td>\n",
       "      <td>0</td>\n",
       "      <td>1</td>\n",
       "      <td>0</td>\n",
       "      <td>0</td>\n",
       "      <td>...</td>\n",
       "      <td>0</td>\n",
       "      <td>0</td>\n",
       "      <td>0</td>\n",
       "      <td>0</td>\n",
       "      <td>0</td>\n",
       "      <td>0</td>\n",
       "      <td>0</td>\n",
       "      <td>0</td>\n",
       "      <td>0</td>\n",
       "      <td>0</td>\n",
       "    </tr>\n",
       "  </tbody>\n",
       "</table>\n",
       "<p>5 rows × 46 columns</p>\n",
       "</div>"
      ],
      "text/plain": [
       "        age  fnlwgt  education_num  capital_gain  capital_loss  \\\n",
       "0  3.850148  304133             10             0             0   \n",
       "1  3.526361  154227             10             0             0   \n",
       "2  3.433987  158291             13          8614             0   \n",
       "3  3.332205  183155             13             0             0   \n",
       "4  3.988984  182543             10             0             0   \n",
       "\n",
       "   hours_per_week  education1  education2  education3  country_group1  ...  \\\n",
       "0              45           0           1           0               0  ...   \n",
       "1              75           0           1           0               0  ...   \n",
       "2              40           0           1           0               0  ...   \n",
       "3              55           0           1           0               0  ...   \n",
       "4              40           0           1           0               0  ...   \n",
       "\n",
       "   Other-service  Priv-house-serv  Prof-specialty  Protective-serv  Sales  \\\n",
       "0              0                0               0                0      0   \n",
       "1              0                0               0                0      1   \n",
       "2              0                0               0                0      0   \n",
       "3              0                0               1                0      0   \n",
       "4              0                0               0                0      0   \n",
       "\n",
       "   Tech-support  Transport-moving  Male  no-working  baeksu  \n",
       "0             0                 0     1           0       0  \n",
       "1             0                 0     1           0       0  \n",
       "2             0                 0     1           0       0  \n",
       "3             0                 0     1           0       0  \n",
       "4             0                 0     0           0       0  \n",
       "\n",
       "[5 rows x 46 columns]"
      ]
     },
     "execution_count": 78,
     "metadata": {},
     "output_type": "execute_result"
    }
   ],
   "source": [
    "test_modified.head()"
   ]
  },
  {
   "cell_type": "code",
   "execution_count": 79,
   "id": "ca3fc73c",
   "metadata": {},
   "outputs": [],
   "source": [
    "train_modified.to_csv(\"./data/train_modified_dummy.csv\",index=False)\n",
    "test_modified.to_csv(\"./data/test_modified_dummy.csv\",index=False)"
   ]
  },
  {
   "cell_type": "markdown",
   "id": "1006bc58",
   "metadata": {},
   "source": [
    "# 결론\n",
    "\n",
    "\n",
    "1. workclass &  occupation이 둘다 na인 경우, 상황에따라 제거하거나 workclass : no-working, occupation : baeksu 라는 level을 만들어 삽입해주었다.\n",
    "2. education과 education.num은 education.num만 남겼다. 그리고 grouping 해줘서 가변수를 생성.\n",
    "3. 나이 데이터는특정 나이대에 따라 소득 여부가 확실히 보이기 때문에 가변수를 추가해줬다.\n",
    "4. 국적데이터는 na는 모두 제거하고, grouping 해줬다.\n",
    "5. 다중공선성 고려하여, relationship 컬럼 제거."
   ]
  },
  {
   "cell_type": "markdown",
   "id": "e3ef15f9",
   "metadata": {},
   "source": [
    "문제점. workclass : no-working, occupation : baeksu는 trainset에만 존재하는 level이 되서, 오히려 학습에 방해되지않을까."
   ]
  }
 ],
 "metadata": {
  "kernelspec": {
   "display_name": "Python 3 (ipykernel)",
   "language": "python",
   "name": "python3"
  },
  "language_info": {
   "codemirror_mode": {
    "name": "ipython",
    "version": 3
   },
   "file_extension": ".py",
   "mimetype": "text/x-python",
   "name": "python",
   "nbconvert_exporter": "python",
   "pygments_lexer": "ipython3",
   "version": "3.8.12"
  },
  "toc": {
   "base_numbering": 1,
   "nav_menu": {},
   "number_sections": true,
   "sideBar": true,
   "skip_h1_title": false,
   "title_cell": "Table of Contents",
   "title_sidebar": "Contents",
   "toc_cell": false,
   "toc_position": {
    "height": "589.778px",
    "left": "787px",
    "top": "138.139px",
    "width": "341.306px"
   },
   "toc_section_display": true,
   "toc_window_display": true
  }
 },
 "nbformat": 4,
 "nbformat_minor": 5
}
